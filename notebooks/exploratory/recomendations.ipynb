{
 "cells": [
  {
   "cell_type": "code",
   "execution_count": 2,
   "id": "7c54f057-8443-46ab-9983-06db9b98838b",
   "metadata": {
    "execution": {
     "iopub.execute_input": "2021-08-23T01:59:41.783433Z",
     "iopub.status.busy": "2021-08-23T01:59:41.782847Z",
     "iopub.status.idle": "2021-08-23T01:59:41.818411Z",
     "shell.execute_reply": "2021-08-23T01:59:41.817635Z",
     "shell.execute_reply.started": "2021-08-23T01:59:41.783391Z"
    },
    "tags": []
   },
   "outputs": [],
   "source": [
    "%load_ext autoreload\n",
    "%load_ext autotime\n",
    "%autoreload 2"
   ]
  },
  {
   "cell_type": "code",
   "execution_count": null,
   "id": "7e63db3a-b611-4b17-b197-d754c7a2bc3b",
   "metadata": {},
   "outputs": [],
   "source": []
  },
  {
   "cell_type": "markdown",
   "id": "85443144-953a-4862-9fb6-e7886a8ac3bd",
   "metadata": {},
   "source": [
    "# Online Outcomes: Predicting Success in Virtual Learning\n",
    "\n",
    "**<font size=\"4\">Author: Jeffrey Hanif Watson</font>**"
   ]
  },
  {
   "cell_type": "markdown",
   "id": "d1009096-9eb9-490b-b821-886c93e26761",
   "metadata": {},
   "source": [
    "## Imports and Project Path"
   ]
  },
  {
   "cell_type": "code",
   "execution_count": 3,
   "id": "b8f88f07-3d0c-4042-9c04-beec0a2ff05b",
   "metadata": {
    "execution": {
     "iopub.execute_input": "2021-08-23T01:59:41.821299Z",
     "iopub.status.busy": "2021-08-23T01:59:41.820839Z",
     "iopub.status.idle": "2021-08-23T01:59:45.061674Z",
     "shell.execute_reply": "2021-08-23T01:59:45.060649Z",
     "shell.execute_reply.started": "2021-08-23T01:59:41.821210Z"
    },
    "tags": []
   },
   "outputs": [
    {
     "name": "stdout",
     "output_type": "stream",
     "text": [
      "time: 3.22 s\n"
     ]
    }
   ],
   "source": [
    "# setting project path\n",
    "import os, sys\n",
    "\n",
    "gparent = os.path.join(os.pardir, os.pardir)\n",
    "sys.path.append(gparent)\n",
    "\n",
    "# importing packages\n",
    "import pandas as pd\n",
    "import numpy as np\n",
    "import scipy.stats as stats\n",
    "import statsmodels.api as sm\n",
    "\n",
    "from src import class_Database as d\n",
    "from src import helper_functions as f\n",
    "from src import visualizations as v\n",
    "\n",
    "import matplotlib.pyplot as plt\n",
    "import seaborn as sns\n",
    "%matplotlib inline\n",
    "\n",
    "sns.set_theme('talk')\n",
    "plt.style.use('fivethirtyeight')\n",
    "sns.set_palette('GnBu_r')\n",
    "pd.options.display.max_rows = 300"
   ]
  },
  {
   "cell_type": "markdown",
   "id": "f345f396-2760-4ce4-9809-52764a22cb60",
   "metadata": {
    "tags": []
   },
   "source": [
    "## Creating The Database"
   ]
  },
  {
   "cell_type": "code",
   "execution_count": 4,
   "id": "f9d97534-4980-4d0d-b9b7-83e1d9bfc3dd",
   "metadata": {
    "execution": {
     "iopub.execute_input": "2021-08-23T01:59:45.062879Z",
     "iopub.status.busy": "2021-08-23T01:59:45.062660Z",
     "iopub.status.idle": "2021-08-23T01:59:45.104107Z",
     "shell.execute_reply": "2021-08-23T01:59:45.103560Z",
     "shell.execute_reply.started": "2021-08-23T01:59:45.062855Z"
    },
    "tags": []
   },
   "outputs": [
    {
     "name": "stdout",
     "output_type": "stream",
     "text": [
      "time: 1.71 ms\n"
     ]
    }
   ],
   "source": [
    "# creating database & database class instance\n",
    "database_name = 'outcomes.db'\n",
    "db = d.Database(database_name)"
   ]
  },
  {
   "cell_type": "markdown",
   "id": "4f9380c5-479b-4ba1-8c8c-722b84780db2",
   "metadata": {},
   "source": [
    "**Run the cell below once to populate the database. After the database is populated, the cell can be commented out**"
   ]
  },
  {
   "cell_type": "code",
   "execution_count": 5,
   "id": "f78357ef-67c6-4a9b-85f9-9bed1bb03377",
   "metadata": {
    "execution": {
     "iopub.execute_input": "2021-08-23T01:59:45.106528Z",
     "iopub.status.busy": "2021-08-23T01:59:45.106241Z",
     "iopub.status.idle": "2021-08-23T01:59:45.146246Z",
     "shell.execute_reply": "2021-08-23T01:59:45.145555Z",
     "shell.execute_reply.started": "2021-08-23T01:59:45.106495Z"
    },
    "tags": []
   },
   "outputs": [
    {
     "name": "stdout",
     "output_type": "stream",
     "text": [
      "time: 468 µs\n"
     ]
    }
   ],
   "source": [
    "# file_name = 'anonymisedData.zip'\n",
    "# db.populate(file_name, database_name)"
   ]
  },
  {
   "cell_type": "markdown",
   "id": "1ca1f493-5d02-40bd-8dc1-bddb45363ba3",
   "metadata": {},
   "source": [
    "## Exploring the Demographic Data"
   ]
  },
  {
   "cell_type": "code",
   "execution_count": 6,
   "id": "f66e1df2-4814-49ef-b497-8dbc90dc5eed",
   "metadata": {
    "execution": {
     "iopub.execute_input": "2021-08-23T01:59:45.147658Z",
     "iopub.status.busy": "2021-08-23T01:59:45.147297Z",
     "iopub.status.idle": "2021-08-23T01:59:45.416908Z",
     "shell.execute_reply": "2021-08-23T01:59:45.416187Z",
     "shell.execute_reply.started": "2021-08-23T01:59:45.147635Z"
    },
    "tags": []
   },
   "outputs": [
    {
     "name": "stdout",
     "output_type": "stream",
     "text": [
      "time: 224 ms\n"
     ]
    }
   ],
   "source": [
    "# creating the database\n",
    "student_info = db.student_info_full()"
   ]
  },
  {
   "cell_type": "code",
   "execution_count": 7,
   "id": "77ad2786-032f-4115-b983-3822f35620d8",
   "metadata": {
    "execution": {
     "iopub.execute_input": "2021-08-23T01:59:45.418298Z",
     "iopub.status.busy": "2021-08-23T01:59:45.418167Z",
     "iopub.status.idle": "2021-08-23T01:59:45.489077Z",
     "shell.execute_reply": "2021-08-23T01:59:45.488405Z",
     "shell.execute_reply.started": "2021-08-23T01:59:45.418282Z"
    },
    "tags": []
   },
   "outputs": [
    {
     "name": "stdout",
     "output_type": "stream",
     "text": [
      "<class 'pandas.core.frame.DataFrame'>\n",
      "RangeIndex: 32593 entries, 0 to 32592\n",
      "Data columns (total 14 columns):\n",
      " #   Column                Non-Null Count  Dtype \n",
      "---  ------                --------------  ----- \n",
      " 0   target                32593 non-null  int64 \n",
      " 1   row_id                32593 non-null  object\n",
      " 2   code_module           32593 non-null  object\n",
      " 3   code_presentation     32593 non-null  object\n",
      " 4   id_student            32593 non-null  object\n",
      " 5   gender                32593 non-null  object\n",
      " 6   region                32593 non-null  object\n",
      " 7   highest_education     32593 non-null  object\n",
      " 8   imd_band              31482 non-null  object\n",
      " 9   age_band              32593 non-null  object\n",
      " 10  num_of_prev_attempts  32593 non-null  int64 \n",
      " 11  studied_credits       32593 non-null  int64 \n",
      " 12  disability            32593 non-null  object\n",
      " 13  final_result          32593 non-null  object\n",
      "dtypes: int64(3), object(11)\n",
      "memory usage: 3.5+ MB\n",
      "time: 26 ms\n"
     ]
    }
   ],
   "source": [
    "# checking the info\n",
    "student_info.info()"
   ]
  },
  {
   "cell_type": "code",
   "execution_count": 8,
   "id": "31648921-5752-4dc3-a7c9-04a3bc8d1ba4",
   "metadata": {
    "execution": {
     "iopub.execute_input": "2021-08-23T01:59:45.490389Z",
     "iopub.status.busy": "2021-08-23T01:59:45.490186Z",
     "iopub.status.idle": "2021-08-23T01:59:45.600402Z",
     "shell.execute_reply": "2021-08-23T01:59:45.599765Z",
     "shell.execute_reply.started": "2021-08-23T01:59:45.490347Z"
    },
    "tags": []
   },
   "outputs": [
    {
     "name": "stdout",
     "output_type": "stream",
     "text": [
      "time: 69.3 ms\n"
     ]
    }
   ],
   "source": [
    "# cleaning the data\n",
    "student_info = db.cleaner_studentinfo(student_info,[])"
   ]
  },
  {
   "cell_type": "code",
   "execution_count": 9,
   "id": "7f31f01b-1e0d-457d-9e16-b374705082b5",
   "metadata": {
    "execution": {
     "iopub.execute_input": "2021-08-23T01:59:45.601965Z",
     "iopub.status.busy": "2021-08-23T01:59:45.601726Z",
     "iopub.status.idle": "2021-08-23T01:59:45.669864Z",
     "shell.execute_reply": "2021-08-23T01:59:45.669274Z",
     "shell.execute_reply.started": "2021-08-23T01:59:45.601946Z"
    },
    "tags": []
   },
   "outputs": [
    {
     "name": "stdout",
     "output_type": "stream",
     "text": [
      "<class 'pandas.core.frame.DataFrame'>\n",
      "Int64Index: 31144 entries, 1 to 32592\n",
      "Data columns (total 15 columns):\n",
      " #   Column                Non-Null Count  Dtype   \n",
      "---  ------                --------------  -----   \n",
      " 0   target                31144 non-null  int64   \n",
      " 1   row_id                31144 non-null  object  \n",
      " 2   code_module           31144 non-null  object  \n",
      " 3   code_presentation     31144 non-null  object  \n",
      " 4   id_student            31144 non-null  object  \n",
      " 5   gender                31144 non-null  object  \n",
      " 6   region                31144 non-null  object  \n",
      " 7   highest_education     31144 non-null  object  \n",
      " 8   imd_band              31144 non-null  object  \n",
      " 9   age_band              31144 non-null  object  \n",
      " 10  num_of_prev_attempts  31144 non-null  int64   \n",
      " 11  studied_credits       31144 non-null  int64   \n",
      " 12  disability            31144 non-null  object  \n",
      " 13  final_result          31144 non-null  object  \n",
      " 14  course_load           31144 non-null  category\n",
      "dtypes: category(1), int64(3), object(11)\n",
      "memory usage: 3.6+ MB\n",
      "time: 25.2 ms\n"
     ]
    }
   ],
   "source": [
    "# rechecking the info\n",
    "student_info.info()"
   ]
  },
  {
   "cell_type": "markdown",
   "id": "07919dd1-c85c-401f-831d-c9b5de43cba1",
   "metadata": {},
   "source": [
    "## Checking the Rate of Each Binary Outcome"
   ]
  },
  {
   "cell_type": "code",
   "execution_count": 75,
   "id": "f6bccb1a-de42-4dc2-af20-d69dd86e80f2",
   "metadata": {
    "execution": {
     "iopub.execute_input": "2021-08-23T02:52:00.380921Z",
     "iopub.status.busy": "2021-08-23T02:52:00.380527Z",
     "iopub.status.idle": "2021-08-23T02:52:00.666590Z",
     "shell.execute_reply": "2021-08-23T02:52:00.666039Z",
     "shell.execute_reply.started": "2021-08-23T02:52:00.380880Z"
    },
    "tags": []
   },
   "outputs": [
    {
     "data": {
      "image/png": "[encoded data removed]",
      "text/plain": [
       "<Figure size 1152x576 with 1 Axes>"
      ]
     },
     "metadata": {},
     "output_type": "display_data"
    },
    {
     "data": {
      "text/html": [
       "<div>\n",
       "<style scoped>\n",
       "    .dataframe tbody tr th:only-of-type {\n",
       "        vertical-align: middle;\n",
       "    }\n",
       "\n",
       "    .dataframe tbody tr th {\n",
       "        vertical-align: top;\n",
       "    }\n",
       "\n",
       "    .dataframe thead th {\n",
       "        text-align: right;\n",
       "    }\n",
       "</style>\n",
       "<table border=\"1\" class=\"dataframe\">\n",
       "  <thead>\n",
       "    <tr style=\"text-align: right;\">\n",
       "      <th></th>\n",
       "      <th>Outcome</th>\n",
       "      <th>Percentage</th>\n",
       "    </tr>\n",
       "  </thead>\n",
       "  <tbody>\n",
       "    <tr>\n",
       "      <th>0</th>\n",
       "      <td>Unsatisfactory</td>\n",
       "      <td>0.531724</td>\n",
       "    </tr>\n",
       "    <tr>\n",
       "      <th>1</th>\n",
       "      <td>Satisfactory</td>\n",
       "      <td>0.468276</td>\n",
       "    </tr>\n",
       "  </tbody>\n",
       "</table>\n",
       "</div>"
      ],
      "text/plain": [
       "          Outcome  Percentage\n",
       "0  Unsatisfactory    0.531724\n",
       "1    Satisfactory    0.468276"
      ]
     },
     "execution_count": 75,
     "metadata": {},
     "output_type": "execute_result"
    },
    {
     "name": "stdout",
     "output_type": "stream",
     "text": [
      "time: 170 ms\n"
     ]
    }
   ],
   "source": [
    "v.outcomes_target(student_info)"
   ]
  },
  {
   "cell_type": "markdown",
   "id": "040c06e8-3d21-4b46-b6df-9bd3f8b6c68f",
   "metadata": {},
   "source": [
    "## Checking the Rate of Each Multiclass Outcome"
   ]
  },
  {
   "cell_type": "code",
   "execution_count": 11,
   "id": "82c1050e-fad7-48b4-b52c-560fe4e86f16",
   "metadata": {
    "execution": {
     "iopub.execute_input": "2021-08-23T01:59:45.885101Z",
     "iopub.status.busy": "2021-08-23T01:59:45.884878Z",
     "iopub.status.idle": "2021-08-23T01:59:46.070886Z",
     "shell.execute_reply": "2021-08-23T01:59:46.070031Z",
     "shell.execute_reply.started": "2021-08-23T01:59:45.885083Z"
    },
    "tags": []
   },
   "outputs": [
    {
     "data": {
      "image/png": "[encoded data removed]",
      "text/plain": [
       "<Figure size 1152x576 with 1 Axes>"
      ]
     },
     "metadata": {},
     "output_type": "display_data"
    },
    {
     "data": {
      "text/html": [
       "<div>\n",
       "<style scoped>\n",
       "    .dataframe tbody tr th:only-of-type {\n",
       "        vertical-align: middle;\n",
       "    }\n",
       "\n",
       "    .dataframe tbody tr th {\n",
       "        vertical-align: top;\n",
       "    }\n",
       "\n",
       "    .dataframe thead th {\n",
       "        text-align: right;\n",
       "    }\n",
       "</style>\n",
       "<table border=\"1\" class=\"dataframe\">\n",
       "  <thead>\n",
       "    <tr style=\"text-align: right;\">\n",
       "      <th></th>\n",
       "      <th>Outcome</th>\n",
       "      <th>Percentage</th>\n",
       "    </tr>\n",
       "  </thead>\n",
       "  <tbody>\n",
       "    <tr>\n",
       "      <th>0</th>\n",
       "      <td>Pass</td>\n",
       "      <td>0.377922</td>\n",
       "    </tr>\n",
       "    <tr>\n",
       "      <th>1</th>\n",
       "      <td>Withdrawn</td>\n",
       "      <td>0.311521</td>\n",
       "    </tr>\n",
       "    <tr>\n",
       "      <th>2</th>\n",
       "      <td>Fail</td>\n",
       "      <td>0.220203</td>\n",
       "    </tr>\n",
       "    <tr>\n",
       "      <th>3</th>\n",
       "      <td>Distinction</td>\n",
       "      <td>0.090354</td>\n",
       "    </tr>\n",
       "  </tbody>\n",
       "</table>\n",
       "</div>"
      ],
      "text/plain": [
       "       Outcome  Percentage\n",
       "0         Pass    0.377922\n",
       "1    Withdrawn    0.311521\n",
       "2         Fail    0.220203\n",
       "3  Distinction    0.090354"
      ]
     },
     "execution_count": 11,
     "metadata": {},
     "output_type": "execute_result"
    },
    {
     "name": "stdout",
     "output_type": "stream",
     "text": [
      "time: 148 ms\n"
     ]
    }
   ],
   "source": [
    "v.outcomes_type(student_info)"
   ]
  },
  {
   "cell_type": "markdown",
   "id": "ecda0cf5-6d7f-4f43-a090-d0de6b3fd783",
   "metadata": {
    "jp-MarkdownHeadingCollapsed": true,
    "tags": []
   },
   "source": [
    "## IMD Band Analysis"
   ]
  },
  {
   "cell_type": "markdown",
   "id": "a13cf4bd-d714-4ec3-9f1b-db99a0658ac4",
   "metadata": {
    "tags": []
   },
   "source": [
    "## Percentage of Each Outcome by IMD Band"
   ]
  },
  {
   "cell_type": "code",
   "execution_count": 12,
   "id": "0a2bfdc1-99a5-48a0-905b-8508581ae6cc",
   "metadata": {
    "execution": {
     "iopub.execute_input": "2021-08-23T01:59:46.072103Z",
     "iopub.status.busy": "2021-08-23T01:59:46.071940Z",
     "iopub.status.idle": "2021-08-23T01:59:46.399179Z",
     "shell.execute_reply": "2021-08-23T01:59:46.398211Z",
     "shell.execute_reply.started": "2021-08-23T01:59:46.072086Z"
    },
    "tags": []
   },
   "outputs": [
    {
     "data": {
      "image/png": "[encoded data removed]",
      "text/plain": [
       "<Figure size 1152x576 with 1 Axes>"
      ]
     },
     "metadata": {},
     "output_type": "display_data"
    },
    {
     "name": "stdout",
     "output_type": "stream",
     "text": [
      "time: 287 ms\n"
     ]
    }
   ],
   "source": [
    "v.outcomes_imd(student_info)"
   ]
  },
  {
   "cell_type": "markdown",
   "id": "e7f201e4-660a-4559-903f-703641db7408",
   "metadata": {
    "tags": []
   },
   "source": [
    "## Investigating IMD Band Contingency Tabels"
   ]
  },
  {
   "cell_type": "code",
   "execution_count": 77,
   "id": "0dca2726-e37d-41d2-b939-e3e3bbc93f0f",
   "metadata": {
    "execution": {
     "iopub.execute_input": "2021-08-23T03:03:32.648240Z",
     "iopub.status.busy": "2021-08-23T03:03:32.647852Z",
     "iopub.status.idle": "2021-08-23T03:03:32.730316Z",
     "shell.execute_reply": "2021-08-23T03:03:32.729866Z",
     "shell.execute_reply.started": "2021-08-23T03:03:32.648197Z"
    },
    "tags": []
   },
   "outputs": [
    {
     "name": "stdout",
     "output_type": "stream",
     "text": [
      "time: 21.9 ms\n"
     ]
    }
   ],
   "source": [
    "# creating a contingency table\n",
    "tabs = pd.crosstab(student_info.imd_band, student_info.final_result)"
   ]
  },
  {
   "cell_type": "code",
   "execution_count": 78,
   "id": "799fcbaa-9e6f-4d0c-a311-c7a58144cb4d",
   "metadata": {
    "execution": {
     "iopub.execute_input": "2021-08-23T03:03:32.868501Z",
     "iopub.status.busy": "2021-08-23T03:03:32.868208Z",
     "iopub.status.idle": "2021-08-23T03:03:32.908199Z",
     "shell.execute_reply": "2021-08-23T03:03:32.907462Z",
     "shell.execute_reply.started": "2021-08-23T03:03:32.868479Z"
    },
    "tags": []
   },
   "outputs": [
    {
     "name": "stdout",
     "output_type": "stream",
     "text": [
      "time: 745 µs\n"
     ]
    }
   ],
   "source": [
    "# creating a statsmodels table object\n",
    "table = sm.stats.Table(tabs)"
   ]
  },
  {
   "cell_type": "code",
   "execution_count": 79,
   "id": "05592a2a-ff36-497c-95f7-fc7da1fac831",
   "metadata": {
    "execution": {
     "iopub.execute_input": "2021-08-23T03:03:33.081939Z",
     "iopub.status.busy": "2021-08-23T03:03:33.081671Z",
     "iopub.status.idle": "2021-08-23T03:03:33.127111Z",
     "shell.execute_reply": "2021-08-23T03:03:33.125950Z",
     "shell.execute_reply.started": "2021-08-23T03:03:33.081915Z"
    },
    "tags": []
   },
   "outputs": [
    {
     "data": {
      "text/html": [
       "<div>\n",
       "<style scoped>\n",
       "    .dataframe tbody tr th:only-of-type {\n",
       "        vertical-align: middle;\n",
       "    }\n",
       "\n",
       "    .dataframe tbody tr th {\n",
       "        vertical-align: top;\n",
       "    }\n",
       "\n",
       "    .dataframe thead th {\n",
       "        text-align: right;\n",
       "    }\n",
       "</style>\n",
       "<table border=\"1\" class=\"dataframe\">\n",
       "  <thead>\n",
       "    <tr style=\"text-align: right;\">\n",
       "      <th>final_result</th>\n",
       "      <th>Distinction</th>\n",
       "      <th>Fail</th>\n",
       "      <th>Pass</th>\n",
       "      <th>Withdrawn</th>\n",
       "    </tr>\n",
       "    <tr>\n",
       "      <th>imd_band</th>\n",
       "      <th></th>\n",
       "      <th></th>\n",
       "      <th></th>\n",
       "      <th></th>\n",
       "    </tr>\n",
       "  </thead>\n",
       "  <tbody>\n",
       "    <tr>\n",
       "      <th>0-10%</th>\n",
       "      <td>168</td>\n",
       "      <td>911</td>\n",
       "      <td>989</td>\n",
       "      <td>1199</td>\n",
       "    </tr>\n",
       "    <tr>\n",
       "      <th>10-20%</th>\n",
       "      <td>189</td>\n",
       "      <td>904</td>\n",
       "      <td>1163</td>\n",
       "      <td>1219</td>\n",
       "    </tr>\n",
       "    <tr>\n",
       "      <th>20-30%</th>\n",
       "      <td>263</td>\n",
       "      <td>838</td>\n",
       "      <td>1222</td>\n",
       "      <td>1279</td>\n",
       "    </tr>\n",
       "    <tr>\n",
       "      <th>30-40%</th>\n",
       "      <td>313</td>\n",
       "      <td>780</td>\n",
       "      <td>1337</td>\n",
       "      <td>1067</td>\n",
       "    </tr>\n",
       "    <tr>\n",
       "      <th>40-50%</th>\n",
       "      <td>293</td>\n",
       "      <td>689</td>\n",
       "      <td>1211</td>\n",
       "      <td>1018</td>\n",
       "    </tr>\n",
       "    <tr>\n",
       "      <th>50-60%</th>\n",
       "      <td>296</td>\n",
       "      <td>699</td>\n",
       "      <td>1217</td>\n",
       "      <td>887</td>\n",
       "    </tr>\n",
       "    <tr>\n",
       "      <th>60-70%</th>\n",
       "      <td>299</td>\n",
       "      <td>535</td>\n",
       "      <td>1204</td>\n",
       "      <td>842</td>\n",
       "    </tr>\n",
       "    <tr>\n",
       "      <th>70-80%</th>\n",
       "      <td>312</td>\n",
       "      <td>597</td>\n",
       "      <td>1169</td>\n",
       "      <td>788</td>\n",
       "    </tr>\n",
       "    <tr>\n",
       "      <th>80-90%</th>\n",
       "      <td>326</td>\n",
       "      <td>489</td>\n",
       "      <td>1162</td>\n",
       "      <td>760</td>\n",
       "    </tr>\n",
       "    <tr>\n",
       "      <th>90-100%</th>\n",
       "      <td>355</td>\n",
       "      <td>416</td>\n",
       "      <td>1096</td>\n",
       "      <td>643</td>\n",
       "    </tr>\n",
       "  </tbody>\n",
       "</table>\n",
       "</div>"
      ],
      "text/plain": [
       "final_result  Distinction  Fail  Pass  Withdrawn\n",
       "imd_band                                        \n",
       "0-10%                 168   911   989       1199\n",
       "10-20%                189   904  1163       1219\n",
       "20-30%                263   838  1222       1279\n",
       "30-40%                313   780  1337       1067\n",
       "40-50%                293   689  1211       1018\n",
       "50-60%                296   699  1217        887\n",
       "60-70%                299   535  1204        842\n",
       "70-80%                312   597  1169        788\n",
       "80-90%                326   489  1162        760\n",
       "90-100%               355   416  1096        643"
      ]
     },
     "execution_count": 79,
     "metadata": {},
     "output_type": "execute_result"
    },
    {
     "name": "stdout",
     "output_type": "stream",
     "text": [
      "time: 5.99 ms\n"
     ]
    }
   ],
   "source": [
    "# the original contingency table\n",
    "table.table_orig"
   ]
  },
  {
   "cell_type": "code",
   "execution_count": 80,
   "id": "b945fd48-4501-4556-88e7-0ce93c7dff44",
   "metadata": {
    "execution": {
     "iopub.execute_input": "2021-08-23T03:03:33.312870Z",
     "iopub.status.busy": "2021-08-23T03:03:33.312566Z",
     "iopub.status.idle": "2021-08-23T03:03:33.358357Z",
     "shell.execute_reply": "2021-08-23T03:03:33.357774Z",
     "shell.execute_reply.started": "2021-08-23T03:03:33.312847Z"
    },
    "tags": []
   },
   "outputs": [
    {
     "data": {
      "text/html": [
       "<div>\n",
       "<style scoped>\n",
       "    .dataframe tbody tr th:only-of-type {\n",
       "        vertical-align: middle;\n",
       "    }\n",
       "\n",
       "    .dataframe tbody tr th {\n",
       "        vertical-align: top;\n",
       "    }\n",
       "\n",
       "    .dataframe thead th {\n",
       "        text-align: right;\n",
       "    }\n",
       "</style>\n",
       "<table border=\"1\" class=\"dataframe\">\n",
       "  <thead>\n",
       "    <tr style=\"text-align: right;\">\n",
       "      <th>final_result</th>\n",
       "      <th>Distinction</th>\n",
       "      <th>Fail</th>\n",
       "      <th>Pass</th>\n",
       "      <th>Withdrawn</th>\n",
       "    </tr>\n",
       "    <tr>\n",
       "      <th>imd_band</th>\n",
       "      <th></th>\n",
       "      <th></th>\n",
       "      <th></th>\n",
       "      <th></th>\n",
       "    </tr>\n",
       "  </thead>\n",
       "  <tbody>\n",
       "    <tr>\n",
       "      <th>0-10%</th>\n",
       "      <td>295.188094</td>\n",
       "      <td>719.402967</td>\n",
       "      <td>1234.670884</td>\n",
       "      <td>1017.738055</td>\n",
       "    </tr>\n",
       "    <tr>\n",
       "      <th>10-20%</th>\n",
       "      <td>313.981826</td>\n",
       "      <td>765.205176</td>\n",
       "      <td>1313.278641</td>\n",
       "      <td>1082.534357</td>\n",
       "    </tr>\n",
       "    <tr>\n",
       "      <th>20-30%</th>\n",
       "      <td>325.456846</td>\n",
       "      <td>793.170948</td>\n",
       "      <td>1361.274724</td>\n",
       "      <td>1122.097483</td>\n",
       "    </tr>\n",
       "    <tr>\n",
       "      <th>30-40%</th>\n",
       "      <td>315.969625</td>\n",
       "      <td>770.049640</td>\n",
       "      <td>1321.592923</td>\n",
       "      <td>1089.387811</td>\n",
       "    </tr>\n",
       "    <tr>\n",
       "      <th>40-50%</th>\n",
       "      <td>290.128243</td>\n",
       "      <td>707.071603</td>\n",
       "      <td>1213.507257</td>\n",
       "      <td>1000.292898</td>\n",
       "    </tr>\n",
       "    <tr>\n",
       "      <th>50-60%</th>\n",
       "      <td>280.008541</td>\n",
       "      <td>682.408875</td>\n",
       "      <td>1171.180003</td>\n",
       "      <td>965.402582</td>\n",
       "    </tr>\n",
       "    <tr>\n",
       "      <th>60-70%</th>\n",
       "      <td>260.220909</td>\n",
       "      <td>634.184434</td>\n",
       "      <td>1088.415104</td>\n",
       "      <td>897.179553</td>\n",
       "    </tr>\n",
       "    <tr>\n",
       "      <th>70-80%</th>\n",
       "      <td>258.955947</td>\n",
       "      <td>631.101593</td>\n",
       "      <td>1083.124197</td>\n",
       "      <td>892.818264</td>\n",
       "    </tr>\n",
       "    <tr>\n",
       "      <th>80-90%</th>\n",
       "      <td>247.300218</td>\n",
       "      <td>602.695415</td>\n",
       "      <td>1034.372271</td>\n",
       "      <td>852.632096</td>\n",
       "    </tr>\n",
       "    <tr>\n",
       "      <th>90-100%</th>\n",
       "      <td>226.789751</td>\n",
       "      <td>552.709350</td>\n",
       "      <td>948.583997</td>\n",
       "      <td>781.916902</td>\n",
       "    </tr>\n",
       "  </tbody>\n",
       "</table>\n",
       "</div>"
      ],
      "text/plain": [
       "final_result  Distinction        Fail         Pass    Withdrawn\n",
       "imd_band                                                       \n",
       "0-10%          295.188094  719.402967  1234.670884  1017.738055\n",
       "10-20%         313.981826  765.205176  1313.278641  1082.534357\n",
       "20-30%         325.456846  793.170948  1361.274724  1122.097483\n",
       "30-40%         315.969625  770.049640  1321.592923  1089.387811\n",
       "40-50%         290.128243  707.071603  1213.507257  1000.292898\n",
       "50-60%         280.008541  682.408875  1171.180003   965.402582\n",
       "60-70%         260.220909  634.184434  1088.415104   897.179553\n",
       "70-80%         258.955947  631.101593  1083.124197   892.818264\n",
       "80-90%         247.300218  602.695415  1034.372271   852.632096\n",
       "90-100%        226.789751  552.709350   948.583997   781.916902"
      ]
     },
     "execution_count": 80,
     "metadata": {},
     "output_type": "execute_result"
    },
    {
     "name": "stdout",
     "output_type": "stream",
     "text": [
      "time: 7.84 ms\n"
     ]
    }
   ],
   "source": [
    "# expected values if final_result was independent\n",
    "table.fittedvalues"
   ]
  },
  {
   "cell_type": "markdown",
   "id": "4bcac643-5ffc-4127-9f8a-d3985af9436c",
   "metadata": {
    "tags": []
   },
   "source": [
    "From the contingency tables it appears that, in general, Distinction and Pass vary directly with IMD band. The higher the student's IMD band, the more likely the student is to pass or pass with distinction. Conversely, Withdrawn and Fail vary inversely with IMD band. In general, the lower the student's IMD band the more likely the student is to fail or withdraw."
   ]
  },
  {
   "cell_type": "markdown",
   "id": "5cfd5940-dffa-431a-985c-da902cf1104e",
   "metadata": {
    "tags": []
   },
   "source": [
    "From the contingency tables it appears that, in general, Distinction and Pass vary directly with IMD band. The higher the student's IMD band, the more likely the student is to pass or pass with distinction. Conversely, Withdrawn and Fail vary inversely with IMD band. In general, the lower the student's IMD band the more likely the student is to fail or withdraw."
   ]
  },
  {
   "cell_type": "markdown",
   "id": "9fedf859-f6b7-41ac-a79d-b7403adc10af",
   "metadata": {
    "tags": []
   },
   "source": [
    "## Chi-Square Test for `imd_band`\n",
    "Ho = `imd_band` and `final_result` are independent.\n",
    "\n",
    "Ha = `imd_band` and `final_result` are not independent.\n",
    "\n",
    "alpha = .05"
   ]
  },
  {
   "cell_type": "code",
   "execution_count": 18,
   "id": "75806939-5eaa-4c99-b71c-18cef021ab52",
   "metadata": {
    "execution": {
     "iopub.execute_input": "2021-08-23T01:59:46.667541Z",
     "iopub.status.busy": "2021-08-23T01:59:46.667095Z",
     "iopub.status.idle": "2021-08-23T01:59:46.714781Z",
     "shell.execute_reply": "2021-08-23T01:59:46.714029Z",
     "shell.execute_reply.started": "2021-08-23T01:59:46.667512Z"
    },
    "tags": []
   },
   "outputs": [
    {
     "name": "stdout",
     "output_type": "stream",
     "text": [
      "chi-squared = 653.0806826983792\n",
      "p value= 2.473461324525511e-120\n",
      "degrees of freedom = 27\n",
      "time: 1.26 ms\n"
     ]
    }
   ],
   "source": [
    "# calculating chi-squared,p-value, degrees of freedom\n",
    "f.chi_sq_test(tabs)"
   ]
  },
  {
   "cell_type": "markdown",
   "id": "15a513e8-d8f7-44e6-8e2a-80e616a714d9",
   "metadata": {},
   "source": [
    "Since the p value is less than our alpha, we reject the null hypothesis and conclude that `imd_band` and `final_result` are not independent."
   ]
  },
  {
   "cell_type": "code",
   "execution_count": 19,
   "id": "01e04994-613f-4632-80c6-5225b83ffd8c",
   "metadata": {
    "execution": {
     "iopub.execute_input": "2021-08-23T01:59:46.716576Z",
     "iopub.status.busy": "2021-08-23T01:59:46.716362Z",
     "iopub.status.idle": "2021-08-23T01:59:46.767846Z",
     "shell.execute_reply": "2021-08-23T01:59:46.766757Z",
     "shell.execute_reply.started": "2021-08-23T01:59:46.716554Z"
    },
    "tags": []
   },
   "outputs": [
    {
     "name": "stdout",
     "output_type": "stream",
     "text": [
      "Cramer's V Degrees of Freedom = 3\n",
      "\n",
      "Effect Size Thresholds\n",
      "   Degrees of Freedom  Small Effect  Medium Effect  Large Effect\n",
      "0                 1.0          0.10           0.30          0.50\n",
      "1                 2.0          0.07           0.21          0.35\n",
      "2                 3.0          0.06           0.17          0.29\n",
      "3                 4.0          0.05           0.15          0.25\n",
      "4                 5.0          0.04           0.13          0.22\n",
      "\n",
      "final_result\n",
      "Distinction    0.278138\n",
      "Fail           0.178166\n",
      "Pass           0.135999\n",
      "Withdrawn      0.149793\n",
      "dtype: float64\n",
      "time: 8.05 ms\n"
     ]
    }
   ],
   "source": [
    "# calculating cramer's v to measure the effect sizes\n",
    "f.cramers_v(tabs)"
   ]
  },
  {
   "cell_type": "markdown",
   "id": "1acb1ce3-a7ed-4239-ba61-35dd3d7e7ea3",
   "metadata": {},
   "source": [
    "Adjusted for degrees of freedom, the Cramer's V results indicate that `imd_band` has a small, but statistically significant, effect on Pass and Withdrawn and a medium effect on Fail and Distinction."
   ]
  },
  {
   "cell_type": "markdown",
   "id": "4e9f8614-78b4-42f8-86ff-a9f4785a8808",
   "metadata": {},
   "source": [
    "## Disability Status Analysis"
   ]
  },
  {
   "cell_type": "code",
   "execution_count": 20,
   "id": "cbcd3bd1-e15a-492b-abf1-9f08775d1f11",
   "metadata": {
    "execution": {
     "iopub.execute_input": "2021-08-23T01:59:46.770026Z",
     "iopub.status.busy": "2021-08-23T01:59:46.769727Z",
     "iopub.status.idle": "2021-08-23T01:59:46.996282Z",
     "shell.execute_reply": "2021-08-23T01:59:46.995568Z",
     "shell.execute_reply.started": "2021-08-23T01:59:46.770001Z"
    },
    "tags": []
   },
   "outputs": [
    {
     "data": {
      "image/png": "[encoded data removed]",
      "text/plain": [
       "<Figure size 1152x576 with 1 Axes>"
      ]
     },
     "metadata": {},
     "output_type": "display_data"
    },
    {
     "data": {
      "text/html": [
       "<div>\n",
       "<style scoped>\n",
       "    .dataframe tbody tr th:only-of-type {\n",
       "        vertical-align: middle;\n",
       "    }\n",
       "\n",
       "    .dataframe tbody tr th {\n",
       "        vertical-align: top;\n",
       "    }\n",
       "\n",
       "    .dataframe thead th {\n",
       "        text-align: right;\n",
       "    }\n",
       "</style>\n",
       "<table border=\"1\" class=\"dataframe\">\n",
       "  <thead>\n",
       "    <tr style=\"text-align: right;\">\n",
       "      <th></th>\n",
       "      <th>Disability</th>\n",
       "      <th>Outcome</th>\n",
       "      <th>Percentage</th>\n",
       "    </tr>\n",
       "  </thead>\n",
       "  <tbody>\n",
       "    <tr>\n",
       "      <th>0</th>\n",
       "      <td>No</td>\n",
       "      <td>Pass</td>\n",
       "      <td>0.384920</td>\n",
       "    </tr>\n",
       "    <tr>\n",
       "      <th>1</th>\n",
       "      <td>No</td>\n",
       "      <td>Withdrawn</td>\n",
       "      <td>0.303035</td>\n",
       "    </tr>\n",
       "    <tr>\n",
       "      <th>2</th>\n",
       "      <td>No</td>\n",
       "      <td>Fail</td>\n",
       "      <td>0.219404</td>\n",
       "    </tr>\n",
       "    <tr>\n",
       "      <th>3</th>\n",
       "      <td>No</td>\n",
       "      <td>Distinction</td>\n",
       "      <td>0.092641</td>\n",
       "    </tr>\n",
       "    <tr>\n",
       "      <th>4</th>\n",
       "      <td>Yes</td>\n",
       "      <td>Withdrawn</td>\n",
       "      <td>0.389179</td>\n",
       "    </tr>\n",
       "    <tr>\n",
       "      <th>5</th>\n",
       "      <td>Yes</td>\n",
       "      <td>Pass</td>\n",
       "      <td>0.313885</td>\n",
       "    </tr>\n",
       "    <tr>\n",
       "      <th>6</th>\n",
       "      <td>Yes</td>\n",
       "      <td>Fail</td>\n",
       "      <td>0.227510</td>\n",
       "    </tr>\n",
       "    <tr>\n",
       "      <th>7</th>\n",
       "      <td>Yes</td>\n",
       "      <td>Distinction</td>\n",
       "      <td>0.069426</td>\n",
       "    </tr>\n",
       "  </tbody>\n",
       "</table>\n",
       "</div>"
      ],
      "text/plain": [
       "  Disability      Outcome  Percentage\n",
       "0         No         Pass    0.384920\n",
       "1         No    Withdrawn    0.303035\n",
       "2         No         Fail    0.219404\n",
       "3         No  Distinction    0.092641\n",
       "4        Yes    Withdrawn    0.389179\n",
       "5        Yes         Pass    0.313885\n",
       "6        Yes         Fail    0.227510\n",
       "7        Yes  Distinction    0.069426"
      ]
     },
     "execution_count": 20,
     "metadata": {},
     "output_type": "execute_result"
    },
    {
     "name": "stdout",
     "output_type": "stream",
     "text": [
      "time: 184 ms\n"
     ]
    }
   ],
   "source": [
    "v.outcomes_dis(student_info)"
   ]
  },
  {
   "cell_type": "markdown",
   "id": "f9f0400a-703d-44b7-bb7d-ec38d777d192",
   "metadata": {},
   "source": [
    "## Investigating `Disability` Contingency Tabels"
   ]
  },
  {
   "cell_type": "code",
   "execution_count": 21,
   "id": "ab4c12e0-67dc-490a-b281-9e5b21c06def",
   "metadata": {
    "execution": {
     "iopub.execute_input": "2021-08-23T01:59:46.997490Z",
     "iopub.status.busy": "2021-08-23T01:59:46.997350Z",
     "iopub.status.idle": "2021-08-23T01:59:47.060689Z",
     "shell.execute_reply": "2021-08-23T01:59:47.060082Z",
     "shell.execute_reply.started": "2021-08-23T01:59:46.997474Z"
    },
    "tags": []
   },
   "outputs": [
    {
     "name": "stdout",
     "output_type": "stream",
     "text": [
      "time: 17.9 ms\n"
     ]
    }
   ],
   "source": [
    "# creating a contingency table\n",
    "tabs = pd.crosstab(student_info.disability, student_info.final_result)"
   ]
  },
  {
   "cell_type": "code",
   "execution_count": 22,
   "id": "8871b0ee-f125-45fa-8ece-e57ee048c5ff",
   "metadata": {
    "execution": {
     "iopub.execute_input": "2021-08-23T01:59:47.061782Z",
     "iopub.status.busy": "2021-08-23T01:59:47.061558Z",
     "iopub.status.idle": "2021-08-23T01:59:47.107039Z",
     "shell.execute_reply": "2021-08-23T01:59:47.105926Z",
     "shell.execute_reply.started": "2021-08-23T01:59:47.061765Z"
    },
    "tags": []
   },
   "outputs": [
    {
     "name": "stdout",
     "output_type": "stream",
     "text": [
      "time: 721 µs\n"
     ]
    }
   ],
   "source": [
    "# creating a statsmodels table object\n",
    "table = sm.stats.Table(tabs)"
   ]
  },
  {
   "cell_type": "code",
   "execution_count": 23,
   "id": "445c41d6-6f4f-45a5-94f9-08877f4a6612",
   "metadata": {
    "execution": {
     "iopub.execute_input": "2021-08-23T01:59:47.108730Z",
     "iopub.status.busy": "2021-08-23T01:59:47.108436Z",
     "iopub.status.idle": "2021-08-23T01:59:47.167587Z",
     "shell.execute_reply": "2021-08-23T01:59:47.166688Z",
     "shell.execute_reply.started": "2021-08-23T01:59:47.108702Z"
    },
    "tags": []
   },
   "outputs": [
    {
     "data": {
      "text/html": [
       "<div>\n",
       "<style scoped>\n",
       "    .dataframe tbody tr th:only-of-type {\n",
       "        vertical-align: middle;\n",
       "    }\n",
       "\n",
       "    .dataframe tbody tr th {\n",
       "        vertical-align: top;\n",
       "    }\n",
       "\n",
       "    .dataframe thead th {\n",
       "        text-align: right;\n",
       "    }\n",
       "</style>\n",
       "<table border=\"1\" class=\"dataframe\">\n",
       "  <thead>\n",
       "    <tr style=\"text-align: right;\">\n",
       "      <th>final_result</th>\n",
       "      <th>Distinction</th>\n",
       "      <th>Fail</th>\n",
       "      <th>Pass</th>\n",
       "      <th>Withdrawn</th>\n",
       "    </tr>\n",
       "    <tr>\n",
       "      <th>disability</th>\n",
       "      <th></th>\n",
       "      <th></th>\n",
       "      <th></th>\n",
       "      <th></th>\n",
       "    </tr>\n",
       "  </thead>\n",
       "  <tbody>\n",
       "    <tr>\n",
       "      <th>No</th>\n",
       "      <td>2601</td>\n",
       "      <td>6160</td>\n",
       "      <td>10807</td>\n",
       "      <td>8508</td>\n",
       "    </tr>\n",
       "    <tr>\n",
       "      <th>Yes</th>\n",
       "      <td>213</td>\n",
       "      <td>698</td>\n",
       "      <td>963</td>\n",
       "      <td>1194</td>\n",
       "    </tr>\n",
       "  </tbody>\n",
       "</table>\n",
       "</div>"
      ],
      "text/plain": [
       "final_result  Distinction  Fail   Pass  Withdrawn\n",
       "disability                                       \n",
       "No                   2601  6160  10807       8508\n",
       "Yes                   213   698    963       1194"
      ]
     },
     "execution_count": 23,
     "metadata": {},
     "output_type": "execute_result"
    },
    {
     "name": "stdout",
     "output_type": "stream",
     "text": [
      "time: 5.04 ms\n"
     ]
    }
   ],
   "source": [
    "# the original contingency table\n",
    "table.table_orig"
   ]
  },
  {
   "cell_type": "code",
   "execution_count": 24,
   "id": "46d37196-4745-4814-a230-5b4b6a19a124",
   "metadata": {
    "execution": {
     "iopub.execute_input": "2021-08-23T01:59:47.169007Z",
     "iopub.status.busy": "2021-08-23T01:59:47.168829Z",
     "iopub.status.idle": "2021-08-23T01:59:47.226688Z",
     "shell.execute_reply": "2021-08-23T01:59:47.226033Z",
     "shell.execute_reply.started": "2021-08-23T01:59:47.168986Z"
    },
    "tags": []
   },
   "outputs": [
    {
     "data": {
      "text/html": [
       "<div>\n",
       "<style scoped>\n",
       "    .dataframe tbody tr th:only-of-type {\n",
       "        vertical-align: middle;\n",
       "    }\n",
       "\n",
       "    .dataframe tbody tr th {\n",
       "        vertical-align: top;\n",
       "    }\n",
       "\n",
       "    .dataframe thead th {\n",
       "        text-align: right;\n",
       "    }\n",
       "</style>\n",
       "<table border=\"1\" class=\"dataframe\">\n",
       "  <thead>\n",
       "    <tr style=\"text-align: right;\">\n",
       "      <th>final_result</th>\n",
       "      <th>Distinction</th>\n",
       "      <th>Fail</th>\n",
       "      <th>Pass</th>\n",
       "      <th>Withdrawn</th>\n",
       "    </tr>\n",
       "    <tr>\n",
       "      <th>disability</th>\n",
       "      <th></th>\n",
       "      <th></th>\n",
       "      <th></th>\n",
       "      <th></th>\n",
       "    </tr>\n",
       "  </thead>\n",
       "  <tbody>\n",
       "    <tr>\n",
       "      <th>No</th>\n",
       "      <td>2536.792448</td>\n",
       "      <td>6182.417416</td>\n",
       "      <td>10610.535577</td>\n",
       "      <td>8746.254559</td>\n",
       "    </tr>\n",
       "    <tr>\n",
       "      <th>Yes</th>\n",
       "      <td>277.207552</td>\n",
       "      <td>675.582584</td>\n",
       "      <td>1159.464423</td>\n",
       "      <td>955.745441</td>\n",
       "    </tr>\n",
       "  </tbody>\n",
       "</table>\n",
       "</div>"
      ],
      "text/plain": [
       "final_result  Distinction         Fail          Pass    Withdrawn\n",
       "disability                                                       \n",
       "No            2536.792448  6182.417416  10610.535577  8746.254559\n",
       "Yes            277.207552   675.582584   1159.464423   955.745441"
      ]
     },
     "execution_count": 24,
     "metadata": {},
     "output_type": "execute_result"
    },
    {
     "name": "stdout",
     "output_type": "stream",
     "text": [
      "time: 7.01 ms\n"
     ]
    }
   ],
   "source": [
    "# expected values if final_result was independent\n",
    "table.fittedvalues"
   ]
  },
  {
   "cell_type": "code",
   "execution_count": 25,
   "id": "f7bf474c-660d-4465-b1f7-611586d12ce8",
   "metadata": {
    "execution": {
     "iopub.execute_input": "2021-08-23T01:59:47.227819Z",
     "iopub.status.busy": "2021-08-23T01:59:47.227657Z",
     "iopub.status.idle": "2021-08-23T01:59:47.282070Z",
     "shell.execute_reply": "2021-08-23T01:59:47.281075Z",
     "shell.execute_reply.started": "2021-08-23T01:59:47.227799Z"
    },
    "tags": []
   },
   "outputs": [
    {
     "data": {
      "text/html": [
       "<div>\n",
       "<style scoped>\n",
       "    .dataframe tbody tr th:only-of-type {\n",
       "        vertical-align: middle;\n",
       "    }\n",
       "\n",
       "    .dataframe tbody tr th {\n",
       "        vertical-align: top;\n",
       "    }\n",
       "\n",
       "    .dataframe thead th {\n",
       "        text-align: right;\n",
       "    }\n",
       "</style>\n",
       "<table border=\"1\" class=\"dataframe\">\n",
       "  <thead>\n",
       "    <tr style=\"text-align: right;\">\n",
       "      <th>final_result</th>\n",
       "      <th>Distinction</th>\n",
       "      <th>Fail</th>\n",
       "      <th>Pass</th>\n",
       "      <th>Withdrawn</th>\n",
       "    </tr>\n",
       "    <tr>\n",
       "      <th>disability</th>\n",
       "      <th></th>\n",
       "      <th></th>\n",
       "      <th></th>\n",
       "      <th></th>\n",
       "    </tr>\n",
       "  </thead>\n",
       "  <tbody>\n",
       "    <tr>\n",
       "      <th>No</th>\n",
       "      <td>1.274805</td>\n",
       "      <td>-0.285106</td>\n",
       "      <td>1.907284</td>\n",
       "      <td>-2.547594</td>\n",
       "    </tr>\n",
       "    <tr>\n",
       "      <th>Yes</th>\n",
       "      <td>-3.856413</td>\n",
       "      <td>0.862475</td>\n",
       "      <td>-5.769726</td>\n",
       "      <td>7.706729</td>\n",
       "    </tr>\n",
       "  </tbody>\n",
       "</table>\n",
       "</div>"
      ],
      "text/plain": [
       "final_result  Distinction      Fail      Pass  Withdrawn\n",
       "disability                                              \n",
       "No               1.274805 -0.285106  1.907284  -2.547594\n",
       "Yes             -3.856413  0.862475 -5.769726   7.706729"
      ]
     },
     "execution_count": 25,
     "metadata": {},
     "output_type": "execute_result"
    },
    {
     "name": "stdout",
     "output_type": "stream",
     "text": [
      "time: 6.76 ms\n"
     ]
    }
   ],
   "source": [
    "# pearsons residuals: negatives indicate fewer results than expected, positives indicate more.\n",
    "table.resid_pearson"
   ]
  },
  {
   "cell_type": "markdown",
   "id": "1860054e-2958-4f89-98e0-6001692316ae",
   "metadata": {},
   "source": [
    "From the contingency tables it appears that a disability status contributes negatively to Distinction, Pass, while it contributes positively to Withdrawn and Fail. Conversely,  nondisability status contributes positively to Distinction and Pass,  while it contributes negatively to Fail  and Withdrawn."
   ]
  },
  {
   "cell_type": "markdown",
   "id": "0b3633e9-d620-4795-9363-28b4461270c3",
   "metadata": {},
   "source": [
    "## Chi-Square Test for `disability`\n",
    "Ho = `disability` and `final_result` are independent.\n",
    "\n",
    "Ha = `disability` and `final_result` are not independent.\n",
    "\n",
    "alpha = .05"
   ]
  },
  {
   "cell_type": "code",
   "execution_count": 26,
   "id": "08d27f33-3216-4665-967b-c3571d5600fd",
   "metadata": {
    "execution": {
     "iopub.execute_input": "2021-08-23T01:59:47.283388Z",
     "iopub.status.busy": "2021-08-23T01:59:47.283209Z",
     "iopub.status.idle": "2021-08-23T01:59:47.331964Z",
     "shell.execute_reply": "2021-08-23T01:59:47.330858Z",
     "shell.execute_reply.started": "2021-08-23T01:59:47.283367Z"
    },
    "tags": []
   },
   "outputs": [
    {
     "name": "stdout",
     "output_type": "stream",
     "text": [
      "chi-squared = 120.13357979289296\n",
      "p value= 7.222172836526508e-26\n",
      "degrees of freedom = 3\n",
      "time: 1.28 ms\n"
     ]
    }
   ],
   "source": [
    "# calculating chi-squared,p-value, degrees of freedom\n",
    "f.chi_sq_test(tabs)"
   ]
  },
  {
   "cell_type": "markdown",
   "id": "b3cdcabb-5ed6-40a2-8e6d-ad4796b719fe",
   "metadata": {},
   "source": [
    "Since the p value is less than our alpha, we reject the null hypothesis and conclude that `disability` and `final_result` are not independent."
   ]
  },
  {
   "cell_type": "code",
   "execution_count": 27,
   "id": "17102648-647a-4646-b387-897a863670f6",
   "metadata": {
    "execution": {
     "iopub.execute_input": "2021-08-23T01:59:47.333141Z",
     "iopub.status.busy": "2021-08-23T01:59:47.332954Z",
     "iopub.status.idle": "2021-08-23T01:59:47.390012Z",
     "shell.execute_reply": "2021-08-23T01:59:47.388943Z",
     "shell.execute_reply.started": "2021-08-23T01:59:47.333122Z"
    },
    "tags": []
   },
   "outputs": [
    {
     "name": "stdout",
     "output_type": "stream",
     "text": [
      "Cramer's V Degrees of Freedom = 1\n",
      "\n",
      "Effect Size Thresholds\n",
      "   Degrees of Freedom  Small Effect  Medium Effect  Large Effect\n",
      "0                 1.0          0.10           0.30          0.50\n",
      "1                 2.0          0.07           0.21          0.35\n",
      "2                 3.0          0.06           0.17          0.29\n",
      "3                 4.0          0.05           0.15          0.25\n",
      "4                 5.0          0.04           0.13          0.22\n",
      "\n",
      "final_result\n",
      "Distinction    0.206619\n",
      "Fail           0.132353\n",
      "Pass           0.101029\n",
      "Withdrawn      0.111276\n",
      "dtype: float64\n",
      "time: 5.67 ms\n"
     ]
    }
   ],
   "source": [
    "# calculating cramer's v to measure the effect sizes\n",
    "f.cramers_v(tabs)"
   ]
  },
  {
   "cell_type": "markdown",
   "id": "c2e0d2dd-d3ef-47bb-b028-2d2a1ecb9199",
   "metadata": {},
   "source": [
    "Adjusted for degrees of freedom, the Cramer's V results indicate that `disability` has a small, but statistically significant, effect on all of the outcomes."
   ]
  },
  {
   "cell_type": "markdown",
   "id": "c58d0b50-6ef7-4fc5-bc6e-5e56c7c70a8b",
   "metadata": {},
   "source": [
    "## Age Band Analysis"
   ]
  },
  {
   "cell_type": "code",
   "execution_count": 28,
   "id": "c9653b17-ffc0-442d-99d7-58beeedfda96",
   "metadata": {
    "execution": {
     "iopub.execute_input": "2021-08-23T01:59:47.391131Z",
     "iopub.status.busy": "2021-08-23T01:59:47.390964Z",
     "iopub.status.idle": "2021-08-23T01:59:47.635683Z",
     "shell.execute_reply": "2021-08-23T01:59:47.635223Z",
     "shell.execute_reply.started": "2021-08-23T01:59:47.391111Z"
    },
    "tags": []
   },
   "outputs": [
    {
     "data": {
      "image/png": "[encoded data removed]",
      "text/plain": [
       "<Figure size 1152x576 with 1 Axes>"
      ]
     },
     "metadata": {},
     "output_type": "display_data"
    },
    {
     "name": "stdout",
     "output_type": "stream",
     "text": [
      "time: 193 ms\n"
     ]
    }
   ],
   "source": [
    "v.outcomes_age(student_info)"
   ]
  },
  {
   "cell_type": "markdown",
   "id": "af29b0f1-37ee-4e3e-a94d-32789d1120f1",
   "metadata": {},
   "source": [
    "## Investigating `age_band` Contingency Tabels"
   ]
  },
  {
   "cell_type": "code",
   "execution_count": 29,
   "id": "f98ac904-b536-46f9-865f-b28286c045f7",
   "metadata": {
    "execution": {
     "iopub.execute_input": "2021-08-23T01:59:47.642972Z",
     "iopub.status.busy": "2021-08-23T01:59:47.642723Z",
     "iopub.status.idle": "2021-08-23T01:59:47.776626Z",
     "shell.execute_reply": "2021-08-23T01:59:47.776068Z",
     "shell.execute_reply.started": "2021-08-23T01:59:47.642949Z"
    },
    "tags": []
   },
   "outputs": [
    {
     "name": "stdout",
     "output_type": "stream",
     "text": [
      "time: 90.1 ms\n"
     ]
    }
   ],
   "source": [
    "# creating a contingency table\n",
    "tabs = pd.crosstab(student_info.age_band, student_info.final_result)"
   ]
  },
  {
   "cell_type": "code",
   "execution_count": 30,
   "id": "c67639d3-190f-46cc-aed7-d1f86822ee80",
   "metadata": {
    "execution": {
     "iopub.execute_input": "2021-08-23T01:59:47.778189Z",
     "iopub.status.busy": "2021-08-23T01:59:47.777922Z",
     "iopub.status.idle": "2021-08-23T01:59:47.822222Z",
     "shell.execute_reply": "2021-08-23T01:59:47.821296Z",
     "shell.execute_reply.started": "2021-08-23T01:59:47.778168Z"
    },
    "tags": []
   },
   "outputs": [
    {
     "name": "stdout",
     "output_type": "stream",
     "text": [
      "time: 733 µs\n"
     ]
    }
   ],
   "source": [
    "# creating a statsmodels table object\n",
    "table = sm.stats.Table(tabs)"
   ]
  },
  {
   "cell_type": "code",
   "execution_count": 31,
   "id": "a0e62ebd-ee16-4cbb-a1c7-4e243cc9918c",
   "metadata": {
    "execution": {
     "iopub.execute_input": "2021-08-23T01:59:47.823974Z",
     "iopub.status.busy": "2021-08-23T01:59:47.823706Z",
     "iopub.status.idle": "2021-08-23T01:59:47.878043Z",
     "shell.execute_reply": "2021-08-23T01:59:47.876880Z",
     "shell.execute_reply.started": "2021-08-23T01:59:47.823943Z"
    },
    "tags": []
   },
   "outputs": [
    {
     "data": {
      "text/html": [
       "<div>\n",
       "<style scoped>\n",
       "    .dataframe tbody tr th:only-of-type {\n",
       "        vertical-align: middle;\n",
       "    }\n",
       "\n",
       "    .dataframe tbody tr th {\n",
       "        vertical-align: top;\n",
       "    }\n",
       "\n",
       "    .dataframe thead th {\n",
       "        text-align: right;\n",
       "    }\n",
       "</style>\n",
       "<table border=\"1\" class=\"dataframe\">\n",
       "  <thead>\n",
       "    <tr style=\"text-align: right;\">\n",
       "      <th>final_result</th>\n",
       "      <th>Distinction</th>\n",
       "      <th>Fail</th>\n",
       "      <th>Pass</th>\n",
       "      <th>Withdrawn</th>\n",
       "    </tr>\n",
       "    <tr>\n",
       "      <th>age_band</th>\n",
       "      <th></th>\n",
       "      <th></th>\n",
       "      <th></th>\n",
       "      <th></th>\n",
       "    </tr>\n",
       "  </thead>\n",
       "  <tbody>\n",
       "    <tr>\n",
       "      <th>0-35</th>\n",
       "      <td>1745</td>\n",
       "      <td>5097</td>\n",
       "      <td>8084</td>\n",
       "      <td>7088</td>\n",
       "    </tr>\n",
       "    <tr>\n",
       "      <th>35-55</th>\n",
       "      <td>1031</td>\n",
       "      <td>1732</td>\n",
       "      <td>3601</td>\n",
       "      <td>2568</td>\n",
       "    </tr>\n",
       "    <tr>\n",
       "      <th>55&lt;=</th>\n",
       "      <td>38</td>\n",
       "      <td>29</td>\n",
       "      <td>85</td>\n",
       "      <td>46</td>\n",
       "    </tr>\n",
       "  </tbody>\n",
       "</table>\n",
       "</div>"
      ],
      "text/plain": [
       "final_result  Distinction  Fail  Pass  Withdrawn\n",
       "age_band                                        \n",
       "0-35                 1745  5097  8084       7088\n",
       "35-55                1031  1732  3601       2568\n",
       "55<=                   38    29    85         46"
      ]
     },
     "execution_count": 31,
     "metadata": {},
     "output_type": "execute_result"
    },
    {
     "name": "stdout",
     "output_type": "stream",
     "text": [
      "time: 5.55 ms\n"
     ]
    }
   ],
   "source": [
    "# the original contingency table\n",
    "table.table_orig"
   ]
  },
  {
   "cell_type": "code",
   "execution_count": 32,
   "id": "6fe36494-ac2a-4d5e-b0ff-8cfabe6ebebb",
   "metadata": {
    "execution": {
     "iopub.execute_input": "2021-08-23T01:59:47.879763Z",
     "iopub.status.busy": "2021-08-23T01:59:47.879469Z",
     "iopub.status.idle": "2021-08-23T01:59:47.934014Z",
     "shell.execute_reply": "2021-08-23T01:59:47.933047Z",
     "shell.execute_reply.started": "2021-08-23T01:59:47.879735Z"
    },
    "tags": []
   },
   "outputs": [
    {
     "data": {
      "text/html": [
       "<div>\n",
       "<style scoped>\n",
       "    .dataframe tbody tr th:only-of-type {\n",
       "        vertical-align: middle;\n",
       "    }\n",
       "\n",
       "    .dataframe tbody tr th {\n",
       "        vertical-align: top;\n",
       "    }\n",
       "\n",
       "    .dataframe thead th {\n",
       "        text-align: right;\n",
       "    }\n",
       "</style>\n",
       "<table border=\"1\" class=\"dataframe\">\n",
       "  <thead>\n",
       "    <tr style=\"text-align: right;\">\n",
       "      <th>final_result</th>\n",
       "      <th>Distinction</th>\n",
       "      <th>Fail</th>\n",
       "      <th>Pass</th>\n",
       "      <th>Withdrawn</th>\n",
       "    </tr>\n",
       "    <tr>\n",
       "      <th>age_band</th>\n",
       "      <th></th>\n",
       "      <th></th>\n",
       "      <th></th>\n",
       "      <th></th>\n",
       "    </tr>\n",
       "  </thead>\n",
       "  <tbody>\n",
       "    <tr>\n",
       "      <th>0-35</th>\n",
       "      <td>1989.063576</td>\n",
       "      <td>4847.547264</td>\n",
       "      <td>8319.572951</td>\n",
       "      <td>6857.816209</td>\n",
       "    </tr>\n",
       "    <tr>\n",
       "      <th>35-55</th>\n",
       "      <td>807.046237</td>\n",
       "      <td>1966.852556</td>\n",
       "      <td>3375.598510</td>\n",
       "      <td>2782.502697</td>\n",
       "    </tr>\n",
       "    <tr>\n",
       "      <th>55&lt;=</th>\n",
       "      <td>17.890188</td>\n",
       "      <td>43.600180</td>\n",
       "      <td>74.828538</td>\n",
       "      <td>61.681094</td>\n",
       "    </tr>\n",
       "  </tbody>\n",
       "</table>\n",
       "</div>"
      ],
      "text/plain": [
       "final_result  Distinction         Fail         Pass    Withdrawn\n",
       "age_band                                                        \n",
       "0-35          1989.063576  4847.547264  8319.572951  6857.816209\n",
       "35-55          807.046237  1966.852556  3375.598510  2782.502697\n",
       "55<=            17.890188    43.600180    74.828538    61.681094"
      ]
     },
     "execution_count": 32,
     "metadata": {},
     "output_type": "execute_result"
    },
    {
     "name": "stdout",
     "output_type": "stream",
     "text": [
      "time: 7.06 ms\n"
     ]
    }
   ],
   "source": [
    "# expected values if final_result was independent\n",
    "table.fittedvalues"
   ]
  },
  {
   "cell_type": "code",
   "execution_count": 33,
   "id": "30835e21-50f6-4790-a644-f6c4e5f9f2e2",
   "metadata": {
    "execution": {
     "iopub.execute_input": "2021-08-23T01:59:47.935444Z",
     "iopub.status.busy": "2021-08-23T01:59:47.935177Z",
     "iopub.status.idle": "2021-08-23T01:59:47.989205Z",
     "shell.execute_reply": "2021-08-23T01:59:47.988372Z",
     "shell.execute_reply.started": "2021-08-23T01:59:47.935422Z"
    },
    "tags": []
   },
   "outputs": [
    {
     "data": {
      "text/html": [
       "<div>\n",
       "<style scoped>\n",
       "    .dataframe tbody tr th:only-of-type {\n",
       "        vertical-align: middle;\n",
       "    }\n",
       "\n",
       "    .dataframe tbody tr th {\n",
       "        vertical-align: top;\n",
       "    }\n",
       "\n",
       "    .dataframe thead th {\n",
       "        text-align: right;\n",
       "    }\n",
       "</style>\n",
       "<table border=\"1\" class=\"dataframe\">\n",
       "  <thead>\n",
       "    <tr style=\"text-align: right;\">\n",
       "      <th>final_result</th>\n",
       "      <th>Distinction</th>\n",
       "      <th>Fail</th>\n",
       "      <th>Pass</th>\n",
       "      <th>Withdrawn</th>\n",
       "    </tr>\n",
       "    <tr>\n",
       "      <th>age_band</th>\n",
       "      <th></th>\n",
       "      <th></th>\n",
       "      <th></th>\n",
       "      <th></th>\n",
       "    </tr>\n",
       "  </thead>\n",
       "  <tbody>\n",
       "    <tr>\n",
       "      <th>0-35</th>\n",
       "      <td>-5.472410</td>\n",
       "      <td>3.582839</td>\n",
       "      <td>-2.582706</td>\n",
       "      <td>2.779597</td>\n",
       "    </tr>\n",
       "    <tr>\n",
       "      <th>35-55</th>\n",
       "      <td>7.883320</td>\n",
       "      <td>-5.295529</td>\n",
       "      <td>3.879550</td>\n",
       "      <td>-4.066446</td>\n",
       "    </tr>\n",
       "    <tr>\n",
       "      <th>55&lt;=</th>\n",
       "      <td>4.754453</td>\n",
       "      <td>-2.211129</td>\n",
       "      <td>1.175844</td>\n",
       "      <td>-1.996643</td>\n",
       "    </tr>\n",
       "  </tbody>\n",
       "</table>\n",
       "</div>"
      ],
      "text/plain": [
       "final_result  Distinction      Fail      Pass  Withdrawn\n",
       "age_band                                                \n",
       "0-35            -5.472410  3.582839 -2.582706   2.779597\n",
       "35-55            7.883320 -5.295529  3.879550  -4.066446\n",
       "55<=             4.754453 -2.211129  1.175844  -1.996643"
      ]
     },
     "execution_count": 33,
     "metadata": {},
     "output_type": "execute_result"
    },
    {
     "name": "stdout",
     "output_type": "stream",
     "text": [
      "time: 7.01 ms\n"
     ]
    }
   ],
   "source": [
    "# pearsons residuals: negatives indicate fewer results than expected, positives indicate more.\n",
    "table.resid_pearson"
   ]
  },
  {
   "cell_type": "markdown",
   "id": "d5f5128c-f693-466f-83d2-7722bce25856",
   "metadata": {},
   "source": [
    "From the contingency tables it appears that the higher age bands contribute positively to Distinction, Pass, while they contribute negatively to Withdrawn and Fail. Conversely, the lower age band contributes negatively to Distinction and Pass,  while it contributes positively to Fail and Withdrawn."
   ]
  },
  {
   "cell_type": "markdown",
   "id": "68f5b1ad-6a3f-4199-ad98-b879ad8c2aaa",
   "metadata": {},
   "source": [
    "## Chi-Square Test for `age_band`\n",
    "Ho = `age_band` and `final_result` are independent.\n",
    "\n",
    "Ha = `age_band` and `final_result` are not independent.\n",
    "\n",
    "alpha = .05"
   ]
  },
  {
   "cell_type": "code",
   "execution_count": 34,
   "id": "586767d4-edfd-46e9-8a33-80a9c281c52a",
   "metadata": {
    "execution": {
     "iopub.execute_input": "2021-08-23T01:59:47.990778Z",
     "iopub.status.busy": "2021-08-23T01:59:47.990526Z",
     "iopub.status.idle": "2021-08-23T01:59:48.036379Z",
     "shell.execute_reply": "2021-08-23T01:59:48.035428Z",
     "shell.execute_reply.started": "2021-08-23T01:59:47.990745Z"
    },
    "tags": []
   },
   "outputs": [
    {
     "name": "stdout",
     "output_type": "stream",
     "text": [
      "chi-squared = 211.8198957439639\n",
      "p value= 5.766845225565534e-43\n",
      "degrees of freedom = 6\n",
      "time: 1.6 ms\n"
     ]
    }
   ],
   "source": [
    "# calculating chi-squared,p-value, degrees of freedom\n",
    "f.chi_sq_test(tabs)"
   ]
  },
  {
   "cell_type": "markdown",
   "id": "19074ebe-462d-4cc4-b2ac-bbd02fb2206e",
   "metadata": {},
   "source": [
    "Since the p value is less than our alpha, we reject the null hypothesis and conclude that `age_band` and `final_result` are not independent."
   ]
  },
  {
   "cell_type": "code",
   "execution_count": 35,
   "id": "0e2c3811-43b8-4837-bf60-d58186c85b0c",
   "metadata": {
    "execution": {
     "iopub.execute_input": "2021-08-23T01:59:48.038040Z",
     "iopub.status.busy": "2021-08-23T01:59:48.037804Z",
     "iopub.status.idle": "2021-08-23T01:59:48.099722Z",
     "shell.execute_reply": "2021-08-23T01:59:48.098663Z",
     "shell.execute_reply.started": "2021-08-23T01:59:48.038003Z"
    },
    "tags": []
   },
   "outputs": [
    {
     "name": "stdout",
     "output_type": "stream",
     "text": [
      "Cramer's V Degrees of Freedom = 2\n",
      "\n",
      "Effect Size Thresholds\n",
      "   Degrees of Freedom  Small Effect  Medium Effect  Large Effect\n",
      "0                 1.0          0.10           0.30          0.50\n",
      "1                 2.0          0.07           0.21          0.35\n",
      "2                 3.0          0.06           0.17          0.29\n",
      "3                 4.0          0.05           0.15          0.25\n",
      "4                 5.0          0.04           0.13          0.22\n",
      "\n",
      "final_result\n",
      "Distinction    0.194002\n",
      "Fail           0.124271\n",
      "Pass           0.094859\n",
      "Withdrawn      0.104481\n",
      "dtype: float64\n",
      "time: 7.26 ms\n"
     ]
    }
   ],
   "source": [
    "# calculating cramer's v to measure the effect sizes\n",
    "f.cramers_v(tabs)"
   ]
  },
  {
   "cell_type": "markdown",
   "id": "d12637a3-a9b4-45f5-8dcc-37d206013203",
   "metadata": {},
   "source": [
    "Adjusted for degrees of freedom, the Cramer's V results indicate that `age_band` has a small, but statistically significant, effect on all of the outcomes."
   ]
  },
  {
   "cell_type": "markdown",
   "id": "751d50fb-29e7-49c6-b33f-28ed7461db10",
   "metadata": {
    "tags": []
   },
   "source": [
    "## Number of Previous Attemps Analysis"
   ]
  },
  {
   "cell_type": "code",
   "execution_count": 36,
   "id": "8a225018-a13c-40fc-b627-bf903f81de16",
   "metadata": {
    "execution": {
     "iopub.execute_input": "2021-08-23T01:59:48.100929Z",
     "iopub.status.busy": "2021-08-23T01:59:48.100756Z",
     "iopub.status.idle": "2021-08-23T01:59:48.444615Z",
     "shell.execute_reply": "2021-08-23T01:59:48.444100Z",
     "shell.execute_reply.started": "2021-08-23T01:59:48.100909Z"
    },
    "tags": []
   },
   "outputs": [
    {
     "data": {
      "image/png": "[encoded data removed]",
      "text/plain": [
       "<Figure size 1152x576 with 1 Axes>"
      ]
     },
     "metadata": {},
     "output_type": "display_data"
    },
    {
     "name": "stdout",
     "output_type": "stream",
     "text": [
      "time: 293 ms\n"
     ]
    }
   ],
   "source": [
    "v.outcomes_att(student_info)"
   ]
  },
  {
   "cell_type": "markdown",
   "id": "82096773-4ab1-4270-b9ea-7f77ef884f68",
   "metadata": {},
   "source": [
    "## Investigating `num_of_prev_attemps` Contingency Tabels"
   ]
  },
  {
   "cell_type": "code",
   "execution_count": 37,
   "id": "ee6756be-adf9-461d-a59b-744ad0f425c3",
   "metadata": {
    "execution": {
     "iopub.execute_input": "2021-08-23T01:59:48.445898Z",
     "iopub.status.busy": "2021-08-23T01:59:48.445653Z",
     "iopub.status.idle": "2021-08-23T01:59:48.513147Z",
     "shell.execute_reply": "2021-08-23T01:59:48.512690Z",
     "shell.execute_reply.started": "2021-08-23T01:59:48.445875Z"
    },
    "tags": []
   },
   "outputs": [
    {
     "name": "stdout",
     "output_type": "stream",
     "text": [
      "time: 20.4 ms\n"
     ]
    }
   ],
   "source": [
    "# creating a contingency table\n",
    "tabs = pd.crosstab(student_info.num_of_prev_attempts, student_info.final_result)"
   ]
  },
  {
   "cell_type": "code",
   "execution_count": 38,
   "id": "7595f3b5-08b5-4045-9511-146792e71055",
   "metadata": {
    "execution": {
     "iopub.execute_input": "2021-08-23T01:59:48.514524Z",
     "iopub.status.busy": "2021-08-23T01:59:48.514305Z",
     "iopub.status.idle": "2021-08-23T01:59:48.561592Z",
     "shell.execute_reply": "2021-08-23T01:59:48.560964Z",
     "shell.execute_reply.started": "2021-08-23T01:59:48.514502Z"
    },
    "tags": []
   },
   "outputs": [
    {
     "name": "stdout",
     "output_type": "stream",
     "text": [
      "time: 769 µs\n"
     ]
    }
   ],
   "source": [
    "# creating a statsmodels table object\n",
    "table = sm.stats.Table(tabs)"
   ]
  },
  {
   "cell_type": "code",
   "execution_count": 39,
   "id": "37c78f45-3558-4f68-97fc-b7c1569db367",
   "metadata": {
    "execution": {
     "iopub.execute_input": "2021-08-23T01:59:48.562945Z",
     "iopub.status.busy": "2021-08-23T01:59:48.562570Z",
     "iopub.status.idle": "2021-08-23T01:59:48.615725Z",
     "shell.execute_reply": "2021-08-23T01:59:48.615130Z",
     "shell.execute_reply.started": "2021-08-23T01:59:48.562923Z"
    },
    "tags": []
   },
   "outputs": [
    {
     "data": {
      "text/html": [
       "<div>\n",
       "<style scoped>\n",
       "    .dataframe tbody tr th:only-of-type {\n",
       "        vertical-align: middle;\n",
       "    }\n",
       "\n",
       "    .dataframe tbody tr th {\n",
       "        vertical-align: top;\n",
       "    }\n",
       "\n",
       "    .dataframe thead th {\n",
       "        text-align: right;\n",
       "    }\n",
       "</style>\n",
       "<table border=\"1\" class=\"dataframe\">\n",
       "  <thead>\n",
       "    <tr style=\"text-align: right;\">\n",
       "      <th>final_result</th>\n",
       "      <th>Distinction</th>\n",
       "      <th>Fail</th>\n",
       "      <th>Pass</th>\n",
       "      <th>Withdrawn</th>\n",
       "    </tr>\n",
       "    <tr>\n",
       "      <th>num_of_prev_attempts</th>\n",
       "      <th></th>\n",
       "      <th></th>\n",
       "      <th></th>\n",
       "      <th></th>\n",
       "    </tr>\n",
       "  </thead>\n",
       "  <tbody>\n",
       "    <tr>\n",
       "      <th>0</th>\n",
       "      <td>2662</td>\n",
       "      <td>5590</td>\n",
       "      <td>10627</td>\n",
       "      <td>8320</td>\n",
       "    </tr>\n",
       "    <tr>\n",
       "      <th>1</th>\n",
       "      <td>128</td>\n",
       "      <td>967</td>\n",
       "      <td>936</td>\n",
       "      <td>1084</td>\n",
       "    </tr>\n",
       "    <tr>\n",
       "      <th>2</th>\n",
       "      <td>22</td>\n",
       "      <td>228</td>\n",
       "      <td>162</td>\n",
       "      <td>229</td>\n",
       "    </tr>\n",
       "    <tr>\n",
       "      <th>3</th>\n",
       "      <td>1</td>\n",
       "      <td>54</td>\n",
       "      <td>30</td>\n",
       "      <td>51</td>\n",
       "    </tr>\n",
       "    <tr>\n",
       "      <th>4</th>\n",
       "      <td>0</td>\n",
       "      <td>12</td>\n",
       "      <td>13</td>\n",
       "      <td>11</td>\n",
       "    </tr>\n",
       "    <tr>\n",
       "      <th>5</th>\n",
       "      <td>0</td>\n",
       "      <td>6</td>\n",
       "      <td>2</td>\n",
       "      <td>5</td>\n",
       "    </tr>\n",
       "    <tr>\n",
       "      <th>6</th>\n",
       "      <td>1</td>\n",
       "      <td>1</td>\n",
       "      <td>0</td>\n",
       "      <td>2</td>\n",
       "    </tr>\n",
       "  </tbody>\n",
       "</table>\n",
       "</div>"
      ],
      "text/plain": [
       "final_result          Distinction  Fail   Pass  Withdrawn\n",
       "num_of_prev_attempts                                     \n",
       "0                            2662  5590  10627       8320\n",
       "1                             128   967    936       1084\n",
       "2                              22   228    162        229\n",
       "3                               1    54     30         51\n",
       "4                               0    12     13         11\n",
       "5                               0     6      2          5\n",
       "6                               1     1      0          2"
      ]
     },
     "execution_count": 39,
     "metadata": {},
     "output_type": "execute_result"
    },
    {
     "name": "stdout",
     "output_type": "stream",
     "text": [
      "time: 5.05 ms\n"
     ]
    }
   ],
   "source": [
    "# the original contingency table\n",
    "table.table_orig"
   ]
  },
  {
   "cell_type": "code",
   "execution_count": 40,
   "id": "a3fb7ac5-6b81-4d0a-9979-2f82b66e0e17",
   "metadata": {
    "execution": {
     "iopub.execute_input": "2021-08-23T01:59:48.617182Z",
     "iopub.status.busy": "2021-08-23T01:59:48.616923Z",
     "iopub.status.idle": "2021-08-23T01:59:48.675807Z",
     "shell.execute_reply": "2021-08-23T01:59:48.674998Z",
     "shell.execute_reply.started": "2021-08-23T01:59:48.617156Z"
    },
    "tags": []
   },
   "outputs": [
    {
     "data": {
      "text/html": [
       "<div>\n",
       "<style scoped>\n",
       "    .dataframe tbody tr th:only-of-type {\n",
       "        vertical-align: middle;\n",
       "    }\n",
       "\n",
       "    .dataframe tbody tr th {\n",
       "        vertical-align: top;\n",
       "    }\n",
       "\n",
       "    .dataframe thead th {\n",
       "        text-align: right;\n",
       "    }\n",
       "</style>\n",
       "<table border=\"1\" class=\"dataframe\">\n",
       "  <thead>\n",
       "    <tr style=\"text-align: right;\">\n",
       "      <th>final_result</th>\n",
       "      <th>Distinction</th>\n",
       "      <th>Fail</th>\n",
       "      <th>Pass</th>\n",
       "      <th>Withdrawn</th>\n",
       "    </tr>\n",
       "    <tr>\n",
       "      <th>num_of_prev_attempts</th>\n",
       "      <th></th>\n",
       "      <th></th>\n",
       "      <th></th>\n",
       "      <th></th>\n",
       "    </tr>\n",
       "  </thead>\n",
       "  <tbody>\n",
       "    <tr>\n",
       "      <th>0</th>\n",
       "      <td>2458.306497</td>\n",
       "      <td>5989.010997</td>\n",
       "      <td>10279.039653</td>\n",
       "      <td>8472.642854</td>\n",
       "    </tr>\n",
       "    <tr>\n",
       "      <th>1</th>\n",
       "      <td>281.540672</td>\n",
       "      <td>685.899087</td>\n",
       "      <td>1177.220064</td>\n",
       "      <td>970.340178</td>\n",
       "    </tr>\n",
       "    <tr>\n",
       "      <th>2</th>\n",
       "      <td>57.935015</td>\n",
       "      <td>141.143279</td>\n",
       "      <td>242.246569</td>\n",
       "      <td>199.675138</td>\n",
       "    </tr>\n",
       "    <tr>\n",
       "      <th>3</th>\n",
       "      <td>12.291984</td>\n",
       "      <td>29.946156</td>\n",
       "      <td>51.397088</td>\n",
       "      <td>42.364772</td>\n",
       "    </tr>\n",
       "    <tr>\n",
       "      <th>4</th>\n",
       "      <td>3.298952</td>\n",
       "      <td>8.037020</td>\n",
       "      <td>13.794071</td>\n",
       "      <td>11.369957</td>\n",
       "    </tr>\n",
       "    <tr>\n",
       "      <th>5</th>\n",
       "      <td>1.220160</td>\n",
       "      <td>2.972596</td>\n",
       "      <td>5.101917</td>\n",
       "      <td>4.205327</td>\n",
       "    </tr>\n",
       "    <tr>\n",
       "      <th>6</th>\n",
       "      <td>0.406720</td>\n",
       "      <td>0.990865</td>\n",
       "      <td>1.700639</td>\n",
       "      <td>1.401776</td>\n",
       "    </tr>\n",
       "  </tbody>\n",
       "</table>\n",
       "</div>"
      ],
      "text/plain": [
       "final_result          Distinction         Fail          Pass    Withdrawn\n",
       "num_of_prev_attempts                                                     \n",
       "0                     2458.306497  5989.010997  10279.039653  8472.642854\n",
       "1                      281.540672   685.899087   1177.220064   970.340178\n",
       "2                       57.935015   141.143279    242.246569   199.675138\n",
       "3                       12.291984    29.946156     51.397088    42.364772\n",
       "4                        3.298952     8.037020     13.794071    11.369957\n",
       "5                        1.220160     2.972596      5.101917     4.205327\n",
       "6                        0.406720     0.990865      1.700639     1.401776"
      ]
     },
     "execution_count": 40,
     "metadata": {},
     "output_type": "execute_result"
    },
    {
     "name": "stdout",
     "output_type": "stream",
     "text": [
      "time: 8.44 ms\n"
     ]
    }
   ],
   "source": [
    "# expected values if final_result was independent\n",
    "table.fittedvalues"
   ]
  },
  {
   "cell_type": "code",
   "execution_count": 41,
   "id": "2b4d0944-4c13-462d-b0e4-bce92e9537ce",
   "metadata": {
    "execution": {
     "iopub.execute_input": "2021-08-23T01:59:48.677605Z",
     "iopub.status.busy": "2021-08-23T01:59:48.677420Z",
     "iopub.status.idle": "2021-08-23T01:59:48.731396Z",
     "shell.execute_reply": "2021-08-23T01:59:48.730812Z",
     "shell.execute_reply.started": "2021-08-23T01:59:48.677584Z"
    },
    "tags": []
   },
   "outputs": [
    {
     "data": {
      "text/html": [
       "<div>\n",
       "<style scoped>\n",
       "    .dataframe tbody tr th:only-of-type {\n",
       "        vertical-align: middle;\n",
       "    }\n",
       "\n",
       "    .dataframe tbody tr th {\n",
       "        vertical-align: top;\n",
       "    }\n",
       "\n",
       "    .dataframe thead th {\n",
       "        text-align: right;\n",
       "    }\n",
       "</style>\n",
       "<table border=\"1\" class=\"dataframe\">\n",
       "  <thead>\n",
       "    <tr style=\"text-align: right;\">\n",
       "      <th>final_result</th>\n",
       "      <th>Distinction</th>\n",
       "      <th>Fail</th>\n",
       "      <th>Pass</th>\n",
       "      <th>Withdrawn</th>\n",
       "    </tr>\n",
       "    <tr>\n",
       "      <th>num_of_prev_attempts</th>\n",
       "      <th></th>\n",
       "      <th></th>\n",
       "      <th></th>\n",
       "      <th></th>\n",
       "    </tr>\n",
       "  </thead>\n",
       "  <tbody>\n",
       "    <tr>\n",
       "      <th>0</th>\n",
       "      <td>4.108272</td>\n",
       "      <td>-5.155934</td>\n",
       "      <td>3.432049</td>\n",
       "      <td>-1.658315</td>\n",
       "    </tr>\n",
       "    <tr>\n",
       "      <th>1</th>\n",
       "      <td>-9.150669</td>\n",
       "      <td>10.733272</td>\n",
       "      <td>-7.030474</td>\n",
       "      <td>3.648757</td>\n",
       "    </tr>\n",
       "    <tr>\n",
       "      <th>2</th>\n",
       "      <td>-4.721144</td>\n",
       "      <td>7.310942</td>\n",
       "      <td>-5.155819</td>\n",
       "      <td>2.075267</td>\n",
       "    </tr>\n",
       "    <tr>\n",
       "      <th>3</th>\n",
       "      <td>-3.220767</td>\n",
       "      <td>4.395557</td>\n",
       "      <td>-2.984595</td>\n",
       "      <td>1.326696</td>\n",
       "    </tr>\n",
       "    <tr>\n",
       "      <th>4</th>\n",
       "      <td>-1.541017</td>\n",
       "      <td>1.397894</td>\n",
       "      <td>-0.213803</td>\n",
       "      <td>-0.109717</td>\n",
       "    </tr>\n",
       "    <tr>\n",
       "      <th>5</th>\n",
       "      <td>-0.651960</td>\n",
       "      <td>1.755910</td>\n",
       "      <td>-1.373294</td>\n",
       "      <td>0.387515</td>\n",
       "    </tr>\n",
       "    <tr>\n",
       "      <th>6</th>\n",
       "      <td>0.930276</td>\n",
       "      <td>0.009177</td>\n",
       "      <td>-0.920675</td>\n",
       "      <td>0.505272</td>\n",
       "    </tr>\n",
       "  </tbody>\n",
       "</table>\n",
       "</div>"
      ],
      "text/plain": [
       "final_result          Distinction       Fail      Pass  Withdrawn\n",
       "num_of_prev_attempts                                             \n",
       "0                        4.108272  -5.155934  3.432049  -1.658315\n",
       "1                       -9.150669  10.733272 -7.030474   3.648757\n",
       "2                       -4.721144   7.310942 -5.155819   2.075267\n",
       "3                       -3.220767   4.395557 -2.984595   1.326696\n",
       "4                       -1.541017   1.397894 -0.213803  -0.109717\n",
       "5                       -0.651960   1.755910 -1.373294   0.387515\n",
       "6                        0.930276   0.009177 -0.920675   0.505272"
      ]
     },
     "execution_count": 41,
     "metadata": {},
     "output_type": "execute_result"
    },
    {
     "name": "stdout",
     "output_type": "stream",
     "text": [
      "time: 7.48 ms\n"
     ]
    }
   ],
   "source": [
    "# pearsons residuals: negatives indicate fewer results than expected, positives indicate more.\n",
    "table.resid_pearson"
   ]
  },
  {
   "cell_type": "markdown",
   "id": "a11beb79-a05c-47be-b43f-189ba37bc312",
   "metadata": {},
   "source": [
    "From the contingency tables it appears that one previous attempt has the largest contribution to the outcomes. It contributes negatively to Distinction an Pass, while it contributes positively to Withdrawn and Fail. "
   ]
  },
  {
   "cell_type": "markdown",
   "id": "ada6921c-f5f8-46a9-8503-2e62f35e145f",
   "metadata": {},
   "source": [
    "## Chi-Square Test for `num_of_prev_attempts`\n",
    "Ho = `num_of_prev_attempts` and `final_result` are independent.\n",
    "\n",
    "Ha = `num_of_prev_attempts` and `final_result` are not independent.\n",
    "\n",
    "alpha = .05"
   ]
  },
  {
   "cell_type": "code",
   "execution_count": 42,
   "id": "efb68adf-63ba-4d23-9220-d85fab9e843e",
   "metadata": {
    "execution": {
     "iopub.execute_input": "2021-08-23T01:59:48.732818Z",
     "iopub.status.busy": "2021-08-23T01:59:48.732649Z",
     "iopub.status.idle": "2021-08-23T01:59:48.781869Z",
     "shell.execute_reply": "2021-08-23T01:59:48.781422Z",
     "shell.execute_reply.started": "2021-08-23T01:59:48.732799Z"
    },
    "tags": []
   },
   "outputs": [
    {
     "name": "stdout",
     "output_type": "stream",
     "text": [
      "chi-squared = 481.74325850959326\n",
      "p value= 7.147444842814487e-91\n",
      "degrees of freedom = 18\n",
      "time: 1.16 ms\n"
     ]
    }
   ],
   "source": [
    "# calculating chi-squared,p-value, degrees of freedom\n",
    "f.chi_sq_test(tabs)"
   ]
  },
  {
   "cell_type": "markdown",
   "id": "d0f61de1-d1ea-4873-9939-e460d9db2034",
   "metadata": {},
   "source": [
    "Since the p value is less than our alpha, we reject the null hypothesis and conclude that `num_of_prev_attempts` and `final_result` are not independent."
   ]
  },
  {
   "cell_type": "code",
   "execution_count": 43,
   "id": "708a206b-1621-48b3-8042-61fa6b16f71c",
   "metadata": {
    "execution": {
     "iopub.execute_input": "2021-08-23T01:59:48.783095Z",
     "iopub.status.busy": "2021-08-23T01:59:48.782858Z",
     "iopub.status.idle": "2021-08-23T01:59:48.835435Z",
     "shell.execute_reply": "2021-08-23T01:59:48.834721Z",
     "shell.execute_reply.started": "2021-08-23T01:59:48.783071Z"
    },
    "tags": []
   },
   "outputs": [
    {
     "name": "stdout",
     "output_type": "stream",
     "text": [
      "Cramer's V Degrees of Freedom = 3\n",
      "\n",
      "Effect Size Thresholds\n",
      "   Degrees of Freedom  Small Effect  Medium Effect  Large Effect\n",
      "0                 1.0          0.10           0.30          0.50\n",
      "1                 2.0          0.07           0.21          0.35\n",
      "2                 3.0          0.06           0.17          0.29\n",
      "3                 4.0          0.05           0.15          0.25\n",
      "4                 5.0          0.04           0.13          0.22\n",
      "\n",
      "final_result\n",
      "Distinction    0.238883\n",
      "Fail           0.153020\n",
      "Pass           0.116804\n",
      "Withdrawn      0.128652\n",
      "dtype: float64\n",
      "time: 5.66 ms\n"
     ]
    }
   ],
   "source": [
    "# calculating cramer's v to measure the effect sizes\n",
    "f.cramers_v(tabs)"
   ]
  },
  {
   "cell_type": "markdown",
   "id": "e99b6844-c434-4180-b8b3-d69803c7198a",
   "metadata": {},
   "source": [
    "Adjusted for degrees of freedom, the Cramer's V results indicate that `num_of_prev_attemps` has a small, but statistically significant, effect on all of the outcomes."
   ]
  },
  {
   "cell_type": "markdown",
   "id": "b08db4f2-b275-4d59-9e89-5bbcb46df30d",
   "metadata": {
    "tags": []
   },
   "source": [
    "## Education Level Analysis"
   ]
  },
  {
   "cell_type": "code",
   "execution_count": 44,
   "id": "640b5d47-df3d-4e7a-a4fb-2659487eafb6",
   "metadata": {
    "execution": {
     "iopub.execute_input": "2021-08-23T01:59:48.836796Z",
     "iopub.status.busy": "2021-08-23T01:59:48.836629Z",
     "iopub.status.idle": "2021-08-23T01:59:49.135036Z",
     "shell.execute_reply": "2021-08-23T01:59:49.134496Z",
     "shell.execute_reply.started": "2021-08-23T01:59:48.836774Z"
    },
    "tags": []
   },
   "outputs": [
    {
     "data": {
      "image/png": "[encoded data removed]",
      "text/plain": [
       "<Figure size 1152x576 with 1 Axes>"
      ]
     },
     "metadata": {},
     "output_type": "display_data"
    },
    {
     "name": "stdout",
     "output_type": "stream",
     "text": [
      "time: 249 ms\n"
     ]
    }
   ],
   "source": [
    "v.outcomes_edu(student_info)"
   ]
  },
  {
   "cell_type": "markdown",
   "id": "12546e0a-2a39-46da-a8de-a041bf7a57fd",
   "metadata": {},
   "source": [
    "## Investigating `highest_education` Contingency Tabels"
   ]
  },
  {
   "cell_type": "code",
   "execution_count": 45,
   "id": "6d08e55c-ab19-408f-8003-c999a5c42a2c",
   "metadata": {
    "execution": {
     "iopub.execute_input": "2021-08-23T01:59:49.136604Z",
     "iopub.status.busy": "2021-08-23T01:59:49.136236Z",
     "iopub.status.idle": "2021-08-23T01:59:49.200446Z",
     "shell.execute_reply": "2021-08-23T01:59:49.199602Z",
     "shell.execute_reply.started": "2021-08-23T01:59:49.136571Z"
    },
    "tags": []
   },
   "outputs": [
    {
     "name": "stdout",
     "output_type": "stream",
     "text": [
      "time: 22.8 ms\n"
     ]
    }
   ],
   "source": [
    "# creating a contingency table\n",
    "tabs = pd.crosstab(student_info.highest_education, student_info.final_result)"
   ]
  },
  {
   "cell_type": "code",
   "execution_count": 46,
   "id": "ad1ff688-79fd-45c0-8b0d-c4518fd3d6fd",
   "metadata": {
    "execution": {
     "iopub.execute_input": "2021-08-23T01:59:49.201798Z",
     "iopub.status.busy": "2021-08-23T01:59:49.201621Z",
     "iopub.status.idle": "2021-08-23T01:59:49.256016Z",
     "shell.execute_reply": "2021-08-23T01:59:49.254788Z",
     "shell.execute_reply.started": "2021-08-23T01:59:49.201778Z"
    },
    "tags": []
   },
   "outputs": [
    {
     "name": "stdout",
     "output_type": "stream",
     "text": [
      "time: 720 µs\n"
     ]
    }
   ],
   "source": [
    "# creating a statsmodels table object\n",
    "table = sm.stats.Table(tabs)"
   ]
  },
  {
   "cell_type": "code",
   "execution_count": 47,
   "id": "cbb578dc-ab38-4a77-973e-243f9410c3a1",
   "metadata": {
    "execution": {
     "iopub.execute_input": "2021-08-23T01:59:49.257702Z",
     "iopub.status.busy": "2021-08-23T01:59:49.257326Z",
     "iopub.status.idle": "2021-08-23T01:59:49.312230Z",
     "shell.execute_reply": "2021-08-23T01:59:49.311485Z",
     "shell.execute_reply.started": "2021-08-23T01:59:49.257665Z"
    },
    "tags": []
   },
   "outputs": [
    {
     "data": {
      "text/html": [
       "<div>\n",
       "<style scoped>\n",
       "    .dataframe tbody tr th:only-of-type {\n",
       "        vertical-align: middle;\n",
       "    }\n",
       "\n",
       "    .dataframe tbody tr th {\n",
       "        vertical-align: top;\n",
       "    }\n",
       "\n",
       "    .dataframe thead th {\n",
       "        text-align: right;\n",
       "    }\n",
       "</style>\n",
       "<table border=\"1\" class=\"dataframe\">\n",
       "  <thead>\n",
       "    <tr style=\"text-align: right;\">\n",
       "      <th>final_result</th>\n",
       "      <th>Distinction</th>\n",
       "      <th>Fail</th>\n",
       "      <th>Pass</th>\n",
       "      <th>Withdrawn</th>\n",
       "    </tr>\n",
       "    <tr>\n",
       "      <th>highest_education</th>\n",
       "      <th></th>\n",
       "      <th></th>\n",
       "      <th></th>\n",
       "      <th></th>\n",
       "    </tr>\n",
       "  </thead>\n",
       "  <tbody>\n",
       "    <tr>\n",
       "      <th>A Level or Equivalent</th>\n",
       "      <td>1437</td>\n",
       "      <td>2652</td>\n",
       "      <td>5622</td>\n",
       "      <td>3906</td>\n",
       "    </tr>\n",
       "    <tr>\n",
       "      <th>HE Qualification</th>\n",
       "      <td>641</td>\n",
       "      <td>748</td>\n",
       "      <td>1817</td>\n",
       "      <td>1196</td>\n",
       "    </tr>\n",
       "    <tr>\n",
       "      <th>Lower Than A Level</th>\n",
       "      <td>667</td>\n",
       "      <td>3338</td>\n",
       "      <td>4199</td>\n",
       "      <td>4416</td>\n",
       "    </tr>\n",
       "    <tr>\n",
       "      <th>No Formal quals</th>\n",
       "      <td>14</td>\n",
       "      <td>91</td>\n",
       "      <td>74</td>\n",
       "      <td>140</td>\n",
       "    </tr>\n",
       "    <tr>\n",
       "      <th>Post Graduate Qualification</th>\n",
       "      <td>55</td>\n",
       "      <td>29</td>\n",
       "      <td>58</td>\n",
       "      <td>44</td>\n",
       "    </tr>\n",
       "  </tbody>\n",
       "</table>\n",
       "</div>"
      ],
      "text/plain": [
       "final_result                 Distinction  Fail  Pass  Withdrawn\n",
       "highest_education                                              \n",
       "A Level or Equivalent               1437  2652  5622       3906\n",
       "HE Qualification                     641   748  1817       1196\n",
       "Lower Than A Level                   667  3338  4199       4416\n",
       "No Formal quals                       14    91    74        140\n",
       "Post Graduate Qualification           55    29    58         44"
      ]
     },
     "execution_count": 47,
     "metadata": {},
     "output_type": "execute_result"
    },
    {
     "name": "stdout",
     "output_type": "stream",
     "text": [
      "time: 5.66 ms\n"
     ]
    }
   ],
   "source": [
    "# the original contingency table\n",
    "table.table_orig"
   ]
  },
  {
   "cell_type": "code",
   "execution_count": 48,
   "id": "55f911df-47d0-4ac3-a61c-f4f7677c3cfd",
   "metadata": {
    "execution": {
     "iopub.execute_input": "2021-08-23T01:59:49.313733Z",
     "iopub.status.busy": "2021-08-23T01:59:49.313477Z",
     "iopub.status.idle": "2021-08-23T01:59:49.370104Z",
     "shell.execute_reply": "2021-08-23T01:59:49.369361Z",
     "shell.execute_reply.started": "2021-08-23T01:59:49.313707Z"
    },
    "tags": []
   },
   "outputs": [
    {
     "data": {
      "text/html": [
       "<div>\n",
       "<style scoped>\n",
       "    .dataframe tbody tr th:only-of-type {\n",
       "        vertical-align: middle;\n",
       "    }\n",
       "\n",
       "    .dataframe tbody tr th {\n",
       "        vertical-align: top;\n",
       "    }\n",
       "\n",
       "    .dataframe thead th {\n",
       "        text-align: right;\n",
       "    }\n",
       "</style>\n",
       "<table border=\"1\" class=\"dataframe\">\n",
       "  <thead>\n",
       "    <tr style=\"text-align: right;\">\n",
       "      <th>final_result</th>\n",
       "      <th>Distinction</th>\n",
       "      <th>Fail</th>\n",
       "      <th>Pass</th>\n",
       "      <th>Withdrawn</th>\n",
       "    </tr>\n",
       "    <tr>\n",
       "      <th>highest_education</th>\n",
       "      <th></th>\n",
       "      <th></th>\n",
       "      <th></th>\n",
       "      <th></th>\n",
       "    </tr>\n",
       "  </thead>\n",
       "  <tbody>\n",
       "    <tr>\n",
       "      <th>A Level or Equivalent</th>\n",
       "      <td>1230.356987</td>\n",
       "      <td>2998.503275</td>\n",
       "      <td>5146.162664</td>\n",
       "      <td>4241.977074</td>\n",
       "    </tr>\n",
       "    <tr>\n",
       "      <th>HE Qualification</th>\n",
       "      <td>397.740432</td>\n",
       "      <td>969.333291</td>\n",
       "      <td>1663.612253</td>\n",
       "      <td>1371.314025</td>\n",
       "    </tr>\n",
       "    <tr>\n",
       "      <th>Lower Than A Level</th>\n",
       "      <td>1140.273568</td>\n",
       "      <td>2778.960956</td>\n",
       "      <td>4769.374518</td>\n",
       "      <td>3931.390958</td>\n",
       "    </tr>\n",
       "    <tr>\n",
       "      <th>No Formal quals</th>\n",
       "      <td>28.823080</td>\n",
       "      <td>70.244734</td>\n",
       "      <td>120.557090</td>\n",
       "      <td>99.375096</td>\n",
       "    </tr>\n",
       "    <tr>\n",
       "      <th>Post Graduate Qualification</th>\n",
       "      <td>16.805934</td>\n",
       "      <td>40.957745</td>\n",
       "      <td>70.293475</td>\n",
       "      <td>57.942846</td>\n",
       "    </tr>\n",
       "  </tbody>\n",
       "</table>\n",
       "</div>"
      ],
      "text/plain": [
       "final_result                 Distinction         Fail         Pass  \\\n",
       "highest_education                                                    \n",
       "A Level or Equivalent        1230.356987  2998.503275  5146.162664   \n",
       "HE Qualification              397.740432   969.333291  1663.612253   \n",
       "Lower Than A Level           1140.273568  2778.960956  4769.374518   \n",
       "No Formal quals                28.823080    70.244734   120.557090   \n",
       "Post Graduate Qualification    16.805934    40.957745    70.293475   \n",
       "\n",
       "final_result                   Withdrawn  \n",
       "highest_education                         \n",
       "A Level or Equivalent        4241.977074  \n",
       "HE Qualification             1371.314025  \n",
       "Lower Than A Level           3931.390958  \n",
       "No Formal quals                99.375096  \n",
       "Post Graduate Qualification    57.942846  "
      ]
     },
     "execution_count": 48,
     "metadata": {},
     "output_type": "execute_result"
    },
    {
     "name": "stdout",
     "output_type": "stream",
     "text": [
      "time: 7.75 ms\n"
     ]
    }
   ],
   "source": [
    "# expected values if final_result was independent\n",
    "table.fittedvalues"
   ]
  },
  {
   "cell_type": "code",
   "execution_count": 49,
   "id": "60450ae5-220f-4b91-9811-9ed0e9b99f94",
   "metadata": {
    "execution": {
     "iopub.execute_input": "2021-08-23T01:59:49.371594Z",
     "iopub.status.busy": "2021-08-23T01:59:49.371343Z",
     "iopub.status.idle": "2021-08-23T01:59:49.428248Z",
     "shell.execute_reply": "2021-08-23T01:59:49.427301Z",
     "shell.execute_reply.started": "2021-08-23T01:59:49.371570Z"
    },
    "tags": []
   },
   "outputs": [
    {
     "data": {
      "text/html": [
       "<div>\n",
       "<style scoped>\n",
       "    .dataframe tbody tr th:only-of-type {\n",
       "        vertical-align: middle;\n",
       "    }\n",
       "\n",
       "    .dataframe tbody tr th {\n",
       "        vertical-align: top;\n",
       "    }\n",
       "\n",
       "    .dataframe thead th {\n",
       "        text-align: right;\n",
       "    }\n",
       "</style>\n",
       "<table border=\"1\" class=\"dataframe\">\n",
       "  <thead>\n",
       "    <tr style=\"text-align: right;\">\n",
       "      <th>final_result</th>\n",
       "      <th>Distinction</th>\n",
       "      <th>Fail</th>\n",
       "      <th>Pass</th>\n",
       "      <th>Withdrawn</th>\n",
       "    </tr>\n",
       "    <tr>\n",
       "      <th>highest_education</th>\n",
       "      <th></th>\n",
       "      <th></th>\n",
       "      <th></th>\n",
       "      <th></th>\n",
       "    </tr>\n",
       "  </thead>\n",
       "  <tbody>\n",
       "    <tr>\n",
       "      <th>A Level or Equivalent</th>\n",
       "      <td>5.891219</td>\n",
       "      <td>-6.327834</td>\n",
       "      <td>6.633103</td>\n",
       "      <td>-5.158524</td>\n",
       "    </tr>\n",
       "    <tr>\n",
       "      <th>HE Qualification</th>\n",
       "      <td>12.197479</td>\n",
       "      <td>-7.109027</td>\n",
       "      <td>3.760665</td>\n",
       "      <td>-4.734217</td>\n",
       "    </tr>\n",
       "    <tr>\n",
       "      <th>Lower Than A Level</th>\n",
       "      <td>-14.015472</td>\n",
       "      <td>10.604762</td>\n",
       "      <td>-8.259037</td>\n",
       "      <td>7.728913</td>\n",
       "    </tr>\n",
       "    <tr>\n",
       "      <th>No Formal quals</th>\n",
       "      <td>-2.761012</td>\n",
       "      <td>2.476404</td>\n",
       "      <td>-4.240230</td>\n",
       "      <td>4.075243</td>\n",
       "    </tr>\n",
       "    <tr>\n",
       "      <th>Post Graduate Qualification</th>\n",
       "      <td>9.316753</td>\n",
       "      <td>-1.868449</td>\n",
       "      <td>-1.466281</td>\n",
       "      <td>-1.831688</td>\n",
       "    </tr>\n",
       "  </tbody>\n",
       "</table>\n",
       "</div>"
      ],
      "text/plain": [
       "final_result                 Distinction       Fail      Pass  Withdrawn\n",
       "highest_education                                                       \n",
       "A Level or Equivalent           5.891219  -6.327834  6.633103  -5.158524\n",
       "HE Qualification               12.197479  -7.109027  3.760665  -4.734217\n",
       "Lower Than A Level            -14.015472  10.604762 -8.259037   7.728913\n",
       "No Formal quals                -2.761012   2.476404 -4.240230   4.075243\n",
       "Post Graduate Qualification     9.316753  -1.868449 -1.466281  -1.831688"
      ]
     },
     "execution_count": 49,
     "metadata": {},
     "output_type": "execute_result"
    },
    {
     "name": "stdout",
     "output_type": "stream",
     "text": [
      "time: 7.38 ms\n"
     ]
    }
   ],
   "source": [
    "# pearsons residuals: negatives indicate fewer results than expected, positives indicate more.\n",
    "table.resid_pearson"
   ]
  },
  {
   "cell_type": "markdown",
   "id": "d37baa4b-ae05-4d3e-94b7-51f703e5023a",
   "metadata": {},
   "source": [
    "From the contingency tables it appears that, in general, Distinction and Pass vary directly with education level. The higher the student's education level, the more likely the student is to pass or pass with distinction. Conversely, Withdrawn and Fail vary inversely with education level. In general, the lower the student's education level the more likely the student is to fail or withdraw. "
   ]
  },
  {
   "cell_type": "markdown",
   "id": "4ffac20d-dda7-4c3b-80e1-50093f75064b",
   "metadata": {},
   "source": [
    "## Chi-Square Test for `highest_education`\n",
    "Ho = `highest_education` and `final_result` are independent.\n",
    "\n",
    "Ha = `highest_education` and `final_result` are not independent.\n",
    "\n",
    "alpha = .05"
   ]
  },
  {
   "cell_type": "code",
   "execution_count": 50,
   "id": "72b376d8-e1e8-4b59-bcf3-66d7ffeb57cd",
   "metadata": {
    "execution": {
     "iopub.execute_input": "2021-08-23T01:59:49.429433Z",
     "iopub.status.busy": "2021-08-23T01:59:49.429265Z",
     "iopub.status.idle": "2021-08-23T01:59:49.478399Z",
     "shell.execute_reply": "2021-08-23T01:59:49.477673Z",
     "shell.execute_reply.started": "2021-08-23T01:59:49.429414Z"
    },
    "tags": []
   },
   "outputs": [
    {
     "name": "stdout",
     "output_type": "stream",
     "text": [
      "chi-squared = 962.2117100356752\n",
      "p value= 2.4827414817328365e-198\n",
      "degrees of freedom = 12\n",
      "time: 1.75 ms\n"
     ]
    }
   ],
   "source": [
    "# calculating chi-squared,p-value, degrees of freedom\n",
    "f.chi_sq_test(tabs)"
   ]
  },
  {
   "cell_type": "markdown",
   "id": "13755cda-8052-4688-a22b-9fb39f71e992",
   "metadata": {},
   "source": [
    "Since the p value is less than our alpha, we reject the null hypothesis and conclude that `highest_education` and `final_result` are not independent."
   ]
  },
  {
   "cell_type": "code",
   "execution_count": 51,
   "id": "ca358382-2f56-458f-b269-c1f10cc90ca8",
   "metadata": {
    "execution": {
     "iopub.execute_input": "2021-08-23T01:59:49.479563Z",
     "iopub.status.busy": "2021-08-23T01:59:49.479417Z",
     "iopub.status.idle": "2021-08-23T01:59:49.534409Z",
     "shell.execute_reply": "2021-08-23T01:59:49.533418Z",
     "shell.execute_reply.started": "2021-08-23T01:59:49.479546Z"
    },
    "tags": []
   },
   "outputs": [
    {
     "name": "stdout",
     "output_type": "stream",
     "text": [
      "Cramer's V Degrees of Freedom = 3\n",
      "\n",
      "Effect Size Thresholds\n",
      "   Degrees of Freedom  Small Effect  Medium Effect  Large Effect\n",
      "0                 1.0          0.10           0.30          0.50\n",
      "1                 2.0          0.07           0.21          0.35\n",
      "2                 3.0          0.06           0.17          0.29\n",
      "3                 4.0          0.05           0.15          0.25\n",
      "4                 5.0          0.04           0.13          0.22\n",
      "\n",
      "final_result\n",
      "Distinction    0.337608\n",
      "Fail           0.216260\n",
      "Pass           0.165077\n",
      "Withdrawn      0.181821\n",
      "dtype: float64\n",
      "time: 7.17 ms\n"
     ]
    }
   ],
   "source": [
    "# calculating cramer's v to measure the effect sizes\n",
    "f.cramers_v(tabs)"
   ]
  },
  {
   "cell_type": "markdown",
   "id": "f528cf61-7875-4fda-b0ab-e9e7100144a1",
   "metadata": {},
   "source": [
    "Adjusted for degrees of freedom, the Cramer's V results indicate that `highest_education ` has a medium effect on Pass, Fail, and Withdrawn, and a large effect on Distinction."
   ]
  },
  {
   "cell_type": "code",
   "execution_count": 83,
   "id": "747345fc-d535-4dbd-af3a-3bc05a9ac6bb",
   "metadata": {
    "execution": {
     "iopub.execute_input": "2021-08-23T08:32:50.471863Z",
     "iopub.status.busy": "2021-08-23T08:32:50.471450Z",
     "iopub.status.idle": "2021-08-23T08:32:50.775595Z",
     "shell.execute_reply": "2021-08-23T08:32:50.774865Z",
     "shell.execute_reply.started": "2021-08-23T08:32:50.471813Z"
    },
    "tags": []
   },
   "outputs": [
    {
     "data": {
      "image/png": "[encoded data removed]",
      "text/plain": [
       "<Figure size 1152x576 with 1 Axes>"
      ]
     },
     "metadata": {},
     "output_type": "display_data"
    },
    {
     "name": "stdout",
     "output_type": "stream",
     "text": [
      "time: 168 ms\n"
     ]
    }
   ],
   "source": [
    "v.outcome_cl(student_info)"
   ]
  },
  {
   "cell_type": "markdown",
   "id": "acaff095-8d8b-4546-add0-7620764c7ee8",
   "metadata": {},
   "source": [
    "## Course Load Analysis"
   ]
  },
  {
   "cell_type": "code",
   "execution_count": 55,
   "id": "78267e10-4080-459b-a7f6-e7dc44542576",
   "metadata": {
    "execution": {
     "iopub.execute_input": "2021-08-23T02:00:57.979969Z",
     "iopub.status.busy": "2021-08-23T02:00:57.979476Z",
     "iopub.status.idle": "2021-08-23T02:00:58.060815Z",
     "shell.execute_reply": "2021-08-23T02:00:58.060100Z",
     "shell.execute_reply.started": "2021-08-23T02:00:57.979906Z"
    },
    "tags": []
   },
   "outputs": [
    {
     "name": "stdout",
     "output_type": "stream",
     "text": [
      "time: 16.9 ms\n"
     ]
    }
   ],
   "source": [
    "# creating a contingency table\n",
    "tabs = pd.crosstab(student_info.course_load, student_info.final_result)"
   ]
  },
  {
   "cell_type": "code",
   "execution_count": 56,
   "id": "5e3a78d1-615b-4d5a-83f0-d3a973f98db5",
   "metadata": {
    "execution": {
     "iopub.execute_input": "2021-08-23T02:00:58.870203Z",
     "iopub.status.busy": "2021-08-23T02:00:58.869787Z",
     "iopub.status.idle": "2021-08-23T02:00:58.924969Z",
     "shell.execute_reply": "2021-08-23T02:00:58.924200Z",
     "shell.execute_reply.started": "2021-08-23T02:00:58.870159Z"
    },
    "tags": []
   },
   "outputs": [
    {
     "name": "stdout",
     "output_type": "stream",
     "text": [
      "time: 734 µs\n"
     ]
    }
   ],
   "source": [
    "# creating a statsmodels table object\n",
    "table = sm.stats.Table(tabs)"
   ]
  },
  {
   "cell_type": "code",
   "execution_count": 57,
   "id": "1ae7a77c-55de-4305-a8c7-1e92f01b9a2d",
   "metadata": {
    "execution": {
     "iopub.execute_input": "2021-08-23T02:00:59.318467Z",
     "iopub.status.busy": "2021-08-23T02:00:59.317880Z",
     "iopub.status.idle": "2021-08-23T02:00:59.388704Z",
     "shell.execute_reply": "2021-08-23T02:00:59.387868Z",
     "shell.execute_reply.started": "2021-08-23T02:00:59.318412Z"
    },
    "tags": []
   },
   "outputs": [
    {
     "data": {
      "text/html": [
       "<div>\n",
       "<style scoped>\n",
       "    .dataframe tbody tr th:only-of-type {\n",
       "        vertical-align: middle;\n",
       "    }\n",
       "\n",
       "    .dataframe tbody tr th {\n",
       "        vertical-align: top;\n",
       "    }\n",
       "\n",
       "    .dataframe thead th {\n",
       "        text-align: right;\n",
       "    }\n",
       "</style>\n",
       "<table border=\"1\" class=\"dataframe\">\n",
       "  <thead>\n",
       "    <tr style=\"text-align: right;\">\n",
       "      <th>final_result</th>\n",
       "      <th>Distinction</th>\n",
       "      <th>Fail</th>\n",
       "      <th>Pass</th>\n",
       "      <th>Withdrawn</th>\n",
       "    </tr>\n",
       "    <tr>\n",
       "      <th>course_load</th>\n",
       "      <th></th>\n",
       "      <th></th>\n",
       "      <th></th>\n",
       "      <th></th>\n",
       "    </tr>\n",
       "  </thead>\n",
       "  <tbody>\n",
       "    <tr>\n",
       "      <th>Light</th>\n",
       "      <td>1956</td>\n",
       "      <td>4606</td>\n",
       "      <td>8214</td>\n",
       "      <td>5092</td>\n",
       "    </tr>\n",
       "    <tr>\n",
       "      <th>Medium</th>\n",
       "      <td>784</td>\n",
       "      <td>1894</td>\n",
       "      <td>3053</td>\n",
       "      <td>3699</td>\n",
       "    </tr>\n",
       "    <tr>\n",
       "      <th>Heavy</th>\n",
       "      <td>74</td>\n",
       "      <td>358</td>\n",
       "      <td>503</td>\n",
       "      <td>911</td>\n",
       "    </tr>\n",
       "  </tbody>\n",
       "</table>\n",
       "</div>"
      ],
      "text/plain": [
       "final_result  Distinction  Fail  Pass  Withdrawn\n",
       "course_load                                     \n",
       "Light                1956  4606  8214       5092\n",
       "Medium                784  1894  3053       3699\n",
       "Heavy                  74   358   503        911"
      ]
     },
     "execution_count": 57,
     "metadata": {},
     "output_type": "execute_result"
    },
    {
     "name": "stdout",
     "output_type": "stream",
     "text": [
      "time: 5.45 ms\n"
     ]
    }
   ],
   "source": [
    "# the original contingency table\n",
    "table.table_orig"
   ]
  },
  {
   "cell_type": "code",
   "execution_count": 58,
   "id": "11ccc5c7-82aa-4f53-9593-7de058e658b7",
   "metadata": {
    "execution": {
     "iopub.execute_input": "2021-08-23T02:00:59.492320Z",
     "iopub.status.busy": "2021-08-23T02:00:59.492026Z",
     "iopub.status.idle": "2021-08-23T02:00:59.537631Z",
     "shell.execute_reply": "2021-08-23T02:00:59.536870Z",
     "shell.execute_reply.started": "2021-08-23T02:00:59.492289Z"
    },
    "tags": []
   },
   "outputs": [
    {
     "data": {
      "text/html": [
       "<div>\n",
       "<style scoped>\n",
       "    .dataframe tbody tr th:only-of-type {\n",
       "        vertical-align: middle;\n",
       "    }\n",
       "\n",
       "    .dataframe tbody tr th {\n",
       "        vertical-align: top;\n",
       "    }\n",
       "\n",
       "    .dataframe thead th {\n",
       "        text-align: right;\n",
       "    }\n",
       "</style>\n",
       "<table border=\"1\" class=\"dataframe\">\n",
       "  <thead>\n",
       "    <tr style=\"text-align: right;\">\n",
       "      <th>final_result</th>\n",
       "      <th>Distinction</th>\n",
       "      <th>Fail</th>\n",
       "      <th>Pass</th>\n",
       "      <th>Withdrawn</th>\n",
       "    </tr>\n",
       "    <tr>\n",
       "      <th>course_load</th>\n",
       "      <th></th>\n",
       "      <th></th>\n",
       "      <th></th>\n",
       "      <th></th>\n",
       "    </tr>\n",
       "  </thead>\n",
       "  <tbody>\n",
       "    <tr>\n",
       "      <th>Light</th>\n",
       "      <td>1795.162856</td>\n",
       "      <td>4374.991780</td>\n",
       "      <td>7508.552530</td>\n",
       "      <td>6189.292833</td>\n",
       "    </tr>\n",
       "    <tr>\n",
       "      <th>Medium</th>\n",
       "      <td>852.042769</td>\n",
       "      <td>2076.513614</td>\n",
       "      <td>3563.803622</td>\n",
       "      <td>2937.639995</td>\n",
       "    </tr>\n",
       "    <tr>\n",
       "      <th>Heavy</th>\n",
       "      <td>166.794375</td>\n",
       "      <td>406.494606</td>\n",
       "      <td>697.643848</td>\n",
       "      <td>575.067172</td>\n",
       "    </tr>\n",
       "  </tbody>\n",
       "</table>\n",
       "</div>"
      ],
      "text/plain": [
       "final_result  Distinction         Fail         Pass    Withdrawn\n",
       "course_load                                                     \n",
       "Light         1795.162856  4374.991780  7508.552530  6189.292833\n",
       "Medium         852.042769  2076.513614  3563.803622  2937.639995\n",
       "Heavy          166.794375   406.494606   697.643848   575.067172"
      ]
     },
     "execution_count": 58,
     "metadata": {},
     "output_type": "execute_result"
    },
    {
     "name": "stdout",
     "output_type": "stream",
     "text": [
      "time: 6.15 ms\n"
     ]
    }
   ],
   "source": [
    "# expected values if final_result was independent\n",
    "table.fittedvalues"
   ]
  },
  {
   "cell_type": "code",
   "execution_count": 59,
   "id": "c74e6ff1-e30a-4b93-a702-0d450ec96131",
   "metadata": {
    "execution": {
     "iopub.execute_input": "2021-08-23T02:00:59.664438Z",
     "iopub.status.busy": "2021-08-23T02:00:59.664169Z",
     "iopub.status.idle": "2021-08-23T02:00:59.707572Z",
     "shell.execute_reply": "2021-08-23T02:00:59.706884Z",
     "shell.execute_reply.started": "2021-08-23T02:00:59.664414Z"
    },
    "tags": []
   },
   "outputs": [
    {
     "data": {
      "text/html": [
       "<div>\n",
       "<style scoped>\n",
       "    .dataframe tbody tr th:only-of-type {\n",
       "        vertical-align: middle;\n",
       "    }\n",
       "\n",
       "    .dataframe tbody tr th {\n",
       "        vertical-align: top;\n",
       "    }\n",
       "\n",
       "    .dataframe thead th {\n",
       "        text-align: right;\n",
       "    }\n",
       "</style>\n",
       "<table border=\"1\" class=\"dataframe\">\n",
       "  <thead>\n",
       "    <tr style=\"text-align: right;\">\n",
       "      <th>final_result</th>\n",
       "      <th>Distinction</th>\n",
       "      <th>Fail</th>\n",
       "      <th>Pass</th>\n",
       "      <th>Withdrawn</th>\n",
       "    </tr>\n",
       "    <tr>\n",
       "      <th>course_load</th>\n",
       "      <th></th>\n",
       "      <th></th>\n",
       "      <th></th>\n",
       "      <th></th>\n",
       "    </tr>\n",
       "  </thead>\n",
       "  <tbody>\n",
       "    <tr>\n",
       "      <th>Light</th>\n",
       "      <td>3.796072</td>\n",
       "      <td>3.492519</td>\n",
       "      <td>8.141165</td>\n",
       "      <td>-13.947682</td>\n",
       "    </tr>\n",
       "    <tr>\n",
       "      <th>Medium</th>\n",
       "      <td>-2.331048</td>\n",
       "      <td>-4.005234</td>\n",
       "      <td>-8.556518</td>\n",
       "      <td>14.047233</td>\n",
       "    </tr>\n",
       "    <tr>\n",
       "      <th>Heavy</th>\n",
       "      <td>-7.185069</td>\n",
       "      <td>-2.405282</td>\n",
       "      <td>-7.369259</td>\n",
       "      <td>14.008549</td>\n",
       "    </tr>\n",
       "  </tbody>\n",
       "</table>\n",
       "</div>"
      ],
      "text/plain": [
       "final_result  Distinction      Fail      Pass  Withdrawn\n",
       "course_load                                             \n",
       "Light            3.796072  3.492519  8.141165 -13.947682\n",
       "Medium          -2.331048 -4.005234 -8.556518  14.047233\n",
       "Heavy           -7.185069 -2.405282 -7.369259  14.008549"
      ]
     },
     "execution_count": 59,
     "metadata": {},
     "output_type": "execute_result"
    },
    {
     "name": "stdout",
     "output_type": "stream",
     "text": [
      "time: 5.95 ms\n"
     ]
    }
   ],
   "source": [
    "# pearsons residuals: negatives indicate fewer results than expected, positives indicate more.\n",
    "table.resid_pearson"
   ]
  },
  {
   "cell_type": "markdown",
   "id": "c1d58c00-f4ce-49e9-b938-dcfff685db75",
   "metadata": {},
   "source": [
    "From the contingency tables it appears that a light course load contributes positively to Distinction, Pass, and (counterintuitively) Fail, while it contributes negatively to Withdrawn. Conversely,  Medium and Heavy course loads contribute negatively to Distinction, Pass and (again, counterintuitively) Fail,  while they contribute positively to Withdrawn."
   ]
  },
  {
   "cell_type": "markdown",
   "id": "b5b87fb0-b232-4ef4-8cab-cc8cb0925bdb",
   "metadata": {
    "tags": []
   },
   "source": [
    "## Chi-Square Test for `course_load`\n",
    "Ho = `course_load` and `final_result` are independent.\n",
    "\n",
    "Ha = `course_load` and `final_result` are not independent.\n",
    "\n",
    "alpha = .05"
   ]
  },
  {
   "cell_type": "code",
   "execution_count": 60,
   "id": "535b8959-b94d-46a0-aef4-a4bc107da328",
   "metadata": {
    "execution": {
     "iopub.execute_input": "2021-08-23T02:01:00.312953Z",
     "iopub.status.busy": "2021-08-23T02:01:00.312451Z",
     "iopub.status.idle": "2021-08-23T02:01:00.380102Z",
     "shell.execute_reply": "2021-08-23T02:01:00.379292Z",
     "shell.execute_reply.started": "2021-08-23T02:01:00.312900Z"
    },
    "tags": []
   },
   "outputs": [
    {
     "name": "stdout",
     "output_type": "stream",
     "text": [
      "chi-squared = 887.3947035023172\n",
      "p value= 1.9942967713148247e-188\n",
      "degrees of freedom = 6\n",
      "time: 1.52 ms\n"
     ]
    }
   ],
   "source": [
    "# calculating chi-squared,p-value, degrees of freedom\n",
    "f.chi_sq_test(tabs)"
   ]
  },
  {
   "cell_type": "markdown",
   "id": "40806db5-603d-41c8-bd3b-9966fff28727",
   "metadata": {},
   "source": [
    "Since the p value is less than our alpha, we reject the null hypothesis and conclude that `course_load` and `final_result` are not independent."
   ]
  },
  {
   "cell_type": "code",
   "execution_count": 61,
   "id": "811c0af4-4f8c-4458-87f3-ac2b813b9ca4",
   "metadata": {
    "execution": {
     "iopub.execute_input": "2021-08-23T02:01:00.720978Z",
     "iopub.status.busy": "2021-08-23T02:01:00.720444Z",
     "iopub.status.idle": "2021-08-23T02:01:00.792828Z",
     "shell.execute_reply": "2021-08-23T02:01:00.792247Z",
     "shell.execute_reply.started": "2021-08-23T02:01:00.720930Z"
    },
    "tags": []
   },
   "outputs": [
    {
     "name": "stdout",
     "output_type": "stream",
     "text": [
      "Cramer's V Degrees of Freedom = 2\n",
      "\n",
      "Effect Size Thresholds\n",
      "   Degrees of Freedom  Small Effect  Medium Effect  Large Effect\n",
      "0                 1.0          0.10           0.30          0.50\n",
      "1                 2.0          0.07           0.21          0.35\n",
      "2                 3.0          0.06           0.17          0.29\n",
      "3                 4.0          0.05           0.15          0.25\n",
      "4                 5.0          0.04           0.13          0.22\n",
      "\n",
      "final_result\n",
      "Distinction    0.397083\n",
      "Fail           0.254358\n",
      "Pass           0.194158\n",
      "Withdrawn      0.213852\n",
      "dtype: float64\n",
      "time: 5.18 ms\n"
     ]
    }
   ],
   "source": [
    "# calculating cramer's v to measure the effect sizes\n",
    "f.cramers_v(tabs)"
   ]
  },
  {
   "cell_type": "markdown",
   "id": "4bcf596a-92e6-47b4-82d8-60eea4127bb6",
   "metadata": {},
   "source": [
    "Adjusted for degrees of freedom, the Cramer's V results indicate that `course_load` has a small effect on Pass, a medium effect on Withdraw and Fail, and a large effect on Distinction."
   ]
  },
  {
   "cell_type": "markdown",
   "id": "ca144970-cff2-453a-bf17-72e5f81880d5",
   "metadata": {},
   "source": [
    "## Exploring VLE & Assessment Data"
   ]
  },
  {
   "cell_type": "code",
   "execution_count": 62,
   "id": "1c1d25a9-560f-475f-85ac-528b95a68887",
   "metadata": {
    "execution": {
     "iopub.execute_input": "2021-08-23T02:01:01.326218Z",
     "iopub.status.busy": "2021-08-23T02:01:01.325704Z",
     "iopub.status.idle": "2021-08-23T02:01:20.879385Z",
     "shell.execute_reply": "2021-08-23T02:01:20.878812Z",
     "shell.execute_reply.started": "2021-08-23T02:01:01.326154Z"
    },
    "tags": []
   },
   "outputs": [
    {
     "name": "stdout",
     "output_type": "stream",
     "text": [
      "time: 19.5 s\n"
     ]
    }
   ],
   "source": [
    "# creating dataframe\n",
    "assessment_vle = db.data_prep_full()"
   ]
  },
  {
   "cell_type": "code",
   "execution_count": 63,
   "id": "1fea292d-59c1-450f-af1d-ea3382ed9468",
   "metadata": {
    "execution": {
     "iopub.execute_input": "2021-08-23T02:01:20.881364Z",
     "iopub.status.busy": "2021-08-23T02:01:20.881068Z",
     "iopub.status.idle": "2021-08-23T02:01:20.928871Z",
     "shell.execute_reply": "2021-08-23T02:01:20.928024Z",
     "shell.execute_reply.started": "2021-08-23T02:01:20.881338Z"
    },
    "tags": []
   },
   "outputs": [
    {
     "name": "stdout",
     "output_type": "stream",
     "text": [
      "time: 654 µs\n"
     ]
    }
   ],
   "source": [
    "drops = ['row_id', 'studied_credits',\n",
    "         'id_site', 'sum_click', 'date_sub', 'date',\n",
    "         'course_length', 'max_date']"
   ]
  },
  {
   "cell_type": "code",
   "execution_count": 64,
   "id": "ba5611f9-95b2-434e-845d-83037b5e467a",
   "metadata": {
    "execution": {
     "iopub.execute_input": "2021-08-23T02:01:20.930377Z",
     "iopub.status.busy": "2021-08-23T02:01:20.930056Z",
     "iopub.status.idle": "2021-08-23T02:01:21.048292Z",
     "shell.execute_reply": "2021-08-23T02:01:21.047655Z",
     "shell.execute_reply.started": "2021-08-23T02:01:20.930340Z"
    },
    "tags": []
   },
   "outputs": [
    {
     "name": "stdout",
     "output_type": "stream",
     "text": [
      "time: 74.9 ms\n"
     ]
    }
   ],
   "source": [
    "assessment_vle = db.pipe_cleaner_wa(assessment_vle, drops).reset_index(drop=True)"
   ]
  },
  {
   "cell_type": "code",
   "execution_count": 65,
   "id": "52139e18-e9fb-4eaa-8aa5-d2e1b82fc4c7",
   "metadata": {
    "execution": {
     "iopub.execute_input": "2021-08-23T02:01:21.050719Z",
     "iopub.status.busy": "2021-08-23T02:01:21.050499Z",
     "iopub.status.idle": "2021-08-23T02:01:21.116940Z",
     "shell.execute_reply": "2021-08-23T02:01:21.116354Z",
     "shell.execute_reply.started": "2021-08-23T02:01:21.050692Z"
    },
    "tags": []
   },
   "outputs": [
    {
     "name": "stdout",
     "output_type": "stream",
     "text": [
      "<class 'pandas.core.frame.DataFrame'>\n",
      "RangeIndex: 21642 entries, 0 to 21641\n",
      "Data columns (total 15 columns):\n",
      " #   Column                Non-Null Count  Dtype   \n",
      "---  ------                --------------  -----   \n",
      " 0   target                21642 non-null  int64   \n",
      " 1   gender                21642 non-null  object  \n",
      " 2   region                21642 non-null  object  \n",
      " 3   highest_education     21642 non-null  object  \n",
      " 4   imd_band              21642 non-null  object  \n",
      " 5   age_band              21642 non-null  object  \n",
      " 6   num_of_prev_attempts  21642 non-null  int64   \n",
      " 7   disability            21642 non-null  object  \n",
      " 8   final_result          21642 non-null  object  \n",
      " 9   weighted_ave          21642 non-null  float64 \n",
      " 10  mean_score            21642 non-null  float64 \n",
      " 11  median_score          21642 non-null  float64 \n",
      " 12  sum_activity          21642 non-null  int64   \n",
      " 13  activity_level        21642 non-null  category\n",
      " 14  course_load           21642 non-null  category\n",
      "dtypes: category(2), float64(3), int64(3), object(7)\n",
      "memory usage: 2.2+ MB\n",
      "time: 19.1 ms\n"
     ]
    }
   ],
   "source": [
    "assessment_vle.info()"
   ]
  },
  {
   "cell_type": "markdown",
   "id": "d3bfef92-3de4-4240-989f-ed91c99aeebc",
   "metadata": {},
   "source": [
    "## Activity Level"
   ]
  },
  {
   "cell_type": "code",
   "execution_count": 66,
   "id": "64b24cd7-edef-431a-8239-026cea6b4d2f",
   "metadata": {
    "execution": {
     "iopub.execute_input": "2021-08-23T02:01:21.118155Z",
     "iopub.status.busy": "2021-08-23T02:01:21.117928Z",
     "iopub.status.idle": "2021-08-23T02:01:21.192573Z",
     "shell.execute_reply": "2021-08-23T02:01:21.191836Z",
     "shell.execute_reply.started": "2021-08-23T02:01:21.118133Z"
    },
    "tags": []
   },
   "outputs": [
    {
     "name": "stdout",
     "output_type": "stream",
     "text": [
      "<class 'pandas.core.frame.DataFrame'>\n",
      "RangeIndex: 21642 entries, 0 to 21641\n",
      "Data columns (total 15 columns):\n",
      " #   Column                Non-Null Count  Dtype   \n",
      "---  ------                --------------  -----   \n",
      " 0   target                21642 non-null  int64   \n",
      " 1   gender                21642 non-null  object  \n",
      " 2   region                21642 non-null  object  \n",
      " 3   highest_education     21642 non-null  object  \n",
      " 4   imd_band              21642 non-null  object  \n",
      " 5   age_band              21642 non-null  object  \n",
      " 6   num_of_prev_attempts  21642 non-null  int64   \n",
      " 7   disability            21642 non-null  object  \n",
      " 8   final_result          21642 non-null  object  \n",
      " 9   weighted_ave          21642 non-null  float64 \n",
      " 10  mean_score            21642 non-null  float64 \n",
      " 11  median_score          21642 non-null  float64 \n",
      " 12  sum_activity          21642 non-null  int64   \n",
      " 13  activity_level        21642 non-null  category\n",
      " 14  course_load           21642 non-null  category\n",
      "dtypes: category(2), float64(3), int64(3), object(7)\n",
      "memory usage: 2.2+ MB\n",
      "time: 22.3 ms\n"
     ]
    }
   ],
   "source": [
    "assessment_vle.info()"
   ]
  },
  {
   "cell_type": "code",
   "execution_count": 67,
   "id": "84400e7d-c4c8-4e3f-aa08-4b9e8bc735ae",
   "metadata": {
    "execution": {
     "iopub.execute_input": "2021-08-23T02:01:21.193775Z",
     "iopub.status.busy": "2021-08-23T02:01:21.193601Z",
     "iopub.status.idle": "2021-08-23T02:01:21.605848Z",
     "shell.execute_reply": "2021-08-23T02:01:21.605263Z",
     "shell.execute_reply.started": "2021-08-23T02:01:21.193754Z"
    },
    "tags": []
   },
   "outputs": [
    {
     "data": {
      "image/png": "[encoded data removed]",
      "text/plain": [
       "<Figure size 1152x576 with 1 Axes>"
      ]
     },
     "metadata": {},
     "output_type": "display_data"
    },
    {
     "name": "stdout",
     "output_type": "stream",
     "text": [
      "time: 366 ms\n"
     ]
    }
   ],
   "source": [
    "v.outcomes_sumact(assessment_vle)"
   ]
  },
  {
   "cell_type": "markdown",
   "id": "47c0bd2f-031a-45c1-af9d-336d953735d9",
   "metadata": {},
   "source": [
    "## Activity Level Contingency Table"
   ]
  },
  {
   "cell_type": "code",
   "execution_count": 68,
   "id": "726a879f-7c94-4fb4-a822-38c0d493dba6",
   "metadata": {
    "execution": {
     "iopub.execute_input": "2021-08-23T02:01:21.607524Z",
     "iopub.status.busy": "2021-08-23T02:01:21.607197Z",
     "iopub.status.idle": "2021-08-23T02:01:21.665589Z",
     "shell.execute_reply": "2021-08-23T02:01:21.665072Z",
     "shell.execute_reply.started": "2021-08-23T02:01:21.607501Z"
    },
    "tags": []
   },
   "outputs": [
    {
     "name": "stdout",
     "output_type": "stream",
     "text": [
      "time: 17.1 ms\n"
     ]
    }
   ],
   "source": [
    "# creating a contingency table\n",
    "tabs = pd.crosstab(assessment_vle.activity_level, assessment_vle.final_result)"
   ]
  },
  {
   "cell_type": "code",
   "execution_count": 69,
   "id": "11888b4d-132f-4f28-a00a-3ef2c3028462",
   "metadata": {
    "execution": {
     "iopub.execute_input": "2021-08-23T02:01:21.666724Z",
     "iopub.status.busy": "2021-08-23T02:01:21.666501Z",
     "iopub.status.idle": "2021-08-23T02:01:21.709278Z",
     "shell.execute_reply": "2021-08-23T02:01:21.708665Z",
     "shell.execute_reply.started": "2021-08-23T02:01:21.666701Z"
    },
    "tags": []
   },
   "outputs": [
    {
     "name": "stdout",
     "output_type": "stream",
     "text": [
      "time: 631 µs\n"
     ]
    }
   ],
   "source": [
    "# creating a statsmodels table object\n",
    "table = sm.stats.Table(tabs)"
   ]
  },
  {
   "cell_type": "code",
   "execution_count": 66,
   "id": "535fc784-1746-49ac-ad5f-17017550fa08",
   "metadata": {
    "execution": {
     "iopub.execute_input": "2021-08-21T22:52:15.762738Z",
     "iopub.status.busy": "2021-08-21T22:52:15.762543Z",
     "iopub.status.idle": "2021-08-21T22:52:15.826238Z",
     "shell.execute_reply": "2021-08-21T22:52:15.825053Z",
     "shell.execute_reply.started": "2021-08-21T22:52:15.762713Z"
    },
    "tags": []
   },
   "outputs": [
    {
     "data": {
      "text/html": [
       "<div>\n",
       "<style scoped>\n",
       "    .dataframe tbody tr th:only-of-type {\n",
       "        vertical-align: middle;\n",
       "    }\n",
       "\n",
       "    .dataframe tbody tr th {\n",
       "        vertical-align: top;\n",
       "    }\n",
       "\n",
       "    .dataframe thead th {\n",
       "        text-align: right;\n",
       "    }\n",
       "</style>\n",
       "<table border=\"1\" class=\"dataframe\">\n",
       "  <thead>\n",
       "    <tr style=\"text-align: right;\">\n",
       "      <th>final_result</th>\n",
       "      <th>Distinction</th>\n",
       "      <th>Fail</th>\n",
       "      <th>Pass</th>\n",
       "      <th>Withdrawn</th>\n",
       "    </tr>\n",
       "    <tr>\n",
       "      <th>activity_level</th>\n",
       "      <th></th>\n",
       "      <th></th>\n",
       "      <th></th>\n",
       "      <th></th>\n",
       "    </tr>\n",
       "  </thead>\n",
       "  <tbody>\n",
       "    <tr>\n",
       "      <th>Very Light</th>\n",
       "      <td>95</td>\n",
       "      <td>2310</td>\n",
       "      <td>933</td>\n",
       "      <td>2175</td>\n",
       "    </tr>\n",
       "    <tr>\n",
       "      <th>Light</th>\n",
       "      <td>433</td>\n",
       "      <td>1436</td>\n",
       "      <td>2327</td>\n",
       "      <td>1273</td>\n",
       "    </tr>\n",
       "    <tr>\n",
       "      <th>Medium</th>\n",
       "      <td>598</td>\n",
       "      <td>963</td>\n",
       "      <td>3163</td>\n",
       "      <td>682</td>\n",
       "    </tr>\n",
       "    <tr>\n",
       "      <th>Heavy</th>\n",
       "      <td>854</td>\n",
       "      <td>566</td>\n",
       "      <td>3542</td>\n",
       "      <td>292</td>\n",
       "    </tr>\n",
       "  </tbody>\n",
       "</table>\n",
       "</div>"
      ],
      "text/plain": [
       "final_result    Distinction  Fail  Pass  Withdrawn\n",
       "activity_level                                    \n",
       "Very Light               95  2310   933       2175\n",
       "Light                   433  1436  2327       1273\n",
       "Medium                  598   963  3163        682\n",
       "Heavy                   854   566  3542        292"
      ]
     },
     "execution_count": 66,
     "metadata": {},
     "output_type": "execute_result"
    },
    {
     "name": "stdout",
     "output_type": "stream",
     "text": [
      "time: 6.4 ms\n"
     ]
    }
   ],
   "source": [
    "# the original contingency table\n",
    "table.table_orig"
   ]
  },
  {
   "cell_type": "code",
   "execution_count": 70,
   "id": "e92f00ec-8a98-4e14-9226-7292f26275be",
   "metadata": {
    "execution": {
     "iopub.execute_input": "2021-08-23T02:01:21.710511Z",
     "iopub.status.busy": "2021-08-23T02:01:21.710307Z",
     "iopub.status.idle": "2021-08-23T02:01:21.764674Z",
     "shell.execute_reply": "2021-08-23T02:01:21.763874Z",
     "shell.execute_reply.started": "2021-08-23T02:01:21.710489Z"
    },
    "tags": []
   },
   "outputs": [
    {
     "data": {
      "text/html": [
       "<div>\n",
       "<style scoped>\n",
       "    .dataframe tbody tr th:only-of-type {\n",
       "        vertical-align: middle;\n",
       "    }\n",
       "\n",
       "    .dataframe tbody tr th {\n",
       "        vertical-align: top;\n",
       "    }\n",
       "\n",
       "    .dataframe thead th {\n",
       "        text-align: right;\n",
       "    }\n",
       "</style>\n",
       "<table border=\"1\" class=\"dataframe\">\n",
       "  <thead>\n",
       "    <tr style=\"text-align: right;\">\n",
       "      <th>final_result</th>\n",
       "      <th>Distinction</th>\n",
       "      <th>Fail</th>\n",
       "      <th>Pass</th>\n",
       "      <th>Withdrawn</th>\n",
       "    </tr>\n",
       "    <tr>\n",
       "      <th>activity_level</th>\n",
       "      <th></th>\n",
       "      <th></th>\n",
       "      <th></th>\n",
       "      <th></th>\n",
       "    </tr>\n",
       "  </thead>\n",
       "  <tbody>\n",
       "    <tr>\n",
       "      <th>Very Light</th>\n",
       "      <td>504.377599</td>\n",
       "      <td>1343.733250</td>\n",
       "      <td>2538.445846</td>\n",
       "      <td>1126.443305</td>\n",
       "    </tr>\n",
       "    <tr>\n",
       "      <th>Light</th>\n",
       "      <td>500.352093</td>\n",
       "      <td>1333.008733</td>\n",
       "      <td>2518.186166</td>\n",
       "      <td>1117.453008</td>\n",
       "    </tr>\n",
       "    <tr>\n",
       "      <th>Medium</th>\n",
       "      <td>494.588301</td>\n",
       "      <td>1317.653174</td>\n",
       "      <td>2489.177987</td>\n",
       "      <td>1104.580538</td>\n",
       "    </tr>\n",
       "    <tr>\n",
       "      <th>Heavy</th>\n",
       "      <td>480.682007</td>\n",
       "      <td>1280.604842</td>\n",
       "      <td>2419.190001</td>\n",
       "      <td>1073.523149</td>\n",
       "    </tr>\n",
       "  </tbody>\n",
       "</table>\n",
       "</div>"
      ],
      "text/plain": [
       "final_result    Distinction         Fail         Pass    Withdrawn\n",
       "activity_level                                                    \n",
       "Very Light       504.377599  1343.733250  2538.445846  1126.443305\n",
       "Light            500.352093  1333.008733  2518.186166  1117.453008\n",
       "Medium           494.588301  1317.653174  2489.177987  1104.580538\n",
       "Heavy            480.682007  1280.604842  2419.190001  1073.523149"
      ]
     },
     "execution_count": 70,
     "metadata": {},
     "output_type": "execute_result"
    },
    {
     "name": "stdout",
     "output_type": "stream",
     "text": [
      "time: 10.3 ms\n"
     ]
    }
   ],
   "source": [
    "# expected values if final_result was independent\n",
    "table.fittedvalues"
   ]
  },
  {
   "cell_type": "code",
   "execution_count": 71,
   "id": "6717b75a-a9a1-41ef-a666-7c1acf63b7ff",
   "metadata": {
    "execution": {
     "iopub.execute_input": "2021-08-23T02:01:21.767473Z",
     "iopub.status.busy": "2021-08-23T02:01:21.767211Z",
     "iopub.status.idle": "2021-08-23T02:01:21.820493Z",
     "shell.execute_reply": "2021-08-23T02:01:21.819749Z",
     "shell.execute_reply.started": "2021-08-23T02:01:21.767452Z"
    },
    "tags": []
   },
   "outputs": [
    {
     "data": {
      "text/html": [
       "<div>\n",
       "<style scoped>\n",
       "    .dataframe tbody tr th:only-of-type {\n",
       "        vertical-align: middle;\n",
       "    }\n",
       "\n",
       "    .dataframe tbody tr th {\n",
       "        vertical-align: top;\n",
       "    }\n",
       "\n",
       "    .dataframe thead th {\n",
       "        text-align: right;\n",
       "    }\n",
       "</style>\n",
       "<table border=\"1\" class=\"dataframe\">\n",
       "  <thead>\n",
       "    <tr style=\"text-align: right;\">\n",
       "      <th>final_result</th>\n",
       "      <th>Distinction</th>\n",
       "      <th>Fail</th>\n",
       "      <th>Pass</th>\n",
       "      <th>Withdrawn</th>\n",
       "    </tr>\n",
       "    <tr>\n",
       "      <th>activity_level</th>\n",
       "      <th></th>\n",
       "      <th></th>\n",
       "      <th></th>\n",
       "      <th></th>\n",
       "    </tr>\n",
       "  </thead>\n",
       "  <tbody>\n",
       "    <tr>\n",
       "      <th>Very Light</th>\n",
       "      <td>-18.228301</td>\n",
       "      <td>26.359702</td>\n",
       "      <td>-31.864838</td>\n",
       "      <td>31.241886</td>\n",
       "    </tr>\n",
       "    <tr>\n",
       "      <th>Light</th>\n",
       "      <td>-3.011017</td>\n",
       "      <td>2.820875</td>\n",
       "      <td>-3.809891</td>\n",
       "      <td>4.653149</td>\n",
       "    </tr>\n",
       "    <tr>\n",
       "      <th>Medium</th>\n",
       "      <td>4.649944</td>\n",
       "      <td>-9.770196</td>\n",
       "      <td>13.505704</td>\n",
       "      <td>-12.714837</td>\n",
       "    </tr>\n",
       "    <tr>\n",
       "      <th>Heavy</th>\n",
       "      <td>17.027465</td>\n",
       "      <td>-19.969095</td>\n",
       "      <td>22.828180</td>\n",
       "      <td>-23.852623</td>\n",
       "    </tr>\n",
       "  </tbody>\n",
       "</table>\n",
       "</div>"
      ],
      "text/plain": [
       "final_result    Distinction       Fail       Pass  Withdrawn\n",
       "activity_level                                              \n",
       "Very Light       -18.228301  26.359702 -31.864838  31.241886\n",
       "Light             -3.011017   2.820875  -3.809891   4.653149\n",
       "Medium             4.649944  -9.770196  13.505704 -12.714837\n",
       "Heavy             17.027465 -19.969095  22.828180 -23.852623"
      ]
     },
     "execution_count": 71,
     "metadata": {},
     "output_type": "execute_result"
    },
    {
     "name": "stdout",
     "output_type": "stream",
     "text": [
      "time: 6.87 ms\n"
     ]
    }
   ],
   "source": [
    "# pearsons residuals: negatives indicate fewer results than expected, positives indicate more.\n",
    "table.resid_pearson"
   ]
  },
  {
   "cell_type": "markdown",
   "id": "7a0b7646-f7d7-42b1-a298-76e52dace9e5",
   "metadata": {},
   "source": [
    "From the contingency tables it appears that a light activity levels contribute negatively to Distinction and  Pass, while it contributes positively to Withdrawn and Fail. Conversely,  Medium and Heavy activity levels contribute positively to Distinction an Pass, while they contribute negatively to Withdrawn and Fail."
   ]
  },
  {
   "cell_type": "markdown",
   "id": "7f845ef7-62c6-4b65-87e2-e4b7970e3926",
   "metadata": {},
   "source": [
    "## Chi-Square Test for `activity_level`\n",
    "Ho = `activity_level` and `final_result` are independent.\n",
    "\n",
    "Ha = `activity_level` and `final_result` are not independent.\n",
    "\n",
    "alpha = .05"
   ]
  },
  {
   "cell_type": "code",
   "execution_count": 72,
   "id": "04f3175d-2497-40ef-945d-bbe6a92c9801",
   "metadata": {
    "execution": {
     "iopub.execute_input": "2021-08-23T02:01:21.821729Z",
     "iopub.status.busy": "2021-08-23T02:01:21.821545Z",
     "iopub.status.idle": "2021-08-23T02:01:21.876862Z",
     "shell.execute_reply": "2021-08-23T02:01:21.875764Z",
     "shell.execute_reply.started": "2021-08-23T02:01:21.821707Z"
    },
    "tags": []
   },
   "outputs": [
    {
     "name": "stdout",
     "output_type": "stream",
     "text": [
      "chi-squared = 5311.641369904437\n",
      "p value= 0.0\n",
      "degrees of freedom = 9\n",
      "time: 1.45 ms\n"
     ]
    }
   ],
   "source": [
    "# calculating chi-squared,p-value, degrees of freedom\n",
    "f.chi_sq_test(tabs)"
   ]
  },
  {
   "cell_type": "markdown",
   "id": "efb5ba04-7c1d-49c8-8bed-535ae6dfe155",
   "metadata": {},
   "source": [
    "Since the p value is less than our alpha, we reject the null hypothesis and conclude that `activity_level` and `final_result` are not independent."
   ]
  },
  {
   "cell_type": "code",
   "execution_count": 73,
   "id": "0192a76e-9414-4531-bc8d-b3bcce4fa1f3",
   "metadata": {
    "execution": {
     "iopub.execute_input": "2021-08-23T02:01:21.878284Z",
     "iopub.status.busy": "2021-08-23T02:01:21.878003Z",
     "iopub.status.idle": "2021-08-23T02:01:21.932600Z",
     "shell.execute_reply": "2021-08-23T02:01:21.931850Z",
     "shell.execute_reply.started": "2021-08-23T02:01:21.878240Z"
    },
    "tags": []
   },
   "outputs": [
    {
     "name": "stdout",
     "output_type": "stream",
     "text": [
      "Cramer's V Degrees of Freedom = 3\n",
      "\n",
      "Effect Size Thresholds\n",
      "   Degrees of Freedom  Small Effect  Medium Effect  Large Effect\n",
      "0                 1.0          0.10           0.30          0.50\n",
      "1                 2.0          0.07           0.21          0.35\n",
      "2                 3.0          0.06           0.17          0.29\n",
      "3                 4.0          0.05           0.15          0.25\n",
      "4                 5.0          0.04           0.13          0.22\n",
      "\n",
      "final_result\n",
      "Distinction    0.945630\n",
      "Fail           0.579352\n",
      "Pass           0.421517\n",
      "Withdrawn      0.632768\n",
      "dtype: float64\n",
      "time: 5.11 ms\n"
     ]
    }
   ],
   "source": [
    "# calculating cramer's v to measure the effect sizes\n",
    "f.cramers_v(tabs)"
   ]
  },
  {
   "cell_type": "markdown",
   "id": "788aed9a-f30a-4b62-8bb5-3b667fe2571a",
   "metadata": {},
   "source": [
    "Adjusted for degrees of freedom, the Cramer's V results indicate that `activity_level` has a large effect on all of the outcomes."
   ]
  }
 ],
 "metadata": {
  "kernelspec": {
   "display_name": "oo",
   "language": "python",
   "name": "oo"
  },
  "language_info": {
   "codemirror_mode": {
    "name": "ipython",
    "version": 3
   },
   "file_extension": ".py",
   "mimetype": "text/x-python",
   "name": "python",
   "nbconvert_exporter": "python",
   "pygments_lexer": "ipython3",
   "version": "3.9.6"
  },
  "toc-autonumbering": false,
  "toc-showcode": false,
  "toc-showmarkdowntxt": false
 },
 "nbformat": 4,
 "nbformat_minor": 5
}
