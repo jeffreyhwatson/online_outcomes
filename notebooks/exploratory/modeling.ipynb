{
 "cells": [
  {
   "cell_type": "code",
   "execution_count": null,
   "id": "53be7bdc-2f06-4646-a87d-a78c96f4bddf",
   "metadata": {
    "tags": []
   },
   "outputs": [],
   "source": [
    "%load_ext autoreload\n",
    "%load_ext autotime\n",
    "%autoreload 2"
   ]
  },
  {
   "cell_type": "markdown",
   "id": "05bbef7f-2a94-4fbb-9959-faeabe9fd182",
   "metadata": {},
   "source": [
    "## Imports"
   ]
  },
  {
   "cell_type": "code",
   "execution_count": null,
   "id": "1ef8b0a9-c9fc-4937-a65a-c81da0ad0ba5",
   "metadata": {
    "tags": []
   },
   "outputs": [],
   "source": [
    "# importing packages\n",
    "import os, sys\n",
    "import pandas as pd\n",
    "import numpy as np\n",
    "import warnings\n",
    "\n",
    "# setting project path\n",
    "gparent = os.path.join(os.pardir, os.pardir)\n",
    "sys.path.append(gparent)\n",
    "\n",
    "from src import helper_functions as f\n",
    "from src import visualizations as v\n",
    "from src import class_Database as d\n",
    "from src import class_Harness as h\n",
    "\n",
    "from sklearn.model_selection import GridSearchCV, RandomizedSearchCV\n",
    "from sklearn.preprocessing import OneHotEncoder, StandardScaler, MinMaxScaler\n",
    "from sklearn.compose import make_column_selector, make_column_transformer\n",
    "from sklearn.pipeline import make_pipeline \n",
    "from sklearn.metrics import (accuracy_score, recall_score, precision_score,\n",
    "                             f1_score, make_scorer, confusion_matrix)\n",
    "from sklearn.dummy import DummyClassifier\n",
    "from sklearn.naive_bayes import MultinomialNB\n",
    "from sklearn.linear_model import LogisticRegression\n",
    "from sklearn.neighbors import KNeighborsClassifier\n",
    "from sklearn.svm import SVC, LinearSVC \n",
    "from sklearn.tree import DecisionTreeClassifier, export_graphviz, plot_tree\n",
    "from sklearn.ensemble import (BaggingClassifier, AdaBoostClassifier,\n",
    "                              RandomForestClassifier, VotingClassifier)\n",
    "import xgboost as xgb\n",
    "from xgboost import XGBClassifier, plot_importance\n",
    "\n",
    "from keras import layers, models, optimizers, losses, metrics\n",
    "from keras.models import Sequential\n",
    "from keras.layers import Dense\n",
    "from keras.wrappers.scikit_learn import KerasClassifier\n",
    "\n",
    "import matplotlib.pyplot as plt\n",
    "import seaborn as sns\n",
    "import graphviz\n",
    "%matplotlib inline\n",
    "\n",
    "sns.set_theme('talk')\n",
    "plt.style.use('fivethirtyeight')\n",
    "sns.set_palette(\"winter_r\")\n",
    "pd.options.display.max_rows = 300"
   ]
  },
  {
   "cell_type": "markdown",
   "id": "813b194d-b0b1-41ed-a944-2818df7ea6df",
   "metadata": {},
   "source": [
    "## Creating The Database"
   ]
  },
  {
   "cell_type": "code",
   "execution_count": null,
   "id": "f3d509b3-0e9a-4c3b-9a36-4d65e4515998",
   "metadata": {
    "tags": []
   },
   "outputs": [],
   "source": [
    "# creating database & database class instance\n",
    "database_name = 'outcomes.db'\n",
    "db = d.Database(database_name)"
   ]
  },
  {
   "cell_type": "markdown",
   "id": "9bbe4432-6835-4beb-bb7e-8ef238bdc8f6",
   "metadata": {},
   "source": [
    "**Run The Cell Below Once And Then Comment Out**"
   ]
  },
  {
   "cell_type": "code",
   "execution_count": null,
   "id": "09454354-237b-46e2-97da-25093cf52629",
   "metadata": {},
   "outputs": [],
   "source": [
    "# file_name = 'anonymisedData.zip'\n",
    "# db.populate(file_name, database_name)"
   ]
  },
  {
   "cell_type": "markdown",
   "id": "1d39c9cd-0a47-416c-a130-fa569ef2cd4a",
   "metadata": {},
   "source": [
    "### Database ERD"
   ]
  },
  {
   "cell_type": "code",
   "execution_count": null,
   "id": "0c2286ff-a534-4ed6-a0c7-5f6c347ee605",
   "metadata": {
    "tags": []
   },
   "outputs": [],
   "source": [
    "db.erd"
   ]
  },
  {
   "cell_type": "markdown",
   "id": "75022354-bc19-42c1-9f0b-e379feaa8089",
   "metadata": {},
   "source": [
    "## Preprocessing and Harness Objects"
   ]
  },
  {
   "cell_type": "code",
   "execution_count": null,
   "id": "15fb8505-a08d-4cbc-a0d9-d253123cc021",
   "metadata": {
    "tags": []
   },
   "outputs": [],
   "source": [
    "string_selector = make_column_selector(dtype_include='object')\n",
    "number_selector = make_column_selector(dtype_include='number', dtype_exclude='object')\n",
    "\n",
    "preprocessing_ohe = make_column_transformer((OneHotEncoder\n",
    "                                         (handle_unknown='ignore'),string_selector))\n",
    "preprocessing_ss = make_column_transformer((OneHotEncoder\n",
    "                                         (handle_unknown='ignore'),string_selector),\n",
    "                                          (StandardScaler(), number_selector))\n",
    "preprocessing_mm = make_column_transformer((OneHotEncoder\n",
    "                                         (handle_unknown='ignore'),string_selector),\n",
    "                                          (MinMaxScaler(), number_selector))"
   ]
  },
  {
   "cell_type": "code",
   "execution_count": null,
   "id": "566cf0c5-3b87-42c1-9dc3-2709e0d80ebb",
   "metadata": {
    "tags": []
   },
   "outputs": [],
   "source": [
    "# creating accuracy scorer\n",
    "accuracy = f.acc_score\n",
    "\n",
    "# creating f1 scorer\n",
    "f1 = f.f1\n",
    "\n",
    "# creating recall scorer \n",
    "recall = f.recall\n",
    "\n",
    "# creating precision scorer\n",
    "precision = f.precision\n",
    "\n",
    "# creating Harness\n",
    "modeling = h.Harness(('accuracy', 'f1', 'recall', 'precision'))"
   ]
  },
  {
   "cell_type": "markdown",
   "id": "e51bc63e-94cc-451e-8cd0-9b31d7e059c3",
   "metadata": {},
   "source": [
    "# STUDENTINFO Table"
   ]
  },
  {
   "cell_type": "code",
   "execution_count": null,
   "id": "7f3d8fe1-b049-4c81-8d05-840ab96234ff",
   "metadata": {
    "tags": []
   },
   "outputs": [],
   "source": [
    "db.table_info('STUDENTINFO')"
   ]
  },
  {
   "cell_type": "markdown",
   "id": "f46f6993-fe53-419e-88c1-27a958158a40",
   "metadata": {},
   "source": [
    "## Creating STUDENTINFO Data Frame"
   ]
  },
  {
   "cell_type": "code",
   "execution_count": null,
   "id": "1771c381-374d-4536-9c31-61511fbd47b1",
   "metadata": {
    "tags": []
   },
   "outputs": [],
   "source": [
    "df = db.student_info()"
   ]
  },
  {
   "cell_type": "code",
   "execution_count": null,
   "id": "b1e6755b-198e-48af-886a-8f6173535b9d",
   "metadata": {
    "tags": []
   },
   "outputs": [],
   "source": [
    "df.info()"
   ]
  },
  {
   "cell_type": "code",
   "execution_count": null,
   "id": "64443a43-1793-4bc2-8abe-b3755031d1d6",
   "metadata": {
    "tags": []
   },
   "outputs": [],
   "source": [
    "df.target.value_counts(normalize=True)"
   ]
  },
  {
   "cell_type": "markdown",
   "id": "a02dfe53-80ae-4d62-8f8f-735e6aeb9f63",
   "metadata": {},
   "source": [
    "## Creating Holdout Data"
   ]
  },
  {
   "cell_type": "code",
   "execution_count": null,
   "id": "784a504e-f68b-4dd0-ac6d-129bd1f7e42e",
   "metadata": {
    "tags": []
   },
   "outputs": [],
   "source": [
    "# splitting data & target\n",
    "X, y = f.X_y(df)"
   ]
  },
  {
   "cell_type": "code",
   "execution_count": null,
   "id": "3c3eed6c-0a5d-4440-a8ab-63a8a369ce59",
   "metadata": {
    "tags": []
   },
   "outputs": [],
   "source": [
    "# splitting training and holdout data\n",
    "X_training, X_holdout, y_training, y_holdout = f.test_train(X, y)"
   ]
  },
  {
   "cell_type": "markdown",
   "id": "afdac4a6-c034-4dbc-9a59-6a5b9236bf77",
   "metadata": {},
   "source": [
    "## Creating Training Data"
   ]
  },
  {
   "cell_type": "code",
   "execution_count": null,
   "id": "dfc776cb-71bb-489f-bb6b-674fcb670c13",
   "metadata": {
    "tags": []
   },
   "outputs": [],
   "source": [
    "X_train, X_test, y_train, y_test = f.test_train(X_training, y_training)"
   ]
  },
  {
   "cell_type": "markdown",
   "id": "cd86ad37-b7d4-47ad-96fb-2d22a97f78c4",
   "metadata": {},
   "source": [
    "## Baseline Model: Dummy Classifier"
   ]
  },
  {
   "cell_type": "code",
   "execution_count": null,
   "id": "19829588-dc36-4c36-98ee-fe626c783f30",
   "metadata": {
    "tags": []
   },
   "outputs": [],
   "source": [
    "dummy = DummyClassifier(strategy='most_frequent')"
   ]
  },
  {
   "cell_type": "code",
   "execution_count": null,
   "id": "86ce14e7-d225-4006-a8b9-97442591f7c8",
   "metadata": {
    "tags": []
   },
   "outputs": [],
   "source": [
    "baseline = make_pipeline(preprocessing_ohe, dummy)"
   ]
  },
  {
   "cell_type": "markdown",
   "id": "fb33b05e-3c76-41a3-b5b1-5ed1509def3c",
   "metadata": {},
   "source": [
    "### Fitting Model"
   ]
  },
  {
   "cell_type": "code",
   "execution_count": null,
   "id": "110345b4-b8e0-45b9-bb5a-ce59cf81bdbb",
   "metadata": {
    "tags": []
   },
   "outputs": [],
   "source": [
    "baseline.fit(X_train, y_train)"
   ]
  },
  {
   "cell_type": "markdown",
   "id": "4274a01c-2b22-4577-851c-d2490c7a5cb6",
   "metadata": {},
   "source": [
    "### Saving Model"
   ]
  },
  {
   "cell_type": "code",
   "execution_count": null,
   "id": "daf79778-5026-4a1f-899a-6e0cc2515f42",
   "metadata": {
    "tags": []
   },
   "outputs": [],
   "source": [
    "# f.pickle_model(baseline, 'baseline')"
   ]
  },
  {
   "cell_type": "markdown",
   "id": "ec3df2e3-9b4d-4eb9-bb47-c873df344fa6",
   "metadata": {},
   "source": [
    "### Cross Val Scores"
   ]
  },
  {
   "cell_type": "code",
   "execution_count": null,
   "id": "eb293802-bd30-448b-ba7f-e6fa64986f2f",
   "metadata": {
    "tags": []
   },
   "outputs": [],
   "source": [
    "with warnings.catch_warnings():\n",
    "    warnings.simplefilter('ignore')\n",
    "    modeling.report(baseline, X_train, y_train, ' Baseline', 'Baseline DummyCFL')"
   ]
  },
  {
   "cell_type": "markdown",
   "id": "38731915-4af1-4a00-9395-551af3b05805",
   "metadata": {},
   "source": [
    "### Test Data Confusion Matrix"
   ]
  },
  {
   "cell_type": "code",
   "execution_count": null,
   "id": "289e7119-2b7b-441b-960c-fd5bbf874408",
   "metadata": {},
   "outputs": [],
   "source": [
    "%%capture --no-display\n",
    "f.confusion_report(baseline, X_test, y_test, 'baseline')"
   ]
  },
  {
   "cell_type": "markdown",
   "id": "e47e46bd-54ac-4002-bd27-e2b693f006c9",
   "metadata": {},
   "source": [
    "## First Simple Model: Naive Bayes Classifier"
   ]
  },
  {
   "cell_type": "code",
   "execution_count": null,
   "id": "9d90a6e4-5c0f-4794-9da7-f6bac2a786a2",
   "metadata": {},
   "outputs": [],
   "source": [
    "mnb = MultinomialNB()"
   ]
  },
  {
   "cell_type": "code",
   "execution_count": null,
   "id": "da91f7e4-a61f-4305-a889-11b2c8456712",
   "metadata": {},
   "outputs": [],
   "source": [
    "fsm = make_pipeline(preprocessing_ohe, mnb)"
   ]
  },
  {
   "cell_type": "markdown",
   "id": "a7efb17d-f996-4438-8d43-d2c67ee0a709",
   "metadata": {},
   "source": [
    "### Fitting Model"
   ]
  },
  {
   "cell_type": "code",
   "execution_count": null,
   "id": "6e83a51e-5f8c-4833-bdf5-26f2f01b11ac",
   "metadata": {},
   "outputs": [],
   "source": [
    "fsm.fit(X_train, y_train)"
   ]
  },
  {
   "cell_type": "markdown",
   "id": "86f62fb6-b11e-440f-b329-05ee0e95ae1a",
   "metadata": {},
   "source": [
    "### Saving Model"
   ]
  },
  {
   "cell_type": "code",
   "execution_count": null,
   "id": "86830c8a-0fef-437c-93be-f578638430f6",
   "metadata": {},
   "outputs": [],
   "source": [
    "# f.pickle_model(fsm, 'fsm')"
   ]
  },
  {
   "cell_type": "markdown",
   "id": "1c734d18-c821-4a6b-bdbb-f35960a991d6",
   "metadata": {},
   "source": [
    "### Cross Val Scores"
   ]
  },
  {
   "cell_type": "code",
   "execution_count": null,
   "id": "a6516dcd-df0c-4ffa-bd99-b15198532f97",
   "metadata": {
    "tags": []
   },
   "outputs": [],
   "source": [
    "# checking cross val scores\n",
    "modeling.report(fsm, X_train, y_train, ' fsm', 'FSM Naive Bayes')"
   ]
  },
  {
   "cell_type": "markdown",
   "id": "62704cb6-2c95-4b95-9df7-ca99cddef7b4",
   "metadata": {},
   "source": [
    "### Test Data Confusion Matrix"
   ]
  },
  {
   "cell_type": "code",
   "execution_count": null,
   "id": "c5bd21d7-ee49-4561-a182-cd03d6d5b879",
   "metadata": {},
   "outputs": [],
   "source": [
    "f.confusion_report(fsm, X_test, y_test, 'fsm')"
   ]
  },
  {
   "cell_type": "markdown",
   "id": "97f92c98-6122-4087-9224-4703a67191aa",
   "metadata": {},
   "source": [
    "## KNeighborsClassifier"
   ]
  },
  {
   "cell_type": "code",
   "execution_count": null,
   "id": "9998e936-d8a3-450a-b883-036db298edb2",
   "metadata": {},
   "outputs": [],
   "source": [
    "KNN = KNeighborsClassifier(n_jobs=-1)"
   ]
  },
  {
   "cell_type": "code",
   "execution_count": null,
   "id": "f1782bb2-e1b5-45b0-8b83-49bf099c185c",
   "metadata": {},
   "outputs": [],
   "source": [
    "knn = make_pipeline(preprocessing_ohe, KNN)"
   ]
  },
  {
   "cell_type": "markdown",
   "id": "9dd83c76-cb78-430b-a394-c2c7dcdac4ef",
   "metadata": {},
   "source": [
    "### Fitting Model"
   ]
  },
  {
   "cell_type": "code",
   "execution_count": null,
   "id": "a3b715ef-8fe9-41cf-9aba-34f8ee3939a1",
   "metadata": {},
   "outputs": [],
   "source": [
    "knn.fit(X_train, y_train)"
   ]
  },
  {
   "cell_type": "code",
   "execution_count": null,
   "id": "cad734da-5351-4e14-8922-7d338d20a627",
   "metadata": {},
   "outputs": [],
   "source": [
    "# f.pickle_model(knn, 'knn')"
   ]
  },
  {
   "cell_type": "markdown",
   "id": "421950f8-9bec-41a6-aee9-b4fb4de9c8f0",
   "metadata": {},
   "source": [
    "### Cross Val Scores"
   ]
  },
  {
   "cell_type": "code",
   "execution_count": null,
   "id": "8a10b383-3373-439b-ba85-e7073517b40a",
   "metadata": {
    "tags": []
   },
   "outputs": [],
   "source": [
    "# checking cross val scores\n",
    "modeling.report(knn, X_train, y_train, 'knn', 'KNN')"
   ]
  },
  {
   "cell_type": "markdown",
   "id": "5f36c58e-c16d-48f2-9757-9a0cdf897f22",
   "metadata": {},
   "source": [
    "### Test Data Confusion Matrix"
   ]
  },
  {
   "cell_type": "code",
   "execution_count": null,
   "id": "7b2488bd-b354-4f71-9cab-e096625097ba",
   "metadata": {},
   "outputs": [],
   "source": [
    "f.confusion_report(knn, X_test, y_test)"
   ]
  },
  {
   "cell_type": "markdown",
   "id": "fdf7cd53-9a3d-4337-befd-731eb4a65c54",
   "metadata": {},
   "source": [
    "## Logistic Regression Classifier"
   ]
  },
  {
   "cell_type": "code",
   "execution_count": null,
   "id": "fd341a7e-e100-4d17-b1bf-3d0f3a367025",
   "metadata": {},
   "outputs": [],
   "source": [
    "LR = LogisticRegression(max_iter=1000, n_jobs=-1, random_state = 2021, verbose=0)"
   ]
  },
  {
   "cell_type": "code",
   "execution_count": null,
   "id": "ba30315a-9382-479b-a9da-6110a0bd6150",
   "metadata": {},
   "outputs": [],
   "source": [
    "logreg = make_pipeline(preprocessing_ohe, LR)"
   ]
  },
  {
   "cell_type": "markdown",
   "id": "abba1a1b-6f44-4f9a-8283-7855594c5ab4",
   "metadata": {},
   "source": [
    "### Fitting Model"
   ]
  },
  {
   "cell_type": "code",
   "execution_count": null,
   "id": "ab1b38fe-302f-40ff-9d9d-8bbb4694c674",
   "metadata": {},
   "outputs": [],
   "source": [
    "logreg.fit(X_train, y_train)"
   ]
  },
  {
   "cell_type": "code",
   "execution_count": null,
   "id": "d3ac712d-3a01-4134-9768-7d71fa3de3f8",
   "metadata": {},
   "outputs": [],
   "source": [
    "# f.pickle_model(logreg, 'logreg')"
   ]
  },
  {
   "cell_type": "markdown",
   "id": "06795024-d229-48c0-8b1b-18f3f79a7b7b",
   "metadata": {},
   "source": [
    "### Cross Val Scores"
   ]
  },
  {
   "cell_type": "code",
   "execution_count": null,
   "id": "393a6c87-03dc-44fe-802e-6691e759e00e",
   "metadata": {
    "tags": []
   },
   "outputs": [],
   "source": [
    "# checking cross val scores\n",
    "modeling.report(logreg, X_train, y_train, 'logreg', 'Logistic Regression')"
   ]
  },
  {
   "cell_type": "markdown",
   "id": "d92ae85c-c489-4773-952c-71e6955a8191",
   "metadata": {},
   "source": [
    "### Test Data Confusion Matrix"
   ]
  },
  {
   "cell_type": "code",
   "execution_count": null,
   "id": "936f0844-0754-46ce-82fb-ed6828371eb6",
   "metadata": {},
   "outputs": [],
   "source": [
    "f.confusion_report(logreg, X_test, y_test)"
   ]
  },
  {
   "cell_type": "markdown",
   "id": "d4873fc5-82bf-4e0b-a661-8f06cf554750",
   "metadata": {},
   "source": [
    "## Support Vector Machine"
   ]
  },
  {
   "cell_type": "code",
   "execution_count": null,
   "id": "3a05594d-01cc-4338-8cf7-e23fb8c7f5a9",
   "metadata": {},
   "outputs": [],
   "source": [
    "SVC = SVC()"
   ]
  },
  {
   "cell_type": "code",
   "execution_count": null,
   "id": "9c7d4a3e-5f5d-408f-aca4-7443e797b227",
   "metadata": {},
   "outputs": [],
   "source": [
    "svc = make_pipeline(preprocessing_ohe, SVC)"
   ]
  },
  {
   "cell_type": "markdown",
   "id": "092e48e8-2457-4dcd-97e4-440137077937",
   "metadata": {},
   "source": [
    "### Fitting Model"
   ]
  },
  {
   "cell_type": "code",
   "execution_count": null,
   "id": "94434198-2c6c-4864-829b-25d2d0687822",
   "metadata": {},
   "outputs": [],
   "source": [
    "svc.fit(X_train, y_train)"
   ]
  },
  {
   "cell_type": "code",
   "execution_count": null,
   "id": "cb5a930e-38d8-4716-a538-9cfdb98c4153",
   "metadata": {},
   "outputs": [],
   "source": [
    "# f.pickle_model(svc, 'svc')"
   ]
  },
  {
   "cell_type": "markdown",
   "id": "4d76dad9-6cb4-46bf-b971-113b754645a1",
   "metadata": {},
   "source": [
    "### Cross Val Scores"
   ]
  },
  {
   "cell_type": "code",
   "execution_count": null,
   "id": "43c145a0-b993-41fd-bc8f-71290ec0d6c9",
   "metadata": {
    "tags": []
   },
   "outputs": [],
   "source": [
    "# checking cross val scores\n",
    "modeling.report(svc, X_train, y_train, 'svc', 'Support Vector Classifier')"
   ]
  },
  {
   "cell_type": "markdown",
   "id": "4fb77e18-c132-40ac-b09a-44b1e8090850",
   "metadata": {},
   "source": [
    "### Test Data Confusion Matrix"
   ]
  },
  {
   "cell_type": "code",
   "execution_count": null,
   "id": "6ebc0f8c-cae3-4e22-9ad7-675c326be0c9",
   "metadata": {
    "tags": []
   },
   "outputs": [],
   "source": [
    "f.confusion_report(svc, X_test, y_test)"
   ]
  },
  {
   "cell_type": "markdown",
   "id": "61eadb21-908c-4882-97fe-6014d0b62bf5",
   "metadata": {},
   "source": [
    "## Linear Support Vector Machine"
   ]
  },
  {
   "cell_type": "code",
   "execution_count": null,
   "id": "3bbe101d-3e83-4fe9-bede-6b5b980188b0",
   "metadata": {},
   "outputs": [],
   "source": [
    "LSVC = LinearSVC()"
   ]
  },
  {
   "cell_type": "code",
   "execution_count": null,
   "id": "b64ab30b-e87d-4d0c-ab43-d4be81020c1e",
   "metadata": {},
   "outputs": [],
   "source": [
    "lsvc = make_pipeline(preprocessing_ohe, LSVC)"
   ]
  },
  {
   "cell_type": "markdown",
   "id": "2606ec53-6df9-4f93-b00d-4813f44f2d64",
   "metadata": {},
   "source": [
    "### Fitting Model"
   ]
  },
  {
   "cell_type": "code",
   "execution_count": null,
   "id": "adb546e9-02f8-45c3-94d6-e82ee2ce7eb7",
   "metadata": {},
   "outputs": [],
   "source": [
    "lsvc.fit(X_train, y_train)"
   ]
  },
  {
   "cell_type": "code",
   "execution_count": null,
   "id": "bdb6c8f1-d1d3-4047-97a6-5bcbbe409ab9",
   "metadata": {},
   "outputs": [],
   "source": [
    "# f.pickle_model(lsvc, 'lsvc')"
   ]
  },
  {
   "cell_type": "markdown",
   "id": "b9e6a5bf-f34c-410b-8b95-97e22f80efed",
   "metadata": {},
   "source": [
    "### Cross Val Scores"
   ]
  },
  {
   "cell_type": "code",
   "execution_count": null,
   "id": "0d4a0b34-0bfa-4f6e-8ae2-4c98358e7a62",
   "metadata": {
    "tags": []
   },
   "outputs": [],
   "source": [
    "# checking cross val scores\n",
    "modeling.report(lsvc, X_train, y_train, 'lsvc', 'Linear SVC')"
   ]
  },
  {
   "cell_type": "markdown",
   "id": "d56d10bc-6f70-4b4c-919a-df6f4e0d7194",
   "metadata": {},
   "source": [
    "### Test Data Confusion Matrix"
   ]
  },
  {
   "cell_type": "code",
   "execution_count": null,
   "id": "6f385ecd-6821-4c7b-a40c-d46861d6be83",
   "metadata": {},
   "outputs": [],
   "source": [
    "f.confusion_report(lsvc, X_test, y_test)"
   ]
  },
  {
   "cell_type": "markdown",
   "id": "fc451294-9907-49f1-89cb-b8189325c7d4",
   "metadata": {},
   "source": [
    "## Decision Tree"
   ]
  },
  {
   "cell_type": "code",
   "execution_count": null,
   "id": "b05cac5d-c19f-433c-bf00-a13fa74a7766",
   "metadata": {},
   "outputs": [],
   "source": [
    "DT = DecisionTreeClassifier(random_state=2021)"
   ]
  },
  {
   "cell_type": "code",
   "execution_count": null,
   "id": "148eeb3c-a8fc-4641-a025-e1c4b75ad06c",
   "metadata": {},
   "outputs": [],
   "source": [
    "dt = make_pipeline(preprocessing_ohe, DT)"
   ]
  },
  {
   "cell_type": "markdown",
   "id": "ceb655aa-9bee-4039-b17e-67786afdcd7b",
   "metadata": {},
   "source": [
    "### Fitting Model"
   ]
  },
  {
   "cell_type": "code",
   "execution_count": null,
   "id": "40273084-3474-4a74-aef2-17f06210da93",
   "metadata": {},
   "outputs": [],
   "source": [
    "dt.fit(X_train, y_train)"
   ]
  },
  {
   "cell_type": "code",
   "execution_count": null,
   "id": "e29c8e05-9415-4a28-847f-88da6bb1d4af",
   "metadata": {},
   "outputs": [],
   "source": [
    "# f.pickle_model(dt, 'dt')"
   ]
  },
  {
   "cell_type": "markdown",
   "id": "0474eaf3-3092-4bc4-b7f5-1585a84c5c9c",
   "metadata": {},
   "source": [
    "### Cross Val Scores"
   ]
  },
  {
   "cell_type": "code",
   "execution_count": null,
   "id": "4a602bce-cbac-4c6c-a224-436e6ae64071",
   "metadata": {
    "tags": []
   },
   "outputs": [],
   "source": [
    "# checking cross val scores\n",
    "modeling.report(dt, X_train, y_train, 'dt', 'Decision Tree')"
   ]
  },
  {
   "cell_type": "markdown",
   "id": "896a7168-d0f3-4c2d-bf3a-30cd2b3321ad",
   "metadata": {},
   "source": [
    "### Test Data Confusion Matrix"
   ]
  },
  {
   "cell_type": "code",
   "execution_count": null,
   "id": "29e7542f-2f3a-4b6c-a622-36f36a422aea",
   "metadata": {},
   "outputs": [],
   "source": [
    "f.confusion_report(dt, X_test, y_test)"
   ]
  },
  {
   "cell_type": "markdown",
   "id": "a49a50a4-1671-4d44-86c5-3a6055eec56b",
   "metadata": {},
   "source": [
    "## Bagging Classifier"
   ]
  },
  {
   "cell_type": "code",
   "execution_count": null,
   "id": "07711b0c-ec33-4f9b-befa-63a3e6aa5bfc",
   "metadata": {},
   "outputs": [],
   "source": [
    "BCLF = BaggingClassifier(base_estimator=DT, random_state=2021)"
   ]
  },
  {
   "cell_type": "code",
   "execution_count": null,
   "id": "fdbb7cbe-1687-40da-a822-1f9bb62452e0",
   "metadata": {},
   "outputs": [],
   "source": [
    "bclf = make_pipeline(preprocessing_ohe, BCLF)"
   ]
  },
  {
   "cell_type": "markdown",
   "id": "b7a77d6b-d743-4c63-a4d2-1a71c997eb48",
   "metadata": {},
   "source": [
    "### Fitting Model"
   ]
  },
  {
   "cell_type": "code",
   "execution_count": null,
   "id": "35dd500c-ab02-48bb-9c7f-dd3a14bffa97",
   "metadata": {},
   "outputs": [],
   "source": [
    "bclf.fit(X_train, y_train)"
   ]
  },
  {
   "cell_type": "code",
   "execution_count": null,
   "id": "2827f653-f6ae-442b-8002-d656591a146d",
   "metadata": {},
   "outputs": [],
   "source": [
    "# f.pickle_model(bclf, 'bclf')"
   ]
  },
  {
   "cell_type": "markdown",
   "id": "988e56b1-e2ad-4a70-9502-bfc7bb5c4983",
   "metadata": {},
   "source": [
    "### Cross Val Scores"
   ]
  },
  {
   "cell_type": "code",
   "execution_count": null,
   "id": "26dc9a96-c278-4bd8-b788-7cc0f3b90679",
   "metadata": {
    "tags": []
   },
   "outputs": [],
   "source": [
    "# checking cross val scores\n",
    "modeling.report(bclf, X_train, y_train, 'bclf', 'Bagging CLF')"
   ]
  },
  {
   "cell_type": "markdown",
   "id": "775d2588-9ebb-4920-8db3-688f9ddbdc68",
   "metadata": {},
   "source": [
    "### Test Data Confusion Matrix"
   ]
  },
  {
   "cell_type": "code",
   "execution_count": null,
   "id": "a8a0e643-1141-4932-925e-4a85d5178c2f",
   "metadata": {},
   "outputs": [],
   "source": [
    "f.confusion_report(bclf, X_test, y_test)"
   ]
  },
  {
   "cell_type": "markdown",
   "id": "ed538fd2-aa0a-424a-8aef-0c4d07f00e4a",
   "metadata": {},
   "source": [
    "## Random Forest Classifier"
   ]
  },
  {
   "cell_type": "code",
   "execution_count": null,
   "id": "9702e190-40c4-45ef-8e22-2f908177e040",
   "metadata": {
    "tags": []
   },
   "outputs": [],
   "source": [
    "RF = RandomForestClassifier(n_jobs=-1, random_state=2021)"
   ]
  },
  {
   "cell_type": "code",
   "execution_count": null,
   "id": "df9982fb-51aa-433c-afe3-a625641a84bf",
   "metadata": {
    "tags": []
   },
   "outputs": [],
   "source": [
    "rf = make_pipeline(preprocessing_ohe, RF)"
   ]
  },
  {
   "cell_type": "markdown",
   "id": "1ed906b1-4b5e-4331-935f-d532d96188bf",
   "metadata": {},
   "source": [
    "### Fitting Model"
   ]
  },
  {
   "cell_type": "code",
   "execution_count": null,
   "id": "5a120271-9755-4f47-94c7-9cbcadf92975",
   "metadata": {},
   "outputs": [],
   "source": [
    "rf.fit(X_train, y_train)"
   ]
  },
  {
   "cell_type": "code",
   "execution_count": null,
   "id": "3cdb256d-9339-47e5-99d2-76bfb846728a",
   "metadata": {},
   "outputs": [],
   "source": [
    "# f.pickle_model(rf, 'rf')"
   ]
  },
  {
   "cell_type": "markdown",
   "id": "67cec10a-aea2-42de-8ede-c3d75b43fb0e",
   "metadata": {},
   "source": [
    "### Cross Val Scores"
   ]
  },
  {
   "cell_type": "code",
   "execution_count": null,
   "id": "4d2d9b0d-3b58-451b-a8d4-50d4b7d72abc",
   "metadata": {
    "tags": []
   },
   "outputs": [],
   "source": [
    "# checking cross val scores\n",
    "modeling.report(rf, X_train, y_train, 'rf', 'Random Forest')"
   ]
  },
  {
   "cell_type": "markdown",
   "id": "854b140e-981b-42d8-a4de-2750035239be",
   "metadata": {},
   "source": [
    "### Test Data Confusion Matrix"
   ]
  },
  {
   "cell_type": "code",
   "execution_count": null,
   "id": "444f42df-9b98-42c8-8de8-5fe61f50c6ff",
   "metadata": {},
   "outputs": [],
   "source": [
    "f.confusion_report(rf, X_test, y_test)"
   ]
  },
  {
   "cell_type": "markdown",
   "id": "da80fca2-07f2-4854-9cdf-86d280e72f56",
   "metadata": {},
   "source": [
    "## AdaBoost"
   ]
  },
  {
   "cell_type": "code",
   "execution_count": null,
   "id": "13562dc0-d840-4de6-8d98-3112c527f027",
   "metadata": {},
   "outputs": [],
   "source": [
    "ADA = AdaBoostClassifier(base_estimator=DT, random_state=2021)"
   ]
  },
  {
   "cell_type": "code",
   "execution_count": null,
   "id": "a44b7608-b393-43ac-b37a-53c4fed11984",
   "metadata": {},
   "outputs": [],
   "source": [
    "ada = make_pipeline(preprocessing_ohe, ADA)"
   ]
  },
  {
   "cell_type": "markdown",
   "id": "a3d7f6ab-845a-45ae-bec6-acc689e3fd31",
   "metadata": {},
   "source": [
    "### Fitting Model"
   ]
  },
  {
   "cell_type": "code",
   "execution_count": null,
   "id": "b19a653e-9b48-4d15-973c-309acb4dfb0e",
   "metadata": {},
   "outputs": [],
   "source": [
    "ada.fit(X_train, y_train)"
   ]
  },
  {
   "cell_type": "code",
   "execution_count": null,
   "id": "e3f41f48-5c09-434b-abe7-f9716b912737",
   "metadata": {},
   "outputs": [],
   "source": [
    "# f.pickle_model(ada, 'ada')"
   ]
  },
  {
   "cell_type": "markdown",
   "id": "56cad7c8-4fb8-40d8-9618-e0f2ee6764fa",
   "metadata": {},
   "source": [
    "### Cross Val Scores"
   ]
  },
  {
   "cell_type": "code",
   "execution_count": null,
   "id": "15c3ad1e-bef8-461c-a46c-d41303b5d4d9",
   "metadata": {
    "tags": []
   },
   "outputs": [],
   "source": [
    "# checking cross val scores\n",
    "modeling.report(ada, X_train, y_train, 'ada', 'AdaBoost')"
   ]
  },
  {
   "cell_type": "markdown",
   "id": "7af51a75-43a9-4dd0-ba43-154319dcb5e9",
   "metadata": {},
   "source": [
    "### Test Data Confusion Matrix"
   ]
  },
  {
   "cell_type": "code",
   "execution_count": null,
   "id": "0689d046-6387-4ab1-90d2-fcb2442c06b2",
   "metadata": {},
   "outputs": [],
   "source": [
    "f.confusion_report(ada, X_test, y_test)"
   ]
  },
  {
   "cell_type": "markdown",
   "id": "fdb425d1-172a-4a4a-acb1-6807fea3c31e",
   "metadata": {},
   "source": [
    "## XGBoost"
   ]
  },
  {
   "cell_type": "code",
   "execution_count": null,
   "id": "7fa98418-ebb5-46ca-9b50-0b6ecf2bded1",
   "metadata": {
    "tags": []
   },
   "outputs": [],
   "source": [
    "XGB = XGBClassifier(use_label_encoder=False)"
   ]
  },
  {
   "cell_type": "code",
   "execution_count": null,
   "id": "81da9ca5-3626-4e48-aaee-8e0174e314db",
   "metadata": {
    "tags": []
   },
   "outputs": [],
   "source": [
    "xgb = make_pipeline(preprocessing_ohe, XGB)"
   ]
  },
  {
   "cell_type": "markdown",
   "id": "df9c61eb-c10e-4155-8e3f-bd9f0efe6611",
   "metadata": {},
   "source": [
    "### Fitting Model"
   ]
  },
  {
   "cell_type": "code",
   "execution_count": null,
   "id": "c5da078f-ed88-43ad-80c6-0205b35f9e55",
   "metadata": {
    "tags": []
   },
   "outputs": [],
   "source": [
    "%%capture --no-display\n",
    "xgb.fit(X_train, y_train)"
   ]
  },
  {
   "cell_type": "code",
   "execution_count": null,
   "id": "31981597-a104-4974-be68-6dea939691d4",
   "metadata": {},
   "outputs": [],
   "source": [
    "# f.pickle_model(xgb, 'xgb')"
   ]
  },
  {
   "cell_type": "markdown",
   "id": "22e30a1a-fe73-4eb3-8a93-ead2a08ebd9e",
   "metadata": {},
   "source": [
    "### Cross Val Scores"
   ]
  },
  {
   "cell_type": "code",
   "execution_count": null,
   "id": "5f6965a7-24fa-48ce-9600-1d2cd16bbbd9",
   "metadata": {
    "tags": []
   },
   "outputs": [],
   "source": [
    "%%capture --no-display\n",
    "# checking cross val scores\n",
    "modeling.report(xgb, X_train, y_train, 'xgb', 'XGBoost')"
   ]
  },
  {
   "cell_type": "markdown",
   "id": "6d2eb0d1-4d04-4193-ba6f-3ec2ce4c0016",
   "metadata": {},
   "source": [
    "### Test Data Confusion Matrix"
   ]
  },
  {
   "cell_type": "code",
   "execution_count": null,
   "id": "7be7db24-5e54-4fcc-92fe-ecf0e0022204",
   "metadata": {
    "tags": []
   },
   "outputs": [],
   "source": [
    "%%capture --no-display\n",
    "f.confusion_report(xgb, X_test, y_test)"
   ]
  },
  {
   "cell_type": "markdown",
   "id": "b2eb75db-4fc2-4f85-9b0f-87b967e34338",
   "metadata": {},
   "source": [
    "## Model Summary 1"
   ]
  },
  {
   "cell_type": "code",
   "execution_count": null,
   "id": "81eab0af-974f-468b-b85f-b6af71e2eab9",
   "metadata": {
    "tags": []
   },
   "outputs": [],
   "source": [
    "modeling.history"
   ]
  },
  {
   "cell_type": "markdown",
   "id": "16ae66c5-95d3-4cca-89cb-e2f130a3a93e",
   "metadata": {},
   "source": [
    "# STUDENTINFO & STUDENTVLE"
   ]
  },
  {
   "cell_type": "code",
   "execution_count": null,
   "id": "9ac151a6-d9f2-4b0e-8e47-64a0893525f1",
   "metadata": {
    "tags": []
   },
   "outputs": [],
   "source": [
    "df = db.sv_si()"
   ]
  },
  {
   "cell_type": "code",
   "execution_count": null,
   "id": "96d4b8ab-9660-4eef-b4c9-63fcda8c797f",
   "metadata": {},
   "outputs": [],
   "source": [
    "df.info()"
   ]
  },
  {
   "cell_type": "code",
   "execution_count": null,
   "id": "83803947-df3b-4ed1-80fd-9a1642701438",
   "metadata": {},
   "outputs": [],
   "source": [
    "df.head()"
   ]
  },
  {
   "cell_type": "code",
   "execution_count": null,
   "id": "55111680-a32a-4d97-9563-6bdaa8d908b3",
   "metadata": {},
   "outputs": [],
   "source": [
    "df.describe()"
   ]
  },
  {
   "cell_type": "markdown",
   "id": "897f0f0d-bd24-4ff4-bac9-70c176af5cfa",
   "metadata": {},
   "source": [
    "## Creating Holdout Data"
   ]
  },
  {
   "cell_type": "code",
   "execution_count": null,
   "id": "080e2a3c-2811-4784-946c-37b0767212aa",
   "metadata": {},
   "outputs": [],
   "source": [
    "# splitting data & target\n",
    "X, y = f.X_y(df)"
   ]
  },
  {
   "cell_type": "code",
   "execution_count": null,
   "id": "3aa87b5a-9860-4f95-854d-1510d45bc9bf",
   "metadata": {},
   "outputs": [],
   "source": [
    "# splitting traing and holdout data\n",
    "X_training, X_holdout, y_training, y_holdout = f.test_train(X, y)"
   ]
  },
  {
   "cell_type": "markdown",
   "id": "1ed157a8-eb56-45b1-b33b-7dbefe5e724b",
   "metadata": {},
   "source": [
    "## Creating Training Data"
   ]
  },
  {
   "cell_type": "code",
   "execution_count": null,
   "id": "482faa34-a58b-4ac2-98c5-f3eb5821eebf",
   "metadata": {},
   "outputs": [],
   "source": [
    "# train test split\n",
    "X_train, X_test, y_train, y_test = f.test_train(X_training, y_training)"
   ]
  },
  {
   "cell_type": "markdown",
   "id": "9ad2f199-6181-4130-b375-8040a926b196",
   "metadata": {},
   "source": [
    "## MinMax Scaling\n",
    "Since we've added numerical columns with very different scales to the data, we'll implement some scaling in the pipeline. K-Nearest Neighbors in particular is sensitive to differences in feature scale, and scaling can also help speed up convergence is certain algorithms."
   ]
  },
  {
   "cell_type": "markdown",
   "id": "4c5a42ed-8090-48e0-8fa3-e6e991718509",
   "metadata": {},
   "source": [
    "## Naive Bayes Classifier"
   ]
  },
  {
   "cell_type": "code",
   "execution_count": null,
   "id": "b2a9e2d6-912c-4c42-b572-eece81700401",
   "metadata": {},
   "outputs": [],
   "source": [
    "mnb_svsi = make_pipeline(preprocessing_mm, mnb)"
   ]
  },
  {
   "cell_type": "markdown",
   "id": "215c53a9-47a9-4896-ab27-cc2622acde63",
   "metadata": {
    "tags": []
   },
   "source": [
    "### Fitting Model"
   ]
  },
  {
   "cell_type": "code",
   "execution_count": null,
   "id": "51f28da3-bb53-4c42-ae5f-46c949be63a9",
   "metadata": {},
   "outputs": [],
   "source": [
    "mnb_svsi.fit(X_train, y_train)"
   ]
  },
  {
   "cell_type": "markdown",
   "id": "f7b94a0c-912c-42ed-bb71-06c3d23685ea",
   "metadata": {
    "tags": []
   },
   "source": [
    "### Saving Model"
   ]
  },
  {
   "cell_type": "code",
   "execution_count": null,
   "id": "012af41a-047c-4eeb-a9ca-1d98532f21dd",
   "metadata": {},
   "outputs": [],
   "source": [
    "# f.pickle_model(mnb_svsi, 'mnb_svsi')"
   ]
  },
  {
   "cell_type": "markdown",
   "id": "5c3aead6-2084-4439-a5d3-5cca5e85bef0",
   "metadata": {},
   "source": [
    "### Cross Val Scores"
   ]
  },
  {
   "cell_type": "code",
   "execution_count": null,
   "id": "8e9a4826-01e4-40cc-9a53-bd1ce41d7548",
   "metadata": {
    "tags": []
   },
   "outputs": [],
   "source": [
    "# checking cross val scores\n",
    "modeling.report(mnb_svsi, X_train, y_train, ' mnb_svsi', 'Naive Bayes SVSI/MinMax()')"
   ]
  },
  {
   "cell_type": "markdown",
   "id": "f74cf68e-c52c-4121-ad7b-b2ad0326b73f",
   "metadata": {},
   "source": [
    "### Test Data Confusion Matrix"
   ]
  },
  {
   "cell_type": "code",
   "execution_count": null,
   "id": "163c7b3b-8d67-4be5-8059-2cb2698ae535",
   "metadata": {},
   "outputs": [],
   "source": [
    "f.confusion_report(mnb_svsi, X_test, y_test)"
   ]
  },
  {
   "cell_type": "markdown",
   "id": "ec5344c0-7c29-4529-9ab3-24ba2454a2fe",
   "metadata": {
    "tags": []
   },
   "source": [
    "## KNeighborsClassifier"
   ]
  },
  {
   "cell_type": "code",
   "execution_count": null,
   "id": "dddf32d5-7023-4935-bbb6-0f9ded30428b",
   "metadata": {
    "tags": []
   },
   "outputs": [],
   "source": [
    "knn_svsi = make_pipeline(preprocessing_mm, KNN)"
   ]
  },
  {
   "cell_type": "markdown",
   "id": "7af4887d-1a46-4899-88db-ffeb63f83e26",
   "metadata": {},
   "source": [
    "### Fitting Model"
   ]
  },
  {
   "cell_type": "code",
   "execution_count": null,
   "id": "4156e858-6e52-42e6-8a56-5e84a9fdebd3",
   "metadata": {},
   "outputs": [],
   "source": [
    "knn_svsi.fit(X_train, y_train)"
   ]
  },
  {
   "cell_type": "code",
   "execution_count": null,
   "id": "c49abb38-4b45-4db8-a3e6-df4a2505be73",
   "metadata": {},
   "outputs": [],
   "source": [
    "# f.pickle_model(knn_svsi, 'knn_svsi')"
   ]
  },
  {
   "cell_type": "markdown",
   "id": "8680bf2f-d055-4780-9acb-860c46391786",
   "metadata": {},
   "source": [
    "### Cross Val Scores"
   ]
  },
  {
   "cell_type": "code",
   "execution_count": null,
   "id": "b5b91315-2a44-42d9-824b-af1c985bed91",
   "metadata": {
    "tags": []
   },
   "outputs": [],
   "source": [
    "# checking cross val scores\n",
    "modeling.report(knn_svsi, X_train, y_train, 'knn_svsi', 'KNN SVSI/MinMax()')"
   ]
  },
  {
   "cell_type": "markdown",
   "id": "e70bb83a-ef14-4093-b34f-bdbb3b7fa241",
   "metadata": {},
   "source": [
    "### Test Data Confusion Matrix"
   ]
  },
  {
   "cell_type": "code",
   "execution_count": null,
   "id": "5fe4f951-6646-41e1-8ad1-a68acca72801",
   "metadata": {},
   "outputs": [],
   "source": [
    "f.confusion_report(knn_svsi, X_test, y_test)"
   ]
  },
  {
   "cell_type": "markdown",
   "id": "b4f5f6a8-2ea0-43f4-8f7d-f5098629d39a",
   "metadata": {},
   "source": [
    "## Logistic Regression Classifier"
   ]
  },
  {
   "cell_type": "code",
   "execution_count": null,
   "id": "2b21877d-31eb-480c-b84f-9159ef7c4f93",
   "metadata": {},
   "outputs": [],
   "source": [
    "logreg_svsi = make_pipeline(preprocessing_mm, LR)"
   ]
  },
  {
   "cell_type": "markdown",
   "id": "a09ea56e-6eaa-4bb2-ad3d-9b9d86f8ebbf",
   "metadata": {},
   "source": [
    "### Fitting Model"
   ]
  },
  {
   "cell_type": "code",
   "execution_count": null,
   "id": "b1a324b6-fc71-49a2-9f92-3cef93a5352c",
   "metadata": {},
   "outputs": [],
   "source": [
    "logreg_svsi.fit(X_train, y_train)"
   ]
  },
  {
   "cell_type": "code",
   "execution_count": null,
   "id": "4495eca2-c8df-49d8-9ace-a19781c15858",
   "metadata": {},
   "outputs": [],
   "source": [
    "# f.pickle_model(logreg_svsi, 'logreg_svsi')"
   ]
  },
  {
   "cell_type": "markdown",
   "id": "3970585e-d075-4f01-b257-ce45dda874df",
   "metadata": {},
   "source": [
    "### Cross Val Scores"
   ]
  },
  {
   "cell_type": "code",
   "execution_count": null,
   "id": "516c1754-be3c-4a38-8949-f36eb1ed553e",
   "metadata": {
    "tags": []
   },
   "outputs": [],
   "source": [
    "# checking cross val scores\n",
    "modeling.report(logreg_svsi, X_train, y_train, 'logreg_svsi', 'LogReg SVSI/MinMax()')"
   ]
  },
  {
   "cell_type": "markdown",
   "id": "3a7a2c68-a2e1-46a4-81a9-62f526166772",
   "metadata": {},
   "source": [
    "### Test Data Confusion Matrix"
   ]
  },
  {
   "cell_type": "code",
   "execution_count": null,
   "id": "04c0d337-d6c3-4068-9391-c448e2cf9897",
   "metadata": {},
   "outputs": [],
   "source": [
    "f.confusion_report(logreg_svsi, X_test, y_test)"
   ]
  },
  {
   "cell_type": "markdown",
   "id": "c4e036b5-3a6e-415a-bd4e-e15cbc4e0243",
   "metadata": {},
   "source": [
    "## Support Vector Machine"
   ]
  },
  {
   "cell_type": "code",
   "execution_count": null,
   "id": "3a7e12e0-8f15-4d47-8a10-480a0ad36189",
   "metadata": {},
   "outputs": [],
   "source": [
    "svc_svsi= make_pipeline(preprocessing_mm, SVC)"
   ]
  },
  {
   "cell_type": "markdown",
   "id": "b2f185fd-01f1-4c06-8276-3d15086602ac",
   "metadata": {},
   "source": [
    "### Fitting Model"
   ]
  },
  {
   "cell_type": "code",
   "execution_count": null,
   "id": "29dc5294-479e-470f-a634-5ccf422b1a34",
   "metadata": {},
   "outputs": [],
   "source": [
    "svc_svsi.fit(X_train, y_train)"
   ]
  },
  {
   "cell_type": "code",
   "execution_count": null,
   "id": "b19f04b1-4d81-4f6f-bdbb-baf6ed4fe99c",
   "metadata": {},
   "outputs": [],
   "source": [
    "# f.pickle_model(svc, 'svc_svsi')"
   ]
  },
  {
   "cell_type": "markdown",
   "id": "23abd80e-a1e9-4249-a8a9-98d3cf2675d7",
   "metadata": {},
   "source": [
    "### Cross Val Scores"
   ]
  },
  {
   "cell_type": "code",
   "execution_count": null,
   "id": "c7ea5291-f1c7-4c12-b98d-d9f338c70d18",
   "metadata": {
    "tags": []
   },
   "outputs": [],
   "source": [
    "# checking cross val scores\n",
    "modeling.report(svc_svsi, X_train, y_train, 'svc_svsi', 'Support Vector CLF SVSI/MinMax()')"
   ]
  },
  {
   "cell_type": "markdown",
   "id": "bb036c61-512d-4c34-936f-09b8d8b3b873",
   "metadata": {},
   "source": [
    "### Test Data Confusion Matrix"
   ]
  },
  {
   "cell_type": "code",
   "execution_count": null,
   "id": "397ad675-cf53-464c-a8b1-e10ee59e1d9c",
   "metadata": {},
   "outputs": [],
   "source": [
    "f.confusion_report(svc_svsi, X_test, y_test)"
   ]
  },
  {
   "cell_type": "markdown",
   "id": "9d1f580c-b808-4f7c-a5cb-2d321b6b008d",
   "metadata": {},
   "source": [
    "## Linear Support Vector Machine"
   ]
  },
  {
   "cell_type": "code",
   "execution_count": null,
   "id": "904bacd7-6832-4797-9e9d-31bb272d4a5d",
   "metadata": {},
   "outputs": [],
   "source": [
    "lsvc_svsi = make_pipeline(preprocessing_mm, LSVC)"
   ]
  },
  {
   "cell_type": "markdown",
   "id": "46efb006-15ec-4cf5-97d0-456011601931",
   "metadata": {},
   "source": [
    "### Fitting Model"
   ]
  },
  {
   "cell_type": "code",
   "execution_count": null,
   "id": "d381d947-2693-47fc-a094-35d567af4d92",
   "metadata": {},
   "outputs": [],
   "source": [
    "lsvc_svsi.fit(X_train, y_train)"
   ]
  },
  {
   "cell_type": "code",
   "execution_count": null,
   "id": "9ca71124-766c-4c20-b425-eee8435454da",
   "metadata": {},
   "outputs": [],
   "source": [
    "# f.pickle_model(lsvc_svsi, 'lsvc_svsi')"
   ]
  },
  {
   "cell_type": "markdown",
   "id": "9aa25cd3-c6c8-4abb-969c-c09a89132f68",
   "metadata": {},
   "source": [
    "### Cross Val Scores"
   ]
  },
  {
   "cell_type": "code",
   "execution_count": null,
   "id": "ccdb6570-cce3-4f13-91c8-d716ce3e219b",
   "metadata": {
    "tags": []
   },
   "outputs": [],
   "source": [
    "# checking cross val scores\n",
    "modeling.report(lsvc_svsi, X_train, y_train, 'lsvc_svsi', 'Linear SVC SVSI/MinMax()')"
   ]
  },
  {
   "cell_type": "markdown",
   "id": "c655d8a9-bcce-49f5-af6a-364fa6690822",
   "metadata": {},
   "source": [
    "### Test Data Confusion Matrix"
   ]
  },
  {
   "cell_type": "code",
   "execution_count": null,
   "id": "d2f36ee9-85ac-4f7b-9cbc-bc76117c83c2",
   "metadata": {},
   "outputs": [],
   "source": [
    "f.confusion_report(lsvc_svsi, X_test, y_test)"
   ]
  },
  {
   "cell_type": "markdown",
   "id": "5cb5dfb5-86d6-488c-b292-26bb82a8c915",
   "metadata": {},
   "source": [
    "## Decision Tree"
   ]
  },
  {
   "cell_type": "code",
   "execution_count": null,
   "id": "a8a0874f-8db9-4cb0-aaf2-43c7676c54b7",
   "metadata": {},
   "outputs": [],
   "source": [
    "dt_svsi = make_pipeline(preprocessing_mm, DT)"
   ]
  },
  {
   "cell_type": "markdown",
   "id": "4f615c88-8bd5-4161-99eb-6ed2555d7a70",
   "metadata": {},
   "source": [
    "### Fitting Model"
   ]
  },
  {
   "cell_type": "code",
   "execution_count": null,
   "id": "3734cf0a-d196-44ea-b147-92ad2e269c23",
   "metadata": {},
   "outputs": [],
   "source": [
    "dt_svsi.fit(X_train, y_train)"
   ]
  },
  {
   "cell_type": "code",
   "execution_count": null,
   "id": "8d30ff94-b60b-4d9e-a610-b40618f6a475",
   "metadata": {},
   "outputs": [],
   "source": [
    "# f.pickle_model(dt_svsi, 'dt_svsi')"
   ]
  },
  {
   "cell_type": "markdown",
   "id": "fac14565-dae5-43be-b557-23874240a90e",
   "metadata": {},
   "source": [
    "### Cross Val Scores"
   ]
  },
  {
   "cell_type": "code",
   "execution_count": null,
   "id": "a49756b6-4a1f-400c-ad10-c90c0398bd81",
   "metadata": {
    "tags": []
   },
   "outputs": [],
   "source": [
    "# checking cross val scores\n",
    "modeling.report(dt_svsi, X_train, y_train, 'dt_svsi', 'Decision Tree CLF SVSI/MinMax()')"
   ]
  },
  {
   "cell_type": "markdown",
   "id": "9bcae84e-a4f2-4eb5-8302-9707835bb5ad",
   "metadata": {},
   "source": [
    "### Test Data Confusion Matrix"
   ]
  },
  {
   "cell_type": "code",
   "execution_count": null,
   "id": "16375918-dd91-40d2-b4e0-6deb38b96ddb",
   "metadata": {},
   "outputs": [],
   "source": [
    "f.confusion_report(dt_svsi, X_test, y_test)"
   ]
  },
  {
   "cell_type": "markdown",
   "id": "93cbaf28-7c4e-448b-994b-1a76b138c8e2",
   "metadata": {},
   "source": [
    "## Bagging Classifier"
   ]
  },
  {
   "cell_type": "code",
   "execution_count": null,
   "id": "a3c7523f-1c8b-4b3d-91b6-d02c79573e44",
   "metadata": {},
   "outputs": [],
   "source": [
    "bclf_svsi = make_pipeline(preprocessing_mm, BCLF)"
   ]
  },
  {
   "cell_type": "markdown",
   "id": "594cfd51-b880-4862-b758-66799adc9ed9",
   "metadata": {},
   "source": [
    "### Fitting Model"
   ]
  },
  {
   "cell_type": "code",
   "execution_count": null,
   "id": "15fb88f6-aa7e-466f-80aa-5228c066d105",
   "metadata": {},
   "outputs": [],
   "source": [
    "bclf_svsi.fit(X_train, y_train)"
   ]
  },
  {
   "cell_type": "code",
   "execution_count": null,
   "id": "099bb4bc-fcd5-42db-b523-04c39ed3999d",
   "metadata": {},
   "outputs": [],
   "source": [
    "# f.pickle_model(bclf_svsi, 'bclf_svsi')"
   ]
  },
  {
   "cell_type": "markdown",
   "id": "9d08fd1d-15bc-4382-bfff-0a91af267c93",
   "metadata": {},
   "source": [
    "### Cross Val Scores"
   ]
  },
  {
   "cell_type": "code",
   "execution_count": null,
   "id": "a4900b7f-0913-4f08-bd72-8d864c88c513",
   "metadata": {
    "tags": []
   },
   "outputs": [],
   "source": [
    "# checking cross val scores\n",
    "modeling.report(bclf_svsi, X_train, y_train, 'bclf_svsi', 'Bagging CLF SVSI/MinMax()')"
   ]
  },
  {
   "cell_type": "markdown",
   "id": "14a5b4ea-53d0-4d76-ae5f-b9a1c45e3638",
   "metadata": {},
   "source": [
    "### Test Data Confusion Matrix"
   ]
  },
  {
   "cell_type": "code",
   "execution_count": null,
   "id": "cdea7764-fde0-4456-a3fd-e568a1cecaea",
   "metadata": {},
   "outputs": [],
   "source": [
    "f.confusion_report(bclf_svsi, X_test, y_test)"
   ]
  },
  {
   "cell_type": "markdown",
   "id": "136b4ba2-f1de-45e4-a788-6d819ea66a60",
   "metadata": {},
   "source": [
    "## Random Forest Classifier"
   ]
  },
  {
   "cell_type": "code",
   "execution_count": null,
   "id": "9ab8ca93-f017-4285-9f83-b9353db2835b",
   "metadata": {
    "tags": []
   },
   "outputs": [],
   "source": [
    "rf_svsi = make_pipeline(preprocessing_mm, RF)"
   ]
  },
  {
   "cell_type": "markdown",
   "id": "5e97e9af-bd99-41b6-a1b1-4700e04e0b55",
   "metadata": {},
   "source": [
    "### Fitting Model"
   ]
  },
  {
   "cell_type": "code",
   "execution_count": null,
   "id": "28871c9d-e2c9-411a-9329-aa6be1f1f91e",
   "metadata": {},
   "outputs": [],
   "source": [
    "rf_svsi.fit(X_train, y_train)"
   ]
  },
  {
   "cell_type": "code",
   "execution_count": null,
   "id": "3edfe5f3-31aa-40ba-958e-118bb3635902",
   "metadata": {},
   "outputs": [],
   "source": [
    "# f.pickle_model(rf_svsi, 'rf_svsi')"
   ]
  },
  {
   "cell_type": "markdown",
   "id": "ef82fe3e-da69-4483-92b0-efcc07e4b167",
   "metadata": {},
   "source": [
    "### Cross Val Scores"
   ]
  },
  {
   "cell_type": "code",
   "execution_count": null,
   "id": "9aeae448-5b0c-47b0-9068-6c03397590a6",
   "metadata": {
    "tags": []
   },
   "outputs": [],
   "source": [
    "# checking cross val scores\n",
    "modeling.report(rf_svsi, X_train, y_train, 'rf_svsi', 'Random Forest SVSI/MinMax()')"
   ]
  },
  {
   "cell_type": "markdown",
   "id": "4103df77-0ad0-44e4-837d-31347ac52994",
   "metadata": {},
   "source": [
    "### Test Data Confusion Matrix"
   ]
  },
  {
   "cell_type": "code",
   "execution_count": null,
   "id": "58ee23b2-834b-470e-bced-37da9327bc03",
   "metadata": {},
   "outputs": [],
   "source": [
    "f.confusion_report(rf_svsi, X_test, y_test)"
   ]
  },
  {
   "cell_type": "markdown",
   "id": "1aabc3a2-e55d-45fb-a392-a01edfc17641",
   "metadata": {},
   "source": [
    "## AdaBoost"
   ]
  },
  {
   "cell_type": "code",
   "execution_count": null,
   "id": "2d0b2fa4-39c6-4faa-93be-3ed525b4678c",
   "metadata": {},
   "outputs": [],
   "source": [
    "ada_svsi = make_pipeline(preprocessing_mm, ADA)"
   ]
  },
  {
   "cell_type": "markdown",
   "id": "bb06cf64-0df5-4b4c-98a2-2a84b7399a8d",
   "metadata": {},
   "source": [
    "### Fitting Model"
   ]
  },
  {
   "cell_type": "code",
   "execution_count": null,
   "id": "5be1a8ff-e1cf-4008-a765-5b28bf96ddbb",
   "metadata": {},
   "outputs": [],
   "source": [
    "ada_svsi.fit(X_train, y_train)"
   ]
  },
  {
   "cell_type": "code",
   "execution_count": null,
   "id": "46c11bfb-1cb9-45fe-a574-9a0cb3b7d259",
   "metadata": {},
   "outputs": [],
   "source": [
    "# f.pickle_model(ada_svsi, 'ada_svsi')"
   ]
  },
  {
   "cell_type": "markdown",
   "id": "55ca125b-95cb-4413-9cc5-dd477d4ca67a",
   "metadata": {},
   "source": [
    "### Cross Val Scores"
   ]
  },
  {
   "cell_type": "code",
   "execution_count": null,
   "id": "b48075c9-3c5f-4d50-a518-108bb1a850c9",
   "metadata": {
    "tags": []
   },
   "outputs": [],
   "source": [
    "# checking cross val scores\n",
    "modeling.report(ada_svsi, X_train, y_train, 'ada_svsi', 'AdaBoost SVSI/MinMax()')"
   ]
  },
  {
   "cell_type": "markdown",
   "id": "44e1db7f-cde1-4bb8-b871-619a9ca583db",
   "metadata": {},
   "source": [
    "### Test Data Confusion Matrix"
   ]
  },
  {
   "cell_type": "code",
   "execution_count": null,
   "id": "bcc7c286-cdb9-4b5c-8d91-09927062b33f",
   "metadata": {},
   "outputs": [],
   "source": [
    "f.confusion_report(ada_svsi, X_test, y_test)"
   ]
  },
  {
   "cell_type": "markdown",
   "id": "d0293bc3-e9a8-4e90-a876-c4f9d6859798",
   "metadata": {},
   "source": [
    "## XGBoost"
   ]
  },
  {
   "cell_type": "code",
   "execution_count": null,
   "id": "94842603-3d4b-43a2-8f09-a1779d3e9cf0",
   "metadata": {
    "tags": []
   },
   "outputs": [],
   "source": [
    "xgb_svsi = make_pipeline(preprocessing_mm, XGB)"
   ]
  },
  {
   "cell_type": "markdown",
   "id": "efab486f-e247-47e9-a239-79ebe688ffa7",
   "metadata": {},
   "source": [
    "### Fitting Model"
   ]
  },
  {
   "cell_type": "code",
   "execution_count": null,
   "id": "91619a76-8e3f-4fda-817e-e857127335cf",
   "metadata": {
    "tags": []
   },
   "outputs": [],
   "source": [
    "%%capture --no-display\n",
    "xgb_svsi.fit(X_train, y_train)"
   ]
  },
  {
   "cell_type": "code",
   "execution_count": null,
   "id": "ac8533f9-bceb-479c-8fe4-55bf66fd5f7c",
   "metadata": {},
   "outputs": [],
   "source": [
    "# f.pickle_model(xgb_svsi, 'xgb_svsi')"
   ]
  },
  {
   "cell_type": "markdown",
   "id": "44a7f4e0-9ef7-42c6-a8d9-154b553e3dfe",
   "metadata": {},
   "source": [
    "### Cross Val Scores"
   ]
  },
  {
   "cell_type": "code",
   "execution_count": null,
   "id": "dab12cd7-8145-4baf-aa4c-736fee7a62a3",
   "metadata": {
    "tags": []
   },
   "outputs": [],
   "source": [
    "%%capture --no-display\n",
    "# checking cross val scores\n",
    "modeling.report(xgb_svsi, X_train, y_train, 'xgb_svsi', 'XGBoost SVSI/MinMax()')"
   ]
  },
  {
   "cell_type": "markdown",
   "id": "44842925-58cd-48fa-9aa2-d742411006bf",
   "metadata": {},
   "source": [
    "### Test Data Confusion Matrix"
   ]
  },
  {
   "cell_type": "code",
   "execution_count": null,
   "id": "77fa96bf-27e4-4a75-9a76-a94a4cfde2c4",
   "metadata": {
    "tags": []
   },
   "outputs": [],
   "source": [
    "%%capture --no-display\n",
    "f.confusion_report(xgb_svsi, X_test, y_test)"
   ]
  },
  {
   "cell_type": "markdown",
   "id": "60724808-fb2e-4752-b67e-7e46b308ea5b",
   "metadata": {},
   "source": [
    "## Model Summary 2"
   ]
  },
  {
   "cell_type": "code",
   "execution_count": null,
   "id": "9debd528-9d4c-489c-99f8-e2f3c56442c7",
   "metadata": {},
   "outputs": [],
   "source": [
    "modeling.history"
   ]
  },
  {
   "cell_type": "markdown",
   "id": "2c40df5a-a3c2-4b55-a899-5810a9c14272",
   "metadata": {},
   "source": [
    "## Voting Classifier\n",
    "Using the top three model in a voting classifier."
   ]
  },
  {
   "cell_type": "code",
   "execution_count": null,
   "id": "e0446764-3153-4689-a898-ee7136ebb050",
   "metadata": {
    "tags": []
   },
   "outputs": [],
   "source": [
    "clf1 = LR\n",
    "clf2 = RF\n",
    "clf3 = XGB\n",
    "\n",
    "estimators = [('lsvs',clf1), ('logreg', clf1), ('rf', clf2), ('xgb', clf3)]\n",
    "\n",
    "VC = VotingClassifier(estimators=estimators, voting='hard', n_jobs=-1)"
   ]
  },
  {
   "cell_type": "code",
   "execution_count": null,
   "id": "0bc65413-eb2b-4b92-957e-c2e882e3a6d9",
   "metadata": {
    "tags": []
   },
   "outputs": [],
   "source": [
    "vc_svsi = make_pipeline(preprocessing_mm, VC)"
   ]
  },
  {
   "cell_type": "markdown",
   "id": "284d5be1-0cdf-49dd-99e3-bfda0535602d",
   "metadata": {},
   "source": [
    "### Fitting Model"
   ]
  },
  {
   "cell_type": "code",
   "execution_count": null,
   "id": "75cfba44-d60b-4af5-8cb6-d9cb1fe5543a",
   "metadata": {
    "tags": []
   },
   "outputs": [],
   "source": [
    "%%capture --no-display\n",
    "vc_svsi.fit(X_train, y_train)"
   ]
  },
  {
   "cell_type": "code",
   "execution_count": null,
   "id": "e9afe81a-6b37-4be2-9ee9-52fd3ae3bb6c",
   "metadata": {
    "tags": []
   },
   "outputs": [],
   "source": [
    "# f.pickle_model(vc_svsi, 'vc_svsi')"
   ]
  },
  {
   "cell_type": "markdown",
   "id": "a4af98cb-1eba-4433-9afe-d6d8f2cc09b7",
   "metadata": {},
   "source": [
    "### Cross Val Scores"
   ]
  },
  {
   "cell_type": "code",
   "execution_count": null,
   "id": "e3a97c1f-f088-4701-af10-8f394ca55593",
   "metadata": {
    "tags": []
   },
   "outputs": [],
   "source": [
    "%%capture --no-display\n",
    "# checking cross val scores\n",
    "modeling.report(vc_svsi, X_train, y_train, 'vc_svsi', 'Voting CLF SVSI/MinMax()')"
   ]
  },
  {
   "cell_type": "markdown",
   "id": "d9b7b752-33e0-455c-8dc1-950f902d9250",
   "metadata": {},
   "source": [
    "### Test Data Confusion Matrix"
   ]
  },
  {
   "cell_type": "code",
   "execution_count": null,
   "id": "23203af6-7f20-4922-9258-01ce5849c31e",
   "metadata": {
    "tags": []
   },
   "outputs": [],
   "source": [
    "%%capture --no-display\n",
    "f.confusion_report(vc_svsi, X_test, y_test)"
   ]
  },
  {
   "cell_type": "markdown",
   "id": "d830379a-1824-4f6c-a64f-0e829d731d43",
   "metadata": {},
   "source": [
    "## Model Summary 3"
   ]
  },
  {
   "cell_type": "code",
   "execution_count": null,
   "id": "0fe6444d-1730-4548-b5d1-f64137890c13",
   "metadata": {
    "tags": []
   },
   "outputs": [],
   "source": [
    "modeling.history"
   ]
  },
  {
   "cell_type": "markdown",
   "id": "17d1dc8f-63fd-4642-8561-aa7186d59fde",
   "metadata": {},
   "source": [
    "## Neural Network"
   ]
  },
  {
   "cell_type": "markdown",
   "id": "a74e3446-9e80-43b8-8892-fd8a397f049c",
   "metadata": {
    "execution": {
     "iopub.execute_input": "2021-07-28T19:02:38.782989Z",
     "iopub.status.busy": "2021-07-28T19:02:38.782606Z",
     "iopub.status.idle": "2021-07-28T19:02:38.790427Z",
     "shell.execute_reply": "2021-07-28T19:02:38.788257Z",
     "shell.execute_reply.started": "2021-07-28T19:02:38.782892Z"
    }
   },
   "source": [
    "### Creating Validation Data"
   ]
  },
  {
   "cell_type": "markdown",
   "id": "0fccf2ed-b958-46bb-93df-0758fa595d31",
   "metadata": {},
   "source": [
    "### Create Model"
   ]
  },
  {
   "cell_type": "code",
   "execution_count": null,
   "id": "54200284-4077-4d61-a494-844be0b18f9f",
   "metadata": {
    "tags": []
   },
   "outputs": [],
   "source": [
    "def create_model():\n",
    "    # building model\n",
    "    model = Sequential()\n",
    "    model.add(Dense(64, input_dim=49, activation='relu'))\n",
    "    model.add(Dense(32, activation='relu'))\n",
    "    model.add(Dense(16, activation='relu'))\n",
    "    model.add(Dense(16, activation='relu'))\n",
    "    model.add(Dense(16, activation='relu'))\n",
    "    model.add(Dense(1, activation='sigmoid'))\n",
    "    # compiling\n",
    "    model.compile(loss='binary_crossentropy',\n",
    "                 optimizer='adam',\n",
    "                 metrics=['accuracy'])\n",
    "    return model"
   ]
  },
  {
   "cell_type": "code",
   "execution_count": null,
   "id": "c0d19739-fb52-4f74-b422-a316f2881b16",
   "metadata": {
    "tags": []
   },
   "outputs": [],
   "source": [
    "NN = KerasClassifier(build_fn=create_model,\n",
    "                     epochs=10,\n",
    "                     batch_size=32,\n",
    "                     verbose=0)"
   ]
  },
  {
   "cell_type": "markdown",
   "id": "3a17f285-84cf-42ef-a416-72736a3ce1c4",
   "metadata": {},
   "source": [
    "### Pipeline"
   ]
  },
  {
   "cell_type": "code",
   "execution_count": null,
   "id": "503e98fe-0179-425e-87a1-663daa602889",
   "metadata": {
    "tags": []
   },
   "outputs": [],
   "source": [
    "nn_1 = make_pipeline(preprocessing_mm, NN)"
   ]
  },
  {
   "cell_type": "markdown",
   "id": "9611b71c-5560-46d4-bce4-9fb4b72a7be3",
   "metadata": {},
   "source": [
    "### Fitting Models"
   ]
  },
  {
   "cell_type": "code",
   "execution_count": null,
   "id": "d1f6c8cc-e82c-4027-9e80-56ef69ed1c5a",
   "metadata": {
    "tags": []
   },
   "outputs": [],
   "source": [
    "%%capture --no-display\n",
    "nn_1.fit(X_train, y_train)"
   ]
  },
  {
   "cell_type": "markdown",
   "id": "1be41796-1cc7-4aef-a328-09266378c93a",
   "metadata": {},
   "source": [
    "### Cross Val Scores"
   ]
  },
  {
   "cell_type": "code",
   "execution_count": null,
   "id": "fe96618b-4907-4a9e-b8f4-c096b9fda17e",
   "metadata": {
    "tags": []
   },
   "outputs": [],
   "source": [
    "%%capture --no-display\n",
    "modeling.report(nn_1, X_train, y_train, 'nn_1_svsi', 'Neural Net SVSI/MinMax()')"
   ]
  },
  {
   "cell_type": "markdown",
   "id": "fd308636-dafa-472d-a262-3fc5c1e3d353",
   "metadata": {},
   "source": [
    "### Test Data Confusion Matrix"
   ]
  },
  {
   "cell_type": "code",
   "execution_count": null,
   "id": "3b5f2d1a-e262-449c-8a26-42a70dfb967c",
   "metadata": {
    "tags": []
   },
   "outputs": [],
   "source": [
    "%%capture --no-display\n",
    "f.confusion_report_nn(nn_1, X_test, y_test)"
   ]
  },
  {
   "cell_type": "markdown",
   "id": "67db26d1-c055-493c-a97f-00b9e5dd9206",
   "metadata": {},
   "source": [
    "## Model Summary 4"
   ]
  },
  {
   "cell_type": "code",
   "execution_count": null,
   "id": "ff8aa130-e014-47d3-ad5a-e9aec62c15f8",
   "metadata": {
    "tags": []
   },
   "outputs": [],
   "source": [
    "modeling.history"
   ]
  },
  {
   "cell_type": "code",
   "execution_count": null,
   "id": "8ba5282b-131c-41f5-82cd-17f07b9a2408",
   "metadata": {
    "tags": []
   },
   "outputs": [],
   "source": [
    "# df = modeling.history\n",
    "# f.df_plot(df, 'modeling_history')"
   ]
  },
  {
   "cell_type": "code",
   "execution_count": null,
   "id": "68ecfae6-ad14-417e-b750-a14f6b1cac8b",
   "metadata": {},
   "outputs": [],
   "source": []
  }
 ],
 "metadata": {
  "kernelspec": {
   "display_name": "oo",
   "language": "python",
   "name": "oo"
  },
  "language_info": {
   "codemirror_mode": {
    "name": "ipython",
    "version": 3
   },
   "file_extension": ".py",
   "mimetype": "text/x-python",
   "name": "python",
   "nbconvert_exporter": "python",
   "pygments_lexer": "ipython3",
   "version": "3.9.6"
  }
 },
 "nbformat": 4,
 "nbformat_minor": 5
}
