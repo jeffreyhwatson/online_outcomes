{
 "cells": [
  {
   "cell_type": "code",
   "execution_count": 1,
   "id": "94cfc82d-3bfe-4d45-9491-7367137242dc",
   "metadata": {
    "execution": {
     "iopub.execute_input": "2021-08-27T21:10:42.076188Z",
     "iopub.status.busy": "2021-08-27T21:10:42.075482Z",
     "iopub.status.idle": "2021-08-27T21:10:42.111566Z",
     "shell.execute_reply": "2021-08-27T21:10:42.111041Z",
     "shell.execute_reply.started": "2021-08-27T21:10:42.076104Z"
    },
    "tags": []
   },
   "outputs": [],
   "source": [
    "%load_ext autoreload\n",
    "%load_ext autotime\n",
    "%autoreload 2"
   ]
  },
  {
   "cell_type": "markdown",
   "id": "f36ef01c-d2f6-42f7-aa57-a07ac54e396e",
   "metadata": {},
   "source": [
    "## Imports & Settings"
   ]
  },
  {
   "cell_type": "code",
   "execution_count": 2,
   "id": "42187a70-280e-4b78-88b6-e45897794eb1",
   "metadata": {
    "execution": {
     "iopub.execute_input": "2021-08-27T21:10:42.113039Z",
     "iopub.status.busy": "2021-08-27T21:10:42.112713Z",
     "iopub.status.idle": "2021-08-27T21:10:44.562279Z",
     "shell.execute_reply": "2021-08-27T21:10:44.561761Z",
     "shell.execute_reply.started": "2021-08-27T21:10:42.113002Z"
    },
    "tags": []
   },
   "outputs": [
    {
     "name": "stdout",
     "output_type": "stream",
     "text": [
      "time: 2.43 s\n"
     ]
    }
   ],
   "source": [
    "import os, sys\n",
    "import warnings\n",
    "\n",
    "# setting project path\n",
    "gparent = os.path.join(os.pardir, os.pardir)\n",
    "sys.path.append(gparent)\n",
    "\n",
    "import pandas as pd\n",
    "import numpy as np\n",
    "import matplotlib.pyplot as plt\n",
    "import seaborn as sns\n",
    "%matplotlib inline\n",
    "\n",
    "# setting style\n",
    "sns.set_theme('talk')\n",
    "plt.style.use('fivethirtyeight')\n",
    "sns.set_palette('GnBu_r')\n",
    "pd.options.display.max_rows = 300\n",
    "\n",
    "from src import helper_functions as f\n",
    "from src import visualizations as v\n",
    "from src import class_Database as d\n",
    "from src import class_Harness as h\n",
    "\n",
    "from sklearn.model_selection import RandomizedSearchCV\n",
    "from sklearn.preprocessing import OneHotEncoder, StandardScaler\n",
    "from sklearn.compose import make_column_selector, make_column_transformer\n",
    "from sklearn.pipeline import make_pipeline \n",
    "from sklearn.metrics import (accuracy_score, recall_score, precision_score,\n",
    "                             f1_score, make_scorer)\n",
    "from sklearn.inspection import permutation_importance\n",
    "from sklearn.dummy import DummyClassifier\n",
    "from sklearn.naive_bayes import MultinomialNB\n",
    "from sklearn.linear_model import LogisticRegression\n",
    "from sklearn.neighbors import KNeighborsClassifier\n",
    "from sklearn.svm import SVC, LinearSVC \n",
    "from sklearn.tree import DecisionTreeClassifier\n",
    "from sklearn.ensemble import (BaggingClassifier, AdaBoostClassifier,\n",
    "                              RandomForestClassifier, VotingClassifier)\n",
    "\n",
    "from imblearn.over_sampling import SMOTE\n",
    "from imblearn.pipeline import make_pipeline as make_sm_pipeline\n",
    "\n",
    "from xgboost import XGBClassifier"
   ]
  },
  {
   "cell_type": "markdown",
   "id": "f64cbb03-e0bd-46bb-9c49-02b4079e2b19",
   "metadata": {
    "tags": []
   },
   "source": [
    "## Creating the Database and Instantiating a Database Object"
   ]
  },
  {
   "cell_type": "code",
   "execution_count": 3,
   "id": "c6b7bc9b-15ae-47e2-b051-54137915f739",
   "metadata": {
    "execution": {
     "iopub.execute_input": "2021-08-27T21:10:44.563492Z",
     "iopub.status.busy": "2021-08-27T21:10:44.563287Z",
     "iopub.status.idle": "2021-08-27T21:10:44.602095Z",
     "shell.execute_reply": "2021-08-27T21:10:44.601645Z",
     "shell.execute_reply.started": "2021-08-27T21:10:44.563471Z"
    },
    "tags": []
   },
   "outputs": [
    {
     "name": "stdout",
     "output_type": "stream",
     "text": [
      "time: 1.29 ms\n"
     ]
    }
   ],
   "source": [
    "# creating database & database class instance\n",
    "database_name = 'outcomes.db'\n",
    "db = d.Database(database_name)"
   ]
  },
  {
   "cell_type": "markdown",
   "id": "917c5417-d8f5-4e3f-a2f1-5edb23c13a1f",
   "metadata": {
    "tags": []
   },
   "source": [
    "## Populating the Database"
   ]
  },
  {
   "cell_type": "markdown",
   "id": "cd0985f1-4f69-44c8-a340-edfe6ae1ce38",
   "metadata": {},
   "source": [
    "**If necessary, run the cell below to populate the database.**"
   ]
  },
  {
   "cell_type": "code",
   "execution_count": 4,
   "id": "da68c0f3-d35e-448c-8330-c09c435d2600",
   "metadata": {
    "execution": {
     "iopub.execute_input": "2021-08-27T21:10:44.604647Z",
     "iopub.status.busy": "2021-08-27T21:10:44.604429Z",
     "iopub.status.idle": "2021-08-27T21:10:44.650568Z",
     "shell.execute_reply": "2021-08-27T21:10:44.649671Z",
     "shell.execute_reply.started": "2021-08-27T21:10:44.604624Z"
    },
    "tags": []
   },
   "outputs": [
    {
     "name": "stdout",
     "output_type": "stream",
     "text": [
      "time: 457 µs\n"
     ]
    }
   ],
   "source": [
    "# file_name = 'anonymisedData.zip'\n",
    "# db.populate(file_name, database_name)"
   ]
  },
  {
   "cell_type": "markdown",
   "id": "201ad092-c2bf-4251-b5bd-a727c1870e86",
   "metadata": {
    "tags": []
   },
   "source": [
    "## Preprocessing and Harness Objects\n",
    "Creating column selectors, transformers, scorers, and a SMOTE instance for the pipeline. Also, instantiating a harness object to record the modeling process."
   ]
  },
  {
   "cell_type": "code",
   "execution_count": 5,
   "id": "e656dfa8-d422-4924-899f-df466499f5b9",
   "metadata": {
    "execution": {
     "iopub.execute_input": "2021-08-27T21:10:44.651932Z",
     "iopub.status.busy": "2021-08-27T21:10:44.651692Z",
     "iopub.status.idle": "2021-08-27T21:10:44.697772Z",
     "shell.execute_reply": "2021-08-27T21:10:44.696975Z",
     "shell.execute_reply.started": "2021-08-27T21:10:44.651912Z"
    },
    "tags": []
   },
   "outputs": [
    {
     "name": "stdout",
     "output_type": "stream",
     "text": [
      "time: 3.09 ms\n"
     ]
    }
   ],
   "source": [
    "string_selector = make_column_selector(dtype_include='object')\n",
    "number_selector = make_column_selector(dtype_include='number', dtype_exclude='object')\n",
    "\n",
    "preprocessing_ohe = make_column_transformer((OneHotEncoder\n",
    "                                         (handle_unknown='ignore'),string_selector))\n",
    "preprocessing_ss = make_column_transformer((OneHotEncoder\n",
    "                                         (handle_unknown='ignore'),string_selector),\n",
    "                                          (StandardScaler(), number_selector))\n",
    "sm = SMOTE(random_state=2021)\n",
    "\n",
    "# creating accuracy scorer\n",
    "accuracy = f.acc_score\n",
    "\n",
    "# creating f1 scorer\n",
    "f1 = f.f1\n",
    "\n",
    "# creating recall scorer \n",
    "recall = f.recall\n",
    "\n",
    "# creating precision scorer\n",
    "precision = f.precision\n",
    "\n",
    "# creating Harness\n",
    "modeling = h.Harness(('accuracy', 'f1', 'recall', 'precision'))"
   ]
  },
  {
   "cell_type": "markdown",
   "id": "75a36437-a1cf-4d92-b454-8d18e1aed12a",
   "metadata": {
    "execution": {
     "iopub.execute_input": "2021-08-22T04:34:59.419541Z",
     "iopub.status.busy": "2021-08-22T04:34:59.418987Z",
     "iopub.status.idle": "2021-08-22T04:34:59.485868Z",
     "shell.execute_reply": "2021-08-22T04:34:59.485007Z",
     "shell.execute_reply.started": "2021-08-22T04:34:59.419482Z"
    },
    "tags": []
   },
   "source": [
    "## Half Term Data"
   ]
  },
  {
   "cell_type": "markdown",
   "id": "7783ca7c-b3f3-4ed1-804e-a0fcab641f5d",
   "metadata": {
    "jp-MarkdownHeadingCollapsed": true,
    "tags": []
   },
   "source": [
    "In order to be able to predict unsatisfactory outcomes while there is still time to intervene, we limited the model to data logged upto the halfway of the courses. Since the median course length is 240 days, a cutoff point of 120 days was chosen. Further, students who withdrew before the 120th day were dropped from the data, since their outcome was fully determined within the 120 day window.\n",
    "\n",
    "The data was collected into an SQL database, and a data frame was constructed from the various database tables. During the creation process, the multiclass `final_result` feature was binarized into a `target` feature with classes Satisfactory (Pass, Distinction), and Unsatisfactory (Withdrawn, Fail). A `row_id` feature was constructed to identify unique student-course-semester combinations, and a `sum_activity` feature was added to quantify the level of a student's interaction with the course material. Lastly, `weighted_ave`,  `mean_score`, and `median_score` were derived from the each row's  assessment data. "
   ]
  },
  {
   "cell_type": "code",
   "execution_count": 6,
   "id": "ce7ae2c4-0dea-45be-a302-5d647d8fb345",
   "metadata": {
    "execution": {
     "iopub.execute_input": "2021-08-27T21:10:44.699484Z",
     "iopub.status.busy": "2021-08-27T21:10:44.699309Z",
     "iopub.status.idle": "2021-08-27T21:10:54.640547Z",
     "shell.execute_reply": "2021-08-27T21:10:54.639805Z",
     "shell.execute_reply.started": "2021-08-27T21:10:44.699468Z"
    },
    "tags": []
   },
   "outputs": [
    {
     "name": "stdout",
     "output_type": "stream",
     "text": [
      "time: 9.9 s\n"
     ]
    }
   ],
   "source": [
    "df = db.data_prep_half(120)"
   ]
  },
  {
   "cell_type": "code",
   "execution_count": 7,
   "id": "bba58aa5-e2b0-4e05-9a4d-90acece1d61a",
   "metadata": {
    "execution": {
     "iopub.execute_input": "2021-08-27T21:10:54.642263Z",
     "iopub.status.busy": "2021-08-27T21:10:54.642076Z",
     "iopub.status.idle": "2021-08-27T21:10:54.727308Z",
     "shell.execute_reply": "2021-08-27T21:10:54.726538Z",
     "shell.execute_reply.started": "2021-08-27T21:10:54.642231Z"
    },
    "tags": []
   },
   "outputs": [
    {
     "name": "stdout",
     "output_type": "stream",
     "text": [
      "<class 'pandas.core.frame.DataFrame'>\n",
      "Int64Index: 24770 entries, 0 to 24769\n",
      "Data columns (total 27 columns):\n",
      " #   Column                Non-Null Count  Dtype  \n",
      "---  ------                --------------  -----  \n",
      " 0   target                23261 non-null  float64\n",
      " 1   row_id                24770 non-null  object \n",
      " 2   score                 23237 non-null  object \n",
      " 3   gender                23261 non-null  object \n",
      " 4   region                23261 non-null  object \n",
      " 5   highest_education     23261 non-null  object \n",
      " 6   imd_band              22335 non-null  object \n",
      " 7   age_band              23261 non-null  object \n",
      " 8   num_of_prev_attempts  23261 non-null  float64\n",
      " 9   studied_credits       23261 non-null  float64\n",
      " 10  disability            23261 non-null  object \n",
      " 11  final_result          23261 non-null  object \n",
      " 12  date_sub              23261 non-null  float64\n",
      " 13  course_length         23261 non-null  float64\n",
      " 14  weighted_ave          23255 non-null  float64\n",
      " 15  mean_score            23255 non-null  float64\n",
      " 16  median_score          23255 non-null  float64\n",
      " 17  code_module           23261 non-null  object \n",
      " 18  code_presentation     23261 non-null  object \n",
      " 19  id_student            23261 non-null  object \n",
      " 20  id_site               23261 non-null  object \n",
      " 21  date                  23261 non-null  object \n",
      " 22  sum_click             23261 non-null  object \n",
      " 23  sum_activity          23261 non-null  float64\n",
      " 24  max_date              23261 non-null  float64\n",
      " 25  date_registration     24770 non-null  float64\n",
      " 26  date_unregistration   2255 non-null   float64\n",
      "dtypes: float64(12), object(15)\n",
      "memory usage: 5.3+ MB\n",
      "time: 37.7 ms\n"
     ]
    }
   ],
   "source": [
    "df.info()"
   ]
  },
  {
   "cell_type": "markdown",
   "id": "fb3cafa0-c002-4a6f-b9f7-ef4ca2c44ef2",
   "metadata": {},
   "source": [
    "## Data Preparation"
   ]
  },
  {
   "cell_type": "code",
   "execution_count": 8,
   "id": "a5935a5c-a491-46c9-9fbf-da3703c89423",
   "metadata": {
    "execution": {
     "iopub.execute_input": "2021-08-27T21:10:54.729428Z",
     "iopub.status.busy": "2021-08-27T21:10:54.729036Z",
     "iopub.status.idle": "2021-08-27T21:10:54.776745Z",
     "shell.execute_reply": "2021-08-27T21:10:54.775970Z",
     "shell.execute_reply.started": "2021-08-27T21:10:54.729404Z"
    },
    "tags": []
   },
   "outputs": [
    {
     "name": "stdout",
     "output_type": "stream",
     "text": [
      "time: 656 µs\n"
     ]
    }
   ],
   "source": [
    "drops = ['row_id', 'studied_credits', 'final_result',\n",
    "         'id_site', 'sum_click', 'date_sub', 'date',\n",
    "         'score','course_length', 'date_registration',\n",
    "         'date_unregistration', 'max_date', 'code_module',\n",
    "         'code_presentation', 'id_student', 'activity_level']"
   ]
  },
  {
   "cell_type": "code",
   "execution_count": 9,
   "id": "32260425-9873-4c48-ba1a-f656ede80ab6",
   "metadata": {
    "execution": {
     "iopub.execute_input": "2021-08-27T21:10:54.778377Z",
     "iopub.status.busy": "2021-08-27T21:10:54.778203Z",
     "iopub.status.idle": "2021-08-27T21:10:54.916828Z",
     "shell.execute_reply": "2021-08-27T21:10:54.916263Z",
     "shell.execute_reply.started": "2021-08-27T21:10:54.778359Z"
    },
    "tags": []
   },
   "outputs": [
    {
     "name": "stdout",
     "output_type": "stream",
     "text": [
      "time: 99.5 ms\n"
     ]
    }
   ],
   "source": [
    "df = db.pipe_cleaner_wa(df, drops).reset_index(drop=True)"
   ]
  },
  {
   "cell_type": "markdown",
   "id": "1b158329-c6a3-483d-8619-ed35d1643e98",
   "metadata": {},
   "source": [
    "After the data frame was created various cosmetic fixes were applied to the data, and outliers were dropped from the `studied_credits`, `weighted_ave`, and `sum_activity` features using IQR fences. A categorical `course_load` feature was derived by binning `studied_credits`, and a categorical `activity_level` feature was created by binning `sum_activity`. The `course_load` feature was used during the modeling process, and `activity_level` was used for statistical testing when while investigating business recommendations. Lastly, null values and extraneous columns were dropped in preparation of the modeling process."
   ]
  },
  {
   "cell_type": "code",
   "execution_count": 10,
   "id": "cb04436b-916e-4c51-8a4a-1d4e1228a5ea",
   "metadata": {
    "execution": {
     "iopub.execute_input": "2021-08-27T21:10:54.918157Z",
     "iopub.status.busy": "2021-08-27T21:10:54.917873Z",
     "iopub.status.idle": "2021-08-27T21:10:54.977125Z",
     "shell.execute_reply": "2021-08-27T21:10:54.976029Z",
     "shell.execute_reply.started": "2021-08-27T21:10:54.918132Z"
    },
    "tags": []
   },
   "outputs": [
    {
     "name": "stdout",
     "output_type": "stream",
     "text": [
      "<class 'pandas.core.frame.DataFrame'>\n",
      "RangeIndex: 19458 entries, 0 to 19457\n",
      "Data columns (total 13 columns):\n",
      " #   Column                Non-Null Count  Dtype   \n",
      "---  ------                --------------  -----   \n",
      " 0   target                19458 non-null  float64 \n",
      " 1   gender                19458 non-null  object  \n",
      " 2   region                19458 non-null  object  \n",
      " 3   highest_education     19458 non-null  object  \n",
      " 4   imd_band              19458 non-null  object  \n",
      " 5   age_band              19458 non-null  object  \n",
      " 6   num_of_prev_attempts  19458 non-null  float64 \n",
      " 7   disability            19458 non-null  object  \n",
      " 8   weighted_ave          19458 non-null  float64 \n",
      " 9   mean_score            19458 non-null  float64 \n",
      " 10  median_score          19458 non-null  float64 \n",
      " 11  sum_activity          19458 non-null  float64 \n",
      " 12  course_load           19458 non-null  category\n",
      "dtypes: category(1), float64(6), object(6)\n",
      "memory usage: 1.8+ MB\n",
      "time: 19.9 ms\n"
     ]
    }
   ],
   "source": [
    "df.info()"
   ]
  },
  {
   "cell_type": "markdown",
   "id": "44f6016d-7423-4dbf-a11d-9b3efd088382",
   "metadata": {},
   "source": [
    "## Features Used"
   ]
  },
  {
   "cell_type": "markdown",
   "id": "42000c26-f789-41f9-b16f-d620fd766bcb",
   "metadata": {
    "execution": {
     "iopub.execute_input": "2021-08-21T23:41:11.261495Z",
     "iopub.status.busy": "2021-08-21T23:41:11.261113Z",
     "iopub.status.idle": "2021-08-21T23:41:11.321962Z",
     "shell.execute_reply": "2021-08-21T23:41:11.321173Z",
     "shell.execute_reply.started": "2021-08-21T23:41:11.261451Z"
    },
    "tags": []
   },
   "source": [
    "The following features will be used in the modeling process:\n",
    "    \n",
    "-  gender: The gender of the student.\n",
    "    \n",
    "-  region: The geographic region of the student.\n",
    "    \n",
    "- highest_education: The education level of the student.\n",
    "    \n",
    "- imd_band: A measure of economic status based on geographic location.\n",
    "    \n",
    "- age_band: The age cohort of the student.\n",
    "    \n",
    "- num_of_prev_attempts: The number of times the student has attempted the class.\n",
    "    \n",
    "- disability: The disability status of the student.\n",
    "\n",
    "- weighted_ave: The weighted average of the student's assessment scores.\n",
    "\n",
    "- mean_score: The student's mean assessment score.\n",
    "\n",
    "- median_score: The student's median assessment score.\n",
    "\n",
    "- sum_activity: The sum of the activities, and the number of clicks for each activity, that the student logged.\n",
    "\n",
    "- course_load: A three level categorization of the total credits the student was enrolled at the time of the  course.\n",
    "    "
   ]
  },
  {
   "cell_type": "markdown",
   "id": "82715dec-3b27-4bc1-aa5a-277f3a62df9c",
   "metadata": {},
   "source": [
    "## Summary Statistics for the Numerical Features"
   ]
  },
  {
   "cell_type": "code",
   "execution_count": 11,
   "id": "563db219-4da6-4297-ab86-85db486a3b99",
   "metadata": {
    "execution": {
     "iopub.execute_input": "2021-08-27T21:10:54.979081Z",
     "iopub.status.busy": "2021-08-27T21:10:54.978741Z",
     "iopub.status.idle": "2021-08-27T21:10:55.075833Z",
     "shell.execute_reply": "2021-08-27T21:10:55.075215Z",
     "shell.execute_reply.started": "2021-08-27T21:10:54.978995Z"
    },
    "tags": []
   },
   "outputs": [
    {
     "data": {
      "text/html": [
       "<div>\n",
       "<style scoped>\n",
       "    .dataframe tbody tr th:only-of-type {\n",
       "        vertical-align: middle;\n",
       "    }\n",
       "\n",
       "    .dataframe tbody tr th {\n",
       "        vertical-align: top;\n",
       "    }\n",
       "\n",
       "    .dataframe thead th {\n",
       "        text-align: right;\n",
       "    }\n",
       "</style>\n",
       "<table border=\"1\" class=\"dataframe\">\n",
       "  <thead>\n",
       "    <tr style=\"text-align: right;\">\n",
       "      <th></th>\n",
       "      <th>target</th>\n",
       "      <th>num_of_prev_attempts</th>\n",
       "      <th>weighted_ave</th>\n",
       "      <th>mean_score</th>\n",
       "      <th>median_score</th>\n",
       "      <th>sum_activity</th>\n",
       "    </tr>\n",
       "  </thead>\n",
       "  <tbody>\n",
       "    <tr>\n",
       "      <th>count</th>\n",
       "      <td>19458.000000</td>\n",
       "      <td>19458.000000</td>\n",
       "      <td>19458.000000</td>\n",
       "      <td>19458.000000</td>\n",
       "      <td>19458.000000</td>\n",
       "      <td>19458.000000</td>\n",
       "    </tr>\n",
       "    <tr>\n",
       "      <th>mean</th>\n",
       "      <td>0.359595</td>\n",
       "      <td>0.140713</td>\n",
       "      <td>106.436972</td>\n",
       "      <td>74.288758</td>\n",
       "      <td>74.583256</td>\n",
       "      <td>901.266780</td>\n",
       "    </tr>\n",
       "    <tr>\n",
       "      <th>std</th>\n",
       "      <td>0.479894</td>\n",
       "      <td>0.449925</td>\n",
       "      <td>65.628103</td>\n",
       "      <td>15.207932</td>\n",
       "      <td>15.078946</td>\n",
       "      <td>724.074213</td>\n",
       "    </tr>\n",
       "    <tr>\n",
       "      <th>min</th>\n",
       "      <td>0.000000</td>\n",
       "      <td>0.000000</td>\n",
       "      <td>0.000000</td>\n",
       "      <td>0.000000</td>\n",
       "      <td>0.000000</td>\n",
       "      <td>2.000000</td>\n",
       "    </tr>\n",
       "    <tr>\n",
       "      <th>25%</th>\n",
       "      <td>0.000000</td>\n",
       "      <td>0.000000</td>\n",
       "      <td>60.800000</td>\n",
       "      <td>66.400000</td>\n",
       "      <td>66.500000</td>\n",
       "      <td>345.000000</td>\n",
       "    </tr>\n",
       "    <tr>\n",
       "      <th>50%</th>\n",
       "      <td>0.000000</td>\n",
       "      <td>0.000000</td>\n",
       "      <td>113.020000</td>\n",
       "      <td>77.400000</td>\n",
       "      <td>77.500000</td>\n",
       "      <td>694.000000</td>\n",
       "    </tr>\n",
       "    <tr>\n",
       "      <th>75%</th>\n",
       "      <td>1.000000</td>\n",
       "      <td>0.000000</td>\n",
       "      <td>152.000000</td>\n",
       "      <td>85.000000</td>\n",
       "      <td>85.000000</td>\n",
       "      <td>1268.750000</td>\n",
       "    </tr>\n",
       "    <tr>\n",
       "      <th>max</th>\n",
       "      <td>1.000000</td>\n",
       "      <td>6.000000</td>\n",
       "      <td>299.920000</td>\n",
       "      <td>100.000000</td>\n",
       "      <td>100.000000</td>\n",
       "      <td>3179.000000</td>\n",
       "    </tr>\n",
       "  </tbody>\n",
       "</table>\n",
       "</div>"
      ],
      "text/plain": [
       "             target  num_of_prev_attempts  weighted_ave    mean_score  \\\n",
       "count  19458.000000          19458.000000  19458.000000  19458.000000   \n",
       "mean       0.359595              0.140713    106.436972     74.288758   \n",
       "std        0.479894              0.449925     65.628103     15.207932   \n",
       "min        0.000000              0.000000      0.000000      0.000000   \n",
       "25%        0.000000              0.000000     60.800000     66.400000   \n",
       "50%        0.000000              0.000000    113.020000     77.400000   \n",
       "75%        1.000000              0.000000    152.000000     85.000000   \n",
       "max        1.000000              6.000000    299.920000    100.000000   \n",
       "\n",
       "       median_score  sum_activity  \n",
       "count  19458.000000  19458.000000  \n",
       "mean      74.583256    901.266780  \n",
       "std       15.078946    724.074213  \n",
       "min        0.000000      2.000000  \n",
       "25%       66.500000    345.000000  \n",
       "50%       77.500000    694.000000  \n",
       "75%       85.000000   1268.750000  \n",
       "max      100.000000   3179.000000  "
      ]
     },
     "execution_count": 11,
     "metadata": {},
     "output_type": "execute_result"
    },
    {
     "name": "stdout",
     "output_type": "stream",
     "text": [
      "time: 51.1 ms\n"
     ]
    }
   ],
   "source": [
    "df.describe()"
   ]
  },
  {
   "cell_type": "markdown",
   "id": "6df32d97-8feb-4a19-99a4-de2911bf6e3c",
   "metadata": {
    "execution": {
     "iopub.execute_input": "2021-08-02T05:58:12.326167Z",
     "iopub.status.busy": "2021-08-02T05:58:12.325283Z",
     "iopub.status.idle": "2021-08-02T05:58:12.485929Z",
     "shell.execute_reply": "2021-08-02T05:58:12.484654Z",
     "shell.execute_reply.started": "2021-08-02T05:58:12.326095Z"
    },
    "tags": []
   },
   "source": [
    "## Creating Holdout Data"
   ]
  },
  {
   "cell_type": "code",
   "execution_count": 12,
   "id": "d8ba6393-410d-4ac3-87f2-d854f0985584",
   "metadata": {
    "execution": {
     "iopub.execute_input": "2021-08-27T21:10:55.076988Z",
     "iopub.status.busy": "2021-08-27T21:10:55.076827Z",
     "iopub.status.idle": "2021-08-27T21:10:55.118705Z",
     "shell.execute_reply": "2021-08-27T21:10:55.117993Z",
     "shell.execute_reply.started": "2021-08-27T21:10:55.076970Z"
    },
    "tags": []
   },
   "outputs": [
    {
     "name": "stdout",
     "output_type": "stream",
     "text": [
      "time: 2.59 ms\n"
     ]
    }
   ],
   "source": [
    "# splitting data & target\n",
    "X, y = f.X_y(df)"
   ]
  },
  {
   "cell_type": "code",
   "execution_count": 13,
   "id": "8b35a4f4-5fbf-456c-bbde-d5df7b46967c",
   "metadata": {
    "execution": {
     "iopub.execute_input": "2021-08-27T21:10:55.122812Z",
     "iopub.status.busy": "2021-08-27T21:10:55.122589Z",
     "iopub.status.idle": "2021-08-27T21:10:55.180268Z",
     "shell.execute_reply": "2021-08-27T21:10:55.179523Z",
     "shell.execute_reply.started": "2021-08-27T21:10:55.122791Z"
    },
    "tags": []
   },
   "outputs": [
    {
     "name": "stdout",
     "output_type": "stream",
     "text": [
      "time: 10.5 ms\n"
     ]
    }
   ],
   "source": [
    "# splitting training and holdout data\n",
    "X_training, X_holdout, y_training, y_holdout = f.test_train(X, y)"
   ]
  },
  {
   "cell_type": "markdown",
   "id": "7fc98fd9-e1b1-472a-ae02-98777816437a",
   "metadata": {
    "tags": []
   },
   "source": [
    "## Creating Training Data"
   ]
  },
  {
   "cell_type": "code",
   "execution_count": 14,
   "id": "b8c9b3b4-c2bd-445e-8188-b1f53bc6fd12",
   "metadata": {
    "execution": {
     "iopub.execute_input": "2021-08-27T21:10:55.181638Z",
     "iopub.status.busy": "2021-08-27T21:10:55.181431Z",
     "iopub.status.idle": "2021-08-27T21:10:55.230767Z",
     "shell.execute_reply": "2021-08-27T21:10:55.230271Z",
     "shell.execute_reply.started": "2021-08-27T21:10:55.181614Z"
    },
    "tags": []
   },
   "outputs": [
    {
     "name": "stdout",
     "output_type": "stream",
     "text": [
      "time: 8.33 ms\n"
     ]
    }
   ],
   "source": [
    "# train test split\n",
    "X_train, X_test, y_train, y_test = f.test_train(X_training, y_training)"
   ]
  },
  {
   "cell_type": "code",
   "execution_count": 15,
   "id": "43011997-5371-45fa-a001-e9244eff1b4e",
   "metadata": {
    "execution": {
     "iopub.execute_input": "2021-08-27T21:10:55.232153Z",
     "iopub.status.busy": "2021-08-27T21:10:55.231847Z",
     "iopub.status.idle": "2021-08-27T21:10:55.283424Z",
     "shell.execute_reply": "2021-08-27T21:10:55.282733Z",
     "shell.execute_reply.started": "2021-08-27T21:10:55.232122Z"
    }
   },
   "outputs": [
    {
     "data": {
      "text/plain": [
       "0.0    0.640405\n",
       "1.0    0.359595\n",
       "Name: target, dtype: float64"
      ]
     },
     "execution_count": 15,
     "metadata": {},
     "output_type": "execute_result"
    },
    {
     "name": "stdout",
     "output_type": "stream",
     "text": [
      "time: 3.59 ms\n"
     ]
    }
   ],
   "source": [
    "df.target.value_counts(normalize=True)"
   ]
  },
  {
   "cell_type": "markdown",
   "id": "931fe721-98f3-4255-9c30-fbb055a7ff4e",
   "metadata": {},
   "source": [
    "# Modeling\n",
    "\n",
    "Since we want to indentify as many unsatisfactory outcomes possible while still minimizing false positives, we will use F1 as the metric of our models."
   ]
  },
  {
   "cell_type": "markdown",
   "id": "4788d474-d3e2-43b7-b578-062549052b62",
   "metadata": {
    "tags": []
   },
   "source": [
    "## Baseline Model: Dummy Classifier\n",
    "The classifier will predict the minority class for each observation."
   ]
  },
  {
   "cell_type": "code",
   "execution_count": 16,
   "id": "1e86b922-31ee-4128-ae9c-2c4c68ef2e25",
   "metadata": {
    "execution": {
     "iopub.execute_input": "2021-08-27T21:10:55.284504Z",
     "iopub.status.busy": "2021-08-27T21:10:55.284345Z",
     "iopub.status.idle": "2021-08-27T21:10:55.331298Z",
     "shell.execute_reply": "2021-08-27T21:10:55.330466Z",
     "shell.execute_reply.started": "2021-08-27T21:10:55.284485Z"
    },
    "tags": []
   },
   "outputs": [
    {
     "name": "stdout",
     "output_type": "stream",
     "text": [
      "time: 609 µs\n"
     ]
    }
   ],
   "source": [
    "dummy = DummyClassifier(strategy='constant', constant=1)"
   ]
  },
  {
   "cell_type": "code",
   "execution_count": 17,
   "id": "599ac023-fdc6-4d1f-afaa-a5299c468e39",
   "metadata": {
    "execution": {
     "iopub.execute_input": "2021-08-27T21:10:55.332357Z",
     "iopub.status.busy": "2021-08-27T21:10:55.332204Z",
     "iopub.status.idle": "2021-08-27T21:10:55.380847Z",
     "shell.execute_reply": "2021-08-27T21:10:55.379771Z",
     "shell.execute_reply.started": "2021-08-27T21:10:55.332340Z"
    },
    "tags": []
   },
   "outputs": [
    {
     "name": "stdout",
     "output_type": "stream",
     "text": [
      "time: 749 µs\n"
     ]
    }
   ],
   "source": [
    "baseline = make_pipeline(preprocessing_ohe, dummy)"
   ]
  },
  {
   "cell_type": "markdown",
   "id": "0d0c212d-bb3b-44d5-b4c6-aed634f18bd4",
   "metadata": {
    "tags": []
   },
   "source": [
    "### Fitting Model"
   ]
  },
  {
   "cell_type": "code",
   "execution_count": 18,
   "id": "ec2bd2a3-c0da-46f4-9a75-eb9cbd290f84",
   "metadata": {
    "execution": {
     "iopub.execute_input": "2021-08-27T21:10:55.382324Z",
     "iopub.status.busy": "2021-08-27T21:10:55.382118Z",
     "iopub.status.idle": "2021-08-27T21:10:55.474817Z",
     "shell.execute_reply": "2021-08-27T21:10:55.473799Z",
     "shell.execute_reply.started": "2021-08-27T21:10:55.382302Z"
    },
    "tags": []
   },
   "outputs": [
    {
     "data": {
      "text/plain": [
       "Pipeline(steps=[('columntransformer',\n",
       "                 ColumnTransformer(transformers=[('onehotencoder',\n",
       "                                                  OneHotEncoder(handle_unknown='ignore'),\n",
       "                                                  <sklearn.compose._column_transformer.make_column_selector object at 0x1140160d0>)])),\n",
       "                ('dummyclassifier',\n",
       "                 DummyClassifier(constant=1, strategy='constant'))])"
      ]
     },
     "execution_count": 18,
     "metadata": {},
     "output_type": "execute_result"
    },
    {
     "name": "stdout",
     "output_type": "stream",
     "text": [
      "time: 45.4 ms\n"
     ]
    }
   ],
   "source": [
    "baseline.fit(X_train, y_train)"
   ]
  },
  {
   "cell_type": "markdown",
   "id": "048b2687-8362-4e84-a35c-738ed4197adb",
   "metadata": {},
   "source": [
    "### Saving Model"
   ]
  },
  {
   "cell_type": "code",
   "execution_count": 19,
   "id": "b4eb708b-0a82-4081-9ad8-cd8f07734506",
   "metadata": {
    "execution": {
     "iopub.execute_input": "2021-08-27T21:10:55.477225Z",
     "iopub.status.busy": "2021-08-27T21:10:55.476872Z",
     "iopub.status.idle": "2021-08-27T21:10:55.528865Z",
     "shell.execute_reply": "2021-08-27T21:10:55.528113Z",
     "shell.execute_reply.started": "2021-08-27T21:10:55.477184Z"
    },
    "tags": []
   },
   "outputs": [
    {
     "name": "stdout",
     "output_type": "stream",
     "text": [
      "time: 1.66 ms\n"
     ]
    }
   ],
   "source": [
    "# f.pickle_model(baseline, 'baseline')"
   ]
  },
  {
   "cell_type": "markdown",
   "id": "051a4dbd-1e1d-4ad1-8a04-7f5f6b3a46f1",
   "metadata": {},
   "source": [
    "### Cross Val Scores"
   ]
  },
  {
   "cell_type": "code",
   "execution_count": 20,
   "id": "f524e0f3-0582-4fa1-b9a4-5ef33c3c4c3d",
   "metadata": {
    "execution": {
     "iopub.execute_input": "2021-08-27T21:10:55.530335Z",
     "iopub.status.busy": "2021-08-27T21:10:55.530169Z",
     "iopub.status.idle": "2021-08-27T21:10:55.766303Z",
     "shell.execute_reply": "2021-08-27T21:10:55.765566Z",
     "shell.execute_reply.started": "2021-08-27T21:10:55.530317Z"
    },
    "tags": []
   },
   "outputs": [
    {
     "name": "stdout",
     "output_type": "stream",
     "text": [
      " Baseline has an average Accuracy of 0.3596491264699766\n",
      " Baseline has an average F1 of 0.5290322368027472\n",
      " Baseline has an average Recall of 1.0\n",
      " Baseline has an average Precision of 0.3596491264699766\n",
      "time: 192 ms\n"
     ]
    }
   ],
   "source": [
    "with warnings.catch_warnings():\n",
    "    warnings.simplefilter('ignore')\n",
    "    modeling.report(baseline, X_train, y_train, ' Baseline', 'Baseline DummyCFL')"
   ]
  },
  {
   "cell_type": "markdown",
   "id": "d5a77b93-c25d-4fc9-987f-25b67eee97b3",
   "metadata": {},
   "source": [
    "### Test Data Confusion Matrix"
   ]
  },
  {
   "cell_type": "code",
   "execution_count": 21,
   "id": "86df33d6-4019-48fa-9298-85cf602cb085",
   "metadata": {
    "execution": {
     "iopub.execute_input": "2021-08-27T21:10:55.767874Z",
     "iopub.status.busy": "2021-08-27T21:10:55.767710Z",
     "iopub.status.idle": "2021-08-27T21:10:56.140061Z",
     "shell.execute_reply": "2021-08-27T21:10:56.139361Z",
     "shell.execute_reply.started": "2021-08-27T21:10:55.767854Z"
    },
    "tags": []
   },
   "outputs": [
    {
     "data": {
      "image/png": "[encoded data removed]",
      "text/plain": [
       "<Figure size 504x504 with 2 Axes>"
      ]
     },
     "metadata": {},
     "output_type": "display_data"
    },
    {
     "data": {
      "text/html": [
       "<div>\n",
       "<style scoped>\n",
       "    .dataframe tbody tr th:only-of-type {\n",
       "        vertical-align: middle;\n",
       "    }\n",
       "\n",
       "    .dataframe tbody tr th {\n",
       "        vertical-align: top;\n",
       "    }\n",
       "\n",
       "    .dataframe thead th {\n",
       "        text-align: right;\n",
       "    }\n",
       "</style>\n",
       "<table border=\"1\" class=\"dataframe\">\n",
       "  <thead>\n",
       "    <tr style=\"text-align: right;\">\n",
       "      <th></th>\n",
       "      <th>Accuracy</th>\n",
       "      <th>F1</th>\n",
       "      <th>Recall</th>\n",
       "      <th>Precision</th>\n",
       "    </tr>\n",
       "  </thead>\n",
       "  <tbody>\n",
       "    <tr>\n",
       "      <th>0</th>\n",
       "      <td>0.359551</td>\n",
       "      <td>0.528926</td>\n",
       "      <td>1.0</td>\n",
       "      <td>0.359551</td>\n",
       "    </tr>\n",
       "  </tbody>\n",
       "</table>\n",
       "</div>"
      ],
      "text/plain": [
       "   Accuracy        F1  Recall  Precision\n",
       "0  0.359551  0.528926     1.0   0.359551"
      ]
     },
     "execution_count": 21,
     "metadata": {},
     "output_type": "execute_result"
    },
    {
     "name": "stdout",
     "output_type": "stream",
     "text": [
      "time: 287 ms\n"
     ]
    }
   ],
   "source": [
    "%%capture --no-display\n",
    "f.confusion_report(baseline, X_test, y_test)"
   ]
  },
  {
   "cell_type": "markdown",
   "id": "614b2d1e-1a08-4479-b0f5-8c1d182d2b19",
   "metadata": {
    "jp-MarkdownHeadingCollapsed": true,
    "tags": []
   },
   "source": [
    "## Score Interpretation:\n",
    "\n",
    "F1 is a mix of both precision and recall, so the interpretation of the results is more easily given in terms of recall and precision.\n",
    "\n",
    "- From the confusion matrix we see that the baseline model is classifying everything as the minority class, which was expected.\n",
    "- All Unsatisfactory outcomes were correctly classified as Unsatisfactory, so the recall score for this model is 1. \n",
    "- The precision score of .36 indicates that 36% of outcomes classified as Unsatisfactory were truly Unsatisfactory."
   ]
  },
  {
   "cell_type": "markdown",
   "id": "bfd805fe-d7d8-4e4a-86c0-da98e79af849",
   "metadata": {
    "tags": []
   },
   "source": [
    "## First Simple Model: Naive Bayes Classifier\n",
    "We will use a basic classifier for our first simple model."
   ]
  },
  {
   "cell_type": "code",
   "execution_count": 22,
   "id": "6c111326-6469-47a2-9e47-f3d69b0dcdce",
   "metadata": {
    "execution": {
     "iopub.execute_input": "2021-08-27T21:10:56.141452Z",
     "iopub.status.busy": "2021-08-27T21:10:56.141185Z",
     "iopub.status.idle": "2021-08-27T21:10:56.181444Z",
     "shell.execute_reply": "2021-08-27T21:10:56.180381Z",
     "shell.execute_reply.started": "2021-08-27T21:10:56.141429Z"
    },
    "tags": []
   },
   "outputs": [
    {
     "name": "stdout",
     "output_type": "stream",
     "text": [
      "time: 544 µs\n"
     ]
    }
   ],
   "source": [
    "mnb = MultinomialNB()"
   ]
  },
  {
   "cell_type": "code",
   "execution_count": 23,
   "id": "0ea05f5c-62fa-45b8-878b-ec4d5b4219fe",
   "metadata": {
    "execution": {
     "iopub.execute_input": "2021-08-27T21:10:56.182673Z",
     "iopub.status.busy": "2021-08-27T21:10:56.182465Z",
     "iopub.status.idle": "2021-08-27T21:10:56.227299Z",
     "shell.execute_reply": "2021-08-27T21:10:56.226565Z",
     "shell.execute_reply.started": "2021-08-27T21:10:56.182655Z"
    },
    "tags": []
   },
   "outputs": [
    {
     "name": "stdout",
     "output_type": "stream",
     "text": [
      "time: 663 µs\n"
     ]
    }
   ],
   "source": [
    "fsm = make_pipeline(preprocessing_ohe, mnb)"
   ]
  },
  {
   "cell_type": "markdown",
   "id": "14d03080-86fb-4d97-b82d-8358c39da9fd",
   "metadata": {
    "tags": []
   },
   "source": [
    "### Fitting Model"
   ]
  },
  {
   "cell_type": "code",
   "execution_count": 24,
   "id": "4e7b07c4-ccb8-4574-ba83-d05542afa294",
   "metadata": {
    "execution": {
     "iopub.execute_input": "2021-08-27T21:10:56.228779Z",
     "iopub.status.busy": "2021-08-27T21:10:56.228555Z",
     "iopub.status.idle": "2021-08-27T21:10:56.311753Z",
     "shell.execute_reply": "2021-08-27T21:10:56.310882Z",
     "shell.execute_reply.started": "2021-08-27T21:10:56.228760Z"
    },
    "tags": []
   },
   "outputs": [
    {
     "data": {
      "text/plain": [
       "Pipeline(steps=[('columntransformer',\n",
       "                 ColumnTransformer(transformers=[('onehotencoder',\n",
       "                                                  OneHotEncoder(handle_unknown='ignore'),\n",
       "                                                  <sklearn.compose._column_transformer.make_column_selector object at 0x1140160d0>)])),\n",
       "                ('multinomialnb', MultinomialNB())])"
      ]
     },
     "execution_count": 24,
     "metadata": {},
     "output_type": "execute_result"
    },
    {
     "name": "stdout",
     "output_type": "stream",
     "text": [
      "time: 40.6 ms\n"
     ]
    }
   ],
   "source": [
    "fsm.fit(X_train, y_train)"
   ]
  },
  {
   "cell_type": "markdown",
   "id": "5478d4a3-dc6c-48da-8d3d-3ce8762a691e",
   "metadata": {},
   "source": [
    "### Saving Model"
   ]
  },
  {
   "cell_type": "code",
   "execution_count": 25,
   "id": "7010a796-48eb-4da8-9aff-4fa2d4d05e92",
   "metadata": {
    "execution": {
     "iopub.execute_input": "2021-08-27T21:10:56.312996Z",
     "iopub.status.busy": "2021-08-27T21:10:56.312840Z",
     "iopub.status.idle": "2021-08-27T21:10:56.356506Z",
     "shell.execute_reply": "2021-08-27T21:10:56.355889Z",
     "shell.execute_reply.started": "2021-08-27T21:10:56.312979Z"
    },
    "tags": []
   },
   "outputs": [
    {
     "name": "stdout",
     "output_type": "stream",
     "text": [
      "time: 454 µs\n"
     ]
    }
   ],
   "source": [
    "# f.pickle_model(fsm, 'fsm')"
   ]
  },
  {
   "cell_type": "markdown",
   "id": "2b946dfb-f51d-4e80-a7a3-52272562e1b1",
   "metadata": {},
   "source": [
    "### Cross Val Scores"
   ]
  },
  {
   "cell_type": "code",
   "execution_count": 26,
   "id": "6682b3bd-cc1e-4400-a887-cae2649488ca",
   "metadata": {
    "execution": {
     "iopub.execute_input": "2021-08-27T21:10:56.357733Z",
     "iopub.status.busy": "2021-08-27T21:10:56.357533Z",
     "iopub.status.idle": "2021-08-27T21:10:56.598467Z",
     "shell.execute_reply": "2021-08-27T21:10:56.597727Z",
     "shell.execute_reply.started": "2021-08-27T21:10:56.357714Z"
    },
    "tags": []
   },
   "outputs": [
    {
     "name": "stdout",
     "output_type": "stream",
     "text": [
      " fsm has an average Accuracy of 0.6447369805651159\n",
      " fsm has an average F1 of 0.27759213371791497\n",
      " fsm has an average Recall of 0.18978579583201646\n",
      " fsm has an average Precision of 0.5175573546203541\n",
      "time: 196 ms\n"
     ]
    }
   ],
   "source": [
    "# checking cross val scores\n",
    "modeling.report(fsm, X_train, y_train, ' fsm', 'FSM Naive Bayes')"
   ]
  },
  {
   "cell_type": "markdown",
   "id": "6de33111-a2d9-4257-98b1-01d6758406fd",
   "metadata": {},
   "source": [
    "### Test Data Confusion Matrix"
   ]
  },
  {
   "cell_type": "code",
   "execution_count": 27,
   "id": "63ed44cb-c256-4900-9107-f85579abc41d",
   "metadata": {
    "execution": {
     "iopub.execute_input": "2021-08-27T21:10:56.599812Z",
     "iopub.status.busy": "2021-08-27T21:10:56.599666Z",
     "iopub.status.idle": "2021-08-27T21:10:56.838613Z",
     "shell.execute_reply": "2021-08-27T21:10:56.838044Z",
     "shell.execute_reply.started": "2021-08-27T21:10:56.599795Z"
    },
    "tags": []
   },
   "outputs": [
    {
     "data": {
      "image/png": "[encoded data removed]",
      "text/plain": [
       "<Figure size 504x504 with 2 Axes>"
      ]
     },
     "metadata": {},
     "output_type": "display_data"
    },
    {
     "data": {
      "text/html": [
       "<div>\n",
       "<style scoped>\n",
       "    .dataframe tbody tr th:only-of-type {\n",
       "        vertical-align: middle;\n",
       "    }\n",
       "\n",
       "    .dataframe tbody tr th {\n",
       "        vertical-align: top;\n",
       "    }\n",
       "\n",
       "    .dataframe thead th {\n",
       "        text-align: right;\n",
       "    }\n",
       "</style>\n",
       "<table border=\"1\" class=\"dataframe\">\n",
       "  <thead>\n",
       "    <tr style=\"text-align: right;\">\n",
       "      <th></th>\n",
       "      <th>Accuracy</th>\n",
       "      <th>F1</th>\n",
       "      <th>Recall</th>\n",
       "      <th>Precision</th>\n",
       "    </tr>\n",
       "  </thead>\n",
       "  <tbody>\n",
       "    <tr>\n",
       "      <th>0</th>\n",
       "      <td>0.647575</td>\n",
       "      <td>0.276715</td>\n",
       "      <td>0.1875</td>\n",
       "      <td>0.527897</td>\n",
       "    </tr>\n",
       "  </tbody>\n",
       "</table>\n",
       "</div>"
      ],
      "text/plain": [
       "   Accuracy        F1  Recall  Precision\n",
       "0  0.647575  0.276715  0.1875   0.527897"
      ]
     },
     "execution_count": 27,
     "metadata": {},
     "output_type": "execute_result"
    },
    {
     "name": "stdout",
     "output_type": "stream",
     "text": [
      "time: 197 ms\n"
     ]
    }
   ],
   "source": [
    "f.confusion_report(fsm, X_test, y_test)"
   ]
  },
  {
   "cell_type": "markdown",
   "id": "046846d3-e790-41fe-b531-4a6b92348fd2",
   "metadata": {},
   "source": [
    "## Score Interpretation:\n",
    "\n",
    "- From the confusion matrix we see that the fsm model is classifying outcomes slightly better than baseline.\n",
    "- The recall score of .19 indicates that about 19% outcomes were correctly classified as Unsatisfactory. \n",
    "- The precision score .53 indicates that about 53% of outcomes classified as Unsatisfactory were truly Unsatisfactory."
   ]
  },
  {
   "cell_type": "markdown",
   "id": "b444a55a-2fbd-4683-b89a-e351851f2a1d",
   "metadata": {},
   "source": [
    "# Standard Scaling\n",
    "Since a few of the numerical features differ by orders of magnitude, standard scaling will be implemented to aid in model convergence and performance."
   ]
  },
  {
   "cell_type": "markdown",
   "id": "f7619f29-9ec0-4d3d-ac9e-215b54e80f83",
   "metadata": {
    "tags": []
   },
   "source": [
    "## KNeighborsClassifier"
   ]
  },
  {
   "cell_type": "code",
   "execution_count": 28,
   "id": "04a7eb6a-d7a1-4931-b816-b413073cf1c3",
   "metadata": {
    "execution": {
     "iopub.execute_input": "2021-08-27T21:10:56.839571Z",
     "iopub.status.busy": "2021-08-27T21:10:56.839429Z",
     "iopub.status.idle": "2021-08-27T21:10:56.878566Z",
     "shell.execute_reply": "2021-08-27T21:10:56.877685Z",
     "shell.execute_reply.started": "2021-08-27T21:10:56.839555Z"
    },
    "tags": []
   },
   "outputs": [
    {
     "name": "stdout",
     "output_type": "stream",
     "text": [
      "time: 642 µs\n"
     ]
    }
   ],
   "source": [
    "KNN = KNeighborsClassifier(n_jobs=-1)"
   ]
  },
  {
   "cell_type": "code",
   "execution_count": 29,
   "id": "ead8f44a-dc29-4a60-bc86-6e5f9871134d",
   "metadata": {
    "execution": {
     "iopub.execute_input": "2021-08-27T21:10:56.879848Z",
     "iopub.status.busy": "2021-08-27T21:10:56.879695Z",
     "iopub.status.idle": "2021-08-27T21:10:56.923809Z",
     "shell.execute_reply": "2021-08-27T21:10:56.923062Z",
     "shell.execute_reply.started": "2021-08-27T21:10:56.879831Z"
    },
    "tags": []
   },
   "outputs": [
    {
     "name": "stdout",
     "output_type": "stream",
     "text": [
      "time: 705 µs\n"
     ]
    }
   ],
   "source": [
    "knn_ss = make_pipeline(preprocessing_ss, KNN)"
   ]
  },
  {
   "cell_type": "markdown",
   "id": "841ec937-113f-47a2-a2a5-6cba92fcf4db",
   "metadata": {},
   "source": [
    "### Fitting Model"
   ]
  },
  {
   "cell_type": "code",
   "execution_count": 30,
   "id": "5180995d-6baa-40ce-9823-0249db159a83",
   "metadata": {
    "execution": {
     "iopub.execute_input": "2021-08-27T21:10:56.924932Z",
     "iopub.status.busy": "2021-08-27T21:10:56.924629Z",
     "iopub.status.idle": "2021-08-27T21:10:57.015509Z",
     "shell.execute_reply": "2021-08-27T21:10:57.014546Z",
     "shell.execute_reply.started": "2021-08-27T21:10:56.924896Z"
    },
    "tags": []
   },
   "outputs": [
    {
     "data": {
      "text/plain": [
       "Pipeline(steps=[('columntransformer',\n",
       "                 ColumnTransformer(transformers=[('onehotencoder',\n",
       "                                                  OneHotEncoder(handle_unknown='ignore'),\n",
       "                                                  <sklearn.compose._column_transformer.make_column_selector object at 0x1140160d0>),\n",
       "                                                 ('standardscaler',\n",
       "                                                  StandardScaler(),\n",
       "                                                  <sklearn.compose._column_transformer.make_column_selector object at 0x114016130>)])),\n",
       "                ('kneighborsclassifier', KNeighborsClassifier(n_jobs=-1))])"
      ]
     },
     "execution_count": 30,
     "metadata": {},
     "output_type": "execute_result"
    },
    {
     "name": "stdout",
     "output_type": "stream",
     "text": [
      "time: 46.7 ms\n"
     ]
    }
   ],
   "source": [
    "knn_ss.fit(X_train, y_train)"
   ]
  },
  {
   "cell_type": "code",
   "execution_count": 31,
   "id": "3909088c-e302-44c1-8f92-5b728067fdf1",
   "metadata": {
    "execution": {
     "iopub.execute_input": "2021-08-27T21:10:57.016870Z",
     "iopub.status.busy": "2021-08-27T21:10:57.016641Z",
     "iopub.status.idle": "2021-08-27T21:10:57.062590Z",
     "shell.execute_reply": "2021-08-27T21:10:57.061895Z",
     "shell.execute_reply.started": "2021-08-27T21:10:57.016848Z"
    },
    "tags": []
   },
   "outputs": [
    {
     "name": "stdout",
     "output_type": "stream",
     "text": [
      "time: 637 µs\n"
     ]
    }
   ],
   "source": [
    "# f.pickle_model(knn_ss, 'knn_ss')"
   ]
  },
  {
   "cell_type": "markdown",
   "id": "95f9f739-c9ea-4712-9eb6-31363a2fdc01",
   "metadata": {},
   "source": [
    "### Cross Val Scores"
   ]
  },
  {
   "cell_type": "code",
   "execution_count": 32,
   "id": "82b1f329-e748-4b24-b54a-ac768d0bae3d",
   "metadata": {
    "execution": {
     "iopub.execute_input": "2021-08-27T21:10:57.064180Z",
     "iopub.status.busy": "2021-08-27T21:10:57.063797Z",
     "iopub.status.idle": "2021-08-27T21:11:00.752091Z",
     "shell.execute_reply": "2021-08-27T21:11:00.751474Z",
     "shell.execute_reply.started": "2021-08-27T21:10:57.064138Z"
    },
    "tags": []
   },
   "outputs": [
    {
     "name": "stdout",
     "output_type": "stream",
     "text": [
      "knn_ss has an average Accuracy of 0.710343933394745\n",
      "knn_ss has an average F1 of 0.5622362175375103\n",
      "knn_ss has an average Recall of 0.5172808132147395\n",
      "knn_ss has an average Precision of 0.6160075501796807\n",
      "time: 3.64 s\n"
     ]
    }
   ],
   "source": [
    "# checking cross val scores\n",
    "modeling.report(knn_ss, X_train, y_train, 'knn_ss',\\\n",
    "                'KNN SS()')"
   ]
  },
  {
   "cell_type": "markdown",
   "id": "96a7f79b-b360-49f5-a275-6c2c017f8938",
   "metadata": {},
   "source": [
    "### Test Data Confusion Matrix"
   ]
  },
  {
   "cell_type": "code",
   "execution_count": 33,
   "id": "76db7a21-2c92-4557-9451-fdf09165495d",
   "metadata": {
    "execution": {
     "iopub.execute_input": "2021-08-27T21:11:00.753763Z",
     "iopub.status.busy": "2021-08-27T21:11:00.753456Z",
     "iopub.status.idle": "2021-08-27T21:11:08.098791Z",
     "shell.execute_reply": "2021-08-27T21:11:08.098221Z",
     "shell.execute_reply.started": "2021-08-27T21:11:00.753739Z"
    },
    "tags": []
   },
   "outputs": [
    {
     "data": {
      "image/png": "[encoded data removed]",
      "text/plain": [
       "<Figure size 504x504 with 2 Axes>"
      ]
     },
     "metadata": {},
     "output_type": "display_data"
    },
    {
     "data": {
      "text/html": [
       "<div>\n",
       "<style scoped>\n",
       "    .dataframe tbody tr th:only-of-type {\n",
       "        vertical-align: middle;\n",
       "    }\n",
       "\n",
       "    .dataframe tbody tr th {\n",
       "        vertical-align: top;\n",
       "    }\n",
       "\n",
       "    .dataframe thead th {\n",
       "        text-align: right;\n",
       "    }\n",
       "</style>\n",
       "<table border=\"1\" class=\"dataframe\">\n",
       "  <thead>\n",
       "    <tr style=\"text-align: right;\">\n",
       "      <th></th>\n",
       "      <th>Accuracy</th>\n",
       "      <th>F1</th>\n",
       "      <th>Recall</th>\n",
       "      <th>Precision</th>\n",
       "    </tr>\n",
       "  </thead>\n",
       "  <tbody>\n",
       "    <tr>\n",
       "      <th>0</th>\n",
       "      <td>0.707591</td>\n",
       "      <td>0.559273</td>\n",
       "      <td>0.516006</td>\n",
       "      <td>0.61046</td>\n",
       "    </tr>\n",
       "  </tbody>\n",
       "</table>\n",
       "</div>"
      ],
      "text/plain": [
       "   Accuracy        F1    Recall  Precision\n",
       "0  0.707591  0.559273  0.516006    0.61046"
      ]
     },
     "execution_count": 33,
     "metadata": {},
     "output_type": "execute_result"
    },
    {
     "name": "stdout",
     "output_type": "stream",
     "text": [
      "time: 7.3 s\n"
     ]
    }
   ],
   "source": [
    "f.confusion_report(knn_ss, X_test, y_test)"
   ]
  },
  {
   "cell_type": "markdown",
   "id": "dd21ef5e-5c7b-4dd6-bf15-6d2b8edecd7f",
   "metadata": {},
   "source": [
    "## Logistic Regression Classifier"
   ]
  },
  {
   "cell_type": "code",
   "execution_count": 34,
   "id": "4576bb29-a723-4161-88d2-2064ba535208",
   "metadata": {
    "execution": {
     "iopub.execute_input": "2021-08-27T21:11:08.100068Z",
     "iopub.status.busy": "2021-08-27T21:11:08.099911Z",
     "iopub.status.idle": "2021-08-27T21:11:08.140005Z",
     "shell.execute_reply": "2021-08-27T21:11:08.139293Z",
     "shell.execute_reply.started": "2021-08-27T21:11:08.100050Z"
    },
    "tags": []
   },
   "outputs": [
    {
     "name": "stdout",
     "output_type": "stream",
     "text": [
      "time: 712 µs\n"
     ]
    }
   ],
   "source": [
    "LR = LogisticRegression(max_iter=1000, n_jobs=-1, random_state = 2021, verbose=0)"
   ]
  },
  {
   "cell_type": "code",
   "execution_count": 35,
   "id": "17731914-42c1-4447-b63f-81ee47cad0a3",
   "metadata": {
    "execution": {
     "iopub.execute_input": "2021-08-27T21:11:08.141501Z",
     "iopub.status.busy": "2021-08-27T21:11:08.141241Z",
     "iopub.status.idle": "2021-08-27T21:11:08.189551Z",
     "shell.execute_reply": "2021-08-27T21:11:08.188230Z",
     "shell.execute_reply.started": "2021-08-27T21:11:08.141481Z"
    },
    "tags": []
   },
   "outputs": [
    {
     "name": "stdout",
     "output_type": "stream",
     "text": [
      "time: 1.29 ms\n"
     ]
    }
   ],
   "source": [
    "logreg_ss = make_pipeline(preprocessing_ss, LR)"
   ]
  },
  {
   "cell_type": "markdown",
   "id": "3b3bde48-5570-446e-aff6-5f052cc04105",
   "metadata": {},
   "source": [
    "### Fitting Model"
   ]
  },
  {
   "cell_type": "code",
   "execution_count": 36,
   "id": "4cef50d5-cccd-4dad-8a91-4bfaa247b6fc",
   "metadata": {
    "execution": {
     "iopub.execute_input": "2021-08-27T21:11:08.190694Z",
     "iopub.status.busy": "2021-08-27T21:11:08.190526Z",
     "iopub.status.idle": "2021-08-27T21:11:12.203551Z",
     "shell.execute_reply": "2021-08-27T21:11:12.202477Z",
     "shell.execute_reply.started": "2021-08-27T21:11:08.190675Z"
    },
    "tags": []
   },
   "outputs": [
    {
     "data": {
      "text/plain": [
       "Pipeline(steps=[('columntransformer',\n",
       "                 ColumnTransformer(transformers=[('onehotencoder',\n",
       "                                                  OneHotEncoder(handle_unknown='ignore'),\n",
       "                                                  <sklearn.compose._column_transformer.make_column_selector object at 0x1140160d0>),\n",
       "                                                 ('standardscaler',\n",
       "                                                  StandardScaler(),\n",
       "                                                  <sklearn.compose._column_transformer.make_column_selector object at 0x114016130>)])),\n",
       "                ('logisticregression',\n",
       "                 LogisticRegression(max_iter=1000, n_jobs=-1,\n",
       "                                    random_state=2021))])"
      ]
     },
     "execution_count": 36,
     "metadata": {},
     "output_type": "execute_result"
    },
    {
     "name": "stdout",
     "output_type": "stream",
     "text": [
      "time: 3.97 s\n"
     ]
    }
   ],
   "source": [
    "logreg_ss.fit(X_train, y_train)"
   ]
  },
  {
   "cell_type": "markdown",
   "id": "bd30afda-1364-4bfa-a31e-a0bb190c5807",
   "metadata": {},
   "source": [
    "### Cross Val Scores"
   ]
  },
  {
   "cell_type": "code",
   "execution_count": 37,
   "id": "34e03ebf-6147-4145-b70f-6aad085d4ac1",
   "metadata": {
    "execution": {
     "iopub.execute_input": "2021-08-27T21:11:12.205431Z",
     "iopub.status.busy": "2021-08-27T21:11:12.205239Z",
     "iopub.status.idle": "2021-08-27T21:11:19.645429Z",
     "shell.execute_reply": "2021-08-27T21:11:19.644427Z",
     "shell.execute_reply.started": "2021-08-27T21:11:12.205414Z"
    },
    "tags": []
   },
   "outputs": [
    {
     "name": "stdout",
     "output_type": "stream",
     "text": [
      "logreg_ss has an average Accuracy of 0.7317252291038038\n",
      "logreg_ss has an average F1 of 0.5708974826376763\n",
      "logreg_ss has an average Recall of 0.496697605118712\n",
      "logreg_ss has an average Precision of 0.671986979987122\n",
      "time: 7.4 s\n"
     ]
    }
   ],
   "source": [
    "# checking cross val scores\n",
    "modeling.report(logreg_ss, X_train, y_train, 'logreg_ss',\\\n",
    "                'LogReg SS()')"
   ]
  },
  {
   "cell_type": "markdown",
   "id": "d077f374-ea3f-4d89-8696-89c0da28d2a1",
   "metadata": {},
   "source": [
    "### Test Data Confusion Matrix"
   ]
  },
  {
   "cell_type": "code",
   "execution_count": 38,
   "id": "e172adf0-7320-43ce-9b0f-f070da588860",
   "metadata": {
    "execution": {
     "iopub.execute_input": "2021-08-27T21:11:19.646926Z",
     "iopub.status.busy": "2021-08-27T21:11:19.646777Z",
     "iopub.status.idle": "2021-08-27T21:11:19.891953Z",
     "shell.execute_reply": "2021-08-27T21:11:19.891492Z",
     "shell.execute_reply.started": "2021-08-27T21:11:19.646909Z"
    },
    "tags": []
   },
   "outputs": [
    {
     "data": {
      "image/png": "[encoded data removed]",
      "text/plain": [
       "<Figure size 504x504 with 2 Axes>"
      ]
     },
     "metadata": {},
     "output_type": "display_data"
    },
    {
     "data": {
      "text/html": [
       "<div>\n",
       "<style scoped>\n",
       "    .dataframe tbody tr th:only-of-type {\n",
       "        vertical-align: middle;\n",
       "    }\n",
       "\n",
       "    .dataframe tbody tr th {\n",
       "        vertical-align: top;\n",
       "    }\n",
       "\n",
       "    .dataframe thead th {\n",
       "        text-align: right;\n",
       "    }\n",
       "</style>\n",
       "<table border=\"1\" class=\"dataframe\">\n",
       "  <thead>\n",
       "    <tr style=\"text-align: right;\">\n",
       "      <th></th>\n",
       "      <th>Accuracy</th>\n",
       "      <th>F1</th>\n",
       "      <th>Recall</th>\n",
       "      <th>Precision</th>\n",
       "    </tr>\n",
       "  </thead>\n",
       "  <tbody>\n",
       "    <tr>\n",
       "      <th>0</th>\n",
       "      <td>0.7339</td>\n",
       "      <td>0.569019</td>\n",
       "      <td>0.488567</td>\n",
       "      <td>0.68119</td>\n",
       "    </tr>\n",
       "  </tbody>\n",
       "</table>\n",
       "</div>"
      ],
      "text/plain": [
       "   Accuracy        F1    Recall  Precision\n",
       "0    0.7339  0.569019  0.488567    0.68119"
      ]
     },
     "execution_count": 38,
     "metadata": {},
     "output_type": "execute_result"
    },
    {
     "name": "stdout",
     "output_type": "stream",
     "text": [
      "time: 206 ms\n"
     ]
    }
   ],
   "source": [
    "f.confusion_report(logreg_ss, X_test, y_test)"
   ]
  },
  {
   "cell_type": "markdown",
   "id": "b1edf716-64fe-47fb-8a54-8450a63b81ab",
   "metadata": {},
   "source": [
    "## Support Vector Machine"
   ]
  },
  {
   "cell_type": "code",
   "execution_count": 39,
   "id": "5362eecd-2c3c-42d2-ac1a-effc6b90c9d7",
   "metadata": {
    "execution": {
     "iopub.execute_input": "2021-08-27T21:11:19.893176Z",
     "iopub.status.busy": "2021-08-27T21:11:19.893021Z",
     "iopub.status.idle": "2021-08-27T21:11:19.934613Z",
     "shell.execute_reply": "2021-08-27T21:11:19.933801Z",
     "shell.execute_reply.started": "2021-08-27T21:11:19.893159Z"
    },
    "tags": []
   },
   "outputs": [
    {
     "name": "stdout",
     "output_type": "stream",
     "text": [
      "time: 661 µs\n"
     ]
    }
   ],
   "source": [
    "SVC = SVC()"
   ]
  },
  {
   "cell_type": "code",
   "execution_count": 40,
   "id": "2a3f33e6-f0e8-4c26-b327-947194a08cd3",
   "metadata": {
    "execution": {
     "iopub.execute_input": "2021-08-27T21:11:19.944042Z",
     "iopub.status.busy": "2021-08-27T21:11:19.943747Z",
     "iopub.status.idle": "2021-08-27T21:11:19.984358Z",
     "shell.execute_reply": "2021-08-27T21:11:19.983535Z",
     "shell.execute_reply.started": "2021-08-27T21:11:19.943992Z"
    },
    "tags": []
   },
   "outputs": [
    {
     "name": "stdout",
     "output_type": "stream",
     "text": [
      "time: 729 µs\n"
     ]
    }
   ],
   "source": [
    "svc_ss = make_pipeline(preprocessing_ss, SVC)"
   ]
  },
  {
   "cell_type": "markdown",
   "id": "3f906c1d-a304-4a9e-844b-4c46b6834020",
   "metadata": {
    "tags": []
   },
   "source": [
    "### Fitting Model"
   ]
  },
  {
   "cell_type": "code",
   "execution_count": 41,
   "id": "e80d6adc-164b-419c-a0dc-756b7052fa5d",
   "metadata": {
    "execution": {
     "iopub.execute_input": "2021-08-27T21:11:19.985675Z",
     "iopub.status.busy": "2021-08-27T21:11:19.985501Z",
     "iopub.status.idle": "2021-08-27T21:11:24.892767Z",
     "shell.execute_reply": "2021-08-27T21:11:24.891996Z",
     "shell.execute_reply.started": "2021-08-27T21:11:19.985657Z"
    },
    "tags": []
   },
   "outputs": [
    {
     "data": {
      "text/plain": [
       "Pipeline(steps=[('columntransformer',\n",
       "                 ColumnTransformer(transformers=[('onehotencoder',\n",
       "                                                  OneHotEncoder(handle_unknown='ignore'),\n",
       "                                                  <sklearn.compose._column_transformer.make_column_selector object at 0x1140160d0>),\n",
       "                                                 ('standardscaler',\n",
       "                                                  StandardScaler(),\n",
       "                                                  <sklearn.compose._column_transformer.make_column_selector object at 0x114016130>)])),\n",
       "                ('svc', SVC())])"
      ]
     },
     "execution_count": 41,
     "metadata": {},
     "output_type": "execute_result"
    },
    {
     "name": "stdout",
     "output_type": "stream",
     "text": [
      "time: 4.86 s\n"
     ]
    }
   ],
   "source": [
    "svc_ss.fit(X_train, y_train)"
   ]
  },
  {
   "cell_type": "markdown",
   "id": "4431c6d7-0c63-4f9a-9f86-716566184b94",
   "metadata": {},
   "source": [
    "### Cross Val Scores"
   ]
  },
  {
   "cell_type": "code",
   "execution_count": 42,
   "id": "ee24d8ef-a43e-4367-84a2-8b6bcffd47d0",
   "metadata": {
    "execution": {
     "iopub.execute_input": "2021-08-27T21:11:24.893826Z",
     "iopub.status.busy": "2021-08-27T21:11:24.893669Z",
     "iopub.status.idle": "2021-08-27T21:11:43.070698Z",
     "shell.execute_reply": "2021-08-27T21:11:43.069972Z",
     "shell.execute_reply.started": "2021-08-27T21:11:24.893809Z"
    },
    "tags": []
   },
   "outputs": [
    {
     "name": "stdout",
     "output_type": "stream",
     "text": [
      "svc_ss has an average Accuracy of 0.7444256766631896\n",
      "svc_ss has an average F1 of 0.5863313032730525\n",
      "svc_ss has an average Recall of 0.5040654286985855\n",
      "svc_ss has an average Precision of 0.7013273063457831\n",
      "time: 18.1 s\n"
     ]
    }
   ],
   "source": [
    "# checking cross val scores\n",
    "modeling.report(svc_ss, X_train, y_train, 'svc_ss',\\\n",
    "                'Support Vector CLF SS()')"
   ]
  },
  {
   "cell_type": "markdown",
   "id": "814513db-8a13-462c-af06-e25f3fa38d7b",
   "metadata": {},
   "source": [
    "### Test Data Confusion Matrix"
   ]
  },
  {
   "cell_type": "code",
   "execution_count": 43,
   "id": "d47ad60d-a531-4e80-9b95-cf287c7ecbff",
   "metadata": {
    "execution": {
     "iopub.execute_input": "2021-08-27T21:11:43.072314Z",
     "iopub.status.busy": "2021-08-27T21:11:43.072104Z",
     "iopub.status.idle": "2021-08-27T21:11:48.654931Z",
     "shell.execute_reply": "2021-08-27T21:11:48.654377Z",
     "shell.execute_reply.started": "2021-08-27T21:11:43.072293Z"
    },
    "tags": []
   },
   "outputs": [
    {
     "data": {
      "image/png": "[encoded data removed]",
      "text/plain": [
       "<Figure size 504x504 with 2 Axes>"
      ]
     },
     "metadata": {},
     "output_type": "display_data"
    },
    {
     "data": {
      "text/html": [
       "<div>\n",
       "<style scoped>\n",
       "    .dataframe tbody tr th:only-of-type {\n",
       "        vertical-align: middle;\n",
       "    }\n",
       "\n",
       "    .dataframe tbody tr th {\n",
       "        vertical-align: top;\n",
       "    }\n",
       "\n",
       "    .dataframe thead th {\n",
       "        text-align: right;\n",
       "    }\n",
       "</style>\n",
       "<table border=\"1\" class=\"dataframe\">\n",
       "  <thead>\n",
       "    <tr style=\"text-align: right;\">\n",
       "      <th></th>\n",
       "      <th>Accuracy</th>\n",
       "      <th>F1</th>\n",
       "      <th>Recall</th>\n",
       "      <th>Precision</th>\n",
       "    </tr>\n",
       "  </thead>\n",
       "  <tbody>\n",
       "    <tr>\n",
       "      <th>0</th>\n",
       "      <td>0.751439</td>\n",
       "      <td>0.593456</td>\n",
       "      <td>0.504573</td>\n",
       "      <td>0.720348</td>\n",
       "    </tr>\n",
       "  </tbody>\n",
       "</table>\n",
       "</div>"
      ],
      "text/plain": [
       "   Accuracy        F1    Recall  Precision\n",
       "0  0.751439  0.593456  0.504573   0.720348"
      ]
     },
     "execution_count": 43,
     "metadata": {},
     "output_type": "execute_result"
    },
    {
     "name": "stdout",
     "output_type": "stream",
     "text": [
      "time: 5.54 s\n"
     ]
    }
   ],
   "source": [
    "f.confusion_report(svc_ss, X_test, y_test)"
   ]
  },
  {
   "cell_type": "markdown",
   "id": "12c714cf-56d2-401f-ae81-ffd7b6384b99",
   "metadata": {},
   "source": [
    "## Linear Support Vector Machine"
   ]
  },
  {
   "cell_type": "code",
   "execution_count": 44,
   "id": "cd5cbf1e-d318-491a-86b6-2352478079b8",
   "metadata": {
    "execution": {
     "iopub.execute_input": "2021-08-27T21:11:48.656079Z",
     "iopub.status.busy": "2021-08-27T21:11:48.655917Z",
     "iopub.status.idle": "2021-08-27T21:11:48.696623Z",
     "shell.execute_reply": "2021-08-27T21:11:48.696028Z",
     "shell.execute_reply.started": "2021-08-27T21:11:48.656062Z"
    },
    "tags": []
   },
   "outputs": [
    {
     "name": "stdout",
     "output_type": "stream",
     "text": [
      "time: 638 µs\n"
     ]
    }
   ],
   "source": [
    "LSVC = LinearSVC(random_state=2021)"
   ]
  },
  {
   "cell_type": "code",
   "execution_count": 45,
   "id": "a6502322-a7f9-44e6-9679-2e9c3e42d083",
   "metadata": {
    "execution": {
     "iopub.execute_input": "2021-08-27T21:11:48.698060Z",
     "iopub.status.busy": "2021-08-27T21:11:48.697802Z",
     "iopub.status.idle": "2021-08-27T21:11:48.745528Z",
     "shell.execute_reply": "2021-08-27T21:11:48.744735Z",
     "shell.execute_reply.started": "2021-08-27T21:11:48.698040Z"
    },
    "tags": []
   },
   "outputs": [
    {
     "name": "stdout",
     "output_type": "stream",
     "text": [
      "time: 756 µs\n"
     ]
    }
   ],
   "source": [
    "lsvc_ss = make_pipeline(preprocessing_ss, LSVC)"
   ]
  },
  {
   "cell_type": "markdown",
   "id": "8c1ba0ae-e45d-4fdf-9e73-b80f21d533b2",
   "metadata": {},
   "source": [
    "### Fitting Model"
   ]
  },
  {
   "cell_type": "code",
   "execution_count": 46,
   "id": "dcf7aabf-c74d-43ea-a9eb-feb5e93fde1a",
   "metadata": {
    "execution": {
     "iopub.execute_input": "2021-08-27T21:11:48.746821Z",
     "iopub.status.busy": "2021-08-27T21:11:48.746653Z",
     "iopub.status.idle": "2021-08-27T21:11:49.430907Z",
     "shell.execute_reply": "2021-08-27T21:11:49.430026Z",
     "shell.execute_reply.started": "2021-08-27T21:11:48.746793Z"
    },
    "tags": []
   },
   "outputs": [
    {
     "name": "stderr",
     "output_type": "stream",
     "text": [
      "/Users/dsbox/opt/anaconda3/envs/oo/lib/python3.9/site-packages/sklearn/svm/_base.py:985: ConvergenceWarning: Liblinear failed to converge, increase the number of iterations.\n",
      "  warnings.warn(\"Liblinear failed to converge, increase \"\n"
     ]
    },
    {
     "data": {
      "text/plain": [
       "Pipeline(steps=[('columntransformer',\n",
       "                 ColumnTransformer(transformers=[('onehotencoder',\n",
       "                                                  OneHotEncoder(handle_unknown='ignore'),\n",
       "                                                  <sklearn.compose._column_transformer.make_column_selector object at 0x1140160d0>),\n",
       "                                                 ('standardscaler',\n",
       "                                                  StandardScaler(),\n",
       "                                                  <sklearn.compose._column_transformer.make_column_selector object at 0x114016130>)])),\n",
       "                ('linearsvc', LinearSVC(random_state=2021))])"
      ]
     },
     "execution_count": 46,
     "metadata": {},
     "output_type": "execute_result"
    },
    {
     "name": "stdout",
     "output_type": "stream",
     "text": [
      "time: 635 ms\n"
     ]
    }
   ],
   "source": [
    "lsvc_ss.fit(X_train, y_train)"
   ]
  },
  {
   "cell_type": "markdown",
   "id": "d09b06be-9bec-4362-8c85-f67b5338a2e9",
   "metadata": {},
   "source": [
    "### Cross Val Scores"
   ]
  },
  {
   "cell_type": "code",
   "execution_count": 47,
   "id": "b563aeed-055c-49ea-adbe-8e03d066ba3a",
   "metadata": {
    "execution": {
     "iopub.execute_input": "2021-08-27T21:11:49.432091Z",
     "iopub.status.busy": "2021-08-27T21:11:49.431921Z",
     "iopub.status.idle": "2021-08-27T21:11:51.963528Z",
     "shell.execute_reply": "2021-08-27T21:11:51.962871Z",
     "shell.execute_reply.started": "2021-08-27T21:11:49.432072Z"
    },
    "tags": []
   },
   "outputs": [
    {
     "name": "stderr",
     "output_type": "stream",
     "text": [
      "/Users/dsbox/opt/anaconda3/envs/oo/lib/python3.9/site-packages/sklearn/svm/_base.py:985: ConvergenceWarning: Liblinear failed to converge, increase the number of iterations.\n",
      "  warnings.warn(\"Liblinear failed to converge, increase \"\n",
      "/Users/dsbox/opt/anaconda3/envs/oo/lib/python3.9/site-packages/sklearn/svm/_base.py:985: ConvergenceWarning: Liblinear failed to converge, increase the number of iterations.\n",
      "  warnings.warn(\"Liblinear failed to converge, increase \"\n",
      "/Users/dsbox/opt/anaconda3/envs/oo/lib/python3.9/site-packages/sklearn/svm/_base.py:985: ConvergenceWarning: Liblinear failed to converge, increase the number of iterations.\n",
      "  warnings.warn(\"Liblinear failed to converge, increase \"\n",
      "/Users/dsbox/opt/anaconda3/envs/oo/lib/python3.9/site-packages/sklearn/svm/_base.py:985: ConvergenceWarning: Liblinear failed to converge, increase the number of iterations.\n",
      "  warnings.warn(\"Liblinear failed to converge, increase \"\n"
     ]
    },
    {
     "name": "stdout",
     "output_type": "stream",
     "text": [
      "lsvc_ss has an average Accuracy of 0.7303546985383959\n",
      "lsvc_ss has an average F1 of 0.5632846665047779\n",
      "lsvc_ss has an average Recall of 0.48399402730925767\n",
      "lsvc_ss has an average Precision of 0.6745561565674398\n",
      "time: 2.49 s\n"
     ]
    },
    {
     "name": "stderr",
     "output_type": "stream",
     "text": [
      "/Users/dsbox/opt/anaconda3/envs/oo/lib/python3.9/site-packages/sklearn/svm/_base.py:985: ConvergenceWarning: Liblinear failed to converge, increase the number of iterations.\n",
      "  warnings.warn(\"Liblinear failed to converge, increase \"\n"
     ]
    }
   ],
   "source": [
    "# checking cross val scores\n",
    "modeling.report(lsvc_ss, X_train, y_train, 'lsvc_ss',\\\n",
    "                'Linear SVC SS()')"
   ]
  },
  {
   "cell_type": "markdown",
   "id": "0fc1b3e7-5aaa-4981-8c69-febe60f79533",
   "metadata": {},
   "source": [
    "### Test Data Confusion Matrix"
   ]
  },
  {
   "cell_type": "code",
   "execution_count": 48,
   "id": "46484744-acdb-4c7a-a8e2-2cd9b2e145c3",
   "metadata": {
    "execution": {
     "iopub.execute_input": "2021-08-27T21:11:51.964998Z",
     "iopub.status.busy": "2021-08-27T21:11:51.964832Z",
     "iopub.status.idle": "2021-08-27T21:11:52.232364Z",
     "shell.execute_reply": "2021-08-27T21:11:52.231686Z",
     "shell.execute_reply.started": "2021-08-27T21:11:51.964981Z"
    },
    "tags": []
   },
   "outputs": [
    {
     "data": {
      "image/png": "[encoded data removed]",
      "text/plain": [
       "<Figure size 504x504 with 2 Axes>"
      ]
     },
     "metadata": {},
     "output_type": "display_data"
    },
    {
     "data": {
      "text/html": [
       "<div>\n",
       "<style scoped>\n",
       "    .dataframe tbody tr th:only-of-type {\n",
       "        vertical-align: middle;\n",
       "    }\n",
       "\n",
       "    .dataframe tbody tr th {\n",
       "        vertical-align: top;\n",
       "    }\n",
       "\n",
       "    .dataframe thead th {\n",
       "        text-align: right;\n",
       "    }\n",
       "</style>\n",
       "<table border=\"1\" class=\"dataframe\">\n",
       "  <thead>\n",
       "    <tr style=\"text-align: right;\">\n",
       "      <th></th>\n",
       "      <th>Accuracy</th>\n",
       "      <th>F1</th>\n",
       "      <th>Recall</th>\n",
       "      <th>Precision</th>\n",
       "    </tr>\n",
       "  </thead>\n",
       "  <tbody>\n",
       "    <tr>\n",
       "      <th>0</th>\n",
       "      <td>0.732529</td>\n",
       "      <td>0.561151</td>\n",
       "      <td>0.47561</td>\n",
       "      <td>0.684211</td>\n",
       "    </tr>\n",
       "  </tbody>\n",
       "</table>\n",
       "</div>"
      ],
      "text/plain": [
       "   Accuracy        F1   Recall  Precision\n",
       "0  0.732529  0.561151  0.47561   0.684211"
      ]
     },
     "execution_count": 48,
     "metadata": {},
     "output_type": "execute_result"
    },
    {
     "name": "stdout",
     "output_type": "stream",
     "text": [
      "time: 228 ms\n"
     ]
    }
   ],
   "source": [
    "f.confusion_report(lsvc_ss, X_test, y_test)"
   ]
  },
  {
   "cell_type": "markdown",
   "id": "7dad6f05-4c3a-4338-aad0-609ab518742d",
   "metadata": {},
   "source": [
    "## Decision Tree"
   ]
  },
  {
   "cell_type": "code",
   "execution_count": 49,
   "id": "af7842c3-9f92-41b2-9616-f588b7622322",
   "metadata": {
    "execution": {
     "iopub.execute_input": "2021-08-27T21:11:52.233680Z",
     "iopub.status.busy": "2021-08-27T21:11:52.233493Z",
     "iopub.status.idle": "2021-08-27T21:11:52.277782Z",
     "shell.execute_reply": "2021-08-27T21:11:52.276868Z",
     "shell.execute_reply.started": "2021-08-27T21:11:52.233661Z"
    },
    "tags": []
   },
   "outputs": [
    {
     "name": "stdout",
     "output_type": "stream",
     "text": [
      "time: 693 µs\n"
     ]
    }
   ],
   "source": [
    "DT = DecisionTreeClassifier(random_state=2021)"
   ]
  },
  {
   "cell_type": "code",
   "execution_count": 50,
   "id": "d0a5fa56-bf17-4274-bf49-eb0d3d32c5e7",
   "metadata": {
    "execution": {
     "iopub.execute_input": "2021-08-27T21:11:52.279243Z",
     "iopub.status.busy": "2021-08-27T21:11:52.278973Z",
     "iopub.status.idle": "2021-08-27T21:11:52.328726Z",
     "shell.execute_reply": "2021-08-27T21:11:52.327627Z",
     "shell.execute_reply.started": "2021-08-27T21:11:52.279220Z"
    },
    "tags": []
   },
   "outputs": [
    {
     "name": "stdout",
     "output_type": "stream",
     "text": [
      "time: 808 µs\n"
     ]
    }
   ],
   "source": [
    "dt_ss = make_pipeline(preprocessing_ss, DT)"
   ]
  },
  {
   "cell_type": "markdown",
   "id": "7e9d9bd4-475b-4f9c-b6a2-35d64e8bd8ec",
   "metadata": {},
   "source": [
    "### Fitting Model"
   ]
  },
  {
   "cell_type": "code",
   "execution_count": 51,
   "id": "bee5bcf8-9c7f-446a-ab99-d3a56f0eec56",
   "metadata": {
    "execution": {
     "iopub.execute_input": "2021-08-27T21:11:52.330092Z",
     "iopub.status.busy": "2021-08-27T21:11:52.329778Z",
     "iopub.status.idle": "2021-08-27T21:11:52.797812Z",
     "shell.execute_reply": "2021-08-27T21:11:52.797209Z",
     "shell.execute_reply.started": "2021-08-27T21:11:52.330063Z"
    },
    "tags": []
   },
   "outputs": [
    {
     "data": {
      "text/plain": [
       "Pipeline(steps=[('columntransformer',\n",
       "                 ColumnTransformer(transformers=[('onehotencoder',\n",
       "                                                  OneHotEncoder(handle_unknown='ignore'),\n",
       "                                                  <sklearn.compose._column_transformer.make_column_selector object at 0x1140160d0>),\n",
       "                                                 ('standardscaler',\n",
       "                                                  StandardScaler(),\n",
       "                                                  <sklearn.compose._column_transformer.make_column_selector object at 0x114016130>)])),\n",
       "                ('decisiontreeclassifier',\n",
       "                 DecisionTreeClassifier(random_state=2021))])"
      ]
     },
     "execution_count": 51,
     "metadata": {},
     "output_type": "execute_result"
    },
    {
     "name": "stdout",
     "output_type": "stream",
     "text": [
      "time: 416 ms\n"
     ]
    }
   ],
   "source": [
    "dt_ss.fit(X_train, y_train)"
   ]
  },
  {
   "cell_type": "markdown",
   "id": "6da2c508-8235-4a50-8a06-3fb9a3f48f35",
   "metadata": {},
   "source": [
    "### Cross Val Scores"
   ]
  },
  {
   "cell_type": "code",
   "execution_count": 52,
   "id": "358dd82e-db2b-4015-bad4-3363d09a6b31",
   "metadata": {
    "execution": {
     "iopub.execute_input": "2021-08-27T21:11:52.799263Z",
     "iopub.status.busy": "2021-08-27T21:11:52.798998Z",
     "iopub.status.idle": "2021-08-27T21:11:54.437576Z",
     "shell.execute_reply": "2021-08-27T21:11:54.436514Z",
     "shell.execute_reply.started": "2021-08-27T21:11:52.799243Z"
    },
    "tags": []
   },
   "outputs": [
    {
     "name": "stdout",
     "output_type": "stream",
     "text": [
      "dt_ss has an average Accuracy of 0.6856722535730004\n",
      "dt_ss has an average F1 of 0.567441655954861\n",
      "dt_ss has an average Recall of 0.5734270086881365\n",
      "dt_ss has an average Precision of 0.5616731934970407\n",
      "time: 1.6 s\n"
     ]
    }
   ],
   "source": [
    "# checking cross val scores\n",
    "modeling.report(dt_ss, X_train, y_train, 'dt_ss',\\\n",
    "                'Decision Tree CLF SS()')"
   ]
  },
  {
   "cell_type": "markdown",
   "id": "3b543e3a-4cba-4ec0-a59f-bf07a25d1a69",
   "metadata": {},
   "source": [
    "### Test Data Confusion Matrix"
   ]
  },
  {
   "cell_type": "code",
   "execution_count": 53,
   "id": "ce751c22-c9b6-47f0-805e-945947b0c23e",
   "metadata": {
    "execution": {
     "iopub.execute_input": "2021-08-27T21:11:54.439024Z",
     "iopub.status.busy": "2021-08-27T21:11:54.438809Z",
     "iopub.status.idle": "2021-08-27T21:11:54.699346Z",
     "shell.execute_reply": "2021-08-27T21:11:54.698686Z",
     "shell.execute_reply.started": "2021-08-27T21:11:54.438990Z"
    },
    "tags": []
   },
   "outputs": [
    {
     "data": {
      "image/png": "[encoded data removed]",
      "text/plain": [
       "<Figure size 504x504 with 2 Axes>"
      ]
     },
     "metadata": {},
     "output_type": "display_data"
    },
    {
     "data": {
      "text/html": [
       "<div>\n",
       "<style scoped>\n",
       "    .dataframe tbody tr th:only-of-type {\n",
       "        vertical-align: middle;\n",
       "    }\n",
       "\n",
       "    .dataframe tbody tr th {\n",
       "        vertical-align: top;\n",
       "    }\n",
       "\n",
       "    .dataframe thead th {\n",
       "        text-align: right;\n",
       "    }\n",
       "</style>\n",
       "<table border=\"1\" class=\"dataframe\">\n",
       "  <thead>\n",
       "    <tr style=\"text-align: right;\">\n",
       "      <th></th>\n",
       "      <th>Accuracy</th>\n",
       "      <th>F1</th>\n",
       "      <th>Recall</th>\n",
       "      <th>Precision</th>\n",
       "    </tr>\n",
       "  </thead>\n",
       "  <tbody>\n",
       "    <tr>\n",
       "      <th>0</th>\n",
       "      <td>0.681008</td>\n",
       "      <td>0.558087</td>\n",
       "      <td>0.560213</td>\n",
       "      <td>0.555976</td>\n",
       "    </tr>\n",
       "  </tbody>\n",
       "</table>\n",
       "</div>"
      ],
      "text/plain": [
       "   Accuracy        F1    Recall  Precision\n",
       "0  0.681008  0.558087  0.560213   0.555976"
      ]
     },
     "execution_count": 53,
     "metadata": {},
     "output_type": "execute_result"
    },
    {
     "name": "stdout",
     "output_type": "stream",
     "text": [
      "time: 217 ms\n"
     ]
    }
   ],
   "source": [
    "f.confusion_report(dt_ss, X_test, y_test)"
   ]
  },
  {
   "cell_type": "markdown",
   "id": "73c658ee-c43d-4b93-a0c3-4b0bc3db9dae",
   "metadata": {},
   "source": [
    "## Bagging Classifier"
   ]
  },
  {
   "cell_type": "code",
   "execution_count": 54,
   "id": "fffa9f35-b6cd-431d-ba60-b58065f89bf1",
   "metadata": {
    "execution": {
     "iopub.execute_input": "2021-08-27T21:11:54.700663Z",
     "iopub.status.busy": "2021-08-27T21:11:54.700463Z",
     "iopub.status.idle": "2021-08-27T21:11:54.741087Z",
     "shell.execute_reply": "2021-08-27T21:11:54.740333Z",
     "shell.execute_reply.started": "2021-08-27T21:11:54.700643Z"
    },
    "tags": []
   },
   "outputs": [
    {
     "name": "stdout",
     "output_type": "stream",
     "text": [
      "time: 709 µs\n"
     ]
    }
   ],
   "source": [
    "BCLF = BaggingClassifier(base_estimator=DT, random_state=2021)"
   ]
  },
  {
   "cell_type": "code",
   "execution_count": 55,
   "id": "7f7737cb-a832-4f41-9033-c6517fdddc7a",
   "metadata": {
    "execution": {
     "iopub.execute_input": "2021-08-27T21:11:54.742493Z",
     "iopub.status.busy": "2021-08-27T21:11:54.742234Z",
     "iopub.status.idle": "2021-08-27T21:11:54.788687Z",
     "shell.execute_reply": "2021-08-27T21:11:54.788013Z",
     "shell.execute_reply.started": "2021-08-27T21:11:54.742472Z"
    },
    "tags": []
   },
   "outputs": [
    {
     "name": "stdout",
     "output_type": "stream",
     "text": [
      "time: 710 µs\n"
     ]
    }
   ],
   "source": [
    "bclf_ss = make_pipeline(preprocessing_ss, BCLF)"
   ]
  },
  {
   "cell_type": "markdown",
   "id": "dbfd69a3-fca7-4fc2-9073-872ddafaf0cf",
   "metadata": {},
   "source": [
    "### Fitting Model"
   ]
  },
  {
   "cell_type": "code",
   "execution_count": 56,
   "id": "bd8fe1c1-423c-4862-8b31-de6845c1194e",
   "metadata": {
    "execution": {
     "iopub.execute_input": "2021-08-27T21:11:54.790041Z",
     "iopub.status.busy": "2021-08-27T21:11:54.789799Z",
     "iopub.status.idle": "2021-08-27T21:11:57.513580Z",
     "shell.execute_reply": "2021-08-27T21:11:57.512734Z",
     "shell.execute_reply.started": "2021-08-27T21:11:54.790017Z"
    },
    "tags": []
   },
   "outputs": [
    {
     "data": {
      "text/plain": [
       "Pipeline(steps=[('columntransformer',\n",
       "                 ColumnTransformer(transformers=[('onehotencoder',\n",
       "                                                  OneHotEncoder(handle_unknown='ignore'),\n",
       "                                                  <sklearn.compose._column_transformer.make_column_selector object at 0x1140160d0>),\n",
       "                                                 ('standardscaler',\n",
       "                                                  StandardScaler(),\n",
       "                                                  <sklearn.compose._column_transformer.make_column_selector object at 0x114016130>)])),\n",
       "                ('baggingclassifier',\n",
       "                 BaggingClassifier(base_estimator=DecisionTreeClassifier(random_state=2021),\n",
       "                                   random_state=2021))])"
      ]
     },
     "execution_count": 56,
     "metadata": {},
     "output_type": "execute_result"
    },
    {
     "name": "stdout",
     "output_type": "stream",
     "text": [
      "time: 2.67 s\n"
     ]
    }
   ],
   "source": [
    "bclf_ss.fit(X_train, y_train)"
   ]
  },
  {
   "cell_type": "markdown",
   "id": "c77bf5dd-54cd-41b7-b2ba-58165f46f3fb",
   "metadata": {},
   "source": [
    "### Cross Val Scores"
   ]
  },
  {
   "cell_type": "code",
   "execution_count": 57,
   "id": "3fa55e8b-de3f-445e-95c3-1b5e7c34b213",
   "metadata": {
    "execution": {
     "iopub.execute_input": "2021-08-27T21:11:57.514933Z",
     "iopub.status.busy": "2021-08-27T21:11:57.514752Z",
     "iopub.status.idle": "2021-08-27T21:12:07.130689Z",
     "shell.execute_reply": "2021-08-27T21:12:07.130234Z",
     "shell.execute_reply.started": "2021-08-27T21:11:57.514902Z"
    },
    "tags": []
   },
   "outputs": [
    {
     "name": "stdout",
     "output_type": "stream",
     "text": [
      "bclf_ss has an average Accuracy of 0.7477155596830756\n",
      "bclf_ss has an average F1 of 0.6033710907163397\n",
      "bclf_ss has an average Recall of 0.5337856926321765\n",
      "bclf_ss has an average Precision of 0.6943330804123302\n",
      "time: 9.58 s\n"
     ]
    }
   ],
   "source": [
    "# checking cross val scores\n",
    "modeling.report(bclf_ss, X_train, y_train, 'bclf_ss',\\\n",
    "                'Bagging CLF SS()')"
   ]
  },
  {
   "cell_type": "markdown",
   "id": "7bd398e6-5cbb-45e0-95a5-3eb3aa82efc0",
   "metadata": {},
   "source": [
    "### Test Data Confusion Matrix"
   ]
  },
  {
   "cell_type": "code",
   "execution_count": 58,
   "id": "b1434725-96c5-4590-80dc-728924452ac3",
   "metadata": {
    "execution": {
     "iopub.execute_input": "2021-08-27T21:12:07.131762Z",
     "iopub.status.busy": "2021-08-27T21:12:07.131589Z",
     "iopub.status.idle": "2021-08-27T21:12:07.463876Z",
     "shell.execute_reply": "2021-08-27T21:12:07.463168Z",
     "shell.execute_reply.started": "2021-08-27T21:12:07.131742Z"
    },
    "tags": []
   },
   "outputs": [
    {
     "data": {
      "image/png": "[encoded data removed]",
      "text/plain": [
       "<Figure size 504x504 with 2 Axes>"
      ]
     },
     "metadata": {},
     "output_type": "display_data"
    },
    {
     "data": {
      "text/html": [
       "<div>\n",
       "<style scoped>\n",
       "    .dataframe tbody tr th:only-of-type {\n",
       "        vertical-align: middle;\n",
       "    }\n",
       "\n",
       "    .dataframe tbody tr th {\n",
       "        vertical-align: top;\n",
       "    }\n",
       "\n",
       "    .dataframe thead th {\n",
       "        text-align: right;\n",
       "    }\n",
       "</style>\n",
       "<table border=\"1\" class=\"dataframe\">\n",
       "  <thead>\n",
       "    <tr style=\"text-align: right;\">\n",
       "      <th></th>\n",
       "      <th>Accuracy</th>\n",
       "      <th>F1</th>\n",
       "      <th>Recall</th>\n",
       "      <th>Precision</th>\n",
       "    </tr>\n",
       "  </thead>\n",
       "  <tbody>\n",
       "    <tr>\n",
       "      <th>0</th>\n",
       "      <td>0.745684</td>\n",
       "      <td>0.588652</td>\n",
       "      <td>0.506098</td>\n",
       "      <td>0.70339</td>\n",
       "    </tr>\n",
       "  </tbody>\n",
       "</table>\n",
       "</div>"
      ],
      "text/plain": [
       "   Accuracy        F1    Recall  Precision\n",
       "0  0.745684  0.588652  0.506098    0.70339"
      ]
     },
     "execution_count": 58,
     "metadata": {},
     "output_type": "execute_result"
    },
    {
     "name": "stdout",
     "output_type": "stream",
     "text": [
      "time: 291 ms\n"
     ]
    }
   ],
   "source": [
    "f.confusion_report(bclf_ss, X_test, y_test)"
   ]
  },
  {
   "cell_type": "markdown",
   "id": "cb178a2a-dbcc-4163-a42f-3adab416e18f",
   "metadata": {},
   "source": [
    "## Random Forest Classifier"
   ]
  },
  {
   "cell_type": "code",
   "execution_count": 59,
   "id": "1253e5cf-6a68-4e70-a96e-540f47ddf7b0",
   "metadata": {
    "execution": {
     "iopub.execute_input": "2021-08-27T21:12:07.464998Z",
     "iopub.status.busy": "2021-08-27T21:12:07.464842Z",
     "iopub.status.idle": "2021-08-27T21:12:07.509149Z",
     "shell.execute_reply": "2021-08-27T21:12:07.508066Z",
     "shell.execute_reply.started": "2021-08-27T21:12:07.464981Z"
    },
    "tags": []
   },
   "outputs": [
    {
     "name": "stdout",
     "output_type": "stream",
     "text": [
      "time: 765 µs\n"
     ]
    }
   ],
   "source": [
    "RF = RandomForestClassifier(n_jobs=-1, random_state=2021)"
   ]
  },
  {
   "cell_type": "code",
   "execution_count": 60,
   "id": "f8ffaeaf-fcd3-4380-99c7-648e1fc33353",
   "metadata": {
    "execution": {
     "iopub.execute_input": "2021-08-27T21:12:07.510695Z",
     "iopub.status.busy": "2021-08-27T21:12:07.510335Z",
     "iopub.status.idle": "2021-08-27T21:12:07.554281Z",
     "shell.execute_reply": "2021-08-27T21:12:07.553573Z",
     "shell.execute_reply.started": "2021-08-27T21:12:07.510660Z"
    },
    "tags": []
   },
   "outputs": [
    {
     "name": "stdout",
     "output_type": "stream",
     "text": [
      "time: 742 µs\n"
     ]
    }
   ],
   "source": [
    "rf_ss = make_pipeline(preprocessing_ss, RF)"
   ]
  },
  {
   "cell_type": "markdown",
   "id": "2299a55a-4d7e-4cc2-bae4-c0a668fae8e3",
   "metadata": {},
   "source": [
    "### Fitting Model"
   ]
  },
  {
   "cell_type": "code",
   "execution_count": 61,
   "id": "2373b051-c06b-4392-a28c-b7fa6a359032",
   "metadata": {
    "execution": {
     "iopub.execute_input": "2021-08-27T21:12:07.555569Z",
     "iopub.status.busy": "2021-08-27T21:12:07.555344Z",
     "iopub.status.idle": "2021-08-27T21:12:09.516862Z",
     "shell.execute_reply": "2021-08-27T21:12:09.516031Z",
     "shell.execute_reply.started": "2021-08-27T21:12:07.555550Z"
    },
    "tags": []
   },
   "outputs": [
    {
     "data": {
      "text/plain": [
       "Pipeline(steps=[('columntransformer',\n",
       "                 ColumnTransformer(transformers=[('onehotencoder',\n",
       "                                                  OneHotEncoder(handle_unknown='ignore'),\n",
       "                                                  <sklearn.compose._column_transformer.make_column_selector object at 0x1140160d0>),\n",
       "                                                 ('standardscaler',\n",
       "                                                  StandardScaler(),\n",
       "                                                  <sklearn.compose._column_transformer.make_column_selector object at 0x114016130>)])),\n",
       "                ('randomforestclassifier',\n",
       "                 RandomForestClassifier(n_jobs=-1, random_state=2021))])"
      ]
     },
     "execution_count": 61,
     "metadata": {},
     "output_type": "execute_result"
    },
    {
     "name": "stdout",
     "output_type": "stream",
     "text": [
      "time: 1.91 s\n"
     ]
    }
   ],
   "source": [
    "rf_ss.fit(X_train, y_train)"
   ]
  },
  {
   "cell_type": "markdown",
   "id": "b60945c6-1bf9-4898-9ed1-8b8761d21b08",
   "metadata": {},
   "source": [
    "### Cross Val Scores"
   ]
  },
  {
   "cell_type": "code",
   "execution_count": 62,
   "id": "5b96a059-3781-4613-b76e-25b37715e387",
   "metadata": {
    "execution": {
     "iopub.execute_input": "2021-08-27T21:12:09.518409Z",
     "iopub.status.busy": "2021-08-27T21:12:09.518207Z",
     "iopub.status.idle": "2021-08-27T21:12:19.139619Z",
     "shell.execute_reply": "2021-08-27T21:12:19.139027Z",
     "shell.execute_reply.started": "2021-08-27T21:12:09.518388Z"
    },
    "tags": []
   },
   "outputs": [
    {
     "name": "stdout",
     "output_type": "stream",
     "text": [
      "rf_ss has an average Accuracy of 0.7580408691287583\n",
      "rf_ss has an average F1 of 0.6262316744160861\n",
      "rf_ss has an average Recall of 0.5637726636523713\n",
      "rf_ss has an average Precision of 0.7046611733083759\n",
      "time: 9.57 s\n"
     ]
    }
   ],
   "source": [
    "# checking cross val scores\n",
    "modeling.report(rf_ss, X_train, y_train, 'rf_ss',\\\n",
    "                'Random Forest SS()')"
   ]
  },
  {
   "cell_type": "markdown",
   "id": "b5875bfe-b8c7-42db-bd4c-84d99d06be63",
   "metadata": {},
   "source": [
    "### Test Data Confusion Matrix"
   ]
  },
  {
   "cell_type": "code",
   "execution_count": 63,
   "id": "aa0166ba-7262-4a07-9780-fd5d374eab1b",
   "metadata": {
    "execution": {
     "iopub.execute_input": "2021-08-27T21:12:19.141083Z",
     "iopub.status.busy": "2021-08-27T21:12:19.140898Z",
     "iopub.status.idle": "2021-08-27T21:12:19.652417Z",
     "shell.execute_reply": "2021-08-27T21:12:19.651689Z",
     "shell.execute_reply.started": "2021-08-27T21:12:19.141063Z"
    },
    "tags": []
   },
   "outputs": [
    {
     "data": {
      "image/png": "[encoded data removed]",
      "text/plain": [
       "<Figure size 504x504 with 2 Axes>"
      ]
     },
     "metadata": {},
     "output_type": "display_data"
    },
    {
     "data": {
      "text/html": [
       "<div>\n",
       "<style scoped>\n",
       "    .dataframe tbody tr th:only-of-type {\n",
       "        vertical-align: middle;\n",
       "    }\n",
       "\n",
       "    .dataframe tbody tr th {\n",
       "        vertical-align: top;\n",
       "    }\n",
       "\n",
       "    .dataframe thead th {\n",
       "        text-align: right;\n",
       "    }\n",
       "</style>\n",
       "<table border=\"1\" class=\"dataframe\">\n",
       "  <thead>\n",
       "    <tr style=\"text-align: right;\">\n",
       "      <th></th>\n",
       "      <th>Accuracy</th>\n",
       "      <th>F1</th>\n",
       "      <th>Recall</th>\n",
       "      <th>Precision</th>\n",
       "    </tr>\n",
       "  </thead>\n",
       "  <tbody>\n",
       "    <tr>\n",
       "      <th>0</th>\n",
       "      <td>0.757468</td>\n",
       "      <td>0.620985</td>\n",
       "      <td>0.552591</td>\n",
       "      <td>0.7087</td>\n",
       "    </tr>\n",
       "  </tbody>\n",
       "</table>\n",
       "</div>"
      ],
      "text/plain": [
       "   Accuracy        F1    Recall  Precision\n",
       "0  0.757468  0.620985  0.552591     0.7087"
      ]
     },
     "execution_count": 63,
     "metadata": {},
     "output_type": "execute_result"
    },
    {
     "name": "stdout",
     "output_type": "stream",
     "text": [
      "time: 464 ms\n"
     ]
    }
   ],
   "source": [
    "f.confusion_report(rf_ss, X_test, y_test)"
   ]
  },
  {
   "cell_type": "markdown",
   "id": "5d282fa4-3310-4a6a-b28c-44eabf246171",
   "metadata": {},
   "source": [
    "## AdaBoost"
   ]
  },
  {
   "cell_type": "code",
   "execution_count": 64,
   "id": "34c06ada-2a06-4ea3-a1ed-28e27e884f79",
   "metadata": {
    "execution": {
     "iopub.execute_input": "2021-08-27T21:12:19.653427Z",
     "iopub.status.busy": "2021-08-27T21:12:19.653266Z",
     "iopub.status.idle": "2021-08-27T21:12:19.697824Z",
     "shell.execute_reply": "2021-08-27T21:12:19.696975Z",
     "shell.execute_reply.started": "2021-08-27T21:12:19.653409Z"
    },
    "tags": []
   },
   "outputs": [
    {
     "name": "stdout",
     "output_type": "stream",
     "text": [
      "time: 723 µs\n"
     ]
    }
   ],
   "source": [
    "ADA = AdaBoostClassifier(base_estimator=DT, random_state=2021)"
   ]
  },
  {
   "cell_type": "code",
   "execution_count": 65,
   "id": "078fc428-709f-426a-8c02-9c8c65d3664a",
   "metadata": {
    "execution": {
     "iopub.execute_input": "2021-08-27T21:12:19.699496Z",
     "iopub.status.busy": "2021-08-27T21:12:19.699227Z",
     "iopub.status.idle": "2021-08-27T21:12:19.745559Z",
     "shell.execute_reply": "2021-08-27T21:12:19.744811Z",
     "shell.execute_reply.started": "2021-08-27T21:12:19.699469Z"
    },
    "tags": []
   },
   "outputs": [
    {
     "name": "stdout",
     "output_type": "stream",
     "text": [
      "time: 783 µs\n"
     ]
    }
   ],
   "source": [
    "ada_ss = make_pipeline(preprocessing_ss, ADA)"
   ]
  },
  {
   "cell_type": "markdown",
   "id": "ae1cd672-8781-4605-8597-b3a0514d3d14",
   "metadata": {},
   "source": [
    "### Fitting Model"
   ]
  },
  {
   "cell_type": "code",
   "execution_count": 66,
   "id": "49278e62-4bae-4e42-8126-62040eba9ba6",
   "metadata": {
    "execution": {
     "iopub.execute_input": "2021-08-27T21:12:19.747075Z",
     "iopub.status.busy": "2021-08-27T21:12:19.746786Z",
     "iopub.status.idle": "2021-08-27T21:12:20.321086Z",
     "shell.execute_reply": "2021-08-27T21:12:20.320571Z",
     "shell.execute_reply.started": "2021-08-27T21:12:19.747048Z"
    },
    "tags": []
   },
   "outputs": [
    {
     "data": {
      "text/plain": [
       "Pipeline(steps=[('columntransformer',\n",
       "                 ColumnTransformer(transformers=[('onehotencoder',\n",
       "                                                  OneHotEncoder(handle_unknown='ignore'),\n",
       "                                                  <sklearn.compose._column_transformer.make_column_selector object at 0x1140160d0>),\n",
       "                                                 ('standardscaler',\n",
       "                                                  StandardScaler(),\n",
       "                                                  <sklearn.compose._column_transformer.make_column_selector object at 0x114016130>)])),\n",
       "                ('adaboostclassifier',\n",
       "                 AdaBoostClassifier(base_estimator=DecisionTreeClassifier(random_state=2021),\n",
       "                                    random_state=2021))])"
      ]
     },
     "execution_count": 66,
     "metadata": {},
     "output_type": "execute_result"
    },
    {
     "name": "stdout",
     "output_type": "stream",
     "text": [
      "time: 511 ms\n"
     ]
    }
   ],
   "source": [
    "ada_ss.fit(X_train, y_train)"
   ]
  },
  {
   "cell_type": "markdown",
   "id": "9f636f55-6059-4d8c-b63c-36b8534bd047",
   "metadata": {},
   "source": [
    "### Cross Val Scores"
   ]
  },
  {
   "cell_type": "code",
   "execution_count": 67,
   "id": "38cc4dc4-0e92-4c8e-8b23-4d845e0d61e7",
   "metadata": {
    "execution": {
     "iopub.execute_input": "2021-08-27T21:12:20.322324Z",
     "iopub.status.busy": "2021-08-27T21:12:20.322171Z",
     "iopub.status.idle": "2021-08-27T21:12:22.055862Z",
     "shell.execute_reply": "2021-08-27T21:12:22.055361Z",
     "shell.execute_reply.started": "2021-08-27T21:12:20.322305Z"
    },
    "tags": []
   },
   "outputs": [
    {
     "name": "stdout",
     "output_type": "stream",
     "text": [
      "ada_ss has an average Accuracy of 0.6881395927618815\n",
      "ada_ss has an average F1 of 0.5712699490285533\n",
      "ada_ss has an average Recall of 0.5777446319958204\n",
      "ada_ss has an average Precision of 0.5650618995678235\n",
      "time: 1.69 s\n"
     ]
    }
   ],
   "source": [
    "# checking cross val scores\n",
    "modeling.report(ada_ss, X_train, y_train, 'ada_ss',\\\n",
    "                'AdaBoost SS()')"
   ]
  },
  {
   "cell_type": "markdown",
   "id": "735e157c-4ce1-47f1-872d-008fd88ba6bf",
   "metadata": {},
   "source": [
    "### Test Data Confusion Matrix"
   ]
  },
  {
   "cell_type": "code",
   "execution_count": 68,
   "id": "0a97aa80-4582-4c38-b6f9-15245f758615",
   "metadata": {
    "execution": {
     "iopub.execute_input": "2021-08-27T21:12:22.057316Z",
     "iopub.status.busy": "2021-08-27T21:12:22.057145Z",
     "iopub.status.idle": "2021-08-27T21:12:22.327366Z",
     "shell.execute_reply": "2021-08-27T21:12:22.326745Z",
     "shell.execute_reply.started": "2021-08-27T21:12:22.057298Z"
    },
    "tags": []
   },
   "outputs": [
    {
     "data": {
      "image/png": "[encoded data removed]",
      "text/plain": [
       "<Figure size 504x504 with 2 Axes>"
      ]
     },
     "metadata": {},
     "output_type": "display_data"
    },
    {
     "data": {
      "text/html": [
       "<div>\n",
       "<style scoped>\n",
       "    .dataframe tbody tr th:only-of-type {\n",
       "        vertical-align: middle;\n",
       "    }\n",
       "\n",
       "    .dataframe tbody tr th {\n",
       "        vertical-align: top;\n",
       "    }\n",
       "\n",
       "    .dataframe thead th {\n",
       "        text-align: right;\n",
       "    }\n",
       "</style>\n",
       "<table border=\"1\" class=\"dataframe\">\n",
       "  <thead>\n",
       "    <tr style=\"text-align: right;\">\n",
       "      <th></th>\n",
       "      <th>Accuracy</th>\n",
       "      <th>F1</th>\n",
       "      <th>Recall</th>\n",
       "      <th>Precision</th>\n",
       "    </tr>\n",
       "  </thead>\n",
       "  <tbody>\n",
       "    <tr>\n",
       "      <th>0</th>\n",
       "      <td>0.684571</td>\n",
       "      <td>0.562856</td>\n",
       "      <td>0.564787</td>\n",
       "      <td>0.560939</td>\n",
       "    </tr>\n",
       "  </tbody>\n",
       "</table>\n",
       "</div>"
      ],
      "text/plain": [
       "   Accuracy        F1    Recall  Precision\n",
       "0  0.684571  0.562856  0.564787   0.560939"
      ]
     },
     "execution_count": 68,
     "metadata": {},
     "output_type": "execute_result"
    },
    {
     "name": "stdout",
     "output_type": "stream",
     "text": [
      "time: 229 ms\n"
     ]
    }
   ],
   "source": [
    "f.confusion_report(ada_ss, X_test, y_test)"
   ]
  },
  {
   "cell_type": "markdown",
   "id": "b7d68be8-2301-4eab-88ac-e970e26514e5",
   "metadata": {},
   "source": [
    "## XGBoost"
   ]
  },
  {
   "cell_type": "code",
   "execution_count": 69,
   "id": "5067fb03-ee40-481a-9a76-9fbe95d41991",
   "metadata": {
    "execution": {
     "iopub.execute_input": "2021-08-27T21:12:22.328396Z",
     "iopub.status.busy": "2021-08-27T21:12:22.328247Z",
     "iopub.status.idle": "2021-08-27T21:12:22.373719Z",
     "shell.execute_reply": "2021-08-27T21:12:22.372165Z",
     "shell.execute_reply.started": "2021-08-27T21:12:22.328379Z"
    },
    "tags": []
   },
   "outputs": [
    {
     "name": "stdout",
     "output_type": "stream",
     "text": [
      "time: 856 µs\n"
     ]
    }
   ],
   "source": [
    "XGB = XGBClassifier(use_label_encoder=False, verbosity=0)"
   ]
  },
  {
   "cell_type": "code",
   "execution_count": 70,
   "id": "40b4ad1a-80b3-4b9c-9038-05e3e8da1a55",
   "metadata": {
    "execution": {
     "iopub.execute_input": "2021-08-27T21:12:22.375541Z",
     "iopub.status.busy": "2021-08-27T21:12:22.375134Z",
     "iopub.status.idle": "2021-08-27T21:12:22.433013Z",
     "shell.execute_reply": "2021-08-27T21:12:22.432087Z",
     "shell.execute_reply.started": "2021-08-27T21:12:22.375504Z"
    },
    "tags": []
   },
   "outputs": [
    {
     "name": "stdout",
     "output_type": "stream",
     "text": [
      "time: 854 µs\n"
     ]
    }
   ],
   "source": [
    "xgb_ss = make_pipeline(preprocessing_ss, XGB)"
   ]
  },
  {
   "cell_type": "markdown",
   "id": "740c4dd9-ec3a-4173-a963-82da1fcbd889",
   "metadata": {},
   "source": [
    "### Fitting Model"
   ]
  },
  {
   "cell_type": "code",
   "execution_count": 71,
   "id": "b7db555e-4d00-4a6b-8784-7f86682477f5",
   "metadata": {
    "execution": {
     "iopub.execute_input": "2021-08-27T21:12:22.435577Z",
     "iopub.status.busy": "2021-08-27T21:12:22.435142Z",
     "iopub.status.idle": "2021-08-27T21:12:23.285930Z",
     "shell.execute_reply": "2021-08-27T21:12:23.285025Z",
     "shell.execute_reply.started": "2021-08-27T21:12:22.435544Z"
    },
    "tags": []
   },
   "outputs": [
    {
     "data": {
      "text/plain": [
       "Pipeline(steps=[('columntransformer',\n",
       "                 ColumnTransformer(transformers=[('onehotencoder',\n",
       "                                                  OneHotEncoder(handle_unknown='ignore'),\n",
       "                                                  <sklearn.compose._column_transformer.make_column_selector object at 0x1140160d0>),\n",
       "                                                 ('standardscaler',\n",
       "                                                  StandardScaler(),\n",
       "                                                  <sklearn.compose._column_transformer.make_column_selector object at 0x114016130>)])),\n",
       "                ('xgbclassifier',\n",
       "                 XGBClassifie...\n",
       "                               importance_type='gain',\n",
       "                               interaction_constraints='',\n",
       "                               learning_rate=0.300000012, max_delta_step=0,\n",
       "                               max_depth=6, min_child_weight=1, missing=nan,\n",
       "                               monotone_constraints='()', n_estimators=100,\n",
       "                               n_jobs=8, num_parallel_tree=1, random_state=0,\n",
       "                               reg_alpha=0, reg_lambda=1, scale_pos_weight=1,\n",
       "                               subsample=1, tree_method='exact',\n",
       "                               use_label_encoder=False, validate_parameters=1,\n",
       "                               verbosity=0))])"
      ]
     },
     "execution_count": 71,
     "metadata": {},
     "output_type": "execute_result"
    },
    {
     "name": "stdout",
     "output_type": "stream",
     "text": [
      "time: 747 ms\n"
     ]
    }
   ],
   "source": [
    "%%capture --no-display\n",
    "xgb_ss.fit(X_train, y_train)"
   ]
  },
  {
   "cell_type": "markdown",
   "id": "83254491-49f0-4dbd-b92f-7d053eaef776",
   "metadata": {},
   "source": [
    "### Cross Val Scores"
   ]
  },
  {
   "cell_type": "code",
   "execution_count": 72,
   "id": "4b207e6b-7d17-45fc-a48f-7eab74ebe412",
   "metadata": {
    "execution": {
     "iopub.execute_input": "2021-08-27T21:12:23.287732Z",
     "iopub.status.busy": "2021-08-27T21:12:23.287512Z",
     "iopub.status.idle": "2021-08-27T21:12:26.784128Z",
     "shell.execute_reply": "2021-08-27T21:12:26.783107Z",
     "shell.execute_reply.started": "2021-08-27T21:12:23.287705Z"
    },
    "tags": []
   },
   "outputs": [
    {
     "name": "stdout",
     "output_type": "stream",
     "text": [
      "time: 3.35 s\n"
     ]
    }
   ],
   "source": [
    "%%capture --no-display\n",
    "# checking cross val scores\n",
    "modeling.report(xgb_ss, X_train, y_train, 'xgb_ss',\\\n",
    "                'XGBoost SS()')"
   ]
  },
  {
   "cell_type": "markdown",
   "id": "ec87bcfc-b40f-4ef0-a57f-2a5e81f9862c",
   "metadata": {},
   "source": [
    "### Test Data Confusion Matrix"
   ]
  },
  {
   "cell_type": "code",
   "execution_count": 73,
   "id": "035b82f7-3d65-4dd0-ac1b-4c6664501c68",
   "metadata": {
    "execution": {
     "iopub.execute_input": "2021-08-27T21:12:26.786313Z",
     "iopub.status.busy": "2021-08-27T21:12:26.785844Z",
     "iopub.status.idle": "2021-08-27T21:12:27.353689Z",
     "shell.execute_reply": "2021-08-27T21:12:27.352909Z",
     "shell.execute_reply.started": "2021-08-27T21:12:26.786256Z"
    },
    "tags": []
   },
   "outputs": [
    {
     "data": {
      "image/png": "[encoded data removed]",
      "text/plain": [
       "<Figure size 504x504 with 2 Axes>"
      ]
     },
     "metadata": {},
     "output_type": "display_data"
    },
    {
     "data": {
      "text/html": [
       "<div>\n",
       "<style scoped>\n",
       "    .dataframe tbody tr th:only-of-type {\n",
       "        vertical-align: middle;\n",
       "    }\n",
       "\n",
       "    .dataframe tbody tr th {\n",
       "        vertical-align: top;\n",
       "    }\n",
       "\n",
       "    .dataframe thead th {\n",
       "        text-align: right;\n",
       "    }\n",
       "</style>\n",
       "<table border=\"1\" class=\"dataframe\">\n",
       "  <thead>\n",
       "    <tr style=\"text-align: right;\">\n",
       "      <th></th>\n",
       "      <th>Accuracy</th>\n",
       "      <th>F1</th>\n",
       "      <th>Recall</th>\n",
       "      <th>Precision</th>\n",
       "    </tr>\n",
       "  </thead>\n",
       "  <tbody>\n",
       "    <tr>\n",
       "      <th>0</th>\n",
       "      <td>0.756098</td>\n",
       "      <td>0.629167</td>\n",
       "      <td>0.575457</td>\n",
       "      <td>0.693934</td>\n",
       "    </tr>\n",
       "  </tbody>\n",
       "</table>\n",
       "</div>"
      ],
      "text/plain": [
       "   Accuracy        F1    Recall  Precision\n",
       "0  0.756098  0.629167  0.575457   0.693934"
      ]
     },
     "execution_count": 73,
     "metadata": {},
     "output_type": "execute_result"
    },
    {
     "name": "stdout",
     "output_type": "stream",
     "text": [
      "time: 378 ms\n"
     ]
    }
   ],
   "source": [
    "%%capture --no-display\n",
    "f.confusion_report(xgb_ss, X_test, y_test)"
   ]
  },
  {
   "cell_type": "markdown",
   "id": "f9d079cc-9c7d-44d7-acca-07c7056328f2",
   "metadata": {
    "tags": []
   },
   "source": [
    "## Model Summary"
   ]
  },
  {
   "cell_type": "code",
   "execution_count": 74,
   "id": "fde20211-428c-40ca-9047-b5b3d9306910",
   "metadata": {
    "execution": {
     "iopub.execute_input": "2021-08-27T21:12:27.354927Z",
     "iopub.status.busy": "2021-08-27T21:12:27.354736Z",
     "iopub.status.idle": "2021-08-27T21:12:27.416606Z",
     "shell.execute_reply": "2021-08-27T21:12:27.415429Z",
     "shell.execute_reply.started": "2021-08-27T21:12:27.354904Z"
    },
    "tags": []
   },
   "outputs": [
    {
     "data": {
      "text/html": [
       "<div>\n",
       "<style scoped>\n",
       "    .dataframe tbody tr th:only-of-type {\n",
       "        vertical-align: middle;\n",
       "    }\n",
       "\n",
       "    .dataframe tbody tr th {\n",
       "        vertical-align: top;\n",
       "    }\n",
       "\n",
       "    .dataframe thead th {\n",
       "        text-align: right;\n",
       "    }\n",
       "</style>\n",
       "<table border=\"1\" class=\"dataframe\">\n",
       "  <thead>\n",
       "    <tr style=\"text-align: right;\">\n",
       "      <th></th>\n",
       "      <th>Name</th>\n",
       "      <th>Accuracy</th>\n",
       "      <th>F1</th>\n",
       "      <th>Recall</th>\n",
       "      <th>Precision</th>\n",
       "      <th>CV_Time(sec)</th>\n",
       "      <th>Notes</th>\n",
       "    </tr>\n",
       "  </thead>\n",
       "  <tbody>\n",
       "    <tr>\n",
       "      <th>0</th>\n",
       "      <td>fsm</td>\n",
       "      <td>0.644737</td>\n",
       "      <td>0.277592</td>\n",
       "      <td>0.189786</td>\n",
       "      <td>0.517557</td>\n",
       "      <td>0.192745</td>\n",
       "      <td>FSM Naive Bayes</td>\n",
       "    </tr>\n",
       "    <tr>\n",
       "      <th>1</th>\n",
       "      <td>Baseline</td>\n",
       "      <td>0.359649</td>\n",
       "      <td>0.529032</td>\n",
       "      <td>1.000000</td>\n",
       "      <td>0.359649</td>\n",
       "      <td>0.188493</td>\n",
       "      <td>Baseline DummyCFL</td>\n",
       "    </tr>\n",
       "    <tr>\n",
       "      <th>2</th>\n",
       "      <td>knn_ss</td>\n",
       "      <td>0.710344</td>\n",
       "      <td>0.562236</td>\n",
       "      <td>0.517281</td>\n",
       "      <td>0.616008</td>\n",
       "      <td>3.633001</td>\n",
       "      <td>KNN SS()</td>\n",
       "    </tr>\n",
       "    <tr>\n",
       "      <th>3</th>\n",
       "      <td>lsvc_ss</td>\n",
       "      <td>0.730355</td>\n",
       "      <td>0.563285</td>\n",
       "      <td>0.483994</td>\n",
       "      <td>0.674556</td>\n",
       "      <td>2.488851</td>\n",
       "      <td>Linear SVC SS()</td>\n",
       "    </tr>\n",
       "    <tr>\n",
       "      <th>4</th>\n",
       "      <td>dt_ss</td>\n",
       "      <td>0.685672</td>\n",
       "      <td>0.567442</td>\n",
       "      <td>0.573427</td>\n",
       "      <td>0.561673</td>\n",
       "      <td>1.594649</td>\n",
       "      <td>Decision Tree CLF SS()</td>\n",
       "    </tr>\n",
       "    <tr>\n",
       "      <th>5</th>\n",
       "      <td>logreg_ss</td>\n",
       "      <td>0.731725</td>\n",
       "      <td>0.570897</td>\n",
       "      <td>0.496698</td>\n",
       "      <td>0.671987</td>\n",
       "      <td>7.392823</td>\n",
       "      <td>LogReg SS()</td>\n",
       "    </tr>\n",
       "    <tr>\n",
       "      <th>6</th>\n",
       "      <td>ada_ss</td>\n",
       "      <td>0.688140</td>\n",
       "      <td>0.571270</td>\n",
       "      <td>0.577745</td>\n",
       "      <td>0.565062</td>\n",
       "      <td>1.690770</td>\n",
       "      <td>AdaBoost SS()</td>\n",
       "    </tr>\n",
       "    <tr>\n",
       "      <th>7</th>\n",
       "      <td>svc_ss</td>\n",
       "      <td>0.744426</td>\n",
       "      <td>0.586331</td>\n",
       "      <td>0.504065</td>\n",
       "      <td>0.701327</td>\n",
       "      <td>18.133386</td>\n",
       "      <td>Support Vector CLF SS()</td>\n",
       "    </tr>\n",
       "    <tr>\n",
       "      <th>8</th>\n",
       "      <td>bclf_ss</td>\n",
       "      <td>0.747716</td>\n",
       "      <td>0.603371</td>\n",
       "      <td>0.533786</td>\n",
       "      <td>0.694333</td>\n",
       "      <td>9.573603</td>\n",
       "      <td>Bagging CLF SS()</td>\n",
       "    </tr>\n",
       "    <tr>\n",
       "      <th>9</th>\n",
       "      <td>rf_ss</td>\n",
       "      <td>0.758041</td>\n",
       "      <td>0.626232</td>\n",
       "      <td>0.563773</td>\n",
       "      <td>0.704661</td>\n",
       "      <td>9.569614</td>\n",
       "      <td>Random Forest SS()</td>\n",
       "    </tr>\n",
       "    <tr>\n",
       "      <th>10</th>\n",
       "      <td>xgb_ss</td>\n",
       "      <td>0.757218</td>\n",
       "      <td>0.632483</td>\n",
       "      <td>0.580790</td>\n",
       "      <td>0.694637</td>\n",
       "      <td>3.348397</td>\n",
       "      <td>XGBoost SS()</td>\n",
       "    </tr>\n",
       "  </tbody>\n",
       "</table>\n",
       "</div>"
      ],
      "text/plain": [
       "         Name  Accuracy        F1    Recall  Precision  CV_Time(sec)  \\\n",
       "0         fsm  0.644737  0.277592  0.189786   0.517557      0.192745   \n",
       "1    Baseline  0.359649  0.529032  1.000000   0.359649      0.188493   \n",
       "2      knn_ss  0.710344  0.562236  0.517281   0.616008      3.633001   \n",
       "3     lsvc_ss  0.730355  0.563285  0.483994   0.674556      2.488851   \n",
       "4       dt_ss  0.685672  0.567442  0.573427   0.561673      1.594649   \n",
       "5   logreg_ss  0.731725  0.570897  0.496698   0.671987      7.392823   \n",
       "6      ada_ss  0.688140  0.571270  0.577745   0.565062      1.690770   \n",
       "7      svc_ss  0.744426  0.586331  0.504065   0.701327     18.133386   \n",
       "8     bclf_ss  0.747716  0.603371  0.533786   0.694333      9.573603   \n",
       "9       rf_ss  0.758041  0.626232  0.563773   0.704661      9.569614   \n",
       "10     xgb_ss  0.757218  0.632483  0.580790   0.694637      3.348397   \n",
       "\n",
       "                      Notes  \n",
       "0           FSM Naive Bayes  \n",
       "1         Baseline DummyCFL  \n",
       "2                  KNN SS()  \n",
       "3           Linear SVC SS()  \n",
       "4    Decision Tree CLF SS()  \n",
       "5               LogReg SS()  \n",
       "6             AdaBoost SS()  \n",
       "7   Support Vector CLF SS()  \n",
       "8          Bagging CLF SS()  \n",
       "9        Random Forest SS()  \n",
       "10             XGBoost SS()  "
      ]
     },
     "execution_count": 74,
     "metadata": {},
     "output_type": "execute_result"
    },
    {
     "name": "stdout",
     "output_type": "stream",
     "text": [
      "time: 10.6 ms\n"
     ]
    }
   ],
   "source": [
    "modeling.history"
   ]
  },
  {
   "cell_type": "markdown",
   "id": "c5b19484-34e4-4452-90ad-cc0087a06745",
   "metadata": {
    "tags": []
   },
   "source": [
    "## Voting Classifier (BCLF, RF, XGBoost)\n",
    "Using the top three models in a voting classifier."
   ]
  },
  {
   "cell_type": "code",
   "execution_count": 75,
   "id": "8d1538df-8907-4cff-acda-a510c230aa78",
   "metadata": {
    "execution": {
     "iopub.execute_input": "2021-08-27T21:12:27.418159Z",
     "iopub.status.busy": "2021-08-27T21:12:27.417966Z",
     "iopub.status.idle": "2021-08-27T21:12:27.474565Z",
     "shell.execute_reply": "2021-08-27T21:12:27.473223Z",
     "shell.execute_reply.started": "2021-08-27T21:12:27.418137Z"
    },
    "tags": []
   },
   "outputs": [
    {
     "name": "stdout",
     "output_type": "stream",
     "text": [
      "time: 1.23 ms\n"
     ]
    }
   ],
   "source": [
    "clf1 = BCLF\n",
    "clf2 = RF\n",
    "clf3 = XGB\n",
    "\n",
    "estimators = [('bclf',clf1), ('rf', clf2), ('xgb', clf3)]\n",
    "\n",
    "VC = VotingClassifier(estimators=estimators, voting='soft', n_jobs=-1)"
   ]
  },
  {
   "cell_type": "code",
   "execution_count": 76,
   "id": "93fc671c-0004-4f43-af31-e2632ded6b77",
   "metadata": {
    "execution": {
     "iopub.execute_input": "2021-08-27T21:12:27.476242Z",
     "iopub.status.busy": "2021-08-27T21:12:27.476029Z",
     "iopub.status.idle": "2021-08-27T21:12:27.535967Z",
     "shell.execute_reply": "2021-08-27T21:12:27.534610Z",
     "shell.execute_reply.started": "2021-08-27T21:12:27.476218Z"
    },
    "tags": []
   },
   "outputs": [
    {
     "name": "stdout",
     "output_type": "stream",
     "text": [
      "time: 1.12 ms\n"
     ]
    }
   ],
   "source": [
    "vc_ss = make_pipeline(preprocessing_ss, VC)"
   ]
  },
  {
   "cell_type": "markdown",
   "id": "c69efefc-ef93-4006-96ef-212ea34c130d",
   "metadata": {},
   "source": [
    "### Fitting Model"
   ]
  },
  {
   "cell_type": "code",
   "execution_count": 77,
   "id": "2570fcf8-12ff-42bf-b74c-b1dab332824b",
   "metadata": {
    "execution": {
     "iopub.execute_input": "2021-08-27T21:12:27.538300Z",
     "iopub.status.busy": "2021-08-27T21:12:27.537867Z",
     "iopub.status.idle": "2021-08-27T21:12:32.593466Z",
     "shell.execute_reply": "2021-08-27T21:12:32.592837Z",
     "shell.execute_reply.started": "2021-08-27T21:12:27.538269Z"
    },
    "tags": []
   },
   "outputs": [
    {
     "data": {
      "text/plain": [
       "Pipeline(steps=[('columntransformer',\n",
       "                 ColumnTransformer(transformers=[('onehotencoder',\n",
       "                                                  OneHotEncoder(handle_unknown='ignore'),\n",
       "                                                  <sklearn.compose._column_transformer.make_column_selector object at 0x1140160d0>),\n",
       "                                                 ('standardscaler',\n",
       "                                                  StandardScaler(),\n",
       "                                                  <sklearn.compose._column_transformer.make_column_selector object at 0x114016130>)])),\n",
       "                ('votingclassifier',\n",
       "                 VotingCla...\n",
       "                                                             interaction_constraints='',\n",
       "                                                             learning_rate=0.300000012,\n",
       "                                                             max_delta_step=0,\n",
       "                                                             max_depth=6,\n",
       "                                                             min_child_weight=1,\n",
       "                                                             missing=nan,\n",
       "                                                             monotone_constraints='()',\n",
       "                                                             n_estimators=100,\n",
       "                                                             n_jobs=8,\n",
       "                                                             num_parallel_tree=1,\n",
       "                                                             random_state=0,\n",
       "                                                             reg_alpha=0,\n",
       "                                                             reg_lambda=1,\n",
       "                                                             scale_pos_weight=1,\n",
       "                                                             subsample=1,\n",
       "                                                             tree_method='exact',\n",
       "                                                             use_label_encoder=False,\n",
       "                                                             validate_parameters=1,\n",
       "                                                             verbosity=0))],\n",
       "                                  n_jobs=-1, voting='soft'))])"
      ]
     },
     "execution_count": 77,
     "metadata": {},
     "output_type": "execute_result"
    },
    {
     "name": "stdout",
     "output_type": "stream",
     "text": [
      "time: 4.95 s\n"
     ]
    }
   ],
   "source": [
    "%%capture --no-display\n",
    "vc_ss.fit(X_train, y_train)"
   ]
  },
  {
   "cell_type": "markdown",
   "id": "a573a4a8-fbbb-44cc-b881-744dc33ab023",
   "metadata": {},
   "source": [
    "### Cross Val Scores"
   ]
  },
  {
   "cell_type": "code",
   "execution_count": 78,
   "id": "b4594253-2928-4837-a002-08d7904712d3",
   "metadata": {
    "execution": {
     "iopub.execute_input": "2021-08-27T21:12:32.594622Z",
     "iopub.status.busy": "2021-08-27T21:12:32.594418Z",
     "iopub.status.idle": "2021-08-27T21:12:53.726567Z",
     "shell.execute_reply": "2021-08-27T21:12:53.725262Z",
     "shell.execute_reply.started": "2021-08-27T21:12:32.594601Z"
    },
    "tags": []
   },
   "outputs": [
    {
     "name": "stdout",
     "output_type": "stream",
     "text": [
      "vc_ss has an average Accuracy of 0.7640708946093272\n",
      "vc_ss has an average F1 of 0.6402318177517269\n",
      "vc_ss has an average Recall of 0.5838382600506968\n",
      "vc_ss has an average Precision of 0.7091504825134183\n",
      "time: 21.1 s\n"
     ]
    }
   ],
   "source": [
    "# checking cross val scores\n",
    "modeling.report(vc_ss, X_train, y_train, 'vc_ss',\\\n",
    "                'Voting CLF SS()')"
   ]
  },
  {
   "cell_type": "code",
   "execution_count": 79,
   "id": "8c68c497-9923-4cd5-b182-dcbe18c8d35d",
   "metadata": {
    "execution": {
     "iopub.execute_input": "2021-08-27T21:12:53.729749Z",
     "iopub.status.busy": "2021-08-27T21:12:53.729162Z",
     "iopub.status.idle": "2021-08-27T21:12:53.862685Z",
     "shell.execute_reply": "2021-08-27T21:12:53.860470Z",
     "shell.execute_reply.started": "2021-08-27T21:12:53.729696Z"
    },
    "tags": []
   },
   "outputs": [
    {
     "data": {
      "text/html": [
       "<div>\n",
       "<style scoped>\n",
       "    .dataframe tbody tr th:only-of-type {\n",
       "        vertical-align: middle;\n",
       "    }\n",
       "\n",
       "    .dataframe tbody tr th {\n",
       "        vertical-align: top;\n",
       "    }\n",
       "\n",
       "    .dataframe thead th {\n",
       "        text-align: right;\n",
       "    }\n",
       "</style>\n",
       "<table border=\"1\" class=\"dataframe\">\n",
       "  <thead>\n",
       "    <tr style=\"text-align: right;\">\n",
       "      <th></th>\n",
       "      <th>Name</th>\n",
       "      <th>Accuracy</th>\n",
       "      <th>F1</th>\n",
       "      <th>Recall</th>\n",
       "      <th>Precision</th>\n",
       "      <th>CV_Time(sec)</th>\n",
       "      <th>Notes</th>\n",
       "    </tr>\n",
       "  </thead>\n",
       "  <tbody>\n",
       "    <tr>\n",
       "      <th>0</th>\n",
       "      <td>fsm</td>\n",
       "      <td>0.644737</td>\n",
       "      <td>0.277592</td>\n",
       "      <td>0.189786</td>\n",
       "      <td>0.517557</td>\n",
       "      <td>0.192745</td>\n",
       "      <td>FSM Naive Bayes</td>\n",
       "    </tr>\n",
       "    <tr>\n",
       "      <th>1</th>\n",
       "      <td>Baseline</td>\n",
       "      <td>0.359649</td>\n",
       "      <td>0.529032</td>\n",
       "      <td>1.000000</td>\n",
       "      <td>0.359649</td>\n",
       "      <td>0.188493</td>\n",
       "      <td>Baseline DummyCFL</td>\n",
       "    </tr>\n",
       "    <tr>\n",
       "      <th>2</th>\n",
       "      <td>knn_ss</td>\n",
       "      <td>0.710344</td>\n",
       "      <td>0.562236</td>\n",
       "      <td>0.517281</td>\n",
       "      <td>0.616008</td>\n",
       "      <td>3.633001</td>\n",
       "      <td>KNN SS()</td>\n",
       "    </tr>\n",
       "    <tr>\n",
       "      <th>3</th>\n",
       "      <td>lsvc_ss</td>\n",
       "      <td>0.730355</td>\n",
       "      <td>0.563285</td>\n",
       "      <td>0.483994</td>\n",
       "      <td>0.674556</td>\n",
       "      <td>2.488851</td>\n",
       "      <td>Linear SVC SS()</td>\n",
       "    </tr>\n",
       "    <tr>\n",
       "      <th>4</th>\n",
       "      <td>dt_ss</td>\n",
       "      <td>0.685672</td>\n",
       "      <td>0.567442</td>\n",
       "      <td>0.573427</td>\n",
       "      <td>0.561673</td>\n",
       "      <td>1.594649</td>\n",
       "      <td>Decision Tree CLF SS()</td>\n",
       "    </tr>\n",
       "    <tr>\n",
       "      <th>5</th>\n",
       "      <td>logreg_ss</td>\n",
       "      <td>0.731725</td>\n",
       "      <td>0.570897</td>\n",
       "      <td>0.496698</td>\n",
       "      <td>0.671987</td>\n",
       "      <td>7.392823</td>\n",
       "      <td>LogReg SS()</td>\n",
       "    </tr>\n",
       "    <tr>\n",
       "      <th>6</th>\n",
       "      <td>ada_ss</td>\n",
       "      <td>0.688140</td>\n",
       "      <td>0.571270</td>\n",
       "      <td>0.577745</td>\n",
       "      <td>0.565062</td>\n",
       "      <td>1.690770</td>\n",
       "      <td>AdaBoost SS()</td>\n",
       "    </tr>\n",
       "    <tr>\n",
       "      <th>7</th>\n",
       "      <td>svc_ss</td>\n",
       "      <td>0.744426</td>\n",
       "      <td>0.586331</td>\n",
       "      <td>0.504065</td>\n",
       "      <td>0.701327</td>\n",
       "      <td>18.133386</td>\n",
       "      <td>Support Vector CLF SS()</td>\n",
       "    </tr>\n",
       "    <tr>\n",
       "      <th>8</th>\n",
       "      <td>bclf_ss</td>\n",
       "      <td>0.747716</td>\n",
       "      <td>0.603371</td>\n",
       "      <td>0.533786</td>\n",
       "      <td>0.694333</td>\n",
       "      <td>9.573603</td>\n",
       "      <td>Bagging CLF SS()</td>\n",
       "    </tr>\n",
       "    <tr>\n",
       "      <th>9</th>\n",
       "      <td>rf_ss</td>\n",
       "      <td>0.758041</td>\n",
       "      <td>0.626232</td>\n",
       "      <td>0.563773</td>\n",
       "      <td>0.704661</td>\n",
       "      <td>9.569614</td>\n",
       "      <td>Random Forest SS()</td>\n",
       "    </tr>\n",
       "    <tr>\n",
       "      <th>10</th>\n",
       "      <td>xgb_ss</td>\n",
       "      <td>0.757218</td>\n",
       "      <td>0.632483</td>\n",
       "      <td>0.580790</td>\n",
       "      <td>0.694637</td>\n",
       "      <td>3.348397</td>\n",
       "      <td>XGBoost SS()</td>\n",
       "    </tr>\n",
       "    <tr>\n",
       "      <th>11</th>\n",
       "      <td>vc_ss</td>\n",
       "      <td>0.764071</td>\n",
       "      <td>0.640232</td>\n",
       "      <td>0.583838</td>\n",
       "      <td>0.709150</td>\n",
       "      <td>21.084407</td>\n",
       "      <td>Voting CLF SS()</td>\n",
       "    </tr>\n",
       "  </tbody>\n",
       "</table>\n",
       "</div>"
      ],
      "text/plain": [
       "         Name  Accuracy        F1    Recall  Precision  CV_Time(sec)  \\\n",
       "0         fsm  0.644737  0.277592  0.189786   0.517557      0.192745   \n",
       "1    Baseline  0.359649  0.529032  1.000000   0.359649      0.188493   \n",
       "2      knn_ss  0.710344  0.562236  0.517281   0.616008      3.633001   \n",
       "3     lsvc_ss  0.730355  0.563285  0.483994   0.674556      2.488851   \n",
       "4       dt_ss  0.685672  0.567442  0.573427   0.561673      1.594649   \n",
       "5   logreg_ss  0.731725  0.570897  0.496698   0.671987      7.392823   \n",
       "6      ada_ss  0.688140  0.571270  0.577745   0.565062      1.690770   \n",
       "7      svc_ss  0.744426  0.586331  0.504065   0.701327     18.133386   \n",
       "8     bclf_ss  0.747716  0.603371  0.533786   0.694333      9.573603   \n",
       "9       rf_ss  0.758041  0.626232  0.563773   0.704661      9.569614   \n",
       "10     xgb_ss  0.757218  0.632483  0.580790   0.694637      3.348397   \n",
       "11      vc_ss  0.764071  0.640232  0.583838   0.709150     21.084407   \n",
       "\n",
       "                      Notes  \n",
       "0           FSM Naive Bayes  \n",
       "1         Baseline DummyCFL  \n",
       "2                  KNN SS()  \n",
       "3           Linear SVC SS()  \n",
       "4    Decision Tree CLF SS()  \n",
       "5               LogReg SS()  \n",
       "6             AdaBoost SS()  \n",
       "7   Support Vector CLF SS()  \n",
       "8          Bagging CLF SS()  \n",
       "9        Random Forest SS()  \n",
       "10             XGBoost SS()  \n",
       "11          Voting CLF SS()  "
      ]
     },
     "execution_count": 79,
     "metadata": {},
     "output_type": "execute_result"
    },
    {
     "name": "stdout",
     "output_type": "stream",
     "text": [
      "time: 29.3 ms\n"
     ]
    }
   ],
   "source": [
    "modeling.history"
   ]
  },
  {
   "cell_type": "markdown",
   "id": "fee7c15f-7737-4ec0-a107-497e73c9d865",
   "metadata": {
    "execution": {
     "iopub.execute_input": "2021-08-22T03:01:07.529946Z",
     "iopub.status.busy": "2021-08-22T03:01:07.529313Z",
     "iopub.status.idle": "2021-08-22T03:01:07.612111Z",
     "shell.execute_reply": "2021-08-22T03:01:07.610479Z",
     "shell.execute_reply.started": "2021-08-22T03:01:07.529882Z"
    },
    "tags": []
   },
   "source": [
    "## Initial Modeling Summary"
   ]
  },
  {
   "cell_type": "markdown",
   "id": "2dbe007c-a5e9-4f67-bc32-8349bd2b5ae3",
   "metadata": {
    "tags": []
   },
   "source": [
    "Implementation of standard scaling and more advanced algorithms has greatly improved performance, with the highest performing model achieving:\n",
    "\n",
    "- Mean F1 = 0.64\n",
    "- Mean recall = 0.58\n",
    "- Mean precision = 0.71\n",
    "\n",
    "This model is a voting classifier consisting of a bagging classifier, a random forest classifier, and and extreme boosting (XGBoost) classifier."
   ]
  },
  {
   "cell_type": "markdown",
   "id": "ad782809-13b5-48e6-8734-17dbe03f8169",
   "metadata": {},
   "source": [
    "### Test Data Confusion Matrix"
   ]
  },
  {
   "cell_type": "code",
   "execution_count": 80,
   "id": "8cf8a4a2-6c3f-4457-ac3a-4f66617d6e15",
   "metadata": {
    "execution": {
     "iopub.execute_input": "2021-08-27T21:12:53.866424Z",
     "iopub.status.busy": "2021-08-27T21:12:53.865042Z",
     "iopub.status.idle": "2021-08-27T21:12:55.044193Z",
     "shell.execute_reply": "2021-08-27T21:12:55.043439Z",
     "shell.execute_reply.started": "2021-08-27T21:12:53.866356Z"
    },
    "tags": []
   },
   "outputs": [
    {
     "data": {
      "image/png": "[encoded data removed]",
      "text/plain": [
       "<Figure size 504x504 with 2 Axes>"
      ]
     },
     "metadata": {},
     "output_type": "display_data"
    },
    {
     "data": {
      "text/html": [
       "<div>\n",
       "<style scoped>\n",
       "    .dataframe tbody tr th:only-of-type {\n",
       "        vertical-align: middle;\n",
       "    }\n",
       "\n",
       "    .dataframe tbody tr th {\n",
       "        vertical-align: top;\n",
       "    }\n",
       "\n",
       "    .dataframe thead th {\n",
       "        text-align: right;\n",
       "    }\n",
       "</style>\n",
       "<table border=\"1\" class=\"dataframe\">\n",
       "  <thead>\n",
       "    <tr style=\"text-align: right;\">\n",
       "      <th></th>\n",
       "      <th>Accuracy</th>\n",
       "      <th>F1</th>\n",
       "      <th>Recall</th>\n",
       "      <th>Precision</th>\n",
       "    </tr>\n",
       "  </thead>\n",
       "  <tbody>\n",
       "    <tr>\n",
       "      <th>0</th>\n",
       "      <td>0.762401</td>\n",
       "      <td>0.632471</td>\n",
       "      <td>0.568598</td>\n",
       "      <td>0.712512</td>\n",
       "    </tr>\n",
       "  </tbody>\n",
       "</table>\n",
       "</div>"
      ],
      "text/plain": [
       "   Accuracy        F1    Recall  Precision\n",
       "0  0.762401  0.632471  0.568598   0.712512"
      ]
     },
     "execution_count": 80,
     "metadata": {},
     "output_type": "execute_result"
    },
    {
     "name": "stdout",
     "output_type": "stream",
     "text": [
      "time: 1.02 s\n"
     ]
    }
   ],
   "source": [
    "%%capture --no-display\n",
    "f.confusion_report(vc_ss, X_test, y_test)"
   ]
  },
  {
   "cell_type": "markdown",
   "id": "c6c8512c-7347-4236-a8cb-18e2d24fef7b",
   "metadata": {
    "tags": []
   },
   "source": [
    "## Top Model Score Interpretation:\n",
    "The confusion matrix indicates that the  voting classifier is still having trouble identifying Unsatisfactory outcomes.\n",
    "- The recall score of .57 indicates that about 57% outcomes were correctly classified as Unsatisfactory. \n",
    "- The precision score .71 indicates that about 71% of outcomes classified as Unsatisfactory were truly Unsatisfactory."
   ]
  },
  {
   "cell_type": "markdown",
   "id": "026188c2-950b-4303-a412-c4031958c20f",
   "metadata": {},
   "source": [
    "# SMOTE"
   ]
  },
  {
   "cell_type": "code",
   "execution_count": 81,
   "id": "e97b9c4f-72de-4951-8f38-9f7e5a67fff4",
   "metadata": {
    "execution": {
     "iopub.execute_input": "2021-08-27T21:12:55.045517Z",
     "iopub.status.busy": "2021-08-27T21:12:55.045298Z",
     "iopub.status.idle": "2021-08-27T21:12:55.103515Z",
     "shell.execute_reply": "2021-08-27T21:12:55.102745Z",
     "shell.execute_reply.started": "2021-08-27T21:12:55.045498Z"
    },
    "tags": []
   },
   "outputs": [
    {
     "data": {
      "text/plain": [
       "0.0    0.640405\n",
       "1.0    0.359595\n",
       "Name: target, dtype: float64"
      ]
     },
     "execution_count": 81,
     "metadata": {},
     "output_type": "execute_result"
    },
    {
     "name": "stdout",
     "output_type": "stream",
     "text": [
      "time: 5.89 ms\n"
     ]
    }
   ],
   "source": [
    "df.target.value_counts(normalize=True)"
   ]
  },
  {
   "cell_type": "markdown",
   "id": "0bac7bd3-352f-4f34-843d-004832eea0bb",
   "metadata": {},
   "source": [
    "Since the classes have an imbalance of around 2 to 1, SMOTE will be added to the pipeline in an attempt to aid model performance."
   ]
  },
  {
   "cell_type": "markdown",
   "id": "769810e1-b698-48d0-83a0-a47810753d03",
   "metadata": {},
   "source": [
    "## Voting CLF SMOTE"
   ]
  },
  {
   "cell_type": "code",
   "execution_count": 82,
   "id": "6c091230-6053-4c98-98e5-65fe0b773040",
   "metadata": {
    "execution": {
     "iopub.execute_input": "2021-08-27T21:12:55.105366Z",
     "iopub.status.busy": "2021-08-27T21:12:55.104916Z",
     "iopub.status.idle": "2021-08-27T21:12:55.178848Z",
     "shell.execute_reply": "2021-08-27T21:12:55.177118Z",
     "shell.execute_reply.started": "2021-08-27T21:12:55.105330Z"
    },
    "tags": []
   },
   "outputs": [
    {
     "name": "stdout",
     "output_type": "stream",
     "text": [
      "time: 1.4 ms\n"
     ]
    }
   ],
   "source": [
    "clf1 = BCLF\n",
    "clf2 = RF\n",
    "clf3 = XGB\n",
    "\n",
    "estimators = [ ('bclf', clf1), ('rf', clf2), ('xgb', clf3)]\n",
    "VC = VotingClassifier(estimators=estimators, voting='soft', n_jobs=-1)"
   ]
  },
  {
   "cell_type": "code",
   "execution_count": 83,
   "id": "3adaa2f8-2a57-4929-8ccc-c617af8b4447",
   "metadata": {
    "execution": {
     "iopub.execute_input": "2021-08-27T21:12:55.181909Z",
     "iopub.status.busy": "2021-08-27T21:12:55.180976Z",
     "iopub.status.idle": "2021-08-27T21:12:55.254430Z",
     "shell.execute_reply": "2021-08-27T21:12:55.253299Z",
     "shell.execute_reply.started": "2021-08-27T21:12:55.181837Z"
    },
    "tags": []
   },
   "outputs": [
    {
     "name": "stdout",
     "output_type": "stream",
     "text": [
      "time: 1.05 ms\n"
     ]
    }
   ],
   "source": [
    "vc_sm = make_sm_pipeline(preprocessing_ss, sm, VC)"
   ]
  },
  {
   "cell_type": "markdown",
   "id": "99c1d010-1da0-4816-928c-3c136b43f75a",
   "metadata": {},
   "source": [
    "### Fitting Model"
   ]
  },
  {
   "cell_type": "code",
   "execution_count": 84,
   "id": "e8f88e07-1625-411a-a8ed-64326aec5728",
   "metadata": {
    "execution": {
     "iopub.execute_input": "2021-08-27T21:12:55.257191Z",
     "iopub.status.busy": "2021-08-27T21:12:55.256618Z",
     "iopub.status.idle": "2021-08-27T21:13:04.352428Z",
     "shell.execute_reply": "2021-08-27T21:13:04.351497Z",
     "shell.execute_reply.started": "2021-08-27T21:12:55.257158Z"
    },
    "tags": []
   },
   "outputs": [
    {
     "data": {
      "text/plain": [
       "Pipeline(steps=[('columntransformer',\n",
       "                 ColumnTransformer(transformers=[('onehotencoder',\n",
       "                                                  OneHotEncoder(handle_unknown='ignore'),\n",
       "                                                  <sklearn.compose._column_transformer.make_column_selector object at 0x1140160d0>),\n",
       "                                                 ('standardscaler',\n",
       "                                                  StandardScaler(),\n",
       "                                                  <sklearn.compose._column_transformer.make_column_selector object at 0x114016130>)])),\n",
       "                ('smote', SMOTE(random_state=2...\n",
       "                                                             interaction_constraints='',\n",
       "                                                             learning_rate=0.300000012,\n",
       "                                                             max_delta_step=0,\n",
       "                                                             max_depth=6,\n",
       "                                                             min_child_weight=1,\n",
       "                                                             missing=nan,\n",
       "                                                             monotone_constraints='()',\n",
       "                                                             n_estimators=100,\n",
       "                                                             n_jobs=8,\n",
       "                                                             num_parallel_tree=1,\n",
       "                                                             random_state=0,\n",
       "                                                             reg_alpha=0,\n",
       "                                                             reg_lambda=1,\n",
       "                                                             scale_pos_weight=1,\n",
       "                                                             subsample=1,\n",
       "                                                             tree_method='exact',\n",
       "                                                             use_label_encoder=False,\n",
       "                                                             validate_parameters=1,\n",
       "                                                             verbosity=0))],\n",
       "                                  n_jobs=-1, voting='soft'))])"
      ]
     },
     "execution_count": 84,
     "metadata": {},
     "output_type": "execute_result"
    },
    {
     "name": "stdout",
     "output_type": "stream",
     "text": [
      "time: 8.96 s\n"
     ]
    }
   ],
   "source": [
    "%%capture --no-display\n",
    "vc_sm.fit(X_train, y_train)"
   ]
  },
  {
   "cell_type": "markdown",
   "id": "d6cd0a87-cfed-4cb3-9e9e-4ab0bfae1bf9",
   "metadata": {},
   "source": [
    "### Cross Val Scores"
   ]
  },
  {
   "cell_type": "code",
   "execution_count": 85,
   "id": "f3b99fe6-7a0a-4aa5-85a9-0f9e1f75d188",
   "metadata": {
    "execution": {
     "iopub.execute_input": "2021-08-27T21:13:04.354008Z",
     "iopub.status.busy": "2021-08-27T21:13:04.353793Z",
     "iopub.status.idle": "2021-08-27T21:13:39.101312Z",
     "shell.execute_reply": "2021-08-27T21:13:39.100105Z",
     "shell.execute_reply.started": "2021-08-27T21:13:04.353984Z"
    },
    "tags": []
   },
   "outputs": [
    {
     "name": "stdout",
     "output_type": "stream",
     "text": [
      "vc_sm has an average Accuracy of 0.7615122730154009\n",
      "vc_sm has an average F1 of 0.6585042104593446\n",
      "vc_sm has an average Recall of 0.6394797438063972\n",
      "vc_sm has an average Precision of 0.678897497764228\n",
      "time: 34.7 s\n"
     ]
    }
   ],
   "source": [
    "# %%capture --no-display\n",
    "# checking cross val scores\n",
    "modeling.report(vc_sm, X_train, y_train, 'vc_sm',\\\n",
    "                'Voting CLF SS()/SMOTE SOFT')"
   ]
  },
  {
   "cell_type": "markdown",
   "id": "8c510cf5-79b6-4836-8073-cfd783ba0758",
   "metadata": {},
   "source": [
    "## Model Summary"
   ]
  },
  {
   "cell_type": "code",
   "execution_count": 86,
   "id": "a534451e-d46b-4341-bbec-62fa357ad9ac",
   "metadata": {
    "execution": {
     "iopub.execute_input": "2021-08-27T21:13:39.103486Z",
     "iopub.status.busy": "2021-08-27T21:13:39.102851Z",
     "iopub.status.idle": "2021-08-27T21:13:39.211857Z",
     "shell.execute_reply": "2021-08-27T21:13:39.210729Z",
     "shell.execute_reply.started": "2021-08-27T21:13:39.103442Z"
    },
    "tags": []
   },
   "outputs": [
    {
     "data": {
      "text/html": [
       "<div>\n",
       "<style scoped>\n",
       "    .dataframe tbody tr th:only-of-type {\n",
       "        vertical-align: middle;\n",
       "    }\n",
       "\n",
       "    .dataframe tbody tr th {\n",
       "        vertical-align: top;\n",
       "    }\n",
       "\n",
       "    .dataframe thead th {\n",
       "        text-align: right;\n",
       "    }\n",
       "</style>\n",
       "<table border=\"1\" class=\"dataframe\">\n",
       "  <thead>\n",
       "    <tr style=\"text-align: right;\">\n",
       "      <th></th>\n",
       "      <th>Name</th>\n",
       "      <th>Accuracy</th>\n",
       "      <th>F1</th>\n",
       "      <th>Recall</th>\n",
       "      <th>Precision</th>\n",
       "      <th>CV_Time(sec)</th>\n",
       "      <th>Notes</th>\n",
       "    </tr>\n",
       "  </thead>\n",
       "  <tbody>\n",
       "    <tr>\n",
       "      <th>0</th>\n",
       "      <td>fsm</td>\n",
       "      <td>0.644737</td>\n",
       "      <td>0.277592</td>\n",
       "      <td>0.189786</td>\n",
       "      <td>0.517557</td>\n",
       "      <td>0.192745</td>\n",
       "      <td>FSM Naive Bayes</td>\n",
       "    </tr>\n",
       "    <tr>\n",
       "      <th>1</th>\n",
       "      <td>Baseline</td>\n",
       "      <td>0.359649</td>\n",
       "      <td>0.529032</td>\n",
       "      <td>1.000000</td>\n",
       "      <td>0.359649</td>\n",
       "      <td>0.188493</td>\n",
       "      <td>Baseline DummyCFL</td>\n",
       "    </tr>\n",
       "    <tr>\n",
       "      <th>2</th>\n",
       "      <td>knn_ss</td>\n",
       "      <td>0.710344</td>\n",
       "      <td>0.562236</td>\n",
       "      <td>0.517281</td>\n",
       "      <td>0.616008</td>\n",
       "      <td>3.633001</td>\n",
       "      <td>KNN SS()</td>\n",
       "    </tr>\n",
       "    <tr>\n",
       "      <th>3</th>\n",
       "      <td>lsvc_ss</td>\n",
       "      <td>0.730355</td>\n",
       "      <td>0.563285</td>\n",
       "      <td>0.483994</td>\n",
       "      <td>0.674556</td>\n",
       "      <td>2.488851</td>\n",
       "      <td>Linear SVC SS()</td>\n",
       "    </tr>\n",
       "    <tr>\n",
       "      <th>4</th>\n",
       "      <td>dt_ss</td>\n",
       "      <td>0.685672</td>\n",
       "      <td>0.567442</td>\n",
       "      <td>0.573427</td>\n",
       "      <td>0.561673</td>\n",
       "      <td>1.594649</td>\n",
       "      <td>Decision Tree CLF SS()</td>\n",
       "    </tr>\n",
       "    <tr>\n",
       "      <th>5</th>\n",
       "      <td>logreg_ss</td>\n",
       "      <td>0.731725</td>\n",
       "      <td>0.570897</td>\n",
       "      <td>0.496698</td>\n",
       "      <td>0.671987</td>\n",
       "      <td>7.392823</td>\n",
       "      <td>LogReg SS()</td>\n",
       "    </tr>\n",
       "    <tr>\n",
       "      <th>6</th>\n",
       "      <td>ada_ss</td>\n",
       "      <td>0.688140</td>\n",
       "      <td>0.571270</td>\n",
       "      <td>0.577745</td>\n",
       "      <td>0.565062</td>\n",
       "      <td>1.690770</td>\n",
       "      <td>AdaBoost SS()</td>\n",
       "    </tr>\n",
       "    <tr>\n",
       "      <th>7</th>\n",
       "      <td>svc_ss</td>\n",
       "      <td>0.744426</td>\n",
       "      <td>0.586331</td>\n",
       "      <td>0.504065</td>\n",
       "      <td>0.701327</td>\n",
       "      <td>18.133386</td>\n",
       "      <td>Support Vector CLF SS()</td>\n",
       "    </tr>\n",
       "    <tr>\n",
       "      <th>8</th>\n",
       "      <td>bclf_ss</td>\n",
       "      <td>0.747716</td>\n",
       "      <td>0.603371</td>\n",
       "      <td>0.533786</td>\n",
       "      <td>0.694333</td>\n",
       "      <td>9.573603</td>\n",
       "      <td>Bagging CLF SS()</td>\n",
       "    </tr>\n",
       "    <tr>\n",
       "      <th>9</th>\n",
       "      <td>rf_ss</td>\n",
       "      <td>0.758041</td>\n",
       "      <td>0.626232</td>\n",
       "      <td>0.563773</td>\n",
       "      <td>0.704661</td>\n",
       "      <td>9.569614</td>\n",
       "      <td>Random Forest SS()</td>\n",
       "    </tr>\n",
       "    <tr>\n",
       "      <th>10</th>\n",
       "      <td>xgb_ss</td>\n",
       "      <td>0.757218</td>\n",
       "      <td>0.632483</td>\n",
       "      <td>0.580790</td>\n",
       "      <td>0.694637</td>\n",
       "      <td>3.348397</td>\n",
       "      <td>XGBoost SS()</td>\n",
       "    </tr>\n",
       "    <tr>\n",
       "      <th>11</th>\n",
       "      <td>vc_ss</td>\n",
       "      <td>0.764071</td>\n",
       "      <td>0.640232</td>\n",
       "      <td>0.583838</td>\n",
       "      <td>0.709150</td>\n",
       "      <td>21.084407</td>\n",
       "      <td>Voting CLF SS()</td>\n",
       "    </tr>\n",
       "    <tr>\n",
       "      <th>12</th>\n",
       "      <td>vc_sm</td>\n",
       "      <td>0.761512</td>\n",
       "      <td>0.658504</td>\n",
       "      <td>0.639480</td>\n",
       "      <td>0.678897</td>\n",
       "      <td>34.695941</td>\n",
       "      <td>Voting CLF SS()/SMOTE SOFT</td>\n",
       "    </tr>\n",
       "  </tbody>\n",
       "</table>\n",
       "</div>"
      ],
      "text/plain": [
       "         Name  Accuracy        F1    Recall  Precision  CV_Time(sec)  \\\n",
       "0         fsm  0.644737  0.277592  0.189786   0.517557      0.192745   \n",
       "1    Baseline  0.359649  0.529032  1.000000   0.359649      0.188493   \n",
       "2      knn_ss  0.710344  0.562236  0.517281   0.616008      3.633001   \n",
       "3     lsvc_ss  0.730355  0.563285  0.483994   0.674556      2.488851   \n",
       "4       dt_ss  0.685672  0.567442  0.573427   0.561673      1.594649   \n",
       "5   logreg_ss  0.731725  0.570897  0.496698   0.671987      7.392823   \n",
       "6      ada_ss  0.688140  0.571270  0.577745   0.565062      1.690770   \n",
       "7      svc_ss  0.744426  0.586331  0.504065   0.701327     18.133386   \n",
       "8     bclf_ss  0.747716  0.603371  0.533786   0.694333      9.573603   \n",
       "9       rf_ss  0.758041  0.626232  0.563773   0.704661      9.569614   \n",
       "10     xgb_ss  0.757218  0.632483  0.580790   0.694637      3.348397   \n",
       "11      vc_ss  0.764071  0.640232  0.583838   0.709150     21.084407   \n",
       "12      vc_sm  0.761512  0.658504  0.639480   0.678897     34.695941   \n",
       "\n",
       "                         Notes  \n",
       "0              FSM Naive Bayes  \n",
       "1            Baseline DummyCFL  \n",
       "2                     KNN SS()  \n",
       "3              Linear SVC SS()  \n",
       "4       Decision Tree CLF SS()  \n",
       "5                  LogReg SS()  \n",
       "6                AdaBoost SS()  \n",
       "7      Support Vector CLF SS()  \n",
       "8             Bagging CLF SS()  \n",
       "9           Random Forest SS()  \n",
       "10                XGBoost SS()  \n",
       "11             Voting CLF SS()  \n",
       "12  Voting CLF SS()/SMOTE SOFT  "
      ]
     },
     "execution_count": 86,
     "metadata": {},
     "output_type": "execute_result"
    },
    {
     "name": "stdout",
     "output_type": "stream",
     "text": [
      "time: 18.3 ms\n"
     ]
    }
   ],
   "source": [
    "modeling.history"
   ]
  },
  {
   "cell_type": "markdown",
   "id": "e2cd21b8-6cc4-482c-aea5-b36efb96c7b5",
   "metadata": {},
   "source": [
    "### Test Data Confusion Matrix"
   ]
  },
  {
   "cell_type": "code",
   "execution_count": 87,
   "id": "a9d5e7a4-e0b2-4c2f-b9dd-a0c935631f60",
   "metadata": {
    "execution": {
     "iopub.execute_input": "2021-08-27T21:13:39.214541Z",
     "iopub.status.busy": "2021-08-27T21:13:39.214076Z",
     "iopub.status.idle": "2021-08-27T21:13:40.157344Z",
     "shell.execute_reply": "2021-08-27T21:13:40.156504Z",
     "shell.execute_reply.started": "2021-08-27T21:13:39.214503Z"
    },
    "tags": []
   },
   "outputs": [
    {
     "data": {
      "image/png": "[encoded data removed]",
      "text/plain": [
       "<Figure size 504x504 with 2 Axes>"
      ]
     },
     "metadata": {},
     "output_type": "display_data"
    },
    {
     "data": {
      "text/html": [
       "<div>\n",
       "<style scoped>\n",
       "    .dataframe tbody tr th:only-of-type {\n",
       "        vertical-align: middle;\n",
       "    }\n",
       "\n",
       "    .dataframe tbody tr th {\n",
       "        vertical-align: top;\n",
       "    }\n",
       "\n",
       "    .dataframe thead th {\n",
       "        text-align: right;\n",
       "    }\n",
       "</style>\n",
       "<table border=\"1\" class=\"dataframe\">\n",
       "  <thead>\n",
       "    <tr style=\"text-align: right;\">\n",
       "      <th></th>\n",
       "      <th>Accuracy</th>\n",
       "      <th>F1</th>\n",
       "      <th>Recall</th>\n",
       "      <th>Precision</th>\n",
       "    </tr>\n",
       "  </thead>\n",
       "  <tbody>\n",
       "    <tr>\n",
       "      <th>0</th>\n",
       "      <td>0.754727</td>\n",
       "      <td>0.646105</td>\n",
       "      <td>0.622713</td>\n",
       "      <td>0.671323</td>\n",
       "    </tr>\n",
       "  </tbody>\n",
       "</table>\n",
       "</div>"
      ],
      "text/plain": [
       "   Accuracy        F1    Recall  Precision\n",
       "0  0.754727  0.646105  0.622713   0.671323"
      ]
     },
     "execution_count": 87,
     "metadata": {},
     "output_type": "execute_result"
    },
    {
     "name": "stdout",
     "output_type": "stream",
     "text": [
      "time: 814 ms\n"
     ]
    }
   ],
   "source": [
    "%%capture --no-display\n",
    "f.confusion_report(vc_sm, X_test, y_test)"
   ]
  },
  {
   "cell_type": "markdown",
   "id": "d7018474-0be8-445e-948d-9c5beda20198",
   "metadata": {
    "tags": []
   },
   "source": [
    "## Score Interpretation:\n",
    "\n",
    "Upon validation with the test data we see that the model is still having some trouble the minority class, but recall has been improved.\n",
    "\n",
    "- The recall score of .62 indicates that about 62% outcomes were correctly classified as Unsatisfactory.\n",
    "- The precision score .67 indicates that about 67% of outcomes classified as Unsatisfactory were truly Unsatisfactory."
   ]
  },
  {
   "cell_type": "markdown",
   "id": "d7d1a45b-14e8-4df5-a441-30edf5a56f9f",
   "metadata": {},
   "source": [
    "# Hyperparameter Tuning"
   ]
  },
  {
   "cell_type": "code",
   "execution_count": 88,
   "id": "cbe2706d-c871-40f9-b090-33fe14412701",
   "metadata": {
    "execution": {
     "iopub.execute_input": "2021-08-27T21:13:40.159560Z",
     "iopub.status.busy": "2021-08-27T21:13:40.159168Z",
     "iopub.status.idle": "2021-08-27T21:13:40.221872Z",
     "shell.execute_reply": "2021-08-27T21:13:40.220928Z",
     "shell.execute_reply.started": "2021-08-27T21:13:40.159525Z"
    },
    "tags": []
   },
   "outputs": [
    {
     "data": {
      "text/plain": [
       "dict_keys(['memory', 'steps', 'verbose', 'columntransformer', 'smote', 'votingclassifier', 'columntransformer__n_jobs', 'columntransformer__remainder', 'columntransformer__sparse_threshold', 'columntransformer__transformer_weights', 'columntransformer__transformers', 'columntransformer__verbose', 'columntransformer__onehotencoder', 'columntransformer__standardscaler', 'columntransformer__onehotencoder__categories', 'columntransformer__onehotencoder__drop', 'columntransformer__onehotencoder__dtype', 'columntransformer__onehotencoder__handle_unknown', 'columntransformer__onehotencoder__sparse', 'columntransformer__standardscaler__copy', 'columntransformer__standardscaler__with_mean', 'columntransformer__standardscaler__with_std', 'smote__k_neighbors', 'smote__n_jobs', 'smote__random_state', 'smote__sampling_strategy', 'votingclassifier__estimators', 'votingclassifier__flatten_transform', 'votingclassifier__n_jobs', 'votingclassifier__verbose', 'votingclassifier__voting', 'votingclassifier__weights', 'votingclassifier__bclf', 'votingclassifier__rf', 'votingclassifier__xgb', 'votingclassifier__bclf__base_estimator__ccp_alpha', 'votingclassifier__bclf__base_estimator__class_weight', 'votingclassifier__bclf__base_estimator__criterion', 'votingclassifier__bclf__base_estimator__max_depth', 'votingclassifier__bclf__base_estimator__max_features', 'votingclassifier__bclf__base_estimator__max_leaf_nodes', 'votingclassifier__bclf__base_estimator__min_impurity_decrease', 'votingclassifier__bclf__base_estimator__min_impurity_split', 'votingclassifier__bclf__base_estimator__min_samples_leaf', 'votingclassifier__bclf__base_estimator__min_samples_split', 'votingclassifier__bclf__base_estimator__min_weight_fraction_leaf', 'votingclassifier__bclf__base_estimator__random_state', 'votingclassifier__bclf__base_estimator__splitter', 'votingclassifier__bclf__base_estimator', 'votingclassifier__bclf__bootstrap', 'votingclassifier__bclf__bootstrap_features', 'votingclassifier__bclf__max_features', 'votingclassifier__bclf__max_samples', 'votingclassifier__bclf__n_estimators', 'votingclassifier__bclf__n_jobs', 'votingclassifier__bclf__oob_score', 'votingclassifier__bclf__random_state', 'votingclassifier__bclf__verbose', 'votingclassifier__bclf__warm_start', 'votingclassifier__rf__bootstrap', 'votingclassifier__rf__ccp_alpha', 'votingclassifier__rf__class_weight', 'votingclassifier__rf__criterion', 'votingclassifier__rf__max_depth', 'votingclassifier__rf__max_features', 'votingclassifier__rf__max_leaf_nodes', 'votingclassifier__rf__max_samples', 'votingclassifier__rf__min_impurity_decrease', 'votingclassifier__rf__min_impurity_split', 'votingclassifier__rf__min_samples_leaf', 'votingclassifier__rf__min_samples_split', 'votingclassifier__rf__min_weight_fraction_leaf', 'votingclassifier__rf__n_estimators', 'votingclassifier__rf__n_jobs', 'votingclassifier__rf__oob_score', 'votingclassifier__rf__random_state', 'votingclassifier__rf__verbose', 'votingclassifier__rf__warm_start', 'votingclassifier__xgb__objective', 'votingclassifier__xgb__use_label_encoder', 'votingclassifier__xgb__base_score', 'votingclassifier__xgb__booster', 'votingclassifier__xgb__colsample_bylevel', 'votingclassifier__xgb__colsample_bynode', 'votingclassifier__xgb__colsample_bytree', 'votingclassifier__xgb__gamma', 'votingclassifier__xgb__gpu_id', 'votingclassifier__xgb__importance_type', 'votingclassifier__xgb__interaction_constraints', 'votingclassifier__xgb__learning_rate', 'votingclassifier__xgb__max_delta_step', 'votingclassifier__xgb__max_depth', 'votingclassifier__xgb__min_child_weight', 'votingclassifier__xgb__missing', 'votingclassifier__xgb__monotone_constraints', 'votingclassifier__xgb__n_estimators', 'votingclassifier__xgb__n_jobs', 'votingclassifier__xgb__num_parallel_tree', 'votingclassifier__xgb__random_state', 'votingclassifier__xgb__reg_alpha', 'votingclassifier__xgb__reg_lambda', 'votingclassifier__xgb__scale_pos_weight', 'votingclassifier__xgb__subsample', 'votingclassifier__xgb__tree_method', 'votingclassifier__xgb__validate_parameters', 'votingclassifier__xgb__verbosity'])"
      ]
     },
     "execution_count": 88,
     "metadata": {},
     "output_type": "execute_result"
    },
    {
     "name": "stdout",
     "output_type": "stream",
     "text": [
      "time: 4.42 ms\n"
     ]
    }
   ],
   "source": [
    "# getting params\n",
    "vc_sm.get_params().keys()"
   ]
  },
  {
   "cell_type": "markdown",
   "id": "eb04bf5a-3cc9-406d-8d0d-79a0761b31f5",
   "metadata": {},
   "source": [
    "## Separating the Parameters by Classifier"
   ]
  },
  {
   "cell_type": "markdown",
   "id": "ead5e22a-08bd-43ea-9e8c-d19277417395",
   "metadata": {},
   "source": [
    "### BCLF"
   ]
  },
  {
   "cell_type": "code",
   "execution_count": 89,
   "id": "2643dae4-1ead-457d-85db-67723c9494a0",
   "metadata": {
    "execution": {
     "iopub.execute_input": "2021-08-27T21:13:40.223790Z",
     "iopub.status.busy": "2021-08-27T21:13:40.223542Z",
     "iopub.status.idle": "2021-08-27T21:13:40.282547Z",
     "shell.execute_reply": "2021-08-27T21:13:40.281261Z",
     "shell.execute_reply.started": "2021-08-27T21:13:40.223756Z"
    },
    "tags": []
   },
   "outputs": [
    {
     "name": "stdout",
     "output_type": "stream",
     "text": [
      "time: 1.5 ms\n"
     ]
    }
   ],
   "source": [
    "bag_params = ['votingclassifier__bclf__base_estimator__ccp_alpha', \n",
    "              'votingclassifier__bclf__base_estimator__class_weight',\n",
    "              'votingclassifier__bclf__base_estimator__criterion', \n",
    "              'votingclassifier__bclf__base_estimator__max_depth', \n",
    "              'votingclassifier__bclf__base_estimator__max_features', \n",
    "              'votingclassifier__bclf__base_estimator__max_leaf_nodes', \n",
    "              'votingclassifier__bclf__base_estimator__min_impurity_decrease', \n",
    "              'votingclassifier__bclf__base_estimator__min_impurity_split', \n",
    "              'votingclassifier__bclf__base_estimator__min_samples_leaf', \n",
    "              'votingclassifier__bclf__base_estimator__min_samples_split', \n",
    "              'votingclassifier__bclf__base_estimator__min_weight_fraction_leaf', \n",
    "              'votingclassifier__bclf__base_estimator__random_state', \n",
    "              'votingclassifier__bclf__base_estimator__splitter', \n",
    "              'votingclassifier__bclf__base_estimator', \n",
    "              'votingclassifier__bclf__bootstrap', \n",
    "              'votingclassifier__bclf__bootstrap_features', \n",
    "              'votingclassifier__bclf__max_features', \n",
    "              'votingclassifier__bclf__max_samples',\n",
    "              'votingclassifier__bclf__n_estimators', \n",
    "              'votingclassifier__bclf__n_jobs', \n",
    "              'votingclassifier__bclf__oob_score', \n",
    "              'votingclassifier__bclf__random_state', \n",
    "              'votingclassifier__bclf__verbose', \n",
    "              'votingclassifier__bclf__warm_start']"
   ]
  },
  {
   "cell_type": "markdown",
   "id": "f92cba67-275c-4960-b23c-efab7f852c11",
   "metadata": {},
   "source": [
    "### RF"
   ]
  },
  {
   "cell_type": "code",
   "execution_count": 90,
   "id": "999729f0-fa45-4c15-99ea-2d2d17349184",
   "metadata": {
    "execution": {
     "iopub.execute_input": "2021-08-27T21:13:40.284330Z",
     "iopub.status.busy": "2021-08-27T21:13:40.284114Z",
     "iopub.status.idle": "2021-08-27T21:13:40.340498Z",
     "shell.execute_reply": "2021-08-27T21:13:40.339750Z",
     "shell.execute_reply.started": "2021-08-27T21:13:40.284305Z"
    },
    "tags": []
   },
   "outputs": [
    {
     "name": "stdout",
     "output_type": "stream",
     "text": [
      "time: 1.21 ms\n"
     ]
    }
   ],
   "source": [
    "rf_params = ['votingclassifier__rf__bootstrap',\n",
    "             'votingclassifier__rf__ccp_alpha', \n",
    "             'votingclassifier__rf__class_weight', \n",
    "             'votingclassifier__rf__criterion', \n",
    "             'votingclassifier__rf__max_depth', \n",
    "             'votingclassifier__rf__max_features', \n",
    "             'votingclassifier__rf__max_leaf_nodes', \n",
    "             'votingclassifier__rf__max_samples', \n",
    "             'votingclassifier__rf__min_impurity_decrease', \n",
    "             'votingclassifier__rf__min_impurity_split', \n",
    "             'votingclassifier__rf__min_samples_leaf', \n",
    "             'votingclassifier__rf__min_samples_split', \n",
    "             'votingclassifier__rf__min_weight_fraction_leaf', \n",
    "             'votingclassifier__rf__n_estimators', \n",
    "             'votingclassifier__rf__n_jobs', \n",
    "             'votingclassifier__rf__oob_score', \n",
    "             'votingclassifier__rf__random_state', \n",
    "             'votingclassifier__rf__verbose',\n",
    "             'votingclassifier__rf__warm_start']"
   ]
  },
  {
   "cell_type": "markdown",
   "id": "61e20d3a-a97a-4af5-a49c-8ec5e6b9b09a",
   "metadata": {},
   "source": [
    "### XGB"
   ]
  },
  {
   "cell_type": "code",
   "execution_count": 91,
   "id": "d35afab6-fd0b-4cc9-b4d6-bb5f62173f7a",
   "metadata": {
    "execution": {
     "iopub.execute_input": "2021-08-27T21:13:40.342465Z",
     "iopub.status.busy": "2021-08-27T21:13:40.342146Z",
     "iopub.status.idle": "2021-08-27T21:13:40.396279Z",
     "shell.execute_reply": "2021-08-27T21:13:40.395427Z",
     "shell.execute_reply.started": "2021-08-27T21:13:40.342430Z"
    },
    "tags": []
   },
   "outputs": [
    {
     "name": "stdout",
     "output_type": "stream",
     "text": [
      "time: 1.39 ms\n"
     ]
    }
   ],
   "source": [
    "xgb_params = ['votingclassifier__xgb__objective', \n",
    "              'votingclassifier__xgb__use_label_encoder', \n",
    "              'votingclassifier__xgb__base_score', \n",
    "              'votingclassifier__xgb__booster', \n",
    "              'votingclassifier__xgb__colsample_bylevel', \n",
    "              'votingclassifier__xgb__colsample_bynode', \n",
    "              'votingclassifier__xgb__colsample_bytree', \n",
    "              'votingclassifier__xgb__gamma', \n",
    "              'votingclassifier__xgb__gpu_id', \n",
    "              'votingclassifier__xgb__importance_type', \n",
    "              'votingclassifier__xgb__interaction_constraints', \n",
    "              'votingclassifier__xgb__learning_rate', \n",
    "              'votingclassifier__xgb__max_delta_step', \n",
    "              'votingclassifier__xgb__max_depth', \n",
    "              'votingclassifier__xgb__min_child_weight', \n",
    "              'votingclassifier__xgb__missing', \n",
    "              'votingclassifier__xgb__monotone_constraints', \n",
    "              'votingclassifier__xgb__n_estimators', \n",
    "              'votingclassifier__xgb__n_jobs', \n",
    "              'votingclassifier__xgb__num_parallel_tree', \n",
    "              'votingclassifier__xgb__random_state', \n",
    "              'votingclassifier__xgb__reg_alpha', \n",
    "              'votingclassifier__xgb__reg_lambda', \n",
    "              'votingclassifier__xgb__scale_pos_weight', \n",
    "              'votingclassifier__xgb__subsample', \n",
    "              'votingclassifier__xgb__tree_method', \n",
    "              'votingclassifier__xgb__validate_parameters', \n",
    "              'votingclassifier__xgb__verbosity']"
   ]
  },
  {
   "cell_type": "markdown",
   "id": "473c3dce-92ea-4d65-a80c-6e15dd523660",
   "metadata": {},
   "source": [
    "## Setting Parameter Grid\n",
    "Setting the parameters for tuning and their distributions."
   ]
  },
  {
   "cell_type": "code",
   "execution_count": 92,
   "id": "d5b1e544-cbf1-40a9-8450-c8e392f2bdc0",
   "metadata": {
    "execution": {
     "iopub.execute_input": "2021-08-27T21:13:40.398223Z",
     "iopub.status.busy": "2021-08-27T21:13:40.397920Z",
     "iopub.status.idle": "2021-08-27T21:13:40.456041Z",
     "shell.execute_reply": "2021-08-27T21:13:40.455046Z",
     "shell.execute_reply.started": "2021-08-27T21:13:40.398192Z"
    },
    "tags": []
   },
   "outputs": [
    {
     "name": "stdout",
     "output_type": "stream",
     "text": [
      "time: 2.59 ms\n"
     ]
    }
   ],
   "source": [
    "# setting param grid\n",
    "\n",
    "grid = {'votingclassifier__bclf__base_estimator__max_depth':\\\n",
    "        np.linspace(1, 32, 32),\n",
    "        'votingclassifier__bclf__base_estimator__min_samples_split':\\\n",
    "        np.linspace(0.1, 1.0, 10),\n",
    "        'votingclassifier__bclf__base_estimator__min_samples_leaf':\\\n",
    "        np.linspace(0.1, 0.5, 5),\n",
    "        'votingclassifier__bclf__max_features':\\\n",
    "        list(range(1,X_train.shape[1])),\n",
    "        'votingclassifier__rf__n_estimators':\\\n",
    "        np.linspace(1, 200, 20, dtype='int'),\n",
    "        'votingclassifier__rf__max_depth':\\\n",
    "        np.linspace(1, 32, 32),\n",
    "        'votingclassifier__rf__max_features':\\\n",
    "        list(range(1,X_train.shape[1])),\n",
    "        'votingclassifier__rf__min_samples_leaf':\\\n",
    "        np.linspace(0.1, 0.5, 5),\n",
    "        'votingclassifier__rf__min_samples_split':\\\n",
    "        np.linspace(0.1, 1.0, 10),\n",
    "        'votingclassifier__xgb__n_estimators':\\\n",
    "        np.linspace(1, 200, 20, dtype='int'),\n",
    "        'votingclassifier__xgb__colsample_bytree':\\\n",
    "        np.linspace(0.5, 1.0, 10),\n",
    "        'votingclassifier__xgb__gamma':\\\n",
    "        np.linspace(0, .5, 5),\n",
    "        'votingclassifier__xgb__learning_rate':\\\n",
    "        np.linspace(0.01, .5, 10),\n",
    "        'votingclassifier__xgb__max_depth':\\\n",
    "        np.linspace(3, 10, 7, dtype='int'),\n",
    "        'votingclassifier__xgb__reg_alpha':\\\n",
    "        np.logspace(.001, 2, 10),\n",
    "        'votingclassifier__xgb__reg_lambda':\\\n",
    "        np.linspace(1, 10, 20)\n",
    "       }"
   ]
  },
  {
   "cell_type": "markdown",
   "id": "e473507d-ad54-445e-b9f5-f0237a4e8e84",
   "metadata": {},
   "source": [
    "## Randomized Search Cross Validation"
   ]
  },
  {
   "cell_type": "code",
   "execution_count": 93,
   "id": "7fb7e5a3-efbf-43dd-b6e8-a9b28db60b85",
   "metadata": {
    "execution": {
     "iopub.execute_input": "2021-08-27T21:13:40.458194Z",
     "iopub.status.busy": "2021-08-27T21:13:40.457758Z",
     "iopub.status.idle": "2021-08-27T21:13:40.514958Z",
     "shell.execute_reply": "2021-08-27T21:13:40.514054Z",
     "shell.execute_reply.started": "2021-08-27T21:13:40.458151Z"
    },
    "tags": []
   },
   "outputs": [
    {
     "name": "stdout",
     "output_type": "stream",
     "text": [
      "time: 918 µs\n"
     ]
    }
   ],
   "source": [
    "# instantiating RSCV\n",
    "param_search = RandomizedSearchCV(vc_sm, param_distributions=grid,\n",
    "                                  scoring='f1', random_state=2021, cv=10)"
   ]
  },
  {
   "cell_type": "code",
   "execution_count": 94,
   "id": "ec49a52d-eb12-461f-9e26-c48644a9f210",
   "metadata": {
    "execution": {
     "iopub.execute_input": "2021-08-27T21:13:40.516851Z",
     "iopub.status.busy": "2021-08-27T21:13:40.516635Z",
     "iopub.status.idle": "2021-08-27T21:17:23.435207Z",
     "shell.execute_reply": "2021-08-27T21:17:23.434390Z",
     "shell.execute_reply.started": "2021-08-27T21:13:40.516828Z"
    },
    "tags": []
   },
   "outputs": [
    {
     "data": {
      "text/plain": [
       "RandomizedSearchCV(cv=10,\n",
       "                   estimator=Pipeline(steps=[('columntransformer',\n",
       "                                              ColumnTransformer(transformers=[('onehotencoder',\n",
       "                                                                               OneHotEncoder(handle_unknown='ignore'),\n",
       "                                                                               <sklearn.compose._column_transformer.make_column_selector object at 0x1140160d0>),\n",
       "                                                                              ('standardscaler',\n",
       "                                                                               StandardScaler(),\n",
       "                                                                               <sklearn.compose._column_transformer.make_column_selector object at 0x114016130...\n",
       "                                        'votingclassifier__xgb__reg_alpha': array([  1.00230524,   1.67151821,   2.78754715,   4.64871941,\n",
       "         7.75254765,  12.92872076,  21.56088915,  35.95653037,\n",
       "        59.96376437, 100.        ]),\n",
       "                                        'votingclassifier__xgb__reg_lambda': array([ 1.        ,  1.47368421,  1.94736842,  2.42105263,  2.89473684,\n",
       "        3.36842105,  3.84210526,  4.31578947,  4.78947368,  5.26315789,\n",
       "        5.73684211,  6.21052632,  6.68421053,  7.15789474,  7.63157895,\n",
       "        8.10526316,  8.57894737,  9.05263158,  9.52631579, 10.        ])},\n",
       "                   random_state=2021, scoring='f1')"
      ]
     },
     "execution_count": 94,
     "metadata": {},
     "output_type": "execute_result"
    },
    {
     "name": "stdout",
     "output_type": "stream",
     "text": [
      "time: 3min 42s\n"
     ]
    }
   ],
   "source": [
    "# fitting RSCV\n",
    "param_search.fit(X_train, y_train)"
   ]
  },
  {
   "cell_type": "code",
   "execution_count": 95,
   "id": "da4aa1d4-7318-4cf7-936c-a850a0eaf5c8",
   "metadata": {
    "execution": {
     "iopub.execute_input": "2021-08-27T21:17:23.437011Z",
     "iopub.status.busy": "2021-08-27T21:17:23.436731Z",
     "iopub.status.idle": "2021-08-27T21:17:23.499265Z",
     "shell.execute_reply": "2021-08-27T21:17:23.498312Z",
     "shell.execute_reply.started": "2021-08-27T21:17:23.436979Z"
    },
    "tags": []
   },
   "outputs": [
    {
     "name": "stdout",
     "output_type": "stream",
     "text": [
      "time: 4.34 ms\n"
     ]
    }
   ],
   "source": [
    "# creating search results dataframe\n",
    "search_results = pd.DataFrame(param_search.cv_results_)\\\n",
    ".sort_values(by='rank_test_score').reset_index(drop=True)"
   ]
  },
  {
   "cell_type": "code",
   "execution_count": 96,
   "id": "de00b6e5-f0a3-4196-84df-1ceef9be255f",
   "metadata": {
    "execution": {
     "iopub.execute_input": "2021-08-27T21:17:23.501341Z",
     "iopub.status.busy": "2021-08-27T21:17:23.500720Z",
     "iopub.status.idle": "2021-08-27T21:17:23.576591Z",
     "shell.execute_reply": "2021-08-27T21:17:23.575358Z",
     "shell.execute_reply.started": "2021-08-27T21:17:23.501276Z"
    },
    "tags": []
   },
   "outputs": [
    {
     "data": {
      "text/html": [
       "<div>\n",
       "<style scoped>\n",
       "    .dataframe tbody tr th:only-of-type {\n",
       "        vertical-align: middle;\n",
       "    }\n",
       "\n",
       "    .dataframe tbody tr th {\n",
       "        vertical-align: top;\n",
       "    }\n",
       "\n",
       "    .dataframe thead th {\n",
       "        text-align: right;\n",
       "    }\n",
       "</style>\n",
       "<table border=\"1\" class=\"dataframe\">\n",
       "  <thead>\n",
       "    <tr style=\"text-align: right;\">\n",
       "      <th></th>\n",
       "      <th>mean_fit_time</th>\n",
       "      <th>std_fit_time</th>\n",
       "      <th>mean_score_time</th>\n",
       "      <th>std_score_time</th>\n",
       "      <th>param_votingclassifier__xgb__reg_lambda</th>\n",
       "      <th>param_votingclassifier__xgb__reg_alpha</th>\n",
       "      <th>param_votingclassifier__xgb__n_estimators</th>\n",
       "      <th>param_votingclassifier__xgb__max_depth</th>\n",
       "      <th>param_votingclassifier__xgb__learning_rate</th>\n",
       "      <th>param_votingclassifier__xgb__gamma</th>\n",
       "      <th>...</th>\n",
       "      <th>split3_test_score</th>\n",
       "      <th>split4_test_score</th>\n",
       "      <th>split5_test_score</th>\n",
       "      <th>split6_test_score</th>\n",
       "      <th>split7_test_score</th>\n",
       "      <th>split8_test_score</th>\n",
       "      <th>split9_test_score</th>\n",
       "      <th>mean_test_score</th>\n",
       "      <th>std_test_score</th>\n",
       "      <th>rank_test_score</th>\n",
       "    </tr>\n",
       "  </thead>\n",
       "  <tbody>\n",
       "    <tr>\n",
       "      <th>0</th>\n",
       "      <td>1.489286</td>\n",
       "      <td>0.040829</td>\n",
       "      <td>0.037762</td>\n",
       "      <td>0.003123</td>\n",
       "      <td>3.842105</td>\n",
       "      <td>7.752548</td>\n",
       "      <td>21</td>\n",
       "      <td>10</td>\n",
       "      <td>0.173333</td>\n",
       "      <td>0.125</td>\n",
       "      <td>...</td>\n",
       "      <td>0.679790</td>\n",
       "      <td>0.683311</td>\n",
       "      <td>0.658945</td>\n",
       "      <td>0.649418</td>\n",
       "      <td>0.659119</td>\n",
       "      <td>0.667516</td>\n",
       "      <td>0.628571</td>\n",
       "      <td>0.658598</td>\n",
       "      <td>0.019757</td>\n",
       "      <td>1</td>\n",
       "    </tr>\n",
       "    <tr>\n",
       "      <th>1</th>\n",
       "      <td>1.362044</td>\n",
       "      <td>0.103786</td>\n",
       "      <td>0.035326</td>\n",
       "      <td>0.005313</td>\n",
       "      <td>7.157895</td>\n",
       "      <td>100.0</td>\n",
       "      <td>42</td>\n",
       "      <td>6</td>\n",
       "      <td>0.336667</td>\n",
       "      <td>0.25</td>\n",
       "      <td>...</td>\n",
       "      <td>0.661939</td>\n",
       "      <td>0.691244</td>\n",
       "      <td>0.656036</td>\n",
       "      <td>0.630359</td>\n",
       "      <td>0.659817</td>\n",
       "      <td>0.681344</td>\n",
       "      <td>0.628571</td>\n",
       "      <td>0.655359</td>\n",
       "      <td>0.020572</td>\n",
       "      <td>2</td>\n",
       "    </tr>\n",
       "    <tr>\n",
       "      <th>2</th>\n",
       "      <td>1.961309</td>\n",
       "      <td>0.081582</td>\n",
       "      <td>0.074811</td>\n",
       "      <td>0.009557</td>\n",
       "      <td>3.368421</td>\n",
       "      <td>1.671518</td>\n",
       "      <td>137</td>\n",
       "      <td>3</td>\n",
       "      <td>0.5</td>\n",
       "      <td>0.125</td>\n",
       "      <td>...</td>\n",
       "      <td>0.664865</td>\n",
       "      <td>0.673025</td>\n",
       "      <td>0.649664</td>\n",
       "      <td>0.657682</td>\n",
       "      <td>0.647137</td>\n",
       "      <td>0.665779</td>\n",
       "      <td>0.642473</td>\n",
       "      <td>0.655102</td>\n",
       "      <td>0.019683</td>\n",
       "      <td>3</td>\n",
       "    </tr>\n",
       "    <tr>\n",
       "      <th>3</th>\n",
       "      <td>1.580884</td>\n",
       "      <td>0.061668</td>\n",
       "      <td>0.078686</td>\n",
       "      <td>0.010113</td>\n",
       "      <td>5.263158</td>\n",
       "      <td>1.671518</td>\n",
       "      <td>11</td>\n",
       "      <td>8</td>\n",
       "      <td>0.064444</td>\n",
       "      <td>0.5</td>\n",
       "      <td>...</td>\n",
       "      <td>0.664286</td>\n",
       "      <td>0.665871</td>\n",
       "      <td>0.650463</td>\n",
       "      <td>0.629847</td>\n",
       "      <td>0.651163</td>\n",
       "      <td>0.674528</td>\n",
       "      <td>0.639816</td>\n",
       "      <td>0.652681</td>\n",
       "      <td>0.015556</td>\n",
       "      <td>4</td>\n",
       "    </tr>\n",
       "    <tr>\n",
       "      <th>4</th>\n",
       "      <td>2.597938</td>\n",
       "      <td>0.332970</td>\n",
       "      <td>0.111152</td>\n",
       "      <td>0.027263</td>\n",
       "      <td>1.947368</td>\n",
       "      <td>21.560889</td>\n",
       "      <td>74</td>\n",
       "      <td>5</td>\n",
       "      <td>0.118889</td>\n",
       "      <td>0.25</td>\n",
       "      <td>...</td>\n",
       "      <td>0.659767</td>\n",
       "      <td>0.677043</td>\n",
       "      <td>0.646388</td>\n",
       "      <td>0.641849</td>\n",
       "      <td>0.668305</td>\n",
       "      <td>0.681648</td>\n",
       "      <td>0.613435</td>\n",
       "      <td>0.652614</td>\n",
       "      <td>0.022117</td>\n",
       "      <td>5</td>\n",
       "    </tr>\n",
       "  </tbody>\n",
       "</table>\n",
       "<p>5 rows × 34 columns</p>\n",
       "</div>"
      ],
      "text/plain": [
       "   mean_fit_time  std_fit_time  mean_score_time  std_score_time  \\\n",
       "0       1.489286      0.040829         0.037762        0.003123   \n",
       "1       1.362044      0.103786         0.035326        0.005313   \n",
       "2       1.961309      0.081582         0.074811        0.009557   \n",
       "3       1.580884      0.061668         0.078686        0.010113   \n",
       "4       2.597938      0.332970         0.111152        0.027263   \n",
       "\n",
       "  param_votingclassifier__xgb__reg_lambda  \\\n",
       "0                                3.842105   \n",
       "1                                7.157895   \n",
       "2                                3.368421   \n",
       "3                                5.263158   \n",
       "4                                1.947368   \n",
       "\n",
       "  param_votingclassifier__xgb__reg_alpha  \\\n",
       "0                               7.752548   \n",
       "1                                  100.0   \n",
       "2                               1.671518   \n",
       "3                               1.671518   \n",
       "4                              21.560889   \n",
       "\n",
       "  param_votingclassifier__xgb__n_estimators  \\\n",
       "0                                        21   \n",
       "1                                        42   \n",
       "2                                       137   \n",
       "3                                        11   \n",
       "4                                        74   \n",
       "\n",
       "  param_votingclassifier__xgb__max_depth  \\\n",
       "0                                     10   \n",
       "1                                      6   \n",
       "2                                      3   \n",
       "3                                      8   \n",
       "4                                      5   \n",
       "\n",
       "  param_votingclassifier__xgb__learning_rate  \\\n",
       "0                                   0.173333   \n",
       "1                                   0.336667   \n",
       "2                                        0.5   \n",
       "3                                   0.064444   \n",
       "4                                   0.118889   \n",
       "\n",
       "  param_votingclassifier__xgb__gamma  ... split3_test_score split4_test_score  \\\n",
       "0                              0.125  ...          0.679790          0.683311   \n",
       "1                               0.25  ...          0.661939          0.691244   \n",
       "2                              0.125  ...          0.664865          0.673025   \n",
       "3                                0.5  ...          0.664286          0.665871   \n",
       "4                               0.25  ...          0.659767          0.677043   \n",
       "\n",
       "  split5_test_score split6_test_score split7_test_score split8_test_score  \\\n",
       "0          0.658945          0.649418          0.659119          0.667516   \n",
       "1          0.656036          0.630359          0.659817          0.681344   \n",
       "2          0.649664          0.657682          0.647137          0.665779   \n",
       "3          0.650463          0.629847          0.651163          0.674528   \n",
       "4          0.646388          0.641849          0.668305          0.681648   \n",
       "\n",
       "  split9_test_score mean_test_score std_test_score rank_test_score  \n",
       "0          0.628571        0.658598       0.019757               1  \n",
       "1          0.628571        0.655359       0.020572               2  \n",
       "2          0.642473        0.655102       0.019683               3  \n",
       "3          0.639816        0.652681       0.015556               4  \n",
       "4          0.613435        0.652614       0.022117               5  \n",
       "\n",
       "[5 rows x 34 columns]"
      ]
     },
     "execution_count": 96,
     "metadata": {},
     "output_type": "execute_result"
    },
    {
     "name": "stdout",
     "output_type": "stream",
     "text": [
      "time: 19.7 ms\n"
     ]
    }
   ],
   "source": [
    "# checking first five rows\n",
    "search_results.head()"
   ]
  },
  {
   "cell_type": "code",
   "execution_count": 97,
   "id": "a184dfbf-408c-46bd-8417-f45ffdcc92ef",
   "metadata": {
    "execution": {
     "iopub.execute_input": "2021-08-27T21:17:23.578469Z",
     "iopub.status.busy": "2021-08-27T21:17:23.578182Z",
     "iopub.status.idle": "2021-08-27T21:17:23.633566Z",
     "shell.execute_reply": "2021-08-27T21:17:23.632608Z",
     "shell.execute_reply.started": "2021-08-27T21:17:23.578441Z"
    },
    "tags": []
   },
   "outputs": [
    {
     "data": {
      "text/plain": [
       "{'votingclassifier__xgb__reg_lambda': 3.8421052631578947,\n",
       " 'votingclassifier__xgb__reg_alpha': 7.75254765345907,\n",
       " 'votingclassifier__xgb__n_estimators': 21,\n",
       " 'votingclassifier__xgb__max_depth': 10,\n",
       " 'votingclassifier__xgb__learning_rate': 0.17333333333333334,\n",
       " 'votingclassifier__xgb__gamma': 0.125,\n",
       " 'votingclassifier__xgb__colsample_bytree': 0.8888888888888888,\n",
       " 'votingclassifier__rf__n_estimators': 53,\n",
       " 'votingclassifier__rf__min_samples_split': 0.1,\n",
       " 'votingclassifier__rf__min_samples_leaf': 0.5,\n",
       " 'votingclassifier__rf__max_features': 4,\n",
       " 'votingclassifier__rf__max_depth': 27.0,\n",
       " 'votingclassifier__bclf__max_features': 4,\n",
       " 'votingclassifier__bclf__base_estimator__min_samples_split': 0.2,\n",
       " 'votingclassifier__bclf__base_estimator__min_samples_leaf': 0.5,\n",
       " 'votingclassifier__bclf__base_estimator__max_depth': 21.0}"
      ]
     },
     "execution_count": 97,
     "metadata": {},
     "output_type": "execute_result"
    },
    {
     "name": "stdout",
     "output_type": "stream",
     "text": [
      "time: 2.88 ms\n"
     ]
    }
   ],
   "source": [
    "# checking best params\n",
    "param_search.best_params_"
   ]
  },
  {
   "cell_type": "markdown",
   "id": "4566f607-50f3-4e37-a66d-9fa783a23509",
   "metadata": {},
   "source": [
    "## Best Params"
   ]
  },
  {
   "cell_type": "code",
   "execution_count": 98,
   "id": "d7e142e8-06ff-45f9-bdac-bf0f8031a66c",
   "metadata": {
    "execution": {
     "iopub.execute_input": "2021-08-27T21:17:23.634969Z",
     "iopub.status.busy": "2021-08-27T21:17:23.634752Z",
     "iopub.status.idle": "2021-08-27T21:17:23.696319Z",
     "shell.execute_reply": "2021-08-27T21:17:23.695416Z",
     "shell.execute_reply.started": "2021-08-27T21:17:23.634944Z"
    },
    "tags": []
   },
   "outputs": [
    {
     "name": "stdout",
     "output_type": "stream",
     "text": [
      "time: 1.28 ms\n"
     ]
    }
   ],
   "source": [
    "best_params = {'votingclassifier__xgb__reg_lambda': 3.8421052631578947,\n",
    " 'votingclassifier__xgb__reg_alpha': 7.75254765345907,\n",
    " 'votingclassifier__xgb__n_estimators': 21,\n",
    " 'votingclassifier__xgb__max_depth': 10,\n",
    " 'votingclassifier__xgb__learning_rate': 0.17333333333333334,\n",
    " 'votingclassifier__xgb__gamma': 0.125,\n",
    " 'votingclassifier__xgb__colsample_bytree': 0.8888888888888888,\n",
    " 'votingclassifier__rf__n_estimators': 53,\n",
    " 'votingclassifier__rf__min_samples_split': 0.1,\n",
    " 'votingclassifier__rf__min_samples_leaf': 0.5,\n",
    " 'votingclassifier__rf__max_features': 4,\n",
    " 'votingclassifier__rf__max_depth': 27.0,\n",
    " 'votingclassifier__bclf__max_features': 4,\n",
    " 'votingclassifier__bclf__base_estimator__min_samples_split': 0.2,\n",
    " 'votingclassifier__bclf__base_estimator__min_samples_leaf': 0.5,\n",
    " 'votingclassifier__bclf__base_estimator__max_depth': 21.0}"
   ]
  },
  {
   "cell_type": "markdown",
   "id": "96335e43-2e6e-411a-a811-65c1afc8a860",
   "metadata": {},
   "source": [
    "# Best Model"
   ]
  },
  {
   "cell_type": "code",
   "execution_count": 99,
   "id": "33376b24-9682-49d0-9769-5e7b172f494f",
   "metadata": {
    "execution": {
     "iopub.execute_input": "2021-08-27T21:17:23.697717Z",
     "iopub.status.busy": "2021-08-27T21:17:23.697520Z",
     "iopub.status.idle": "2021-08-27T21:17:23.762385Z",
     "shell.execute_reply": "2021-08-27T21:17:23.761142Z",
     "shell.execute_reply.started": "2021-08-27T21:17:23.697694Z"
    },
    "tags": []
   },
   "outputs": [
    {
     "name": "stdout",
     "output_type": "stream",
     "text": [
      "time: 764 µs\n"
     ]
    }
   ],
   "source": [
    "# getting best estimator\n",
    "best_model = param_search.best_estimator_"
   ]
  },
  {
   "cell_type": "code",
   "execution_count": 100,
   "id": "940d7d9c-ebfd-415e-9176-37192d464f15",
   "metadata": {
    "execution": {
     "iopub.execute_input": "2021-08-27T21:17:23.764079Z",
     "iopub.status.busy": "2021-08-27T21:17:23.763752Z",
     "iopub.status.idle": "2021-08-27T21:17:32.097028Z",
     "shell.execute_reply": "2021-08-27T21:17:32.095905Z",
     "shell.execute_reply.started": "2021-08-27T21:17:23.764049Z"
    },
    "tags": []
   },
   "outputs": [
    {
     "name": "stdout",
     "output_type": "stream",
     "text": [
      "best_model has an average Accuracy of 0.7593199920159213\n",
      "best_model has an average F1 of 0.6613449865812424\n",
      "best_model has an average Recall of 0.653456227142848\n",
      "best_model has an average Precision of 0.6696263324427678\n",
      "time: 8.26 s\n"
     ]
    }
   ],
   "source": [
    "# checking cross val scores\n",
    "modeling.report(best_model, X_train, y_train, 'best_model',\\\n",
    "                'Tuned Voting CLF SS()/SMOTE SOFT')"
   ]
  },
  {
   "cell_type": "markdown",
   "id": "41542000-007c-49cf-929e-5452dd7b0a2b",
   "metadata": {
    "tags": []
   },
   "source": [
    "## Modeling Summary"
   ]
  },
  {
   "cell_type": "code",
   "execution_count": 101,
   "id": "ed7bf09c-0706-4f53-a794-669191cf8d1f",
   "metadata": {
    "execution": {
     "iopub.execute_input": "2021-08-27T21:17:32.099170Z",
     "iopub.status.busy": "2021-08-27T21:17:32.098638Z",
     "iopub.status.idle": "2021-08-27T21:17:32.204422Z",
     "shell.execute_reply": "2021-08-27T21:17:32.203564Z",
     "shell.execute_reply.started": "2021-08-27T21:17:32.099129Z"
    },
    "tags": []
   },
   "outputs": [
    {
     "data": {
      "text/html": [
       "<div>\n",
       "<style scoped>\n",
       "    .dataframe tbody tr th:only-of-type {\n",
       "        vertical-align: middle;\n",
       "    }\n",
       "\n",
       "    .dataframe tbody tr th {\n",
       "        vertical-align: top;\n",
       "    }\n",
       "\n",
       "    .dataframe thead th {\n",
       "        text-align: right;\n",
       "    }\n",
       "</style>\n",
       "<table border=\"1\" class=\"dataframe\">\n",
       "  <thead>\n",
       "    <tr style=\"text-align: right;\">\n",
       "      <th></th>\n",
       "      <th>Name</th>\n",
       "      <th>Accuracy</th>\n",
       "      <th>F1</th>\n",
       "      <th>Recall</th>\n",
       "      <th>Precision</th>\n",
       "      <th>CV_Time(sec)</th>\n",
       "      <th>Notes</th>\n",
       "    </tr>\n",
       "  </thead>\n",
       "  <tbody>\n",
       "    <tr>\n",
       "      <th>0</th>\n",
       "      <td>fsm</td>\n",
       "      <td>0.644737</td>\n",
       "      <td>0.277592</td>\n",
       "      <td>0.189786</td>\n",
       "      <td>0.517557</td>\n",
       "      <td>0.192745</td>\n",
       "      <td>FSM Naive Bayes</td>\n",
       "    </tr>\n",
       "    <tr>\n",
       "      <th>1</th>\n",
       "      <td>Baseline</td>\n",
       "      <td>0.359649</td>\n",
       "      <td>0.529032</td>\n",
       "      <td>1.000000</td>\n",
       "      <td>0.359649</td>\n",
       "      <td>0.188493</td>\n",
       "      <td>Baseline DummyCFL</td>\n",
       "    </tr>\n",
       "    <tr>\n",
       "      <th>2</th>\n",
       "      <td>knn_ss</td>\n",
       "      <td>0.710344</td>\n",
       "      <td>0.562236</td>\n",
       "      <td>0.517281</td>\n",
       "      <td>0.616008</td>\n",
       "      <td>3.633001</td>\n",
       "      <td>KNN SS()</td>\n",
       "    </tr>\n",
       "    <tr>\n",
       "      <th>3</th>\n",
       "      <td>lsvc_ss</td>\n",
       "      <td>0.730355</td>\n",
       "      <td>0.563285</td>\n",
       "      <td>0.483994</td>\n",
       "      <td>0.674556</td>\n",
       "      <td>2.488851</td>\n",
       "      <td>Linear SVC SS()</td>\n",
       "    </tr>\n",
       "    <tr>\n",
       "      <th>4</th>\n",
       "      <td>dt_ss</td>\n",
       "      <td>0.685672</td>\n",
       "      <td>0.567442</td>\n",
       "      <td>0.573427</td>\n",
       "      <td>0.561673</td>\n",
       "      <td>1.594649</td>\n",
       "      <td>Decision Tree CLF SS()</td>\n",
       "    </tr>\n",
       "    <tr>\n",
       "      <th>5</th>\n",
       "      <td>logreg_ss</td>\n",
       "      <td>0.731725</td>\n",
       "      <td>0.570897</td>\n",
       "      <td>0.496698</td>\n",
       "      <td>0.671987</td>\n",
       "      <td>7.392823</td>\n",
       "      <td>LogReg SS()</td>\n",
       "    </tr>\n",
       "    <tr>\n",
       "      <th>6</th>\n",
       "      <td>ada_ss</td>\n",
       "      <td>0.688140</td>\n",
       "      <td>0.571270</td>\n",
       "      <td>0.577745</td>\n",
       "      <td>0.565062</td>\n",
       "      <td>1.690770</td>\n",
       "      <td>AdaBoost SS()</td>\n",
       "    </tr>\n",
       "    <tr>\n",
       "      <th>7</th>\n",
       "      <td>svc_ss</td>\n",
       "      <td>0.744426</td>\n",
       "      <td>0.586331</td>\n",
       "      <td>0.504065</td>\n",
       "      <td>0.701327</td>\n",
       "      <td>18.133386</td>\n",
       "      <td>Support Vector CLF SS()</td>\n",
       "    </tr>\n",
       "    <tr>\n",
       "      <th>8</th>\n",
       "      <td>bclf_ss</td>\n",
       "      <td>0.747716</td>\n",
       "      <td>0.603371</td>\n",
       "      <td>0.533786</td>\n",
       "      <td>0.694333</td>\n",
       "      <td>9.573603</td>\n",
       "      <td>Bagging CLF SS()</td>\n",
       "    </tr>\n",
       "    <tr>\n",
       "      <th>9</th>\n",
       "      <td>rf_ss</td>\n",
       "      <td>0.758041</td>\n",
       "      <td>0.626232</td>\n",
       "      <td>0.563773</td>\n",
       "      <td>0.704661</td>\n",
       "      <td>9.569614</td>\n",
       "      <td>Random Forest SS()</td>\n",
       "    </tr>\n",
       "    <tr>\n",
       "      <th>10</th>\n",
       "      <td>xgb_ss</td>\n",
       "      <td>0.757218</td>\n",
       "      <td>0.632483</td>\n",
       "      <td>0.580790</td>\n",
       "      <td>0.694637</td>\n",
       "      <td>3.348397</td>\n",
       "      <td>XGBoost SS()</td>\n",
       "    </tr>\n",
       "    <tr>\n",
       "      <th>11</th>\n",
       "      <td>vc_ss</td>\n",
       "      <td>0.764071</td>\n",
       "      <td>0.640232</td>\n",
       "      <td>0.583838</td>\n",
       "      <td>0.709150</td>\n",
       "      <td>21.084407</td>\n",
       "      <td>Voting CLF SS()</td>\n",
       "    </tr>\n",
       "    <tr>\n",
       "      <th>12</th>\n",
       "      <td>vc_sm</td>\n",
       "      <td>0.761512</td>\n",
       "      <td>0.658504</td>\n",
       "      <td>0.639480</td>\n",
       "      <td>0.678897</td>\n",
       "      <td>34.695941</td>\n",
       "      <td>Voting CLF SS()/SMOTE SOFT</td>\n",
       "    </tr>\n",
       "    <tr>\n",
       "      <th>13</th>\n",
       "      <td>best_model</td>\n",
       "      <td>0.759320</td>\n",
       "      <td>0.661345</td>\n",
       "      <td>0.653456</td>\n",
       "      <td>0.669626</td>\n",
       "      <td>8.258552</td>\n",
       "      <td>Tuned Voting CLF SS()/SMOTE SOFT</td>\n",
       "    </tr>\n",
       "  </tbody>\n",
       "</table>\n",
       "</div>"
      ],
      "text/plain": [
       "          Name  Accuracy        F1    Recall  Precision  CV_Time(sec)  \\\n",
       "0          fsm  0.644737  0.277592  0.189786   0.517557      0.192745   \n",
       "1     Baseline  0.359649  0.529032  1.000000   0.359649      0.188493   \n",
       "2       knn_ss  0.710344  0.562236  0.517281   0.616008      3.633001   \n",
       "3      lsvc_ss  0.730355  0.563285  0.483994   0.674556      2.488851   \n",
       "4        dt_ss  0.685672  0.567442  0.573427   0.561673      1.594649   \n",
       "5    logreg_ss  0.731725  0.570897  0.496698   0.671987      7.392823   \n",
       "6       ada_ss  0.688140  0.571270  0.577745   0.565062      1.690770   \n",
       "7       svc_ss  0.744426  0.586331  0.504065   0.701327     18.133386   \n",
       "8      bclf_ss  0.747716  0.603371  0.533786   0.694333      9.573603   \n",
       "9        rf_ss  0.758041  0.626232  0.563773   0.704661      9.569614   \n",
       "10      xgb_ss  0.757218  0.632483  0.580790   0.694637      3.348397   \n",
       "11       vc_ss  0.764071  0.640232  0.583838   0.709150     21.084407   \n",
       "12       vc_sm  0.761512  0.658504  0.639480   0.678897     34.695941   \n",
       "13  best_model  0.759320  0.661345  0.653456   0.669626      8.258552   \n",
       "\n",
       "                               Notes  \n",
       "0                    FSM Naive Bayes  \n",
       "1                  Baseline DummyCFL  \n",
       "2                           KNN SS()  \n",
       "3                    Linear SVC SS()  \n",
       "4             Decision Tree CLF SS()  \n",
       "5                        LogReg SS()  \n",
       "6                      AdaBoost SS()  \n",
       "7            Support Vector CLF SS()  \n",
       "8                   Bagging CLF SS()  \n",
       "9                 Random Forest SS()  \n",
       "10                      XGBoost SS()  \n",
       "11                   Voting CLF SS()  \n",
       "12        Voting CLF SS()/SMOTE SOFT  \n",
       "13  Tuned Voting CLF SS()/SMOTE SOFT  "
      ]
     },
     "execution_count": 101,
     "metadata": {},
     "output_type": "execute_result"
    },
    {
     "name": "stdout",
     "output_type": "stream",
     "text": [
      "time: 16 ms\n"
     ]
    }
   ],
   "source": [
    "modeling.history"
   ]
  },
  {
   "cell_type": "markdown",
   "id": "e660cc2f-910c-4285-82b4-cad9885494d5",
   "metadata": {
    "tags": []
   },
   "source": [
    "## Final Modeling Summary"
   ]
  },
  {
   "cell_type": "markdown",
   "id": "da4f1360-2e73-4600-ae80-8bfa82ba94f6",
   "metadata": {
    "jp-MarkdownHeadingCollapsed": true,
    "tags": []
   },
   "source": [
    "Hyperparameter tuning has greatly improved the speed of the and slightly improved performance during 5-fold cross validation, with the model achieving: \n",
    "- Mean F1 = 0.66\n",
    "- Mean recall = 0.65\n",
    "- Mean precision = 0.67"
   ]
  },
  {
   "cell_type": "markdown",
   "id": "836557ab-00bd-4f7d-9df8-691cd5974b58",
   "metadata": {},
   "source": [
    "### Test Data Confusion Matrix"
   ]
  },
  {
   "cell_type": "code",
   "execution_count": 102,
   "id": "19c7b8f1-4fc6-41de-8d0c-b5c6706361f8",
   "metadata": {
    "execution": {
     "iopub.execute_input": "2021-08-27T21:17:32.206706Z",
     "iopub.status.busy": "2021-08-27T21:17:32.206146Z",
     "iopub.status.idle": "2021-08-27T21:17:32.826856Z",
     "shell.execute_reply": "2021-08-27T21:17:32.825843Z",
     "shell.execute_reply.started": "2021-08-27T21:17:32.206661Z"
    },
    "tags": []
   },
   "outputs": [
    {
     "data": {
      "image/png": "[encoded data removed]",
      "text/plain": [
       "<Figure size 504x504 with 2 Axes>"
      ]
     },
     "metadata": {},
     "output_type": "display_data"
    },
    {
     "data": {
      "text/html": [
       "<div>\n",
       "<style scoped>\n",
       "    .dataframe tbody tr th:only-of-type {\n",
       "        vertical-align: middle;\n",
       "    }\n",
       "\n",
       "    .dataframe tbody tr th {\n",
       "        vertical-align: top;\n",
       "    }\n",
       "\n",
       "    .dataframe thead th {\n",
       "        text-align: right;\n",
       "    }\n",
       "</style>\n",
       "<table border=\"1\" class=\"dataframe\">\n",
       "  <thead>\n",
       "    <tr style=\"text-align: right;\">\n",
       "      <th></th>\n",
       "      <th>Accuracy</th>\n",
       "      <th>F1</th>\n",
       "      <th>Recall</th>\n",
       "      <th>Precision</th>\n",
       "    </tr>\n",
       "  </thead>\n",
       "  <tbody>\n",
       "    <tr>\n",
       "      <th>0</th>\n",
       "      <td>0.767608</td>\n",
       "      <td>0.669782</td>\n",
       "      <td>0.655488</td>\n",
       "      <td>0.684713</td>\n",
       "    </tr>\n",
       "  </tbody>\n",
       "</table>\n",
       "</div>"
      ],
      "text/plain": [
       "   Accuracy        F1    Recall  Precision\n",
       "0  0.767608  0.669782  0.655488   0.684713"
      ]
     },
     "execution_count": 102,
     "metadata": {},
     "output_type": "execute_result"
    },
    {
     "name": "stdout",
     "output_type": "stream",
     "text": [
      "time: 546 ms\n"
     ]
    }
   ],
   "source": [
    "f.confusion_report(best_model, X_test, y_test)"
   ]
  },
  {
   "cell_type": "markdown",
   "id": "013c26ef-063d-45d0-bcee-915da2c0f927",
   "metadata": {
    "tags": []
   },
   "source": [
    "## Final Model Test Score Interpretation:\n",
    "\n",
    "Upon validation with the test data we see that the model is still having some trouble the minority class, but performance has been improved to a level that is acceptable for our purposes.\n",
    "\n",
    "- The recall score of .66 indicates that about 66% outcomes were correctly classified as Unsatisfactory.\n",
    "- The precision score .68 indicates that about 68% of outcomes classified as Unsatisfactory were truly Unsatisfactory."
   ]
  },
  {
   "cell_type": "markdown",
   "id": "cff7eee1-709f-4d89-bc74-7da8f4a8886e",
   "metadata": {
    "tags": []
   },
   "source": [
    "# Saving Model"
   ]
  },
  {
   "cell_type": "code",
   "execution_count": 103,
   "id": "1e2a1888-5b2a-4fc2-92b3-fb1a461f560b",
   "metadata": {
    "execution": {
     "iopub.execute_input": "2021-08-27T21:17:32.829030Z",
     "iopub.status.busy": "2021-08-27T21:17:32.828524Z",
     "iopub.status.idle": "2021-08-27T21:17:32.890060Z",
     "shell.execute_reply": "2021-08-27T21:17:32.889016Z",
     "shell.execute_reply.started": "2021-08-27T21:17:32.828999Z"
    }
   },
   "outputs": [
    {
     "name": "stdout",
     "output_type": "stream",
     "text": [
      "time: 654 µs\n"
     ]
    }
   ],
   "source": [
    "# saving the model\n",
    "# f.pickle_model(best_model, 'final')"
   ]
  },
  {
   "cell_type": "markdown",
   "id": "83233fc0-0991-4ee4-a2a3-f906be61bebb",
   "metadata": {
    "tags": []
   },
   "source": [
    "# F1 Permutation Importances"
   ]
  },
  {
   "cell_type": "code",
   "execution_count": 104,
   "id": "31921e9e-078a-4d84-bcbd-bae7b5725861",
   "metadata": {
    "execution": {
     "iopub.execute_input": "2021-08-27T21:17:32.891920Z",
     "iopub.status.busy": "2021-08-27T21:17:32.891522Z",
     "iopub.status.idle": "2021-08-27T21:17:37.234805Z",
     "shell.execute_reply": "2021-08-27T21:17:37.234240Z",
     "shell.execute_reply.started": "2021-08-27T21:17:32.891877Z"
    },
    "tags": []
   },
   "outputs": [
    {
     "data": {
      "image/png": "[encoded data removed]",
      "text/plain": [
       "<Figure size 1152x576 with 1 Axes>"
      ]
     },
     "metadata": {},
     "output_type": "display_data"
    },
    {
     "name": "stdout",
     "output_type": "stream",
     "text": [
      "time: 4.29 s\n"
     ]
    }
   ],
   "source": [
    "f.perm_importances(best_model, X_test, y_test, 'f1')"
   ]
  },
  {
   "cell_type": "markdown",
   "id": "d4d3e14f-95aa-474b-a7b2-599c8608570a",
   "metadata": {},
   "source": [
    "The assessment score features (median_score, mean_score & weighted_ave) are the main drivers of the model. Interestingly, some of the most statistically significant features (imd_band, highest_education, and course_load) have little to no effect on the model."
   ]
  },
  {
   "cell_type": "markdown",
   "id": "3992c86e-8b16-48d6-8bc8-55ac2d7f48ed",
   "metadata": {},
   "source": [
    "# Validating Model on Holdout Data"
   ]
  },
  {
   "cell_type": "markdown",
   "id": "47cb4e3c-c966-43c3-9eec-07a0bcb6d0b3",
   "metadata": {},
   "source": [
    "### Average Metrics"
   ]
  },
  {
   "cell_type": "code",
   "execution_count": 105,
   "id": "7a32e6f9-5a26-4af9-8e23-59d6a193c20f",
   "metadata": {
    "execution": {
     "iopub.execute_input": "2021-08-27T21:17:37.236110Z",
     "iopub.status.busy": "2021-08-27T21:17:37.235873Z",
     "iopub.status.idle": "2021-08-27T21:17:40.176864Z",
     "shell.execute_reply": "2021-08-27T21:17:40.175850Z",
     "shell.execute_reply.started": "2021-08-27T21:17:37.236086Z"
    },
    "tags": []
   },
   "outputs": [
    {
     "name": "stdout",
     "output_type": "stream",
     "text": [
      "best_model has an average Accuracy of 0.7408016443987667\n",
      "best_model has an average F1 of 0.6306630954880841\n",
      "best_model has an average Recall of 0.6157707736389685\n",
      "best_model has an average Precision of 0.6465969439341758\n",
      "time: 2.89 s\n"
     ]
    }
   ],
   "source": [
    "# checking cross val scores\n",
    "modeling.report(best_model, X_holdout, y_holdout, 'best_model',\\\n",
    "                'Tuned Voting CLF SS()/SMOTE SOFT HOLDOUT')"
   ]
  },
  {
   "cell_type": "markdown",
   "id": "04db0d11-384e-427f-9e73-3304ba144237",
   "metadata": {},
   "source": [
    "### Holdout Data Confusion Matrix"
   ]
  },
  {
   "cell_type": "code",
   "execution_count": 106,
   "id": "64abfae0-4802-480e-b9c7-a395ca2e2c5a",
   "metadata": {
    "execution": {
     "iopub.execute_input": "2021-08-27T21:17:40.179649Z",
     "iopub.status.busy": "2021-08-27T21:17:40.179048Z",
     "iopub.status.idle": "2021-08-27T21:17:40.892522Z",
     "shell.execute_reply": "2021-08-27T21:17:40.891669Z",
     "shell.execute_reply.started": "2021-08-27T21:17:40.179607Z"
    },
    "tags": []
   },
   "outputs": [
    {
     "data": {
      "image/png": "[encoded data removed]",
      "text/plain": [
       "<Figure size 504x504 with 2 Axes>"
      ]
     },
     "metadata": {},
     "output_type": "display_data"
    },
    {
     "data": {
      "text/html": [
       "<div>\n",
       "<style scoped>\n",
       "    .dataframe tbody tr th:only-of-type {\n",
       "        vertical-align: middle;\n",
       "    }\n",
       "\n",
       "    .dataframe tbody tr th {\n",
       "        vertical-align: top;\n",
       "    }\n",
       "\n",
       "    .dataframe thead th {\n",
       "        text-align: right;\n",
       "    }\n",
       "</style>\n",
       "<table border=\"1\" class=\"dataframe\">\n",
       "  <thead>\n",
       "    <tr style=\"text-align: right;\">\n",
       "      <th></th>\n",
       "      <th>Accuracy</th>\n",
       "      <th>F1</th>\n",
       "      <th>Recall</th>\n",
       "      <th>Precision</th>\n",
       "    </tr>\n",
       "  </thead>\n",
       "  <tbody>\n",
       "    <tr>\n",
       "      <th>0</th>\n",
       "      <td>0.759712</td>\n",
       "      <td>0.657084</td>\n",
       "      <td>0.640366</td>\n",
       "      <td>0.674699</td>\n",
       "    </tr>\n",
       "  </tbody>\n",
       "</table>\n",
       "</div>"
      ],
      "text/plain": [
       "   Accuracy        F1    Recall  Precision\n",
       "0  0.759712  0.657084  0.640366   0.674699"
      ]
     },
     "execution_count": 106,
     "metadata": {},
     "output_type": "execute_result"
    },
    {
     "name": "stdout",
     "output_type": "stream",
     "text": [
      "time: 628 ms\n"
     ]
    }
   ],
   "source": [
    "f.confusion_report(best_model, X_holdout, y_holdout)"
   ]
  },
  {
   "cell_type": "markdown",
   "id": "85eb40e1-aeaf-4ab0-83ba-1e27f3ac47d2",
   "metadata": {
    "tags": []
   },
   "source": [
    "## Score Interpretation:\n",
    "\n",
    "Upon validation with the holdout data we see that the model is still having some trouble the minority class, but performance is at a level that is acceptable for our purposes.\n",
    "\n",
    "- The recall score of .64 indicates that about 64% outcomes were correctly classified as Unsatisfactory.\n",
    "- The precision score .67 indicates that about 67% of outcomes classified as Unsatisfactory were truly Unsatisfactory."
   ]
  },
  {
   "cell_type": "markdown",
   "id": "4aa30eaa-1591-402f-9615-475294fd2ea1",
   "metadata": {},
   "source": [
    "# ROC AUC"
   ]
  },
  {
   "cell_type": "code",
   "execution_count": 107,
   "id": "a6860ded-1e5c-48c2-bef9-02063194a9f5",
   "metadata": {
    "execution": {
     "iopub.execute_input": "2021-08-27T21:17:40.894482Z",
     "iopub.status.busy": "2021-08-27T21:17:40.893965Z",
     "iopub.status.idle": "2021-08-27T21:17:41.847408Z",
     "shell.execute_reply": "2021-08-27T21:17:41.846810Z",
     "shell.execute_reply.started": "2021-08-27T21:17:40.894449Z"
    },
    "tags": []
   },
   "outputs": [
    {
     "data": {
      "image/png": "[encoded data removed]",
      "text/plain": [
       "<Figure size 720x576 with 1 Axes>"
      ]
     },
     "metadata": {},
     "output_type": "display_data"
    },
    {
     "name": "stdout",
     "output_type": "stream",
     "text": [
      "time: 895 ms\n"
     ]
    }
   ],
   "source": [
    "f.roc_auc(best_model, X_holdout, y_holdout)"
   ]
  },
  {
   "cell_type": "markdown",
   "id": "974c56d9-c5ff-4c2a-8ef1-5dc0499d57c6",
   "metadata": {},
   "source": [
    "# Saving The Model Fit on All of the Half-Term Data"
   ]
  },
  {
   "cell_type": "code",
   "execution_count": 108,
   "id": "41657b81-9755-4481-b637-445450b78766",
   "metadata": {
    "execution": {
     "iopub.execute_input": "2021-08-27T21:17:41.848698Z",
     "iopub.status.busy": "2021-08-27T21:17:41.848468Z",
     "iopub.status.idle": "2021-08-27T21:17:45.860965Z",
     "shell.execute_reply": "2021-08-27T21:17:45.859915Z",
     "shell.execute_reply.started": "2021-08-27T21:17:41.848677Z"
    },
    "tags": []
   },
   "outputs": [
    {
     "name": "stdout",
     "output_type": "stream",
     "text": [
      "time: 3.96 s\n"
     ]
    }
   ],
   "source": [
    "# fitting model to all of the data\n",
    "best_model_full = best_model.fit(X,y)"
   ]
  },
  {
   "cell_type": "code",
   "execution_count": 109,
   "id": "43c0ffd9-cc07-43bd-8da8-5f78cca167d1",
   "metadata": {
    "execution": {
     "iopub.execute_input": "2021-08-27T21:17:45.862860Z",
     "iopub.status.busy": "2021-08-27T21:17:45.862595Z",
     "iopub.status.idle": "2021-08-27T21:17:45.927589Z",
     "shell.execute_reply": "2021-08-27T21:17:45.926318Z",
     "shell.execute_reply.started": "2021-08-27T21:17:45.862825Z"
    },
    "tags": []
   },
   "outputs": [
    {
     "name": "stdout",
     "output_type": "stream",
     "text": [
      "time: 1.11 ms\n"
     ]
    }
   ],
   "source": [
    "# saving the model\n",
    "# f.pickle_model(best_model_full, 'final_full_fit')"
   ]
  }
 ],
 "metadata": {
  "kernelspec": {
   "display_name": "oo",
   "language": "python",
   "name": "oo"
  },
  "language_info": {
   "codemirror_mode": {
    "name": "ipython",
    "version": 3
   },
   "file_extension": ".py",
   "mimetype": "text/x-python",
   "name": "python",
   "nbconvert_exporter": "python",
   "pygments_lexer": "ipython3",
   "version": "3.9.6"
  },
  "toc-showmarkdowntxt": false
 },
 "nbformat": 4,
 "nbformat_minor": 5
}
