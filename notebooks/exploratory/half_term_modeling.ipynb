{
 "cells": [
  {
   "cell_type": "code",
   "execution_count": 1,
   "id": "94cfc82d-3bfe-4d45-9491-7367137242dc",
   "metadata": {
    "execution": {
     "iopub.execute_input": "2021-11-29T22:38:40.640771Z",
     "iopub.status.busy": "2021-11-29T22:38:40.640022Z",
     "iopub.status.idle": "2021-11-29T22:38:40.682292Z",
     "shell.execute_reply": "2021-11-29T22:38:40.680213Z",
     "shell.execute_reply.started": "2021-11-29T22:38:40.640669Z"
    },
    "tags": []
   },
   "outputs": [],
   "source": [
    "%load_ext autoreload\n",
    "%load_ext autotime\n",
    "%autoreload 2"
   ]
  },
  {
   "cell_type": "markdown",
   "id": "f36ef01c-d2f6-42f7-aa57-a07ac54e396e",
   "metadata": {},
   "source": [
    "## Imports & Settings"
   ]
  },
  {
   "cell_type": "code",
   "execution_count": 2,
   "id": "42187a70-280e-4b78-88b6-e45897794eb1",
   "metadata": {
    "execution": {
     "iopub.execute_input": "2021-11-29T22:38:40.684446Z",
     "iopub.status.busy": "2021-11-29T22:38:40.683784Z",
     "iopub.status.idle": "2021-11-29T22:38:43.683907Z",
     "shell.execute_reply": "2021-11-29T22:38:43.683155Z",
     "shell.execute_reply.started": "2021-11-29T22:38:40.684417Z"
    },
    "tags": []
   },
   "outputs": [
    {
     "name": "stdout",
     "output_type": "stream",
     "text": [
      "time: 2.97 s\n"
     ]
    }
   ],
   "source": [
    "# importing standard packages\n",
    "import os\n",
    "import sys\n",
    "import warnings\n",
    "\n",
    "# setting project path\n",
    "gparent = os.path.join(os.pardir, os.pardir)\n",
    "sys.path.append(gparent)\n",
    "\n",
    "# importing 3rd party packages\n",
    "from imblearn.over_sampling import SMOTE\n",
    "from imblearn.pipeline import make_pipeline as make_sm_pipeline\n",
    "import matplotlib.pyplot as plt\n",
    "import pandas as pd\n",
    "import numpy as np\n",
    "import seaborn as sns\n",
    "from sklearn.compose import make_column_selector, make_column_transformer\n",
    "from sklearn.dummy import DummyClassifier\n",
    "from sklearn.ensemble import (BaggingClassifier, AdaBoostClassifier,\n",
    "                              RandomForestClassifier, VotingClassifier)\n",
    "from sklearn.inspection import permutation_importance\n",
    "from sklearn.linear_model import LogisticRegression\n",
    "from sklearn.metrics import (accuracy_score, recall_score, precision_score,\n",
    "                             f1_score, make_scorer)\n",
    "from sklearn.model_selection import RandomizedSearchCV\n",
    "from sklearn.naive_bayes import MultinomialNB\n",
    "from sklearn.neighbors import KNeighborsClassifier\n",
    "from sklearn.pipeline import make_pipeline \n",
    "from sklearn.preprocessing import OneHotEncoder, StandardScaler\n",
    "from sklearn.svm import SVC, LinearSVC \n",
    "from sklearn.tree import DecisionTreeClassifier\n",
    "from xgboost import XGBClassifier\n",
    "\n",
    "# importing local packages\n",
    "from src import class_Cleaner as c\n",
    "from src import class_Database as d\n",
    "from src import class_Harness as h\n",
    "from src import helper_functions as f\n",
    "from src import visualizations as v\n",
    "\n",
    "# setting style\n",
    "%matplotlib inline\n",
    "sns.set_theme('talk')\n",
    "plt.style.use('fivethirtyeight')\n",
    "sns.set_palette('GnBu_r')\n",
    "pd.options.display.max_rows = 300"
   ]
  },
  {
   "cell_type": "markdown",
   "id": "f64cbb03-e0bd-46bb-9c49-02b4079e2b19",
   "metadata": {
    "tags": []
   },
   "source": [
    "## Creating the Database and Instantiating a Database Object"
   ]
  },
  {
   "cell_type": "code",
   "execution_count": 3,
   "id": "c6b7bc9b-15ae-47e2-b051-54137915f739",
   "metadata": {
    "execution": {
     "iopub.execute_input": "2021-11-29T22:38:43.685880Z",
     "iopub.status.busy": "2021-11-29T22:38:43.685649Z",
     "iopub.status.idle": "2021-11-29T22:38:43.732865Z",
     "shell.execute_reply": "2021-11-29T22:38:43.732116Z",
     "shell.execute_reply.started": "2021-11-29T22:38:43.685859Z"
    },
    "tags": []
   },
   "outputs": [
    {
     "name": "stdout",
     "output_type": "stream",
     "text": [
      "time: 1.31 ms\n"
     ]
    }
   ],
   "source": [
    "# creating database & database class instance\n",
    "database_name = 'outcomes.db'\n",
    "db = d.Database(database_name)"
   ]
  },
  {
   "cell_type": "markdown",
   "id": "917c5417-d8f5-4e3f-a2f1-5edb23c13a1f",
   "metadata": {
    "tags": []
   },
   "source": [
    "## Populating the Database"
   ]
  },
  {
   "cell_type": "markdown",
   "id": "cd0985f1-4f69-44c8-a340-edfe6ae1ce38",
   "metadata": {},
   "source": [
    "**If necessary, run the cell below to populate the database.**"
   ]
  },
  {
   "cell_type": "code",
   "execution_count": 4,
   "id": "da68c0f3-d35e-448c-8330-c09c435d2600",
   "metadata": {
    "execution": {
     "iopub.execute_input": "2021-11-29T22:38:43.734824Z",
     "iopub.status.busy": "2021-11-29T22:38:43.734479Z",
     "iopub.status.idle": "2021-11-29T22:38:43.781733Z",
     "shell.execute_reply": "2021-11-29T22:38:43.780496Z",
     "shell.execute_reply.started": "2021-11-29T22:38:43.734781Z"
    },
    "tags": []
   },
   "outputs": [
    {
     "name": "stdout",
     "output_type": "stream",
     "text": [
      "time: 462 µs\n"
     ]
    }
   ],
   "source": [
    "# file_name = 'anonymisedData.zip'\n",
    "# db.populate(file_name, database_name)"
   ]
  },
  {
   "cell_type": "markdown",
   "id": "0fbfb5af-1406-479a-a461-22d31a64d780",
   "metadata": {},
   "source": [
    "## Instantiating a Cleaner Object"
   ]
  },
  {
   "cell_type": "code",
   "execution_count": 5,
   "id": "54931407-8145-4859-8659-fb27355faf00",
   "metadata": {
    "execution": {
     "iopub.execute_input": "2021-11-29T22:38:43.783306Z",
     "iopub.status.busy": "2021-11-29T22:38:43.783108Z",
     "iopub.status.idle": "2021-11-29T22:38:43.831682Z",
     "shell.execute_reply": "2021-11-29T22:38:43.831132Z",
     "shell.execute_reply.started": "2021-11-29T22:38:43.783286Z"
    }
   },
   "outputs": [
    {
     "name": "stdout",
     "output_type": "stream",
     "text": [
      "time: 1.41 ms\n"
     ]
    }
   ],
   "source": [
    "cl = c.Cleaner(database_name)"
   ]
  },
  {
   "cell_type": "markdown",
   "id": "201ad092-c2bf-4251-b5bd-a727c1870e86",
   "metadata": {
    "tags": []
   },
   "source": [
    "## Preprocessing and Harness Objects\n",
    "Creating column selectors, transformers, scorers, and a SMOTE instance for the pipeline. Also, instantiating a harness object to record the modeling process."
   ]
  },
  {
   "cell_type": "code",
   "execution_count": 6,
   "id": "e656dfa8-d422-4924-899f-df466499f5b9",
   "metadata": {
    "execution": {
     "iopub.execute_input": "2021-11-29T22:38:43.832866Z",
     "iopub.status.busy": "2021-11-29T22:38:43.832586Z",
     "iopub.status.idle": "2021-11-29T22:38:43.884168Z",
     "shell.execute_reply": "2021-11-29T22:38:43.883106Z",
     "shell.execute_reply.started": "2021-11-29T22:38:43.832843Z"
    },
    "tags": []
   },
   "outputs": [
    {
     "name": "stdout",
     "output_type": "stream",
     "text": [
      "time: 3.9 ms\n"
     ]
    }
   ],
   "source": [
    "string_selector = make_column_selector(dtype_include='object')\n",
    "number_selector = make_column_selector(dtype_include='number', dtype_exclude='object')\n",
    "\n",
    "preprocessing_ohe = make_column_transformer((OneHotEncoder\n",
    "                                         (handle_unknown='ignore'),string_selector))\n",
    "preprocessing_ss = make_column_transformer((OneHotEncoder\n",
    "                                         (handle_unknown='ignore'),string_selector),\n",
    "                                          (StandardScaler(), number_selector))\n",
    "sm = SMOTE(random_state=2021)\n",
    "\n",
    "# creating accuracy scorer\n",
    "accuracy = f.acc_score\n",
    "\n",
    "# creating f1 scorer\n",
    "f1 = f.f1\n",
    "\n",
    "# creating recall scorer \n",
    "recall = f.recall\n",
    "\n",
    "# creating precision scorer\n",
    "precision = f.precision\n",
    "\n",
    "# creating Harness\n",
    "modeling = h.Harness(('accuracy', 'f1', 'recall', 'precision'))"
   ]
  },
  {
   "cell_type": "markdown",
   "id": "75a36437-a1cf-4d92-b454-8d18e1aed12a",
   "metadata": {
    "execution": {
     "iopub.execute_input": "2021-08-22T04:34:59.419541Z",
     "iopub.status.busy": "2021-08-22T04:34:59.418987Z",
     "iopub.status.idle": "2021-08-22T04:34:59.485868Z",
     "shell.execute_reply": "2021-08-22T04:34:59.485007Z",
     "shell.execute_reply.started": "2021-08-22T04:34:59.419482Z"
    },
    "tags": []
   },
   "source": [
    "## Half Term Data"
   ]
  },
  {
   "cell_type": "markdown",
   "id": "7783ca7c-b3f3-4ed1-804e-a0fcab641f5d",
   "metadata": {
    "jp-MarkdownHeadingCollapsed": true,
    "tags": []
   },
   "source": [
    "In order to be able to predict unsatisfactory outcomes while there is still time to intervene, we limited the model to data logged upto the halfway of the courses. Since the median course length is 240 days, a cutoff point of 120 days was chosen. Further, students who withdrew before the 120th day were dropped from the data, since their outcome was fully determined within the 120 day window.\n",
    "\n",
    "The data was collected into an SQL database, and a data frame was constructed from the various database tables. During the creation process, the multiclass `final_result` feature was binarized into a `target` feature with classes Satisfactory (Pass, Distinction), and Unsatisfactory (Withdrawn, Fail). A `row_id` feature was constructed to identify unique student-course-semester combinations, and a `sum_activity` feature was added to quantify the level of a student's interaction with the course material. Lastly, `weighted_ave`,  `mean_score`, and `median_score` were derived from the each row's  assessment data. "
   ]
  },
  {
   "cell_type": "code",
   "execution_count": 7,
   "id": "ce7ae2c4-0dea-45be-a302-5d647d8fb345",
   "metadata": {
    "execution": {
     "iopub.execute_input": "2021-11-29T22:38:43.886111Z",
     "iopub.status.busy": "2021-11-29T22:38:43.885727Z",
     "iopub.status.idle": "2021-11-29T22:38:53.869216Z",
     "shell.execute_reply": "2021-11-29T22:38:53.868524Z",
     "shell.execute_reply.started": "2021-11-29T22:38:43.886085Z"
    },
    "tags": []
   },
   "outputs": [
    {
     "name": "stdout",
     "output_type": "stream",
     "text": [
      "time: 9.94 s\n"
     ]
    }
   ],
   "source": [
    "df = cl.data_prep_half(120)"
   ]
  },
  {
   "cell_type": "code",
   "execution_count": 8,
   "id": "bba58aa5-e2b0-4e05-9a4d-90acece1d61a",
   "metadata": {
    "execution": {
     "iopub.execute_input": "2021-11-29T22:38:53.870577Z",
     "iopub.status.busy": "2021-11-29T22:38:53.870423Z",
     "iopub.status.idle": "2021-11-29T22:38:53.953896Z",
     "shell.execute_reply": "2021-11-29T22:38:53.953314Z",
     "shell.execute_reply.started": "2021-11-29T22:38:53.870561Z"
    },
    "tags": []
   },
   "outputs": [
    {
     "name": "stdout",
     "output_type": "stream",
     "text": [
      "<class 'pandas.core.frame.DataFrame'>\n",
      "Int64Index: 24770 entries, 0 to 24769\n",
      "Data columns (total 27 columns):\n",
      " #   Column                Non-Null Count  Dtype  \n",
      "---  ------                --------------  -----  \n",
      " 0   target                23261 non-null  float64\n",
      " 1   row_id                24770 non-null  object \n",
      " 2   score                 23237 non-null  object \n",
      " 3   gender                23261 non-null  object \n",
      " 4   region                23261 non-null  object \n",
      " 5   highest_education     23261 non-null  object \n",
      " 6   imd_band              22335 non-null  object \n",
      " 7   age_band              23261 non-null  object \n",
      " 8   num_of_prev_attempts  23261 non-null  float64\n",
      " 9   studied_credits       23261 non-null  float64\n",
      " 10  disability            23261 non-null  object \n",
      " 11  final_result          23261 non-null  object \n",
      " 12  date_sub              23261 non-null  float64\n",
      " 13  course_length         23261 non-null  float64\n",
      " 14  weighted_ave          23255 non-null  float64\n",
      " 15  mean_score            23255 non-null  float64\n",
      " 16  median_score          23255 non-null  float64\n",
      " 17  code_module           23261 non-null  object \n",
      " 18  code_presentation     23261 non-null  object \n",
      " 19  id_student            23261 non-null  object \n",
      " 20  id_site               23261 non-null  object \n",
      " 21  date                  23261 non-null  object \n",
      " 22  sum_click             23261 non-null  object \n",
      " 23  sum_activity          23261 non-null  float64\n",
      " 24  max_date              23261 non-null  float64\n",
      " 25  date_registration     24770 non-null  float64\n",
      " 26  date_unregistration   2255 non-null   float64\n",
      "dtypes: float64(12), object(15)\n",
      "memory usage: 5.3+ MB\n",
      "time: 35.4 ms\n"
     ]
    }
   ],
   "source": [
    "df.info()"
   ]
  },
  {
   "cell_type": "markdown",
   "id": "fb3cafa0-c002-4a6f-b9f7-ef4ca2c44ef2",
   "metadata": {},
   "source": [
    "## Data Preparation"
   ]
  },
  {
   "cell_type": "code",
   "execution_count": 9,
   "id": "a5935a5c-a491-46c9-9fbf-da3703c89423",
   "metadata": {
    "execution": {
     "iopub.execute_input": "2021-11-29T22:38:53.957508Z",
     "iopub.status.busy": "2021-11-29T22:38:53.957110Z",
     "iopub.status.idle": "2021-11-29T22:38:54.006155Z",
     "shell.execute_reply": "2021-11-29T22:38:54.005138Z",
     "shell.execute_reply.started": "2021-11-29T22:38:53.957489Z"
    },
    "tags": []
   },
   "outputs": [
    {
     "name": "stdout",
     "output_type": "stream",
     "text": [
      "time: 928 µs\n"
     ]
    }
   ],
   "source": [
    "drops = ['row_id', 'studied_credits', 'final_result',\n",
    "         'id_site', 'sum_click', 'date_sub', 'date',\n",
    "         'score','course_length', 'date_registration',\n",
    "         'date_unregistration', 'max_date', 'code_presentation',\n",
    "         'id_student', 'activity_level']"
   ]
  },
  {
   "cell_type": "code",
   "execution_count": 10,
   "id": "32260425-9873-4c48-ba1a-f656ede80ab6",
   "metadata": {
    "execution": {
     "iopub.execute_input": "2021-11-29T22:38:54.008147Z",
     "iopub.status.busy": "2021-11-29T22:38:54.007862Z",
     "iopub.status.idle": "2021-11-29T22:38:54.146777Z",
     "shell.execute_reply": "2021-11-29T22:38:54.146091Z",
     "shell.execute_reply.started": "2021-11-29T22:38:54.008126Z"
    },
    "tags": []
   },
   "outputs": [
    {
     "name": "stdout",
     "output_type": "stream",
     "text": [
      "time: 91.4 ms\n"
     ]
    }
   ],
   "source": [
    "df = cl.pipe_cleaner_wa(df, drops).reset_index(drop=True)"
   ]
  },
  {
   "cell_type": "markdown",
   "id": "1b158329-c6a3-483d-8619-ed35d1643e98",
   "metadata": {},
   "source": [
    "After the data frame was created various cosmetic fixes were applied to the data, and outliers were dropped from the `studied_credits`, `weighted_ave`, and `sum_activity` features using IQR fences. A categorical `course_load` feature was derived by binning `studied_credits`, and a categorical `activity_level` feature was created by binning `sum_activity`. The `course_load` feature was used during the modeling process, and `activity_level` was used for statistical testing when while investigating business recommendations. Lastly, null values and extraneous columns were dropped in preparation of the modeling process."
   ]
  },
  {
   "cell_type": "code",
   "execution_count": 11,
   "id": "cb04436b-916e-4c51-8a4a-1d4e1228a5ea",
   "metadata": {
    "execution": {
     "iopub.execute_input": "2021-11-29T22:38:54.148285Z",
     "iopub.status.busy": "2021-11-29T22:38:54.148039Z",
     "iopub.status.idle": "2021-11-29T22:38:54.209636Z",
     "shell.execute_reply": "2021-11-29T22:38:54.209123Z",
     "shell.execute_reply.started": "2021-11-29T22:38:54.148257Z"
    },
    "tags": []
   },
   "outputs": [
    {
     "name": "stdout",
     "output_type": "stream",
     "text": [
      "<class 'pandas.core.frame.DataFrame'>\n",
      "RangeIndex: 19458 entries, 0 to 19457\n",
      "Data columns (total 14 columns):\n",
      " #   Column                Non-Null Count  Dtype   \n",
      "---  ------                --------------  -----   \n",
      " 0   target                19458 non-null  float64 \n",
      " 1   gender                19458 non-null  object  \n",
      " 2   region                19458 non-null  object  \n",
      " 3   highest_education     19458 non-null  object  \n",
      " 4   imd_band              19458 non-null  object  \n",
      " 5   age_band              19458 non-null  object  \n",
      " 6   num_of_prev_attempts  19458 non-null  float64 \n",
      " 7   disability            19458 non-null  object  \n",
      " 8   weighted_ave          19458 non-null  float64 \n",
      " 9   mean_score            19458 non-null  float64 \n",
      " 10  median_score          19458 non-null  float64 \n",
      " 11  code_module           19458 non-null  object  \n",
      " 12  sum_activity          19458 non-null  float64 \n",
      " 13  course_load           19458 non-null  category\n",
      "dtypes: category(1), float64(6), object(7)\n",
      "memory usage: 1.9+ MB\n",
      "time: 15.4 ms\n"
     ]
    }
   ],
   "source": [
    "df.info()"
   ]
  },
  {
   "cell_type": "markdown",
   "id": "44f6016d-7423-4dbf-a11d-9b3efd088382",
   "metadata": {},
   "source": [
    "## Features Used"
   ]
  },
  {
   "cell_type": "markdown",
   "id": "42000c26-f789-41f9-b16f-d620fd766bcb",
   "metadata": {
    "execution": {
     "iopub.execute_input": "2021-08-21T23:41:11.261495Z",
     "iopub.status.busy": "2021-08-21T23:41:11.261113Z",
     "iopub.status.idle": "2021-08-21T23:41:11.321962Z",
     "shell.execute_reply": "2021-08-21T23:41:11.321173Z",
     "shell.execute_reply.started": "2021-08-21T23:41:11.261451Z"
    },
    "tags": []
   },
   "source": [
    "The following features will be used in the modeling process:\n",
    "    \n",
    "-  gender: The gender of the student.    \n",
    "-  region: The geographic region of the student.   \n",
    "- highest_education: The education level of the student.   \n",
    "- imd_band: A measure of economic status based on geographic location.   \n",
    "- age_band: The age cohort of the student.   \n",
    "- num_of_prev_attempts: The number of times the student has attempted the class.   \n",
    "- disability: The disability status of the student.\n",
    "- weighted_ave: The weighted average of the student's assessment scores.\n",
    "- mean_score: The student's mean assessment score.\n",
    "- median_score: The student's median assessment score.\n",
    "- sum_activity: The sum of the activities, and the number of clicks for each activity, that the student logged.\n",
    "- code_module: The three letter code of the course.\n",
    "- course_load: A three level categorization of the total credits the student was enrolled in at the time of the course.\n",
    "    "
   ]
  },
  {
   "cell_type": "markdown",
   "id": "82715dec-3b27-4bc1-aa5a-277f3a62df9c",
   "metadata": {},
   "source": [
    "## Summary Statistics for the Numerical Features"
   ]
  },
  {
   "cell_type": "code",
   "execution_count": 12,
   "id": "563db219-4da6-4297-ab86-85db486a3b99",
   "metadata": {
    "execution": {
     "iopub.execute_input": "2021-11-29T22:38:54.210898Z",
     "iopub.status.busy": "2021-11-29T22:38:54.210676Z",
     "iopub.status.idle": "2021-11-29T22:38:54.284855Z",
     "shell.execute_reply": "2021-11-29T22:38:54.284155Z",
     "shell.execute_reply.started": "2021-11-29T22:38:54.210879Z"
    },
    "tags": []
   },
   "outputs": [
    {
     "data": {
      "text/html": [
       "<div>\n",
       "<style scoped>\n",
       "    .dataframe tbody tr th:only-of-type {\n",
       "        vertical-align: middle;\n",
       "    }\n",
       "\n",
       "    .dataframe tbody tr th {\n",
       "        vertical-align: top;\n",
       "    }\n",
       "\n",
       "    .dataframe thead th {\n",
       "        text-align: right;\n",
       "    }\n",
       "</style>\n",
       "<table border=\"1\" class=\"dataframe\">\n",
       "  <thead>\n",
       "    <tr style=\"text-align: right;\">\n",
       "      <th></th>\n",
       "      <th>target</th>\n",
       "      <th>num_of_prev_attempts</th>\n",
       "      <th>weighted_ave</th>\n",
       "      <th>mean_score</th>\n",
       "      <th>median_score</th>\n",
       "      <th>sum_activity</th>\n",
       "    </tr>\n",
       "  </thead>\n",
       "  <tbody>\n",
       "    <tr>\n",
       "      <th>count</th>\n",
       "      <td>19458.000000</td>\n",
       "      <td>19458.000000</td>\n",
       "      <td>19458.000000</td>\n",
       "      <td>19458.000000</td>\n",
       "      <td>19458.000000</td>\n",
       "      <td>19458.000000</td>\n",
       "    </tr>\n",
       "    <tr>\n",
       "      <th>mean</th>\n",
       "      <td>0.359595</td>\n",
       "      <td>0.140713</td>\n",
       "      <td>106.436972</td>\n",
       "      <td>74.288758</td>\n",
       "      <td>74.583256</td>\n",
       "      <td>901.266780</td>\n",
       "    </tr>\n",
       "    <tr>\n",
       "      <th>std</th>\n",
       "      <td>0.479894</td>\n",
       "      <td>0.449925</td>\n",
       "      <td>65.628103</td>\n",
       "      <td>15.207932</td>\n",
       "      <td>15.078946</td>\n",
       "      <td>724.074213</td>\n",
       "    </tr>\n",
       "    <tr>\n",
       "      <th>min</th>\n",
       "      <td>0.000000</td>\n",
       "      <td>0.000000</td>\n",
       "      <td>0.000000</td>\n",
       "      <td>0.000000</td>\n",
       "      <td>0.000000</td>\n",
       "      <td>2.000000</td>\n",
       "    </tr>\n",
       "    <tr>\n",
       "      <th>25%</th>\n",
       "      <td>0.000000</td>\n",
       "      <td>0.000000</td>\n",
       "      <td>60.800000</td>\n",
       "      <td>66.400000</td>\n",
       "      <td>66.500000</td>\n",
       "      <td>345.000000</td>\n",
       "    </tr>\n",
       "    <tr>\n",
       "      <th>50%</th>\n",
       "      <td>0.000000</td>\n",
       "      <td>0.000000</td>\n",
       "      <td>113.020000</td>\n",
       "      <td>77.400000</td>\n",
       "      <td>77.500000</td>\n",
       "      <td>694.000000</td>\n",
       "    </tr>\n",
       "    <tr>\n",
       "      <th>75%</th>\n",
       "      <td>1.000000</td>\n",
       "      <td>0.000000</td>\n",
       "      <td>152.000000</td>\n",
       "      <td>85.000000</td>\n",
       "      <td>85.000000</td>\n",
       "      <td>1268.750000</td>\n",
       "    </tr>\n",
       "    <tr>\n",
       "      <th>max</th>\n",
       "      <td>1.000000</td>\n",
       "      <td>6.000000</td>\n",
       "      <td>299.920000</td>\n",
       "      <td>100.000000</td>\n",
       "      <td>100.000000</td>\n",
       "      <td>3179.000000</td>\n",
       "    </tr>\n",
       "  </tbody>\n",
       "</table>\n",
       "</div>"
      ],
      "text/plain": [
       "             target  num_of_prev_attempts  weighted_ave    mean_score  \\\n",
       "count  19458.000000          19458.000000  19458.000000  19458.000000   \n",
       "mean       0.359595              0.140713    106.436972     74.288758   \n",
       "std        0.479894              0.449925     65.628103     15.207932   \n",
       "min        0.000000              0.000000      0.000000      0.000000   \n",
       "25%        0.000000              0.000000     60.800000     66.400000   \n",
       "50%        0.000000              0.000000    113.020000     77.400000   \n",
       "75%        1.000000              0.000000    152.000000     85.000000   \n",
       "max        1.000000              6.000000    299.920000    100.000000   \n",
       "\n",
       "       median_score  sum_activity  \n",
       "count  19458.000000  19458.000000  \n",
       "mean      74.583256    901.266780  \n",
       "std       15.078946    724.074213  \n",
       "min        0.000000      2.000000  \n",
       "25%       66.500000    345.000000  \n",
       "50%       77.500000    694.000000  \n",
       "75%       85.000000   1268.750000  \n",
       "max      100.000000   3179.000000  "
      ]
     },
     "execution_count": 12,
     "metadata": {},
     "output_type": "execute_result"
    },
    {
     "name": "stdout",
     "output_type": "stream",
     "text": [
      "time: 29.8 ms\n"
     ]
    }
   ],
   "source": [
    "df.describe()"
   ]
  },
  {
   "cell_type": "markdown",
   "id": "6df32d97-8feb-4a19-99a4-de2911bf6e3c",
   "metadata": {
    "execution": {
     "iopub.execute_input": "2021-08-02T05:58:12.326167Z",
     "iopub.status.busy": "2021-08-02T05:58:12.325283Z",
     "iopub.status.idle": "2021-08-02T05:58:12.485929Z",
     "shell.execute_reply": "2021-08-02T05:58:12.484654Z",
     "shell.execute_reply.started": "2021-08-02T05:58:12.326095Z"
    },
    "tags": []
   },
   "source": [
    "## Creating Holdout Data"
   ]
  },
  {
   "cell_type": "code",
   "execution_count": 13,
   "id": "d8ba6393-410d-4ac3-87f2-d854f0985584",
   "metadata": {
    "execution": {
     "iopub.execute_input": "2021-11-29T22:38:54.285880Z",
     "iopub.status.busy": "2021-11-29T22:38:54.285731Z",
     "iopub.status.idle": "2021-11-29T22:38:54.332405Z",
     "shell.execute_reply": "2021-11-29T22:38:54.331737Z",
     "shell.execute_reply.started": "2021-11-29T22:38:54.285857Z"
    },
    "tags": []
   },
   "outputs": [
    {
     "name": "stdout",
     "output_type": "stream",
     "text": [
      "time: 3 ms\n"
     ]
    }
   ],
   "source": [
    "# splitting data & target\n",
    "X, y = f.X_y(df)"
   ]
  },
  {
   "cell_type": "code",
   "execution_count": 14,
   "id": "8b35a4f4-5fbf-456c-bbde-d5df7b46967c",
   "metadata": {
    "execution": {
     "iopub.execute_input": "2021-11-29T22:38:54.333696Z",
     "iopub.status.busy": "2021-11-29T22:38:54.333496Z",
     "iopub.status.idle": "2021-11-29T22:38:54.388856Z",
     "shell.execute_reply": "2021-11-29T22:38:54.388253Z",
     "shell.execute_reply.started": "2021-11-29T22:38:54.333678Z"
    },
    "tags": []
   },
   "outputs": [
    {
     "name": "stdout",
     "output_type": "stream",
     "text": [
      "time: 10.9 ms\n"
     ]
    }
   ],
   "source": [
    "# splitting training and holdout data\n",
    "X_training, X_holdout, y_training, y_holdout = f.test_train(X, y)"
   ]
  },
  {
   "cell_type": "markdown",
   "id": "7fc98fd9-e1b1-472a-ae02-98777816437a",
   "metadata": {
    "tags": []
   },
   "source": [
    "## Creating Training Data"
   ]
  },
  {
   "cell_type": "code",
   "execution_count": 15,
   "id": "b8c9b3b4-c2bd-445e-8188-b1f53bc6fd12",
   "metadata": {
    "execution": {
     "iopub.execute_input": "2021-11-29T22:38:54.389986Z",
     "iopub.status.busy": "2021-11-29T22:38:54.389742Z",
     "iopub.status.idle": "2021-11-29T22:38:54.443409Z",
     "shell.execute_reply": "2021-11-29T22:38:54.442667Z",
     "shell.execute_reply.started": "2021-11-29T22:38:54.389964Z"
    },
    "tags": []
   },
   "outputs": [
    {
     "name": "stdout",
     "output_type": "stream",
     "text": [
      "time: 8.58 ms\n"
     ]
    }
   ],
   "source": [
    "# train test split\n",
    "X_train, X_test, y_train, y_test = f.test_train(X_training, y_training)"
   ]
  },
  {
   "cell_type": "code",
   "execution_count": 16,
   "id": "43011997-5371-45fa-a001-e9244eff1b4e",
   "metadata": {
    "execution": {
     "iopub.execute_input": "2021-11-29T22:38:54.444643Z",
     "iopub.status.busy": "2021-11-29T22:38:54.444481Z",
     "iopub.status.idle": "2021-11-29T22:38:54.494754Z",
     "shell.execute_reply": "2021-11-29T22:38:54.494135Z",
     "shell.execute_reply.started": "2021-11-29T22:38:54.444625Z"
    }
   },
   "outputs": [
    {
     "data": {
      "text/plain": [
       "0.0    0.640405\n",
       "1.0    0.359595\n",
       "Name: target, dtype: float64"
      ]
     },
     "execution_count": 16,
     "metadata": {},
     "output_type": "execute_result"
    },
    {
     "name": "stdout",
     "output_type": "stream",
     "text": [
      "time: 4.23 ms\n"
     ]
    }
   ],
   "source": [
    "df.target.value_counts(normalize=True)"
   ]
  },
  {
   "cell_type": "markdown",
   "id": "931fe721-98f3-4255-9c30-fbb055a7ff4e",
   "metadata": {},
   "source": [
    "# Modeling\n",
    "\n",
    "Since we want to indentify as many unsatisfactory outcomes possible while still minimizing false positives, we will use F1 as the metric of our models."
   ]
  },
  {
   "cell_type": "markdown",
   "id": "4788d474-d3e2-43b7-b578-062549052b62",
   "metadata": {
    "tags": []
   },
   "source": [
    "## Baseline Model: Dummy Classifier\n",
    "The classifier will predict the minority class for each observation."
   ]
  },
  {
   "cell_type": "code",
   "execution_count": 17,
   "id": "1e86b922-31ee-4128-ae9c-2c4c68ef2e25",
   "metadata": {
    "execution": {
     "iopub.execute_input": "2021-11-29T22:38:54.497053Z",
     "iopub.status.busy": "2021-11-29T22:38:54.496711Z",
     "iopub.status.idle": "2021-11-29T22:38:54.543893Z",
     "shell.execute_reply": "2021-11-29T22:38:54.543099Z",
     "shell.execute_reply.started": "2021-11-29T22:38:54.497029Z"
    },
    "tags": []
   },
   "outputs": [
    {
     "name": "stdout",
     "output_type": "stream",
     "text": [
      "time: 718 µs\n"
     ]
    }
   ],
   "source": [
    "dummy = DummyClassifier(strategy='constant', constant=1)"
   ]
  },
  {
   "cell_type": "code",
   "execution_count": 18,
   "id": "599ac023-fdc6-4d1f-afaa-a5299c468e39",
   "metadata": {
    "execution": {
     "iopub.execute_input": "2021-11-29T22:38:54.545693Z",
     "iopub.status.busy": "2021-11-29T22:38:54.545349Z",
     "iopub.status.idle": "2021-11-29T22:38:54.592312Z",
     "shell.execute_reply": "2021-11-29T22:38:54.591638Z",
     "shell.execute_reply.started": "2021-11-29T22:38:54.545666Z"
    },
    "tags": []
   },
   "outputs": [
    {
     "name": "stdout",
     "output_type": "stream",
     "text": [
      "time: 721 µs\n"
     ]
    }
   ],
   "source": [
    "baseline = make_pipeline(preprocessing_ohe, dummy)"
   ]
  },
  {
   "cell_type": "markdown",
   "id": "0d0c212d-bb3b-44d5-b4c6-aed634f18bd4",
   "metadata": {
    "tags": []
   },
   "source": [
    "### Fitting Model"
   ]
  },
  {
   "cell_type": "code",
   "execution_count": 19,
   "id": "ec2bd2a3-c0da-46f4-9a75-eb9cbd290f84",
   "metadata": {
    "execution": {
     "iopub.execute_input": "2021-11-29T22:38:54.593697Z",
     "iopub.status.busy": "2021-11-29T22:38:54.593431Z",
     "iopub.status.idle": "2021-11-29T22:38:54.722120Z",
     "shell.execute_reply": "2021-11-29T22:38:54.721155Z",
     "shell.execute_reply.started": "2021-11-29T22:38:54.593675Z"
    },
    "tags": []
   },
   "outputs": [
    {
     "data": {
      "text/plain": [
       "Pipeline(steps=[('columntransformer',\n",
       "                 ColumnTransformer(transformers=[('onehotencoder',\n",
       "                                                  OneHotEncoder(handle_unknown='ignore'),\n",
       "                                                  <sklearn.compose._column_transformer.make_column_selector object at 0x103edec10>)])),\n",
       "                ('dummyclassifier',\n",
       "                 DummyClassifier(constant=1, strategy='constant'))])"
      ]
     },
     "execution_count": 19,
     "metadata": {},
     "output_type": "execute_result"
    },
    {
     "name": "stdout",
     "output_type": "stream",
     "text": [
      "time: 79.9 ms\n"
     ]
    }
   ],
   "source": [
    "baseline.fit(X_train, y_train)"
   ]
  },
  {
   "cell_type": "markdown",
   "id": "048b2687-8362-4e84-a35c-738ed4197adb",
   "metadata": {},
   "source": [
    "### Saving Model"
   ]
  },
  {
   "cell_type": "code",
   "execution_count": 20,
   "id": "b4eb708b-0a82-4081-9ad8-cd8f07734506",
   "metadata": {
    "execution": {
     "iopub.execute_input": "2021-11-29T22:38:54.724254Z",
     "iopub.status.busy": "2021-11-29T22:38:54.723990Z",
     "iopub.status.idle": "2021-11-29T22:38:54.791984Z",
     "shell.execute_reply": "2021-11-29T22:38:54.791210Z",
     "shell.execute_reply.started": "2021-11-29T22:38:54.724224Z"
    },
    "tags": []
   },
   "outputs": [
    {
     "name": "stdout",
     "output_type": "stream",
     "text": [
      "time: 462 µs\n"
     ]
    }
   ],
   "source": [
    "# f.pickle_model(baseline, 'baseline')"
   ]
  },
  {
   "cell_type": "markdown",
   "id": "051a4dbd-1e1d-4ad1-8a04-7f5f6b3a46f1",
   "metadata": {},
   "source": [
    "### Cross Val Scores"
   ]
  },
  {
   "cell_type": "code",
   "execution_count": 21,
   "id": "f524e0f3-0582-4fa1-b9a4-5ef33c3c4c3d",
   "metadata": {
    "execution": {
     "iopub.execute_input": "2021-11-29T22:38:54.792957Z",
     "iopub.status.busy": "2021-11-29T22:38:54.792765Z",
     "iopub.status.idle": "2021-11-29T22:38:55.025710Z",
     "shell.execute_reply": "2021-11-29T22:38:55.024919Z",
     "shell.execute_reply.started": "2021-11-29T22:38:54.792940Z"
    },
    "tags": []
   },
   "outputs": [
    {
     "name": "stdout",
     "output_type": "stream",
     "text": [
      " Baseline has an average Accuracy of 0.3596491264699766\n",
      " Baseline has an average F1 of 0.5290322368027472\n",
      " Baseline has an average Recall of 1.0\n",
      " Baseline has an average Precision of 0.3596491264699766\n",
      "time: 186 ms\n"
     ]
    }
   ],
   "source": [
    "modeling.report(baseline, X_train, y_train, ' Baseline', 'Baseline DummyCFL')"
   ]
  },
  {
   "cell_type": "markdown",
   "id": "d5a77b93-c25d-4fc9-987f-25b67eee97b3",
   "metadata": {},
   "source": [
    "### Test Data Confusion Matrix"
   ]
  },
  {
   "cell_type": "code",
   "execution_count": 22,
   "id": "86df33d6-4019-48fa-9298-85cf602cb085",
   "metadata": {
    "execution": {
     "iopub.execute_input": "2021-11-29T22:38:55.027126Z",
     "iopub.status.busy": "2021-11-29T22:38:55.026978Z",
     "iopub.status.idle": "2021-11-29T22:38:55.335397Z",
     "shell.execute_reply": "2021-11-29T22:38:55.334666Z",
     "shell.execute_reply.started": "2021-11-29T22:38:55.027103Z"
    },
    "tags": []
   },
   "outputs": [
    {
     "data": {
      "image/png": "[encoded data removed]",
      "text/plain": [
       "<Figure size 504x504 with 2 Axes>"
      ]
     },
     "metadata": {},
     "output_type": "display_data"
    },
    {
     "data": {
      "text/html": [
       "<div>\n",
       "<style scoped>\n",
       "    .dataframe tbody tr th:only-of-type {\n",
       "        vertical-align: middle;\n",
       "    }\n",
       "\n",
       "    .dataframe tbody tr th {\n",
       "        vertical-align: top;\n",
       "    }\n",
       "\n",
       "    .dataframe thead th {\n",
       "        text-align: right;\n",
       "    }\n",
       "</style>\n",
       "<table border=\"1\" class=\"dataframe\">\n",
       "  <thead>\n",
       "    <tr style=\"text-align: right;\">\n",
       "      <th></th>\n",
       "      <th>Accuracy</th>\n",
       "      <th>F1</th>\n",
       "      <th>Recall</th>\n",
       "      <th>Precision</th>\n",
       "    </tr>\n",
       "  </thead>\n",
       "  <tbody>\n",
       "    <tr>\n",
       "      <th>0</th>\n",
       "      <td>0.359551</td>\n",
       "      <td>0.528926</td>\n",
       "      <td>1.0</td>\n",
       "      <td>0.359551</td>\n",
       "    </tr>\n",
       "  </tbody>\n",
       "</table>\n",
       "</div>"
      ],
      "text/plain": [
       "   Accuracy        F1  Recall  Precision\n",
       "0  0.359551  0.528926     1.0   0.359551"
      ]
     },
     "execution_count": 22,
     "metadata": {},
     "output_type": "execute_result"
    },
    {
     "name": "stdout",
     "output_type": "stream",
     "text": [
      "time: 222 ms\n"
     ]
    }
   ],
   "source": [
    "%%capture --no-display\n",
    "f.confusion_report(baseline, X_test, y_test)"
   ]
  },
  {
   "cell_type": "markdown",
   "id": "614b2d1e-1a08-4479-b0f5-8c1d182d2b19",
   "metadata": {
    "jp-MarkdownHeadingCollapsed": true,
    "tags": []
   },
   "source": [
    "## Score Interpretation:\n",
    "\n",
    "F1 is a mix of both precision and recall, so the interpretation of the results is more easily given in terms of recall and precision.\n",
    "\n",
    "- From the confusion matrix we see that the baseline model is classifying everything as the minority class, which was expected.\n",
    "- All Unsatisfactory outcomes were correctly classified as Unsatisfactory, so the recall score for this model is 1. \n",
    "- The precision score of .36 indicates that 36% of outcomes classified as Unsatisfactory were truly Unsatisfactory."
   ]
  },
  {
   "cell_type": "markdown",
   "id": "bfd805fe-d7d8-4e4a-86c0-da98e79af849",
   "metadata": {
    "tags": []
   },
   "source": [
    "## First Simple Model: Naive Bayes Classifier\n",
    "We will use a basic classifier for our first simple model."
   ]
  },
  {
   "cell_type": "code",
   "execution_count": 23,
   "id": "6c111326-6469-47a2-9e47-f3d69b0dcdce",
   "metadata": {
    "execution": {
     "iopub.execute_input": "2021-11-29T22:38:55.336586Z",
     "iopub.status.busy": "2021-11-29T22:38:55.336440Z",
     "iopub.status.idle": "2021-11-29T22:38:55.379665Z",
     "shell.execute_reply": "2021-11-29T22:38:55.379107Z",
     "shell.execute_reply.started": "2021-11-29T22:38:55.336570Z"
    },
    "tags": []
   },
   "outputs": [
    {
     "name": "stdout",
     "output_type": "stream",
     "text": [
      "time: 640 µs\n"
     ]
    }
   ],
   "source": [
    "mnb = MultinomialNB()"
   ]
  },
  {
   "cell_type": "code",
   "execution_count": 24,
   "id": "0ea05f5c-62fa-45b8-878b-ec4d5b4219fe",
   "metadata": {
    "execution": {
     "iopub.execute_input": "2021-11-29T22:38:55.381015Z",
     "iopub.status.busy": "2021-11-29T22:38:55.380843Z",
     "iopub.status.idle": "2021-11-29T22:38:55.433910Z",
     "shell.execute_reply": "2021-11-29T22:38:55.433245Z",
     "shell.execute_reply.started": "2021-11-29T22:38:55.380997Z"
    },
    "tags": []
   },
   "outputs": [
    {
     "name": "stdout",
     "output_type": "stream",
     "text": [
      "time: 723 µs\n"
     ]
    }
   ],
   "source": [
    "fsm = make_pipeline(preprocessing_ohe, mnb)"
   ]
  },
  {
   "cell_type": "markdown",
   "id": "14d03080-86fb-4d97-b82d-8358c39da9fd",
   "metadata": {
    "tags": []
   },
   "source": [
    "### Fitting Model"
   ]
  },
  {
   "cell_type": "code",
   "execution_count": 25,
   "id": "4e7b07c4-ccb8-4574-ba83-d05542afa294",
   "metadata": {
    "execution": {
     "iopub.execute_input": "2021-11-29T22:38:55.435493Z",
     "iopub.status.busy": "2021-11-29T22:38:55.435153Z",
     "iopub.status.idle": "2021-11-29T22:38:55.520576Z",
     "shell.execute_reply": "2021-11-29T22:38:55.519990Z",
     "shell.execute_reply.started": "2021-11-29T22:38:55.435463Z"
    },
    "tags": []
   },
   "outputs": [
    {
     "data": {
      "text/plain": [
       "Pipeline(steps=[('columntransformer',\n",
       "                 ColumnTransformer(transformers=[('onehotencoder',\n",
       "                                                  OneHotEncoder(handle_unknown='ignore'),\n",
       "                                                  <sklearn.compose._column_transformer.make_column_selector object at 0x103edec10>)])),\n",
       "                ('multinomialnb', MultinomialNB())])"
      ]
     },
     "execution_count": 25,
     "metadata": {},
     "output_type": "execute_result"
    },
    {
     "name": "stdout",
     "output_type": "stream",
     "text": [
      "time: 36.8 ms\n"
     ]
    }
   ],
   "source": [
    "fsm.fit(X_train, y_train)"
   ]
  },
  {
   "cell_type": "markdown",
   "id": "5478d4a3-dc6c-48da-8d3d-3ce8762a691e",
   "metadata": {},
   "source": [
    "### Saving Model"
   ]
  },
  {
   "cell_type": "code",
   "execution_count": 26,
   "id": "7010a796-48eb-4da8-9aff-4fa2d4d05e92",
   "metadata": {
    "execution": {
     "iopub.execute_input": "2021-11-29T22:38:55.521971Z",
     "iopub.status.busy": "2021-11-29T22:38:55.521790Z",
     "iopub.status.idle": "2021-11-29T22:38:55.569477Z",
     "shell.execute_reply": "2021-11-29T22:38:55.568455Z",
     "shell.execute_reply.started": "2021-11-29T22:38:55.521952Z"
    },
    "tags": []
   },
   "outputs": [
    {
     "name": "stdout",
     "output_type": "stream",
     "text": [
      "time: 496 µs\n"
     ]
    }
   ],
   "source": [
    "# f.pickle_model(fsm, 'fsm')"
   ]
  },
  {
   "cell_type": "markdown",
   "id": "2b946dfb-f51d-4e80-a7a3-52272562e1b1",
   "metadata": {},
   "source": [
    "### Cross Val Scores"
   ]
  },
  {
   "cell_type": "code",
   "execution_count": 27,
   "id": "6682b3bd-cc1e-4400-a887-cae2649488ca",
   "metadata": {
    "execution": {
     "iopub.execute_input": "2021-11-29T22:38:55.577076Z",
     "iopub.status.busy": "2021-11-29T22:38:55.576835Z",
     "iopub.status.idle": "2021-11-29T22:38:55.824196Z",
     "shell.execute_reply": "2021-11-29T22:38:55.823488Z",
     "shell.execute_reply.started": "2021-11-29T22:38:55.577053Z"
    },
    "tags": []
   },
   "outputs": [
    {
     "name": "stdout",
     "output_type": "stream",
     "text": [
      " fsm has an average Accuracy of 0.6565241864967183\n",
      " fsm has an average F1 of 0.34631062761486303\n",
      " fsm has an average Recall of 0.2530466527776882\n",
      " fsm has an average Precision of 0.5493400673472756\n",
      "time: 202 ms\n"
     ]
    }
   ],
   "source": [
    "# checking cross val scores\n",
    "modeling.report(fsm, X_train, y_train, ' fsm', 'FSM Naive Bayes')"
   ]
  },
  {
   "cell_type": "markdown",
   "id": "6de33111-a2d9-4257-98b1-01d6758406fd",
   "metadata": {},
   "source": [
    "### Test Data Confusion Matrix"
   ]
  },
  {
   "cell_type": "code",
   "execution_count": 28,
   "id": "63ed44cb-c256-4900-9107-f85579abc41d",
   "metadata": {
    "execution": {
     "iopub.execute_input": "2021-11-29T22:38:55.825391Z",
     "iopub.status.busy": "2021-11-29T22:38:55.825215Z",
     "iopub.status.idle": "2021-11-29T22:38:56.060691Z",
     "shell.execute_reply": "2021-11-29T22:38:56.059980Z",
     "shell.execute_reply.started": "2021-11-29T22:38:55.825375Z"
    },
    "tags": []
   },
   "outputs": [
    {
     "data": {
      "image/png": "[encoded data removed]",
      "text/plain": [
       "<Figure size 504x504 with 2 Axes>"
      ]
     },
     "metadata": {},
     "output_type": "display_data"
    },
    {
     "data": {
      "text/html": [
       "<div>\n",
       "<style scoped>\n",
       "    .dataframe tbody tr th:only-of-type {\n",
       "        vertical-align: middle;\n",
       "    }\n",
       "\n",
       "    .dataframe tbody tr th {\n",
       "        vertical-align: top;\n",
       "    }\n",
       "\n",
       "    .dataframe thead th {\n",
       "        text-align: right;\n",
       "    }\n",
       "</style>\n",
       "<table border=\"1\" class=\"dataframe\">\n",
       "  <thead>\n",
       "    <tr style=\"text-align: right;\">\n",
       "      <th></th>\n",
       "      <th>Accuracy</th>\n",
       "      <th>F1</th>\n",
       "      <th>Recall</th>\n",
       "      <th>Precision</th>\n",
       "    </tr>\n",
       "  </thead>\n",
       "  <tbody>\n",
       "    <tr>\n",
       "      <th>0</th>\n",
       "      <td>0.649219</td>\n",
       "      <td>0.329843</td>\n",
       "      <td>0.240091</td>\n",
       "      <td>0.526756</td>\n",
       "    </tr>\n",
       "  </tbody>\n",
       "</table>\n",
       "</div>"
      ],
      "text/plain": [
       "   Accuracy        F1    Recall  Precision\n",
       "0  0.649219  0.329843  0.240091   0.526756"
      ]
     },
     "execution_count": 28,
     "metadata": {},
     "output_type": "execute_result"
    },
    {
     "name": "stdout",
     "output_type": "stream",
     "text": [
      "time: 190 ms\n"
     ]
    }
   ],
   "source": [
    "f.confusion_report(fsm, X_test, y_test)"
   ]
  },
  {
   "cell_type": "markdown",
   "id": "046846d3-e790-41fe-b531-4a6b92348fd2",
   "metadata": {},
   "source": [
    "## Score Interpretation:\n",
    "\n",
    "- From the confusion matrix we see that the fsm model is classifying outcomes slightly better than baseline.\n",
    "- The recall score of .24 indicates that about 19% outcomes were correctly classified as Unsatisfactory. \n",
    "- The precision score .53 indicates that about 53% of outcomes classified as Unsatisfactory were truly Unsatisfactory."
   ]
  },
  {
   "cell_type": "markdown",
   "id": "b444a55a-2fbd-4683-b89a-e351851f2a1d",
   "metadata": {},
   "source": [
    "# Standard Scaling\n",
    "Since a few of the numerical features differ by orders of magnitude, standard scaling will be implemented to aid in model convergence and performance."
   ]
  },
  {
   "cell_type": "markdown",
   "id": "f7619f29-9ec0-4d3d-ac9e-215b54e80f83",
   "metadata": {
    "tags": []
   },
   "source": [
    "## KNeighborsClassifier"
   ]
  },
  {
   "cell_type": "code",
   "execution_count": 29,
   "id": "04a7eb6a-d7a1-4931-b816-b413073cf1c3",
   "metadata": {
    "execution": {
     "iopub.execute_input": "2021-11-29T22:38:56.062234Z",
     "iopub.status.busy": "2021-11-29T22:38:56.061989Z",
     "iopub.status.idle": "2021-11-29T22:38:56.107890Z",
     "shell.execute_reply": "2021-11-29T22:38:56.107119Z",
     "shell.execute_reply.started": "2021-11-29T22:38:56.062211Z"
    },
    "tags": []
   },
   "outputs": [
    {
     "name": "stdout",
     "output_type": "stream",
     "text": [
      "time: 687 µs\n"
     ]
    }
   ],
   "source": [
    "KNN = KNeighborsClassifier(n_jobs=-1)"
   ]
  },
  {
   "cell_type": "code",
   "execution_count": 30,
   "id": "ead8f44a-dc29-4a60-bc86-6e5f9871134d",
   "metadata": {
    "execution": {
     "iopub.execute_input": "2021-11-29T22:38:56.109751Z",
     "iopub.status.busy": "2021-11-29T22:38:56.109583Z",
     "iopub.status.idle": "2021-11-29T22:38:56.156301Z",
     "shell.execute_reply": "2021-11-29T22:38:56.155564Z",
     "shell.execute_reply.started": "2021-11-29T22:38:56.109734Z"
    },
    "tags": []
   },
   "outputs": [
    {
     "name": "stdout",
     "output_type": "stream",
     "text": [
      "time: 637 µs\n"
     ]
    }
   ],
   "source": [
    "knn_ss = make_pipeline(preprocessing_ss, KNN)"
   ]
  },
  {
   "cell_type": "markdown",
   "id": "841ec937-113f-47a2-a2a5-6cba92fcf4db",
   "metadata": {},
   "source": [
    "### Fitting Model"
   ]
  },
  {
   "cell_type": "code",
   "execution_count": 31,
   "id": "5180995d-6baa-40ce-9823-0249db159a83",
   "metadata": {
    "execution": {
     "iopub.execute_input": "2021-11-29T22:38:56.157798Z",
     "iopub.status.busy": "2021-11-29T22:38:56.157378Z",
     "iopub.status.idle": "2021-11-29T22:38:56.256511Z",
     "shell.execute_reply": "2021-11-29T22:38:56.255878Z",
     "shell.execute_reply.started": "2021-11-29T22:38:56.157779Z"
    },
    "tags": []
   },
   "outputs": [
    {
     "data": {
      "text/plain": [
       "Pipeline(steps=[('columntransformer',\n",
       "                 ColumnTransformer(transformers=[('onehotencoder',\n",
       "                                                  OneHotEncoder(handle_unknown='ignore'),\n",
       "                                                  <sklearn.compose._column_transformer.make_column_selector object at 0x103edec10>),\n",
       "                                                 ('standardscaler',\n",
       "                                                  StandardScaler(),\n",
       "                                                  <sklearn.compose._column_transformer.make_column_selector object at 0x103fc2ee0>)])),\n",
       "                ('kneighborsclassifier', KNeighborsClassifier(n_jobs=-1))])"
      ]
     },
     "execution_count": 31,
     "metadata": {},
     "output_type": "execute_result"
    },
    {
     "name": "stdout",
     "output_type": "stream",
     "text": [
      "time: 50.1 ms\n"
     ]
    }
   ],
   "source": [
    "knn_ss.fit(X_train, y_train)"
   ]
  },
  {
   "cell_type": "code",
   "execution_count": 32,
   "id": "3909088c-e302-44c1-8f92-5b728067fdf1",
   "metadata": {
    "execution": {
     "iopub.execute_input": "2021-11-29T22:38:56.257660Z",
     "iopub.status.busy": "2021-11-29T22:38:56.257512Z",
     "iopub.status.idle": "2021-11-29T22:38:56.306228Z",
     "shell.execute_reply": "2021-11-29T22:38:56.305370Z",
     "shell.execute_reply.started": "2021-11-29T22:38:56.257643Z"
    },
    "tags": []
   },
   "outputs": [
    {
     "name": "stdout",
     "output_type": "stream",
     "text": [
      "time: 520 µs\n"
     ]
    }
   ],
   "source": [
    "# f.pickle_model(knn_ss, 'knn_ss')"
   ]
  },
  {
   "cell_type": "markdown",
   "id": "95f9f739-c9ea-4712-9eb6-31363a2fdc01",
   "metadata": {},
   "source": [
    "### Cross Val Scores"
   ]
  },
  {
   "cell_type": "code",
   "execution_count": 33,
   "id": "82b1f329-e748-4b24-b54a-ac768d0bae3d",
   "metadata": {
    "execution": {
     "iopub.execute_input": "2021-11-29T22:38:56.307607Z",
     "iopub.status.busy": "2021-11-29T22:38:56.307461Z",
     "iopub.status.idle": "2021-11-29T22:38:59.979152Z",
     "shell.execute_reply": "2021-11-29T22:38:59.978407Z",
     "shell.execute_reply.started": "2021-11-29T22:38:56.307592Z"
    },
    "tags": []
   },
   "outputs": [
    {
     "name": "stdout",
     "output_type": "stream",
     "text": [
      "knn_ss has an average Accuracy of 0.7414098496471054\n",
      "knn_ss has an average F1 of 0.6004264245619517\n",
      "knn_ss has an average Recall of 0.5403995123807559\n",
      "knn_ss has an average Precision of 0.6760609302498518\n",
      "time: 3.62 s\n"
     ]
    }
   ],
   "source": [
    "# checking cross val scores\n",
    "modeling.report(knn_ss, X_train, y_train, 'knn_ss',\\\n",
    "                'KNN SS()')"
   ]
  },
  {
   "cell_type": "markdown",
   "id": "96a7f79b-b360-49f5-a275-6c2c017f8938",
   "metadata": {},
   "source": [
    "### Test Data Confusion Matrix"
   ]
  },
  {
   "cell_type": "code",
   "execution_count": 34,
   "id": "76db7a21-2c92-4557-9451-fdf09165495d",
   "metadata": {
    "execution": {
     "iopub.execute_input": "2021-11-29T22:38:59.980658Z",
     "iopub.status.busy": "2021-11-29T22:38:59.980409Z",
     "iopub.status.idle": "2021-11-29T22:39:07.449018Z",
     "shell.execute_reply": "2021-11-29T22:39:07.448448Z",
     "shell.execute_reply.started": "2021-11-29T22:38:59.980638Z"
    },
    "tags": []
   },
   "outputs": [
    {
     "data": {
      "image/png": "[encoded data removed]",
      "text/plain": [
       "<Figure size 504x504 with 2 Axes>"
      ]
     },
     "metadata": {},
     "output_type": "display_data"
    },
    {
     "data": {
      "text/html": [
       "<div>\n",
       "<style scoped>\n",
       "    .dataframe tbody tr th:only-of-type {\n",
       "        vertical-align: middle;\n",
       "    }\n",
       "\n",
       "    .dataframe tbody tr th {\n",
       "        vertical-align: top;\n",
       "    }\n",
       "\n",
       "    .dataframe thead th {\n",
       "        text-align: right;\n",
       "    }\n",
       "</style>\n",
       "<table border=\"1\" class=\"dataframe\">\n",
       "  <thead>\n",
       "    <tr style=\"text-align: right;\">\n",
       "      <th></th>\n",
       "      <th>Accuracy</th>\n",
       "      <th>F1</th>\n",
       "      <th>Recall</th>\n",
       "      <th>Precision</th>\n",
       "    </tr>\n",
       "  </thead>\n",
       "  <tbody>\n",
       "    <tr>\n",
       "      <th>0</th>\n",
       "      <td>0.743765</td>\n",
       "      <td>0.597156</td>\n",
       "      <td>0.528201</td>\n",
       "      <td>0.686819</td>\n",
       "    </tr>\n",
       "  </tbody>\n",
       "</table>\n",
       "</div>"
      ],
      "text/plain": [
       "   Accuracy        F1    Recall  Precision\n",
       "0  0.743765  0.597156  0.528201   0.686819"
      ]
     },
     "execution_count": 34,
     "metadata": {},
     "output_type": "execute_result"
    },
    {
     "name": "stdout",
     "output_type": "stream",
     "text": [
      "time: 7.42 s\n"
     ]
    }
   ],
   "source": [
    "f.confusion_report(knn_ss, X_test, y_test)"
   ]
  },
  {
   "cell_type": "markdown",
   "id": "dd21ef5e-5c7b-4dd6-bf15-6d2b8edecd7f",
   "metadata": {},
   "source": [
    "## Logistic Regression Classifier"
   ]
  },
  {
   "cell_type": "code",
   "execution_count": 35,
   "id": "4576bb29-a723-4161-88d2-2064ba535208",
   "metadata": {
    "execution": {
     "iopub.execute_input": "2021-11-29T22:39:07.450114Z",
     "iopub.status.busy": "2021-11-29T22:39:07.449959Z",
     "iopub.status.idle": "2021-11-29T22:39:07.498484Z",
     "shell.execute_reply": "2021-11-29T22:39:07.497856Z",
     "shell.execute_reply.started": "2021-11-29T22:39:07.450095Z"
    },
    "tags": []
   },
   "outputs": [
    {
     "name": "stdout",
     "output_type": "stream",
     "text": [
      "time: 729 µs\n"
     ]
    }
   ],
   "source": [
    "LR = LogisticRegression(max_iter=1000, n_jobs=-1, random_state = 2021, verbose=0)"
   ]
  },
  {
   "cell_type": "code",
   "execution_count": 36,
   "id": "17731914-42c1-4447-b63f-81ee47cad0a3",
   "metadata": {
    "execution": {
     "iopub.execute_input": "2021-11-29T22:39:07.499945Z",
     "iopub.status.busy": "2021-11-29T22:39:07.499701Z",
     "iopub.status.idle": "2021-11-29T22:39:07.551895Z",
     "shell.execute_reply": "2021-11-29T22:39:07.551132Z",
     "shell.execute_reply.started": "2021-11-29T22:39:07.499920Z"
    },
    "tags": []
   },
   "outputs": [
    {
     "name": "stdout",
     "output_type": "stream",
     "text": [
      "time: 751 µs\n"
     ]
    }
   ],
   "source": [
    "logreg_ss = make_pipeline(preprocessing_ss, LR)"
   ]
  },
  {
   "cell_type": "markdown",
   "id": "3b3bde48-5570-446e-aff6-5f052cc04105",
   "metadata": {},
   "source": [
    "### Fitting Model"
   ]
  },
  {
   "cell_type": "code",
   "execution_count": 37,
   "id": "4cef50d5-cccd-4dad-8a91-4bfaa247b6fc",
   "metadata": {
    "execution": {
     "iopub.execute_input": "2021-11-29T22:39:07.553020Z",
     "iopub.status.busy": "2021-11-29T22:39:07.552814Z",
     "iopub.status.idle": "2021-11-29T22:39:12.091862Z",
     "shell.execute_reply": "2021-11-29T22:39:12.090644Z",
     "shell.execute_reply.started": "2021-11-29T22:39:07.552999Z"
    },
    "tags": []
   },
   "outputs": [
    {
     "data": {
      "text/plain": [
       "Pipeline(steps=[('columntransformer',\n",
       "                 ColumnTransformer(transformers=[('onehotencoder',\n",
       "                                                  OneHotEncoder(handle_unknown='ignore'),\n",
       "                                                  <sklearn.compose._column_transformer.make_column_selector object at 0x103edec10>),\n",
       "                                                 ('standardscaler',\n",
       "                                                  StandardScaler(),\n",
       "                                                  <sklearn.compose._column_transformer.make_column_selector object at 0x103fc2ee0>)])),\n",
       "                ('logisticregression',\n",
       "                 LogisticRegression(max_iter=1000, n_jobs=-1,\n",
       "                                    random_state=2021))])"
      ]
     },
     "execution_count": 37,
     "metadata": {},
     "output_type": "execute_result"
    },
    {
     "name": "stdout",
     "output_type": "stream",
     "text": [
      "time: 4.49 s\n"
     ]
    }
   ],
   "source": [
    "logreg_ss.fit(X_train, y_train)"
   ]
  },
  {
   "cell_type": "markdown",
   "id": "bd30afda-1364-4bfa-a31e-a0bb190c5807",
   "metadata": {},
   "source": [
    "### Cross Val Scores"
   ]
  },
  {
   "cell_type": "code",
   "execution_count": 38,
   "id": "34e03ebf-6147-4145-b70f-6aad085d4ac1",
   "metadata": {
    "execution": {
     "iopub.execute_input": "2021-11-29T22:39:12.094468Z",
     "iopub.status.busy": "2021-11-29T22:39:12.094062Z",
     "iopub.status.idle": "2021-11-29T22:39:17.123061Z",
     "shell.execute_reply": "2021-11-29T22:39:17.122023Z",
     "shell.execute_reply.started": "2021-11-29T22:39:12.094429Z"
    },
    "tags": []
   },
   "outputs": [
    {
     "name": "stdout",
     "output_type": "stream",
     "text": [
      "logreg_ss has an average Accuracy of 0.7680917049933063\n",
      "logreg_ss has an average F1 of 0.6372880548224862\n",
      "logreg_ss has an average Recall of 0.5668202839285599\n",
      "logreg_ss has an average Precision of 0.728208528619641\n",
      "time: 4.96 s\n"
     ]
    }
   ],
   "source": [
    "# checking cross val scores\n",
    "modeling.report(logreg_ss, X_train, y_train, 'logreg_ss',\\\n",
    "                'LogReg SS()')"
   ]
  },
  {
   "cell_type": "markdown",
   "id": "d077f374-ea3f-4d89-8696-89c0da28d2a1",
   "metadata": {},
   "source": [
    "### Test Data Confusion Matrix"
   ]
  },
  {
   "cell_type": "code",
   "execution_count": 39,
   "id": "e172adf0-7320-43ce-9b0f-f070da588860",
   "metadata": {
    "execution": {
     "iopub.execute_input": "2021-11-29T22:39:17.124640Z",
     "iopub.status.busy": "2021-11-29T22:39:17.124484Z",
     "iopub.status.idle": "2021-11-29T22:39:17.373778Z",
     "shell.execute_reply": "2021-11-29T22:39:17.372865Z",
     "shell.execute_reply.started": "2021-11-29T22:39:17.124624Z"
    },
    "tags": []
   },
   "outputs": [
    {
     "data": {
      "image/png": "[encoded data removed]",
      "text/plain": [
       "<Figure size 504x504 with 2 Axes>"
      ]
     },
     "metadata": {},
     "output_type": "display_data"
    },
    {
     "data": {
      "text/html": [
       "<div>\n",
       "<style scoped>\n",
       "    .dataframe tbody tr th:only-of-type {\n",
       "        vertical-align: middle;\n",
       "    }\n",
       "\n",
       "    .dataframe tbody tr th {\n",
       "        vertical-align: top;\n",
       "    }\n",
       "\n",
       "    .dataframe thead th {\n",
       "        text-align: right;\n",
       "    }\n",
       "</style>\n",
       "<table border=\"1\" class=\"dataframe\">\n",
       "  <thead>\n",
       "    <tr style=\"text-align: right;\">\n",
       "      <th></th>\n",
       "      <th>Accuracy</th>\n",
       "      <th>F1</th>\n",
       "      <th>Recall</th>\n",
       "      <th>Precision</th>\n",
       "    </tr>\n",
       "  </thead>\n",
       "  <tbody>\n",
       "    <tr>\n",
       "      <th>0</th>\n",
       "      <td>0.775281</td>\n",
       "      <td>0.64716</td>\n",
       "      <td>0.573171</td>\n",
       "      <td>0.743083</td>\n",
       "    </tr>\n",
       "  </tbody>\n",
       "</table>\n",
       "</div>"
      ],
      "text/plain": [
       "   Accuracy       F1    Recall  Precision\n",
       "0  0.775281  0.64716  0.573171   0.743083"
      ]
     },
     "execution_count": 39,
     "metadata": {},
     "output_type": "execute_result"
    },
    {
     "name": "stdout",
     "output_type": "stream",
     "text": [
      "time: 202 ms\n"
     ]
    }
   ],
   "source": [
    "f.confusion_report(logreg_ss, X_test, y_test)"
   ]
  },
  {
   "cell_type": "markdown",
   "id": "b1edf716-64fe-47fb-8a54-8450a63b81ab",
   "metadata": {},
   "source": [
    "## Support Vector Machine"
   ]
  },
  {
   "cell_type": "code",
   "execution_count": 40,
   "id": "5362eecd-2c3c-42d2-ac1a-effc6b90c9d7",
   "metadata": {
    "execution": {
     "iopub.execute_input": "2021-11-29T22:39:17.374951Z",
     "iopub.status.busy": "2021-11-29T22:39:17.374630Z",
     "iopub.status.idle": "2021-11-29T22:39:17.421244Z",
     "shell.execute_reply": "2021-11-29T22:39:17.420595Z",
     "shell.execute_reply.started": "2021-11-29T22:39:17.374922Z"
    },
    "tags": []
   },
   "outputs": [
    {
     "name": "stdout",
     "output_type": "stream",
     "text": [
      "time: 599 µs\n"
     ]
    }
   ],
   "source": [
    "SVC = SVC()"
   ]
  },
  {
   "cell_type": "code",
   "execution_count": 41,
   "id": "2a3f33e6-f0e8-4c26-b327-947194a08cd3",
   "metadata": {
    "execution": {
     "iopub.execute_input": "2021-11-29T22:39:17.422345Z",
     "iopub.status.busy": "2021-11-29T22:39:17.422129Z",
     "iopub.status.idle": "2021-11-29T22:39:17.471062Z",
     "shell.execute_reply": "2021-11-29T22:39:17.470184Z",
     "shell.execute_reply.started": "2021-11-29T22:39:17.422320Z"
    },
    "tags": []
   },
   "outputs": [
    {
     "name": "stdout",
     "output_type": "stream",
     "text": [
      "time: 914 µs\n"
     ]
    }
   ],
   "source": [
    "svc_ss = make_pipeline(preprocessing_ss, SVC)"
   ]
  },
  {
   "cell_type": "markdown",
   "id": "3f906c1d-a304-4a9e-844b-4c46b6834020",
   "metadata": {
    "tags": []
   },
   "source": [
    "### Fitting Model"
   ]
  },
  {
   "cell_type": "code",
   "execution_count": 42,
   "id": "e80d6adc-164b-419c-a0dc-756b7052fa5d",
   "metadata": {
    "execution": {
     "iopub.execute_input": "2021-11-29T22:39:17.472056Z",
     "iopub.status.busy": "2021-11-29T22:39:17.471908Z",
     "iopub.status.idle": "2021-11-29T22:39:22.292770Z",
     "shell.execute_reply": "2021-11-29T22:39:22.291900Z",
     "shell.execute_reply.started": "2021-11-29T22:39:17.472040Z"
    },
    "tags": []
   },
   "outputs": [
    {
     "data": {
      "text/plain": [
       "Pipeline(steps=[('columntransformer',\n",
       "                 ColumnTransformer(transformers=[('onehotencoder',\n",
       "                                                  OneHotEncoder(handle_unknown='ignore'),\n",
       "                                                  <sklearn.compose._column_transformer.make_column_selector object at 0x103edec10>),\n",
       "                                                 ('standardscaler',\n",
       "                                                  StandardScaler(),\n",
       "                                                  <sklearn.compose._column_transformer.make_column_selector object at 0x103fc2ee0>)])),\n",
       "                ('svc', SVC())])"
      ]
     },
     "execution_count": 42,
     "metadata": {},
     "output_type": "execute_result"
    },
    {
     "name": "stdout",
     "output_type": "stream",
     "text": [
      "time: 4.77 s\n"
     ]
    }
   ],
   "source": [
    "svc_ss.fit(X_train, y_train)"
   ]
  },
  {
   "cell_type": "markdown",
   "id": "4431c6d7-0c63-4f9a-9f86-716566184b94",
   "metadata": {},
   "source": [
    "### Cross Val Scores"
   ]
  },
  {
   "cell_type": "code",
   "execution_count": 43,
   "id": "ee24d8ef-a43e-4367-84a2-8b6bcffd47d0",
   "metadata": {
    "execution": {
     "iopub.execute_input": "2021-11-29T22:39:22.294089Z",
     "iopub.status.busy": "2021-11-29T22:39:22.293896Z",
     "iopub.status.idle": "2021-11-29T22:39:41.963759Z",
     "shell.execute_reply": "2021-11-29T22:39:41.962704Z",
     "shell.execute_reply.started": "2021-11-29T22:39:22.294070Z"
    },
    "tags": []
   },
   "outputs": [
    {
     "name": "stdout",
     "output_type": "stream",
     "text": [
      "svc_ss has an average Accuracy of 0.7855441408471642\n",
      "svc_ss has an average F1 of 0.6519967733529908\n",
      "svc_ss has an average Recall of 0.5589416211404873\n",
      "svc_ss has an average Precision of 0.7826606735757377\n",
      "time: 19.6 s\n"
     ]
    }
   ],
   "source": [
    "# checking cross val scores\n",
    "modeling.report(svc_ss, X_train, y_train, 'svc_ss',\\\n",
    "                'Support Vector CLF SS()')"
   ]
  },
  {
   "cell_type": "markdown",
   "id": "814513db-8a13-462c-af06-e25f3fa38d7b",
   "metadata": {},
   "source": [
    "### Test Data Confusion Matrix"
   ]
  },
  {
   "cell_type": "code",
   "execution_count": 44,
   "id": "d47ad60d-a531-4e80-9b95-cf287c7ecbff",
   "metadata": {
    "execution": {
     "iopub.execute_input": "2021-11-29T22:39:41.965388Z",
     "iopub.status.busy": "2021-11-29T22:39:41.965217Z",
     "iopub.status.idle": "2021-11-29T22:39:47.800895Z",
     "shell.execute_reply": "2021-11-29T22:39:47.800351Z",
     "shell.execute_reply.started": "2021-11-29T22:39:41.965355Z"
    },
    "tags": []
   },
   "outputs": [
    {
     "data": {
      "image/png": "[encoded data removed]",
      "text/plain": [
       "<Figure size 504x504 with 2 Axes>"
      ]
     },
     "metadata": {},
     "output_type": "display_data"
    },
    {
     "data": {
      "text/html": [
       "<div>\n",
       "<style scoped>\n",
       "    .dataframe tbody tr th:only-of-type {\n",
       "        vertical-align: middle;\n",
       "    }\n",
       "\n",
       "    .dataframe tbody tr th {\n",
       "        vertical-align: top;\n",
       "    }\n",
       "\n",
       "    .dataframe thead th {\n",
       "        text-align: right;\n",
       "    }\n",
       "</style>\n",
       "<table border=\"1\" class=\"dataframe\">\n",
       "  <thead>\n",
       "    <tr style=\"text-align: right;\">\n",
       "      <th></th>\n",
       "      <th>Accuracy</th>\n",
       "      <th>F1</th>\n",
       "      <th>Recall</th>\n",
       "      <th>Precision</th>\n",
       "    </tr>\n",
       "  </thead>\n",
       "  <tbody>\n",
       "    <tr>\n",
       "      <th>0</th>\n",
       "      <td>0.789805</td>\n",
       "      <td>0.658047</td>\n",
       "      <td>0.5625</td>\n",
       "      <td>0.792696</td>\n",
       "    </tr>\n",
       "  </tbody>\n",
       "</table>\n",
       "</div>"
      ],
      "text/plain": [
       "   Accuracy        F1  Recall  Precision\n",
       "0  0.789805  0.658047  0.5625   0.792696"
      ]
     },
     "execution_count": 44,
     "metadata": {},
     "output_type": "execute_result"
    },
    {
     "name": "stdout",
     "output_type": "stream",
     "text": [
      "time: 5.79 s\n"
     ]
    }
   ],
   "source": [
    "f.confusion_report(svc_ss, X_test, y_test)"
   ]
  },
  {
   "cell_type": "markdown",
   "id": "12c714cf-56d2-401f-ae81-ffd7b6384b99",
   "metadata": {},
   "source": [
    "## Linear Support Vector Machine"
   ]
  },
  {
   "cell_type": "code",
   "execution_count": 45,
   "id": "cd5cbf1e-d318-491a-86b6-2352478079b8",
   "metadata": {
    "execution": {
     "iopub.execute_input": "2021-11-29T22:39:47.802205Z",
     "iopub.status.busy": "2021-11-29T22:39:47.802026Z",
     "iopub.status.idle": "2021-11-29T22:39:47.845768Z",
     "shell.execute_reply": "2021-11-29T22:39:47.845171Z",
     "shell.execute_reply.started": "2021-11-29T22:39:47.802186Z"
    },
    "tags": []
   },
   "outputs": [
    {
     "name": "stdout",
     "output_type": "stream",
     "text": [
      "time: 606 µs\n"
     ]
    }
   ],
   "source": [
    "LSVC = LinearSVC(random_state=2021)"
   ]
  },
  {
   "cell_type": "code",
   "execution_count": 46,
   "id": "a6502322-a7f9-44e6-9679-2e9c3e42d083",
   "metadata": {
    "execution": {
     "iopub.execute_input": "2021-11-29T22:39:47.847000Z",
     "iopub.status.busy": "2021-11-29T22:39:47.846718Z",
     "iopub.status.idle": "2021-11-29T22:39:47.902916Z",
     "shell.execute_reply": "2021-11-29T22:39:47.902226Z",
     "shell.execute_reply.started": "2021-11-29T22:39:47.846976Z"
    },
    "tags": []
   },
   "outputs": [
    {
     "name": "stdout",
     "output_type": "stream",
     "text": [
      "time: 832 µs\n"
     ]
    }
   ],
   "source": [
    "lsvc_ss = make_pipeline(preprocessing_ss, LSVC)"
   ]
  },
  {
   "cell_type": "markdown",
   "id": "8c1ba0ae-e45d-4fdf-9e73-b80f21d533b2",
   "metadata": {},
   "source": [
    "### Fitting Model"
   ]
  },
  {
   "cell_type": "code",
   "execution_count": 47,
   "id": "dcf7aabf-c74d-43ea-a9eb-feb5e93fde1a",
   "metadata": {
    "execution": {
     "iopub.execute_input": "2021-11-29T22:39:47.905197Z",
     "iopub.status.busy": "2021-11-29T22:39:47.904769Z",
     "iopub.status.idle": "2021-11-29T22:39:48.674033Z",
     "shell.execute_reply": "2021-11-29T22:39:48.673393Z",
     "shell.execute_reply.started": "2021-11-29T22:39:47.905155Z"
    },
    "tags": []
   },
   "outputs": [
    {
     "name": "stderr",
     "output_type": "stream",
     "text": [
      "/Users/dsbox/opt/anaconda3/envs/oo/lib/python3.9/site-packages/sklearn/svm/_base.py:985: ConvergenceWarning: Liblinear failed to converge, increase the number of iterations.\n",
      "  warnings.warn(\"Liblinear failed to converge, increase \"\n"
     ]
    },
    {
     "data": {
      "text/plain": [
       "Pipeline(steps=[('columntransformer',\n",
       "                 ColumnTransformer(transformers=[('onehotencoder',\n",
       "                                                  OneHotEncoder(handle_unknown='ignore'),\n",
       "                                                  <sklearn.compose._column_transformer.make_column_selector object at 0x103edec10>),\n",
       "                                                 ('standardscaler',\n",
       "                                                  StandardScaler(),\n",
       "                                                  <sklearn.compose._column_transformer.make_column_selector object at 0x103fc2ee0>)])),\n",
       "                ('linearsvc', LinearSVC(random_state=2021))])"
      ]
     },
     "execution_count": 47,
     "metadata": {},
     "output_type": "execute_result"
    },
    {
     "name": "stdout",
     "output_type": "stream",
     "text": [
      "time: 707 ms\n"
     ]
    }
   ],
   "source": [
    "lsvc_ss.fit(X_train, y_train)"
   ]
  },
  {
   "cell_type": "markdown",
   "id": "d09b06be-9bec-4362-8c85-f67b5338a2e9",
   "metadata": {},
   "source": [
    "### Cross Val Scores"
   ]
  },
  {
   "cell_type": "code",
   "execution_count": 48,
   "id": "b563aeed-055c-49ea-adbe-8e03d066ba3a",
   "metadata": {
    "execution": {
     "iopub.execute_input": "2021-11-29T22:39:48.676393Z",
     "iopub.status.busy": "2021-11-29T22:39:48.675750Z",
     "iopub.status.idle": "2021-11-29T22:39:51.170540Z",
     "shell.execute_reply": "2021-11-29T22:39:51.169422Z",
     "shell.execute_reply.started": "2021-11-29T22:39:48.676349Z"
    },
    "tags": []
   },
   "outputs": [
    {
     "name": "stderr",
     "output_type": "stream",
     "text": [
      "/Users/dsbox/opt/anaconda3/envs/oo/lib/python3.9/site-packages/sklearn/svm/_base.py:985: ConvergenceWarning: Liblinear failed to converge, increase the number of iterations.\n",
      "  warnings.warn(\"Liblinear failed to converge, increase \"\n",
      "/Users/dsbox/opt/anaconda3/envs/oo/lib/python3.9/site-packages/sklearn/svm/_base.py:985: ConvergenceWarning: Liblinear failed to converge, increase the number of iterations.\n",
      "  warnings.warn(\"Liblinear failed to converge, increase \"\n",
      "/Users/dsbox/opt/anaconda3/envs/oo/lib/python3.9/site-packages/sklearn/svm/_base.py:985: ConvergenceWarning: Liblinear failed to converge, increase the number of iterations.\n",
      "  warnings.warn(\"Liblinear failed to converge, increase \"\n",
      "/Users/dsbox/opt/anaconda3/envs/oo/lib/python3.9/site-packages/sklearn/svm/_base.py:985: ConvergenceWarning: Liblinear failed to converge, increase the number of iterations.\n",
      "  warnings.warn(\"Liblinear failed to converge, increase \"\n"
     ]
    },
    {
     "name": "stdout",
     "output_type": "stream",
     "text": [
      "lsvc_ss has an average Accuracy of 0.7680917049933061\n",
      "lsvc_ss has an average F1 of 0.6340618805158209\n",
      "lsvc_ss has an average Recall of 0.5589442011364882\n",
      "lsvc_ss has an average Precision of 0.7329679790281349\n",
      "time: 2.43 s\n"
     ]
    },
    {
     "name": "stderr",
     "output_type": "stream",
     "text": [
      "/Users/dsbox/opt/anaconda3/envs/oo/lib/python3.9/site-packages/sklearn/svm/_base.py:985: ConvergenceWarning: Liblinear failed to converge, increase the number of iterations.\n",
      "  warnings.warn(\"Liblinear failed to converge, increase \"\n"
     ]
    }
   ],
   "source": [
    "# checking cross val scores\n",
    "modeling.report(lsvc_ss, X_train, y_train, 'lsvc_ss',\\\n",
    "                'Linear SVC SS()')"
   ]
  },
  {
   "cell_type": "markdown",
   "id": "0fc1b3e7-5aaa-4981-8c69-febe60f79533",
   "metadata": {},
   "source": [
    "### Test Data Confusion Matrix"
   ]
  },
  {
   "cell_type": "code",
   "execution_count": 49,
   "id": "46484744-acdb-4c7a-a8e2-2cd9b2e145c3",
   "metadata": {
    "execution": {
     "iopub.execute_input": "2021-11-29T22:39:51.171946Z",
     "iopub.status.busy": "2021-11-29T22:39:51.171777Z",
     "iopub.status.idle": "2021-11-29T22:39:51.432643Z",
     "shell.execute_reply": "2021-11-29T22:39:51.432046Z",
     "shell.execute_reply.started": "2021-11-29T22:39:51.171927Z"
    },
    "tags": []
   },
   "outputs": [
    {
     "data": {
      "image/png": "[encoded data removed]",
      "text/plain": [
       "<Figure size 504x504 with 2 Axes>"
      ]
     },
     "metadata": {},
     "output_type": "display_data"
    },
    {
     "data": {
      "text/html": [
       "<div>\n",
       "<style scoped>\n",
       "    .dataframe tbody tr th:only-of-type {\n",
       "        vertical-align: middle;\n",
       "    }\n",
       "\n",
       "    .dataframe tbody tr th {\n",
       "        vertical-align: top;\n",
       "    }\n",
       "\n",
       "    .dataframe thead th {\n",
       "        text-align: right;\n",
       "    }\n",
       "</style>\n",
       "<table border=\"1\" class=\"dataframe\">\n",
       "  <thead>\n",
       "    <tr style=\"text-align: right;\">\n",
       "      <th></th>\n",
       "      <th>Accuracy</th>\n",
       "      <th>F1</th>\n",
       "      <th>Recall</th>\n",
       "      <th>Precision</th>\n",
       "    </tr>\n",
       "  </thead>\n",
       "  <tbody>\n",
       "    <tr>\n",
       "      <th>0</th>\n",
       "      <td>0.775007</td>\n",
       "      <td>0.642577</td>\n",
       "      <td>0.5625</td>\n",
       "      <td>0.749239</td>\n",
       "    </tr>\n",
       "  </tbody>\n",
       "</table>\n",
       "</div>"
      ],
      "text/plain": [
       "   Accuracy        F1  Recall  Precision\n",
       "0  0.775007  0.642577  0.5625   0.749239"
      ]
     },
     "execution_count": 49,
     "metadata": {},
     "output_type": "execute_result"
    },
    {
     "name": "stdout",
     "output_type": "stream",
     "text": [
      "time: 212 ms\n"
     ]
    }
   ],
   "source": [
    "f.confusion_report(lsvc_ss, X_test, y_test)"
   ]
  },
  {
   "cell_type": "markdown",
   "id": "7dad6f05-4c3a-4338-aad0-609ab518742d",
   "metadata": {},
   "source": [
    "## Decision Tree"
   ]
  },
  {
   "cell_type": "code",
   "execution_count": 50,
   "id": "af7842c3-9f92-41b2-9616-f588b7622322",
   "metadata": {
    "execution": {
     "iopub.execute_input": "2021-11-29T22:39:51.434032Z",
     "iopub.status.busy": "2021-11-29T22:39:51.433736Z",
     "iopub.status.idle": "2021-11-29T22:39:51.477284Z",
     "shell.execute_reply": "2021-11-29T22:39:51.476491Z",
     "shell.execute_reply.started": "2021-11-29T22:39:51.434007Z"
    },
    "tags": []
   },
   "outputs": [
    {
     "name": "stdout",
     "output_type": "stream",
     "text": [
      "time: 636 µs\n"
     ]
    }
   ],
   "source": [
    "DT = DecisionTreeClassifier(random_state=2021)"
   ]
  },
  {
   "cell_type": "code",
   "execution_count": 51,
   "id": "d0a5fa56-bf17-4274-bf49-eb0d3d32c5e7",
   "metadata": {
    "execution": {
     "iopub.execute_input": "2021-11-29T22:39:51.478513Z",
     "iopub.status.busy": "2021-11-29T22:39:51.478364Z",
     "iopub.status.idle": "2021-11-29T22:39:51.535406Z",
     "shell.execute_reply": "2021-11-29T22:39:51.534523Z",
     "shell.execute_reply.started": "2021-11-29T22:39:51.478496Z"
    },
    "tags": []
   },
   "outputs": [
    {
     "name": "stdout",
     "output_type": "stream",
     "text": [
      "time: 766 µs\n"
     ]
    }
   ],
   "source": [
    "dt_ss = make_pipeline(preprocessing_ss, DT)"
   ]
  },
  {
   "cell_type": "markdown",
   "id": "7e9d9bd4-475b-4f9c-b6a2-35d64e8bd8ec",
   "metadata": {},
   "source": [
    "### Fitting Model"
   ]
  },
  {
   "cell_type": "code",
   "execution_count": 52,
   "id": "bee5bcf8-9c7f-446a-ab99-d3a56f0eec56",
   "metadata": {
    "execution": {
     "iopub.execute_input": "2021-11-29T22:39:51.536626Z",
     "iopub.status.busy": "2021-11-29T22:39:51.536373Z",
     "iopub.status.idle": "2021-11-29T22:39:52.039972Z",
     "shell.execute_reply": "2021-11-29T22:39:52.038710Z",
     "shell.execute_reply.started": "2021-11-29T22:39:51.536596Z"
    },
    "tags": []
   },
   "outputs": [
    {
     "data": {
      "text/plain": [
       "Pipeline(steps=[('columntransformer',\n",
       "                 ColumnTransformer(transformers=[('onehotencoder',\n",
       "                                                  OneHotEncoder(handle_unknown='ignore'),\n",
       "                                                  <sklearn.compose._column_transformer.make_column_selector object at 0x103edec10>),\n",
       "                                                 ('standardscaler',\n",
       "                                                  StandardScaler(),\n",
       "                                                  <sklearn.compose._column_transformer.make_column_selector object at 0x103fc2ee0>)])),\n",
       "                ('decisiontreeclassifier',\n",
       "                 DecisionTreeClassifier(random_state=2021))])"
      ]
     },
     "execution_count": 52,
     "metadata": {},
     "output_type": "execute_result"
    },
    {
     "name": "stdout",
     "output_type": "stream",
     "text": [
      "time: 445 ms\n"
     ]
    }
   ],
   "source": [
    "dt_ss.fit(X_train, y_train)"
   ]
  },
  {
   "cell_type": "markdown",
   "id": "6da2c508-8235-4a50-8a06-3fb9a3f48f35",
   "metadata": {},
   "source": [
    "### Cross Val Scores"
   ]
  },
  {
   "cell_type": "code",
   "execution_count": 53,
   "id": "358dd82e-db2b-4015-bad4-3363d09a6b31",
   "metadata": {
    "execution": {
     "iopub.execute_input": "2021-11-29T22:39:52.041317Z",
     "iopub.status.busy": "2021-11-29T22:39:52.041146Z",
     "iopub.status.idle": "2021-11-29T22:39:53.741185Z",
     "shell.execute_reply": "2021-11-29T22:39:53.740544Z",
     "shell.execute_reply.started": "2021-11-29T22:39:52.041298Z"
    },
    "tags": []
   },
   "outputs": [
    {
     "name": "stdout",
     "output_type": "stream",
     "text": [
      "dt_ss has an average Accuracy of 0.7148213645926157\n",
      "dt_ss has an average F1 of 0.6056545119605301\n",
      "dt_ss has an average Recall of 0.609246060668606\n",
      "dt_ss has an average Precision of 0.6022543448277029\n",
      "time: 1.65 s\n"
     ]
    }
   ],
   "source": [
    "# checking cross val scores\n",
    "modeling.report(dt_ss, X_train, y_train, 'dt_ss',\\\n",
    "                'Decision Tree CLF SS()')"
   ]
  },
  {
   "cell_type": "markdown",
   "id": "3b543e3a-4cba-4ec0-a59f-bf07a25d1a69",
   "metadata": {},
   "source": [
    "### Test Data Confusion Matrix"
   ]
  },
  {
   "cell_type": "code",
   "execution_count": 54,
   "id": "ce751c22-c9b6-47f0-805e-945947b0c23e",
   "metadata": {
    "execution": {
     "iopub.execute_input": "2021-11-29T22:39:53.742345Z",
     "iopub.status.busy": "2021-11-29T22:39:53.742171Z",
     "iopub.status.idle": "2021-11-29T22:39:54.013616Z",
     "shell.execute_reply": "2021-11-29T22:39:54.013066Z",
     "shell.execute_reply.started": "2021-11-29T22:39:53.742325Z"
    },
    "tags": []
   },
   "outputs": [
    {
     "data": {
      "image/png": "[encoded data removed]",
      "text/plain": [
       "<Figure size 504x504 with 2 Axes>"
      ]
     },
     "metadata": {},
     "output_type": "display_data"
    },
    {
     "data": {
      "text/html": [
       "<div>\n",
       "<style scoped>\n",
       "    .dataframe tbody tr th:only-of-type {\n",
       "        vertical-align: middle;\n",
       "    }\n",
       "\n",
       "    .dataframe tbody tr th {\n",
       "        vertical-align: top;\n",
       "    }\n",
       "\n",
       "    .dataframe thead th {\n",
       "        text-align: right;\n",
       "    }\n",
       "</style>\n",
       "<table border=\"1\" class=\"dataframe\">\n",
       "  <thead>\n",
       "    <tr style=\"text-align: right;\">\n",
       "      <th></th>\n",
       "      <th>Accuracy</th>\n",
       "      <th>F1</th>\n",
       "      <th>Recall</th>\n",
       "      <th>Precision</th>\n",
       "    </tr>\n",
       "  </thead>\n",
       "  <tbody>\n",
       "    <tr>\n",
       "      <th>0</th>\n",
       "      <td>0.715539</td>\n",
       "      <td>0.604722</td>\n",
       "      <td>0.605183</td>\n",
       "      <td>0.604262</td>\n",
       "    </tr>\n",
       "  </tbody>\n",
       "</table>\n",
       "</div>"
      ],
      "text/plain": [
       "   Accuracy        F1    Recall  Precision\n",
       "0  0.715539  0.604722  0.605183   0.604262"
      ]
     },
     "execution_count": 54,
     "metadata": {},
     "output_type": "execute_result"
    },
    {
     "name": "stdout",
     "output_type": "stream",
     "text": [
      "time: 222 ms\n"
     ]
    }
   ],
   "source": [
    "f.confusion_report(dt_ss, X_test, y_test)"
   ]
  },
  {
   "cell_type": "markdown",
   "id": "73c658ee-c43d-4b93-a0c3-4b0bc3db9dae",
   "metadata": {},
   "source": [
    "## Bagging Classifier"
   ]
  },
  {
   "cell_type": "code",
   "execution_count": 55,
   "id": "fffa9f35-b6cd-431d-ba60-b58065f89bf1",
   "metadata": {
    "execution": {
     "iopub.execute_input": "2021-11-29T22:39:54.014560Z",
     "iopub.status.busy": "2021-11-29T22:39:54.014422Z",
     "iopub.status.idle": "2021-11-29T22:39:54.059823Z",
     "shell.execute_reply": "2021-11-29T22:39:54.059029Z",
     "shell.execute_reply.started": "2021-11-29T22:39:54.014542Z"
    },
    "tags": []
   },
   "outputs": [
    {
     "name": "stdout",
     "output_type": "stream",
     "text": [
      "time: 662 µs\n"
     ]
    }
   ],
   "source": [
    "BCLF = BaggingClassifier(base_estimator=DT, random_state=2021)"
   ]
  },
  {
   "cell_type": "code",
   "execution_count": 56,
   "id": "7f7737cb-a832-4f41-9033-c6517fdddc7a",
   "metadata": {
    "execution": {
     "iopub.execute_input": "2021-11-29T22:39:54.061053Z",
     "iopub.status.busy": "2021-11-29T22:39:54.060879Z",
     "iopub.status.idle": "2021-11-29T22:39:54.120081Z",
     "shell.execute_reply": "2021-11-29T22:39:54.119315Z",
     "shell.execute_reply.started": "2021-11-29T22:39:54.061026Z"
    },
    "tags": []
   },
   "outputs": [
    {
     "name": "stdout",
     "output_type": "stream",
     "text": [
      "time: 954 µs\n"
     ]
    }
   ],
   "source": [
    "bclf_ss = make_pipeline(preprocessing_ss, BCLF)"
   ]
  },
  {
   "cell_type": "markdown",
   "id": "dbfd69a3-fca7-4fc2-9073-872ddafaf0cf",
   "metadata": {},
   "source": [
    "### Fitting Model"
   ]
  },
  {
   "cell_type": "code",
   "execution_count": 57,
   "id": "bd8fe1c1-423c-4862-8b31-de6845c1194e",
   "metadata": {
    "execution": {
     "iopub.execute_input": "2021-11-29T22:39:54.121294Z",
     "iopub.status.busy": "2021-11-29T22:39:54.121113Z",
     "iopub.status.idle": "2021-11-29T22:39:56.959134Z",
     "shell.execute_reply": "2021-11-29T22:39:56.958392Z",
     "shell.execute_reply.started": "2021-11-29T22:39:54.121273Z"
    },
    "tags": []
   },
   "outputs": [
    {
     "data": {
      "text/plain": [
       "Pipeline(steps=[('columntransformer',\n",
       "                 ColumnTransformer(transformers=[('onehotencoder',\n",
       "                                                  OneHotEncoder(handle_unknown='ignore'),\n",
       "                                                  <sklearn.compose._column_transformer.make_column_selector object at 0x103edec10>),\n",
       "                                                 ('standardscaler',\n",
       "                                                  StandardScaler(),\n",
       "                                                  <sklearn.compose._column_transformer.make_column_selector object at 0x103fc2ee0>)])),\n",
       "                ('baggingclassifier',\n",
       "                 BaggingClassifier(base_estimator=DecisionTreeClassifier(random_state=2021),\n",
       "                                   random_state=2021))])"
      ]
     },
     "execution_count": 57,
     "metadata": {},
     "output_type": "execute_result"
    },
    {
     "name": "stdout",
     "output_type": "stream",
     "text": [
      "time: 2.78 s\n"
     ]
    }
   ],
   "source": [
    "bclf_ss.fit(X_train, y_train)"
   ]
  },
  {
   "cell_type": "markdown",
   "id": "c77bf5dd-54cd-41b7-b2ba-58165f46f3fb",
   "metadata": {},
   "source": [
    "### Cross Val Scores"
   ]
  },
  {
   "cell_type": "code",
   "execution_count": 58,
   "id": "3fa55e8b-de3f-445e-95c3-1b5e7c34b213",
   "metadata": {
    "execution": {
     "iopub.execute_input": "2021-11-29T22:39:56.960646Z",
     "iopub.status.busy": "2021-11-29T22:39:56.960349Z",
     "iopub.status.idle": "2021-11-29T22:40:07.188381Z",
     "shell.execute_reply": "2021-11-29T22:40:07.187354Z",
     "shell.execute_reply.started": "2021-11-29T22:39:56.960624Z"
    },
    "tags": []
   },
   "outputs": [
    {
     "name": "stdout",
     "output_type": "stream",
     "text": [
      "bclf_ss has an average Accuracy of 0.7678177325049713\n",
      "bclf_ss has an average F1 of 0.6346910956307087\n",
      "bclf_ss has an average Recall of 0.5612249176013777\n",
      "bclf_ss has an average Precision of 0.7307342436661142\n",
      "time: 10.2 s\n"
     ]
    }
   ],
   "source": [
    "# checking cross val scores\n",
    "modeling.report(bclf_ss, X_train, y_train, 'bclf_ss',\\\n",
    "                'Bagging CLF SS()')"
   ]
  },
  {
   "cell_type": "markdown",
   "id": "7bd398e6-5cbb-45e0-95a5-3eb3aa82efc0",
   "metadata": {},
   "source": [
    "### Test Data Confusion Matrix"
   ]
  },
  {
   "cell_type": "code",
   "execution_count": 59,
   "id": "b1434725-96c5-4590-80dc-728924452ac3",
   "metadata": {
    "execution": {
     "iopub.execute_input": "2021-11-29T22:40:07.189863Z",
     "iopub.status.busy": "2021-11-29T22:40:07.189697Z",
     "iopub.status.idle": "2021-11-29T22:40:07.508224Z",
     "shell.execute_reply": "2021-11-29T22:40:07.507468Z",
     "shell.execute_reply.started": "2021-11-29T22:40:07.189842Z"
    },
    "tags": []
   },
   "outputs": [
    {
     "data": {
      "image/png": "[encoded data removed]",
      "text/plain": [
       "<Figure size 504x504 with 2 Axes>"
      ]
     },
     "metadata": {},
     "output_type": "display_data"
    },
    {
     "data": {
      "text/html": [
       "<div>\n",
       "<style scoped>\n",
       "    .dataframe tbody tr th:only-of-type {\n",
       "        vertical-align: middle;\n",
       "    }\n",
       "\n",
       "    .dataframe tbody tr th {\n",
       "        vertical-align: top;\n",
       "    }\n",
       "\n",
       "    .dataframe thead th {\n",
       "        text-align: right;\n",
       "    }\n",
       "</style>\n",
       "<table border=\"1\" class=\"dataframe\">\n",
       "  <thead>\n",
       "    <tr style=\"text-align: right;\">\n",
       "      <th></th>\n",
       "      <th>Accuracy</th>\n",
       "      <th>F1</th>\n",
       "      <th>Recall</th>\n",
       "      <th>Precision</th>\n",
       "    </tr>\n",
       "  </thead>\n",
       "  <tbody>\n",
       "    <tr>\n",
       "      <th>0</th>\n",
       "      <td>0.771444</td>\n",
       "      <td>0.638961</td>\n",
       "      <td>0.5625</td>\n",
       "      <td>0.739479</td>\n",
       "    </tr>\n",
       "  </tbody>\n",
       "</table>\n",
       "</div>"
      ],
      "text/plain": [
       "   Accuracy        F1  Recall  Precision\n",
       "0  0.771444  0.638961  0.5625   0.739479"
      ]
     },
     "execution_count": 59,
     "metadata": {},
     "output_type": "execute_result"
    },
    {
     "name": "stdout",
     "output_type": "stream",
     "text": [
      "time: 269 ms\n"
     ]
    }
   ],
   "source": [
    "f.confusion_report(bclf_ss, X_test, y_test)"
   ]
  },
  {
   "cell_type": "markdown",
   "id": "cb178a2a-dbcc-4163-a42f-3adab416e18f",
   "metadata": {},
   "source": [
    "## Random Forest Classifier"
   ]
  },
  {
   "cell_type": "code",
   "execution_count": 60,
   "id": "1253e5cf-6a68-4e70-a96e-540f47ddf7b0",
   "metadata": {
    "execution": {
     "iopub.execute_input": "2021-11-29T22:40:07.509361Z",
     "iopub.status.busy": "2021-11-29T22:40:07.509195Z",
     "iopub.status.idle": "2021-11-29T22:40:07.556279Z",
     "shell.execute_reply": "2021-11-29T22:40:07.555528Z",
     "shell.execute_reply.started": "2021-11-29T22:40:07.509343Z"
    },
    "tags": []
   },
   "outputs": [
    {
     "name": "stdout",
     "output_type": "stream",
     "text": [
      "time: 699 µs\n"
     ]
    }
   ],
   "source": [
    "RF = RandomForestClassifier(n_jobs=-1, random_state=2021)"
   ]
  },
  {
   "cell_type": "code",
   "execution_count": 61,
   "id": "f8ffaeaf-fcd3-4380-99c7-648e1fc33353",
   "metadata": {
    "execution": {
     "iopub.execute_input": "2021-11-29T22:40:07.557950Z",
     "iopub.status.busy": "2021-11-29T22:40:07.557762Z",
     "iopub.status.idle": "2021-11-29T22:40:07.613651Z",
     "shell.execute_reply": "2021-11-29T22:40:07.612413Z",
     "shell.execute_reply.started": "2021-11-29T22:40:07.557931Z"
    },
    "tags": []
   },
   "outputs": [
    {
     "name": "stdout",
     "output_type": "stream",
     "text": [
      "time: 735 µs\n"
     ]
    }
   ],
   "source": [
    "rf_ss = make_pipeline(preprocessing_ss, RF)"
   ]
  },
  {
   "cell_type": "markdown",
   "id": "2299a55a-4d7e-4cc2-bae4-c0a668fae8e3",
   "metadata": {},
   "source": [
    "### Fitting Model"
   ]
  },
  {
   "cell_type": "code",
   "execution_count": 62,
   "id": "2373b051-c06b-4392-a28c-b7fa6a359032",
   "metadata": {
    "execution": {
     "iopub.execute_input": "2021-11-29T22:40:07.616114Z",
     "iopub.status.busy": "2021-11-29T22:40:07.615383Z",
     "iopub.status.idle": "2021-11-29T22:40:09.459650Z",
     "shell.execute_reply": "2021-11-29T22:40:09.458975Z",
     "shell.execute_reply.started": "2021-11-29T22:40:07.616083Z"
    },
    "tags": []
   },
   "outputs": [
    {
     "data": {
      "text/plain": [
       "Pipeline(steps=[('columntransformer',\n",
       "                 ColumnTransformer(transformers=[('onehotencoder',\n",
       "                                                  OneHotEncoder(handle_unknown='ignore'),\n",
       "                                                  <sklearn.compose._column_transformer.make_column_selector object at 0x103edec10>),\n",
       "                                                 ('standardscaler',\n",
       "                                                  StandardScaler(),\n",
       "                                                  <sklearn.compose._column_transformer.make_column_selector object at 0x103fc2ee0>)])),\n",
       "                ('randomforestclassifier',\n",
       "                 RandomForestClassifier(n_jobs=-1, random_state=2021))])"
      ]
     },
     "execution_count": 62,
     "metadata": {},
     "output_type": "execute_result"
    },
    {
     "name": "stdout",
     "output_type": "stream",
     "text": [
      "time: 1.79 s\n"
     ]
    }
   ],
   "source": [
    "rf_ss.fit(X_train, y_train)"
   ]
  },
  {
   "cell_type": "markdown",
   "id": "b60945c6-1bf9-4898-9ed1-8b8761d21b08",
   "metadata": {},
   "source": [
    "### Cross Val Scores"
   ]
  },
  {
   "cell_type": "code",
   "execution_count": 63,
   "id": "5b96a059-3781-4613-b76e-25b37715e387",
   "metadata": {
    "execution": {
     "iopub.execute_input": "2021-11-29T22:40:09.461187Z",
     "iopub.status.busy": "2021-11-29T22:40:09.460985Z",
     "iopub.status.idle": "2021-11-29T22:40:18.803686Z",
     "shell.execute_reply": "2021-11-29T22:40:18.802982Z",
     "shell.execute_reply.started": "2021-11-29T22:40:09.461159Z"
    },
    "tags": []
   },
   "outputs": [
    {
     "name": "stdout",
     "output_type": "stream",
     "text": [
      "rf_ss has an average Accuracy of 0.7782348672062323\n",
      "rf_ss has an average F1 of 0.6552371168495934\n",
      "rf_ss has an average Recall of 0.5863811686091885\n",
      "rf_ss has an average Precision of 0.7430118917459738\n",
      "time: 9.28 s\n"
     ]
    }
   ],
   "source": [
    "# checking cross val scores\n",
    "modeling.report(rf_ss, X_train, y_train, 'rf_ss',\\\n",
    "                'Random Forest SS()')"
   ]
  },
  {
   "cell_type": "markdown",
   "id": "b5875bfe-b8c7-42db-bd4c-84d99d06be63",
   "metadata": {},
   "source": [
    "### Test Data Confusion Matrix"
   ]
  },
  {
   "cell_type": "code",
   "execution_count": 64,
   "id": "aa0166ba-7262-4a07-9780-fd5d374eab1b",
   "metadata": {
    "execution": {
     "iopub.execute_input": "2021-11-29T22:40:18.805028Z",
     "iopub.status.busy": "2021-11-29T22:40:18.804819Z",
     "iopub.status.idle": "2021-11-29T22:40:19.323514Z",
     "shell.execute_reply": "2021-11-29T22:40:19.322978Z",
     "shell.execute_reply.started": "2021-11-29T22:40:18.805003Z"
    },
    "tags": []
   },
   "outputs": [
    {
     "data": {
      "image/png": "[encoded data removed]",
      "text/plain": [
       "<Figure size 504x504 with 2 Axes>"
      ]
     },
     "metadata": {},
     "output_type": "display_data"
    },
    {
     "data": {
      "text/html": [
       "<div>\n",
       "<style scoped>\n",
       "    .dataframe tbody tr th:only-of-type {\n",
       "        vertical-align: middle;\n",
       "    }\n",
       "\n",
       "    .dataframe tbody tr th {\n",
       "        vertical-align: top;\n",
       "    }\n",
       "\n",
       "    .dataframe thead th {\n",
       "        text-align: right;\n",
       "    }\n",
       "</style>\n",
       "<table border=\"1\" class=\"dataframe\">\n",
       "  <thead>\n",
       "    <tr style=\"text-align: right;\">\n",
       "      <th></th>\n",
       "      <th>Accuracy</th>\n",
       "      <th>F1</th>\n",
       "      <th>Recall</th>\n",
       "      <th>Precision</th>\n",
       "    </tr>\n",
       "  </thead>\n",
       "  <tbody>\n",
       "    <tr>\n",
       "      <th>0</th>\n",
       "      <td>0.784324</td>\n",
       "      <td>0.661796</td>\n",
       "      <td>0.58689</td>\n",
       "      <td>0.758621</td>\n",
       "    </tr>\n",
       "  </tbody>\n",
       "</table>\n",
       "</div>"
      ],
      "text/plain": [
       "   Accuracy        F1   Recall  Precision\n",
       "0  0.784324  0.661796  0.58689   0.758621"
      ]
     },
     "execution_count": 64,
     "metadata": {},
     "output_type": "execute_result"
    },
    {
     "name": "stdout",
     "output_type": "stream",
     "text": [
      "time: 455 ms\n"
     ]
    }
   ],
   "source": [
    "f.confusion_report(rf_ss, X_test, y_test)"
   ]
  },
  {
   "cell_type": "markdown",
   "id": "5d282fa4-3310-4a6a-b28c-44eabf246171",
   "metadata": {},
   "source": [
    "## AdaBoost"
   ]
  },
  {
   "cell_type": "code",
   "execution_count": 65,
   "id": "34c06ada-2a06-4ea3-a1ed-28e27e884f79",
   "metadata": {
    "execution": {
     "iopub.execute_input": "2021-11-29T22:40:19.324747Z",
     "iopub.status.busy": "2021-11-29T22:40:19.324600Z",
     "iopub.status.idle": "2021-11-29T22:40:19.369924Z",
     "shell.execute_reply": "2021-11-29T22:40:19.369048Z",
     "shell.execute_reply.started": "2021-11-29T22:40:19.324729Z"
    },
    "tags": []
   },
   "outputs": [
    {
     "name": "stdout",
     "output_type": "stream",
     "text": [
      "time: 660 µs\n"
     ]
    }
   ],
   "source": [
    "ADA = AdaBoostClassifier(base_estimator=DT, random_state=2021)"
   ]
  },
  {
   "cell_type": "code",
   "execution_count": 66,
   "id": "078fc428-709f-426a-8c02-9c8c65d3664a",
   "metadata": {
    "execution": {
     "iopub.execute_input": "2021-11-29T22:40:19.371931Z",
     "iopub.status.busy": "2021-11-29T22:40:19.371485Z",
     "iopub.status.idle": "2021-11-29T22:40:19.438593Z",
     "shell.execute_reply": "2021-11-29T22:40:19.437724Z",
     "shell.execute_reply.started": "2021-11-29T22:40:19.371893Z"
    },
    "tags": []
   },
   "outputs": [
    {
     "name": "stdout",
     "output_type": "stream",
     "text": [
      "time: 921 µs\n"
     ]
    }
   ],
   "source": [
    "ada_ss = make_pipeline(preprocessing_ss, ADA)"
   ]
  },
  {
   "cell_type": "markdown",
   "id": "ae1cd672-8781-4605-8597-b3a0514d3d14",
   "metadata": {},
   "source": [
    "### Fitting Model"
   ]
  },
  {
   "cell_type": "code",
   "execution_count": 67,
   "id": "49278e62-4bae-4e42-8126-62040eba9ba6",
   "metadata": {
    "execution": {
     "iopub.execute_input": "2021-11-29T22:40:19.440335Z",
     "iopub.status.busy": "2021-11-29T22:40:19.439985Z",
     "iopub.status.idle": "2021-11-29T22:40:20.006369Z",
     "shell.execute_reply": "2021-11-29T22:40:20.005444Z",
     "shell.execute_reply.started": "2021-11-29T22:40:19.440302Z"
    },
    "tags": []
   },
   "outputs": [
    {
     "data": {
      "text/plain": [
       "Pipeline(steps=[('columntransformer',\n",
       "                 ColumnTransformer(transformers=[('onehotencoder',\n",
       "                                                  OneHotEncoder(handle_unknown='ignore'),\n",
       "                                                  <sklearn.compose._column_transformer.make_column_selector object at 0x103edec10>),\n",
       "                                                 ('standardscaler',\n",
       "                                                  StandardScaler(),\n",
       "                                                  <sklearn.compose._column_transformer.make_column_selector object at 0x103fc2ee0>)])),\n",
       "                ('adaboostclassifier',\n",
       "                 AdaBoostClassifier(base_estimator=DecisionTreeClassifier(random_state=2021),\n",
       "                                    random_state=2021))])"
      ]
     },
     "execution_count": 67,
     "metadata": {},
     "output_type": "execute_result"
    },
    {
     "name": "stdout",
     "output_type": "stream",
     "text": [
      "time: 494 ms\n"
     ]
    }
   ],
   "source": [
    "ada_ss.fit(X_train, y_train)"
   ]
  },
  {
   "cell_type": "markdown",
   "id": "9f636f55-6059-4d8c-b63c-36b8534bd047",
   "metadata": {},
   "source": [
    "### Cross Val Scores"
   ]
  },
  {
   "cell_type": "code",
   "execution_count": 68,
   "id": "38cc4dc4-0e92-4c8e-8b23-4d845e0d61e7",
   "metadata": {
    "execution": {
     "iopub.execute_input": "2021-11-29T22:40:20.007695Z",
     "iopub.status.busy": "2021-11-29T22:40:20.007536Z",
     "iopub.status.idle": "2021-11-29T22:40:21.903381Z",
     "shell.execute_reply": "2021-11-29T22:40:21.902754Z",
     "shell.execute_reply.started": "2021-11-29T22:40:20.007676Z"
    },
    "tags": []
   },
   "outputs": [
    {
     "name": "stdout",
     "output_type": "stream",
     "text": [
      "ada_ss has an average Accuracy of 0.7185668244830602\n",
      "ada_ss has an average F1 of 0.6098888181481925\n",
      "ada_ss has an average Recall of 0.6120401963376957\n",
      "ada_ss has an average Precision of 0.6079263780906887\n",
      "time: 1.85 s\n"
     ]
    }
   ],
   "source": [
    "# checking cross val scores\n",
    "modeling.report(ada_ss, X_train, y_train, 'ada_ss',\\\n",
    "                'AdaBoost SS()')"
   ]
  },
  {
   "cell_type": "markdown",
   "id": "735e157c-4ce1-47f1-872d-008fd88ba6bf",
   "metadata": {},
   "source": [
    "### Test Data Confusion Matrix"
   ]
  },
  {
   "cell_type": "code",
   "execution_count": 69,
   "id": "0a97aa80-4582-4c38-b6f9-15245f758615",
   "metadata": {
    "execution": {
     "iopub.execute_input": "2021-11-29T22:40:21.904866Z",
     "iopub.status.busy": "2021-11-29T22:40:21.904703Z",
     "iopub.status.idle": "2021-11-29T22:40:22.178527Z",
     "shell.execute_reply": "2021-11-29T22:40:22.177898Z",
     "shell.execute_reply.started": "2021-11-29T22:40:21.904847Z"
    },
    "tags": []
   },
   "outputs": [
    {
     "data": {
      "image/png": "[encoded data removed]",
      "text/plain": [
       "<Figure size 504x504 with 2 Axes>"
      ]
     },
     "metadata": {},
     "output_type": "display_data"
    },
    {
     "data": {
      "text/html": [
       "<div>\n",
       "<style scoped>\n",
       "    .dataframe tbody tr th:only-of-type {\n",
       "        vertical-align: middle;\n",
       "    }\n",
       "\n",
       "    .dataframe tbody tr th {\n",
       "        vertical-align: top;\n",
       "    }\n",
       "\n",
       "    .dataframe thead th {\n",
       "        text-align: right;\n",
       "    }\n",
       "</style>\n",
       "<table border=\"1\" class=\"dataframe\">\n",
       "  <thead>\n",
       "    <tr style=\"text-align: right;\">\n",
       "      <th></th>\n",
       "      <th>Accuracy</th>\n",
       "      <th>F1</th>\n",
       "      <th>Recall</th>\n",
       "      <th>Precision</th>\n",
       "    </tr>\n",
       "  </thead>\n",
       "  <tbody>\n",
       "    <tr>\n",
       "      <th>0</th>\n",
       "      <td>0.723212</td>\n",
       "      <td>0.613619</td>\n",
       "      <td>0.61128</td>\n",
       "      <td>0.615975</td>\n",
       "    </tr>\n",
       "  </tbody>\n",
       "</table>\n",
       "</div>"
      ],
      "text/plain": [
       "   Accuracy        F1   Recall  Precision\n",
       "0  0.723212  0.613619  0.61128   0.615975"
      ]
     },
     "execution_count": 69,
     "metadata": {},
     "output_type": "execute_result"
    },
    {
     "name": "stdout",
     "output_type": "stream",
     "text": [
      "time: 218 ms\n"
     ]
    }
   ],
   "source": [
    "f.confusion_report(ada_ss, X_test, y_test)"
   ]
  },
  {
   "cell_type": "markdown",
   "id": "b7d68be8-2301-4eab-88ac-e970e26514e5",
   "metadata": {},
   "source": [
    "## XGBoost"
   ]
  },
  {
   "cell_type": "code",
   "execution_count": 70,
   "id": "5067fb03-ee40-481a-9a76-9fbe95d41991",
   "metadata": {
    "execution": {
     "iopub.execute_input": "2021-11-29T22:40:22.179619Z",
     "iopub.status.busy": "2021-11-29T22:40:22.179461Z",
     "iopub.status.idle": "2021-11-29T22:40:22.229956Z",
     "shell.execute_reply": "2021-11-29T22:40:22.229272Z",
     "shell.execute_reply.started": "2021-11-29T22:40:22.179601Z"
    },
    "tags": []
   },
   "outputs": [
    {
     "name": "stdout",
     "output_type": "stream",
     "text": [
      "time: 693 µs\n"
     ]
    }
   ],
   "source": [
    "XGB = XGBClassifier(use_label_encoder=False, verbosity=0)"
   ]
  },
  {
   "cell_type": "code",
   "execution_count": 71,
   "id": "40b4ad1a-80b3-4b9c-9038-05e3e8da1a55",
   "metadata": {
    "execution": {
     "iopub.execute_input": "2021-11-29T22:40:22.231365Z",
     "iopub.status.busy": "2021-11-29T22:40:22.231070Z",
     "iopub.status.idle": "2021-11-29T22:40:22.289951Z",
     "shell.execute_reply": "2021-11-29T22:40:22.289141Z",
     "shell.execute_reply.started": "2021-11-29T22:40:22.231339Z"
    },
    "tags": []
   },
   "outputs": [
    {
     "name": "stdout",
     "output_type": "stream",
     "text": [
      "time: 850 µs\n"
     ]
    }
   ],
   "source": [
    "xgb_ss = make_pipeline(preprocessing_ss, XGB)"
   ]
  },
  {
   "cell_type": "markdown",
   "id": "740c4dd9-ec3a-4173-a963-82da1fcbd889",
   "metadata": {},
   "source": [
    "### Fitting Model"
   ]
  },
  {
   "cell_type": "code",
   "execution_count": 72,
   "id": "b7db555e-4d00-4a6b-8784-7f86682477f5",
   "metadata": {
    "execution": {
     "iopub.execute_input": "2021-11-29T22:40:22.291892Z",
     "iopub.status.busy": "2021-11-29T22:40:22.291622Z",
     "iopub.status.idle": "2021-11-29T22:40:23.095376Z",
     "shell.execute_reply": "2021-11-29T22:40:23.094490Z",
     "shell.execute_reply.started": "2021-11-29T22:40:22.291854Z"
    },
    "tags": []
   },
   "outputs": [
    {
     "data": {
      "text/plain": [
       "Pipeline(steps=[('columntransformer',\n",
       "                 ColumnTransformer(transformers=[('onehotencoder',\n",
       "                                                  OneHotEncoder(handle_unknown='ignore'),\n",
       "                                                  <sklearn.compose._column_transformer.make_column_selector object at 0x103edec10>),\n",
       "                                                 ('standardscaler',\n",
       "                                                  StandardScaler(),\n",
       "                                                  <sklearn.compose._column_transformer.make_column_selector object at 0x103fc2ee0>)])),\n",
       "                ('xgbclassifier',\n",
       "                 XGBClassifie...\n",
       "                               importance_type='gain',\n",
       "                               interaction_constraints='',\n",
       "                               learning_rate=0.300000012, max_delta_step=0,\n",
       "                               max_depth=6, min_child_weight=1, missing=nan,\n",
       "                               monotone_constraints='()', n_estimators=100,\n",
       "                               n_jobs=8, num_parallel_tree=1, random_state=0,\n",
       "                               reg_alpha=0, reg_lambda=1, scale_pos_weight=1,\n",
       "                               subsample=1, tree_method='exact',\n",
       "                               use_label_encoder=False, validate_parameters=1,\n",
       "                               verbosity=0))])"
      ]
     },
     "execution_count": 72,
     "metadata": {},
     "output_type": "execute_result"
    },
    {
     "name": "stdout",
     "output_type": "stream",
     "text": [
      "time: 693 ms\n"
     ]
    }
   ],
   "source": [
    "%%capture --no-display\n",
    "xgb_ss.fit(X_train, y_train)"
   ]
  },
  {
   "cell_type": "markdown",
   "id": "83254491-49f0-4dbd-b92f-7d053eaef776",
   "metadata": {},
   "source": [
    "### Cross Val Scores"
   ]
  },
  {
   "cell_type": "code",
   "execution_count": 73,
   "id": "4b207e6b-7d17-45fc-a48f-7eab74ebe412",
   "metadata": {
    "execution": {
     "iopub.execute_input": "2021-11-29T22:40:23.097370Z",
     "iopub.status.busy": "2021-11-29T22:40:23.097103Z",
     "iopub.status.idle": "2021-11-29T22:40:26.431858Z",
     "shell.execute_reply": "2021-11-29T22:40:26.431092Z",
     "shell.execute_reply.started": "2021-11-29T22:40:23.097342Z"
    },
    "tags": []
   },
   "outputs": [
    {
     "name": "stdout",
     "output_type": "stream",
     "text": [
      "time: 3.18 s\n"
     ]
    }
   ],
   "source": [
    "%%capture --no-display\n",
    "# checking cross val scores\n",
    "modeling.report(xgb_ss, X_train, y_train, 'xgb_ss',\\\n",
    "                'XGBoost SS()')"
   ]
  },
  {
   "cell_type": "markdown",
   "id": "ec87bcfc-b40f-4ef0-a57f-2a5e81f9862c",
   "metadata": {},
   "source": [
    "### Test Data Confusion Matrix"
   ]
  },
  {
   "cell_type": "code",
   "execution_count": 74,
   "id": "035b82f7-3d65-4dd0-ac1b-4c6664501c68",
   "metadata": {
    "execution": {
     "iopub.execute_input": "2021-11-29T22:40:26.433744Z",
     "iopub.status.busy": "2021-11-29T22:40:26.433507Z",
     "iopub.status.idle": "2021-11-29T22:40:27.020493Z",
     "shell.execute_reply": "2021-11-29T22:40:27.019730Z",
     "shell.execute_reply.started": "2021-11-29T22:40:26.433717Z"
    },
    "tags": []
   },
   "outputs": [
    {
     "data": {
      "image/png": "[encoded data removed]",
      "text/plain": [
       "<Figure size 504x504 with 2 Axes>"
      ]
     },
     "metadata": {},
     "output_type": "display_data"
    },
    {
     "data": {
      "text/html": [
       "<div>\n",
       "<style scoped>\n",
       "    .dataframe tbody tr th:only-of-type {\n",
       "        vertical-align: middle;\n",
       "    }\n",
       "\n",
       "    .dataframe tbody tr th {\n",
       "        vertical-align: top;\n",
       "    }\n",
       "\n",
       "    .dataframe thead th {\n",
       "        text-align: right;\n",
       "    }\n",
       "</style>\n",
       "<table border=\"1\" class=\"dataframe\">\n",
       "  <thead>\n",
       "    <tr style=\"text-align: right;\">\n",
       "      <th></th>\n",
       "      <th>Accuracy</th>\n",
       "      <th>F1</th>\n",
       "      <th>Recall</th>\n",
       "      <th>Precision</th>\n",
       "    </tr>\n",
       "  </thead>\n",
       "  <tbody>\n",
       "    <tr>\n",
       "      <th>0</th>\n",
       "      <td>0.777473</td>\n",
       "      <td>0.657961</td>\n",
       "      <td>0.595274</td>\n",
       "      <td>0.735405</td>\n",
       "    </tr>\n",
       "  </tbody>\n",
       "</table>\n",
       "</div>"
      ],
      "text/plain": [
       "   Accuracy        F1    Recall  Precision\n",
       "0  0.777473  0.657961  0.595274   0.735405"
      ]
     },
     "execution_count": 74,
     "metadata": {},
     "output_type": "execute_result"
    },
    {
     "name": "stdout",
     "output_type": "stream",
     "text": [
      "time: 423 ms\n"
     ]
    }
   ],
   "source": [
    "%%capture --no-display\n",
    "f.confusion_report(xgb_ss, X_test, y_test)"
   ]
  },
  {
   "cell_type": "markdown",
   "id": "f9d079cc-9c7d-44d7-acca-07c7056328f2",
   "metadata": {
    "tags": []
   },
   "source": [
    "## Model Summary"
   ]
  },
  {
   "cell_type": "code",
   "execution_count": 75,
   "id": "fde20211-428c-40ca-9047-b5b3d9306910",
   "metadata": {
    "execution": {
     "iopub.execute_input": "2021-11-29T22:40:27.022201Z",
     "iopub.status.busy": "2021-11-29T22:40:27.021987Z",
     "iopub.status.idle": "2021-11-29T22:40:27.089318Z",
     "shell.execute_reply": "2021-11-29T22:40:27.088661Z",
     "shell.execute_reply.started": "2021-11-29T22:40:27.022176Z"
    },
    "tags": []
   },
   "outputs": [
    {
     "data": {
      "text/html": [
       "<div>\n",
       "<style scoped>\n",
       "    .dataframe tbody tr th:only-of-type {\n",
       "        vertical-align: middle;\n",
       "    }\n",
       "\n",
       "    .dataframe tbody tr th {\n",
       "        vertical-align: top;\n",
       "    }\n",
       "\n",
       "    .dataframe thead th {\n",
       "        text-align: right;\n",
       "    }\n",
       "</style>\n",
       "<table border=\"1\" class=\"dataframe\">\n",
       "  <thead>\n",
       "    <tr style=\"text-align: right;\">\n",
       "      <th></th>\n",
       "      <th>Name</th>\n",
       "      <th>Accuracy</th>\n",
       "      <th>F1</th>\n",
       "      <th>Recall</th>\n",
       "      <th>Precision</th>\n",
       "      <th>CV_Time(sec)</th>\n",
       "      <th>Notes</th>\n",
       "    </tr>\n",
       "  </thead>\n",
       "  <tbody>\n",
       "    <tr>\n",
       "      <th>0</th>\n",
       "      <td>fsm</td>\n",
       "      <td>0.656524</td>\n",
       "      <td>0.346311</td>\n",
       "      <td>0.253047</td>\n",
       "      <td>0.549340</td>\n",
       "      <td>0.199047</td>\n",
       "      <td>FSM Naive Bayes</td>\n",
       "    </tr>\n",
       "    <tr>\n",
       "      <th>1</th>\n",
       "      <td>Baseline</td>\n",
       "      <td>0.359649</td>\n",
       "      <td>0.529032</td>\n",
       "      <td>1.000000</td>\n",
       "      <td>0.359649</td>\n",
       "      <td>0.183302</td>\n",
       "      <td>Baseline DummyCFL</td>\n",
       "    </tr>\n",
       "    <tr>\n",
       "      <th>2</th>\n",
       "      <td>knn_ss</td>\n",
       "      <td>0.741410</td>\n",
       "      <td>0.600426</td>\n",
       "      <td>0.540400</td>\n",
       "      <td>0.676061</td>\n",
       "      <td>3.616009</td>\n",
       "      <td>KNN SS()</td>\n",
       "    </tr>\n",
       "    <tr>\n",
       "      <th>3</th>\n",
       "      <td>dt_ss</td>\n",
       "      <td>0.714821</td>\n",
       "      <td>0.605655</td>\n",
       "      <td>0.609246</td>\n",
       "      <td>0.602254</td>\n",
       "      <td>1.649509</td>\n",
       "      <td>Decision Tree CLF SS()</td>\n",
       "    </tr>\n",
       "    <tr>\n",
       "      <th>4</th>\n",
       "      <td>ada_ss</td>\n",
       "      <td>0.718567</td>\n",
       "      <td>0.609889</td>\n",
       "      <td>0.612040</td>\n",
       "      <td>0.607926</td>\n",
       "      <td>1.844192</td>\n",
       "      <td>AdaBoost SS()</td>\n",
       "    </tr>\n",
       "    <tr>\n",
       "      <th>5</th>\n",
       "      <td>lsvc_ss</td>\n",
       "      <td>0.768092</td>\n",
       "      <td>0.634062</td>\n",
       "      <td>0.558944</td>\n",
       "      <td>0.732968</td>\n",
       "      <td>2.424637</td>\n",
       "      <td>Linear SVC SS()</td>\n",
       "    </tr>\n",
       "    <tr>\n",
       "      <th>6</th>\n",
       "      <td>bclf_ss</td>\n",
       "      <td>0.767818</td>\n",
       "      <td>0.634691</td>\n",
       "      <td>0.561225</td>\n",
       "      <td>0.730734</td>\n",
       "      <td>10.177706</td>\n",
       "      <td>Bagging CLF SS()</td>\n",
       "    </tr>\n",
       "    <tr>\n",
       "      <th>7</th>\n",
       "      <td>logreg_ss</td>\n",
       "      <td>0.768092</td>\n",
       "      <td>0.637288</td>\n",
       "      <td>0.566820</td>\n",
       "      <td>0.728209</td>\n",
       "      <td>4.954445</td>\n",
       "      <td>LogReg SS()</td>\n",
       "    </tr>\n",
       "    <tr>\n",
       "      <th>8</th>\n",
       "      <td>svc_ss</td>\n",
       "      <td>0.785544</td>\n",
       "      <td>0.651997</td>\n",
       "      <td>0.558942</td>\n",
       "      <td>0.782661</td>\n",
       "      <td>19.619819</td>\n",
       "      <td>Support Vector CLF SS()</td>\n",
       "    </tr>\n",
       "    <tr>\n",
       "      <th>9</th>\n",
       "      <td>rf_ss</td>\n",
       "      <td>0.778235</td>\n",
       "      <td>0.655237</td>\n",
       "      <td>0.586381</td>\n",
       "      <td>0.743012</td>\n",
       "      <td>9.274697</td>\n",
       "      <td>Random Forest SS()</td>\n",
       "    </tr>\n",
       "    <tr>\n",
       "      <th>10</th>\n",
       "      <td>xgb_ss</td>\n",
       "      <td>0.780610</td>\n",
       "      <td>0.664661</td>\n",
       "      <td>0.605180</td>\n",
       "      <td>0.737620</td>\n",
       "      <td>3.178720</td>\n",
       "      <td>XGBoost SS()</td>\n",
       "    </tr>\n",
       "  </tbody>\n",
       "</table>\n",
       "</div>"
      ],
      "text/plain": [
       "         Name  Accuracy        F1    Recall  Precision  CV_Time(sec)  \\\n",
       "0         fsm  0.656524  0.346311  0.253047   0.549340      0.199047   \n",
       "1    Baseline  0.359649  0.529032  1.000000   0.359649      0.183302   \n",
       "2      knn_ss  0.741410  0.600426  0.540400   0.676061      3.616009   \n",
       "3       dt_ss  0.714821  0.605655  0.609246   0.602254      1.649509   \n",
       "4      ada_ss  0.718567  0.609889  0.612040   0.607926      1.844192   \n",
       "5     lsvc_ss  0.768092  0.634062  0.558944   0.732968      2.424637   \n",
       "6     bclf_ss  0.767818  0.634691  0.561225   0.730734     10.177706   \n",
       "7   logreg_ss  0.768092  0.637288  0.566820   0.728209      4.954445   \n",
       "8      svc_ss  0.785544  0.651997  0.558942   0.782661     19.619819   \n",
       "9       rf_ss  0.778235  0.655237  0.586381   0.743012      9.274697   \n",
       "10     xgb_ss  0.780610  0.664661  0.605180   0.737620      3.178720   \n",
       "\n",
       "                      Notes  \n",
       "0           FSM Naive Bayes  \n",
       "1         Baseline DummyCFL  \n",
       "2                  KNN SS()  \n",
       "3    Decision Tree CLF SS()  \n",
       "4             AdaBoost SS()  \n",
       "5           Linear SVC SS()  \n",
       "6          Bagging CLF SS()  \n",
       "7               LogReg SS()  \n",
       "8   Support Vector CLF SS()  \n",
       "9        Random Forest SS()  \n",
       "10             XGBoost SS()  "
      ]
     },
     "execution_count": 75,
     "metadata": {},
     "output_type": "execute_result"
    },
    {
     "name": "stdout",
     "output_type": "stream",
     "text": [
      "time: 10.7 ms\n"
     ]
    }
   ],
   "source": [
    "modeling.history"
   ]
  },
  {
   "cell_type": "markdown",
   "id": "c5b19484-34e4-4452-90ad-cc0087a06745",
   "metadata": {
    "tags": []
   },
   "source": [
    "## Voting Classifier (BCLF, RF, XGBoost)\n",
    "I found that the combination of these three models had the best mix of speed and performance."
   ]
  },
  {
   "cell_type": "code",
   "execution_count": 76,
   "id": "8d1538df-8907-4cff-acda-a510c230aa78",
   "metadata": {
    "execution": {
     "iopub.execute_input": "2021-11-29T22:40:27.090706Z",
     "iopub.status.busy": "2021-11-29T22:40:27.090518Z",
     "iopub.status.idle": "2021-11-29T22:40:27.147320Z",
     "shell.execute_reply": "2021-11-29T22:40:27.146790Z",
     "shell.execute_reply.started": "2021-11-29T22:40:27.090683Z"
    },
    "tags": []
   },
   "outputs": [
    {
     "name": "stdout",
     "output_type": "stream",
     "text": [
      "time: 1.09 ms\n"
     ]
    }
   ],
   "source": [
    "clf1 = BCLF\n",
    "clf2 = RF\n",
    "clf3 = XGB\n",
    "\n",
    "estimators = [('bclf',clf1), ('rf', clf2), ('xgb', clf3)]\n",
    "\n",
    "VC = VotingClassifier(estimators=estimators, voting='soft', n_jobs=-1)"
   ]
  },
  {
   "cell_type": "code",
   "execution_count": 77,
   "id": "93fc671c-0004-4f43-af31-e2632ded6b77",
   "metadata": {
    "execution": {
     "iopub.execute_input": "2021-11-29T22:40:27.148786Z",
     "iopub.status.busy": "2021-11-29T22:40:27.148486Z",
     "iopub.status.idle": "2021-11-29T22:40:27.302278Z",
     "shell.execute_reply": "2021-11-29T22:40:27.292258Z",
     "shell.execute_reply.started": "2021-11-29T22:40:27.148763Z"
    },
    "tags": []
   },
   "outputs": [
    {
     "name": "stdout",
     "output_type": "stream",
     "text": [
      "time: 836 µs\n"
     ]
    }
   ],
   "source": [
    "vc_ss = make_pipeline(preprocessing_ss, VC)"
   ]
  },
  {
   "cell_type": "markdown",
   "id": "c69efefc-ef93-4006-96ef-212ea34c130d",
   "metadata": {},
   "source": [
    "### Fitting Model"
   ]
  },
  {
   "cell_type": "code",
   "execution_count": 78,
   "id": "2570fcf8-12ff-42bf-b74c-b1dab332824b",
   "metadata": {
    "execution": {
     "iopub.execute_input": "2021-11-29T22:40:27.305407Z",
     "iopub.status.busy": "2021-11-29T22:40:27.304619Z",
     "iopub.status.idle": "2021-11-29T22:40:32.967270Z",
     "shell.execute_reply": "2021-11-29T22:40:32.966291Z",
     "shell.execute_reply.started": "2021-11-29T22:40:27.305364Z"
    },
    "tags": []
   },
   "outputs": [
    {
     "data": {
      "text/plain": [
       "Pipeline(steps=[('columntransformer',\n",
       "                 ColumnTransformer(transformers=[('onehotencoder',\n",
       "                                                  OneHotEncoder(handle_unknown='ignore'),\n",
       "                                                  <sklearn.compose._column_transformer.make_column_selector object at 0x103edec10>),\n",
       "                                                 ('standardscaler',\n",
       "                                                  StandardScaler(),\n",
       "                                                  <sklearn.compose._column_transformer.make_column_selector object at 0x103fc2ee0>)])),\n",
       "                ('votingclassifier',\n",
       "                 VotingCla...\n",
       "                                                             interaction_constraints='',\n",
       "                                                             learning_rate=0.300000012,\n",
       "                                                             max_delta_step=0,\n",
       "                                                             max_depth=6,\n",
       "                                                             min_child_weight=1,\n",
       "                                                             missing=nan,\n",
       "                                                             monotone_constraints='()',\n",
       "                                                             n_estimators=100,\n",
       "                                                             n_jobs=8,\n",
       "                                                             num_parallel_tree=1,\n",
       "                                                             random_state=0,\n",
       "                                                             reg_alpha=0,\n",
       "                                                             reg_lambda=1,\n",
       "                                                             scale_pos_weight=1,\n",
       "                                                             subsample=1,\n",
       "                                                             tree_method='exact',\n",
       "                                                             use_label_encoder=False,\n",
       "                                                             validate_parameters=1,\n",
       "                                                             verbosity=0))],\n",
       "                                  n_jobs=-1, voting='soft'))])"
      ]
     },
     "execution_count": 78,
     "metadata": {},
     "output_type": "execute_result"
    },
    {
     "name": "stdout",
     "output_type": "stream",
     "text": [
      "time: 5.46 s\n"
     ]
    }
   ],
   "source": [
    "%%capture --no-display\n",
    "vc_ss.fit(X_train, y_train)"
   ]
  },
  {
   "cell_type": "markdown",
   "id": "a573a4a8-fbbb-44cc-b881-744dc33ab023",
   "metadata": {},
   "source": [
    "### Cross Val Scores"
   ]
  },
  {
   "cell_type": "code",
   "execution_count": 79,
   "id": "b4594253-2928-4837-a002-08d7904712d3",
   "metadata": {
    "execution": {
     "iopub.execute_input": "2021-11-29T22:40:32.968969Z",
     "iopub.status.busy": "2021-11-29T22:40:32.968752Z",
     "iopub.status.idle": "2021-11-29T22:40:52.099131Z",
     "shell.execute_reply": "2021-11-29T22:40:52.098422Z",
     "shell.execute_reply.started": "2021-11-29T22:40:32.968943Z"
    },
    "tags": []
   },
   "outputs": [
    {
     "name": "stdout",
     "output_type": "stream",
     "text": [
      "vc_ss has an average Accuracy of 0.7841746959828226\n",
      "vc_ss has an average F1 of 0.6683049117688185\n",
      "vc_ss has an average Recall of 0.605181921968021\n",
      "vc_ss has an average Precision of 0.7467725174879198\n",
      "time: 19.1 s\n"
     ]
    }
   ],
   "source": [
    "# checking cross val scores\n",
    "modeling.report(vc_ss, X_train, y_train, 'vc_ss',\\\n",
    "                'Voting CLF SS()')"
   ]
  },
  {
   "cell_type": "code",
   "execution_count": 80,
   "id": "8c68c497-9923-4cd5-b182-dcbe18c8d35d",
   "metadata": {
    "execution": {
     "iopub.execute_input": "2021-11-29T22:40:52.100910Z",
     "iopub.status.busy": "2021-11-29T22:40:52.100676Z",
     "iopub.status.idle": "2021-11-29T22:40:52.199591Z",
     "shell.execute_reply": "2021-11-29T22:40:52.198714Z",
     "shell.execute_reply.started": "2021-11-29T22:40:52.100875Z"
    },
    "tags": []
   },
   "outputs": [
    {
     "data": {
      "text/html": [
       "<div>\n",
       "<style scoped>\n",
       "    .dataframe tbody tr th:only-of-type {\n",
       "        vertical-align: middle;\n",
       "    }\n",
       "\n",
       "    .dataframe tbody tr th {\n",
       "        vertical-align: top;\n",
       "    }\n",
       "\n",
       "    .dataframe thead th {\n",
       "        text-align: right;\n",
       "    }\n",
       "</style>\n",
       "<table border=\"1\" class=\"dataframe\">\n",
       "  <thead>\n",
       "    <tr style=\"text-align: right;\">\n",
       "      <th></th>\n",
       "      <th>Name</th>\n",
       "      <th>Accuracy</th>\n",
       "      <th>F1</th>\n",
       "      <th>Recall</th>\n",
       "      <th>Precision</th>\n",
       "      <th>CV_Time(sec)</th>\n",
       "      <th>Notes</th>\n",
       "    </tr>\n",
       "  </thead>\n",
       "  <tbody>\n",
       "    <tr>\n",
       "      <th>0</th>\n",
       "      <td>fsm</td>\n",
       "      <td>0.656524</td>\n",
       "      <td>0.346311</td>\n",
       "      <td>0.253047</td>\n",
       "      <td>0.549340</td>\n",
       "      <td>0.199047</td>\n",
       "      <td>FSM Naive Bayes</td>\n",
       "    </tr>\n",
       "    <tr>\n",
       "      <th>1</th>\n",
       "      <td>Baseline</td>\n",
       "      <td>0.359649</td>\n",
       "      <td>0.529032</td>\n",
       "      <td>1.000000</td>\n",
       "      <td>0.359649</td>\n",
       "      <td>0.183302</td>\n",
       "      <td>Baseline DummyCFL</td>\n",
       "    </tr>\n",
       "    <tr>\n",
       "      <th>2</th>\n",
       "      <td>knn_ss</td>\n",
       "      <td>0.741410</td>\n",
       "      <td>0.600426</td>\n",
       "      <td>0.540400</td>\n",
       "      <td>0.676061</td>\n",
       "      <td>3.616009</td>\n",
       "      <td>KNN SS()</td>\n",
       "    </tr>\n",
       "    <tr>\n",
       "      <th>3</th>\n",
       "      <td>dt_ss</td>\n",
       "      <td>0.714821</td>\n",
       "      <td>0.605655</td>\n",
       "      <td>0.609246</td>\n",
       "      <td>0.602254</td>\n",
       "      <td>1.649509</td>\n",
       "      <td>Decision Tree CLF SS()</td>\n",
       "    </tr>\n",
       "    <tr>\n",
       "      <th>4</th>\n",
       "      <td>ada_ss</td>\n",
       "      <td>0.718567</td>\n",
       "      <td>0.609889</td>\n",
       "      <td>0.612040</td>\n",
       "      <td>0.607926</td>\n",
       "      <td>1.844192</td>\n",
       "      <td>AdaBoost SS()</td>\n",
       "    </tr>\n",
       "    <tr>\n",
       "      <th>5</th>\n",
       "      <td>lsvc_ss</td>\n",
       "      <td>0.768092</td>\n",
       "      <td>0.634062</td>\n",
       "      <td>0.558944</td>\n",
       "      <td>0.732968</td>\n",
       "      <td>2.424637</td>\n",
       "      <td>Linear SVC SS()</td>\n",
       "    </tr>\n",
       "    <tr>\n",
       "      <th>6</th>\n",
       "      <td>bclf_ss</td>\n",
       "      <td>0.767818</td>\n",
       "      <td>0.634691</td>\n",
       "      <td>0.561225</td>\n",
       "      <td>0.730734</td>\n",
       "      <td>10.177706</td>\n",
       "      <td>Bagging CLF SS()</td>\n",
       "    </tr>\n",
       "    <tr>\n",
       "      <th>7</th>\n",
       "      <td>logreg_ss</td>\n",
       "      <td>0.768092</td>\n",
       "      <td>0.637288</td>\n",
       "      <td>0.566820</td>\n",
       "      <td>0.728209</td>\n",
       "      <td>4.954445</td>\n",
       "      <td>LogReg SS()</td>\n",
       "    </tr>\n",
       "    <tr>\n",
       "      <th>8</th>\n",
       "      <td>svc_ss</td>\n",
       "      <td>0.785544</td>\n",
       "      <td>0.651997</td>\n",
       "      <td>0.558942</td>\n",
       "      <td>0.782661</td>\n",
       "      <td>19.619819</td>\n",
       "      <td>Support Vector CLF SS()</td>\n",
       "    </tr>\n",
       "    <tr>\n",
       "      <th>9</th>\n",
       "      <td>rf_ss</td>\n",
       "      <td>0.778235</td>\n",
       "      <td>0.655237</td>\n",
       "      <td>0.586381</td>\n",
       "      <td>0.743012</td>\n",
       "      <td>9.274697</td>\n",
       "      <td>Random Forest SS()</td>\n",
       "    </tr>\n",
       "    <tr>\n",
       "      <th>10</th>\n",
       "      <td>xgb_ss</td>\n",
       "      <td>0.780610</td>\n",
       "      <td>0.664661</td>\n",
       "      <td>0.605180</td>\n",
       "      <td>0.737620</td>\n",
       "      <td>3.178720</td>\n",
       "      <td>XGBoost SS()</td>\n",
       "    </tr>\n",
       "    <tr>\n",
       "      <th>11</th>\n",
       "      <td>vc_ss</td>\n",
       "      <td>0.784175</td>\n",
       "      <td>0.668305</td>\n",
       "      <td>0.605182</td>\n",
       "      <td>0.746773</td>\n",
       "      <td>19.071586</td>\n",
       "      <td>Voting CLF SS()</td>\n",
       "    </tr>\n",
       "  </tbody>\n",
       "</table>\n",
       "</div>"
      ],
      "text/plain": [
       "         Name  Accuracy        F1    Recall  Precision  CV_Time(sec)  \\\n",
       "0         fsm  0.656524  0.346311  0.253047   0.549340      0.199047   \n",
       "1    Baseline  0.359649  0.529032  1.000000   0.359649      0.183302   \n",
       "2      knn_ss  0.741410  0.600426  0.540400   0.676061      3.616009   \n",
       "3       dt_ss  0.714821  0.605655  0.609246   0.602254      1.649509   \n",
       "4      ada_ss  0.718567  0.609889  0.612040   0.607926      1.844192   \n",
       "5     lsvc_ss  0.768092  0.634062  0.558944   0.732968      2.424637   \n",
       "6     bclf_ss  0.767818  0.634691  0.561225   0.730734     10.177706   \n",
       "7   logreg_ss  0.768092  0.637288  0.566820   0.728209      4.954445   \n",
       "8      svc_ss  0.785544  0.651997  0.558942   0.782661     19.619819   \n",
       "9       rf_ss  0.778235  0.655237  0.586381   0.743012      9.274697   \n",
       "10     xgb_ss  0.780610  0.664661  0.605180   0.737620      3.178720   \n",
       "11      vc_ss  0.784175  0.668305  0.605182   0.746773     19.071586   \n",
       "\n",
       "                      Notes  \n",
       "0           FSM Naive Bayes  \n",
       "1         Baseline DummyCFL  \n",
       "2                  KNN SS()  \n",
       "3    Decision Tree CLF SS()  \n",
       "4             AdaBoost SS()  \n",
       "5           Linear SVC SS()  \n",
       "6          Bagging CLF SS()  \n",
       "7               LogReg SS()  \n",
       "8   Support Vector CLF SS()  \n",
       "9        Random Forest SS()  \n",
       "10             XGBoost SS()  \n",
       "11          Voting CLF SS()  "
      ]
     },
     "execution_count": 80,
     "metadata": {},
     "output_type": "execute_result"
    },
    {
     "name": "stdout",
     "output_type": "stream",
     "text": [
      "time: 16.6 ms\n"
     ]
    }
   ],
   "source": [
    "modeling.history"
   ]
  },
  {
   "cell_type": "markdown",
   "id": "fee7c15f-7737-4ec0-a107-497e73c9d865",
   "metadata": {
    "execution": {
     "iopub.execute_input": "2021-08-22T03:01:07.529946Z",
     "iopub.status.busy": "2021-08-22T03:01:07.529313Z",
     "iopub.status.idle": "2021-08-22T03:01:07.612111Z",
     "shell.execute_reply": "2021-08-22T03:01:07.610479Z",
     "shell.execute_reply.started": "2021-08-22T03:01:07.529882Z"
    },
    "tags": []
   },
   "source": [
    "## Initial Modeling Summary"
   ]
  },
  {
   "cell_type": "markdown",
   "id": "2dbe007c-a5e9-4f67-bc32-8349bd2b5ae3",
   "metadata": {
    "tags": []
   },
   "source": [
    "Implementation of standard scaling and more advanced algorithms has greatly improved performance, with the highest performing model achieving:\n",
    "\n",
    "- Mean F1 = 0.67\n",
    "- Mean recall = 0.61\n",
    "- Mean precision = 0.75\n",
    "\n",
    "This model is a voting classifier consisting of a bagging classifier, a random forest classifier, and and extreme boosting (XGBoost) classifier."
   ]
  },
  {
   "cell_type": "markdown",
   "id": "ad782809-13b5-48e6-8734-17dbe03f8169",
   "metadata": {},
   "source": [
    "### Test Data Confusion Matrix"
   ]
  },
  {
   "cell_type": "code",
   "execution_count": 81,
   "id": "8cf8a4a2-6c3f-4457-ac3a-4f66617d6e15",
   "metadata": {
    "execution": {
     "iopub.execute_input": "2021-11-29T22:40:52.231910Z",
     "iopub.status.busy": "2021-11-29T22:40:52.231396Z",
     "iopub.status.idle": "2021-11-29T22:40:53.059312Z",
     "shell.execute_reply": "2021-11-29T22:40:53.058477Z",
     "shell.execute_reply.started": "2021-11-29T22:40:52.231859Z"
    },
    "tags": []
   },
   "outputs": [
    {
     "data": {
      "image/png": "[encoded data removed]",
      "text/plain": [
       "<Figure size 504x504 with 2 Axes>"
      ]
     },
     "metadata": {},
     "output_type": "display_data"
    },
    {
     "data": {
      "text/html": [
       "<div>\n",
       "<style scoped>\n",
       "    .dataframe tbody tr th:only-of-type {\n",
       "        vertical-align: middle;\n",
       "    }\n",
       "\n",
       "    .dataframe tbody tr th {\n",
       "        vertical-align: top;\n",
       "    }\n",
       "\n",
       "    .dataframe thead th {\n",
       "        text-align: right;\n",
       "    }\n",
       "</style>\n",
       "<table border=\"1\" class=\"dataframe\">\n",
       "  <thead>\n",
       "    <tr style=\"text-align: right;\">\n",
       "      <th></th>\n",
       "      <th>Accuracy</th>\n",
       "      <th>F1</th>\n",
       "      <th>Recall</th>\n",
       "      <th>Precision</th>\n",
       "    </tr>\n",
       "  </thead>\n",
       "  <tbody>\n",
       "    <tr>\n",
       "      <th>0</th>\n",
       "      <td>0.784599</td>\n",
       "      <td>0.6661</td>\n",
       "      <td>0.597561</td>\n",
       "      <td>0.752399</td>\n",
       "    </tr>\n",
       "  </tbody>\n",
       "</table>\n",
       "</div>"
      ],
      "text/plain": [
       "   Accuracy      F1    Recall  Precision\n",
       "0  0.784599  0.6661  0.597561   0.752399"
      ]
     },
     "execution_count": 81,
     "metadata": {},
     "output_type": "execute_result"
    },
    {
     "name": "stdout",
     "output_type": "stream",
     "text": [
      "time: 700 ms\n"
     ]
    }
   ],
   "source": [
    "%%capture --no-display\n",
    "f.confusion_report(vc_ss, X_test, y_test)"
   ]
  },
  {
   "cell_type": "markdown",
   "id": "c6c8512c-7347-4236-a8cb-18e2d24fef7b",
   "metadata": {
    "tags": []
   },
   "source": [
    "## Top Model Score Interpretation:\n",
    "The confusion matrix indicates that the  voting classifier is still having trouble identifying Unsatisfactory outcomes.\n",
    "- The recall score of .60 indicates that about 60% outcomes were correctly classified as Unsatisfactory. \n",
    "- The precision score .75 indicates that about 75% of outcomes classified as Unsatisfactory were truly Unsatisfactory."
   ]
  },
  {
   "cell_type": "markdown",
   "id": "026188c2-950b-4303-a412-c4031958c20f",
   "metadata": {},
   "source": [
    "# SMOTE"
   ]
  },
  {
   "cell_type": "code",
   "execution_count": 82,
   "id": "e97b9c4f-72de-4951-8f38-9f7e5a67fff4",
   "metadata": {
    "execution": {
     "iopub.execute_input": "2021-11-29T22:40:53.061288Z",
     "iopub.status.busy": "2021-11-29T22:40:53.060543Z",
     "iopub.status.idle": "2021-11-29T22:40:53.122035Z",
     "shell.execute_reply": "2021-11-29T22:40:53.120687Z",
     "shell.execute_reply.started": "2021-11-29T22:40:53.061260Z"
    },
    "tags": []
   },
   "outputs": [
    {
     "data": {
      "text/plain": [
       "0.0    0.640405\n",
       "1.0    0.359595\n",
       "Name: target, dtype: float64"
      ]
     },
     "execution_count": 82,
     "metadata": {},
     "output_type": "execute_result"
    },
    {
     "name": "stdout",
     "output_type": "stream",
     "text": [
      "time: 4.94 ms\n"
     ]
    }
   ],
   "source": [
    "df.target.value_counts(normalize=True)"
   ]
  },
  {
   "cell_type": "markdown",
   "id": "0bac7bd3-352f-4f34-843d-004832eea0bb",
   "metadata": {},
   "source": [
    "Since the classes have an imbalance of around 2 to 1, SMOTE will be added to the pipeline in an attempt to aid model performance."
   ]
  },
  {
   "cell_type": "markdown",
   "id": "769810e1-b698-48d0-83a0-a47810753d03",
   "metadata": {},
   "source": [
    "## Voting CLF SMOTE"
   ]
  },
  {
   "cell_type": "code",
   "execution_count": 83,
   "id": "6c091230-6053-4c98-98e5-65fe0b773040",
   "metadata": {
    "execution": {
     "iopub.execute_input": "2021-11-29T22:40:53.125972Z",
     "iopub.status.busy": "2021-11-29T22:40:53.125365Z",
     "iopub.status.idle": "2021-11-29T22:40:53.200153Z",
     "shell.execute_reply": "2021-11-29T22:40:53.199536Z",
     "shell.execute_reply.started": "2021-11-29T22:40:53.125938Z"
    },
    "tags": []
   },
   "outputs": [
    {
     "name": "stdout",
     "output_type": "stream",
     "text": [
      "time: 1.15 ms\n"
     ]
    }
   ],
   "source": [
    "clf1 = BCLF\n",
    "clf2 = RF\n",
    "clf3 = XGB\n",
    "\n",
    "estimators = [ ('bclf', clf1), ('rf', clf2), ('xgb', clf3)]\n",
    "VC = VotingClassifier(estimators=estimators, voting='soft', n_jobs=-1)"
   ]
  },
  {
   "cell_type": "code",
   "execution_count": 84,
   "id": "3adaa2f8-2a57-4929-8ccc-c617af8b4447",
   "metadata": {
    "execution": {
     "iopub.execute_input": "2021-11-29T22:40:53.202039Z",
     "iopub.status.busy": "2021-11-29T22:40:53.201738Z",
     "iopub.status.idle": "2021-11-29T22:40:53.267210Z",
     "shell.execute_reply": "2021-11-29T22:40:53.266456Z",
     "shell.execute_reply.started": "2021-11-29T22:40:53.201971Z"
    },
    "tags": []
   },
   "outputs": [
    {
     "name": "stdout",
     "output_type": "stream",
     "text": [
      "time: 890 µs\n"
     ]
    }
   ],
   "source": [
    "vc_sm = make_sm_pipeline(preprocessing_ss, sm, VC)"
   ]
  },
  {
   "cell_type": "markdown",
   "id": "99c1d010-1da0-4816-928c-3c136b43f75a",
   "metadata": {},
   "source": [
    "### Fitting Model"
   ]
  },
  {
   "cell_type": "code",
   "execution_count": 85,
   "id": "e8f88e07-1625-411a-a8ed-64326aec5728",
   "metadata": {
    "execution": {
     "iopub.execute_input": "2021-11-29T22:40:53.268724Z",
     "iopub.status.busy": "2021-11-29T22:40:53.268429Z",
     "iopub.status.idle": "2021-11-29T22:41:01.319411Z",
     "shell.execute_reply": "2021-11-29T22:41:01.318417Z",
     "shell.execute_reply.started": "2021-11-29T22:40:53.268698Z"
    },
    "tags": []
   },
   "outputs": [
    {
     "data": {
      "text/plain": [
       "Pipeline(steps=[('columntransformer',\n",
       "                 ColumnTransformer(transformers=[('onehotencoder',\n",
       "                                                  OneHotEncoder(handle_unknown='ignore'),\n",
       "                                                  <sklearn.compose._column_transformer.make_column_selector object at 0x103edec10>),\n",
       "                                                 ('standardscaler',\n",
       "                                                  StandardScaler(),\n",
       "                                                  <sklearn.compose._column_transformer.make_column_selector object at 0x103fc2ee0>)])),\n",
       "                ('smote', SMOTE(random_state=2...\n",
       "                                                             interaction_constraints='',\n",
       "                                                             learning_rate=0.300000012,\n",
       "                                                             max_delta_step=0,\n",
       "                                                             max_depth=6,\n",
       "                                                             min_child_weight=1,\n",
       "                                                             missing=nan,\n",
       "                                                             monotone_constraints='()',\n",
       "                                                             n_estimators=100,\n",
       "                                                             n_jobs=8,\n",
       "                                                             num_parallel_tree=1,\n",
       "                                                             random_state=0,\n",
       "                                                             reg_alpha=0,\n",
       "                                                             reg_lambda=1,\n",
       "                                                             scale_pos_weight=1,\n",
       "                                                             subsample=1,\n",
       "                                                             tree_method='exact',\n",
       "                                                             use_label_encoder=False,\n",
       "                                                             validate_parameters=1,\n",
       "                                                             verbosity=0))],\n",
       "                                  n_jobs=-1, voting='soft'))])"
      ]
     },
     "execution_count": 85,
     "metadata": {},
     "output_type": "execute_result"
    },
    {
     "name": "stdout",
     "output_type": "stream",
     "text": [
      "time: 7.95 s\n"
     ]
    }
   ],
   "source": [
    "%%capture --no-display\n",
    "vc_sm.fit(X_train, y_train)"
   ]
  },
  {
   "cell_type": "markdown",
   "id": "d6cd0a87-cfed-4cb3-9e9e-4ab0bfae1bf9",
   "metadata": {},
   "source": [
    "### Cross Val Scores"
   ]
  },
  {
   "cell_type": "code",
   "execution_count": 86,
   "id": "f3b99fe6-7a0a-4aa5-85a9-0f9e1f75d188",
   "metadata": {
    "execution": {
     "iopub.execute_input": "2021-11-29T22:41:01.320915Z",
     "iopub.status.busy": "2021-11-29T22:41:01.320652Z",
     "iopub.status.idle": "2021-11-29T22:41:34.187764Z",
     "shell.execute_reply": "2021-11-29T22:41:34.187043Z",
     "shell.execute_reply.started": "2021-11-29T22:41:01.320888Z"
    },
    "tags": []
   },
   "outputs": [
    {
     "name": "stdout",
     "output_type": "stream",
     "text": [
      "vc_sm has an average Accuracy of 0.7851789694692508\n",
      "vc_sm has an average F1 of 0.6864619365297383\n",
      "vc_sm has an average Recall of 0.6542186159611452\n",
      "vc_sm has an average Precision of 0.7224615639644287\n",
      "time: 32.8 s\n"
     ]
    }
   ],
   "source": [
    "# %%capture --no-display\n",
    "# checking cross val scores\n",
    "modeling.report(vc_sm, X_train, y_train, 'vc_sm',\\\n",
    "                'Voting CLF SS()/SMOTE SOFT')"
   ]
  },
  {
   "cell_type": "markdown",
   "id": "8c510cf5-79b6-4836-8073-cfd783ba0758",
   "metadata": {},
   "source": [
    "## Model Summary"
   ]
  },
  {
   "cell_type": "code",
   "execution_count": 87,
   "id": "a534451e-d46b-4341-bbec-62fa357ad9ac",
   "metadata": {
    "execution": {
     "iopub.execute_input": "2021-11-29T22:41:34.189431Z",
     "iopub.status.busy": "2021-11-29T22:41:34.189153Z",
     "iopub.status.idle": "2021-11-29T22:41:34.273816Z",
     "shell.execute_reply": "2021-11-29T22:41:34.272746Z",
     "shell.execute_reply.started": "2021-11-29T22:41:34.189384Z"
    },
    "tags": []
   },
   "outputs": [
    {
     "data": {
      "text/html": [
       "<div>\n",
       "<style scoped>\n",
       "    .dataframe tbody tr th:only-of-type {\n",
       "        vertical-align: middle;\n",
       "    }\n",
       "\n",
       "    .dataframe tbody tr th {\n",
       "        vertical-align: top;\n",
       "    }\n",
       "\n",
       "    .dataframe thead th {\n",
       "        text-align: right;\n",
       "    }\n",
       "</style>\n",
       "<table border=\"1\" class=\"dataframe\">\n",
       "  <thead>\n",
       "    <tr style=\"text-align: right;\">\n",
       "      <th></th>\n",
       "      <th>Name</th>\n",
       "      <th>Accuracy</th>\n",
       "      <th>F1</th>\n",
       "      <th>Recall</th>\n",
       "      <th>Precision</th>\n",
       "      <th>CV_Time(sec)</th>\n",
       "      <th>Notes</th>\n",
       "    </tr>\n",
       "  </thead>\n",
       "  <tbody>\n",
       "    <tr>\n",
       "      <th>0</th>\n",
       "      <td>fsm</td>\n",
       "      <td>0.656524</td>\n",
       "      <td>0.346311</td>\n",
       "      <td>0.253047</td>\n",
       "      <td>0.549340</td>\n",
       "      <td>0.199047</td>\n",
       "      <td>FSM Naive Bayes</td>\n",
       "    </tr>\n",
       "    <tr>\n",
       "      <th>1</th>\n",
       "      <td>Baseline</td>\n",
       "      <td>0.359649</td>\n",
       "      <td>0.529032</td>\n",
       "      <td>1.000000</td>\n",
       "      <td>0.359649</td>\n",
       "      <td>0.183302</td>\n",
       "      <td>Baseline DummyCFL</td>\n",
       "    </tr>\n",
       "    <tr>\n",
       "      <th>2</th>\n",
       "      <td>knn_ss</td>\n",
       "      <td>0.741410</td>\n",
       "      <td>0.600426</td>\n",
       "      <td>0.540400</td>\n",
       "      <td>0.676061</td>\n",
       "      <td>3.616009</td>\n",
       "      <td>KNN SS()</td>\n",
       "    </tr>\n",
       "    <tr>\n",
       "      <th>3</th>\n",
       "      <td>dt_ss</td>\n",
       "      <td>0.714821</td>\n",
       "      <td>0.605655</td>\n",
       "      <td>0.609246</td>\n",
       "      <td>0.602254</td>\n",
       "      <td>1.649509</td>\n",
       "      <td>Decision Tree CLF SS()</td>\n",
       "    </tr>\n",
       "    <tr>\n",
       "      <th>4</th>\n",
       "      <td>ada_ss</td>\n",
       "      <td>0.718567</td>\n",
       "      <td>0.609889</td>\n",
       "      <td>0.612040</td>\n",
       "      <td>0.607926</td>\n",
       "      <td>1.844192</td>\n",
       "      <td>AdaBoost SS()</td>\n",
       "    </tr>\n",
       "    <tr>\n",
       "      <th>5</th>\n",
       "      <td>lsvc_ss</td>\n",
       "      <td>0.768092</td>\n",
       "      <td>0.634062</td>\n",
       "      <td>0.558944</td>\n",
       "      <td>0.732968</td>\n",
       "      <td>2.424637</td>\n",
       "      <td>Linear SVC SS()</td>\n",
       "    </tr>\n",
       "    <tr>\n",
       "      <th>6</th>\n",
       "      <td>bclf_ss</td>\n",
       "      <td>0.767818</td>\n",
       "      <td>0.634691</td>\n",
       "      <td>0.561225</td>\n",
       "      <td>0.730734</td>\n",
       "      <td>10.177706</td>\n",
       "      <td>Bagging CLF SS()</td>\n",
       "    </tr>\n",
       "    <tr>\n",
       "      <th>7</th>\n",
       "      <td>logreg_ss</td>\n",
       "      <td>0.768092</td>\n",
       "      <td>0.637288</td>\n",
       "      <td>0.566820</td>\n",
       "      <td>0.728209</td>\n",
       "      <td>4.954445</td>\n",
       "      <td>LogReg SS()</td>\n",
       "    </tr>\n",
       "    <tr>\n",
       "      <th>8</th>\n",
       "      <td>svc_ss</td>\n",
       "      <td>0.785544</td>\n",
       "      <td>0.651997</td>\n",
       "      <td>0.558942</td>\n",
       "      <td>0.782661</td>\n",
       "      <td>19.619819</td>\n",
       "      <td>Support Vector CLF SS()</td>\n",
       "    </tr>\n",
       "    <tr>\n",
       "      <th>9</th>\n",
       "      <td>rf_ss</td>\n",
       "      <td>0.778235</td>\n",
       "      <td>0.655237</td>\n",
       "      <td>0.586381</td>\n",
       "      <td>0.743012</td>\n",
       "      <td>9.274697</td>\n",
       "      <td>Random Forest SS()</td>\n",
       "    </tr>\n",
       "    <tr>\n",
       "      <th>10</th>\n",
       "      <td>xgb_ss</td>\n",
       "      <td>0.780610</td>\n",
       "      <td>0.664661</td>\n",
       "      <td>0.605180</td>\n",
       "      <td>0.737620</td>\n",
       "      <td>3.178720</td>\n",
       "      <td>XGBoost SS()</td>\n",
       "    </tr>\n",
       "    <tr>\n",
       "      <th>11</th>\n",
       "      <td>vc_ss</td>\n",
       "      <td>0.784175</td>\n",
       "      <td>0.668305</td>\n",
       "      <td>0.605182</td>\n",
       "      <td>0.746773</td>\n",
       "      <td>19.071586</td>\n",
       "      <td>Voting CLF SS()</td>\n",
       "    </tr>\n",
       "    <tr>\n",
       "      <th>12</th>\n",
       "      <td>vc_sm</td>\n",
       "      <td>0.785179</td>\n",
       "      <td>0.686462</td>\n",
       "      <td>0.654219</td>\n",
       "      <td>0.722462</td>\n",
       "      <td>32.811738</td>\n",
       "      <td>Voting CLF SS()/SMOTE SOFT</td>\n",
       "    </tr>\n",
       "  </tbody>\n",
       "</table>\n",
       "</div>"
      ],
      "text/plain": [
       "         Name  Accuracy        F1    Recall  Precision  CV_Time(sec)  \\\n",
       "0         fsm  0.656524  0.346311  0.253047   0.549340      0.199047   \n",
       "1    Baseline  0.359649  0.529032  1.000000   0.359649      0.183302   \n",
       "2      knn_ss  0.741410  0.600426  0.540400   0.676061      3.616009   \n",
       "3       dt_ss  0.714821  0.605655  0.609246   0.602254      1.649509   \n",
       "4      ada_ss  0.718567  0.609889  0.612040   0.607926      1.844192   \n",
       "5     lsvc_ss  0.768092  0.634062  0.558944   0.732968      2.424637   \n",
       "6     bclf_ss  0.767818  0.634691  0.561225   0.730734     10.177706   \n",
       "7   logreg_ss  0.768092  0.637288  0.566820   0.728209      4.954445   \n",
       "8      svc_ss  0.785544  0.651997  0.558942   0.782661     19.619819   \n",
       "9       rf_ss  0.778235  0.655237  0.586381   0.743012      9.274697   \n",
       "10     xgb_ss  0.780610  0.664661  0.605180   0.737620      3.178720   \n",
       "11      vc_ss  0.784175  0.668305  0.605182   0.746773     19.071586   \n",
       "12      vc_sm  0.785179  0.686462  0.654219   0.722462     32.811738   \n",
       "\n",
       "                         Notes  \n",
       "0              FSM Naive Bayes  \n",
       "1            Baseline DummyCFL  \n",
       "2                     KNN SS()  \n",
       "3       Decision Tree CLF SS()  \n",
       "4                AdaBoost SS()  \n",
       "5              Linear SVC SS()  \n",
       "6             Bagging CLF SS()  \n",
       "7                  LogReg SS()  \n",
       "8      Support Vector CLF SS()  \n",
       "9           Random Forest SS()  \n",
       "10                XGBoost SS()  \n",
       "11             Voting CLF SS()  \n",
       "12  Voting CLF SS()/SMOTE SOFT  "
      ]
     },
     "execution_count": 87,
     "metadata": {},
     "output_type": "execute_result"
    },
    {
     "name": "stdout",
     "output_type": "stream",
     "text": [
      "time: 15.6 ms\n"
     ]
    }
   ],
   "source": [
    "modeling.history"
   ]
  },
  {
   "cell_type": "markdown",
   "id": "e2cd21b8-6cc4-482c-aea5-b36efb96c7b5",
   "metadata": {},
   "source": [
    "### Test Data Confusion Matrix"
   ]
  },
  {
   "cell_type": "code",
   "execution_count": 88,
   "id": "a9d5e7a4-e0b2-4c2f-b9dd-a0c935631f60",
   "metadata": {
    "execution": {
     "iopub.execute_input": "2021-11-29T22:41:34.276745Z",
     "iopub.status.busy": "2021-11-29T22:41:34.276179Z",
     "iopub.status.idle": "2021-11-29T22:41:35.259275Z",
     "shell.execute_reply": "2021-11-29T22:41:35.258589Z",
     "shell.execute_reply.started": "2021-11-29T22:41:34.276698Z"
    },
    "tags": []
   },
   "outputs": [
    {
     "data": {
      "image/png": "[encoded data removed]",
      "text/plain": [
       "<Figure size 504x504 with 2 Axes>"
      ]
     },
     "metadata": {},
     "output_type": "display_data"
    },
    {
     "data": {
      "text/html": [
       "<div>\n",
       "<style scoped>\n",
       "    .dataframe tbody tr th:only-of-type {\n",
       "        vertical-align: middle;\n",
       "    }\n",
       "\n",
       "    .dataframe tbody tr th {\n",
       "        vertical-align: top;\n",
       "    }\n",
       "\n",
       "    .dataframe thead th {\n",
       "        text-align: right;\n",
       "    }\n",
       "</style>\n",
       "<table border=\"1\" class=\"dataframe\">\n",
       "  <thead>\n",
       "    <tr style=\"text-align: right;\">\n",
       "      <th></th>\n",
       "      <th>Accuracy</th>\n",
       "      <th>F1</th>\n",
       "      <th>Recall</th>\n",
       "      <th>Precision</th>\n",
       "    </tr>\n",
       "  </thead>\n",
       "  <tbody>\n",
       "    <tr>\n",
       "      <th>0</th>\n",
       "      <td>0.79145</td>\n",
       "      <td>0.695234</td>\n",
       "      <td>0.661585</td>\n",
       "      <td>0.732489</td>\n",
       "    </tr>\n",
       "  </tbody>\n",
       "</table>\n",
       "</div>"
      ],
      "text/plain": [
       "   Accuracy        F1    Recall  Precision\n",
       "0   0.79145  0.695234  0.661585   0.732489"
      ]
     },
     "execution_count": 88,
     "metadata": {},
     "output_type": "execute_result"
    },
    {
     "name": "stdout",
     "output_type": "stream",
     "text": [
      "time: 831 ms\n"
     ]
    }
   ],
   "source": [
    "%%capture --no-display\n",
    "f.confusion_report(vc_sm, X_test, y_test)"
   ]
  },
  {
   "cell_type": "markdown",
   "id": "d7018474-0be8-445e-948d-9c5beda20198",
   "metadata": {
    "tags": []
   },
   "source": [
    "## Score Interpretation:\n",
    "\n",
    "Upon validation with the test data we see that the model is still having some trouble the minority class, but recall has been improved.\n",
    "\n",
    "- The recall score of .66 indicates that about 66% outcomes were correctly classified as Unsatisfactory.\n",
    "- The precision score .73 indicates that about 73% of outcomes classified as Unsatisfactory were truly Unsatisfactory."
   ]
  },
  {
   "cell_type": "markdown",
   "id": "d7d1a45b-14e8-4df5-a441-30edf5a56f9f",
   "metadata": {},
   "source": [
    "# Hyperparameter Tuning"
   ]
  },
  {
   "cell_type": "code",
   "execution_count": 89,
   "id": "cbe2706d-c871-40f9-b090-33fe14412701",
   "metadata": {
    "execution": {
     "iopub.execute_input": "2021-11-29T22:41:35.260763Z",
     "iopub.status.busy": "2021-11-29T22:41:35.260519Z",
     "iopub.status.idle": "2021-11-29T22:41:35.321890Z",
     "shell.execute_reply": "2021-11-29T22:41:35.320786Z",
     "shell.execute_reply.started": "2021-11-29T22:41:35.260739Z"
    },
    "tags": []
   },
   "outputs": [
    {
     "data": {
      "text/plain": [
       "dict_keys(['memory', 'steps', 'verbose', 'columntransformer', 'smote', 'votingclassifier', 'columntransformer__n_jobs', 'columntransformer__remainder', 'columntransformer__sparse_threshold', 'columntransformer__transformer_weights', 'columntransformer__transformers', 'columntransformer__verbose', 'columntransformer__onehotencoder', 'columntransformer__standardscaler', 'columntransformer__onehotencoder__categories', 'columntransformer__onehotencoder__drop', 'columntransformer__onehotencoder__dtype', 'columntransformer__onehotencoder__handle_unknown', 'columntransformer__onehotencoder__sparse', 'columntransformer__standardscaler__copy', 'columntransformer__standardscaler__with_mean', 'columntransformer__standardscaler__with_std', 'smote__k_neighbors', 'smote__n_jobs', 'smote__random_state', 'smote__sampling_strategy', 'votingclassifier__estimators', 'votingclassifier__flatten_transform', 'votingclassifier__n_jobs', 'votingclassifier__verbose', 'votingclassifier__voting', 'votingclassifier__weights', 'votingclassifier__bclf', 'votingclassifier__rf', 'votingclassifier__xgb', 'votingclassifier__bclf__base_estimator__ccp_alpha', 'votingclassifier__bclf__base_estimator__class_weight', 'votingclassifier__bclf__base_estimator__criterion', 'votingclassifier__bclf__base_estimator__max_depth', 'votingclassifier__bclf__base_estimator__max_features', 'votingclassifier__bclf__base_estimator__max_leaf_nodes', 'votingclassifier__bclf__base_estimator__min_impurity_decrease', 'votingclassifier__bclf__base_estimator__min_impurity_split', 'votingclassifier__bclf__base_estimator__min_samples_leaf', 'votingclassifier__bclf__base_estimator__min_samples_split', 'votingclassifier__bclf__base_estimator__min_weight_fraction_leaf', 'votingclassifier__bclf__base_estimator__random_state', 'votingclassifier__bclf__base_estimator__splitter', 'votingclassifier__bclf__base_estimator', 'votingclassifier__bclf__bootstrap', 'votingclassifier__bclf__bootstrap_features', 'votingclassifier__bclf__max_features', 'votingclassifier__bclf__max_samples', 'votingclassifier__bclf__n_estimators', 'votingclassifier__bclf__n_jobs', 'votingclassifier__bclf__oob_score', 'votingclassifier__bclf__random_state', 'votingclassifier__bclf__verbose', 'votingclassifier__bclf__warm_start', 'votingclassifier__rf__bootstrap', 'votingclassifier__rf__ccp_alpha', 'votingclassifier__rf__class_weight', 'votingclassifier__rf__criterion', 'votingclassifier__rf__max_depth', 'votingclassifier__rf__max_features', 'votingclassifier__rf__max_leaf_nodes', 'votingclassifier__rf__max_samples', 'votingclassifier__rf__min_impurity_decrease', 'votingclassifier__rf__min_impurity_split', 'votingclassifier__rf__min_samples_leaf', 'votingclassifier__rf__min_samples_split', 'votingclassifier__rf__min_weight_fraction_leaf', 'votingclassifier__rf__n_estimators', 'votingclassifier__rf__n_jobs', 'votingclassifier__rf__oob_score', 'votingclassifier__rf__random_state', 'votingclassifier__rf__verbose', 'votingclassifier__rf__warm_start', 'votingclassifier__xgb__objective', 'votingclassifier__xgb__use_label_encoder', 'votingclassifier__xgb__base_score', 'votingclassifier__xgb__booster', 'votingclassifier__xgb__colsample_bylevel', 'votingclassifier__xgb__colsample_bynode', 'votingclassifier__xgb__colsample_bytree', 'votingclassifier__xgb__gamma', 'votingclassifier__xgb__gpu_id', 'votingclassifier__xgb__importance_type', 'votingclassifier__xgb__interaction_constraints', 'votingclassifier__xgb__learning_rate', 'votingclassifier__xgb__max_delta_step', 'votingclassifier__xgb__max_depth', 'votingclassifier__xgb__min_child_weight', 'votingclassifier__xgb__missing', 'votingclassifier__xgb__monotone_constraints', 'votingclassifier__xgb__n_estimators', 'votingclassifier__xgb__n_jobs', 'votingclassifier__xgb__num_parallel_tree', 'votingclassifier__xgb__random_state', 'votingclassifier__xgb__reg_alpha', 'votingclassifier__xgb__reg_lambda', 'votingclassifier__xgb__scale_pos_weight', 'votingclassifier__xgb__subsample', 'votingclassifier__xgb__tree_method', 'votingclassifier__xgb__validate_parameters', 'votingclassifier__xgb__verbosity'])"
      ]
     },
     "execution_count": 89,
     "metadata": {},
     "output_type": "execute_result"
    },
    {
     "name": "stdout",
     "output_type": "stream",
     "text": [
      "time: 3.59 ms\n"
     ]
    }
   ],
   "source": [
    "# getting params\n",
    "vc_sm.get_params().keys()"
   ]
  },
  {
   "cell_type": "markdown",
   "id": "eb04bf5a-3cc9-406d-8d0d-79a0761b31f5",
   "metadata": {},
   "source": [
    "## Separating the Parameters by Classifier"
   ]
  },
  {
   "cell_type": "markdown",
   "id": "ead5e22a-08bd-43ea-9e8c-d19277417395",
   "metadata": {},
   "source": [
    "### BCLF"
   ]
  },
  {
   "cell_type": "code",
   "execution_count": 90,
   "id": "2643dae4-1ead-457d-85db-67723c9494a0",
   "metadata": {
    "execution": {
     "iopub.execute_input": "2021-11-29T22:41:35.323174Z",
     "iopub.status.busy": "2021-11-29T22:41:35.322978Z",
     "iopub.status.idle": "2021-11-29T22:41:35.389427Z",
     "shell.execute_reply": "2021-11-29T22:41:35.388452Z",
     "shell.execute_reply.started": "2021-11-29T22:41:35.323152Z"
    },
    "tags": []
   },
   "outputs": [
    {
     "name": "stdout",
     "output_type": "stream",
     "text": [
      "time: 1.49 ms\n"
     ]
    }
   ],
   "source": [
    "bag_params = ['votingclassifier__bclf__base_estimator__ccp_alpha', \n",
    "              'votingclassifier__bclf__base_estimator__class_weight',\n",
    "              'votingclassifier__bclf__base_estimator__criterion', \n",
    "              'votingclassifier__bclf__base_estimator__max_depth', \n",
    "              'votingclassifier__bclf__base_estimator__max_features', \n",
    "              'votingclassifier__bclf__base_estimator__max_leaf_nodes', \n",
    "              'votingclassifier__bclf__base_estimator__min_impurity_decrease', \n",
    "              'votingclassifier__bclf__base_estimator__min_impurity_split', \n",
    "              'votingclassifier__bclf__base_estimator__min_samples_leaf', \n",
    "              'votingclassifier__bclf__base_estimator__min_samples_split', \n",
    "              'votingclassifier__bclf__base_estimator__min_weight_fraction_leaf', \n",
    "              'votingclassifier__bclf__base_estimator__random_state', \n",
    "              'votingclassifier__bclf__base_estimator__splitter', \n",
    "              'votingclassifier__bclf__base_estimator', \n",
    "              'votingclassifier__bclf__bootstrap', \n",
    "              'votingclassifier__bclf__bootstrap_features', \n",
    "              'votingclassifier__bclf__max_features', \n",
    "              'votingclassifier__bclf__max_samples',\n",
    "              'votingclassifier__bclf__n_estimators', \n",
    "              'votingclassifier__bclf__n_jobs', \n",
    "              'votingclassifier__bclf__oob_score', \n",
    "              'votingclassifier__bclf__random_state', \n",
    "              'votingclassifier__bclf__verbose', \n",
    "              'votingclassifier__bclf__warm_start']"
   ]
  },
  {
   "cell_type": "markdown",
   "id": "f92cba67-275c-4960-b23c-efab7f852c11",
   "metadata": {},
   "source": [
    "### RF"
   ]
  },
  {
   "cell_type": "code",
   "execution_count": 91,
   "id": "999729f0-fa45-4c15-99ea-2d2d17349184",
   "metadata": {
    "execution": {
     "iopub.execute_input": "2021-11-29T22:41:35.390943Z",
     "iopub.status.busy": "2021-11-29T22:41:35.390743Z",
     "iopub.status.idle": "2021-11-29T22:41:35.454393Z",
     "shell.execute_reply": "2021-11-29T22:41:35.453247Z",
     "shell.execute_reply.started": "2021-11-29T22:41:35.390920Z"
    },
    "tags": []
   },
   "outputs": [
    {
     "name": "stdout",
     "output_type": "stream",
     "text": [
      "time: 1.14 ms\n"
     ]
    }
   ],
   "source": [
    "rf_params = ['votingclassifier__rf__bootstrap',\n",
    "             'votingclassifier__rf__ccp_alpha', \n",
    "             'votingclassifier__rf__class_weight', \n",
    "             'votingclassifier__rf__criterion', \n",
    "             'votingclassifier__rf__max_depth', \n",
    "             'votingclassifier__rf__max_features', \n",
    "             'votingclassifier__rf__max_leaf_nodes', \n",
    "             'votingclassifier__rf__max_samples', \n",
    "             'votingclassifier__rf__min_impurity_decrease', \n",
    "             'votingclassifier__rf__min_impurity_split', \n",
    "             'votingclassifier__rf__min_samples_leaf', \n",
    "             'votingclassifier__rf__min_samples_split', \n",
    "             'votingclassifier__rf__min_weight_fraction_leaf', \n",
    "             'votingclassifier__rf__n_estimators', \n",
    "             'votingclassifier__rf__n_jobs', \n",
    "             'votingclassifier__rf__oob_score', \n",
    "             'votingclassifier__rf__random_state', \n",
    "             'votingclassifier__rf__verbose',\n",
    "             'votingclassifier__rf__warm_start']"
   ]
  },
  {
   "cell_type": "markdown",
   "id": "61e20d3a-a97a-4af5-a49c-8ec5e6b9b09a",
   "metadata": {},
   "source": [
    "### XGB"
   ]
  },
  {
   "cell_type": "code",
   "execution_count": 92,
   "id": "d35afab6-fd0b-4cc9-b4d6-bb5f62173f7a",
   "metadata": {
    "execution": {
     "iopub.execute_input": "2021-11-29T22:41:35.456082Z",
     "iopub.status.busy": "2021-11-29T22:41:35.455791Z",
     "iopub.status.idle": "2021-11-29T22:41:35.515633Z",
     "shell.execute_reply": "2021-11-29T22:41:35.514518Z",
     "shell.execute_reply.started": "2021-11-29T22:41:35.456054Z"
    },
    "tags": []
   },
   "outputs": [
    {
     "name": "stdout",
     "output_type": "stream",
     "text": [
      "time: 1.25 ms\n"
     ]
    }
   ],
   "source": [
    "xgb_params = ['votingclassifier__xgb__objective', \n",
    "              'votingclassifier__xgb__use_label_encoder', \n",
    "              'votingclassifier__xgb__base_score', \n",
    "              'votingclassifier__xgb__booster', \n",
    "              'votingclassifier__xgb__colsample_bylevel', \n",
    "              'votingclassifier__xgb__colsample_bynode', \n",
    "              'votingclassifier__xgb__colsample_bytree', \n",
    "              'votingclassifier__xgb__gamma', \n",
    "              'votingclassifier__xgb__gpu_id', \n",
    "              'votingclassifier__xgb__importance_type', \n",
    "              'votingclassifier__xgb__interaction_constraints', \n",
    "              'votingclassifier__xgb__learning_rate', \n",
    "              'votingclassifier__xgb__max_delta_step', \n",
    "              'votingclassifier__xgb__max_depth', \n",
    "              'votingclassifier__xgb__min_child_weight', \n",
    "              'votingclassifier__xgb__missing', \n",
    "              'votingclassifier__xgb__monotone_constraints', \n",
    "              'votingclassifier__xgb__n_estimators', \n",
    "              'votingclassifier__xgb__n_jobs', \n",
    "              'votingclassifier__xgb__num_parallel_tree', \n",
    "              'votingclassifier__xgb__random_state', \n",
    "              'votingclassifier__xgb__reg_alpha', \n",
    "              'votingclassifier__xgb__reg_lambda', \n",
    "              'votingclassifier__xgb__scale_pos_weight', \n",
    "              'votingclassifier__xgb__subsample', \n",
    "              'votingclassifier__xgb__tree_method', \n",
    "              'votingclassifier__xgb__validate_parameters', \n",
    "              'votingclassifier__xgb__verbosity']"
   ]
  },
  {
   "cell_type": "markdown",
   "id": "473c3dce-92ea-4d65-a80c-6e15dd523660",
   "metadata": {},
   "source": [
    "## Setting Parameter Grid\n",
    "Setting the parameters for tuning and their distributions."
   ]
  },
  {
   "cell_type": "code",
   "execution_count": 93,
   "id": "d5b1e544-cbf1-40a9-8450-c8e392f2bdc0",
   "metadata": {
    "execution": {
     "iopub.execute_input": "2021-11-29T22:41:35.516826Z",
     "iopub.status.busy": "2021-11-29T22:41:35.516649Z",
     "iopub.status.idle": "2021-11-29T22:41:35.575614Z",
     "shell.execute_reply": "2021-11-29T22:41:35.574867Z",
     "shell.execute_reply.started": "2021-11-29T22:41:35.516807Z"
    },
    "tags": []
   },
   "outputs": [
    {
     "name": "stdout",
     "output_type": "stream",
     "text": [
      "time: 2.36 ms\n"
     ]
    }
   ],
   "source": [
    "# setting param grid\n",
    "\n",
    "grid = {'votingclassifier__bclf__base_estimator__max_depth':\\\n",
    "        np.linspace(1, 32, 32),\n",
    "        'votingclassifier__bclf__base_estimator__min_samples_split':\\\n",
    "        np.linspace(0.1, 1.0, 10),\n",
    "        'votingclassifier__bclf__base_estimator__min_samples_leaf':\\\n",
    "        np.linspace(0.1, 0.5, 5),\n",
    "        'votingclassifier__bclf__max_features':\\\n",
    "        list(range(1,X_train.shape[1])),\n",
    "        'votingclassifier__rf__n_estimators':\\\n",
    "        np.linspace(1, 200, 20, dtype='int'),\n",
    "        'votingclassifier__rf__max_depth':\\\n",
    "        np.linspace(1, 32, 32),\n",
    "        'votingclassifier__rf__max_features':\\\n",
    "        list(range(1,X_train.shape[1])),\n",
    "        'votingclassifier__rf__min_samples_leaf':\\\n",
    "        np.linspace(0.1, 0.5, 5),\n",
    "        'votingclassifier__rf__min_samples_split':\\\n",
    "        np.linspace(0.1, 1.0, 10),\n",
    "        'votingclassifier__xgb__n_estimators':\\\n",
    "        np.linspace(1, 200, 20, dtype='int'),\n",
    "        'votingclassifier__xgb__colsample_bytree':\\\n",
    "        np.linspace(0.5, 1.0, 10),\n",
    "        'votingclassifier__xgb__gamma':\\\n",
    "        np.linspace(0, .5, 5),\n",
    "        'votingclassifier__xgb__learning_rate':\\\n",
    "        np.linspace(0.01, .5, 10),\n",
    "        'votingclassifier__xgb__max_depth':\\\n",
    "        np.linspace(3, 10, 7, dtype='int'),\n",
    "        'votingclassifier__xgb__reg_alpha':\\\n",
    "        np.logspace(-3, 2, 30),\n",
    "        'votingclassifier__xgb__reg_lambda':\\\n",
    "        np.linspace(1, 10, 20)\n",
    "       }"
   ]
  },
  {
   "cell_type": "markdown",
   "id": "e473507d-ad54-445e-b9f5-f0237a4e8e84",
   "metadata": {},
   "source": [
    "## Randomized Search Cross Validation"
   ]
  },
  {
   "cell_type": "code",
   "execution_count": 94,
   "id": "7fb7e5a3-efbf-43dd-b6e8-a9b28db60b85",
   "metadata": {
    "execution": {
     "iopub.execute_input": "2021-11-29T22:41:35.577062Z",
     "iopub.status.busy": "2021-11-29T22:41:35.576788Z",
     "iopub.status.idle": "2021-11-29T22:41:35.636640Z",
     "shell.execute_reply": "2021-11-29T22:41:35.635956Z",
     "shell.execute_reply.started": "2021-11-29T22:41:35.577033Z"
    },
    "tags": []
   },
   "outputs": [
    {
     "name": "stdout",
     "output_type": "stream",
     "text": [
      "time: 829 µs\n"
     ]
    }
   ],
   "source": [
    "# instantiating RSCV\n",
    "param_search = RandomizedSearchCV(vc_sm, param_distributions=grid,\n",
    "                                  scoring='f1', random_state=2021, cv=10)"
   ]
  },
  {
   "cell_type": "code",
   "execution_count": 95,
   "id": "ec49a52d-eb12-461f-9e26-c48644a9f210",
   "metadata": {
    "execution": {
     "iopub.execute_input": "2021-11-29T22:41:35.638155Z",
     "iopub.status.busy": "2021-11-29T22:41:35.637943Z",
     "iopub.status.idle": "2021-11-29T22:45:20.857350Z",
     "shell.execute_reply": "2021-11-29T22:45:20.856796Z",
     "shell.execute_reply.started": "2021-11-29T22:41:35.638133Z"
    },
    "tags": []
   },
   "outputs": [
    {
     "data": {
      "text/plain": [
       "RandomizedSearchCV(cv=10,\n",
       "                   estimator=Pipeline(steps=[('columntransformer',\n",
       "                                              ColumnTransformer(transformers=[('onehotencoder',\n",
       "                                                                               OneHotEncoder(handle_unknown='ignore'),\n",
       "                                                                               <sklearn.compose._column_transformer.make_column_selector object at 0x103edec10>),\n",
       "                                                                              ('standardscaler',\n",
       "                                                                               StandardScaler(),\n",
       "                                                                               <sklearn.compose._column_transformer.make_column_selector object at 0x103fc2ee0...\n",
       "       1.37382380e+01, 2.04335972e+01, 3.03919538e+01, 4.52035366e+01,\n",
       "       6.72335754e+01, 1.00000000e+02]),\n",
       "                                        'votingclassifier__xgb__reg_lambda': array([ 1.        ,  1.47368421,  1.94736842,  2.42105263,  2.89473684,\n",
       "        3.36842105,  3.84210526,  4.31578947,  4.78947368,  5.26315789,\n",
       "        5.73684211,  6.21052632,  6.68421053,  7.15789474,  7.63157895,\n",
       "        8.10526316,  8.57894737,  9.05263158,  9.52631579, 10.        ])},\n",
       "                   random_state=2021, scoring='f1')"
      ]
     },
     "execution_count": 95,
     "metadata": {},
     "output_type": "execute_result"
    },
    {
     "name": "stdout",
     "output_type": "stream",
     "text": [
      "time: 3min 45s\n"
     ]
    }
   ],
   "source": [
    "# fitting RSCV\n",
    "param_search.fit(X_train, y_train)"
   ]
  },
  {
   "cell_type": "code",
   "execution_count": 96,
   "id": "da4aa1d4-7318-4cf7-936c-a850a0eaf5c8",
   "metadata": {
    "execution": {
     "iopub.execute_input": "2021-11-29T22:45:20.858707Z",
     "iopub.status.busy": "2021-11-29T22:45:20.858503Z",
     "iopub.status.idle": "2021-11-29T22:45:20.950672Z",
     "shell.execute_reply": "2021-11-29T22:45:20.949755Z",
     "shell.execute_reply.started": "2021-11-29T22:45:20.858684Z"
    },
    "tags": []
   },
   "outputs": [
    {
     "name": "stdout",
     "output_type": "stream",
     "text": [
      "time: 3.75 ms\n"
     ]
    }
   ],
   "source": [
    "# creating search results dataframe\n",
    "search_results = pd.DataFrame(param_search.cv_results_)\\\n",
    ".sort_values(by='rank_test_score').reset_index(drop=True)"
   ]
  },
  {
   "cell_type": "code",
   "execution_count": 97,
   "id": "de00b6e5-f0a3-4196-84df-1ceef9be255f",
   "metadata": {
    "execution": {
     "iopub.execute_input": "2021-11-29T22:45:20.952200Z",
     "iopub.status.busy": "2021-11-29T22:45:20.951725Z",
     "iopub.status.idle": "2021-11-29T22:45:21.037818Z",
     "shell.execute_reply": "2021-11-29T22:45:21.036780Z",
     "shell.execute_reply.started": "2021-11-29T22:45:20.952129Z"
    },
    "tags": []
   },
   "outputs": [
    {
     "data": {
      "text/html": [
       "<div>\n",
       "<style scoped>\n",
       "    .dataframe tbody tr th:only-of-type {\n",
       "        vertical-align: middle;\n",
       "    }\n",
       "\n",
       "    .dataframe tbody tr th {\n",
       "        vertical-align: top;\n",
       "    }\n",
       "\n",
       "    .dataframe thead th {\n",
       "        text-align: right;\n",
       "    }\n",
       "</style>\n",
       "<table border=\"1\" class=\"dataframe\">\n",
       "  <thead>\n",
       "    <tr style=\"text-align: right;\">\n",
       "      <th></th>\n",
       "      <th>mean_fit_time</th>\n",
       "      <th>std_fit_time</th>\n",
       "      <th>mean_score_time</th>\n",
       "      <th>std_score_time</th>\n",
       "      <th>param_votingclassifier__xgb__reg_lambda</th>\n",
       "      <th>param_votingclassifier__xgb__reg_alpha</th>\n",
       "      <th>param_votingclassifier__xgb__n_estimators</th>\n",
       "      <th>param_votingclassifier__xgb__max_depth</th>\n",
       "      <th>param_votingclassifier__xgb__learning_rate</th>\n",
       "      <th>param_votingclassifier__xgb__gamma</th>\n",
       "      <th>...</th>\n",
       "      <th>split3_test_score</th>\n",
       "      <th>split4_test_score</th>\n",
       "      <th>split5_test_score</th>\n",
       "      <th>split6_test_score</th>\n",
       "      <th>split7_test_score</th>\n",
       "      <th>split8_test_score</th>\n",
       "      <th>split9_test_score</th>\n",
       "      <th>mean_test_score</th>\n",
       "      <th>std_test_score</th>\n",
       "      <th>rank_test_score</th>\n",
       "    </tr>\n",
       "  </thead>\n",
       "  <tbody>\n",
       "    <tr>\n",
       "      <th>0</th>\n",
       "      <td>2.053054</td>\n",
       "      <td>0.068475</td>\n",
       "      <td>0.051842</td>\n",
       "      <td>0.006813</td>\n",
       "      <td>5.263158</td>\n",
       "      <td>0.001487</td>\n",
       "      <td>74</td>\n",
       "      <td>10</td>\n",
       "      <td>0.173333</td>\n",
       "      <td>0.125</td>\n",
       "      <td>...</td>\n",
       "      <td>0.694938</td>\n",
       "      <td>0.696011</td>\n",
       "      <td>0.694259</td>\n",
       "      <td>0.678378</td>\n",
       "      <td>0.671001</td>\n",
       "      <td>0.718016</td>\n",
       "      <td>0.663130</td>\n",
       "      <td>0.687093</td>\n",
       "      <td>0.017869</td>\n",
       "      <td>1</td>\n",
       "    </tr>\n",
       "    <tr>\n",
       "      <th>1</th>\n",
       "      <td>2.609404</td>\n",
       "      <td>0.181907</td>\n",
       "      <td>0.069038</td>\n",
       "      <td>0.010773</td>\n",
       "      <td>7.157895</td>\n",
       "      <td>6.210169</td>\n",
       "      <td>53</td>\n",
       "      <td>10</td>\n",
       "      <td>0.282222</td>\n",
       "      <td>0.5</td>\n",
       "      <td>...</td>\n",
       "      <td>0.692617</td>\n",
       "      <td>0.696118</td>\n",
       "      <td>0.683444</td>\n",
       "      <td>0.688742</td>\n",
       "      <td>0.689032</td>\n",
       "      <td>0.701847</td>\n",
       "      <td>0.665803</td>\n",
       "      <td>0.686190</td>\n",
       "      <td>0.015890</td>\n",
       "      <td>2</td>\n",
       "    </tr>\n",
       "    <tr>\n",
       "      <th>2</th>\n",
       "      <td>4.140280</td>\n",
       "      <td>0.293821</td>\n",
       "      <td>0.069676</td>\n",
       "      <td>0.003901</td>\n",
       "      <td>2.421053</td>\n",
       "      <td>0.259294</td>\n",
       "      <td>168</td>\n",
       "      <td>10</td>\n",
       "      <td>0.064444</td>\n",
       "      <td>0.25</td>\n",
       "      <td>...</td>\n",
       "      <td>0.684857</td>\n",
       "      <td>0.691771</td>\n",
       "      <td>0.693767</td>\n",
       "      <td>0.675676</td>\n",
       "      <td>0.683511</td>\n",
       "      <td>0.693548</td>\n",
       "      <td>0.677463</td>\n",
       "      <td>0.682307</td>\n",
       "      <td>0.017006</td>\n",
       "      <td>3</td>\n",
       "    </tr>\n",
       "    <tr>\n",
       "      <th>3</th>\n",
       "      <td>1.208009</td>\n",
       "      <td>0.091726</td>\n",
       "      <td>0.032303</td>\n",
       "      <td>0.004550</td>\n",
       "      <td>1.473684</td>\n",
       "      <td>0.00329</td>\n",
       "      <td>11</td>\n",
       "      <td>6</td>\n",
       "      <td>0.391111</td>\n",
       "      <td>0.5</td>\n",
       "      <td>...</td>\n",
       "      <td>0.691710</td>\n",
       "      <td>0.704188</td>\n",
       "      <td>0.680466</td>\n",
       "      <td>0.677922</td>\n",
       "      <td>0.682803</td>\n",
       "      <td>0.684005</td>\n",
       "      <td>0.679341</td>\n",
       "      <td>0.680933</td>\n",
       "      <td>0.017442</td>\n",
       "      <td>4</td>\n",
       "    </tr>\n",
       "    <tr>\n",
       "      <th>4</th>\n",
       "      <td>2.212944</td>\n",
       "      <td>0.240888</td>\n",
       "      <td>0.031690</td>\n",
       "      <td>0.004341</td>\n",
       "      <td>7.631579</td>\n",
       "      <td>0.11721</td>\n",
       "      <td>126</td>\n",
       "      <td>5</td>\n",
       "      <td>0.336667</td>\n",
       "      <td>0.25</td>\n",
       "      <td>...</td>\n",
       "      <td>0.677054</td>\n",
       "      <td>0.689266</td>\n",
       "      <td>0.691563</td>\n",
       "      <td>0.695055</td>\n",
       "      <td>0.674863</td>\n",
       "      <td>0.679612</td>\n",
       "      <td>0.652778</td>\n",
       "      <td>0.678894</td>\n",
       "      <td>0.018024</td>\n",
       "      <td>5</td>\n",
       "    </tr>\n",
       "  </tbody>\n",
       "</table>\n",
       "<p>5 rows × 34 columns</p>\n",
       "</div>"
      ],
      "text/plain": [
       "   mean_fit_time  std_fit_time  mean_score_time  std_score_time  \\\n",
       "0       2.053054      0.068475         0.051842        0.006813   \n",
       "1       2.609404      0.181907         0.069038        0.010773   \n",
       "2       4.140280      0.293821         0.069676        0.003901   \n",
       "3       1.208009      0.091726         0.032303        0.004550   \n",
       "4       2.212944      0.240888         0.031690        0.004341   \n",
       "\n",
       "  param_votingclassifier__xgb__reg_lambda  \\\n",
       "0                                5.263158   \n",
       "1                                7.157895   \n",
       "2                                2.421053   \n",
       "3                                1.473684   \n",
       "4                                7.631579   \n",
       "\n",
       "  param_votingclassifier__xgb__reg_alpha  \\\n",
       "0                               0.001487   \n",
       "1                               6.210169   \n",
       "2                               0.259294   \n",
       "3                                0.00329   \n",
       "4                                0.11721   \n",
       "\n",
       "  param_votingclassifier__xgb__n_estimators  \\\n",
       "0                                        74   \n",
       "1                                        53   \n",
       "2                                       168   \n",
       "3                                        11   \n",
       "4                                       126   \n",
       "\n",
       "  param_votingclassifier__xgb__max_depth  \\\n",
       "0                                     10   \n",
       "1                                     10   \n",
       "2                                     10   \n",
       "3                                      6   \n",
       "4                                      5   \n",
       "\n",
       "  param_votingclassifier__xgb__learning_rate  \\\n",
       "0                                   0.173333   \n",
       "1                                   0.282222   \n",
       "2                                   0.064444   \n",
       "3                                   0.391111   \n",
       "4                                   0.336667   \n",
       "\n",
       "  param_votingclassifier__xgb__gamma  ... split3_test_score split4_test_score  \\\n",
       "0                              0.125  ...          0.694938          0.696011   \n",
       "1                                0.5  ...          0.692617          0.696118   \n",
       "2                               0.25  ...          0.684857          0.691771   \n",
       "3                                0.5  ...          0.691710          0.704188   \n",
       "4                               0.25  ...          0.677054          0.689266   \n",
       "\n",
       "  split5_test_score split6_test_score split7_test_score split8_test_score  \\\n",
       "0          0.694259          0.678378          0.671001          0.718016   \n",
       "1          0.683444          0.688742          0.689032          0.701847   \n",
       "2          0.693767          0.675676          0.683511          0.693548   \n",
       "3          0.680466          0.677922          0.682803          0.684005   \n",
       "4          0.691563          0.695055          0.674863          0.679612   \n",
       "\n",
       "  split9_test_score mean_test_score std_test_score rank_test_score  \n",
       "0          0.663130        0.687093       0.017869               1  \n",
       "1          0.665803        0.686190       0.015890               2  \n",
       "2          0.677463        0.682307       0.017006               3  \n",
       "3          0.679341        0.680933       0.017442               4  \n",
       "4          0.652778        0.678894       0.018024               5  \n",
       "\n",
       "[5 rows x 34 columns]"
      ]
     },
     "execution_count": 97,
     "metadata": {},
     "output_type": "execute_result"
    },
    {
     "name": "stdout",
     "output_type": "stream",
     "text": [
      "time: 20.5 ms\n"
     ]
    }
   ],
   "source": [
    "# checking first five rows\n",
    "search_results.head()"
   ]
  },
  {
   "cell_type": "code",
   "execution_count": 98,
   "id": "a184dfbf-408c-46bd-8417-f45ffdcc92ef",
   "metadata": {
    "execution": {
     "iopub.execute_input": "2021-11-29T22:45:21.040004Z",
     "iopub.status.busy": "2021-11-29T22:45:21.039303Z",
     "iopub.status.idle": "2021-11-29T22:45:21.102468Z",
     "shell.execute_reply": "2021-11-29T22:45:21.101780Z",
     "shell.execute_reply.started": "2021-11-29T22:45:21.039941Z"
    },
    "tags": []
   },
   "outputs": [
    {
     "data": {
      "text/plain": [
       "{'votingclassifier__xgb__reg_lambda': 5.263157894736842,\n",
       " 'votingclassifier__xgb__reg_alpha': 0.0014873521072935117,\n",
       " 'votingclassifier__xgb__n_estimators': 74,\n",
       " 'votingclassifier__xgb__max_depth': 10,\n",
       " 'votingclassifier__xgb__learning_rate': 0.17333333333333334,\n",
       " 'votingclassifier__xgb__gamma': 0.125,\n",
       " 'votingclassifier__xgb__colsample_bytree': 0.5,\n",
       " 'votingclassifier__rf__n_estimators': 63,\n",
       " 'votingclassifier__rf__min_samples_split': 0.1,\n",
       " 'votingclassifier__rf__min_samples_leaf': 0.30000000000000004,\n",
       " 'votingclassifier__rf__max_features': 11,\n",
       " 'votingclassifier__rf__max_depth': 15.0,\n",
       " 'votingclassifier__bclf__max_features': 9,\n",
       " 'votingclassifier__bclf__base_estimator__min_samples_split': 1.0,\n",
       " 'votingclassifier__bclf__base_estimator__min_samples_leaf': 0.5,\n",
       " 'votingclassifier__bclf__base_estimator__max_depth': 6.0}"
      ]
     },
     "execution_count": 98,
     "metadata": {},
     "output_type": "execute_result"
    },
    {
     "name": "stdout",
     "output_type": "stream",
     "text": [
      "time: 2.98 ms\n"
     ]
    }
   ],
   "source": [
    "# checking best params\n",
    "param_search.best_params_"
   ]
  },
  {
   "cell_type": "markdown",
   "id": "4566f607-50f3-4e37-a66d-9fa783a23509",
   "metadata": {},
   "source": [
    "## Best Params"
   ]
  },
  {
   "cell_type": "code",
   "execution_count": 99,
   "id": "d7e142e8-06ff-45f9-bdac-bf0f8031a66c",
   "metadata": {
    "execution": {
     "iopub.execute_input": "2021-11-29T22:45:21.104762Z",
     "iopub.status.busy": "2021-11-29T22:45:21.103914Z",
     "iopub.status.idle": "2021-11-29T22:45:21.175011Z",
     "shell.execute_reply": "2021-11-29T22:45:21.173996Z",
     "shell.execute_reply.started": "2021-11-29T22:45:21.104715Z"
    },
    "tags": []
   },
   "outputs": [
    {
     "name": "stdout",
     "output_type": "stream",
     "text": [
      "time: 1.15 ms\n"
     ]
    }
   ],
   "source": [
    "best_params = {'votingclassifier__xgb__reg_lambda': 5.263157894736842,\n",
    " 'votingclassifier__xgb__reg_alpha': 0.0014873521072935117,\n",
    " 'votingclassifier__xgb__n_estimators': 74,\n",
    " 'votingclassifier__xgb__max_depth': 10,\n",
    " 'votingclassifier__xgb__learning_rate': 0.17333333333333334,\n",
    " 'votingclassifier__xgb__gamma': 0.125,\n",
    " 'votingclassifier__xgb__colsample_bytree': 0.5,\n",
    " 'votingclassifier__rf__n_estimators': 63,\n",
    " 'votingclassifier__rf__min_samples_split': 0.1,\n",
    " 'votingclassifier__rf__min_samples_leaf': 0.30000000000000004,\n",
    " 'votingclassifier__rf__max_features': 11,\n",
    " 'votingclassifier__rf__max_depth': 15.0,\n",
    " 'votingclassifier__bclf__max_features': 9,\n",
    " 'votingclassifier__bclf__base_estimator__min_samples_split': 1.0,\n",
    " 'votingclassifier__bclf__base_estimator__min_samples_leaf': 0.5,\n",
    " 'votingclassifier__bclf__base_estimator__max_depth': 6.0}"
   ]
  },
  {
   "cell_type": "markdown",
   "id": "96335e43-2e6e-411a-a811-65c1afc8a860",
   "metadata": {},
   "source": [
    "# Best Model"
   ]
  },
  {
   "cell_type": "code",
   "execution_count": 100,
   "id": "33376b24-9682-49d0-9769-5e7b172f494f",
   "metadata": {
    "execution": {
     "iopub.execute_input": "2021-11-29T22:45:21.177533Z",
     "iopub.status.busy": "2021-11-29T22:45:21.177075Z",
     "iopub.status.idle": "2021-11-29T22:45:21.244210Z",
     "shell.execute_reply": "2021-11-29T22:45:21.243067Z",
     "shell.execute_reply.started": "2021-11-29T22:45:21.177485Z"
    },
    "tags": []
   },
   "outputs": [
    {
     "name": "stdout",
     "output_type": "stream",
     "text": [
      "time: 733 µs\n"
     ]
    }
   ],
   "source": [
    "# getting best estimator\n",
    "best_model = param_search.best_estimator_"
   ]
  },
  {
   "cell_type": "code",
   "execution_count": 101,
   "id": "940d7d9c-ebfd-415e-9176-37192d464f15",
   "metadata": {
    "execution": {
     "iopub.execute_input": "2021-11-29T22:45:21.245769Z",
     "iopub.status.busy": "2021-11-29T22:45:21.245536Z",
     "iopub.status.idle": "2021-11-29T22:45:31.721655Z",
     "shell.execute_reply": "2021-11-29T22:45:31.720892Z",
     "shell.execute_reply.started": "2021-11-29T22:45:21.245742Z"
    },
    "tags": []
   },
   "outputs": [
    {
     "name": "stdout",
     "output_type": "stream",
     "text": [
      "best_model has an average Accuracy of 0.784995903566361\n",
      "best_model has an average F1 of 0.6865459206858721\n",
      "best_model has an average Recall of 0.6549758447874405\n",
      "best_model has an average Precision of 0.7216718363842043\n",
      "time: 10.4 s\n"
     ]
    }
   ],
   "source": [
    "# checking cross val scores\n",
    "modeling.report(best_model, X_train, y_train, 'best_model',\\\n",
    "                'Tuned Voting CLF SS()/SMOTE SOFT')"
   ]
  },
  {
   "cell_type": "markdown",
   "id": "41542000-007c-49cf-929e-5452dd7b0a2b",
   "metadata": {
    "tags": []
   },
   "source": [
    "## Modeling Summary"
   ]
  },
  {
   "cell_type": "code",
   "execution_count": 102,
   "id": "ed7bf09c-0706-4f53-a794-669191cf8d1f",
   "metadata": {
    "execution": {
     "iopub.execute_input": "2021-11-29T22:45:31.723277Z",
     "iopub.status.busy": "2021-11-29T22:45:31.723024Z",
     "iopub.status.idle": "2021-11-29T22:45:31.820453Z",
     "shell.execute_reply": "2021-11-29T22:45:31.819625Z",
     "shell.execute_reply.started": "2021-11-29T22:45:31.723244Z"
    },
    "tags": []
   },
   "outputs": [
    {
     "data": {
      "text/html": [
       "<div>\n",
       "<style scoped>\n",
       "    .dataframe tbody tr th:only-of-type {\n",
       "        vertical-align: middle;\n",
       "    }\n",
       "\n",
       "    .dataframe tbody tr th {\n",
       "        vertical-align: top;\n",
       "    }\n",
       "\n",
       "    .dataframe thead th {\n",
       "        text-align: right;\n",
       "    }\n",
       "</style>\n",
       "<table border=\"1\" class=\"dataframe\">\n",
       "  <thead>\n",
       "    <tr style=\"text-align: right;\">\n",
       "      <th></th>\n",
       "      <th>Name</th>\n",
       "      <th>Accuracy</th>\n",
       "      <th>F1</th>\n",
       "      <th>Recall</th>\n",
       "      <th>Precision</th>\n",
       "      <th>CV_Time(sec)</th>\n",
       "      <th>Notes</th>\n",
       "    </tr>\n",
       "  </thead>\n",
       "  <tbody>\n",
       "    <tr>\n",
       "      <th>0</th>\n",
       "      <td>fsm</td>\n",
       "      <td>0.656524</td>\n",
       "      <td>0.346311</td>\n",
       "      <td>0.253047</td>\n",
       "      <td>0.549340</td>\n",
       "      <td>0.199047</td>\n",
       "      <td>FSM Naive Bayes</td>\n",
       "    </tr>\n",
       "    <tr>\n",
       "      <th>1</th>\n",
       "      <td>Baseline</td>\n",
       "      <td>0.359649</td>\n",
       "      <td>0.529032</td>\n",
       "      <td>1.000000</td>\n",
       "      <td>0.359649</td>\n",
       "      <td>0.183302</td>\n",
       "      <td>Baseline DummyCFL</td>\n",
       "    </tr>\n",
       "    <tr>\n",
       "      <th>2</th>\n",
       "      <td>knn_ss</td>\n",
       "      <td>0.741410</td>\n",
       "      <td>0.600426</td>\n",
       "      <td>0.540400</td>\n",
       "      <td>0.676061</td>\n",
       "      <td>3.616009</td>\n",
       "      <td>KNN SS()</td>\n",
       "    </tr>\n",
       "    <tr>\n",
       "      <th>3</th>\n",
       "      <td>dt_ss</td>\n",
       "      <td>0.714821</td>\n",
       "      <td>0.605655</td>\n",
       "      <td>0.609246</td>\n",
       "      <td>0.602254</td>\n",
       "      <td>1.649509</td>\n",
       "      <td>Decision Tree CLF SS()</td>\n",
       "    </tr>\n",
       "    <tr>\n",
       "      <th>4</th>\n",
       "      <td>ada_ss</td>\n",
       "      <td>0.718567</td>\n",
       "      <td>0.609889</td>\n",
       "      <td>0.612040</td>\n",
       "      <td>0.607926</td>\n",
       "      <td>1.844192</td>\n",
       "      <td>AdaBoost SS()</td>\n",
       "    </tr>\n",
       "    <tr>\n",
       "      <th>5</th>\n",
       "      <td>lsvc_ss</td>\n",
       "      <td>0.768092</td>\n",
       "      <td>0.634062</td>\n",
       "      <td>0.558944</td>\n",
       "      <td>0.732968</td>\n",
       "      <td>2.424637</td>\n",
       "      <td>Linear SVC SS()</td>\n",
       "    </tr>\n",
       "    <tr>\n",
       "      <th>6</th>\n",
       "      <td>bclf_ss</td>\n",
       "      <td>0.767818</td>\n",
       "      <td>0.634691</td>\n",
       "      <td>0.561225</td>\n",
       "      <td>0.730734</td>\n",
       "      <td>10.177706</td>\n",
       "      <td>Bagging CLF SS()</td>\n",
       "    </tr>\n",
       "    <tr>\n",
       "      <th>7</th>\n",
       "      <td>logreg_ss</td>\n",
       "      <td>0.768092</td>\n",
       "      <td>0.637288</td>\n",
       "      <td>0.566820</td>\n",
       "      <td>0.728209</td>\n",
       "      <td>4.954445</td>\n",
       "      <td>LogReg SS()</td>\n",
       "    </tr>\n",
       "    <tr>\n",
       "      <th>8</th>\n",
       "      <td>svc_ss</td>\n",
       "      <td>0.785544</td>\n",
       "      <td>0.651997</td>\n",
       "      <td>0.558942</td>\n",
       "      <td>0.782661</td>\n",
       "      <td>19.619819</td>\n",
       "      <td>Support Vector CLF SS()</td>\n",
       "    </tr>\n",
       "    <tr>\n",
       "      <th>9</th>\n",
       "      <td>rf_ss</td>\n",
       "      <td>0.778235</td>\n",
       "      <td>0.655237</td>\n",
       "      <td>0.586381</td>\n",
       "      <td>0.743012</td>\n",
       "      <td>9.274697</td>\n",
       "      <td>Random Forest SS()</td>\n",
       "    </tr>\n",
       "    <tr>\n",
       "      <th>10</th>\n",
       "      <td>xgb_ss</td>\n",
       "      <td>0.780610</td>\n",
       "      <td>0.664661</td>\n",
       "      <td>0.605180</td>\n",
       "      <td>0.737620</td>\n",
       "      <td>3.178720</td>\n",
       "      <td>XGBoost SS()</td>\n",
       "    </tr>\n",
       "    <tr>\n",
       "      <th>11</th>\n",
       "      <td>vc_ss</td>\n",
       "      <td>0.784175</td>\n",
       "      <td>0.668305</td>\n",
       "      <td>0.605182</td>\n",
       "      <td>0.746773</td>\n",
       "      <td>19.071586</td>\n",
       "      <td>Voting CLF SS()</td>\n",
       "    </tr>\n",
       "    <tr>\n",
       "      <th>12</th>\n",
       "      <td>vc_sm</td>\n",
       "      <td>0.785179</td>\n",
       "      <td>0.686462</td>\n",
       "      <td>0.654219</td>\n",
       "      <td>0.722462</td>\n",
       "      <td>32.811738</td>\n",
       "      <td>Voting CLF SS()/SMOTE SOFT</td>\n",
       "    </tr>\n",
       "    <tr>\n",
       "      <th>13</th>\n",
       "      <td>best_model</td>\n",
       "      <td>0.784996</td>\n",
       "      <td>0.686546</td>\n",
       "      <td>0.654976</td>\n",
       "      <td>0.721672</td>\n",
       "      <td>10.407948</td>\n",
       "      <td>Tuned Voting CLF SS()/SMOTE SOFT</td>\n",
       "    </tr>\n",
       "  </tbody>\n",
       "</table>\n",
       "</div>"
      ],
      "text/plain": [
       "          Name  Accuracy        F1    Recall  Precision  CV_Time(sec)  \\\n",
       "0          fsm  0.656524  0.346311  0.253047   0.549340      0.199047   \n",
       "1     Baseline  0.359649  0.529032  1.000000   0.359649      0.183302   \n",
       "2       knn_ss  0.741410  0.600426  0.540400   0.676061      3.616009   \n",
       "3        dt_ss  0.714821  0.605655  0.609246   0.602254      1.649509   \n",
       "4       ada_ss  0.718567  0.609889  0.612040   0.607926      1.844192   \n",
       "5      lsvc_ss  0.768092  0.634062  0.558944   0.732968      2.424637   \n",
       "6      bclf_ss  0.767818  0.634691  0.561225   0.730734     10.177706   \n",
       "7    logreg_ss  0.768092  0.637288  0.566820   0.728209      4.954445   \n",
       "8       svc_ss  0.785544  0.651997  0.558942   0.782661     19.619819   \n",
       "9        rf_ss  0.778235  0.655237  0.586381   0.743012      9.274697   \n",
       "10      xgb_ss  0.780610  0.664661  0.605180   0.737620      3.178720   \n",
       "11       vc_ss  0.784175  0.668305  0.605182   0.746773     19.071586   \n",
       "12       vc_sm  0.785179  0.686462  0.654219   0.722462     32.811738   \n",
       "13  best_model  0.784996  0.686546  0.654976   0.721672     10.407948   \n",
       "\n",
       "                               Notes  \n",
       "0                    FSM Naive Bayes  \n",
       "1                  Baseline DummyCFL  \n",
       "2                           KNN SS()  \n",
       "3             Decision Tree CLF SS()  \n",
       "4                      AdaBoost SS()  \n",
       "5                    Linear SVC SS()  \n",
       "6                   Bagging CLF SS()  \n",
       "7                        LogReg SS()  \n",
       "8            Support Vector CLF SS()  \n",
       "9                 Random Forest SS()  \n",
       "10                      XGBoost SS()  \n",
       "11                   Voting CLF SS()  \n",
       "12        Voting CLF SS()/SMOTE SOFT  \n",
       "13  Tuned Voting CLF SS()/SMOTE SOFT  "
      ]
     },
     "execution_count": 102,
     "metadata": {},
     "output_type": "execute_result"
    },
    {
     "name": "stdout",
     "output_type": "stream",
     "text": [
      "time: 20.4 ms\n"
     ]
    }
   ],
   "source": [
    "modeling.history"
   ]
  },
  {
   "cell_type": "markdown",
   "id": "e660cc2f-910c-4285-82b4-cad9885494d5",
   "metadata": {
    "tags": []
   },
   "source": [
    "## Final Modeling Summary"
   ]
  },
  {
   "cell_type": "markdown",
   "id": "da4f1360-2e73-4600-ae80-8bfa82ba94f6",
   "metadata": {
    "jp-MarkdownHeadingCollapsed": true,
    "tags": []
   },
   "source": [
    "Hyperparameter tuning has greatly improved the speed of the and slightly improved performance during 5-fold cross validation, with the model achieving: \n",
    "- Mean F1 = 0.69\n",
    "- Mean recall = 0.65\n",
    "- Mean precision = 0.72"
   ]
  },
  {
   "cell_type": "markdown",
   "id": "836557ab-00bd-4f7d-9df8-691cd5974b58",
   "metadata": {},
   "source": [
    "### Test Data Confusion Matrix"
   ]
  },
  {
   "cell_type": "code",
   "execution_count": 103,
   "id": "19c7b8f1-4fc6-41de-8d0c-b5c6706361f8",
   "metadata": {
    "execution": {
     "iopub.execute_input": "2021-11-29T22:45:31.823433Z",
     "iopub.status.busy": "2021-11-29T22:45:31.822827Z",
     "iopub.status.idle": "2021-11-29T22:45:32.601850Z",
     "shell.execute_reply": "2021-11-29T22:45:32.601263Z",
     "shell.execute_reply.started": "2021-11-29T22:45:31.823363Z"
    },
    "tags": []
   },
   "outputs": [
    {
     "data": {
      "image/png": "[encoded data removed]",
      "text/plain": [
       "<Figure size 504x504 with 2 Axes>"
      ]
     },
     "metadata": {},
     "output_type": "display_data"
    },
    {
     "data": {
      "text/html": [
       "<div>\n",
       "<style scoped>\n",
       "    .dataframe tbody tr th:only-of-type {\n",
       "        vertical-align: middle;\n",
       "    }\n",
       "\n",
       "    .dataframe tbody tr th {\n",
       "        vertical-align: top;\n",
       "    }\n",
       "\n",
       "    .dataframe thead th {\n",
       "        text-align: right;\n",
       "    }\n",
       "</style>\n",
       "<table border=\"1\" class=\"dataframe\">\n",
       "  <thead>\n",
       "    <tr style=\"text-align: right;\">\n",
       "      <th></th>\n",
       "      <th>Accuracy</th>\n",
       "      <th>F1</th>\n",
       "      <th>Recall</th>\n",
       "      <th>Precision</th>\n",
       "    </tr>\n",
       "  </thead>\n",
       "  <tbody>\n",
       "    <tr>\n",
       "      <th>0</th>\n",
       "      <td>0.785695</td>\n",
       "      <td>0.686447</td>\n",
       "      <td>0.652439</td>\n",
       "      <td>0.724196</td>\n",
       "    </tr>\n",
       "  </tbody>\n",
       "</table>\n",
       "</div>"
      ],
      "text/plain": [
       "   Accuracy        F1    Recall  Precision\n",
       "0  0.785695  0.686447  0.652439   0.724196"
      ]
     },
     "execution_count": 103,
     "metadata": {},
     "output_type": "execute_result"
    },
    {
     "name": "stdout",
     "output_type": "stream",
     "text": [
      "time: 692 ms\n"
     ]
    }
   ],
   "source": [
    "f.confusion_report(best_model, X_test, y_test)"
   ]
  },
  {
   "cell_type": "markdown",
   "id": "013c26ef-063d-45d0-bcee-915da2c0f927",
   "metadata": {
    "tags": []
   },
   "source": [
    "## Final Model Test Score Interpretation:\n",
    "\n",
    "Upon validation with the test data we see that the model is still having some trouble the minority class, but performance has been improved to a level that is acceptable for our purposes.\n",
    "\n",
    "- The recall score of .65 indicates that about 65% outcomes were correctly classified as Unsatisfactory.\n",
    "- The precision score .72 indicates that about 72% of outcomes classified as Unsatisfactory were truly Unsatisfactory."
   ]
  },
  {
   "cell_type": "markdown",
   "id": "cff7eee1-709f-4d89-bc74-7da8f4a8886e",
   "metadata": {
    "tags": []
   },
   "source": [
    "# Saving Model"
   ]
  },
  {
   "cell_type": "code",
   "execution_count": 104,
   "id": "1e2a1888-5b2a-4fc2-92b3-fb1a461f560b",
   "metadata": {
    "execution": {
     "iopub.execute_input": "2021-11-29T22:45:32.603136Z",
     "iopub.status.busy": "2021-11-29T22:45:32.602836Z",
     "iopub.status.idle": "2021-11-29T22:45:32.659059Z",
     "shell.execute_reply": "2021-11-29T22:45:32.658360Z",
     "shell.execute_reply.started": "2021-11-29T22:45:32.603106Z"
    },
    "tags": []
   },
   "outputs": [
    {
     "name": "stdout",
     "output_type": "stream",
     "text": [
      "time: 581 µs\n"
     ]
    }
   ],
   "source": [
    "# saving the model\n",
    "# f.pickle_model(best_model, 'final')"
   ]
  },
  {
   "cell_type": "markdown",
   "id": "83233fc0-0991-4ee4-a2a3-f906be61bebb",
   "metadata": {
    "tags": []
   },
   "source": [
    "# F1 Permutation Importances"
   ]
  },
  {
   "cell_type": "code",
   "execution_count": 105,
   "id": "31921e9e-078a-4d84-bcbd-bae7b5725861",
   "metadata": {
    "execution": {
     "iopub.execute_input": "2021-11-29T22:45:32.660488Z",
     "iopub.status.busy": "2021-11-29T22:45:32.660308Z",
     "iopub.status.idle": "2021-11-29T22:45:39.555226Z",
     "shell.execute_reply": "2021-11-29T22:45:39.552324Z",
     "shell.execute_reply.started": "2021-11-29T22:45:32.660468Z"
    },
    "tags": []
   },
   "outputs": [
    {
     "data": {
      "image/png": "[encoded data removed]",
      "text/plain": [
       "<Figure size 1152x576 with 1 Axes>"
      ]
     },
     "metadata": {},
     "output_type": "display_data"
    },
    {
     "name": "stdout",
     "output_type": "stream",
     "text": [
      "time: 6.83 s\n"
     ]
    }
   ],
   "source": [
    "f.perm_importances(best_model, X_test, y_test, 'f1')"
   ]
  },
  {
   "cell_type": "markdown",
   "id": "d4d3e14f-95aa-474b-a7b2-599c8608570a",
   "metadata": {},
   "source": [
    "The assessment score features (median_score, mean_score & weighted_ave) are the main drivers of the model. Interestingly, some of the most statistically significant features (imd_band, highest_education, and course_load) have little to no effect on the model."
   ]
  },
  {
   "cell_type": "markdown",
   "id": "3992c86e-8b16-48d6-8bc8-55ac2d7f48ed",
   "metadata": {},
   "source": [
    "# Validating Model on Holdout Data"
   ]
  },
  {
   "cell_type": "markdown",
   "id": "47cb4e3c-c966-43c3-9eec-07a0bcb6d0b3",
   "metadata": {},
   "source": [
    "### Average Metrics"
   ]
  },
  {
   "cell_type": "code",
   "execution_count": 106,
   "id": "7a32e6f9-5a26-4af9-8e23-59d6a193c20f",
   "metadata": {
    "execution": {
     "iopub.execute_input": "2021-11-29T22:45:39.557689Z",
     "iopub.status.busy": "2021-11-29T22:45:39.556721Z",
     "iopub.status.idle": "2021-11-29T22:45:45.340371Z",
     "shell.execute_reply": "2021-11-29T22:45:45.339430Z",
     "shell.execute_reply.started": "2021-11-29T22:45:39.557638Z"
    },
    "tags": []
   },
   "outputs": [
    {
     "name": "stdout",
     "output_type": "stream",
     "text": [
      "best_model has an average Accuracy of 0.7638232271325796\n",
      "best_model has an average F1 of 0.6529339833140467\n",
      "best_model has an average Recall of 0.6180679492427343\n",
      "best_model has an average Precision of 0.6923252894659433\n",
      "time: 5.7 s\n"
     ]
    }
   ],
   "source": [
    "# checking cross val scores\n",
    "modeling.report(best_model, X_holdout, y_holdout, 'best_model',\\\n",
    "                'Tuned Voting CLF SS()/SMOTE SOFT HOLDOUT')"
   ]
  },
  {
   "cell_type": "markdown",
   "id": "04db0d11-384e-427f-9e73-3304ba144237",
   "metadata": {},
   "source": [
    "### Holdout Data Confusion Matrix"
   ]
  },
  {
   "cell_type": "code",
   "execution_count": 107,
   "id": "64abfae0-4802-480e-b9c7-a395ca2e2c5a",
   "metadata": {
    "execution": {
     "iopub.execute_input": "2021-11-29T22:45:45.342481Z",
     "iopub.status.busy": "2021-11-29T22:45:45.342194Z",
     "iopub.status.idle": "2021-11-29T22:45:46.351620Z",
     "shell.execute_reply": "2021-11-29T22:45:46.349984Z",
     "shell.execute_reply.started": "2021-11-29T22:45:45.342428Z"
    }
   },
   "outputs": [
    {
     "data": {
      "image/png": "[encoded data removed]",
      "text/plain": [
       "<Figure size 504x504 with 2 Axes>"
      ]
     },
     "metadata": {},
     "output_type": "display_data"
    },
    {
     "data": {
      "text/html": [
       "<div>\n",
       "<style scoped>\n",
       "    .dataframe tbody tr th:only-of-type {\n",
       "        vertical-align: middle;\n",
       "    }\n",
       "\n",
       "    .dataframe tbody tr th {\n",
       "        vertical-align: top;\n",
       "    }\n",
       "\n",
       "    .dataframe thead th {\n",
       "        text-align: right;\n",
       "    }\n",
       "</style>\n",
       "<table border=\"1\" class=\"dataframe\">\n",
       "  <thead>\n",
       "    <tr style=\"text-align: right;\">\n",
       "      <th></th>\n",
       "      <th>Accuracy</th>\n",
       "      <th>F1</th>\n",
       "      <th>Recall</th>\n",
       "      <th>Precision</th>\n",
       "    </tr>\n",
       "  </thead>\n",
       "  <tbody>\n",
       "    <tr>\n",
       "      <th>0</th>\n",
       "      <td>0.779034</td>\n",
       "      <td>0.671153</td>\n",
       "      <td>0.627216</td>\n",
       "      <td>0.721711</td>\n",
       "    </tr>\n",
       "  </tbody>\n",
       "</table>\n",
       "</div>"
      ],
      "text/plain": [
       "   Accuracy        F1    Recall  Precision\n",
       "0  0.779034  0.671153  0.627216   0.721711"
      ]
     },
     "execution_count": 107,
     "metadata": {},
     "output_type": "execute_result"
    },
    {
     "name": "stdout",
     "output_type": "stream",
     "text": [
      "time: 899 ms\n"
     ]
    }
   ],
   "source": [
    "f.confusion_report(best_model, X_holdout, y_holdout)"
   ]
  },
  {
   "cell_type": "markdown",
   "id": "85eb40e1-aeaf-4ab0-83ba-1e27f3ac47d2",
   "metadata": {
    "tags": []
   },
   "source": [
    "## Score Interpretation:\n",
    "\n",
    "Upon validation with the holdout data we see that the model is still having some trouble the minority class, but performance is at a level that is acceptable for our purposes.\n",
    "\n",
    "- The recall score of .63 indicates that about 63% outcomes were correctly classified as Unsatisfactory.\n",
    "- The precision score .72 indicates that about 72% of outcomes classified as Unsatisfactory were truly Unsatisfactory."
   ]
  },
  {
   "cell_type": "markdown",
   "id": "4aa30eaa-1591-402f-9615-475294fd2ea1",
   "metadata": {},
   "source": [
    "# ROC AUC"
   ]
  },
  {
   "cell_type": "code",
   "execution_count": 108,
   "id": "a6860ded-1e5c-48c2-bef9-02063194a9f5",
   "metadata": {
    "execution": {
     "iopub.execute_input": "2021-11-29T22:45:46.357753Z",
     "iopub.status.busy": "2021-11-29T22:45:46.356685Z",
     "iopub.status.idle": "2021-11-29T22:45:47.580399Z",
     "shell.execute_reply": "2021-11-29T22:45:47.579754Z",
     "shell.execute_reply.started": "2021-11-29T22:45:46.357713Z"
    },
    "tags": []
   },
   "outputs": [
    {
     "data": {
      "image/png": "[encoded data removed]",
      "text/plain": [
       "<Figure size 720x576 with 1 Axes>"
      ]
     },
     "metadata": {},
     "output_type": "display_data"
    },
    {
     "name": "stdout",
     "output_type": "stream",
     "text": [
      "time: 1.16 s\n"
     ]
    }
   ],
   "source": [
    "f.roc_auc(best_model, X_holdout, y_holdout)"
   ]
  },
  {
   "cell_type": "markdown",
   "id": "974c56d9-c5ff-4c2a-8ef1-5dc0499d57c6",
   "metadata": {},
   "source": [
    "# Saving The Model Fit on All of the Half-Term Data"
   ]
  },
  {
   "cell_type": "code",
   "execution_count": 109,
   "id": "41657b81-9755-4481-b637-445450b78766",
   "metadata": {
    "execution": {
     "iopub.execute_input": "2021-11-29T22:45:47.581687Z",
     "iopub.status.busy": "2021-11-29T22:45:47.581365Z",
     "iopub.status.idle": "2021-11-29T22:45:54.441949Z",
     "shell.execute_reply": "2021-11-29T22:45:54.440903Z",
     "shell.execute_reply.started": "2021-11-29T22:45:47.581660Z"
    },
    "tags": []
   },
   "outputs": [
    {
     "name": "stdout",
     "output_type": "stream",
     "text": [
      "time: 6.79 s\n"
     ]
    }
   ],
   "source": [
    "# fitting model to all of the data\n",
    "best_model_full = best_model.fit(X,y)"
   ]
  },
  {
   "cell_type": "code",
   "execution_count": 110,
   "id": "43c0ffd9-cc07-43bd-8da8-5f78cca167d1",
   "metadata": {
    "execution": {
     "iopub.execute_input": "2021-11-29T22:45:54.445251Z",
     "iopub.status.busy": "2021-11-29T22:45:54.444767Z",
     "iopub.status.idle": "2021-11-29T22:45:54.530223Z",
     "shell.execute_reply": "2021-11-29T22:45:54.529176Z",
     "shell.execute_reply.started": "2021-11-29T22:45:54.445201Z"
    },
    "tags": []
   },
   "outputs": [
    {
     "name": "stdout",
     "output_type": "stream",
     "text": [
      "time: 590 µs\n"
     ]
    }
   ],
   "source": [
    "# saving the model\n",
    "# f.pickle_model(best_model_full, 'final_full_fit')"
   ]
  }
 ],
 "metadata": {
  "kernelspec": {
   "display_name": "oo",
   "language": "python",
   "name": "oo"
  },
  "language_info": {
   "codemirror_mode": {
    "name": "ipython",
    "version": 3
   },
   "file_extension": ".py",
   "mimetype": "text/x-python",
   "name": "python",
   "nbconvert_exporter": "python",
   "pygments_lexer": "ipython3",
   "version": "3.9.6"
  },
  "toc-showmarkdowntxt": false
 },
 "nbformat": 4,
 "nbformat_minor": 5
}
