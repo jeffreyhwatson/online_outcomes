{
 "cells": [
  {
   "cell_type": "code",
   "execution_count": 1,
   "id": "f95872b3-9ad0-41c1-9b7b-0ece85b62532",
   "metadata": {},
   "outputs": [],
   "source": [
    "%load_ext autoreload\n",
    "%autoreload 2"
   ]
  },
  {
   "cell_type": "markdown",
   "id": "5a8ddc97-a3cd-4f5a-8bce-c1dd75661d69",
   "metadata": {},
   "source": [
    "# Online Outcomes: Predicting Success in Virtual Learning\n",
    "\n",
    "**<font size=\"4\">Author: Jeffrey Hanif Watson</font>**"
   ]
  },
  {
   "cell_type": "markdown",
   "id": "84280c5c-2358-4550-8081-335e15816b01",
   "metadata": {},
   "source": [
    "## Imports and Project Path"
   ]
  },
  {
   "cell_type": "code",
   "execution_count": 108,
   "id": "4e1c4f5f-6f66-4be9-9dba-07b3f782ee43",
   "metadata": {},
   "outputs": [],
   "source": [
    "# importing packages\n",
    "import os, sys, glob, re\n",
    "import pandas as pd\n",
    "import numpy as np\n",
    "import sqlite3\n",
    "\n",
    "# setting project path\n",
    "gparent = os.path.join(os.pardir, os.pardir)\n",
    "sys.path.append(gparent)\n",
    "\n",
    "from src import functions as fn\n",
    "\n",
    "import matplotlib.pyplot as plt\n",
    "import seaborn as sns\n",
    "\n",
    "sns.set_theme('talk')\n",
    "plt.style.use('fivethirtyeight')\n",
    "sns.set_palette(\"winter_r\")\n",
    "pd.options.display.max_rows = 300"
   ]
  },
  {
   "cell_type": "markdown",
   "id": "a85d5344-39ed-45d6-a01f-f841f669e9ba",
   "metadata": {},
   "source": [
    "## Creating SQL Database"
   ]
  },
  {
   "cell_type": "markdown",
   "id": "87da2c4b-9ca5-42b9-9464-b78f823b42dd",
   "metadata": {},
   "source": [
    "**<font size=\"3\">This cell can be run once to establish the database and then commented out.</font>**"
   ]
  },
  {
   "cell_type": "code",
   "execution_count": 83,
   "id": "792d2104-21cc-4aa0-8ff7-1e435511e2da",
   "metadata": {
    "tags": []
   },
   "outputs": [],
   "source": [
    "# # creating and populating database\n",
    "# file_name = 'anonymisedData.zip'\n",
    "# database_name = 'outcomes.db'\n",
    "# fn.db_create(file_name, database_name)"
   ]
  },
  {
   "cell_type": "markdown",
   "id": "3f9ea2cc-8f85-4594-b2f2-5ed198fe0e7e",
   "metadata": {},
   "source": [
    "## Database ERD\n",
    "\n",
    "![graph0](../../references/schema.png)"
   ]
  },
  {
   "cell_type": "markdown",
   "id": "c56a2373-8d94-4eae-9546-a07a764dfdf2",
   "metadata": {},
   "source": [
    "## EDA"
   ]
  },
  {
   "cell_type": "markdown",
   "id": "74466815-9b16-4b22-bfac-0c4ad0a8bf28",
   "metadata": {},
   "source": [
    "### SQL Setup\n",
    "Connecting to database and creating a cursor object."
   ]
  },
  {
   "cell_type": "code",
   "execution_count": 84,
   "id": "3b73ca03-dd40-4b0a-99bf-4ef09f7583f3",
   "metadata": {
    "tags": []
   },
   "outputs": [],
   "source": [
    "# creating connection, and cursor\n",
    "data_path = os.path.join(gparent,'data/processed','outcomes.db')\n",
    "conn = sqlite3.connect(data_path)  \n",
    "cur = conn.cursor()"
   ]
  },
  {
   "cell_type": "markdown",
   "id": "ff12710e-f750-40ef-b04f-ca50399f1cc2",
   "metadata": {},
   "source": [
    "### Checking table names"
   ]
  },
  {
   "cell_type": "code",
   "execution_count": 85,
   "id": "9b987617-8f3a-40cb-97cd-d93acf1ca42d",
   "metadata": {},
   "outputs": [
    {
     "data": {
      "text/plain": [
       "[('ASSESSMENTS',),\n",
       " ('COURSES',),\n",
       " ('STUDENTASSESSMENT',),\n",
       " ('STUDENTINFO',),\n",
       " ('STUDENTREGISTRATION',),\n",
       " ('STUDENTVLE',),\n",
       " ('VLE',)]"
      ]
     },
     "execution_count": 85,
     "metadata": {},
     "output_type": "execute_result"
    }
   ],
   "source": [
    "# checking the table names\n",
    "q = \"\"\"SELECT name FROM sqlite_master \n",
    "WHERE type IN ('table','view') \n",
    "AND name NOT LIKE 'sqlite_%'\n",
    "ORDER BY 1\"\"\"\n",
    "fn.fetch(cur, q)"
   ]
  },
  {
   "cell_type": "markdown",
   "id": "0e352997-bf54-4251-af63-905a6f9c7222",
   "metadata": {},
   "source": [
    "## Data Understanding"
   ]
  },
  {
   "cell_type": "markdown",
   "id": "2d5336ae-c119-46ec-9c85-00b60cd9c9d4",
   "metadata": {},
   "source": [
    "### Codes & Module Summaries"
   ]
  },
  {
   "cell_type": "code",
   "execution_count": 86,
   "id": "cc039bf5-5520-4bad-8b58-50a62b680b57",
   "metadata": {},
   "outputs": [],
   "source": [
    "# month codes used in code_presentation\n",
    "month_codes = {\n",
    "    'A': 'January', \n",
    "    'B': 'Februrary',\n",
    "    'C': 'March', \n",
    "    'D': 'April',\n",
    "    'E': 'May',\n",
    "    'F': 'June',\n",
    "    'G': 'July',\n",
    "    'H': 'August',\n",
    "    'I': 'Septemeber',\n",
    "    'J': 'October',\n",
    "    'K': 'November',\n",
    "    'L': 'December'\n",
    "        }"
   ]
  },
  {
   "cell_type": "code",
   "execution_count": 87,
   "id": "05a030d5-d23e-47f1-871b-32d645dbb5a4",
   "metadata": {},
   "outputs": [],
   "source": [
    "module_codes = {\n",
    "    'AAA': {'Domain': 'Social Sciences', 'Presentations': 2, 'Students': 748},\n",
    "    'BBB': {'Domain': 'Social Sciences', 'Presentations': '4', 'Students': 7909},\n",
    "    'CCC': {'Domain': 'STEM', 'Presentations': 2, 'Students': 4434},\n",
    "    'DDD': {'Domain': 'STEM', 'Presentations': 4, 'Students': 6272},\n",
    "    'EEE': {'Domain': 'STEM', 'Presentations': 3, 'Students': 2934},\n",
    "    'FFF': {'Domain': 'STEM', 'Presentations': 4, 'Students': 7762},\n",
    "    'GGG': {'Domain': 'Social Sciences', 'Presentations': 3, 'Students': 2534}\n",
    "}"
   ]
  },
  {
   "cell_type": "code",
   "execution_count": 88,
   "id": "92a3d016-5e71-43b5-b10e-9b709cbe0db6",
   "metadata": {},
   "outputs": [
    {
     "name": "stdout",
     "output_type": "stream",
     "text": [
      "Students\n",
      "---------\n",
      "AAA 748\n",
      "BBB 7909\n",
      "CCC 4434\n",
      "DDD 6272\n",
      "EEE 2934\n",
      "FFF 7762\n",
      "GGG 2534\n"
     ]
    }
   ],
   "source": [
    "# checking work\n",
    "print('Students')\n",
    "print('---------')\n",
    "for key in module_codes.keys():\n",
    "    print(key, module_codes[key]['Students'])"
   ]
  },
  {
   "cell_type": "markdown",
   "id": "fdc7cb4c-7123-40fa-b022-55789ad277b8",
   "metadata": {},
   "source": [
    "### Creating Data Frames"
   ]
  },
  {
   "cell_type": "markdown",
   "id": "aa1a9874-e4bb-4d1a-a084-9b8ad74607b6",
   "metadata": {},
   "source": [
    "### Student Info"
   ]
  },
  {
   "cell_type": "code",
   "execution_count": 89,
   "id": "79d57bae-546e-4e52-85ee-2c94b8a65059",
   "metadata": {},
   "outputs": [],
   "source": [
    "# creating student_info dataframe and appending column names\n",
    "q = \"SELECT*FROM STUDENTINFO\"\n",
    "student_info = pd.DataFrame(fn.fetch(cur, q))\n",
    "student_info.columns = [i[0] for i in cur.description]"
   ]
  },
  {
   "cell_type": "code",
   "execution_count": 90,
   "id": "c5ade15e-3fd1-45fc-a26e-3fc60516987b",
   "metadata": {},
   "outputs": [
    {
     "data": {
      "text/html": [
       "<div>\n",
       "<style scoped>\n",
       "    .dataframe tbody tr th:only-of-type {\n",
       "        vertical-align: middle;\n",
       "    }\n",
       "\n",
       "    .dataframe tbody tr th {\n",
       "        vertical-align: top;\n",
       "    }\n",
       "\n",
       "    .dataframe thead th {\n",
       "        text-align: right;\n",
       "    }\n",
       "</style>\n",
       "<table border=\"1\" class=\"dataframe\">\n",
       "  <thead>\n",
       "    <tr style=\"text-align: right;\">\n",
       "      <th></th>\n",
       "      <th>code_module</th>\n",
       "      <th>code_presentation</th>\n",
       "      <th>id_student</th>\n",
       "      <th>gender</th>\n",
       "      <th>region</th>\n",
       "      <th>highest_education</th>\n",
       "      <th>imd_band</th>\n",
       "      <th>age_band</th>\n",
       "      <th>num_of_prev_attempts</th>\n",
       "      <th>studied_credits</th>\n",
       "      <th>disability</th>\n",
       "      <th>final_result</th>\n",
       "    </tr>\n",
       "  </thead>\n",
       "  <tbody>\n",
       "    <tr>\n",
       "      <th>0</th>\n",
       "      <td>AAA</td>\n",
       "      <td>2013J</td>\n",
       "      <td>11391</td>\n",
       "      <td>M</td>\n",
       "      <td>East Anglian Region</td>\n",
       "      <td>HE Qualification</td>\n",
       "      <td>90-100%</td>\n",
       "      <td>55&lt;=</td>\n",
       "      <td>0</td>\n",
       "      <td>240</td>\n",
       "      <td>N</td>\n",
       "      <td>Pass</td>\n",
       "    </tr>\n",
       "    <tr>\n",
       "      <th>1</th>\n",
       "      <td>AAA</td>\n",
       "      <td>2013J</td>\n",
       "      <td>28400</td>\n",
       "      <td>F</td>\n",
       "      <td>Scotland</td>\n",
       "      <td>HE Qualification</td>\n",
       "      <td>20-30%</td>\n",
       "      <td>35-55</td>\n",
       "      <td>0</td>\n",
       "      <td>60</td>\n",
       "      <td>N</td>\n",
       "      <td>Pass</td>\n",
       "    </tr>\n",
       "    <tr>\n",
       "      <th>2</th>\n",
       "      <td>AAA</td>\n",
       "      <td>2013J</td>\n",
       "      <td>30268</td>\n",
       "      <td>F</td>\n",
       "      <td>North Western Region</td>\n",
       "      <td>A Level or Equivalent</td>\n",
       "      <td>30-40%</td>\n",
       "      <td>35-55</td>\n",
       "      <td>0</td>\n",
       "      <td>60</td>\n",
       "      <td>Y</td>\n",
       "      <td>Withdrawn</td>\n",
       "    </tr>\n",
       "    <tr>\n",
       "      <th>3</th>\n",
       "      <td>AAA</td>\n",
       "      <td>2013J</td>\n",
       "      <td>31604</td>\n",
       "      <td>F</td>\n",
       "      <td>South East Region</td>\n",
       "      <td>A Level or Equivalent</td>\n",
       "      <td>50-60%</td>\n",
       "      <td>35-55</td>\n",
       "      <td>0</td>\n",
       "      <td>60</td>\n",
       "      <td>N</td>\n",
       "      <td>Pass</td>\n",
       "    </tr>\n",
       "    <tr>\n",
       "      <th>4</th>\n",
       "      <td>AAA</td>\n",
       "      <td>2013J</td>\n",
       "      <td>32885</td>\n",
       "      <td>F</td>\n",
       "      <td>West Midlands Region</td>\n",
       "      <td>Lower Than A Level</td>\n",
       "      <td>50-60%</td>\n",
       "      <td>0-35</td>\n",
       "      <td>0</td>\n",
       "      <td>60</td>\n",
       "      <td>N</td>\n",
       "      <td>Pass</td>\n",
       "    </tr>\n",
       "  </tbody>\n",
       "</table>\n",
       "</div>"
      ],
      "text/plain": [
       "  code_module code_presentation id_student gender                region  \\\n",
       "0         AAA             2013J      11391      M   East Anglian Region   \n",
       "1         AAA             2013J      28400      F              Scotland   \n",
       "2         AAA             2013J      30268      F  North Western Region   \n",
       "3         AAA             2013J      31604      F     South East Region   \n",
       "4         AAA             2013J      32885      F  West Midlands Region   \n",
       "\n",
       "       highest_education imd_band age_band num_of_prev_attempts  \\\n",
       "0       HE Qualification  90-100%     55<=                    0   \n",
       "1       HE Qualification   20-30%    35-55                    0   \n",
       "2  A Level or Equivalent   30-40%    35-55                    0   \n",
       "3  A Level or Equivalent   50-60%    35-55                    0   \n",
       "4     Lower Than A Level   50-60%     0-35                    0   \n",
       "\n",
       "  studied_credits disability final_result  \n",
       "0             240          N         Pass  \n",
       "1              60          N         Pass  \n",
       "2              60          Y    Withdrawn  \n",
       "3              60          N         Pass  \n",
       "4              60          N         Pass  "
      ]
     },
     "execution_count": 90,
     "metadata": {},
     "output_type": "execute_result"
    }
   ],
   "source": [
    "# checking first five rows\n",
    "student_info.head()"
   ]
  },
  {
   "cell_type": "code",
   "execution_count": 91,
   "id": "00bf4583-6cc3-45ec-bd2e-1168002122d6",
   "metadata": {},
   "outputs": [
    {
     "name": "stdout",
     "output_type": "stream",
     "text": [
      "<class 'pandas.core.frame.DataFrame'>\n",
      "RangeIndex: 32593 entries, 0 to 32592\n",
      "Data columns (total 12 columns):\n",
      " #   Column                Non-Null Count  Dtype \n",
      "---  ------                --------------  ----- \n",
      " 0   code_module           32593 non-null  object\n",
      " 1   code_presentation     32593 non-null  object\n",
      " 2   id_student            32593 non-null  object\n",
      " 3   gender                32593 non-null  object\n",
      " 4   region                32593 non-null  object\n",
      " 5   highest_education     32593 non-null  object\n",
      " 6   imd_band              31482 non-null  object\n",
      " 7   age_band              32593 non-null  object\n",
      " 8   num_of_prev_attempts  32593 non-null  object\n",
      " 9   studied_credits       32593 non-null  object\n",
      " 10  disability            32593 non-null  object\n",
      " 11  final_result          32593 non-null  object\n",
      "dtypes: object(12)\n",
      "memory usage: 3.0+ MB\n"
     ]
    }
   ],
   "source": [
    "student_info.info()"
   ]
  },
  {
   "cell_type": "code",
   "execution_count": 92,
   "id": "985d1485-e4d4-4ab1-a253-b919df346a50",
   "metadata": {},
   "outputs": [
    {
     "data": {
      "text/plain": [
       "(32593, 12)"
      ]
     },
     "execution_count": 92,
     "metadata": {},
     "output_type": "execute_result"
    }
   ],
   "source": [
    "student_info.shape"
   ]
  },
  {
   "cell_type": "code",
   "execution_count": 93,
   "id": "d108a25c-a5aa-45bc-a4ea-7e746035d089",
   "metadata": {},
   "outputs": [
    {
     "data": {
      "text/plain": [
       "20-30%     0.116066\n",
       "30-40%     0.112413\n",
       "10-20      0.111683\n",
       "0-10%      0.105171\n",
       "40-50%     0.103424\n",
       "50-60%     0.099231\n",
       "60-70%     0.092275\n",
       "70-80%     0.091449\n",
       "80-90%     0.087733\n",
       "90-100%    0.080554\n",
       "Name: imd_band, dtype: float64"
      ]
     },
     "execution_count": 93,
     "metadata": {},
     "output_type": "execute_result"
    }
   ],
   "source": [
    "student_info.imd_band.value_counts(normalize=True)"
   ]
  },
  {
   "cell_type": "code",
   "execution_count": 94,
   "id": "a23665b1-1f02-4895-8d81-964d7932a498",
   "metadata": {},
   "outputs": [
    {
     "data": {
      "text/plain": [
       "0-35     0.703955\n",
       "35-55    0.289418\n",
       "55<=     0.006627\n",
       "Name: age_band, dtype: float64"
      ]
     },
     "execution_count": 94,
     "metadata": {},
     "output_type": "execute_result"
    }
   ],
   "source": [
    "student_info.age_band.value_counts(normalize=True)"
   ]
  },
  {
   "cell_type": "code",
   "execution_count": 95,
   "id": "538f743d-6932-4578-94fd-d5329ff3a1cb",
   "metadata": {},
   "outputs": [
    {
     "data": {
      "text/plain": [
       "A Level or Equivalent          0.430921\n",
       "Lower Than A Level             0.403706\n",
       "HE Qualification               0.145123\n",
       "No Formal quals                0.010646\n",
       "Post Graduate Qualification    0.009603\n",
       "Name: highest_education, dtype: float64"
      ]
     },
     "execution_count": 95,
     "metadata": {},
     "output_type": "execute_result"
    }
   ],
   "source": [
    "student_info.highest_education.value_counts(normalize=True)"
   ]
  },
  {
   "cell_type": "code",
   "execution_count": 114,
   "id": "8099ea48-97de-4ea9-afbf-7e965b7cf482",
   "metadata": {},
   "outputs": [
    {
     "data": {
      "text/plain": [
       "Pass           0.379253\n",
       "Withdrawn      0.311601\n",
       "Fail           0.216365\n",
       "Distinction    0.092781\n",
       "Name: final_result, dtype: float64"
      ]
     },
     "execution_count": 114,
     "metadata": {},
     "output_type": "execute_result"
    }
   ],
   "source": [
    "student_info.final_result.value_counts(normalize=True)"
   ]
  },
  {
   "cell_type": "code",
   "execution_count": 96,
   "id": "f2795d08-ce09-41b5-8362-5efc3a4433a0",
   "metadata": {},
   "outputs": [
    {
     "data": {
      "text/plain": [
       "7346"
      ]
     },
     "execution_count": 96,
     "metadata": {},
     "output_type": "execute_result"
    }
   ],
   "source": [
    "student_info.duplicated('id_student', keep=False).sum()"
   ]
  },
  {
   "cell_type": "code",
   "execution_count": 97,
   "id": "1c8599b5-dfea-472a-8121-15591ea52b3e",
   "metadata": {},
   "outputs": [],
   "source": [
    "dupe_ids = student_info[student_info['id_student'].duplicated(keep=False)]\\\n",
    ".sort_values(by=['id_student']).reset_index()"
   ]
  },
  {
   "cell_type": "code",
   "execution_count": 98,
   "id": "15b5db49-b155-45b7-b4f3-476b6abbc383",
   "metadata": {},
   "outputs": [
    {
     "data": {
      "text/plain": [
       "Withdrawn      3302\n",
       "Pass           2160\n",
       "Fail           1307\n",
       "Distinction     577\n",
       "Name: final_result, dtype: int64"
      ]
     },
     "execution_count": 98,
     "metadata": {},
     "output_type": "execute_result"
    }
   ],
   "source": [
    "dupe_ids.final_result.value_counts()"
   ]
  },
  {
   "cell_type": "code",
   "execution_count": 99,
   "id": "2cc47978-9512-4d18-babf-20dbe54e1b5f",
   "metadata": {},
   "outputs": [
    {
     "data": {
      "text/html": [
       "<div>\n",
       "<style scoped>\n",
       "    .dataframe tbody tr th:only-of-type {\n",
       "        vertical-align: middle;\n",
       "    }\n",
       "\n",
       "    .dataframe tbody tr th {\n",
       "        vertical-align: top;\n",
       "    }\n",
       "\n",
       "    .dataframe thead th {\n",
       "        text-align: right;\n",
       "    }\n",
       "</style>\n",
       "<table border=\"1\" class=\"dataframe\">\n",
       "  <thead>\n",
       "    <tr style=\"text-align: right;\">\n",
       "      <th></th>\n",
       "      <th>index</th>\n",
       "      <th>code_module</th>\n",
       "      <th>code_presentation</th>\n",
       "      <th>id_student</th>\n",
       "      <th>gender</th>\n",
       "      <th>region</th>\n",
       "      <th>highest_education</th>\n",
       "      <th>imd_band</th>\n",
       "      <th>age_band</th>\n",
       "      <th>num_of_prev_attempts</th>\n",
       "      <th>studied_credits</th>\n",
       "      <th>disability</th>\n",
       "      <th>final_result</th>\n",
       "    </tr>\n",
       "  </thead>\n",
       "  <tbody>\n",
       "    <tr>\n",
       "      <th>0</th>\n",
       "      <td>10637</td>\n",
       "      <td>CCC</td>\n",
       "      <td>2014J</td>\n",
       "      <td>100788</td>\n",
       "      <td>M</td>\n",
       "      <td>Scotland</td>\n",
       "      <td>HE Qualification</td>\n",
       "      <td>80-90%</td>\n",
       "      <td>0-35</td>\n",
       "      <td>1</td>\n",
       "      <td>60</td>\n",
       "      <td>N</td>\n",
       "      <td>Distinction</td>\n",
       "    </tr>\n",
       "    <tr>\n",
       "      <th>1</th>\n",
       "      <td>23954</td>\n",
       "      <td>FFF</td>\n",
       "      <td>2013J</td>\n",
       "      <td>100788</td>\n",
       "      <td>M</td>\n",
       "      <td>Scotland</td>\n",
       "      <td>HE Qualification</td>\n",
       "      <td>80-90%</td>\n",
       "      <td>0-35</td>\n",
       "      <td>0</td>\n",
       "      <td>90</td>\n",
       "      <td>N</td>\n",
       "      <td>Pass</td>\n",
       "    </tr>\n",
       "    <tr>\n",
       "      <th>2</th>\n",
       "      <td>27730</td>\n",
       "      <td>FFF</td>\n",
       "      <td>2014J</td>\n",
       "      <td>101217</td>\n",
       "      <td>M</td>\n",
       "      <td>London Region</td>\n",
       "      <td>A Level or Equivalent</td>\n",
       "      <td>40-50%</td>\n",
       "      <td>35-55</td>\n",
       "      <td>2</td>\n",
       "      <td>60</td>\n",
       "      <td>Y</td>\n",
       "      <td>Fail</td>\n",
       "    </tr>\n",
       "    <tr>\n",
       "      <th>3</th>\n",
       "      <td>23955</td>\n",
       "      <td>FFF</td>\n",
       "      <td>2013J</td>\n",
       "      <td>101217</td>\n",
       "      <td>M</td>\n",
       "      <td>London Region</td>\n",
       "      <td>A Level or Equivalent</td>\n",
       "      <td>40-50%</td>\n",
       "      <td>35-55</td>\n",
       "      <td>1</td>\n",
       "      <td>90</td>\n",
       "      <td>Y</td>\n",
       "      <td>Withdrawn</td>\n",
       "    </tr>\n",
       "    <tr>\n",
       "      <th>4</th>\n",
       "      <td>12835</td>\n",
       "      <td>CCC</td>\n",
       "      <td>2014J</td>\n",
       "      <td>1031884</td>\n",
       "      <td>M</td>\n",
       "      <td>East Midlands Region</td>\n",
       "      <td>A Level or Equivalent</td>\n",
       "      <td>80-90%</td>\n",
       "      <td>35-55</td>\n",
       "      <td>0</td>\n",
       "      <td>60</td>\n",
       "      <td>N</td>\n",
       "      <td>Distinction</td>\n",
       "    </tr>\n",
       "    <tr>\n",
       "      <th>...</th>\n",
       "      <td>...</td>\n",
       "      <td>...</td>\n",
       "      <td>...</td>\n",
       "      <td>...</td>\n",
       "      <td>...</td>\n",
       "      <td>...</td>\n",
       "      <td>...</td>\n",
       "      <td>...</td>\n",
       "      <td>...</td>\n",
       "      <td>...</td>\n",
       "      <td>...</td>\n",
       "      <td>...</td>\n",
       "      <td>...</td>\n",
       "    </tr>\n",
       "    <tr>\n",
       "      <th>7341</th>\n",
       "      <td>8694</td>\n",
       "      <td>CCC</td>\n",
       "      <td>2014B</td>\n",
       "      <td>97486</td>\n",
       "      <td>M</td>\n",
       "      <td>North Western Region</td>\n",
       "      <td>HE Qualification</td>\n",
       "      <td>70-80%</td>\n",
       "      <td>35-55</td>\n",
       "      <td>0</td>\n",
       "      <td>60</td>\n",
       "      <td>N</td>\n",
       "      <td>Withdrawn</td>\n",
       "    </tr>\n",
       "    <tr>\n",
       "      <th>7342</th>\n",
       "      <td>25961</td>\n",
       "      <td>FFF</td>\n",
       "      <td>2013J</td>\n",
       "      <td>988019</td>\n",
       "      <td>F</td>\n",
       "      <td>London Region</td>\n",
       "      <td>A Level or Equivalent</td>\n",
       "      <td>20-30%</td>\n",
       "      <td>35-55</td>\n",
       "      <td>1</td>\n",
       "      <td>60</td>\n",
       "      <td>Y</td>\n",
       "      <td>Fail</td>\n",
       "    </tr>\n",
       "    <tr>\n",
       "      <th>7343</th>\n",
       "      <td>23707</td>\n",
       "      <td>FFF</td>\n",
       "      <td>2013B</td>\n",
       "      <td>988019</td>\n",
       "      <td>F</td>\n",
       "      <td>London Region</td>\n",
       "      <td>A Level or Equivalent</td>\n",
       "      <td>20-30%</td>\n",
       "      <td>35-55</td>\n",
       "      <td>0</td>\n",
       "      <td>60</td>\n",
       "      <td>Y</td>\n",
       "      <td>Withdrawn</td>\n",
       "    </tr>\n",
       "    <tr>\n",
       "      <th>7344</th>\n",
       "      <td>17406</td>\n",
       "      <td>DDD</td>\n",
       "      <td>2014B</td>\n",
       "      <td>997948</td>\n",
       "      <td>M</td>\n",
       "      <td>North Western Region</td>\n",
       "      <td>A Level or Equivalent</td>\n",
       "      <td>20-30%</td>\n",
       "      <td>55&lt;=</td>\n",
       "      <td>1</td>\n",
       "      <td>120</td>\n",
       "      <td>N</td>\n",
       "      <td>Withdrawn</td>\n",
       "    </tr>\n",
       "    <tr>\n",
       "      <th>7345</th>\n",
       "      <td>16095</td>\n",
       "      <td>DDD</td>\n",
       "      <td>2013J</td>\n",
       "      <td>997948</td>\n",
       "      <td>M</td>\n",
       "      <td>North Western Region</td>\n",
       "      <td>A Level or Equivalent</td>\n",
       "      <td>20-30%</td>\n",
       "      <td>55&lt;=</td>\n",
       "      <td>0</td>\n",
       "      <td>120</td>\n",
       "      <td>N</td>\n",
       "      <td>Withdrawn</td>\n",
       "    </tr>\n",
       "  </tbody>\n",
       "</table>\n",
       "<p>7346 rows × 13 columns</p>\n",
       "</div>"
      ],
      "text/plain": [
       "      index code_module code_presentation id_student gender  \\\n",
       "0     10637         CCC             2014J     100788      M   \n",
       "1     23954         FFF             2013J     100788      M   \n",
       "2     27730         FFF             2014J     101217      M   \n",
       "3     23955         FFF             2013J     101217      M   \n",
       "4     12835         CCC             2014J    1031884      M   \n",
       "...     ...         ...               ...        ...    ...   \n",
       "7341   8694         CCC             2014B      97486      M   \n",
       "7342  25961         FFF             2013J     988019      F   \n",
       "7343  23707         FFF             2013B     988019      F   \n",
       "7344  17406         DDD             2014B     997948      M   \n",
       "7345  16095         DDD             2013J     997948      M   \n",
       "\n",
       "                    region      highest_education imd_band age_band  \\\n",
       "0                 Scotland       HE Qualification   80-90%     0-35   \n",
       "1                 Scotland       HE Qualification   80-90%     0-35   \n",
       "2            London Region  A Level or Equivalent   40-50%    35-55   \n",
       "3            London Region  A Level or Equivalent   40-50%    35-55   \n",
       "4     East Midlands Region  A Level or Equivalent   80-90%    35-55   \n",
       "...                    ...                    ...      ...      ...   \n",
       "7341  North Western Region       HE Qualification   70-80%    35-55   \n",
       "7342         London Region  A Level or Equivalent   20-30%    35-55   \n",
       "7343         London Region  A Level or Equivalent   20-30%    35-55   \n",
       "7344  North Western Region  A Level or Equivalent   20-30%     55<=   \n",
       "7345  North Western Region  A Level or Equivalent   20-30%     55<=   \n",
       "\n",
       "     num_of_prev_attempts studied_credits disability final_result  \n",
       "0                       1              60          N  Distinction  \n",
       "1                       0              90          N         Pass  \n",
       "2                       2              60          Y         Fail  \n",
       "3                       1              90          Y    Withdrawn  \n",
       "4                       0              60          N  Distinction  \n",
       "...                   ...             ...        ...          ...  \n",
       "7341                    0              60          N    Withdrawn  \n",
       "7342                    1              60          Y         Fail  \n",
       "7343                    0              60          Y    Withdrawn  \n",
       "7344                    1             120          N    Withdrawn  \n",
       "7345                    0             120          N    Withdrawn  \n",
       "\n",
       "[7346 rows x 13 columns]"
      ]
     },
     "execution_count": 99,
     "metadata": {},
     "output_type": "execute_result"
    }
   ],
   "source": [
    "dupe_ids"
   ]
  },
  {
   "cell_type": "code",
   "execution_count": 20,
   "id": "9991e886-d640-46cf-89f5-271cf4c3c9e2",
   "metadata": {},
   "outputs": [],
   "source": [
    "# student_info.drop_duplicates(subset='id_student', keep='first', inplace=True)"
   ]
  },
  {
   "cell_type": "code",
   "execution_count": 21,
   "id": "8976b90c-d517-4a91-9926-6c63b9bd2260",
   "metadata": {},
   "outputs": [
    {
     "data": {
      "text/plain": [
       "array(['Pass', 'Withdrawn', 'Fail', 'Distinction'], dtype=object)"
      ]
     },
     "execution_count": 21,
     "metadata": {},
     "output_type": "execute_result"
    }
   ],
   "source": [
    "student_info.final_result.unique()"
   ]
  },
  {
   "cell_type": "markdown",
   "id": "1c8ad5a4-60e6-43d5-abe7-f9cb3a94c086",
   "metadata": {},
   "source": [
    "### Student VLE"
   ]
  },
  {
   "cell_type": "code",
   "execution_count": 22,
   "id": "6f7a9f77-5ae2-4bab-9bf3-5939ece978fc",
   "metadata": {},
   "outputs": [],
   "source": [
    "# creating student_vle dataframe and appending column names\n",
    "q = \"SELECT*FROM STUDENTVLE\"\n",
    "student_vle = pd.DataFrame(fn.fetch(cur, q))\n",
    "student_vle.columns = [i[0] for i in cur.description]"
   ]
  },
  {
   "cell_type": "code",
   "execution_count": 23,
   "id": "1f9e38df-0faa-4110-b809-52731a49bbf6",
   "metadata": {},
   "outputs": [
    {
     "data": {
      "text/html": [
       "<div>\n",
       "<style scoped>\n",
       "    .dataframe tbody tr th:only-of-type {\n",
       "        vertical-align: middle;\n",
       "    }\n",
       "\n",
       "    .dataframe tbody tr th {\n",
       "        vertical-align: top;\n",
       "    }\n",
       "\n",
       "    .dataframe thead th {\n",
       "        text-align: right;\n",
       "    }\n",
       "</style>\n",
       "<table border=\"1\" class=\"dataframe\">\n",
       "  <thead>\n",
       "    <tr style=\"text-align: right;\">\n",
       "      <th></th>\n",
       "      <th>code_module</th>\n",
       "      <th>code_presentation</th>\n",
       "      <th>id_student</th>\n",
       "      <th>id_site</th>\n",
       "      <th>date</th>\n",
       "      <th>sum_click</th>\n",
       "    </tr>\n",
       "  </thead>\n",
       "  <tbody>\n",
       "    <tr>\n",
       "      <th>0</th>\n",
       "      <td>AAA</td>\n",
       "      <td>2013J</td>\n",
       "      <td>28400</td>\n",
       "      <td>546652</td>\n",
       "      <td>-10</td>\n",
       "      <td>4</td>\n",
       "    </tr>\n",
       "    <tr>\n",
       "      <th>1</th>\n",
       "      <td>AAA</td>\n",
       "      <td>2013J</td>\n",
       "      <td>28400</td>\n",
       "      <td>546652</td>\n",
       "      <td>-10</td>\n",
       "      <td>1</td>\n",
       "    </tr>\n",
       "    <tr>\n",
       "      <th>2</th>\n",
       "      <td>AAA</td>\n",
       "      <td>2013J</td>\n",
       "      <td>28400</td>\n",
       "      <td>546652</td>\n",
       "      <td>-10</td>\n",
       "      <td>1</td>\n",
       "    </tr>\n",
       "    <tr>\n",
       "      <th>3</th>\n",
       "      <td>AAA</td>\n",
       "      <td>2013J</td>\n",
       "      <td>28400</td>\n",
       "      <td>546614</td>\n",
       "      <td>-10</td>\n",
       "      <td>11</td>\n",
       "    </tr>\n",
       "    <tr>\n",
       "      <th>4</th>\n",
       "      <td>AAA</td>\n",
       "      <td>2013J</td>\n",
       "      <td>28400</td>\n",
       "      <td>546714</td>\n",
       "      <td>-10</td>\n",
       "      <td>1</td>\n",
       "    </tr>\n",
       "  </tbody>\n",
       "</table>\n",
       "</div>"
      ],
      "text/plain": [
       "  code_module code_presentation id_student id_site date sum_click\n",
       "0         AAA             2013J      28400  546652  -10         4\n",
       "1         AAA             2013J      28400  546652  -10         1\n",
       "2         AAA             2013J      28400  546652  -10         1\n",
       "3         AAA             2013J      28400  546614  -10        11\n",
       "4         AAA             2013J      28400  546714  -10         1"
      ]
     },
     "execution_count": 23,
     "metadata": {},
     "output_type": "execute_result"
    }
   ],
   "source": [
    "student_vle.head()"
   ]
  },
  {
   "cell_type": "code",
   "execution_count": 24,
   "id": "8a07f6eb-7846-49fa-8b89-4b92bdb4d099",
   "metadata": {},
   "outputs": [
    {
     "name": "stdout",
     "output_type": "stream",
     "text": [
      "<class 'pandas.core.frame.DataFrame'>\n",
      "RangeIndex: 10655280 entries, 0 to 10655279\n",
      "Data columns (total 6 columns):\n",
      " #   Column             Dtype \n",
      "---  ------             ----- \n",
      " 0   code_module        object\n",
      " 1   code_presentation  object\n",
      " 2   id_student         object\n",
      " 3   id_site            object\n",
      " 4   date               object\n",
      " 5   sum_click          object\n",
      "dtypes: object(6)\n",
      "memory usage: 487.8+ MB\n"
     ]
    }
   ],
   "source": [
    "student_vle.info()"
   ]
  },
  {
   "cell_type": "code",
   "execution_count": 25,
   "id": "7d40d5c0-4b39-4577-98bc-bff4464638e1",
   "metadata": {},
   "outputs": [],
   "source": [
    "student_vle[['date','sum_click']] = student_vle[['date','sum_click']].apply(pd.to_numeric)"
   ]
  },
  {
   "cell_type": "code",
   "execution_count": 26,
   "id": "6c5da17f-0f32-44b0-b008-fcfd35e16d2c",
   "metadata": {},
   "outputs": [
    {
     "name": "stdout",
     "output_type": "stream",
     "text": [
      "<class 'pandas.core.frame.DataFrame'>\n",
      "RangeIndex: 10655280 entries, 0 to 10655279\n",
      "Data columns (total 6 columns):\n",
      " #   Column             Dtype \n",
      "---  ------             ----- \n",
      " 0   code_module        object\n",
      " 1   code_presentation  object\n",
      " 2   id_student         object\n",
      " 3   id_site            object\n",
      " 4   date               int64 \n",
      " 5   sum_click          int64 \n",
      "dtypes: int64(2), object(4)\n",
      "memory usage: 487.8+ MB\n"
     ]
    }
   ],
   "source": [
    "student_vle.info()"
   ]
  },
  {
   "cell_type": "code",
   "execution_count": 27,
   "id": "be0c2272-b58b-4d2c-8c9e-98950b8d65fe",
   "metadata": {},
   "outputs": [],
   "source": [
    "student_sorted = student_vle.groupby('id_student')"
   ]
  },
  {
   "cell_type": "code",
   "execution_count": 28,
   "id": "88c6139b-155b-4b81-92ad-c0f6fb53c972",
   "metadata": {},
   "outputs": [],
   "source": [
    "clicks = student_sorted['sum_click'].sum()"
   ]
  },
  {
   "cell_type": "code",
   "execution_count": 29,
   "id": "8bce6551-b86e-470c-a4d7-1c16f174fe27",
   "metadata": {},
   "outputs": [
    {
     "data": {
      "text/plain": [
       "id_student\n",
       "80868     28615\n",
       "630905    28264\n",
       "537811    25159\n",
       "619927    24368\n",
       "434476    21204\n",
       "          ...  \n",
       "676194        1\n",
       "102849        1\n",
       "75309         1\n",
       "639232        1\n",
       "576481        1\n",
       "Name: sum_click, Length: 26074, dtype: int64"
      ]
     },
     "execution_count": 29,
     "metadata": {},
     "output_type": "execute_result"
    }
   ],
   "source": [
    "clicks.sort_values(ascending=False)"
   ]
  },
  {
   "cell_type": "markdown",
   "id": "1cf80cbf-e3e8-4c60-8c96-3867d7e6a3d1",
   "metadata": {},
   "source": [
    "#### Student 28400"
   ]
  },
  {
   "cell_type": "code",
   "execution_count": 30,
   "id": "a9249bf9-41f9-4fdb-bfa1-ed0d3ae13627",
   "metadata": {},
   "outputs": [],
   "source": [
    "id_28400 = student_vle[student_vle['id_student']=='28400']"
   ]
  },
  {
   "cell_type": "code",
   "execution_count": 31,
   "id": "3c281076-76e1-4392-b849-ddf74fa6fcb6",
   "metadata": {},
   "outputs": [
    {
     "name": "stdout",
     "output_type": "stream",
     "text": [
      "<class 'pandas.core.frame.DataFrame'>\n",
      "Int64Index: 430 entries, 0 to 174007\n",
      "Data columns (total 6 columns):\n",
      " #   Column             Non-Null Count  Dtype \n",
      "---  ------             --------------  ----- \n",
      " 0   code_module        430 non-null    object\n",
      " 1   code_presentation  430 non-null    object\n",
      " 2   id_student         430 non-null    object\n",
      " 3   id_site            430 non-null    object\n",
      " 4   date               430 non-null    int64 \n",
      " 5   sum_click          430 non-null    int64 \n",
      "dtypes: int64(2), object(4)\n",
      "memory usage: 23.5+ KB\n"
     ]
    }
   ],
   "source": [
    "id_28400.info()"
   ]
  },
  {
   "cell_type": "code",
   "execution_count": 32,
   "id": "e82d140c-9185-4b3c-8e68-c80849b13a15",
   "metadata": {},
   "outputs": [
    {
     "data": {
      "text/plain": [
       "84"
      ]
     },
     "execution_count": 32,
     "metadata": {},
     "output_type": "execute_result"
    }
   ],
   "source": [
    "len(id_28400.id_site.unique())"
   ]
  },
  {
   "cell_type": "code",
   "execution_count": 33,
   "id": "bf8a2eb9-ff7d-4ba1-a141-f693c0a5c804",
   "metadata": {},
   "outputs": [
    {
     "data": {
      "text/plain": [
       "array(['AAA'], dtype=object)"
      ]
     },
     "execution_count": 33,
     "metadata": {},
     "output_type": "execute_result"
    }
   ],
   "source": [
    "id_28400.code_module.unique()"
   ]
  },
  {
   "cell_type": "code",
   "execution_count": 34,
   "id": "7e00f178-34d4-4a14-90f1-5762fec45d3e",
   "metadata": {},
   "outputs": [
    {
     "data": {
      "text/plain": [
       "1435"
      ]
     },
     "execution_count": 34,
     "metadata": {},
     "output_type": "execute_result"
    }
   ],
   "source": [
    "id_28400.sum_click.sum()"
   ]
  },
  {
   "cell_type": "code",
   "execution_count": 35,
   "id": "98010289-8bfa-45bc-ba15-1f6f5410d77c",
   "metadata": {},
   "outputs": [],
   "source": [
    "date_sorted = id_28400.sort_values(by=['date']).reset_index(drop=True)"
   ]
  },
  {
   "cell_type": "code",
   "execution_count": 113,
   "id": "00f5b595-2c17-46b3-9bd1-20bfe41e5109",
   "metadata": {},
   "outputs": [
    {
     "data": {
      "text/html": [
       "<div>\n",
       "<style scoped>\n",
       "    .dataframe tbody tr th:only-of-type {\n",
       "        vertical-align: middle;\n",
       "    }\n",
       "\n",
       "    .dataframe tbody tr th {\n",
       "        vertical-align: top;\n",
       "    }\n",
       "\n",
       "    .dataframe thead th {\n",
       "        text-align: right;\n",
       "    }\n",
       "</style>\n",
       "<table border=\"1\" class=\"dataframe\">\n",
       "  <thead>\n",
       "    <tr style=\"text-align: right;\">\n",
       "      <th></th>\n",
       "      <th>code_module</th>\n",
       "      <th>code_presentation</th>\n",
       "      <th>id_student</th>\n",
       "      <th>id_site</th>\n",
       "      <th>date</th>\n",
       "      <th>sum_click</th>\n",
       "    </tr>\n",
       "  </thead>\n",
       "  <tbody>\n",
       "    <tr>\n",
       "      <th>0</th>\n",
       "      <td>AAA</td>\n",
       "      <td>2013J</td>\n",
       "      <td>28400</td>\n",
       "      <td>546652</td>\n",
       "      <td>-10</td>\n",
       "      <td>4</td>\n",
       "    </tr>\n",
       "    <tr>\n",
       "      <th>1</th>\n",
       "      <td>AAA</td>\n",
       "      <td>2013J</td>\n",
       "      <td>28400</td>\n",
       "      <td>546871</td>\n",
       "      <td>-10</td>\n",
       "      <td>3</td>\n",
       "    </tr>\n",
       "    <tr>\n",
       "      <th>2</th>\n",
       "      <td>AAA</td>\n",
       "      <td>2013J</td>\n",
       "      <td>28400</td>\n",
       "      <td>547013</td>\n",
       "      <td>-10</td>\n",
       "      <td>1</td>\n",
       "    </tr>\n",
       "    <tr>\n",
       "      <th>3</th>\n",
       "      <td>AAA</td>\n",
       "      <td>2013J</td>\n",
       "      <td>28400</td>\n",
       "      <td>547011</td>\n",
       "      <td>-10</td>\n",
       "      <td>1</td>\n",
       "    </tr>\n",
       "    <tr>\n",
       "      <th>4</th>\n",
       "      <td>AAA</td>\n",
       "      <td>2013J</td>\n",
       "      <td>28400</td>\n",
       "      <td>546890</td>\n",
       "      <td>-10</td>\n",
       "      <td>1</td>\n",
       "    </tr>\n",
       "  </tbody>\n",
       "</table>\n",
       "</div>"
      ],
      "text/plain": [
       "  code_module code_presentation id_student id_site  date  sum_click\n",
       "0         AAA             2013J      28400  546652   -10          4\n",
       "1         AAA             2013J      28400  546871   -10          3\n",
       "2         AAA             2013J      28400  547013   -10          1\n",
       "3         AAA             2013J      28400  547011   -10          1\n",
       "4         AAA             2013J      28400  546890   -10          1"
      ]
     },
     "execution_count": 113,
     "metadata": {},
     "output_type": "execute_result"
    }
   ],
   "source": [
    "date_sorted.head()"
   ]
  },
  {
   "cell_type": "code",
   "execution_count": 101,
   "id": "4183ea9e-ea66-4350-b4bb-7fcabc789372",
   "metadata": {},
   "outputs": [],
   "source": [
    "date_clix = pd.DataFrame(id_28400.groupby('date')['sum_click'].sum()).reset_index()"
   ]
  },
  {
   "cell_type": "code",
   "execution_count": 109,
   "id": "c8a83f80-cb75-49a5-9477-52aa862abe38",
   "metadata": {},
   "outputs": [
    {
     "data": {
      "image/png": "[encoded data removed]",
      "text/plain": [
       "<Figure size 1152x576 with 1 Axes>"
      ]
     },
     "metadata": {},
     "output_type": "display_data"
    }
   ],
   "source": [
    "fig, ax=plt.subplots(figsize=(16,8))\n",
    "sns.scatterplot(x='date', y='sum_click', size='sum_click', data=date_clix)\n",
    "plt.title('Clicks by Date', fontsize=30)\n",
    "plt.legend(title='Total Clicks')\n",
    "plt.ylabel('Total Clicks', fontsize=20)\n",
    "plt.xlabel('Days from Start of Module', fontsize=20)\n",
    "plt.show()"
   ]
  },
  {
   "cell_type": "code",
   "execution_count": null,
   "id": "d0521706-203c-4948-b27e-646a5c95719c",
   "metadata": {},
   "outputs": [],
   "source": []
  }
 ],
 "metadata": {
  "kernelspec": {
   "display_name": "online_outcomes",
   "language": "python",
   "name": "online_outcomes"
  },
  "language_info": {
   "codemirror_mode": {
    "name": "ipython",
    "version": 3
   },
   "file_extension": ".py",
   "mimetype": "text/x-python",
   "name": "python",
   "nbconvert_exporter": "python",
   "pygments_lexer": "ipython3",
   "version": "3.9.6"
  }
 },
 "nbformat": 4,
 "nbformat_minor": 5
}
