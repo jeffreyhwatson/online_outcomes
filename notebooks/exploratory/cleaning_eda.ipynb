{
 "cells": [
  {
   "cell_type": "code",
   "execution_count": 1,
   "id": "f95872b3-9ad0-41c1-9b7b-0ece85b62532",
   "metadata": {},
   "outputs": [],
   "source": [
    "%load_ext autoreload\n",
    "%autoreload 2"
   ]
  },
  {
   "cell_type": "markdown",
   "id": "5a8ddc97-a3cd-4f5a-8bce-c1dd75661d69",
   "metadata": {},
   "source": [
    "# Online Outcomes: Predicting Success in Virtual Learning\n",
    "\n",
    "**<font size=\"4\">Author: Jeffrey Hanif Watson</font>**"
   ]
  },
  {
   "cell_type": "markdown",
   "id": "84280c5c-2358-4550-8081-335e15816b01",
   "metadata": {},
   "source": [
    "## Imports and Project Path"
   ]
  },
  {
   "cell_type": "code",
   "execution_count": 2,
   "id": "4e1c4f5f-6f66-4be9-9dba-07b3f782ee43",
   "metadata": {},
   "outputs": [],
   "source": [
    "# importing os & sys and setting project path\n",
    "import os, sys\n",
    "\n",
    "gparent = os.path.join(os.pardir, os.pardir)\n",
    "sys.path.append(gparent)\n",
    "\n",
    "# importing packages\n",
    "import glob\n",
    "import re\n",
    "import pandas as pd\n",
    "import numpy as np\n",
    "import sqlite3\n",
    "\n",
    "from src import functions as fn\n",
    "\n",
    "import matplotlib.pyplot as plt\n",
    "import seaborn as sns"
   ]
  },
  {
   "cell_type": "markdown",
   "id": "83521afb-0e99-49d2-8516-29c2ff6ef2c3",
   "metadata": {},
   "source": [
    "## dir Check"
   ]
  },
  {
   "cell_type": "code",
   "execution_count": 3,
   "id": "5d00d1cb-f89f-4b5a-9c43-0ed436768110",
   "metadata": {},
   "outputs": [
    {
     "name": "stdout",
     "output_type": "stream",
     "text": [
      "/Users/dsbox/Documents/Flatiron/phase_5/online_outcomes/notebooks/exploratory\n"
     ]
    }
   ],
   "source": [
    "!pwd"
   ]
  },
  {
   "cell_type": "markdown",
   "id": "a85d5344-39ed-45d6-a01f-f841f669e9ba",
   "metadata": {},
   "source": [
    "## SQL Database"
   ]
  },
  {
   "cell_type": "markdown",
   "id": "87da2c4b-9ca5-42b9-9464-b78f823b42dd",
   "metadata": {},
   "source": [
    "### Creating DataFrame From the Database"
   ]
  },
  {
   "cell_type": "markdown",
   "id": "dba74bc9-73bc-433b-b015-0b41554f18fe",
   "metadata": {},
   "source": [
    "Creating database, connecting, and creating a cursor object. "
   ]
  },
  {
   "cell_type": "code",
   "execution_count": 4,
   "id": "6c97e260-05ff-4108-be53-4e7cb033845d",
   "metadata": {},
   "outputs": [],
   "source": [
    "file_name = 'anonymisedData.zip'\n",
    "database_name = 'outcomes.db'\n",
    "fn.db_create(file_name, database_name)"
   ]
  },
  {
   "cell_type": "code",
   "execution_count": 5,
   "id": "04b4796e-a34e-4ce5-bc1c-ec3d45399a86",
   "metadata": {},
   "outputs": [],
   "source": [
    "# creating connection, and cursor\n",
    "data_path = os.path.join(gparent,'data/processed','outcomes.db')\n",
    "conn = sqlite3.connect(data_path)  \n",
    "cur = conn.cursor()"
   ]
  },
  {
   "cell_type": "markdown",
   "id": "ff12710e-f750-40ef-b04f-ca50399f1cc2",
   "metadata": {},
   "source": [
    "## Checking table names"
   ]
  },
  {
   "cell_type": "code",
   "execution_count": 8,
   "id": "9b987617-8f3a-40cb-97cd-d93acf1ca42d",
   "metadata": {},
   "outputs": [
    {
     "data": {
      "text/plain": [
       "[('ASSESSMENTS',),\n",
       " ('COURSES',),\n",
       " ('STUDENTASSESSMENT',),\n",
       " ('STUDENTINFO',),\n",
       " ('STUDENTREGISTRATION',),\n",
       " ('STUDENTVLE',),\n",
       " ('VLE',)]"
      ]
     },
     "execution_count": 8,
     "metadata": {},
     "output_type": "execute_result"
    }
   ],
   "source": [
    "# checking the table names\n",
    "q = \"\"\"SELECT name FROM sqlite_master \n",
    "WHERE type IN ('table','view') \n",
    "AND name NOT LIKE 'sqlite_%'\n",
    "ORDER BY 1\"\"\"\n",
    "fn.fetch(cur, q)"
   ]
  },
  {
   "cell_type": "markdown",
   "id": "fdc7cb4c-7123-40fa-b022-55789ad277b8",
   "metadata": {},
   "source": [
    "## Creating a test data frame"
   ]
  },
  {
   "cell_type": "code",
   "execution_count": 9,
   "id": "79d57bae-546e-4e52-85ee-2c94b8a65059",
   "metadata": {},
   "outputs": [],
   "source": [
    "# creating test dataframe and appending column names\n",
    "q = \"SELECT*FROM STUDENTINFO\"\n",
    "df = pd.DataFrame(fn.fetch(cur, q))\n",
    "df.columns = [i[0] for i in cur.description]"
   ]
  },
  {
   "cell_type": "code",
   "execution_count": 10,
   "id": "c5ade15e-3fd1-45fc-a26e-3fc60516987b",
   "metadata": {},
   "outputs": [
    {
     "data": {
      "text/html": [
       "<div>\n",
       "<style scoped>\n",
       "    .dataframe tbody tr th:only-of-type {\n",
       "        vertical-align: middle;\n",
       "    }\n",
       "\n",
       "    .dataframe tbody tr th {\n",
       "        vertical-align: top;\n",
       "    }\n",
       "\n",
       "    .dataframe thead th {\n",
       "        text-align: right;\n",
       "    }\n",
       "</style>\n",
       "<table border=\"1\" class=\"dataframe\">\n",
       "  <thead>\n",
       "    <tr style=\"text-align: right;\">\n",
       "      <th></th>\n",
       "      <th>code_module</th>\n",
       "      <th>code_presentation</th>\n",
       "      <th>id_student</th>\n",
       "      <th>gender</th>\n",
       "      <th>region</th>\n",
       "      <th>highest_education</th>\n",
       "      <th>imd_band</th>\n",
       "      <th>age_band</th>\n",
       "      <th>num_of_prev_attempts</th>\n",
       "      <th>studied_credits</th>\n",
       "      <th>disability</th>\n",
       "      <th>final_result</th>\n",
       "    </tr>\n",
       "  </thead>\n",
       "  <tbody>\n",
       "    <tr>\n",
       "      <th>0</th>\n",
       "      <td>AAA</td>\n",
       "      <td>2013J</td>\n",
       "      <td>11391</td>\n",
       "      <td>M</td>\n",
       "      <td>East Anglian Region</td>\n",
       "      <td>HE Qualification</td>\n",
       "      <td>90-100%</td>\n",
       "      <td>55&lt;=</td>\n",
       "      <td>0</td>\n",
       "      <td>240</td>\n",
       "      <td>N</td>\n",
       "      <td>Pass</td>\n",
       "    </tr>\n",
       "    <tr>\n",
       "      <th>1</th>\n",
       "      <td>AAA</td>\n",
       "      <td>2013J</td>\n",
       "      <td>28400</td>\n",
       "      <td>F</td>\n",
       "      <td>Scotland</td>\n",
       "      <td>HE Qualification</td>\n",
       "      <td>20-30%</td>\n",
       "      <td>35-55</td>\n",
       "      <td>0</td>\n",
       "      <td>60</td>\n",
       "      <td>N</td>\n",
       "      <td>Pass</td>\n",
       "    </tr>\n",
       "    <tr>\n",
       "      <th>2</th>\n",
       "      <td>AAA</td>\n",
       "      <td>2013J</td>\n",
       "      <td>30268</td>\n",
       "      <td>F</td>\n",
       "      <td>North Western Region</td>\n",
       "      <td>A Level or Equivalent</td>\n",
       "      <td>30-40%</td>\n",
       "      <td>35-55</td>\n",
       "      <td>0</td>\n",
       "      <td>60</td>\n",
       "      <td>Y</td>\n",
       "      <td>Withdrawn</td>\n",
       "    </tr>\n",
       "    <tr>\n",
       "      <th>3</th>\n",
       "      <td>AAA</td>\n",
       "      <td>2013J</td>\n",
       "      <td>31604</td>\n",
       "      <td>F</td>\n",
       "      <td>South East Region</td>\n",
       "      <td>A Level or Equivalent</td>\n",
       "      <td>50-60%</td>\n",
       "      <td>35-55</td>\n",
       "      <td>0</td>\n",
       "      <td>60</td>\n",
       "      <td>N</td>\n",
       "      <td>Pass</td>\n",
       "    </tr>\n",
       "    <tr>\n",
       "      <th>4</th>\n",
       "      <td>AAA</td>\n",
       "      <td>2013J</td>\n",
       "      <td>32885</td>\n",
       "      <td>F</td>\n",
       "      <td>West Midlands Region</td>\n",
       "      <td>Lower Than A Level</td>\n",
       "      <td>50-60%</td>\n",
       "      <td>0-35</td>\n",
       "      <td>0</td>\n",
       "      <td>60</td>\n",
       "      <td>N</td>\n",
       "      <td>Pass</td>\n",
       "    </tr>\n",
       "  </tbody>\n",
       "</table>\n",
       "</div>"
      ],
      "text/plain": [
       "  code_module code_presentation id_student gender                region  \\\n",
       "0         AAA             2013J      11391      M   East Anglian Region   \n",
       "1         AAA             2013J      28400      F              Scotland   \n",
       "2         AAA             2013J      30268      F  North Western Region   \n",
       "3         AAA             2013J      31604      F     South East Region   \n",
       "4         AAA             2013J      32885      F  West Midlands Region   \n",
       "\n",
       "       highest_education imd_band age_band num_of_prev_attempts  \\\n",
       "0       HE Qualification  90-100%     55<=                    0   \n",
       "1       HE Qualification   20-30%    35-55                    0   \n",
       "2  A Level or Equivalent   30-40%    35-55                    0   \n",
       "3  A Level or Equivalent   50-60%    35-55                    0   \n",
       "4     Lower Than A Level   50-60%     0-35                    0   \n",
       "\n",
       "  studied_credits disability final_result  \n",
       "0             240          N         Pass  \n",
       "1              60          N         Pass  \n",
       "2              60          Y    Withdrawn  \n",
       "3              60          N         Pass  \n",
       "4              60          N         Pass  "
      ]
     },
     "execution_count": 10,
     "metadata": {},
     "output_type": "execute_result"
    }
   ],
   "source": [
    "# checking first five rows\n",
    "df.head()"
   ]
  },
  {
   "cell_type": "code",
   "execution_count": 11,
   "id": "985d1485-e4d4-4ab1-a253-b919df346a50",
   "metadata": {},
   "outputs": [
    {
     "data": {
      "text/plain": [
       "(32593, 12)"
      ]
     },
     "execution_count": 11,
     "metadata": {},
     "output_type": "execute_result"
    }
   ],
   "source": [
    "df.shape"
   ]
  },
  {
   "cell_type": "code",
   "execution_count": 12,
   "id": "f2795d08-ce09-41b5-8362-5efc3a4433a0",
   "metadata": {},
   "outputs": [
    {
     "data": {
      "text/plain": [
       "7346"
      ]
     },
     "execution_count": 12,
     "metadata": {},
     "output_type": "execute_result"
    }
   ],
   "source": [
    "df.duplicated('id_student', keep=False).sum()"
   ]
  },
  {
   "cell_type": "code",
   "execution_count": 13,
   "id": "9991e886-d640-46cf-89f5-271cf4c3c9e2",
   "metadata": {},
   "outputs": [],
   "source": [
    "df.drop_duplicates(subset='id_student', keep='first', inplace=True)"
   ]
  },
  {
   "cell_type": "code",
   "execution_count": 14,
   "id": "ff05b58e-80b4-4ffc-be75-3330c49584d8",
   "metadata": {},
   "outputs": [
    {
     "data": {
      "text/plain": [
       "(28785, 12)"
      ]
     },
     "execution_count": 14,
     "metadata": {},
     "output_type": "execute_result"
    }
   ],
   "source": [
    "df.shape"
   ]
  },
  {
   "cell_type": "code",
   "execution_count": 15,
   "id": "e5f84d28-14e4-42bf-8445-06b2e71ee77a",
   "metadata": {},
   "outputs": [
    {
     "data": {
      "text/html": [
       "<div>\n",
       "<style scoped>\n",
       "    .dataframe tbody tr th:only-of-type {\n",
       "        vertical-align: middle;\n",
       "    }\n",
       "\n",
       "    .dataframe tbody tr th {\n",
       "        vertical-align: top;\n",
       "    }\n",
       "\n",
       "    .dataframe thead th {\n",
       "        text-align: right;\n",
       "    }\n",
       "</style>\n",
       "<table border=\"1\" class=\"dataframe\">\n",
       "  <thead>\n",
       "    <tr style=\"text-align: right;\">\n",
       "      <th></th>\n",
       "      <th>code_module</th>\n",
       "      <th>code_presentation</th>\n",
       "      <th>id_student</th>\n",
       "      <th>gender</th>\n",
       "      <th>region</th>\n",
       "      <th>highest_education</th>\n",
       "      <th>imd_band</th>\n",
       "      <th>age_band</th>\n",
       "      <th>num_of_prev_attempts</th>\n",
       "      <th>studied_credits</th>\n",
       "      <th>disability</th>\n",
       "      <th>final_result</th>\n",
       "    </tr>\n",
       "  </thead>\n",
       "  <tbody>\n",
       "    <tr>\n",
       "      <th>0</th>\n",
       "      <td>AAA</td>\n",
       "      <td>2013J</td>\n",
       "      <td>11391</td>\n",
       "      <td>M</td>\n",
       "      <td>East Anglian Region</td>\n",
       "      <td>HE Qualification</td>\n",
       "      <td>90-100%</td>\n",
       "      <td>55&lt;=</td>\n",
       "      <td>0</td>\n",
       "      <td>240</td>\n",
       "      <td>N</td>\n",
       "      <td>Pass</td>\n",
       "    </tr>\n",
       "    <tr>\n",
       "      <th>1</th>\n",
       "      <td>AAA</td>\n",
       "      <td>2013J</td>\n",
       "      <td>28400</td>\n",
       "      <td>F</td>\n",
       "      <td>Scotland</td>\n",
       "      <td>HE Qualification</td>\n",
       "      <td>20-30%</td>\n",
       "      <td>35-55</td>\n",
       "      <td>0</td>\n",
       "      <td>60</td>\n",
       "      <td>N</td>\n",
       "      <td>Pass</td>\n",
       "    </tr>\n",
       "    <tr>\n",
       "      <th>2</th>\n",
       "      <td>AAA</td>\n",
       "      <td>2013J</td>\n",
       "      <td>30268</td>\n",
       "      <td>F</td>\n",
       "      <td>North Western Region</td>\n",
       "      <td>A Level or Equivalent</td>\n",
       "      <td>30-40%</td>\n",
       "      <td>35-55</td>\n",
       "      <td>0</td>\n",
       "      <td>60</td>\n",
       "      <td>Y</td>\n",
       "      <td>Withdrawn</td>\n",
       "    </tr>\n",
       "    <tr>\n",
       "      <th>3</th>\n",
       "      <td>AAA</td>\n",
       "      <td>2013J</td>\n",
       "      <td>31604</td>\n",
       "      <td>F</td>\n",
       "      <td>South East Region</td>\n",
       "      <td>A Level or Equivalent</td>\n",
       "      <td>50-60%</td>\n",
       "      <td>35-55</td>\n",
       "      <td>0</td>\n",
       "      <td>60</td>\n",
       "      <td>N</td>\n",
       "      <td>Pass</td>\n",
       "    </tr>\n",
       "    <tr>\n",
       "      <th>4</th>\n",
       "      <td>AAA</td>\n",
       "      <td>2013J</td>\n",
       "      <td>32885</td>\n",
       "      <td>F</td>\n",
       "      <td>West Midlands Region</td>\n",
       "      <td>Lower Than A Level</td>\n",
       "      <td>50-60%</td>\n",
       "      <td>0-35</td>\n",
       "      <td>0</td>\n",
       "      <td>60</td>\n",
       "      <td>N</td>\n",
       "      <td>Pass</td>\n",
       "    </tr>\n",
       "  </tbody>\n",
       "</table>\n",
       "</div>"
      ],
      "text/plain": [
       "  code_module code_presentation id_student gender                region  \\\n",
       "0         AAA             2013J      11391      M   East Anglian Region   \n",
       "1         AAA             2013J      28400      F              Scotland   \n",
       "2         AAA             2013J      30268      F  North Western Region   \n",
       "3         AAA             2013J      31604      F     South East Region   \n",
       "4         AAA             2013J      32885      F  West Midlands Region   \n",
       "\n",
       "       highest_education imd_band age_band num_of_prev_attempts  \\\n",
       "0       HE Qualification  90-100%     55<=                    0   \n",
       "1       HE Qualification   20-30%    35-55                    0   \n",
       "2  A Level or Equivalent   30-40%    35-55                    0   \n",
       "3  A Level or Equivalent   50-60%    35-55                    0   \n",
       "4     Lower Than A Level   50-60%     0-35                    0   \n",
       "\n",
       "  studied_credits disability final_result  \n",
       "0             240          N         Pass  \n",
       "1              60          N         Pass  \n",
       "2              60          Y    Withdrawn  \n",
       "3              60          N         Pass  \n",
       "4              60          N         Pass  "
      ]
     },
     "execution_count": 15,
     "metadata": {},
     "output_type": "execute_result"
    }
   ],
   "source": [
    "df.head()"
   ]
  },
  {
   "cell_type": "code",
   "execution_count": null,
   "id": "6f7a9f77-5ae2-4bab-9bf3-5939ece978fc",
   "metadata": {},
   "outputs": [],
   "source": []
  }
 ],
 "metadata": {
  "kernelspec": {
   "display_name": "online_outcomes",
   "language": "python",
   "name": "online_outcomes"
  },
  "language_info": {
   "codemirror_mode": {
    "name": "ipython",
    "version": 3
   },
   "file_extension": ".py",
   "mimetype": "text/x-python",
   "name": "python",
   "nbconvert_exporter": "python",
   "pygments_lexer": "ipython3",
   "version": "3.9.6"
  }
 },
 "nbformat": 4,
 "nbformat_minor": 5
}
