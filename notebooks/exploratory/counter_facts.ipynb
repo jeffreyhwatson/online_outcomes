{
 "cells": [
  {
   "cell_type": "code",
   "execution_count": 1,
   "id": "ca75b9a6-9fc7-4f64-84b5-42d139ecf02f",
   "metadata": {
    "execution": {
     "iopub.execute_input": "2021-08-27T22:14:17.206484Z",
     "iopub.status.busy": "2021-08-27T22:14:17.205017Z",
     "iopub.status.idle": "2021-08-27T22:14:17.262747Z",
     "shell.execute_reply": "2021-08-27T22:14:17.261711Z",
     "shell.execute_reply.started": "2021-08-27T22:14:17.206366Z"
    },
    "tags": []
   },
   "outputs": [],
   "source": [
    "%load_ext autoreload\n",
    "%load_ext autotime\n",
    "%autoreload 2"
   ]
  },
  {
   "cell_type": "markdown",
   "id": "b46020f1-014e-4cb2-a6c8-9b242d454404",
   "metadata": {},
   "source": [
    "## Imports & Settings"
   ]
  },
  {
   "cell_type": "code",
   "execution_count": 2,
   "id": "8e3ef4d7-60ed-4987-9f18-69a6ad7f9f45",
   "metadata": {
    "execution": {
     "iopub.execute_input": "2021-08-27T22:14:17.264634Z",
     "iopub.status.busy": "2021-08-27T22:14:17.264359Z",
     "iopub.status.idle": "2021-08-27T22:14:19.282401Z",
     "shell.execute_reply": "2021-08-27T22:14:19.281978Z",
     "shell.execute_reply.started": "2021-08-27T22:14:17.264608Z"
    },
    "tags": []
   },
   "outputs": [
    {
     "name": "stdout",
     "output_type": "stream",
     "text": [
      "time: 2 s\n"
     ]
    }
   ],
   "source": [
    "import os, sys\n",
    "\n",
    "# setting project path\n",
    "gparent = os.path.join(os.pardir, os.pardir)\n",
    "sys.path.append(gparent)\n",
    "\n",
    "import pandas as pd\n",
    "import numpy as np\n",
    "import matplotlib.pyplot as plt\n",
    "import seaborn as sns\n",
    "%matplotlib inline\n",
    "\n",
    "# setting style\n",
    "sns.set_theme('talk')\n",
    "plt.style.use('fivethirtyeight')\n",
    "sns.set_palette('GnBu_r')\n",
    "pd.options.display.max_rows = 300\n",
    "\n",
    "from src import helper_functions as f\n",
    "from src import visualizations as v\n",
    "from src import class_Database as d"
   ]
  },
  {
   "cell_type": "markdown",
   "id": "13297c35-b3b6-4919-be71-367bcd523b6b",
   "metadata": {},
   "source": [
    "## Creating The Database"
   ]
  },
  {
   "cell_type": "code",
   "execution_count": 3,
   "id": "9aa215bc-181f-4c76-b06a-af64449f06cd",
   "metadata": {
    "execution": {
     "iopub.execute_input": "2021-08-27T22:14:19.283872Z",
     "iopub.status.busy": "2021-08-27T22:14:19.283505Z",
     "iopub.status.idle": "2021-08-27T22:14:19.327150Z",
     "shell.execute_reply": "2021-08-27T22:14:19.326695Z",
     "shell.execute_reply.started": "2021-08-27T22:14:19.283850Z"
    },
    "tags": []
   },
   "outputs": [
    {
     "name": "stdout",
     "output_type": "stream",
     "text": [
      "time: 1.34 ms\n"
     ]
    }
   ],
   "source": [
    "# creating database & database class instance\n",
    "database_name = 'outcomes.db'\n",
    "db = d.Database(database_name)"
   ]
  },
  {
   "cell_type": "markdown",
   "id": "6a56c23f-3c6f-4809-a784-26c68bb1f8d6",
   "metadata": {},
   "source": [
    "**Run The Cell Below Once And Then Comment Out**"
   ]
  },
  {
   "cell_type": "code",
   "execution_count": 4,
   "id": "43ae1fd0-f6c3-471d-84d4-6cb4091247b1",
   "metadata": {
    "execution": {
     "iopub.execute_input": "2021-08-27T22:14:19.329702Z",
     "iopub.status.busy": "2021-08-27T22:14:19.329471Z",
     "iopub.status.idle": "2021-08-27T22:14:19.374905Z",
     "shell.execute_reply": "2021-08-27T22:14:19.374363Z",
     "shell.execute_reply.started": "2021-08-27T22:14:19.329683Z"
    },
    "tags": []
   },
   "outputs": [
    {
     "name": "stdout",
     "output_type": "stream",
     "text": [
      "time: 976 µs\n"
     ]
    }
   ],
   "source": [
    "# file_name = 'anonymisedData.zip'\n",
    "# db.populate(file_name, database_name)"
   ]
  },
  {
   "cell_type": "markdown",
   "id": "25237885-2459-4114-bd7f-2721e811226b",
   "metadata": {},
   "source": [
    "## Half Term Data"
   ]
  },
  {
   "cell_type": "code",
   "execution_count": 5,
   "id": "ce373dc4-7cff-4893-a386-c1e1d33f0b7b",
   "metadata": {
    "execution": {
     "iopub.execute_input": "2021-08-27T22:14:19.376394Z",
     "iopub.status.busy": "2021-08-27T22:14:19.376158Z",
     "iopub.status.idle": "2021-08-27T22:14:29.786900Z",
     "shell.execute_reply": "2021-08-27T22:14:29.786339Z",
     "shell.execute_reply.started": "2021-08-27T22:14:19.376373Z"
    },
    "tags": []
   },
   "outputs": [
    {
     "name": "stdout",
     "output_type": "stream",
     "text": [
      "time: 10.4 s\n"
     ]
    }
   ],
   "source": [
    "# creating dataframe\n",
    "df = db.data_prep_half(120)\n",
    "\n",
    "# cleaning data frame\n",
    "drops = ['row_id', 'studied_credits',\n",
    "         'id_site', 'sum_click', 'date_sub', 'date',\n",
    "         'score','course_length', 'date_registration',\n",
    "         'date_unregistration', 'max_date', 'activity_level']\n",
    "\n",
    "df = db.pipe_cleaner_wa(df, drops).reset_index(drop=True)"
   ]
  },
  {
   "cell_type": "code",
   "execution_count": 6,
   "id": "5c08b850-1aad-499c-92c1-25d238485345",
   "metadata": {
    "execution": {
     "iopub.execute_input": "2021-08-27T22:14:29.788421Z",
     "iopub.status.busy": "2021-08-27T22:14:29.788066Z",
     "iopub.status.idle": "2021-08-27T22:14:29.833449Z",
     "shell.execute_reply": "2021-08-27T22:14:29.832931Z",
     "shell.execute_reply.started": "2021-08-27T22:14:29.788400Z"
    }
   },
   "outputs": [
    {
     "name": "stdout",
     "output_type": "stream",
     "text": [
      "time: 1.94 ms\n"
     ]
    }
   ],
   "source": [
    "# saving columns as series for use in error data frame\n",
    "final_result = df['final_result'].copy()\n",
    "code_module = df['code_module'].copy()\n",
    "code_presentation = df['code_presentation'].copy()"
   ]
  },
  {
   "cell_type": "code",
   "execution_count": 7,
   "id": "3460ffef-05f5-4d13-a830-f5997efefb8e",
   "metadata": {
    "execution": {
     "iopub.execute_input": "2021-08-27T22:14:29.834712Z",
     "iopub.status.busy": "2021-08-27T22:14:29.834503Z",
     "iopub.status.idle": "2021-08-27T22:14:29.882373Z",
     "shell.execute_reply": "2021-08-27T22:14:29.881768Z",
     "shell.execute_reply.started": "2021-08-27T22:14:29.834692Z"
    },
    "tags": []
   },
   "outputs": [
    {
     "name": "stdout",
     "output_type": "stream",
     "text": [
      "time: 4.7 ms\n"
     ]
    }
   ],
   "source": [
    "# dropping columns\n",
    "df = df.drop(['final_result', 'code_presentation',\n",
    "              'code_module', 'id_student'], axis=1)"
   ]
  },
  {
   "cell_type": "markdown",
   "id": "5aa0c510-4aba-4292-a3d6-62613439a4e1",
   "metadata": {
    "execution": {
     "iopub.execute_input": "2021-08-02T05:58:12.326167Z",
     "iopub.status.busy": "2021-08-02T05:58:12.325283Z",
     "iopub.status.idle": "2021-08-02T05:58:12.485929Z",
     "shell.execute_reply": "2021-08-02T05:58:12.484654Z",
     "shell.execute_reply.started": "2021-08-02T05:58:12.326095Z"
    },
    "tags": []
   },
   "source": [
    "## Splitting The Data"
   ]
  },
  {
   "cell_type": "code",
   "execution_count": 8,
   "id": "0efa1049-98cf-4a4c-b876-e3ccce2c15f1",
   "metadata": {
    "execution": {
     "iopub.execute_input": "2021-08-27T22:14:29.883499Z",
     "iopub.status.busy": "2021-08-27T22:14:29.883308Z",
     "iopub.status.idle": "2021-08-27T22:14:29.932100Z",
     "shell.execute_reply": "2021-08-27T22:14:29.931332Z",
     "shell.execute_reply.started": "2021-08-27T22:14:29.883480Z"
    },
    "tags": []
   },
   "outputs": [
    {
     "name": "stdout",
     "output_type": "stream",
     "text": [
      "time: 4.08 ms\n"
     ]
    }
   ],
   "source": [
    "# splitting data & target\n",
    "X, y = f.X_y(df)"
   ]
  },
  {
   "cell_type": "code",
   "execution_count": 9,
   "id": "39bbd670-3026-496f-8b3f-10b9427acea9",
   "metadata": {
    "execution": {
     "iopub.execute_input": "2021-08-27T22:14:29.933644Z",
     "iopub.status.busy": "2021-08-27T22:14:29.933383Z",
     "iopub.status.idle": "2021-08-27T22:14:29.992045Z",
     "shell.execute_reply": "2021-08-27T22:14:29.990575Z",
     "shell.execute_reply.started": "2021-08-27T22:14:29.933613Z"
    },
    "tags": []
   },
   "outputs": [
    {
     "name": "stdout",
     "output_type": "stream",
     "text": [
      "time: 14 ms\n"
     ]
    }
   ],
   "source": [
    "# splitting training and holdout data\n",
    "X_training, X_holdout, y_training, y_holdout = f.test_train(X, y)"
   ]
  },
  {
   "cell_type": "markdown",
   "id": "780459ab-4fe2-45db-8e8f-7337d1654909",
   "metadata": {},
   "source": [
    "## Loading Model"
   ]
  },
  {
   "cell_type": "code",
   "execution_count": 16,
   "id": "7b714760-f135-405b-a7c1-8024bde8c200",
   "metadata": {
    "execution": {
     "iopub.execute_input": "2021-08-27T22:16:50.048373Z",
     "iopub.status.busy": "2021-08-27T22:16:50.047749Z",
     "iopub.status.idle": "2021-08-27T22:16:50.292317Z",
     "shell.execute_reply": "2021-08-27T22:16:50.291875Z",
     "shell.execute_reply.started": "2021-08-27T22:16:50.048294Z"
    },
    "tags": []
   },
   "outputs": [
    {
     "name": "stdout",
     "output_type": "stream",
     "text": [
      "time: 177 ms\n"
     ]
    }
   ],
   "source": [
    "model = f.load_model('final')"
   ]
  },
  {
   "cell_type": "markdown",
   "id": "55147342-753b-457d-949c-9b1c8c430b7f",
   "metadata": {},
   "source": [
    "## Counter Factual Data Frame"
   ]
  },
  {
   "cell_type": "code",
   "execution_count": 30,
   "id": "9d4426c1-b512-4dea-b854-4d92aab9f4b4",
   "metadata": {
    "execution": {
     "iopub.execute_input": "2021-08-27T22:23:31.228688Z",
     "iopub.status.busy": "2021-08-27T22:23:31.228304Z",
     "iopub.status.idle": "2021-08-27T22:23:31.277698Z",
     "shell.execute_reply": "2021-08-27T22:23:31.276553Z",
     "shell.execute_reply.started": "2021-08-27T22:23:31.228656Z"
    },
    "tags": []
   },
   "outputs": [
    {
     "name": "stdout",
     "output_type": "stream",
     "text": [
      "time: 3.78 ms\n"
     ]
    }
   ],
   "source": [
    "cf_df = X_holdout.copy()"
   ]
  },
  {
   "cell_type": "code",
   "execution_count": 31,
   "id": "7b311e6a-5faf-4334-bd5e-7bd408b687fb",
   "metadata": {
    "execution": {
     "iopub.execute_input": "2021-08-27T22:23:31.668899Z",
     "iopub.status.busy": "2021-08-27T22:23:31.668517Z",
     "iopub.status.idle": "2021-08-27T22:23:31.731962Z",
     "shell.execute_reply": "2021-08-27T22:23:31.731184Z",
     "shell.execute_reply.started": "2021-08-27T22:23:31.668848Z"
    },
    "tags": []
   },
   "outputs": [
    {
     "name": "stdout",
     "output_type": "stream",
     "text": [
      "time: 1.4 ms\n"
     ]
    }
   ],
   "source": [
    "cf_df['target'] = y_holdout"
   ]
  },
  {
   "cell_type": "code",
   "execution_count": 32,
   "id": "258611ac-129d-4cd2-a12e-6c623b1793be",
   "metadata": {
    "execution": {
     "iopub.execute_input": "2021-08-27T22:23:32.077926Z",
     "iopub.status.busy": "2021-08-27T22:23:32.077440Z",
     "iopub.status.idle": "2021-08-27T22:23:32.197174Z",
     "shell.execute_reply": "2021-08-27T22:23:32.196453Z",
     "shell.execute_reply.started": "2021-08-27T22:23:32.077879Z"
    },
    "tags": []
   },
   "outputs": [
    {
     "name": "stdout",
     "output_type": "stream",
     "text": [
      "time: 53.1 ms\n"
     ]
    }
   ],
   "source": [
    "cf_df['prediction'] =  model.predict(X_holdout)"
   ]
  },
  {
   "cell_type": "code",
   "execution_count": 40,
   "id": "9ee31cca-2c75-42b6-9ecb-d0db6be79cd5",
   "metadata": {
    "execution": {
     "iopub.execute_input": "2021-08-27T22:24:59.405177Z",
     "iopub.status.busy": "2021-08-27T22:24:59.404772Z",
     "iopub.status.idle": "2021-08-27T22:24:59.470403Z",
     "shell.execute_reply": "2021-08-27T22:24:59.469650Z",
     "shell.execute_reply.started": "2021-08-27T22:24:59.405143Z"
    },
    "tags": []
   },
   "outputs": [
    {
     "name": "stdout",
     "output_type": "stream",
     "text": [
      "time: 1.27 ms\n"
     ]
    }
   ],
   "source": [
    "cf_df['lable_error'] = np.where(cf_df.target != cf_df.prediction, 1, 0)"
   ]
  },
  {
   "cell_type": "code",
   "execution_count": 41,
   "id": "7b5b96f3-bc35-4b30-9846-a311534d41e7",
   "metadata": {
    "execution": {
     "iopub.execute_input": "2021-08-27T22:24:59.930412Z",
     "iopub.status.busy": "2021-08-27T22:24:59.929913Z",
     "iopub.status.idle": "2021-08-27T22:25:00.007537Z",
     "shell.execute_reply": "2021-08-27T22:25:00.006487Z",
     "shell.execute_reply.started": "2021-08-27T22:24:59.930367Z"
    },
    "tags": []
   },
   "outputs": [
    {
     "data": {
      "text/html": [
       "<div>\n",
       "<style scoped>\n",
       "    .dataframe tbody tr th:only-of-type {\n",
       "        vertical-align: middle;\n",
       "    }\n",
       "\n",
       "    .dataframe tbody tr th {\n",
       "        vertical-align: top;\n",
       "    }\n",
       "\n",
       "    .dataframe thead th {\n",
       "        text-align: right;\n",
       "    }\n",
       "</style>\n",
       "<table border=\"1\" class=\"dataframe\">\n",
       "  <thead>\n",
       "    <tr style=\"text-align: right;\">\n",
       "      <th></th>\n",
       "      <th>gender</th>\n",
       "      <th>region</th>\n",
       "      <th>highest_education</th>\n",
       "      <th>imd_band</th>\n",
       "      <th>age_band</th>\n",
       "      <th>num_of_prev_attempts</th>\n",
       "      <th>disability</th>\n",
       "      <th>weighted_ave</th>\n",
       "      <th>mean_score</th>\n",
       "      <th>median_score</th>\n",
       "      <th>sum_activity</th>\n",
       "      <th>course_load</th>\n",
       "      <th>target</th>\n",
       "      <th>prediction</th>\n",
       "      <th>lable_error</th>\n",
       "    </tr>\n",
       "  </thead>\n",
       "  <tbody>\n",
       "    <tr>\n",
       "      <th>8717</th>\n",
       "      <td>Male</td>\n",
       "      <td>North Western Region</td>\n",
       "      <td>HE Qualification</td>\n",
       "      <td>80-90%</td>\n",
       "      <td>35-55</td>\n",
       "      <td>0.0</td>\n",
       "      <td>No</td>\n",
       "      <td>194.0</td>\n",
       "      <td>81.750000</td>\n",
       "      <td>81.0</td>\n",
       "      <td>1269.0</td>\n",
       "      <td>Light</td>\n",
       "      <td>0.0</td>\n",
       "      <td>0.0</td>\n",
       "      <td>0</td>\n",
       "    </tr>\n",
       "    <tr>\n",
       "      <th>9831</th>\n",
       "      <td>Male</td>\n",
       "      <td>East Anglian Region</td>\n",
       "      <td>Lower Than A Level</td>\n",
       "      <td>60-70%</td>\n",
       "      <td>35-55</td>\n",
       "      <td>0.0</td>\n",
       "      <td>Yes</td>\n",
       "      <td>131.4</td>\n",
       "      <td>82.666667</td>\n",
       "      <td>82.0</td>\n",
       "      <td>1481.0</td>\n",
       "      <td>Light</td>\n",
       "      <td>1.0</td>\n",
       "      <td>0.0</td>\n",
       "      <td>1</td>\n",
       "    </tr>\n",
       "    <tr>\n",
       "      <th>500</th>\n",
       "      <td>Male</td>\n",
       "      <td>South East Region</td>\n",
       "      <td>Lower Than A Level</td>\n",
       "      <td>40-50%</td>\n",
       "      <td>35-55</td>\n",
       "      <td>0.0</td>\n",
       "      <td>No</td>\n",
       "      <td>62.0</td>\n",
       "      <td>61.333333</td>\n",
       "      <td>63.0</td>\n",
       "      <td>2144.0</td>\n",
       "      <td>Light</td>\n",
       "      <td>0.0</td>\n",
       "      <td>1.0</td>\n",
       "      <td>1</td>\n",
       "    </tr>\n",
       "    <tr>\n",
       "      <th>15312</th>\n",
       "      <td>Male</td>\n",
       "      <td>Yorkshire Region</td>\n",
       "      <td>A Level or Equivalent</td>\n",
       "      <td>40-50%</td>\n",
       "      <td>0-35</td>\n",
       "      <td>0.0</td>\n",
       "      <td>Yes</td>\n",
       "      <td>166.0</td>\n",
       "      <td>71.500000</td>\n",
       "      <td>78.5</td>\n",
       "      <td>2204.0</td>\n",
       "      <td>Heavy</td>\n",
       "      <td>0.0</td>\n",
       "      <td>0.0</td>\n",
       "      <td>0</td>\n",
       "    </tr>\n",
       "    <tr>\n",
       "      <th>17799</th>\n",
       "      <td>Male</td>\n",
       "      <td>North Western Region</td>\n",
       "      <td>Lower Than A Level</td>\n",
       "      <td>10-20%</td>\n",
       "      <td>35-55</td>\n",
       "      <td>0.0</td>\n",
       "      <td>Yes</td>\n",
       "      <td>0.0</td>\n",
       "      <td>87.500000</td>\n",
       "      <td>87.5</td>\n",
       "      <td>834.0</td>\n",
       "      <td>Medium</td>\n",
       "      <td>1.0</td>\n",
       "      <td>0.0</td>\n",
       "      <td>1</td>\n",
       "    </tr>\n",
       "  </tbody>\n",
       "</table>\n",
       "</div>"
      ],
      "text/plain": [
       "      gender                region      highest_education imd_band age_band  \\\n",
       "8717    Male  North Western Region       HE Qualification   80-90%    35-55   \n",
       "9831    Male   East Anglian Region     Lower Than A Level   60-70%    35-55   \n",
       "500     Male     South East Region     Lower Than A Level   40-50%    35-55   \n",
       "15312   Male      Yorkshire Region  A Level or Equivalent   40-50%     0-35   \n",
       "17799   Male  North Western Region     Lower Than A Level   10-20%    35-55   \n",
       "\n",
       "       num_of_prev_attempts disability  weighted_ave  mean_score  \\\n",
       "8717                    0.0         No         194.0   81.750000   \n",
       "9831                    0.0        Yes         131.4   82.666667   \n",
       "500                     0.0         No          62.0   61.333333   \n",
       "15312                   0.0        Yes         166.0   71.500000   \n",
       "17799                   0.0        Yes           0.0   87.500000   \n",
       "\n",
       "       median_score  sum_activity course_load  target  prediction  lable_error  \n",
       "8717           81.0        1269.0       Light     0.0         0.0            0  \n",
       "9831           82.0        1481.0       Light     1.0         0.0            1  \n",
       "500            63.0        2144.0       Light     0.0         1.0            1  \n",
       "15312          78.5        2204.0       Heavy     0.0         0.0            0  \n",
       "17799          87.5         834.0      Medium     1.0         0.0            1  "
      ]
     },
     "execution_count": 41,
     "metadata": {},
     "output_type": "execute_result"
    },
    {
     "name": "stdout",
     "output_type": "stream",
     "text": [
      "time: 13.2 ms\n"
     ]
    }
   ],
   "source": [
    "cf_df.head()"
   ]
  },
  {
   "cell_type": "code",
   "execution_count": 46,
   "id": "09825417-525a-4e2e-832d-252896176f57",
   "metadata": {
    "execution": {
     "iopub.execute_input": "2021-08-27T22:30:21.111775Z",
     "iopub.status.busy": "2021-08-27T22:30:21.111427Z",
     "iopub.status.idle": "2021-08-27T22:30:21.160975Z",
     "shell.execute_reply": "2021-08-27T22:30:21.160374Z",
     "shell.execute_reply.started": "2021-08-27T22:30:21.111744Z"
    },
    "tags": []
   },
   "outputs": [
    {
     "data": {
      "text/plain": [
       "0    0.759712\n",
       "1    0.240288\n",
       "Name: lable_error, dtype: float64"
      ]
     },
     "execution_count": 46,
     "metadata": {},
     "output_type": "execute_result"
    },
    {
     "name": "stdout",
     "output_type": "stream",
     "text": [
      "time: 3.51 ms\n"
     ]
    }
   ],
   "source": [
    "errors = cf_df.lable_error.value_counts(normalize=True)"
   ]
  },
  {
   "cell_type": "code",
   "execution_count": 44,
   "id": "c894edf3-0585-4e25-9571-fd376369af12",
   "metadata": {
    "execution": {
     "iopub.execute_input": "2021-08-27T22:27:40.046707Z",
     "iopub.status.busy": "2021-08-27T22:27:40.046308Z",
     "iopub.status.idle": "2021-08-27T22:28:42.896595Z",
     "shell.execute_reply": "2021-08-27T22:28:42.895830Z",
     "shell.execute_reply.started": "2021-08-27T22:27:40.046664Z"
    },
    "tags": []
   },
   "outputs": [
    {
     "data": {
      "text/plain": [
       "<AxesSubplot:xlabel='sum_activity', ylabel='lable_error'>"
      ]
     },
     "execution_count": 44,
     "metadata": {},
     "output_type": "execute_result"
    },
    {
     "data": {
      "image/png": "[encoded data removed]",
      "text/plain": [
       "<Figure size 432x288 with 1 Axes>"
      ]
     },
     "metadata": {},
     "output_type": "display_data"
    },
    {
     "name": "stdout",
     "output_type": "stream",
     "text": [
      "time: 1min 2s\n"
     ]
    }
   ],
   "source": [
    "fig, ax = plt.subplots()\n",
    "sns.barplot(data=errors, x='sum_activity', y='lable_error')"
   ]
  },
  {
   "cell_type": "code",
   "execution_count": null,
   "id": "1a8e9073-e2c2-40fe-b987-5a786353dce3",
   "metadata": {},
   "outputs": [],
   "source": []
  }
 ],
 "metadata": {
  "kernelspec": {
   "display_name": "oo",
   "language": "python",
   "name": "oo"
  },
  "language_info": {
   "codemirror_mode": {
    "name": "ipython",
    "version": 3
   },
   "file_extension": ".py",
   "mimetype": "text/x-python",
   "name": "python",
   "nbconvert_exporter": "python",
   "pygments_lexer": "ipython3",
   "version": "3.9.6"
  }
 },
 "nbformat": 4,
 "nbformat_minor": 5
}
