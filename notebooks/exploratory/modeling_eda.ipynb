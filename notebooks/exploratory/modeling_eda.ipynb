{
 "cells": [
  {
   "cell_type": "code",
   "execution_count": 1,
   "id": "100702f9-859c-46d0-90be-af83425b822a",
   "metadata": {},
   "outputs": [],
   "source": [
    "%load_ext autoreload\n",
    "%autoreload 2"
   ]
  },
  {
   "cell_type": "markdown",
   "id": "a21fe3d9-f0e2-4d2f-8610-ebe980043c76",
   "metadata": {},
   "source": [
    "# Online Outcomes: Predicting Success in Virtual Learning\n",
    "\n",
    "**<font size=\"4\">Author: Jeffrey Hanif Watson</font>**"
   ]
  },
  {
   "cell_type": "markdown",
   "id": "f822a816-a68b-47c1-92cd-77e525dd836a",
   "metadata": {},
   "source": [
    "## Imports and Project Path"
   ]
  },
  {
   "cell_type": "code",
   "execution_count": 2,
   "id": "c24b0275-401e-44e0-8cb0-c654b816b29e",
   "metadata": {},
   "outputs": [],
   "source": [
    "# setting project path\n",
    "\n",
    "import os, sys\n",
    "\n",
    "gparent = os.path.join(os.pardir, os.pardir)\n",
    "sys.path.append(gparent)\n",
    "\n",
    "# importing packages\n",
    "import pandas as pd\n",
    "import numpy as np\n",
    "import sqlite3\n",
    "\n",
    "from src import functions as fn\n",
    "\n",
    "import matplotlib.pyplot as plt\n",
    "import seaborn as sns"
   ]
  },
  {
   "cell_type": "markdown",
   "id": "abfcfe7a-0e64-4e8f-8cec-367d76848716",
   "metadata": {},
   "source": [
    "## dir Check"
   ]
  },
  {
   "cell_type": "code",
   "execution_count": 3,
   "id": "b21669bd-2f10-4ebc-8d27-60c5a2a27632",
   "metadata": {},
   "outputs": [
    {
     "name": "stdout",
     "output_type": "stream",
     "text": [
      "/Users/dsbox/Documents/Flatiron/phase_5/online_outcomes/notebooks/exploratory\n"
     ]
    }
   ],
   "source": [
    "!pwd"
   ]
  },
  {
   "cell_type": "code",
   "execution_count": null,
   "id": "87e92df8-79c2-4d35-861e-3089bcc64f15",
   "metadata": {},
   "outputs": [],
   "source": []
  }
 ],
 "metadata": {
  "kernelspec": {
   "display_name": "online_outcomes",
   "language": "python",
   "name": "online_outcomes"
  },
  "language_info": {
   "codemirror_mode": {
    "name": "ipython",
    "version": 3
   },
   "file_extension": ".py",
   "mimetype": "text/x-python",
   "name": "python",
   "nbconvert_exporter": "python",
   "pygments_lexer": "ipython3",
   "version": "3.9.6"
  }
 },
 "nbformat": 4,
 "nbformat_minor": 5
}
