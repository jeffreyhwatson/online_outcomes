{
 "cells": [
  {
   "cell_type": "code",
   "execution_count": 1,
   "id": "d2febd79-41c2-4c76-8f99-081e8522351e",
   "metadata": {
    "execution": {
     "iopub.execute_input": "2021-08-27T23:25:49.962307Z",
     "iopub.status.busy": "2021-08-27T23:25:49.961684Z",
     "iopub.status.idle": "2021-08-27T23:25:50.023843Z",
     "shell.execute_reply": "2021-08-27T23:25:50.023042Z",
     "shell.execute_reply.started": "2021-08-27T23:25:49.962196Z"
    },
    "tags": []
   },
   "outputs": [],
   "source": [
    "%load_ext autoreload\n",
    "%load_ext autotime\n",
    "%autoreload 2"
   ]
  },
  {
   "cell_type": "markdown",
   "id": "575d2f7d-134e-4f65-b144-bc6384d76cca",
   "metadata": {
    "tags": []
   },
   "source": [
    "## Imports and Project Path"
   ]
  },
  {
   "cell_type": "code",
   "execution_count": 2,
   "id": "66f3ef85-40f6-459b-bc25-52b6c389e82c",
   "metadata": {
    "execution": {
     "iopub.execute_input": "2021-08-27T23:25:50.025345Z",
     "iopub.status.busy": "2021-08-27T23:25:50.024834Z",
     "iopub.status.idle": "2021-08-27T23:25:54.961145Z",
     "shell.execute_reply": "2021-08-27T23:25:54.960328Z",
     "shell.execute_reply.started": "2021-08-27T23:25:50.025304Z"
    },
    "tags": []
   },
   "outputs": [
    {
     "name": "stdout",
     "output_type": "stream",
     "text": [
      "time: 4.91 s\n"
     ]
    }
   ],
   "source": [
    "# setting project path\n",
    "import os, sys, warnings\n",
    "\n",
    "gparent = os.path.join(os.pardir, os.pardir)\n",
    "sys.path.append(gparent)\n",
    "\n",
    "# importing packages\n",
    "import os, sys\n",
    "import pandas as pd\n",
    "import numpy as np\n",
    "import scipy.stats as stats\n",
    "import statsmodels.api as sm\n",
    "\n",
    "from src import class_Database as d\n",
    "from src import helper_functions as f\n",
    "from src import visualizations as v\n",
    "from src import class_Harness as h\n",
    "\n",
    "import matplotlib.pyplot as plt\n",
    "import seaborn as sns\n",
    "%matplotlib inline\n",
    "\n",
    "sns.set_theme('talk')\n",
    "plt.style.use('fivethirtyeight')\n",
    "sns.set_palette('GnBu_r')\n",
    "pd.options.display.max_rows = 300"
   ]
  },
  {
   "cell_type": "markdown",
   "id": "9e287a0c-e4bf-4a89-a170-ef62e0c075e9",
   "metadata": {
    "tags": []
   },
   "source": [
    "## Creating The Database\n",
    "A [Database](./src/class_Database.py) class was constructed to interface with the database."
   ]
  },
  {
   "cell_type": "code",
   "execution_count": 3,
   "id": "d7a81e78-fc5c-44e1-82a1-c3cb2b836be3",
   "metadata": {
    "execution": {
     "iopub.execute_input": "2021-08-27T23:25:54.962841Z",
     "iopub.status.busy": "2021-08-27T23:25:54.962551Z",
     "iopub.status.idle": "2021-08-27T23:25:55.023205Z",
     "shell.execute_reply": "2021-08-27T23:25:55.022644Z",
     "shell.execute_reply.started": "2021-08-27T23:25:54.962820Z"
    },
    "tags": []
   },
   "outputs": [
    {
     "name": "stdout",
     "output_type": "stream",
     "text": [
      "time: 6.42 ms\n"
     ]
    }
   ],
   "source": [
    "# creating database & database class instance\n",
    "database_name = 'outcomes.db'\n",
    "db = d.Database(database_name)"
   ]
  },
  {
   "cell_type": "markdown",
   "id": "d43b1d21-df6a-4974-b923-fd78fff0414e",
   "metadata": {},
   "source": [
    "**Run the cell below once to populate the database. After the database is populated, the cell can be commented out.**"
   ]
  },
  {
   "cell_type": "code",
   "execution_count": 4,
   "id": "0a644257-e680-4aa7-a317-5767f8d0072e",
   "metadata": {
    "execution": {
     "iopub.execute_input": "2021-08-27T23:25:55.027034Z",
     "iopub.status.busy": "2021-08-27T23:25:55.026509Z",
     "iopub.status.idle": "2021-08-27T23:25:55.085696Z",
     "shell.execute_reply": "2021-08-27T23:25:55.084251Z",
     "shell.execute_reply.started": "2021-08-27T23:25:55.026964Z"
    },
    "tags": []
   },
   "outputs": [
    {
     "name": "stdout",
     "output_type": "stream",
     "text": [
      "time: 558 µs\n"
     ]
    }
   ],
   "source": [
    "# file_name = 'anonymisedData.zip'\n",
    "# db.populate(file_name, database_name)"
   ]
  },
  {
   "cell_type": "markdown",
   "id": "853d8190-79d3-4555-9cf4-f6857d855748",
   "metadata": {
    "tags": []
   },
   "source": [
    "## Modeling Harness Objects"
   ]
  },
  {
   "cell_type": "code",
   "execution_count": 5,
   "id": "174b608d-113c-4834-97ba-7112d0cd52fc",
   "metadata": {
    "execution": {
     "iopub.execute_input": "2021-08-27T23:25:55.087075Z",
     "iopub.status.busy": "2021-08-27T23:25:55.086886Z",
     "iopub.status.idle": "2021-08-27T23:25:55.153441Z",
     "shell.execute_reply": "2021-08-27T23:25:55.152367Z",
     "shell.execute_reply.started": "2021-08-27T23:25:55.087053Z"
    },
    "tags": []
   },
   "outputs": [
    {
     "name": "stdout",
     "output_type": "stream",
     "text": [
      "time: 3.61 ms\n"
     ]
    }
   ],
   "source": [
    "# creating accuracy scorer\n",
    "accuracy = f.acc_score\n",
    "\n",
    "# creating f1 scorer\n",
    "f1 = f.f1\n",
    "\n",
    "# creating recall scorer \n",
    "recall = f.recall\n",
    "\n",
    "# creating precision scorer\n",
    "precision = f.precision\n",
    "\n",
    "# creating Harness\n",
    "modeling = h.Harness(('accuracy', 'f1', 'recall', 'precision'))"
   ]
  },
  {
   "cell_type": "markdown",
   "id": "3e12a6ca-89e3-4886-a1ad-eb065cceb4c6",
   "metadata": {
    "tags": []
   },
   "source": [
    "## EDA & Recommendations Data"
   ]
  },
  {
   "cell_type": "code",
   "execution_count": 6,
   "id": "4fdb574f-e92c-4431-b3d3-1f3d6dea09e9",
   "metadata": {
    "execution": {
     "iopub.execute_input": "2021-08-27T23:25:55.154937Z",
     "iopub.status.busy": "2021-08-27T23:25:55.154746Z",
     "iopub.status.idle": "2021-08-27T23:26:13.299542Z",
     "shell.execute_reply": "2021-08-27T23:26:13.298973Z",
     "shell.execute_reply.started": "2021-08-27T23:25:55.154915Z"
    },
    "tags": []
   },
   "outputs": [
    {
     "name": "stdout",
     "output_type": "stream",
     "text": [
      "time: 18.1 s\n"
     ]
    }
   ],
   "source": [
    "# creating the student_info data frame\n",
    "student_info = db.student_info_full()\n",
    "\n",
    "# cleaning the data\n",
    "student_info = db.cleaner_studentinfo(student_info,[])\n",
    "\n",
    "# creating assessment_vle data frame\n",
    "assessment_vle = db.data_prep_full()\n",
    "\n",
    "# cleaning the data and engineering features\n",
    "drops = ['row_id', 'studied_credits',\n",
    "         'id_site', 'sum_click', 'date_sub', 'date',\n",
    "         'course_length', 'max_date']\n",
    "assessment_vle = db.pipe_cleaner_wa(assessment_vle, drops).reset_index(drop=True)"
   ]
  },
  {
   "cell_type": "markdown",
   "id": "b985e113-0730-4da4-9ec7-6d6b2fabab85",
   "metadata": {
    "tags": []
   },
   "source": [
    "## Modeling Data"
   ]
  },
  {
   "cell_type": "code",
   "execution_count": 7,
   "id": "2494f3a9-8517-49c0-9587-4db31e98983d",
   "metadata": {
    "execution": {
     "iopub.execute_input": "2021-08-27T23:26:13.301008Z",
     "iopub.status.busy": "2021-08-27T23:26:13.300742Z",
     "iopub.status.idle": "2021-08-27T23:26:25.926802Z",
     "shell.execute_reply": "2021-08-27T23:26:25.926209Z",
     "shell.execute_reply.started": "2021-08-27T23:26:13.300987Z"
    },
    "tags": []
   },
   "outputs": [
    {
     "name": "stdout",
     "output_type": "stream",
     "text": [
      "time: 12.6 s\n"
     ]
    }
   ],
   "source": [
    "# creating the modeling data frame\n",
    "df = db.data_prep_half(120)\n",
    "\n",
    "# cleaning the data\n",
    "drops = ['row_id', 'studied_credits', 'final_result',\n",
    "         'id_site', 'sum_click', 'date_sub', 'date',\n",
    "         'score','course_length', 'date_registration',\n",
    "         'date_unregistration', 'max_date', 'code_module',\n",
    "         'code_presentation', 'id_student', 'activity_level']\n",
    "df = db.pipe_cleaner_wa(df, drops).reset_index(drop=True)\n",
    "\n",
    "# splitting data & target\n",
    "X, y = f.X_y(df)\n",
    "\n",
    "# splitting training and holdout data\n",
    "X_training, X_holdout, y_training, y_holdout = f.test_train(X, y)\n",
    "\n",
    "# train test split\n",
    "X_train, X_test, y_train, y_test = f.test_train(X_training, y_training)"
   ]
  },
  {
   "cell_type": "markdown",
   "id": "2d69c40d-d169-4a4e-a673-2330322ec2d8",
   "metadata": {
    "execution": {
     "iopub.execute_input": "2021-08-23T21:27:01.981510Z",
     "iopub.status.busy": "2021-08-23T21:27:01.981112Z",
     "iopub.status.idle": "2021-08-23T21:27:02.042369Z",
     "shell.execute_reply": "2021-08-23T21:27:02.041704Z",
     "shell.execute_reply.started": "2021-08-23T21:27:01.981470Z"
    },
    "tags": []
   },
   "source": [
    "## Error Analysis Data"
   ]
  },
  {
   "cell_type": "code",
   "execution_count": 8,
   "id": "6176d2c5-ec1e-4741-99be-edc3f86570ec",
   "metadata": {
    "execution": {
     "iopub.execute_input": "2021-08-27T23:26:25.928123Z",
     "iopub.status.busy": "2021-08-27T23:26:25.927900Z",
     "iopub.status.idle": "2021-08-27T23:26:39.334160Z",
     "shell.execute_reply": "2021-08-27T23:26:39.333224Z",
     "shell.execute_reply.started": "2021-08-27T23:26:25.928101Z"
    },
    "tags": []
   },
   "outputs": [
    {
     "name": "stdout",
     "output_type": "stream",
     "text": [
      "time: 13.3 s\n"
     ]
    }
   ],
   "source": [
    "# creating error analysis dataframe\n",
    "dfe = db.data_prep_half(120)\n",
    "\n",
    "# cleaning data frame\n",
    "drops = ['row_id', 'studied_credits',\n",
    "         'id_site', 'sum_click', 'date_sub', 'date',\n",
    "         'score','course_length', 'date_registration',\n",
    "         'date_unregistration', 'max_date', 'activity_level']\n",
    "dfe = db.pipe_cleaner_wa(dfe, drops).reset_index(drop=True)\n",
    "\n",
    "# saving columns as series for use in error data frame\n",
    "final_result = dfe['final_result'].copy()\n",
    "code_module = dfe['code_module'].copy()\n",
    "code_presentation = dfe['code_presentation'].copy()\n",
    "\n",
    "# dropping columns\n",
    "dfe = dfe.drop(['final_result', 'code_presentation',\n",
    "              'code_module', 'id_student'], axis=1)\n",
    "\n",
    "# splitting data & target\n",
    "X_e, y_e = f.X_y(dfe)\n",
    "\n",
    "# splitting training and holdout data\n",
    "X_training_e, X_holdout_e, y_training_e, y_holdout_e = f.test_train(X_e, y_e)\n",
    "\n",
    "# train test split\n",
    "X_train_e, X_test_e, y_train_e, y_test_e = f.test_train(X_training_e, y_training_e)\n",
    "\n",
    "# loading the model \n",
    "model = f.load_model('final')\n",
    "\n",
    "# getting predictions\n",
    "y_pred = model.predict(X_test_e)\n",
    "\n",
    "# creating the errors data frame\n",
    "errors = X_test_e.copy()\n",
    "\n",
    "# adding the true binary outcome column\n",
    "errors['result'] = y_test_e\n",
    "\n",
    "# adding the predicted binary outcome column\n",
    "errors['prediction'] = y_pred\n",
    "\n",
    "# adding the true multiclass labels\n",
    "errors['label'] = final_result\n",
    "\n",
    "# adding the code module column\n",
    "errors['code_module'] = code_module\n",
    "\n",
    "# adding the code presentation column\n",
    "errors['code_presentation'] = code_presentation\n",
    "\n",
    "# getting the label counts\n",
    "label_counts = errors.label.value_counts()\n",
    "\n",
    "# getting each label's error count\n",
    "label_errors = errors[errors['result']\\\n",
    "                      != errors['prediction']]['label'].value_counts()\n",
    "\n",
    "# calculating each label's error rate\n",
    "error_rates = label_errors/label_counts\n",
    "\n",
    "# calculating the total number of errors\n",
    "total_errors = label_errors.sum()\n",
    "\n",
    "# calculating each label's share of the errors\n",
    "share_total_errors = label_errors/total_errors\n",
    "\n",
    "# dropping numerical features\n",
    "drops = ['num_of_prev_attempts','weighted_ave', 'mean_score',\n",
    "            'median_score', 'sum_activity']\n",
    "cat_errors = errors.drop(columns=drops).reset_index()\n",
    "# creating true predictions column\n",
    "cat_errors['true_prediction'] = np.where(errors['prediction'] \\\n",
    "                                         == errors['result'], True, False)\n",
    "# dropping extraneous columns\n",
    "cat_errors = cat_errors.drop(columns = ['result', 'prediction', 'label'])"
   ]
  },
  {
   "cell_type": "markdown",
   "id": "f54ff6b4-75f0-4bad-b4ba-c7b2f2cfb53b",
   "metadata": {},
   "source": [
    "# Online Outcomes: Predicting Success in Virtual Learning\n",
    "\n",
    "**<font size=\"4\">Author: Jeffrey Hanif Watson</font>**"
   ]
  },
  {
   "cell_type": "markdown",
   "id": "d1671d1d-0184-48a0-b5b4-4582b28cb777",
   "metadata": {
    "tags": []
   },
   "source": [
    "## Overview\n",
    "The Covid-19 pandemic has only accelerated the growth in online learning and the opportunities and concerns associated with it. This project aimed to develop a model to predict unfavorable outcomes in virtual learning environments and recommendations for strategies to avoid and/or remedy those outcomes.\n",
    "\n",
    "Because I wanted to avoid both false positives and false negatives (to capture the maximum number of at-risk students while still efficiently allocating resources) for this project, an accuracy measure of F1 was chosen since it is sensitive to both types of error. Data cleaning, EDA, modeling, and evaluation were performed, and a voting classifier model with an F1 accuracy score of 0.67 (recall=.66, precision=.68) was chosen as the the final model for the project. An F1 score is a mix of both precision and recall (F1=1 means perfect recall and precision), so interpretation of the results is more easily described in terms of recall and precision. \n",
    "\n",
    "- The recall score of .66 meant that 66% of unsatisfactory outcomes were correctly classified as unsatisfactory.\n",
    "\n",
    "- The precision score of .68 indicated that 68% of outcomes classified as unsatisfactory were truly unsatisfactory. \n",
    "\n",
    "Statistical testing was also employed to develop the following recommendations to help drive a higher level of satisfactory outcomes:\n",
    "\n",
    "- Preemptive outreach and support programs should be implemented for non-traditional learners and lower income students, and inferential research should be conducted examining the advantages and disadvantages that socioeconomic status and education level confer in an academic setting to help refine those programs moving forward.\n",
    "\n",
    "- Students should be advised to maintain modest course loads. Over half of the students with a heavy course load withdraw before the end of the course, and even a medium course load makes a withdrawl about as likely as a passing grade.\n",
    "\n",
    "- Counsel students to maintain medium or higher online activity levels, and initiate an automated reminder system that triggers when a student fall below a predetermined level. Also, initiate an web design assessment and A/B testing program with the goal of identifying ways of driving up student engagement.\n",
    "\n",
    "***\n",
    "## Business Understanding\n",
    "In the years before the pandemic, online learning had been enjoying slow, reliable growth <sup>1</sup>, and was predicted to become a \\$350 Billion global market by 2025.<sup>2</sup> Covid-19 has only accelerated this trend, with examples such as the online learning platform edX experiencing a 15-fold growth in registrations in April 2020<sup>3</sup>, and almost 93\\% of school-age children engaged in online learning in 2020.<sup>4</sup> \n",
    "\n",
    "While the growth in online learning has provides opportunites, it has also raises concerns about student engagement, learning loss, and inequality. According to a recent NASPA Foundation survey, the main concern of over 70\\% of college students is staying engaged with their online course materials<sup>5</sup>. The World Bank also reports that school closures and online learning have led to widespread learning loss across Europe and Central Asia<sup>6</sup>, and Harvard Professor Todd Rose notes that \"Poor students and first-generation students often don’t do as well online.\"<sup>7</sup>\n",
    "\n",
    "This project aims to develop recommendations for strategies to avoid unsatisfactory outcomes in online learning environments and implement a model that can predict unfavorable outcomes in a timely manner so interventions can be applied to improve those outcomes.\n",
    "\n",
    "\n",
    "***\n",
    "## Data Understanding\n",
    "\n",
    "The data set for the project is the Open University Learning Analytics dataset.\n",
    "\n",
    "The dataset was obtained as a compressed zip file containing 7 csv files of tabular data. After cleaning and EDA, the data was ultimately reduced to a modeling dataset 19,458 rows and 13 columns (12 features plus the target).\n",
    "\n",
    "Citation:\n",
    "Kuzilek, J., Hlosta, M. & Zdrahal, Z. Open University Learning Analytics dataset. Sci Data 4, 170171 (2017). [Article](https://doi.org/10.1038/sdata.2017.171)\n",
    "\n",
    "Download Page:\n",
    "[Open University Learning Analytics dataset](https://analyse.kmi.open.ac.uk/open_dataset)\n",
    "\n",
    "ERD & Data Details:\n",
    "[Schema & Data Description](https://analyse.kmi.open.ac.uk/open_dataset#description)\n",
    "\n",
    "***\n",
    "## Data Preparation: SQL & Object Oriented Methods\n",
    "\n",
    "SQL, data preparation and EDA experiments undertaken in the [Data Cleaning/EDA Notebook](./notebooks/exploratory/cleaning_eda.ipynb) were ultimately coded into data frame creation, data cleaning, and feature engineering OOP methods for a Database class. This was done so the methods could be implemented on the fly to create various data configurations in the modeling, error analysis, and recommendations notebooks. The code located in the [class_Database.py](./src/class_Database.py) file. \n",
    "\n",
    "## Data Prepartion: Overview\n",
    "\n",
    "The data was inserted into an SQL database, and a data frame was constructed from the various database tables. During the creation process, the multiclass `final_result` feature was binarized into a `target` feature with classes Satisfactory (Pass, Distinction), and Unsatisfactory (Withdrawn, Fail). A `row_id` feature was constructed to identify unique student-course-month combinations, and a `sum_activity` feature was added to quantify the level of a student's interaction with the course material. Lastly, `weighted_ave`, `mean_score`, and `median_score` were derived from the each row's  assessment data.\n",
    "\n",
    "After the data frame was created various cosmetic fixes were applied to the data, and outliers were dropped from the `studied_credits`, `weighted_ave`, and `sum_activity` features using IQR fences. A categorical `course_load` feature was derived by binning `studied_credits`, and a categorical `activity_level` feature was created by binning `sum_activity`. The `course_load` feature was used during the modeling process, and `activity_level` was used for statistical testing when while investigating business recommendations. Lastly, null values and extraneous columns were dropped in preparation of the modeling process.\n",
    "\n",
    "In order to be able to predict unsatisfactory outcomes while there is still time to intervene, we limited the model to data logged up to the halfway of the courses. Since the median course length is 240 days, a cutoff point of 120 days was chosen. Further, students who withdrew before the 120th day were dropped from the data, since their outcome was fully determined within the 120 day window.\n",
    "\n",
    "Data preparation, EDA, and feature engineering experiments for the project can be found here:\n",
    "[Data Cleaning/EDA Notebook](./notebooks/exploratory/cleaning_eda.ipynb)\n",
    "***"
   ]
  },
  {
   "cell_type": "markdown",
   "id": "de905048-819f-4360-a8c5-de6354cbdf1a",
   "metadata": {
    "tags": []
   },
   "source": [
    "## Exploring the Data\n",
    "The siginificance level for all tests in the project is alpha=.05"
   ]
  },
  {
   "cell_type": "markdown",
   "id": "593508d1-0107-4e3d-8fdb-c87402459750",
   "metadata": {
    "jp-MarkdownHeadingCollapsed": true,
    "tags": []
   },
   "source": [
    "## Demographic Data"
   ]
  },
  {
   "cell_type": "markdown",
   "id": "9cbb35e9-67df-4972-97ae-32956ac7ba02",
   "metadata": {},
   "source": [
    "## Distribution of Final Results\n",
    "For data spanning the full term, Pass and Withdrawn are the largest groupings 38\\% and 32\\% respectively, followed by Fail at almost 22\\%. Distinction brings up the rear at 9\\%."
   ]
  },
  {
   "cell_type": "code",
   "execution_count": 9,
   "id": "377f9655-b703-4fe7-b896-08e4e9e8f741",
   "metadata": {
    "execution": {
     "iopub.execute_input": "2021-08-27T23:26:39.335995Z",
     "iopub.status.busy": "2021-08-27T23:26:39.335727Z",
     "iopub.status.idle": "2021-08-27T23:26:39.884115Z",
     "shell.execute_reply": "2021-08-27T23:26:39.883304Z",
     "shell.execute_reply.started": "2021-08-27T23:26:39.335970Z"
    },
    "tags": []
   },
   "outputs": [
    {
     "data": {
      "image/png": "[encoded data removed]",
      "text/plain": [
       "<Figure size 1440x576 with 1 Axes>"
      ]
     },
     "metadata": {},
     "output_type": "display_data"
    },
    {
     "data": {
      "text/html": [
       "<div>\n",
       "<style scoped>\n",
       "    .dataframe tbody tr th:only-of-type {\n",
       "        vertical-align: middle;\n",
       "    }\n",
       "\n",
       "    .dataframe tbody tr th {\n",
       "        vertical-align: top;\n",
       "    }\n",
       "\n",
       "    .dataframe thead th {\n",
       "        text-align: right;\n",
       "    }\n",
       "</style>\n",
       "<table border=\"1\" class=\"dataframe\">\n",
       "  <thead>\n",
       "    <tr style=\"text-align: right;\">\n",
       "      <th></th>\n",
       "      <th>Outcome</th>\n",
       "      <th>Percentage</th>\n",
       "    </tr>\n",
       "  </thead>\n",
       "  <tbody>\n",
       "    <tr>\n",
       "      <th>0</th>\n",
       "      <td>Pass</td>\n",
       "      <td>0.377922</td>\n",
       "    </tr>\n",
       "    <tr>\n",
       "      <th>1</th>\n",
       "      <td>Withdrawn</td>\n",
       "      <td>0.311521</td>\n",
       "    </tr>\n",
       "    <tr>\n",
       "      <th>2</th>\n",
       "      <td>Fail</td>\n",
       "      <td>0.220203</td>\n",
       "    </tr>\n",
       "    <tr>\n",
       "      <th>3</th>\n",
       "      <td>Distinction</td>\n",
       "      <td>0.090354</td>\n",
       "    </tr>\n",
       "  </tbody>\n",
       "</table>\n",
       "</div>"
      ],
      "text/plain": [
       "       Outcome  Percentage\n",
       "0         Pass    0.377922\n",
       "1    Withdrawn    0.311521\n",
       "2         Fail    0.220203\n",
       "3  Distinction    0.090354"
      ]
     },
     "execution_count": 9,
     "metadata": {},
     "output_type": "execute_result"
    },
    {
     "name": "stdout",
     "output_type": "stream",
     "text": [
      "time: 459 ms\n"
     ]
    }
   ],
   "source": [
    "v.outcomes_type(student_info,'outcomes_type')"
   ]
  },
  {
   "cell_type": "markdown",
   "id": "5eb61832-6182-418f-9a90-12216005f82f",
   "metadata": {},
   "source": [
    "## Distribution of Satisfactory and Unsatisfactory Outcomes\n",
    "The final results were binarized into Satisfactory (Pass, Distinction) and Unsatisfactory (Withdrawn, Fail). About 46\\% of outcomes were satisfactory, and 53\\% were unsatisfactory. "
   ]
  },
  {
   "cell_type": "code",
   "execution_count": 10,
   "id": "62463401-8d48-4193-987f-3ad8bb4504f6",
   "metadata": {
    "execution": {
     "iopub.execute_input": "2021-08-27T23:26:39.885721Z",
     "iopub.status.busy": "2021-08-27T23:26:39.885420Z",
     "iopub.status.idle": "2021-08-27T23:26:40.203516Z",
     "shell.execute_reply": "2021-08-27T23:26:40.202862Z",
     "shell.execute_reply.started": "2021-08-27T23:26:39.885697Z"
    },
    "tags": []
   },
   "outputs": [
    {
     "data": {
      "image/png": "[encoded data removed]",
      "text/plain": [
       "<Figure size 1440x576 with 1 Axes>"
      ]
     },
     "metadata": {},
     "output_type": "display_data"
    },
    {
     "data": {
      "text/html": [
       "<div>\n",
       "<style scoped>\n",
       "    .dataframe tbody tr th:only-of-type {\n",
       "        vertical-align: middle;\n",
       "    }\n",
       "\n",
       "    .dataframe tbody tr th {\n",
       "        vertical-align: top;\n",
       "    }\n",
       "\n",
       "    .dataframe thead th {\n",
       "        text-align: right;\n",
       "    }\n",
       "</style>\n",
       "<table border=\"1\" class=\"dataframe\">\n",
       "  <thead>\n",
       "    <tr style=\"text-align: right;\">\n",
       "      <th></th>\n",
       "      <th>Outcome</th>\n",
       "      <th>Percentage</th>\n",
       "    </tr>\n",
       "  </thead>\n",
       "  <tbody>\n",
       "    <tr>\n",
       "      <th>0</th>\n",
       "      <td>Unsatisfactory</td>\n",
       "      <td>0.531724</td>\n",
       "    </tr>\n",
       "    <tr>\n",
       "      <th>1</th>\n",
       "      <td>Satisfactory</td>\n",
       "      <td>0.468276</td>\n",
       "    </tr>\n",
       "  </tbody>\n",
       "</table>\n",
       "</div>"
      ],
      "text/plain": [
       "          Outcome  Percentage\n",
       "0  Unsatisfactory    0.531724\n",
       "1    Satisfactory    0.468276"
      ]
     },
     "execution_count": 10,
     "metadata": {},
     "output_type": "execute_result"
    },
    {
     "name": "stdout",
     "output_type": "stream",
     "text": [
      "time: 262 ms\n"
     ]
    }
   ],
   "source": [
    "v.outcomes_target(student_info, 'outcomes_bin')"
   ]
  },
  {
   "cell_type": "markdown",
   "id": "f22a3a1d-f479-499d-b43e-e97fd4f97921",
   "metadata": {
    "tags": []
   },
   "source": [
    "## Outcome By IMD Band"
   ]
  },
  {
   "cell_type": "markdown",
   "id": "8a41f12f-7168-4188-86c0-82648c2cbac8",
   "metadata": {
    "execution": {
     "iopub.execute_input": "2021-08-23T03:22:36.669425Z",
     "iopub.status.busy": "2021-08-23T03:22:36.668986Z",
     "iopub.status.idle": "2021-08-23T03:22:36.692753Z",
     "shell.execute_reply": "2021-08-23T03:22:36.691187Z",
     "shell.execute_reply.started": "2021-08-23T03:22:36.669307Z"
    }
   },
   "source": [
    "IMD Band is a measure of socioeconomic status that is based on geographic location. The higher the band, the better off the student is.\n",
    "\n",
    "A Chi-Squared test was performed and it was found that IMD band and outcome are not independent (p value=2.473461324525511e-120). In general, Distinction and Pass vary directly with IMD band. The higher the student's IMD band, the more likely the student is to pass or pass with distinction. Conversely, Withdrawn and Fail vary inversely with IMD band. In general, the lower the student's IMD band the more likely the student is to fail or withdraw. \n",
    "\n",
    "IMD band has small, but statistically significant effect on the outcome Pass and Withdrawn, and a medium sized effect on Fail and Distinction."
   ]
  },
  {
   "cell_type": "code",
   "execution_count": 11,
   "id": "23c8e0bc-d9cc-417e-a120-b77eba03ec6a",
   "metadata": {
    "execution": {
     "iopub.execute_input": "2021-08-27T23:26:40.204947Z",
     "iopub.status.busy": "2021-08-27T23:26:40.204784Z",
     "iopub.status.idle": "2021-08-27T23:26:40.956408Z",
     "shell.execute_reply": "2021-08-27T23:26:40.955786Z",
     "shell.execute_reply.started": "2021-08-27T23:26:40.204929Z"
    },
    "tags": []
   },
   "outputs": [
    {
     "data": {
      "image/png": "[encoded data removed]",
      "text/plain": [
       "<Figure size 1152x576 with 1 Axes>"
      ]
     },
     "metadata": {},
     "output_type": "display_data"
    },
    {
     "name": "stdout",
     "output_type": "stream",
     "text": [
      "time: 677 ms\n"
     ]
    }
   ],
   "source": [
    "v.outcomes_imd(student_info, 'outcomes_imd')"
   ]
  },
  {
   "cell_type": "markdown",
   "id": "e6b752db-b7d8-446e-a5b6-846ed73e6162",
   "metadata": {
    "tags": []
   },
   "source": [
    "### Investigating the IMD Band Contingency Table"
   ]
  },
  {
   "cell_type": "code",
   "execution_count": 12,
   "id": "235f4ec7-2ba5-4d96-9203-734da51a0ab7",
   "metadata": {
    "execution": {
     "iopub.execute_input": "2021-08-27T23:26:40.957963Z",
     "iopub.status.busy": "2021-08-27T23:26:40.957538Z",
     "iopub.status.idle": "2021-08-27T23:26:41.041181Z",
     "shell.execute_reply": "2021-08-27T23:26:41.039713Z",
     "shell.execute_reply.started": "2021-08-27T23:26:40.957939Z"
    },
    "tags": []
   },
   "outputs": [
    {
     "name": "stdout",
     "output_type": "stream",
     "text": [
      "time: 31 ms\n"
     ]
    }
   ],
   "source": [
    "# creating a contingency table\n",
    "tabs = pd.crosstab(student_info.imd_band, student_info.final_result)"
   ]
  },
  {
   "cell_type": "code",
   "execution_count": 13,
   "id": "7bb99ec4-9d93-4569-ba23-b534cfff2ded",
   "metadata": {
    "execution": {
     "iopub.execute_input": "2021-08-27T23:26:41.051805Z",
     "iopub.status.busy": "2021-08-27T23:26:41.051366Z",
     "iopub.status.idle": "2021-08-27T23:26:41.161882Z",
     "shell.execute_reply": "2021-08-27T23:26:41.159793Z",
     "shell.execute_reply.started": "2021-08-27T23:26:41.051745Z"
    },
    "tags": []
   },
   "outputs": [
    {
     "name": "stdout",
     "output_type": "stream",
     "text": [
      "time: 1.22 ms\n"
     ]
    }
   ],
   "source": [
    "# creating a statsmodels table object\n",
    "table = sm.stats.Table(tabs)"
   ]
  },
  {
   "cell_type": "code",
   "execution_count": 14,
   "id": "074cdc75-f948-49da-9eba-94ab46114f90",
   "metadata": {
    "execution": {
     "iopub.execute_input": "2021-08-27T23:26:41.164600Z",
     "iopub.status.busy": "2021-08-27T23:26:41.163599Z",
     "iopub.status.idle": "2021-08-27T23:26:41.366313Z",
     "shell.execute_reply": "2021-08-27T23:26:41.365171Z",
     "shell.execute_reply.started": "2021-08-27T23:26:41.164541Z"
    },
    "tags": []
   },
   "outputs": [
    {
     "data": {
      "text/html": [
       "<div>\n",
       "<style scoped>\n",
       "    .dataframe tbody tr th:only-of-type {\n",
       "        vertical-align: middle;\n",
       "    }\n",
       "\n",
       "    .dataframe tbody tr th {\n",
       "        vertical-align: top;\n",
       "    }\n",
       "\n",
       "    .dataframe thead th {\n",
       "        text-align: right;\n",
       "    }\n",
       "</style>\n",
       "<table border=\"1\" class=\"dataframe\">\n",
       "  <thead>\n",
       "    <tr style=\"text-align: right;\">\n",
       "      <th>final_result</th>\n",
       "      <th>Distinction</th>\n",
       "      <th>Fail</th>\n",
       "      <th>Pass</th>\n",
       "      <th>Withdrawn</th>\n",
       "    </tr>\n",
       "    <tr>\n",
       "      <th>imd_band</th>\n",
       "      <th></th>\n",
       "      <th></th>\n",
       "      <th></th>\n",
       "      <th></th>\n",
       "    </tr>\n",
       "  </thead>\n",
       "  <tbody>\n",
       "    <tr>\n",
       "      <th>0-10%</th>\n",
       "      <td>-7.402817</td>\n",
       "      <td>7.143362</td>\n",
       "      <td>-6.991624</td>\n",
       "      <td>5.681835</td>\n",
       "    </tr>\n",
       "    <tr>\n",
       "      <th>10-20%</th>\n",
       "      <td>-7.053337</td>\n",
       "      <td>5.017465</td>\n",
       "      <td>-4.146855</td>\n",
       "      <td>4.147654</td>\n",
       "    </tr>\n",
       "    <tr>\n",
       "      <th>20-30%</th>\n",
       "      <td>-3.462050</td>\n",
       "      <td>1.591755</td>\n",
       "      <td>-3.774848</td>\n",
       "      <td>4.683976</td>\n",
       "    </tr>\n",
       "    <tr>\n",
       "      <th>30-40%</th>\n",
       "      <td>-0.167062</td>\n",
       "      <td>0.358575</td>\n",
       "      <td>0.423810</td>\n",
       "      <td>-0.678298</td>\n",
       "    </tr>\n",
       "    <tr>\n",
       "      <th>40-50%</th>\n",
       "      <td>0.168598</td>\n",
       "      <td>-0.679618</td>\n",
       "      <td>-0.071974</td>\n",
       "      <td>0.559866</td>\n",
       "    </tr>\n",
       "    <tr>\n",
       "      <th>50-60%</th>\n",
       "      <td>0.955658</td>\n",
       "      <td>0.635117</td>\n",
       "      <td>1.338885</td>\n",
       "      <td>-2.523342</td>\n",
       "    </tr>\n",
       "    <tr>\n",
       "      <th>60-70%</th>\n",
       "      <td>2.403956</td>\n",
       "      <td>-3.938544</td>\n",
       "      <td>3.503514</td>\n",
       "      <td>-1.842207</td>\n",
       "    </tr>\n",
       "    <tr>\n",
       "      <th>70-80%</th>\n",
       "      <td>3.296277</td>\n",
       "      <td>-1.357454</td>\n",
       "      <td>2.609346</td>\n",
       "      <td>-3.507966</td>\n",
       "    </tr>\n",
       "    <tr>\n",
       "      <th>80-90%</th>\n",
       "      <td>5.004507</td>\n",
       "      <td>-4.631205</td>\n",
       "      <td>3.968319</td>\n",
       "      <td>-3.172347</td>\n",
       "    </tr>\n",
       "    <tr>\n",
       "      <th>90-100%</th>\n",
       "      <td>8.513557</td>\n",
       "      <td>-5.815001</td>\n",
       "      <td>4.786375</td>\n",
       "      <td>-4.967922</td>\n",
       "    </tr>\n",
       "  </tbody>\n",
       "</table>\n",
       "</div>"
      ],
      "text/plain": [
       "final_result  Distinction      Fail      Pass  Withdrawn\n",
       "imd_band                                                \n",
       "0-10%           -7.402817  7.143362 -6.991624   5.681835\n",
       "10-20%          -7.053337  5.017465 -4.146855   4.147654\n",
       "20-30%          -3.462050  1.591755 -3.774848   4.683976\n",
       "30-40%          -0.167062  0.358575  0.423810  -0.678298\n",
       "40-50%           0.168598 -0.679618 -0.071974   0.559866\n",
       "50-60%           0.955658  0.635117  1.338885  -2.523342\n",
       "60-70%           2.403956 -3.938544  3.503514  -1.842207\n",
       "70-80%           3.296277 -1.357454  2.609346  -3.507966\n",
       "80-90%           5.004507 -4.631205  3.968319  -3.172347\n",
       "90-100%          8.513557 -5.815001  4.786375  -4.967922"
      ]
     },
     "execution_count": 14,
     "metadata": {},
     "output_type": "execute_result"
    },
    {
     "name": "stdout",
     "output_type": "stream",
     "text": [
      "time: 91.1 ms\n"
     ]
    }
   ],
   "source": [
    "# pearsons residuals: negatives indicate fewer results than expected, positives indicate more.\n",
    "table.resid_pearson"
   ]
  },
  {
   "cell_type": "markdown",
   "id": "c6e67236-da98-47c4-a21f-a1dcc7a50e84",
   "metadata": {
    "tags": []
   },
   "source": [
    "From the contingency table it appears that, in general, Distinction and Pass vary directly with IMD band. The higher the student's IMD band, the more likely the student is to pass or pass with distinction. Conversely, Withdrawn and Fail vary inversely with IMD band. In general, the lower the student's IMD band the more likely the student is to fail or withdraw."
   ]
  },
  {
   "cell_type": "markdown",
   "id": "aba72857-ad9e-4328-a057-9cd3c4898794",
   "metadata": {
    "tags": []
   },
   "source": [
    "### Hypothesis Testing"
   ]
  },
  {
   "cell_type": "markdown",
   "id": "1676dd21-bf00-40d0-9ecc-6b2b167055fa",
   "metadata": {
    "tags": []
   },
   "source": [
    "#### Chi-Square Test for `imd_band`\n",
    "Ho = `imd_band` and `final_result` are independent.\n",
    "\n",
    "Ha = `imd_band` and `final_result` are not independent.\n",
    "\n",
    "alpha = .05"
   ]
  },
  {
   "cell_type": "code",
   "execution_count": 15,
   "id": "acd5c4e9-f2c9-4ccd-b933-78a5dc53a615",
   "metadata": {
    "execution": {
     "iopub.execute_input": "2021-08-27T23:26:41.367333Z",
     "iopub.status.busy": "2021-08-27T23:26:41.367183Z",
     "iopub.status.idle": "2021-08-27T23:26:41.419453Z",
     "shell.execute_reply": "2021-08-27T23:26:41.417984Z",
     "shell.execute_reply.started": "2021-08-27T23:26:41.367314Z"
    },
    "tags": []
   },
   "outputs": [
    {
     "name": "stdout",
     "output_type": "stream",
     "text": [
      "chi-squared = 653.0806826983792\n",
      "p value= 2.473461324525511e-120\n",
      "degrees of freedom = 27\n",
      "time: 1.82 ms\n"
     ]
    }
   ],
   "source": [
    "# calculating chi-squared,p-value, degrees of freedom\n",
    "f.chi_sq_test(tabs)"
   ]
  },
  {
   "cell_type": "markdown",
   "id": "6d3a8d67-abe1-4283-a2ce-d44baa869e05",
   "metadata": {},
   "source": [
    "Since the p value is less than our alpha, we reject the null hypothesis and conclude that `imd_band` and `final_result` are not independent."
   ]
  },
  {
   "cell_type": "markdown",
   "id": "fd75b496-f6fd-404b-8e65-d9eeb86f1d98",
   "metadata": {},
   "source": [
    "#### Test Result: IMD Band and Outcomes Are Not Independent."
   ]
  },
  {
   "cell_type": "code",
   "execution_count": 16,
   "id": "cf59c986-9f92-41e9-a156-238c4b641e6e",
   "metadata": {
    "execution": {
     "iopub.execute_input": "2021-08-27T23:26:41.421333Z",
     "iopub.status.busy": "2021-08-27T23:26:41.421070Z",
     "iopub.status.idle": "2021-08-27T23:26:41.541251Z",
     "shell.execute_reply": "2021-08-27T23:26:41.539436Z",
     "shell.execute_reply.started": "2021-08-27T23:26:41.421304Z"
    },
    "tags": []
   },
   "outputs": [
    {
     "name": "stdout",
     "output_type": "stream",
     "text": [
      "Cramer's V Degrees of Freedom = 3\n",
      "\n",
      "Effect Size Thresholds\n",
      "   Degrees of Freedom  Small Effect  Medium Effect  Large Effect\n",
      "0                 1.0          0.10           0.30          0.50\n",
      "1                 2.0          0.07           0.21          0.35\n",
      "2                 3.0          0.06           0.17          0.29\n",
      "3                 4.0          0.05           0.15          0.25\n",
      "4                 5.0          0.04           0.13          0.22\n",
      "\n",
      "final_result\n",
      "Distinction    0.278138\n",
      "Fail           0.178166\n",
      "Pass           0.135999\n",
      "Withdrawn      0.149793\n",
      "dtype: float64\n",
      "time: 11.4 ms\n"
     ]
    }
   ],
   "source": [
    "# calculating cramer's v to measure the effect sizes\n",
    "f.cramers_v(tabs)"
   ]
  },
  {
   "cell_type": "markdown",
   "id": "642eadfc-49a4-4626-b79a-f3d4d9f2f16a",
   "metadata": {
    "tags": []
   },
   "source": [
    "Adjusted for degrees of freedom, the Cramer's V results indicate that `imd_band` has a small, but statistically significant, effect on Pass and Withdrawn and a medium effect on Fail and Distinction."
   ]
  },
  {
   "cell_type": "markdown",
   "id": "6efdea6a-a75d-497b-ae70-5463031ba88f",
   "metadata": {},
   "source": [
    "#### Effect Sizes: Small for Pass and Withdrawn, Medium for Fail and Distinction."
   ]
  },
  {
   "cell_type": "markdown",
   "id": "7522859a-0ef0-49d9-9478-596dbf8b674a",
   "metadata": {
    "tags": []
   },
   "source": [
    "## Outcome by Education Level\n",
    "The ranking of these UK education categories is as follows (from lowest to highest): No Formal Qualifications, Lower Than A Level, A Level, HE Qualification, Post Graduate Qualification.\n",
    "\n",
    "A Chi-Squared test was performed and it was found that education level and outcome are not independent(p value=2.4827414817328365e-198). In general, Distinction and Pass vary directly with education level. The higher the student's education level, the more likely the student is to pass or pass with distinction. Conversely, Withdrawn and Fail vary inversely with education. In general, the lower the student's education level the more likely the student is to fail or withdraw. \n",
    "\n",
    "Adjusted for degrees of freedom, the Cramer's V results indicate that `highest_education ` has a small effect on Pass, a medium effect on Fail and Withdrawn, and a large effect on Distinction."
   ]
  },
  {
   "cell_type": "code",
   "execution_count": 17,
   "id": "3f801e9a-9433-4a5f-b9c9-ee5b618a1f36",
   "metadata": {
    "execution": {
     "iopub.execute_input": "2021-08-27T23:26:41.544101Z",
     "iopub.status.busy": "2021-08-27T23:26:41.543347Z",
     "iopub.status.idle": "2021-08-27T23:26:42.113693Z",
     "shell.execute_reply": "2021-08-27T23:26:42.112979Z",
     "shell.execute_reply.started": "2021-08-27T23:26:41.544037Z"
    },
    "tags": []
   },
   "outputs": [
    {
     "data": {
      "image/png": "[encoded data removed]",
      "text/plain": [
       "<Figure size 1440x576 with 1 Axes>"
      ]
     },
     "metadata": {},
     "output_type": "display_data"
    },
    {
     "name": "stdout",
     "output_type": "stream",
     "text": [
      "time: 488 ms\n"
     ]
    }
   ],
   "source": [
    "v.outcomes_edu(student_info, 'outcomes_edu')"
   ]
  },
  {
   "cell_type": "markdown",
   "id": "69e73971-2c0c-40df-b61c-e24c9189a9ce",
   "metadata": {},
   "source": [
    "### Investigating `highest_education` Contingency Tabels"
   ]
  },
  {
   "cell_type": "code",
   "execution_count": 18,
   "id": "28e304a0-9e63-484c-907a-6ddaaf26d7b8",
   "metadata": {
    "execution": {
     "iopub.execute_input": "2021-08-27T23:26:42.114765Z",
     "iopub.status.busy": "2021-08-27T23:26:42.114617Z",
     "iopub.status.idle": "2021-08-27T23:26:42.195495Z",
     "shell.execute_reply": "2021-08-27T23:26:42.194008Z",
     "shell.execute_reply.started": "2021-08-27T23:26:42.114748Z"
    },
    "tags": []
   },
   "outputs": [
    {
     "name": "stdout",
     "output_type": "stream",
     "text": [
      "time: 30.9 ms\n"
     ]
    }
   ],
   "source": [
    "# creating a contingency table\n",
    "tabs = pd.crosstab(student_info.highest_education, student_info.final_result)"
   ]
  },
  {
   "cell_type": "code",
   "execution_count": 19,
   "id": "ad96b251-b83f-49c9-becb-eab5b67a196c",
   "metadata": {
    "execution": {
     "iopub.execute_input": "2021-08-27T23:26:42.198705Z",
     "iopub.status.busy": "2021-08-27T23:26:42.197912Z",
     "iopub.status.idle": "2021-08-27T23:26:42.296688Z",
     "shell.execute_reply": "2021-08-27T23:26:42.294895Z",
     "shell.execute_reply.started": "2021-08-27T23:26:42.198652Z"
    },
    "tags": []
   },
   "outputs": [
    {
     "name": "stdout",
     "output_type": "stream",
     "text": [
      "time: 1.24 ms\n"
     ]
    }
   ],
   "source": [
    "# creating a statsmodels table object\n",
    "table = sm.stats.Table(tabs)"
   ]
  },
  {
   "cell_type": "code",
   "execution_count": 20,
   "id": "6222849a-83c9-442e-87a3-1aa96602b239",
   "metadata": {
    "execution": {
     "iopub.execute_input": "2021-08-27T23:26:42.300250Z",
     "iopub.status.busy": "2021-08-27T23:26:42.299384Z",
     "iopub.status.idle": "2021-08-27T23:26:42.404701Z",
     "shell.execute_reply": "2021-08-27T23:26:42.404022Z",
     "shell.execute_reply.started": "2021-08-27T23:26:42.300188Z"
    },
    "tags": []
   },
   "outputs": [
    {
     "data": {
      "text/html": [
       "<div>\n",
       "<style scoped>\n",
       "    .dataframe tbody tr th:only-of-type {\n",
       "        vertical-align: middle;\n",
       "    }\n",
       "\n",
       "    .dataframe tbody tr th {\n",
       "        vertical-align: top;\n",
       "    }\n",
       "\n",
       "    .dataframe thead th {\n",
       "        text-align: right;\n",
       "    }\n",
       "</style>\n",
       "<table border=\"1\" class=\"dataframe\">\n",
       "  <thead>\n",
       "    <tr style=\"text-align: right;\">\n",
       "      <th>final_result</th>\n",
       "      <th>Distinction</th>\n",
       "      <th>Fail</th>\n",
       "      <th>Pass</th>\n",
       "      <th>Withdrawn</th>\n",
       "    </tr>\n",
       "    <tr>\n",
       "      <th>highest_education</th>\n",
       "      <th></th>\n",
       "      <th></th>\n",
       "      <th></th>\n",
       "      <th></th>\n",
       "    </tr>\n",
       "  </thead>\n",
       "  <tbody>\n",
       "    <tr>\n",
       "      <th>No Formal quals</th>\n",
       "      <td>-2.761012</td>\n",
       "      <td>2.476404</td>\n",
       "      <td>-4.240230</td>\n",
       "      <td>4.075243</td>\n",
       "    </tr>\n",
       "    <tr>\n",
       "      <th>Lower Than A Level</th>\n",
       "      <td>-14.015472</td>\n",
       "      <td>10.604762</td>\n",
       "      <td>-8.259037</td>\n",
       "      <td>7.728913</td>\n",
       "    </tr>\n",
       "    <tr>\n",
       "      <th>A Level or Equivalent</th>\n",
       "      <td>5.891219</td>\n",
       "      <td>-6.327834</td>\n",
       "      <td>6.633103</td>\n",
       "      <td>-5.158524</td>\n",
       "    </tr>\n",
       "    <tr>\n",
       "      <th>HE Qualification</th>\n",
       "      <td>12.197479</td>\n",
       "      <td>-7.109027</td>\n",
       "      <td>3.760665</td>\n",
       "      <td>-4.734217</td>\n",
       "    </tr>\n",
       "    <tr>\n",
       "      <th>Post Graduate Qualification</th>\n",
       "      <td>9.316753</td>\n",
       "      <td>-1.868449</td>\n",
       "      <td>-1.466281</td>\n",
       "      <td>-1.831688</td>\n",
       "    </tr>\n",
       "  </tbody>\n",
       "</table>\n",
       "</div>"
      ],
      "text/plain": [
       "final_result                 Distinction       Fail      Pass  Withdrawn\n",
       "highest_education                                                       \n",
       "No Formal quals                -2.761012   2.476404 -4.240230   4.075243\n",
       "Lower Than A Level            -14.015472  10.604762 -8.259037   7.728913\n",
       "A Level or Equivalent           5.891219  -6.327834  6.633103  -5.158524\n",
       "HE Qualification               12.197479  -7.109027  3.760665  -4.734217\n",
       "Post Graduate Qualification     9.316753  -1.868449 -1.466281  -1.831688"
      ]
     },
     "execution_count": 20,
     "metadata": {},
     "output_type": "execute_result"
    },
    {
     "name": "stdout",
     "output_type": "stream",
     "text": [
      "time: 14.4 ms\n"
     ]
    }
   ],
   "source": [
    "# sorting education levels from lowest to highest\n",
    "order =  ['No Formal quals', 'Lower Than A Level', 'A Level or Equivalent',\n",
    "          'HE Qualification', 'Post Graduate Qualification']\n",
    "# pearsons residuals: negatives indicate fewer results than expected, positives indicate more.\n",
    "table.resid_pearson.reindex(order)"
   ]
  },
  {
   "cell_type": "markdown",
   "id": "4e457f30-7cb3-4445-a9cc-7144657261e9",
   "metadata": {},
   "source": [
    "From the contingency tables it appears that, in general, Distinction and Pass vary directly with education level. The higher the student's education level, the more likely the student is to pass or pass with distinction. Conversely, Withdrawn and Fail vary inversely with education level. In general, the lower the student's education level the more likely the student is to fail or withdraw. "
   ]
  },
  {
   "cell_type": "markdown",
   "id": "fb8cb8f2-af01-4d84-8f1e-84f03890957b",
   "metadata": {},
   "source": [
    "### Chi-Square Test for `highest_education`\n",
    "Ho = `highest_education` and `final_result` are independent.\n",
    "\n",
    "Ha = `highest_education` and `final_result` are not independent.\n",
    "\n",
    "alpha = .05"
   ]
  },
  {
   "cell_type": "code",
   "execution_count": 21,
   "id": "77adb96c-e7f5-40cc-87d9-f258de918e59",
   "metadata": {
    "execution": {
     "iopub.execute_input": "2021-08-27T23:26:42.406580Z",
     "iopub.status.busy": "2021-08-27T23:26:42.405848Z",
     "iopub.status.idle": "2021-08-27T23:26:42.486966Z",
     "shell.execute_reply": "2021-08-27T23:26:42.485141Z",
     "shell.execute_reply.started": "2021-08-27T23:26:42.406542Z"
    },
    "tags": []
   },
   "outputs": [
    {
     "name": "stdout",
     "output_type": "stream",
     "text": [
      "chi-squared = 962.2117100356752\n",
      "p value= 2.4827414817328365e-198\n",
      "degrees of freedom = 12\n",
      "time: 2.06 ms\n"
     ]
    }
   ],
   "source": [
    "# calculating chi-squared,p-value, degrees of freedom\n",
    "f.chi_sq_test(tabs)"
   ]
  },
  {
   "cell_type": "markdown",
   "id": "d9477a2e-feb3-4fb7-8e1b-02f50c87c6a4",
   "metadata": {},
   "source": [
    "Since the p value is less than our alpha, we reject the null hypothesis and conclude that `highest_education` and `final_result` are not independent."
   ]
  },
  {
   "cell_type": "markdown",
   "id": "30853d56-af81-4d32-9493-cf948f152c1c",
   "metadata": {},
   "source": [
    "#### Test Result: Education Level and Outcome Are Not Independent"
   ]
  },
  {
   "cell_type": "code",
   "execution_count": 22,
   "id": "eba39a72-c5fc-41a6-920a-bb869b3e2d94",
   "metadata": {
    "execution": {
     "iopub.execute_input": "2021-08-27T23:26:42.489439Z",
     "iopub.status.busy": "2021-08-27T23:26:42.488704Z",
     "iopub.status.idle": "2021-08-27T23:26:42.588027Z",
     "shell.execute_reply": "2021-08-27T23:26:42.586756Z",
     "shell.execute_reply.started": "2021-08-27T23:26:42.489399Z"
    },
    "tags": []
   },
   "outputs": [
    {
     "name": "stdout",
     "output_type": "stream",
     "text": [
      "Cramer's V Degrees of Freedom = 3\n",
      "\n",
      "Effect Size Thresholds\n",
      "   Degrees of Freedom  Small Effect  Medium Effect  Large Effect\n",
      "0                 1.0          0.10           0.30          0.50\n",
      "1                 2.0          0.07           0.21          0.35\n",
      "2                 3.0          0.06           0.17          0.29\n",
      "3                 4.0          0.05           0.15          0.25\n",
      "4                 5.0          0.04           0.13          0.22\n",
      "\n",
      "final_result\n",
      "Distinction    0.337608\n",
      "Fail           0.216260\n",
      "Pass           0.165077\n",
      "Withdrawn      0.181821\n",
      "dtype: float64\n",
      "time: 8.7 ms\n"
     ]
    }
   ],
   "source": [
    "# calculating cramer's v to measure the effect sizes\n",
    "f.cramers_v(tabs)"
   ]
  },
  {
   "cell_type": "markdown",
   "id": "a70d3706-51c8-4440-ab93-7dac7ed213f2",
   "metadata": {},
   "source": [
    "Adjusted for degrees of freedom, the Cramer's V results indicate that `highest_education` has a small effect on Pass, a medium effect on Fail, and Withdrawn, and a large effect on Distinction."
   ]
  },
  {
   "cell_type": "markdown",
   "id": "a21fde62-04c8-4493-bd1b-c69ef4cda3a3",
   "metadata": {},
   "source": [
    "#### Effect Sizes: Small on Pass, Medium on Fail and Withdrawn, Large on Distinction"
   ]
  },
  {
   "cell_type": "markdown",
   "id": "61c1ecc3-18ec-499c-b179-a5572aa83cdb",
   "metadata": {},
   "source": [
    "## Recommendation"
   ]
  },
  {
   "cell_type": "markdown",
   "id": "47af0c00-55ac-4c1c-9f31-3b7042de06fb",
   "metadata": {},
   "source": [
    "Preemptive outreach and support programs for non-traditional learners and lower income students, and inferential research into the advantages and disadvantages that socioeconomic status and education level confer in an academic setting to help refine those programs moving forward. "
   ]
  },
  {
   "cell_type": "markdown",
   "id": "2efb007d-02a2-43ac-b34a-cb6fdea16ac0",
   "metadata": {
    "tags": []
   },
   "source": [
    "## Outcome by Course Load\n",
    "Course load is a feature that categorizes the amount of credits the student was studying at the time of the course. The categories are as follows: \n",
    "\n",
    "- 30-60 Credits: Light \n",
    "- 61 to 120 Credits: Medium\n",
    "- 121 to 210 Credits: Heavy\n",
    "\n",
    "A Chi-Squared test was performed and it was found that course load and outcome are not independent(p value= 1.9942967713148247e-188). A light course load contributes positively to Distinction, Pass, and (counterintuitively) Fail, while it contributes negatively to Withdrawn. Conversely,  Medium and Heavy course loads contribute negatively to Distinction, Pass and (again, counterintuitively) Fail,  while they contribute positively to Withdrawn.\n",
    "\n",
    "Course load has a small effect on Pass, a medium sized effect on Withdraw and Fail, and a large effect on Distinction."
   ]
  },
  {
   "cell_type": "code",
   "execution_count": 23,
   "id": "048527c6-7b4f-43ae-8d0b-bf0a6825e545",
   "metadata": {
    "execution": {
     "iopub.execute_input": "2021-08-27T23:26:42.589650Z",
     "iopub.status.busy": "2021-08-27T23:26:42.589327Z",
     "iopub.status.idle": "2021-08-27T23:26:43.056946Z",
     "shell.execute_reply": "2021-08-27T23:26:43.056297Z",
     "shell.execute_reply.started": "2021-08-27T23:26:42.589588Z"
    },
    "tags": []
   },
   "outputs": [
    {
     "data": {
      "image/png": "[encoded data removed]",
      "text/plain": [
       "<Figure size 1440x576 with 1 Axes>"
      ]
     },
     "metadata": {},
     "output_type": "display_data"
    },
    {
     "name": "stdout",
     "output_type": "stream",
     "text": [
      "time: 392 ms\n"
     ]
    }
   ],
   "source": [
    "v.outcome_cl(student_info, 'outcomes_cl')"
   ]
  },
  {
   "cell_type": "code",
   "execution_count": 24,
   "id": "5853acba-f90b-4a46-9245-81e0ec60be62",
   "metadata": {
    "execution": {
     "iopub.execute_input": "2021-08-27T23:26:43.058420Z",
     "iopub.status.busy": "2021-08-27T23:26:43.058238Z",
     "iopub.status.idle": "2021-08-27T23:26:43.143804Z",
     "shell.execute_reply": "2021-08-27T23:26:43.142770Z",
     "shell.execute_reply.started": "2021-08-27T23:26:43.058398Z"
    },
    "tags": []
   },
   "outputs": [
    {
     "name": "stdout",
     "output_type": "stream",
     "text": [
      "time: 26.2 ms\n"
     ]
    }
   ],
   "source": [
    "# creating a contingency table\n",
    "tabs = pd.crosstab(student_info.course_load, student_info.final_result)"
   ]
  },
  {
   "cell_type": "code",
   "execution_count": 25,
   "id": "37edb536-0ece-4a35-857e-62e5b0b70f9d",
   "metadata": {
    "execution": {
     "iopub.execute_input": "2021-08-27T23:26:43.145642Z",
     "iopub.status.busy": "2021-08-27T23:26:43.145283Z",
     "iopub.status.idle": "2021-08-27T23:26:43.242822Z",
     "shell.execute_reply": "2021-08-27T23:26:43.241077Z",
     "shell.execute_reply.started": "2021-08-27T23:26:43.145610Z"
    },
    "tags": []
   },
   "outputs": [
    {
     "name": "stdout",
     "output_type": "stream",
     "text": [
      "time: 1.51 ms\n"
     ]
    }
   ],
   "source": [
    "# creating a statsmodels table object\n",
    "table = sm.stats.Table(tabs)"
   ]
  },
  {
   "cell_type": "code",
   "execution_count": 26,
   "id": "ae1e1cff-07ec-4fa6-94fe-78b690bde7de",
   "metadata": {
    "execution": {
     "iopub.execute_input": "2021-08-27T23:26:43.245918Z",
     "iopub.status.busy": "2021-08-27T23:26:43.245291Z",
     "iopub.status.idle": "2021-08-27T23:26:43.366011Z",
     "shell.execute_reply": "2021-08-27T23:26:43.364516Z",
     "shell.execute_reply.started": "2021-08-27T23:26:43.245865Z"
    },
    "tags": []
   },
   "outputs": [
    {
     "data": {
      "text/html": [
       "<div>\n",
       "<style scoped>\n",
       "    .dataframe tbody tr th:only-of-type {\n",
       "        vertical-align: middle;\n",
       "    }\n",
       "\n",
       "    .dataframe tbody tr th {\n",
       "        vertical-align: top;\n",
       "    }\n",
       "\n",
       "    .dataframe thead th {\n",
       "        text-align: right;\n",
       "    }\n",
       "</style>\n",
       "<table border=\"1\" class=\"dataframe\">\n",
       "  <thead>\n",
       "    <tr style=\"text-align: right;\">\n",
       "      <th>final_result</th>\n",
       "      <th>Distinction</th>\n",
       "      <th>Fail</th>\n",
       "      <th>Pass</th>\n",
       "      <th>Withdrawn</th>\n",
       "    </tr>\n",
       "    <tr>\n",
       "      <th>course_load</th>\n",
       "      <th></th>\n",
       "      <th></th>\n",
       "      <th></th>\n",
       "      <th></th>\n",
       "    </tr>\n",
       "  </thead>\n",
       "  <tbody>\n",
       "    <tr>\n",
       "      <th>Light</th>\n",
       "      <td>3.796072</td>\n",
       "      <td>3.492519</td>\n",
       "      <td>8.141165</td>\n",
       "      <td>-13.947682</td>\n",
       "    </tr>\n",
       "    <tr>\n",
       "      <th>Medium</th>\n",
       "      <td>-2.331048</td>\n",
       "      <td>-4.005234</td>\n",
       "      <td>-8.556518</td>\n",
       "      <td>14.047233</td>\n",
       "    </tr>\n",
       "    <tr>\n",
       "      <th>Heavy</th>\n",
       "      <td>-7.185069</td>\n",
       "      <td>-2.405282</td>\n",
       "      <td>-7.369259</td>\n",
       "      <td>14.008549</td>\n",
       "    </tr>\n",
       "  </tbody>\n",
       "</table>\n",
       "</div>"
      ],
      "text/plain": [
       "final_result  Distinction      Fail      Pass  Withdrawn\n",
       "course_load                                             \n",
       "Light            3.796072  3.492519  8.141165 -13.947682\n",
       "Medium          -2.331048 -4.005234 -8.556518  14.047233\n",
       "Heavy           -7.185069 -2.405282 -7.369259  14.008549"
      ]
     },
     "execution_count": 26,
     "metadata": {},
     "output_type": "execute_result"
    },
    {
     "name": "stdout",
     "output_type": "stream",
     "text": [
      "time: 16.4 ms\n"
     ]
    }
   ],
   "source": [
    "# pearsons residuals: negatives indicate fewer results than expected, positives indicate more.\n",
    "table.resid_pearson"
   ]
  },
  {
   "cell_type": "markdown",
   "id": "85de7a40-e4e1-4476-97ac-3edc1c2f9db3",
   "metadata": {},
   "source": [
    "From the contingency tables it appears that a light course load contributes positively to Distinction, Pass, and (counterintuitively) Fail, while it contributes negatively to Withdrawn. Conversely,  Medium and Heavy course loads contribute negatively to Distinction, Pass and (again, counterintuitively) Fail,  while they contribute positively to Withdrawn."
   ]
  },
  {
   "cell_type": "markdown",
   "id": "633d8d9d-0a71-4e88-bafc-1f5c770fc88d",
   "metadata": {
    "tags": []
   },
   "source": [
    "### Chi-Square Test for `course_load`\n",
    "Ho = `course_load` and `final_result` are independent.\n",
    "\n",
    "Ha = `course_load` and `final_result` are not independent.\n",
    "\n",
    "alpha = .05"
   ]
  },
  {
   "cell_type": "code",
   "execution_count": 27,
   "id": "5bfc3f62-8117-4e8e-b7fd-b4b830674f3c",
   "metadata": {
    "execution": {
     "iopub.execute_input": "2021-08-27T23:26:43.369396Z",
     "iopub.status.busy": "2021-08-27T23:26:43.368868Z",
     "iopub.status.idle": "2021-08-27T23:26:43.468039Z",
     "shell.execute_reply": "2021-08-27T23:26:43.465915Z",
     "shell.execute_reply.started": "2021-08-27T23:26:43.369351Z"
    },
    "tags": []
   },
   "outputs": [
    {
     "name": "stdout",
     "output_type": "stream",
     "text": [
      "chi-squared = 887.3947035023172\n",
      "p value= 1.9942967713148247e-188\n",
      "degrees of freedom = 6\n",
      "time: 2.35 ms\n"
     ]
    }
   ],
   "source": [
    "# calculating chi-squared,p-value, degrees of freedom\n",
    "f.chi_sq_test(tabs)"
   ]
  },
  {
   "cell_type": "markdown",
   "id": "aa48f354-aec5-4597-b214-d37a77c46fb6",
   "metadata": {},
   "source": [
    "Since the p value is less than our alpha, we reject the null hypothesis and conclude that `course_load` and `final_result` are not independent."
   ]
  },
  {
   "cell_type": "markdown",
   "id": "579eb42d-e048-481e-87a8-7d5ade44b868",
   "metadata": {},
   "source": [
    "#### Result: Course Load and Outcome Are Not Independent"
   ]
  },
  {
   "cell_type": "code",
   "execution_count": 28,
   "id": "579ed650-699e-496d-b723-203e2526adab",
   "metadata": {
    "execution": {
     "iopub.execute_input": "2021-08-27T23:26:43.471412Z",
     "iopub.status.busy": "2021-08-27T23:26:43.470507Z",
     "iopub.status.idle": "2021-08-27T23:26:43.577471Z",
     "shell.execute_reply": "2021-08-27T23:26:43.576083Z",
     "shell.execute_reply.started": "2021-08-27T23:26:43.471339Z"
    },
    "tags": []
   },
   "outputs": [
    {
     "name": "stdout",
     "output_type": "stream",
     "text": [
      "Cramer's V Degrees of Freedom = 2\n",
      "\n",
      "Effect Size Thresholds\n",
      "   Degrees of Freedom  Small Effect  Medium Effect  Large Effect\n",
      "0                 1.0          0.10           0.30          0.50\n",
      "1                 2.0          0.07           0.21          0.35\n",
      "2                 3.0          0.06           0.17          0.29\n",
      "3                 4.0          0.05           0.15          0.25\n",
      "4                 5.0          0.04           0.13          0.22\n",
      "\n",
      "final_result\n",
      "Distinction    0.397083\n",
      "Fail           0.254358\n",
      "Pass           0.194158\n",
      "Withdrawn      0.213852\n",
      "dtype: float64\n",
      "time: 9.7 ms\n"
     ]
    }
   ],
   "source": [
    "# calculating cramer's v to measure the effect sizes\n",
    "f.cramers_v(tabs)"
   ]
  },
  {
   "cell_type": "markdown",
   "id": "51f6af0d-084c-467b-a28d-efff8970428d",
   "metadata": {},
   "source": [
    "Adjusted for degrees of freedom, the Cramer's V results indicate that `course_load` has a small effect on Pass, a medium effect on Withdraw and Fail, and a large effect on Distinction."
   ]
  },
  {
   "cell_type": "markdown",
   "id": "0b922bcb-c367-4fd3-8857-6d4916165301",
   "metadata": {},
   "source": [
    "#### Effect Sizes: Small on Pass, Medium on Withdrawn and Fail, Large on Distinction"
   ]
  },
  {
   "cell_type": "markdown",
   "id": "315b3d60-7ba8-49dd-8b5a-d0739c21194d",
   "metadata": {},
   "source": [
    "## Recommendation\n",
    "Advise students to maintain a modest course loads. We can see from the graph above that nearly half of the students will a heavy course load withdraw before the end of the course, and even at medium load levels there are more withdraws than passes. Hopefully this data can be used to help set realistic expectations with students during matriculation."
   ]
  },
  {
   "cell_type": "markdown",
   "id": "b37d8c19-3095-44bf-b8a9-c254bcdba9f7",
   "metadata": {},
   "source": [
    "## VLE & Assessment Data"
   ]
  },
  {
   "cell_type": "markdown",
   "id": "a6020873-c70a-4735-87b5-9eef2a1d8d85",
   "metadata": {},
   "source": [
    "## Activity Level\n",
    "The `activity_level` feature is a measure of the student's engagment with a course's online materials, and is  calculated by adding the total number of online activities undertaken by the student with the total number of clicks for those activities. The categories are as follows:\n",
    "\n",
    "- 2-456 Total: Very Light \n",
    "- 457-1013 Total: Light\n",
    "- 1014-2029 Total: Medium \n",
    "- 2030-5402 Total: Heavy\n",
    "\n",
    "A Chi-Squared test was performed and it was found that activity level and outcome are not independent(p value= 0.0). Light activity levels contribute negatively to Distinction and  Pass, while they contributes positively to Withdrawn and Fail. Conversely,  Medium and Heavy activity levels contribute positively to Distinction and Pass, while they contribute negatively to Withdrawn and Fail.\n",
    "\n",
    "`activity_level` has a large effect size on all of the outcomes, and the largest effect sizes of all the features tested."
   ]
  },
  {
   "cell_type": "code",
   "execution_count": 29,
   "id": "c657b9be-bfc3-497b-a83b-e6a272bd0928",
   "metadata": {
    "execution": {
     "iopub.execute_input": "2021-08-27T23:26:43.580826Z",
     "iopub.status.busy": "2021-08-27T23:26:43.580164Z",
     "iopub.status.idle": "2021-08-27T23:26:44.278442Z",
     "shell.execute_reply": "2021-08-27T23:26:44.277608Z",
     "shell.execute_reply.started": "2021-08-27T23:26:43.580772Z"
    },
    "tags": []
   },
   "outputs": [
    {
     "data": {
      "image/png": "[encoded data removed]",
      "text/plain": [
       "<Figure size 1440x576 with 1 Axes>"
      ]
     },
     "metadata": {},
     "output_type": "display_data"
    },
    {
     "name": "stdout",
     "output_type": "stream",
     "text": [
      "time: 600 ms\n"
     ]
    }
   ],
   "source": [
    "v.outcomes_sumact(assessment_vle, 'outcomes_sumact')"
   ]
  },
  {
   "cell_type": "markdown",
   "id": "7f215ed2-40c6-4858-a2c4-6a1f5ab396e1",
   "metadata": {},
   "source": [
    "### Activity Level Contingency Table"
   ]
  },
  {
   "cell_type": "code",
   "execution_count": 30,
   "id": "ec616178-23f1-431e-b870-4414c167fd48",
   "metadata": {
    "execution": {
     "iopub.execute_input": "2021-08-27T23:26:44.280216Z",
     "iopub.status.busy": "2021-08-27T23:26:44.279997Z",
     "iopub.status.idle": "2021-08-27T23:26:44.400020Z",
     "shell.execute_reply": "2021-08-27T23:26:44.396270Z",
     "shell.execute_reply.started": "2021-08-27T23:26:44.280190Z"
    },
    "tags": []
   },
   "outputs": [
    {
     "name": "stdout",
     "output_type": "stream",
     "text": [
      "time: 42.3 ms\n"
     ]
    }
   ],
   "source": [
    "# creating a contingency table\n",
    "tabs = pd.crosstab(assessment_vle.activity_level, assessment_vle.final_result)"
   ]
  },
  {
   "cell_type": "code",
   "execution_count": 31,
   "id": "f3042051-4e9c-44bb-980f-2c57188e123a",
   "metadata": {
    "execution": {
     "iopub.execute_input": "2021-08-27T23:26:44.403927Z",
     "iopub.status.busy": "2021-08-27T23:26:44.403175Z",
     "iopub.status.idle": "2021-08-27T23:26:44.517737Z",
     "shell.execute_reply": "2021-08-27T23:26:44.515644Z",
     "shell.execute_reply.started": "2021-08-27T23:26:44.403881Z"
    },
    "tags": []
   },
   "outputs": [
    {
     "name": "stdout",
     "output_type": "stream",
     "text": [
      "time: 1.2 ms\n"
     ]
    }
   ],
   "source": [
    "# creating a statsmodels table object\n",
    "table = sm.stats.Table(tabs)"
   ]
  },
  {
   "cell_type": "code",
   "execution_count": 32,
   "id": "fa2b5270-87ed-4162-b8a3-d6698927d7e3",
   "metadata": {
    "execution": {
     "iopub.execute_input": "2021-08-27T23:26:44.520492Z",
     "iopub.status.busy": "2021-08-27T23:26:44.519662Z",
     "iopub.status.idle": "2021-08-27T23:26:44.631055Z",
     "shell.execute_reply": "2021-08-27T23:26:44.629699Z",
     "shell.execute_reply.started": "2021-08-27T23:26:44.520429Z"
    },
    "tags": []
   },
   "outputs": [
    {
     "data": {
      "text/html": [
       "<div>\n",
       "<style scoped>\n",
       "    .dataframe tbody tr th:only-of-type {\n",
       "        vertical-align: middle;\n",
       "    }\n",
       "\n",
       "    .dataframe tbody tr th {\n",
       "        vertical-align: top;\n",
       "    }\n",
       "\n",
       "    .dataframe thead th {\n",
       "        text-align: right;\n",
       "    }\n",
       "</style>\n",
       "<table border=\"1\" class=\"dataframe\">\n",
       "  <thead>\n",
       "    <tr style=\"text-align: right;\">\n",
       "      <th>final_result</th>\n",
       "      <th>Distinction</th>\n",
       "      <th>Fail</th>\n",
       "      <th>Pass</th>\n",
       "      <th>Withdrawn</th>\n",
       "    </tr>\n",
       "    <tr>\n",
       "      <th>activity_level</th>\n",
       "      <th></th>\n",
       "      <th></th>\n",
       "      <th></th>\n",
       "      <th></th>\n",
       "    </tr>\n",
       "  </thead>\n",
       "  <tbody>\n",
       "    <tr>\n",
       "      <th>Very Light</th>\n",
       "      <td>-18.228301</td>\n",
       "      <td>26.359702</td>\n",
       "      <td>-31.864838</td>\n",
       "      <td>31.241886</td>\n",
       "    </tr>\n",
       "    <tr>\n",
       "      <th>Light</th>\n",
       "      <td>-3.011017</td>\n",
       "      <td>2.820875</td>\n",
       "      <td>-3.809891</td>\n",
       "      <td>4.653149</td>\n",
       "    </tr>\n",
       "    <tr>\n",
       "      <th>Medium</th>\n",
       "      <td>4.649944</td>\n",
       "      <td>-9.770196</td>\n",
       "      <td>13.505704</td>\n",
       "      <td>-12.714837</td>\n",
       "    </tr>\n",
       "    <tr>\n",
       "      <th>Heavy</th>\n",
       "      <td>17.027465</td>\n",
       "      <td>-19.969095</td>\n",
       "      <td>22.828180</td>\n",
       "      <td>-23.852623</td>\n",
       "    </tr>\n",
       "  </tbody>\n",
       "</table>\n",
       "</div>"
      ],
      "text/plain": [
       "final_result    Distinction       Fail       Pass  Withdrawn\n",
       "activity_level                                              \n",
       "Very Light       -18.228301  26.359702 -31.864838  31.241886\n",
       "Light             -3.011017   2.820875  -3.809891   4.653149\n",
       "Medium             4.649944  -9.770196  13.505704 -12.714837\n",
       "Heavy             17.027465 -19.969095  22.828180 -23.852623"
      ]
     },
     "execution_count": 32,
     "metadata": {},
     "output_type": "execute_result"
    },
    {
     "name": "stdout",
     "output_type": "stream",
     "text": [
      "time: 11 ms\n"
     ]
    }
   ],
   "source": [
    "# pearsons residuals: negatives indicate fewer results than expected, positives indicate more.\n",
    "table.resid_pearson"
   ]
  },
  {
   "cell_type": "markdown",
   "id": "3811f0dd-582c-47ae-a032-092c035650b0",
   "metadata": {},
   "source": [
    "From the contingency tables it appears that light activity levels contribute negatively to Distinction and  Pass, while it contributes positively to Withdrawn and Fail. Conversely,  Medium and Heavy activity levels contribute positively to Distinction and Pass, while they contribute negatively to Withdrawn and Fail."
   ]
  },
  {
   "cell_type": "markdown",
   "id": "0ded8525-0c8f-4728-bb87-c6cbd9815600",
   "metadata": {},
   "source": [
    "### Chi-Square Test for `activity_level`\n",
    "Ho = `activity_level` and `final_result` are independent.\n",
    "\n",
    "Ha = `activity_level` and `final_result` are not independent.\n",
    "\n",
    "alpha = .05"
   ]
  },
  {
   "cell_type": "code",
   "execution_count": 33,
   "id": "21f2ba02-2f22-4b04-bd03-adb26e7003be",
   "metadata": {
    "execution": {
     "iopub.execute_input": "2021-08-27T23:26:44.634210Z",
     "iopub.status.busy": "2021-08-27T23:26:44.633766Z",
     "iopub.status.idle": "2021-08-27T23:26:44.702447Z",
     "shell.execute_reply": "2021-08-27T23:26:44.701670Z",
     "shell.execute_reply.started": "2021-08-27T23:26:44.634172Z"
    },
    "tags": []
   },
   "outputs": [
    {
     "name": "stdout",
     "output_type": "stream",
     "text": [
      "chi-squared = 5311.641369904437\n",
      "p value= 0.0\n",
      "degrees of freedom = 9\n",
      "time: 1.93 ms\n"
     ]
    }
   ],
   "source": [
    "# calculating chi-squared,p-value, degrees of freedom\n",
    "f.chi_sq_test(tabs)"
   ]
  },
  {
   "cell_type": "markdown",
   "id": "b07a4eea-0912-41ee-80e0-6fe692b3e557",
   "metadata": {},
   "source": [
    "Since the p value is less than our alpha, we reject the null hypothesis and conclude that `activity_level` and `final_result` are not independent."
   ]
  },
  {
   "cell_type": "markdown",
   "id": "3f422da0-9085-40fc-807e-8f5dfff3a09b",
   "metadata": {},
   "source": [
    "#### Test Result: Activity Level and Outcome Are Not Independent"
   ]
  },
  {
   "cell_type": "code",
   "execution_count": 34,
   "id": "2d43e22e-65c5-49df-aa36-fffae8368601",
   "metadata": {
    "execution": {
     "iopub.execute_input": "2021-08-27T23:26:44.703877Z",
     "iopub.status.busy": "2021-08-27T23:26:44.703686Z",
     "iopub.status.idle": "2021-08-27T23:26:44.792738Z",
     "shell.execute_reply": "2021-08-27T23:26:44.790695Z",
     "shell.execute_reply.started": "2021-08-27T23:26:44.703854Z"
    },
    "tags": []
   },
   "outputs": [
    {
     "name": "stdout",
     "output_type": "stream",
     "text": [
      "Cramer's V Degrees of Freedom = 3\n",
      "\n",
      "Effect Size Thresholds\n",
      "   Degrees of Freedom  Small Effect  Medium Effect  Large Effect\n",
      "0                 1.0          0.10           0.30          0.50\n",
      "1                 2.0          0.07           0.21          0.35\n",
      "2                 3.0          0.06           0.17          0.29\n",
      "3                 4.0          0.05           0.15          0.25\n",
      "4                 5.0          0.04           0.13          0.22\n",
      "\n",
      "final_result\n",
      "Distinction    0.945630\n",
      "Fail           0.579352\n",
      "Pass           0.421517\n",
      "Withdrawn      0.632768\n",
      "dtype: float64\n",
      "time: 13.6 ms\n"
     ]
    }
   ],
   "source": [
    "# calculating cramer's v to measure the effect sizes\n",
    "f.cramers_v(tabs)"
   ]
  },
  {
   "cell_type": "markdown",
   "id": "7ada1634-e712-4f8a-9424-2662ef55a060",
   "metadata": {},
   "source": [
    "Adjusted for degrees of freedom, the Cramer's V results indicate that `activity_level` has a large effect on all of the outcomes."
   ]
  },
  {
   "cell_type": "markdown",
   "id": "aab2e595-c05f-477f-ad51-16945f7bf9b7",
   "metadata": {},
   "source": [
    "## Recommendation\n",
    "Advise students to maintain a medium or higher online activity levels, and initiate an automated reminder system that triggers when a student fall below a predetermined level. Also, initiate an web design assessment and A/B testing program with the goal of identifying ways of driving up student engagement."
   ]
  },
  {
   "cell_type": "markdown",
   "id": "8f498e6f-63b6-4909-8b9b-a5657d4a3c4c",
   "metadata": {},
   "source": [
    "# Modeling\n",
    "\n",
    "Since we wanted to indentify as many unsatisfactory outcomes possible while still minimizing false positives,  F1 was used as the project as the metric. "
   ]
  },
  {
   "cell_type": "markdown",
   "id": "bead6e3e-6490-40a1-82c7-25ef0c195e3f",
   "metadata": {},
   "source": [
    "## Class Balance for the Modeling Data"
   ]
  },
  {
   "cell_type": "code",
   "execution_count": 35,
   "id": "62751a35-f64d-4cf0-aa37-65ffc2162387",
   "metadata": {
    "execution": {
     "iopub.execute_input": "2021-08-27T23:26:44.796129Z",
     "iopub.status.busy": "2021-08-27T23:26:44.795333Z",
     "iopub.status.idle": "2021-08-27T23:26:44.899931Z",
     "shell.execute_reply": "2021-08-27T23:26:44.898811Z",
     "shell.execute_reply.started": "2021-08-27T23:26:44.796002Z"
    },
    "tags": []
   },
   "outputs": [
    {
     "data": {
      "text/plain": [
       "0.0    0.640405\n",
       "1.0    0.359595\n",
       "Name: target, dtype: float64"
      ]
     },
     "execution_count": 35,
     "metadata": {},
     "output_type": "execute_result"
    },
    {
     "name": "stdout",
     "output_type": "stream",
     "text": [
      "time: 7.59 ms\n"
     ]
    }
   ],
   "source": [
    "df.target.value_counts(normalize=True)"
   ]
  },
  {
   "cell_type": "markdown",
   "id": "a70b0713-d3bd-4254-aae8-56b9674082ce",
   "metadata": {
    "tags": []
   },
   "source": [
    "## Features Used\n",
    "\n",
    "The following features will be used in the modeling process:\n",
    "    \n",
    "-  gender: The gender of the student.\n",
    "    \n",
    "-  region: The geographic region of the student.\n",
    "    \n",
    "- highest_education: The education level of the student.\n",
    "    \n",
    "- imd_band: A measure of economic status based on geographic location.\n",
    "    \n",
    "- age_band: The age cohort of the student.\n",
    "    \n",
    "- num_of_prev_attempts: The number of times the student has attempted the class.\n",
    "    \n",
    "- disability: The disability status of the student.\n",
    "\n",
    "- weighted_ave: The weighted average of the student's assessment scores.\n",
    "\n",
    "- mean_score: The student's mean assessment score.\n",
    "\n",
    "- median_score: The student's median assessment score.\n",
    "\n",
    "- sum_activity: The sum of the activities, and the number of clicks for each activity, that the student logged.\n",
    "\n",
    "- course_load: A three level categorization of the total credits the student was enrolled at the time of the  course.\n",
    "    "
   ]
  },
  {
   "cell_type": "markdown",
   "id": "b056d20d-f86c-4acf-8700-e3d21062f35b",
   "metadata": {},
   "source": [
    "## Summary Statistics for the Numerical Features"
   ]
  },
  {
   "cell_type": "code",
   "execution_count": 36,
   "id": "a646d944-0b3c-4dec-bb96-87d1fa0fee57",
   "metadata": {
    "execution": {
     "iopub.execute_input": "2021-08-27T23:26:44.901706Z",
     "iopub.status.busy": "2021-08-27T23:26:44.901480Z",
     "iopub.status.idle": "2021-08-27T23:26:45.023014Z",
     "shell.execute_reply": "2021-08-27T23:26:45.022025Z",
     "shell.execute_reply.started": "2021-08-27T23:26:44.901679Z"
    },
    "tags": []
   },
   "outputs": [
    {
     "data": {
      "text/html": [
       "<div>\n",
       "<style scoped>\n",
       "    .dataframe tbody tr th:only-of-type {\n",
       "        vertical-align: middle;\n",
       "    }\n",
       "\n",
       "    .dataframe tbody tr th {\n",
       "        vertical-align: top;\n",
       "    }\n",
       "\n",
       "    .dataframe thead th {\n",
       "        text-align: right;\n",
       "    }\n",
       "</style>\n",
       "<table border=\"1\" class=\"dataframe\">\n",
       "  <thead>\n",
       "    <tr style=\"text-align: right;\">\n",
       "      <th></th>\n",
       "      <th>target</th>\n",
       "      <th>num_of_prev_attempts</th>\n",
       "      <th>weighted_ave</th>\n",
       "      <th>mean_score</th>\n",
       "      <th>median_score</th>\n",
       "      <th>sum_activity</th>\n",
       "    </tr>\n",
       "  </thead>\n",
       "  <tbody>\n",
       "    <tr>\n",
       "      <th>count</th>\n",
       "      <td>19458.000000</td>\n",
       "      <td>19458.000000</td>\n",
       "      <td>19458.000000</td>\n",
       "      <td>19458.000000</td>\n",
       "      <td>19458.000000</td>\n",
       "      <td>19458.000000</td>\n",
       "    </tr>\n",
       "    <tr>\n",
       "      <th>mean</th>\n",
       "      <td>0.359595</td>\n",
       "      <td>0.140713</td>\n",
       "      <td>106.436972</td>\n",
       "      <td>74.288758</td>\n",
       "      <td>74.583256</td>\n",
       "      <td>901.266780</td>\n",
       "    </tr>\n",
       "    <tr>\n",
       "      <th>std</th>\n",
       "      <td>0.479894</td>\n",
       "      <td>0.449925</td>\n",
       "      <td>65.628103</td>\n",
       "      <td>15.207932</td>\n",
       "      <td>15.078946</td>\n",
       "      <td>724.074213</td>\n",
       "    </tr>\n",
       "    <tr>\n",
       "      <th>min</th>\n",
       "      <td>0.000000</td>\n",
       "      <td>0.000000</td>\n",
       "      <td>0.000000</td>\n",
       "      <td>0.000000</td>\n",
       "      <td>0.000000</td>\n",
       "      <td>2.000000</td>\n",
       "    </tr>\n",
       "    <tr>\n",
       "      <th>25%</th>\n",
       "      <td>0.000000</td>\n",
       "      <td>0.000000</td>\n",
       "      <td>60.800000</td>\n",
       "      <td>66.400000</td>\n",
       "      <td>66.500000</td>\n",
       "      <td>345.000000</td>\n",
       "    </tr>\n",
       "    <tr>\n",
       "      <th>50%</th>\n",
       "      <td>0.000000</td>\n",
       "      <td>0.000000</td>\n",
       "      <td>113.020000</td>\n",
       "      <td>77.400000</td>\n",
       "      <td>77.500000</td>\n",
       "      <td>694.000000</td>\n",
       "    </tr>\n",
       "    <tr>\n",
       "      <th>75%</th>\n",
       "      <td>1.000000</td>\n",
       "      <td>0.000000</td>\n",
       "      <td>152.000000</td>\n",
       "      <td>85.000000</td>\n",
       "      <td>85.000000</td>\n",
       "      <td>1268.750000</td>\n",
       "    </tr>\n",
       "    <tr>\n",
       "      <th>max</th>\n",
       "      <td>1.000000</td>\n",
       "      <td>6.000000</td>\n",
       "      <td>299.920000</td>\n",
       "      <td>100.000000</td>\n",
       "      <td>100.000000</td>\n",
       "      <td>3179.000000</td>\n",
       "    </tr>\n",
       "  </tbody>\n",
       "</table>\n",
       "</div>"
      ],
      "text/plain": [
       "             target  num_of_prev_attempts  weighted_ave    mean_score  \\\n",
       "count  19458.000000          19458.000000  19458.000000  19458.000000   \n",
       "mean       0.359595              0.140713    106.436972     74.288758   \n",
       "std        0.479894              0.449925     65.628103     15.207932   \n",
       "min        0.000000              0.000000      0.000000      0.000000   \n",
       "25%        0.000000              0.000000     60.800000     66.400000   \n",
       "50%        0.000000              0.000000    113.020000     77.400000   \n",
       "75%        1.000000              0.000000    152.000000     85.000000   \n",
       "max        1.000000              6.000000    299.920000    100.000000   \n",
       "\n",
       "       median_score  sum_activity  \n",
       "count  19458.000000  19458.000000  \n",
       "mean      74.583256    901.266780  \n",
       "std       15.078946    724.074213  \n",
       "min        0.000000      2.000000  \n",
       "25%       66.500000    345.000000  \n",
       "50%       77.500000    694.000000  \n",
       "75%       85.000000   1268.750000  \n",
       "max      100.000000   3179.000000  "
      ]
     },
     "execution_count": 36,
     "metadata": {},
     "output_type": "execute_result"
    },
    {
     "name": "stdout",
     "output_type": "stream",
     "text": [
      "time: 47.2 ms\n"
     ]
    }
   ],
   "source": [
    "df.describe()"
   ]
  },
  {
   "cell_type": "markdown",
   "id": "7c3399d4-1a3b-4541-b104-1d769c001002",
   "metadata": {
    "tags": []
   },
   "source": [
    "## Baseline Model: Dummy Classifier\n",
    "The classifier will predict the minority class for each observation. In terms of the business case, this would represent a situation where all of the students need interventions."
   ]
  },
  {
   "cell_type": "code",
   "execution_count": 37,
   "id": "eb4d995d-debe-4992-aa7c-e23bbc2e32de",
   "metadata": {
    "execution": {
     "iopub.execute_input": "2021-08-27T23:26:45.024651Z",
     "iopub.status.busy": "2021-08-27T23:26:45.024434Z",
     "iopub.status.idle": "2021-08-27T23:26:45.127861Z",
     "shell.execute_reply": "2021-08-27T23:26:45.126272Z",
     "shell.execute_reply.started": "2021-08-27T23:26:45.024625Z"
    },
    "tags": []
   },
   "outputs": [
    {
     "name": "stdout",
     "output_type": "stream",
     "text": [
      "time: 27.8 ms\n"
     ]
    }
   ],
   "source": [
    "baseline = f.load_model('baseline')"
   ]
  },
  {
   "cell_type": "markdown",
   "id": "3d6cdd74-68d9-41d3-9de1-b901d74f86c0",
   "metadata": {},
   "source": [
    "### Average Training Metrics"
   ]
  },
  {
   "cell_type": "code",
   "execution_count": 38,
   "id": "f77bb6ae-bc8a-404d-b065-642a86a48b1d",
   "metadata": {
    "execution": {
     "iopub.execute_input": "2021-08-27T23:26:45.131681Z",
     "iopub.status.busy": "2021-08-27T23:26:45.131042Z",
     "iopub.status.idle": "2021-08-27T23:26:45.471138Z",
     "shell.execute_reply": "2021-08-27T23:26:45.470287Z",
     "shell.execute_reply.started": "2021-08-27T23:26:45.131577Z"
    },
    "tags": []
   },
   "outputs": [
    {
     "name": "stdout",
     "output_type": "stream",
     "text": [
      " Baseline has an average Accuracy of 0.3596491264699766\n",
      " Baseline has an average F1 of 0.5290322368027472\n",
      " Baseline has an average Recall of 1.0\n",
      " Baseline has an average Precision of 0.3596491264699766\n",
      "time: 246 ms\n"
     ]
    }
   ],
   "source": [
    "with warnings.catch_warnings():\n",
    "    warnings.simplefilter('ignore')\n",
    "    modeling.report(baseline, X_train, y_train, ' Baseline', 'Baseline DummyCFL')"
   ]
  },
  {
   "cell_type": "markdown",
   "id": "b62c8c5e-c24d-4940-8c94-82d1ccbd7832",
   "metadata": {},
   "source": [
    "### Test Data Confusion Matrix"
   ]
  },
  {
   "cell_type": "code",
   "execution_count": 39,
   "id": "f974f4b7-f875-40d5-ad2a-18c9e156cc21",
   "metadata": {
    "execution": {
     "iopub.execute_input": "2021-08-27T23:26:45.473144Z",
     "iopub.status.busy": "2021-08-27T23:26:45.472841Z",
     "iopub.status.idle": "2021-08-27T23:26:45.968185Z",
     "shell.execute_reply": "2021-08-27T23:26:45.967535Z",
     "shell.execute_reply.started": "2021-08-27T23:26:45.473117Z"
    },
    "tags": []
   },
   "outputs": [
    {
     "data": {
      "image/png": "[encoded data removed]",
      "text/plain": [
       "<Figure size 504x504 with 2 Axes>"
      ]
     },
     "metadata": {},
     "output_type": "display_data"
    },
    {
     "data": {
      "text/html": [
       "<div>\n",
       "<style scoped>\n",
       "    .dataframe tbody tr th:only-of-type {\n",
       "        vertical-align: middle;\n",
       "    }\n",
       "\n",
       "    .dataframe tbody tr th {\n",
       "        vertical-align: top;\n",
       "    }\n",
       "\n",
       "    .dataframe thead th {\n",
       "        text-align: right;\n",
       "    }\n",
       "</style>\n",
       "<table border=\"1\" class=\"dataframe\">\n",
       "  <thead>\n",
       "    <tr style=\"text-align: right;\">\n",
       "      <th></th>\n",
       "      <th>Accuracy</th>\n",
       "      <th>F1</th>\n",
       "      <th>Recall</th>\n",
       "      <th>Precision</th>\n",
       "    </tr>\n",
       "  </thead>\n",
       "  <tbody>\n",
       "    <tr>\n",
       "      <th>0</th>\n",
       "      <td>0.359551</td>\n",
       "      <td>0.528926</td>\n",
       "      <td>1.0</td>\n",
       "      <td>0.359551</td>\n",
       "    </tr>\n",
       "  </tbody>\n",
       "</table>\n",
       "</div>"
      ],
      "text/plain": [
       "   Accuracy        F1  Recall  Precision\n",
       "0  0.359551  0.528926     1.0   0.359551"
      ]
     },
     "execution_count": 39,
     "metadata": {},
     "output_type": "execute_result"
    },
    {
     "name": "stdout",
     "output_type": "stream",
     "text": [
      "time: 348 ms\n"
     ]
    }
   ],
   "source": [
    "%%capture --no-display\n",
    "f.confusion_report(baseline, X_test, y_test, 'baseline')"
   ]
  },
  {
   "cell_type": "markdown",
   "id": "c8acf42b-89fc-42e4-a128-f3a2bb25119b",
   "metadata": {},
   "source": [
    "## Score Interpretation:\n",
    "\n",
    "F1 is a mix of both precision and recall, so the interpretation of the results is more easily given in terms of recall and precision.\n",
    "\n",
    "- From the confusion matrix we see that the baseline model is classifying everything as the minority class, which was expected.\n",
    "- All Unsatisfactory outcomes were correctly classified as Unsatisfactory, so the recall score for this model is 1. \n",
    "- The precision score of .36 indicates that 36% of outcomes classified as Unsatisfactory were truly Unsatisfactory."
   ]
  },
  {
   "cell_type": "markdown",
   "id": "32639a34-0233-4bd8-8515-338b7f87cfe4",
   "metadata": {
    "tags": []
   },
   "source": [
    "## First Simple Model: Naive Bayes Classifier"
   ]
  },
  {
   "cell_type": "code",
   "execution_count": 40,
   "id": "790f7934-4b82-4307-9673-31c27d8f9af3",
   "metadata": {
    "execution": {
     "iopub.execute_input": "2021-08-27T23:26:45.975977Z",
     "iopub.status.busy": "2021-08-27T23:26:45.975670Z",
     "iopub.status.idle": "2021-08-27T23:26:46.034884Z",
     "shell.execute_reply": "2021-08-27T23:26:46.032960Z",
     "shell.execute_reply.started": "2021-08-27T23:26:45.975948Z"
    }
   },
   "outputs": [
    {
     "name": "stdout",
     "output_type": "stream",
     "text": [
      "time: 5.27 ms\n"
     ]
    }
   ],
   "source": [
    "fsm = f.load_model('fsm')"
   ]
  },
  {
   "cell_type": "markdown",
   "id": "9de001af-f1bb-4357-b029-8427d812ad8d",
   "metadata": {},
   "source": [
    "### Average Training Metrics"
   ]
  },
  {
   "cell_type": "code",
   "execution_count": 41,
   "id": "f03ca354-1e12-4000-8957-c6bc3b5c217d",
   "metadata": {
    "execution": {
     "iopub.execute_input": "2021-08-27T23:26:46.037438Z",
     "iopub.status.busy": "2021-08-27T23:26:46.036862Z",
     "iopub.status.idle": "2021-08-27T23:26:46.418544Z",
     "shell.execute_reply": "2021-08-27T23:26:46.417543Z",
     "shell.execute_reply.started": "2021-08-27T23:26:46.037365Z"
    },
    "tags": []
   },
   "outputs": [
    {
     "name": "stdout",
     "output_type": "stream",
     "text": [
      " fsm has an average Accuracy of 0.6447369805651159\n",
      " fsm has an average F1 of 0.27759213371791497\n",
      " fsm has an average Recall of 0.18978579583201646\n",
      " fsm has an average Precision of 0.5175573546203541\n",
      "time: 292 ms\n"
     ]
    }
   ],
   "source": [
    "# checking cross val scores\n",
    "modeling.report(fsm, X_train, y_train, ' fsm', 'FSM Naive Bayes')"
   ]
  },
  {
   "cell_type": "markdown",
   "id": "2352ed92-591c-4957-938b-7c3ba80f49e4",
   "metadata": {},
   "source": [
    "### Test Data Confusion Matrix"
   ]
  },
  {
   "cell_type": "code",
   "execution_count": 42,
   "id": "b9a39122-1f0d-45c9-b3c6-00fae88e2df6",
   "metadata": {
    "execution": {
     "iopub.execute_input": "2021-08-27T23:26:46.420117Z",
     "iopub.status.busy": "2021-08-27T23:26:46.419926Z",
     "iopub.status.idle": "2021-08-27T23:26:46.892146Z",
     "shell.execute_reply": "2021-08-27T23:26:46.891479Z",
     "shell.execute_reply.started": "2021-08-27T23:26:46.420096Z"
    },
    "tags": []
   },
   "outputs": [
    {
     "data": {
      "image/png": "[encoded data removed]",
      "text/plain": [
       "<Figure size 504x504 with 2 Axes>"
      ]
     },
     "metadata": {},
     "output_type": "display_data"
    },
    {
     "data": {
      "text/html": [
       "<div>\n",
       "<style scoped>\n",
       "    .dataframe tbody tr th:only-of-type {\n",
       "        vertical-align: middle;\n",
       "    }\n",
       "\n",
       "    .dataframe tbody tr th {\n",
       "        vertical-align: top;\n",
       "    }\n",
       "\n",
       "    .dataframe thead th {\n",
       "        text-align: right;\n",
       "    }\n",
       "</style>\n",
       "<table border=\"1\" class=\"dataframe\">\n",
       "  <thead>\n",
       "    <tr style=\"text-align: right;\">\n",
       "      <th></th>\n",
       "      <th>Accuracy</th>\n",
       "      <th>F1</th>\n",
       "      <th>Recall</th>\n",
       "      <th>Precision</th>\n",
       "    </tr>\n",
       "  </thead>\n",
       "  <tbody>\n",
       "    <tr>\n",
       "      <th>0</th>\n",
       "      <td>0.647575</td>\n",
       "      <td>0.276715</td>\n",
       "      <td>0.1875</td>\n",
       "      <td>0.527897</td>\n",
       "    </tr>\n",
       "  </tbody>\n",
       "</table>\n",
       "</div>"
      ],
      "text/plain": [
       "   Accuracy        F1  Recall  Precision\n",
       "0  0.647575  0.276715  0.1875   0.527897"
      ]
     },
     "execution_count": 42,
     "metadata": {},
     "output_type": "execute_result"
    },
    {
     "name": "stdout",
     "output_type": "stream",
     "text": [
      "time: 402 ms\n"
     ]
    }
   ],
   "source": [
    "f.confusion_report(fsm, X_test, y_test, 'fsm')"
   ]
  },
  {
   "cell_type": "markdown",
   "id": "af1f8eb1-6fbf-499e-ac80-da58e457b67a",
   "metadata": {},
   "source": [
    "## Score Interpretation:\n",
    "\n",
    "- From the confusion matrix we see that the first simple model is classifying outcomes slightly better than baseline.\n",
    "- The recall score of .19 indicates that about 19% outcomes were correctly classified as Unsatisfactory. \n",
    "- The precision score .53 indicates that about 53% of outcomes classified as Unsatisfactory were truly Unsatisfactory."
   ]
  },
  {
   "cell_type": "markdown",
   "id": "b3ddec6b-d6c2-4b6e-887c-f3f9efe14c7e",
   "metadata": {},
   "source": [
    "# Intermediate Modeling and Adjustments\n",
    "\n",
    "**Algorithms Tested**\n",
    "\n",
    "KNN, Linear SVC , Decision Tree, Logistic Regression, AdaBoost, Support Vector CLF, Bagging CLF, Random Forest, XGBoost CLF\n",
    "\n",
    "**Standard Scaling**\n",
    "\n",
    "Since a few of the numerical features differ by orders of magnitude, standard scaling was implemented to aid in model convergence and performance.\n",
    "\n",
    "**SMOTE**\n",
    "\n",
    "Since the classes have an imbalance of around 2 to 1, SMOTE was added to the pipeline in an attempt to aid model performance.\n",
    "\n",
    "**Hyper Parameter Tuning**\n",
    "\n",
    "After the final model was chosen, hyperparameter tuning was performed using Random Search Cross validation."
   ]
  },
  {
   "cell_type": "markdown",
   "id": "e5fcd943-8046-45b2-9284-099a19cb9260",
   "metadata": {},
   "source": [
    "# Final Model: Voting Classifier \n",
    "## (Bagging CLF, Random Forest CLF, XGBoost CLF)"
   ]
  },
  {
   "cell_type": "code",
   "execution_count": 43,
   "id": "3195ebb8-89e5-42f6-9ca2-4d52690c8a7c",
   "metadata": {
    "execution": {
     "iopub.execute_input": "2021-08-27T23:26:46.893634Z",
     "iopub.status.busy": "2021-08-27T23:26:46.893454Z",
     "iopub.status.idle": "2021-08-27T23:26:46.967902Z",
     "shell.execute_reply": "2021-08-27T23:26:46.966687Z",
     "shell.execute_reply.started": "2021-08-27T23:26:46.893613Z"
    },
    "tags": []
   },
   "outputs": [
    {
     "name": "stdout",
     "output_type": "stream",
     "text": [
      "time: 18.6 ms\n"
     ]
    }
   ],
   "source": [
    "best_model = f.load_model('final')"
   ]
  },
  {
   "cell_type": "markdown",
   "id": "ede665b4-edcd-4565-8200-2d5977ae3070",
   "metadata": {},
   "source": [
    "## Average Training Metrics"
   ]
  },
  {
   "cell_type": "code",
   "execution_count": 44,
   "id": "df4137d8-34a5-4d99-b4d0-50d8a2ac9209",
   "metadata": {
    "execution": {
     "iopub.execute_input": "2021-08-27T23:26:46.970129Z",
     "iopub.status.busy": "2021-08-27T23:26:46.969634Z",
     "iopub.status.idle": "2021-08-27T23:27:03.871955Z",
     "shell.execute_reply": "2021-08-27T23:27:03.870653Z",
     "shell.execute_reply.started": "2021-08-27T23:26:46.970086Z"
    },
    "tags": []
   },
   "outputs": [
    {
     "name": "stdout",
     "output_type": "stream",
     "text": [
      "best_model has an average Accuracy of 0.7593199920159213\n",
      "best_model has an average F1 of 0.6613449865812424\n",
      "best_model has an average Recall of 0.653456227142848\n",
      "best_model has an average Precision of 0.6696263324427678\n",
      "time: 16.8 s\n"
     ]
    }
   ],
   "source": [
    "modeling.report(best_model, X_train, y_train, 'best_model',\\\n",
    "                'Tuned Voting CLF SS()/SMOTE SOFT')"
   ]
  },
  {
   "cell_type": "markdown",
   "id": "e9047a51-7f19-43d3-9fc9-1fb32d2337e9",
   "metadata": {},
   "source": [
    "### Test Data Confusion Matrix"
   ]
  },
  {
   "cell_type": "code",
   "execution_count": 45,
   "id": "a07c5548-f69b-4a69-9931-705423a46db5",
   "metadata": {
    "execution": {
     "iopub.execute_input": "2021-08-27T23:27:03.875031Z",
     "iopub.status.busy": "2021-08-27T23:27:03.874543Z",
     "iopub.status.idle": "2021-08-27T23:27:04.776702Z",
     "shell.execute_reply": "2021-08-27T23:27:04.776145Z",
     "shell.execute_reply.started": "2021-08-27T23:27:03.874979Z"
    },
    "tags": []
   },
   "outputs": [
    {
     "data": {
      "image/png": "[encoded data removed]",
      "text/plain": [
       "<Figure size 504x504 with 2 Axes>"
      ]
     },
     "metadata": {},
     "output_type": "display_data"
    },
    {
     "data": {
      "text/html": [
       "<div>\n",
       "<style scoped>\n",
       "    .dataframe tbody tr th:only-of-type {\n",
       "        vertical-align: middle;\n",
       "    }\n",
       "\n",
       "    .dataframe tbody tr th {\n",
       "        vertical-align: top;\n",
       "    }\n",
       "\n",
       "    .dataframe thead th {\n",
       "        text-align: right;\n",
       "    }\n",
       "</style>\n",
       "<table border=\"1\" class=\"dataframe\">\n",
       "  <thead>\n",
       "    <tr style=\"text-align: right;\">\n",
       "      <th></th>\n",
       "      <th>Accuracy</th>\n",
       "      <th>F1</th>\n",
       "      <th>Recall</th>\n",
       "      <th>Precision</th>\n",
       "    </tr>\n",
       "  </thead>\n",
       "  <tbody>\n",
       "    <tr>\n",
       "      <th>0</th>\n",
       "      <td>0.767608</td>\n",
       "      <td>0.669782</td>\n",
       "      <td>0.655488</td>\n",
       "      <td>0.684713</td>\n",
       "    </tr>\n",
       "  </tbody>\n",
       "</table>\n",
       "</div>"
      ],
      "text/plain": [
       "   Accuracy        F1    Recall  Precision\n",
       "0  0.767608  0.669782  0.655488   0.684713"
      ]
     },
     "execution_count": 45,
     "metadata": {},
     "output_type": "execute_result"
    },
    {
     "name": "stdout",
     "output_type": "stream",
     "text": [
      "time: 774 ms\n"
     ]
    }
   ],
   "source": [
    "f.confusion_report(best_model, X_test, y_test, 'final_model')"
   ]
  },
  {
   "cell_type": "markdown",
   "id": "a9152508-d45a-4af9-97df-9cb884a708de",
   "metadata": {
    "tags": []
   },
   "source": [
    "## Score Interpretation:\n",
    "\n",
    "Upon validation with the test data we see that the model is still having some trouble the minority class, but performance has been improved to a level that is acceptable for our purposes.\n",
    "\n",
    "- The recall score of .66 indicates that about 66% outcomes were correctly classified as Unsatisfactory.\n",
    "- The precision score .68 indicates that about 68% of outcomes classified as Unsatisfactory were truly Unsatisfactory."
   ]
  },
  {
   "cell_type": "markdown",
   "id": "1e648b26-c461-4a6f-bbe9-640dcd8a7190",
   "metadata": {
    "tags": []
   },
   "source": [
    "## Modeling Summary Average Training Scores"
   ]
  },
  {
   "cell_type": "code",
   "execution_count": 46,
   "id": "0b2f551a-9536-4965-8a85-37b1943c2fef",
   "metadata": {
    "execution": {
     "iopub.execute_input": "2021-08-27T23:27:04.777754Z",
     "iopub.status.busy": "2021-08-27T23:27:04.777603Z",
     "iopub.status.idle": "2021-08-27T23:27:04.842854Z",
     "shell.execute_reply": "2021-08-27T23:27:04.841482Z",
     "shell.execute_reply.started": "2021-08-27T23:27:04.777736Z"
    },
    "tags": []
   },
   "outputs": [
    {
     "data": {
      "text/html": [
       "<div>\n",
       "<style scoped>\n",
       "    .dataframe tbody tr th:only-of-type {\n",
       "        vertical-align: middle;\n",
       "    }\n",
       "\n",
       "    .dataframe tbody tr th {\n",
       "        vertical-align: top;\n",
       "    }\n",
       "\n",
       "    .dataframe thead th {\n",
       "        text-align: right;\n",
       "    }\n",
       "</style>\n",
       "<table border=\"1\" class=\"dataframe\">\n",
       "  <thead>\n",
       "    <tr style=\"text-align: right;\">\n",
       "      <th></th>\n",
       "      <th>Name</th>\n",
       "      <th>Accuracy</th>\n",
       "      <th>F1</th>\n",
       "      <th>Recall</th>\n",
       "      <th>Precision</th>\n",
       "      <th>CV_Time(sec)</th>\n",
       "      <th>Notes</th>\n",
       "    </tr>\n",
       "  </thead>\n",
       "  <tbody>\n",
       "    <tr>\n",
       "      <th>0</th>\n",
       "      <td>fsm</td>\n",
       "      <td>0.644737</td>\n",
       "      <td>0.277592</td>\n",
       "      <td>0.189786</td>\n",
       "      <td>0.517557</td>\n",
       "      <td>0.287411</td>\n",
       "      <td>FSM Naive Bayes</td>\n",
       "    </tr>\n",
       "    <tr>\n",
       "      <th>1</th>\n",
       "      <td>Baseline</td>\n",
       "      <td>0.359649</td>\n",
       "      <td>0.529032</td>\n",
       "      <td>1.000000</td>\n",
       "      <td>0.359649</td>\n",
       "      <td>0.241622</td>\n",
       "      <td>Baseline DummyCFL</td>\n",
       "    </tr>\n",
       "    <tr>\n",
       "      <th>2</th>\n",
       "      <td>best_model</td>\n",
       "      <td>0.759320</td>\n",
       "      <td>0.661345</td>\n",
       "      <td>0.653456</td>\n",
       "      <td>0.669626</td>\n",
       "      <td>16.795040</td>\n",
       "      <td>Tuned Voting CLF SS()/SMOTE SOFT</td>\n",
       "    </tr>\n",
       "  </tbody>\n",
       "</table>\n",
       "</div>"
      ],
      "text/plain": [
       "         Name  Accuracy        F1    Recall  Precision  CV_Time(sec)  \\\n",
       "0         fsm  0.644737  0.277592  0.189786   0.517557      0.287411   \n",
       "1    Baseline  0.359649  0.529032  1.000000   0.359649      0.241622   \n",
       "2  best_model  0.759320  0.661345  0.653456   0.669626     16.795040   \n",
       "\n",
       "                              Notes  \n",
       "0                   FSM Naive Bayes  \n",
       "1                 Baseline DummyCFL  \n",
       "2  Tuned Voting CLF SS()/SMOTE SOFT  "
      ]
     },
     "execution_count": 46,
     "metadata": {},
     "output_type": "execute_result"
    },
    {
     "name": "stdout",
     "output_type": "stream",
     "text": [
      "time: 10.9 ms\n"
     ]
    }
   ],
   "source": [
    "modeling.history"
   ]
  },
  {
   "cell_type": "markdown",
   "id": "fcdaa4da-5baa-4a53-8814-fe8fe9933ea6",
   "metadata": {
    "tags": []
   },
   "source": [
    "# F1 Permutation Importances"
   ]
  },
  {
   "cell_type": "code",
   "execution_count": 47,
   "id": "f3dd6183-4d5e-4edc-ae4e-3029c73ba19f",
   "metadata": {
    "execution": {
     "iopub.execute_input": "2021-08-27T23:27:04.846935Z",
     "iopub.status.busy": "2021-08-27T23:27:04.846345Z",
     "iopub.status.idle": "2021-08-27T23:27:13.089012Z",
     "shell.execute_reply": "2021-08-27T23:27:13.088453Z",
     "shell.execute_reply.started": "2021-08-27T23:27:04.846885Z"
    },
    "tags": []
   },
   "outputs": [
    {
     "data": {
      "image/png": "[encoded data removed]",
      "text/plain": [
       "<Figure size 1152x576 with 1 Axes>"
      ]
     },
     "metadata": {},
     "output_type": "display_data"
    },
    {
     "name": "stdout",
     "output_type": "stream",
     "text": [
      "time: 8.15 s\n"
     ]
    }
   ],
   "source": [
    "f.perm_importances(best_model, X_test, y_test, 'f1', 'perm_importances')"
   ]
  },
  {
   "cell_type": "markdown",
   "id": "9684b3e3-1708-4f3b-a4fd-0b8b48919fe4",
   "metadata": {},
   "source": [
    "The assessment score features (median_score, mean_score & weighted_ave) are the main drivers of the model, with mean_score being the greatest. Interestingly, some of the most statistically significant features (imd_band, highest_education, and course_load) have little to no effect on the model."
   ]
  },
  {
   "cell_type": "markdown",
   "id": "efef6272-8815-4bf3-ad6e-efde09936787",
   "metadata": {},
   "source": [
    "# Validating the Model on Holdout Data"
   ]
  },
  {
   "cell_type": "markdown",
   "id": "243e8513-2788-44c9-85a4-76b2b117be1a",
   "metadata": {},
   "source": [
    "### Average Metrics"
   ]
  },
  {
   "cell_type": "code",
   "execution_count": 48,
   "id": "ce6bca81-8cf7-426a-8f3c-667521fc280b",
   "metadata": {
    "execution": {
     "iopub.execute_input": "2021-08-27T23:27:13.090325Z",
     "iopub.status.busy": "2021-08-27T23:27:13.089913Z",
     "iopub.status.idle": "2021-08-27T23:27:16.517748Z",
     "shell.execute_reply": "2021-08-27T23:27:16.516361Z",
     "shell.execute_reply.started": "2021-08-27T23:27:13.090304Z"
    },
    "tags": []
   },
   "outputs": [
    {
     "name": "stdout",
     "output_type": "stream",
     "text": [
      "best_model has an average Accuracy of 0.7408016443987667\n",
      "best_model has an average F1 of 0.6306630954880841\n",
      "best_model has an average Recall of 0.6157707736389685\n",
      "best_model has an average Precision of 0.6465969439341758\n",
      "time: 3.37 s\n"
     ]
    }
   ],
   "source": [
    "# checking cross val scores\n",
    "modeling.report(best_model, X_holdout, y_holdout, 'best_model',\\\n",
    "                'Tuned Voting CLF SS()/SMOTE SOFT HOLDOUT')"
   ]
  },
  {
   "cell_type": "markdown",
   "id": "784105f9-5dc3-41e1-bda1-016ab2c32302",
   "metadata": {
    "tags": []
   },
   "source": [
    "### Holdout Data Confusion Matrix"
   ]
  },
  {
   "cell_type": "code",
   "execution_count": 49,
   "id": "92723ef3-cebb-4118-9113-5e88fd6d57b7",
   "metadata": {
    "execution": {
     "iopub.execute_input": "2021-08-27T23:27:16.521446Z",
     "iopub.status.busy": "2021-08-27T23:27:16.520765Z",
     "iopub.status.idle": "2021-08-27T23:27:17.362330Z",
     "shell.execute_reply": "2021-08-27T23:27:17.361739Z",
     "shell.execute_reply.started": "2021-08-27T23:27:16.521404Z"
    },
    "tags": []
   },
   "outputs": [
    {
     "data": {
      "image/png": "[encoded data removed]",
      "text/plain": [
       "<Figure size 504x504 with 2 Axes>"
      ]
     },
     "metadata": {},
     "output_type": "display_data"
    },
    {
     "data": {
      "text/html": [
       "<div>\n",
       "<style scoped>\n",
       "    .dataframe tbody tr th:only-of-type {\n",
       "        vertical-align: middle;\n",
       "    }\n",
       "\n",
       "    .dataframe tbody tr th {\n",
       "        vertical-align: top;\n",
       "    }\n",
       "\n",
       "    .dataframe thead th {\n",
       "        text-align: right;\n",
       "    }\n",
       "</style>\n",
       "<table border=\"1\" class=\"dataframe\">\n",
       "  <thead>\n",
       "    <tr style=\"text-align: right;\">\n",
       "      <th></th>\n",
       "      <th>Accuracy</th>\n",
       "      <th>F1</th>\n",
       "      <th>Recall</th>\n",
       "      <th>Precision</th>\n",
       "    </tr>\n",
       "  </thead>\n",
       "  <tbody>\n",
       "    <tr>\n",
       "      <th>0</th>\n",
       "      <td>0.759712</td>\n",
       "      <td>0.657084</td>\n",
       "      <td>0.640366</td>\n",
       "      <td>0.674699</td>\n",
       "    </tr>\n",
       "  </tbody>\n",
       "</table>\n",
       "</div>"
      ],
      "text/plain": [
       "   Accuracy        F1    Recall  Precision\n",
       "0  0.759712  0.657084  0.640366   0.674699"
      ]
     },
     "execution_count": 49,
     "metadata": {},
     "output_type": "execute_result"
    },
    {
     "name": "stdout",
     "output_type": "stream",
     "text": [
      "time: 732 ms\n"
     ]
    }
   ],
   "source": [
    "f.confusion_report(best_model, X_holdout, y_holdout)"
   ]
  },
  {
   "cell_type": "markdown",
   "id": "e6b1005c-9b05-49b3-bc97-6c0265f88aff",
   "metadata": {
    "tags": []
   },
   "source": [
    "## Score Interpretation:\n",
    "\n",
    "Upon validation with the holdout data we see that the model is still having some trouble the minority class, but performance is at a level that is acceptable for our purposes.\n",
    "\n",
    "- The recall score of .64 indicates that about 64% outcomes were correctly classified as Unsatisfactory.\n",
    "- The precision score .67 indicates that about 67% of outcomes classified as Unsatisfactory were truly Unsatisfactory."
   ]
  },
  {
   "cell_type": "markdown",
   "id": "183d6081-f5db-446e-a618-f5ba973fd6b1",
   "metadata": {
    "execution": {
     "iopub.execute_input": "2021-08-20T04:28:38.557139Z",
     "iopub.status.busy": "2021-08-20T04:28:38.556833Z",
     "iopub.status.idle": "2021-08-20T04:28:38.626604Z",
     "shell.execute_reply": "2021-08-20T04:28:38.626093Z",
     "shell.execute_reply.started": "2021-08-20T04:28:38.557109Z"
    },
    "tags": []
   },
   "source": [
    "## Unsatisfactory Class Error Analysis\n",
    "The model is moderately successful, but let's dig into the errors to see iif there are steps that can be taken to improve performance."
   ]
  },
  {
   "cell_type": "markdown",
   "id": "ac48f8e0-289f-4029-85ac-3ca63dd55c87",
   "metadata": {},
   "source": [
    "## Outcome Error Rates"
   ]
  },
  {
   "cell_type": "code",
   "execution_count": 50,
   "id": "2383b083-fd86-4395-9282-ee9dfeb8a7af",
   "metadata": {
    "execution": {
     "iopub.execute_input": "2021-08-27T23:27:17.364198Z",
     "iopub.status.busy": "2021-08-27T23:27:17.363825Z",
     "iopub.status.idle": "2021-08-27T23:27:17.839159Z",
     "shell.execute_reply": "2021-08-27T23:27:17.838636Z",
     "shell.execute_reply.started": "2021-08-27T23:27:17.364167Z"
    },
    "tags": []
   },
   "outputs": [
    {
     "data": {
      "image/png": "[encoded data removed]",
      "text/plain": [
       "<Figure size 1440x576 with 1 Axes>"
      ]
     },
     "metadata": {},
     "output_type": "display_data"
    },
    {
     "name": "stdout",
     "output_type": "stream",
     "text": [
      "time: 417 ms\n"
     ]
    }
   ],
   "source": [
    "v.error_rate(errors, 'class_errors')"
   ]
  },
  {
   "cell_type": "code",
   "execution_count": 51,
   "id": "05536cfb-8227-48ac-8bc1-60af0167a154",
   "metadata": {
    "execution": {
     "iopub.execute_input": "2021-08-27T23:27:17.840496Z",
     "iopub.status.busy": "2021-08-27T23:27:17.840231Z",
     "iopub.status.idle": "2021-08-27T23:27:17.907236Z",
     "shell.execute_reply": "2021-08-27T23:27:17.906390Z",
     "shell.execute_reply.started": "2021-08-27T23:27:17.840477Z"
    },
    "tags": []
   },
   "outputs": [
    {
     "data": {
      "text/plain": [
       "Pass           0.533297\n",
       "Fail           0.267196\n",
       "Distinction    0.107153\n",
       "Withdrawn      0.092354\n",
       "Name: label, dtype: float64"
      ]
     },
     "execution_count": 51,
     "metadata": {},
     "output_type": "execute_result"
    },
    {
     "name": "stdout",
     "output_type": "stream",
     "text": [
      "time: 6.75 ms\n"
     ]
    }
   ],
   "source": [
    "# checking each label's share of the data\n",
    "normalized_counts = errors.label.value_counts(normalize=True)\n",
    "normalized_counts"
   ]
  },
  {
   "cell_type": "markdown",
   "id": "11c90bf3-bbd1-453b-9cc2-909faf226d71",
   "metadata": {},
   "source": [
    "Checking the error rates for each of the multiclass outcomes shows why the model is having trouble with the Unsatisfactory class; Withdrawn and Fail both have an error rate above 30%. Calculating the share of each class in the modeling data, we find an almost 3:2 class imbalance between the Satisfactory and Unsatisfactory classes. A multiclass classifier with oversampling might improve performance on this data."
   ]
  },
  {
   "cell_type": "markdown",
   "id": "74070a0a-b67c-49b9-b44b-402fc5c17aaa",
   "metadata": {},
   "source": [
    "## Conclusion\n",
    "In the end, a moderately successful model was developed that can correctly predict outcomes halfway through the course about 66\\% of the time. This time frame allows enough time to intervene and steer the student toward a satisfactory outcome. In addition, the following recommendations for prevention/intevention strategies were developed through statistical testing:\n",
    "\n",
    "- Preemptive outreach and support programs for non-traditional learners and lower income students.\n",
    "\n",
    "- Encourage students to maintain a modest course load. \n",
    "\n",
    "- Encourage students to maintain a medium or higher online activity level and initiate an automated reminder system that triggers when a student fall below a predetermined level.\n",
    "\n",
    "## Next Steps\n",
    "Next steps for the project include:\n",
    "\n",
    "- Develop a multiclass model with oversampling to better address the class imbalances and improve performance.\n",
    "\n",
    "- Rescale the data by individual modules to help reduce variance.\n",
    "\n",
    "- Explore the particular types of online activities that drive outcomes. \n",
    "\n",
    "## For More Information\n",
    "\n",
    "Please review our full analysis in our [Jupyter Notebook](./notebooks/report/report.ipynb) or our [presentation](./reports/presentation.pdf).\n",
    "\n",
    "For any additional questions, please contact **Jeffrey Hanif Watson jeffrey.h.watson@protonmail.com**\n"
   ]
  },
  {
   "cell_type": "markdown",
   "id": "1f10388a-aa50-4590-930a-137b49cafda4",
   "metadata": {},
   "source": [
    "## Sources\n",
    "\n",
    "1. \"The Evolution of Distance Education in 2020.\" *KU Online Degrees Blog*, 17 September 2020, https://educationonline.ku.edu/community/distance-education-evolution-in-2020.\n",
    "\n",
    "2. Koksal, Ilker. \"The Rise Of Online Learning.\"  *Forbes.com*, 2 May 2020, www.forbes.com/sites/ilkerkoksal/2020/05/02/the-rise-of-online-learning/.\n",
    "\n",
    "3. Johnson Hess, Abigail.\"Online learning boomed during the pandemic—but what happens when students return to classrooms?.\" *www.cnbc.com*, 26 March 2021, www.cnbc.com/2021/03/26/online-learning-boomed-during-the-pandemic-but-soon-students-return-to-school.html.\n",
    "\n",
    "4. McElrath, Kevin. \"Nearly 93% of Households With School-Age Children Report Some Form of Distance Learning During COVID-19.\" *census.gov*, 26 August 2020, www.census.gov/library/stories/2020/08/schooling-during-the-covid-19-pandemic.html.\n",
    "\n",
    "5. NASPA Foundation & Course Hero. \"Student Wellness During Covid-19.\" October 2020, https://marketplace.collegepulse.com/img/student_wellness_collegepulse_final.pdf.\n",
    "\n",
    "6. \n",
    "Donnelly, Robin &  Patrinos, Harry A. \"Is the COVID-19 slide in education real?.\" *blogs.worldbank.org*, 8 December 2020, https://blogs.worldbank.org/education/covid-19-slide-education-real\n",
    "\n",
    "7. Johnson Hess, Abigail. \"7 ways the coronavirus pandemic could change college this fall and forever.\" *www.cnbc.com* June 19 2020,\n",
    "www.cnbc.com/2020/06/19/7-ways-coronavirus-pandemic-may-change-college-this-fall-and-forever.html"
   ]
  },
  {
   "cell_type": "code",
   "execution_count": null,
   "id": "852d757e-c746-4cb7-a32c-c852557d0407",
   "metadata": {},
   "outputs": [],
   "source": []
  }
 ],
 "metadata": {
  "kernelspec": {
   "display_name": "oo",
   "language": "python",
   "name": "oo"
  },
  "language_info": {
   "codemirror_mode": {
    "name": "ipython",
    "version": 3
   },
   "file_extension": ".py",
   "mimetype": "text/x-python",
   "name": "python",
   "nbconvert_exporter": "python",
   "pygments_lexer": "ipython3",
   "version": "3.9.6"
  },
  "toc-showmarkdowntxt": false
 },
 "nbformat": 4,
 "nbformat_minor": 5
}
