{
 "cells": [
  {
   "cell_type": "code",
   "execution_count": 1,
   "id": "d2febd79-41c2-4c76-8f99-081e8522351e",
   "metadata": {
    "execution": {
     "iopub.execute_input": "2021-08-23T08:44:26.639472Z",
     "iopub.status.busy": "2021-08-23T08:44:26.639099Z",
     "iopub.status.idle": "2021-08-23T08:44:26.691738Z",
     "shell.execute_reply": "2021-08-23T08:44:26.691267Z",
     "shell.execute_reply.started": "2021-08-23T08:44:26.639376Z"
    },
    "tags": []
   },
   "outputs": [],
   "source": [
    "%load_ext autoreload\n",
    "%load_ext autotime\n",
    "%autoreload 2"
   ]
  },
  {
   "cell_type": "markdown",
   "id": "575d2f7d-134e-4f65-b144-bc6384d76cca",
   "metadata": {
    "jp-MarkdownHeadingCollapsed": true,
    "tags": []
   },
   "source": [
    "## Imports and Project Path"
   ]
  },
  {
   "cell_type": "code",
   "execution_count": 2,
   "id": "66f3ef85-40f6-459b-bc25-52b6c389e82c",
   "metadata": {
    "execution": {
     "iopub.execute_input": "2021-08-23T08:44:26.692783Z",
     "iopub.status.busy": "2021-08-23T08:44:26.692450Z",
     "iopub.status.idle": "2021-08-23T08:44:29.012853Z",
     "shell.execute_reply": "2021-08-23T08:44:29.011878Z",
     "shell.execute_reply.started": "2021-08-23T08:44:26.692764Z"
    },
    "tags": []
   },
   "outputs": [
    {
     "name": "stdout",
     "output_type": "stream",
     "text": [
      "time: 2.3 s\n"
     ]
    }
   ],
   "source": [
    "# setting project path\n",
    "import os, sys, warnings\n",
    "\n",
    "gparent = os.path.join(os.pardir, os.pardir)\n",
    "sys.path.append(gparent)\n",
    "\n",
    "# importing packages\n",
    "import os, sys\n",
    "import pandas as pd\n",
    "import numpy as np\n",
    "import scipy.stats as stats\n",
    "import statsmodels.api as sm\n",
    "\n",
    "from src import class_Database as d\n",
    "from src import helper_functions as f\n",
    "from src import visualizations as v\n",
    "from src import class_Harness as h\n",
    "\n",
    "import matplotlib.pyplot as plt\n",
    "import seaborn as sns\n",
    "%matplotlib inline\n",
    "\n",
    "sns.set_theme('talk')\n",
    "plt.style.use('fivethirtyeight')\n",
    "sns.set_palette('GnBu_r')\n",
    "pd.options.display.max_rows = 300"
   ]
  },
  {
   "cell_type": "markdown",
   "id": "9e287a0c-e4bf-4a89-a170-ef62e0c075e9",
   "metadata": {
    "jp-MarkdownHeadingCollapsed": true,
    "tags": []
   },
   "source": [
    "## Creating The Database"
   ]
  },
  {
   "cell_type": "code",
   "execution_count": 3,
   "id": "d7a81e78-fc5c-44e1-82a1-c3cb2b836be3",
   "metadata": {
    "execution": {
     "iopub.execute_input": "2021-08-23T08:44:29.014779Z",
     "iopub.status.busy": "2021-08-23T08:44:29.014417Z",
     "iopub.status.idle": "2021-08-23T08:44:29.060819Z",
     "shell.execute_reply": "2021-08-23T08:44:29.060171Z",
     "shell.execute_reply.started": "2021-08-23T08:44:29.014726Z"
    },
    "tags": []
   },
   "outputs": [
    {
     "name": "stdout",
     "output_type": "stream",
     "text": [
      "time: 1.36 ms\n"
     ]
    }
   ],
   "source": [
    "# creating database & database class instance\n",
    "database_name = 'outcomes.db'\n",
    "db = d.Database(database_name)"
   ]
  },
  {
   "cell_type": "markdown",
   "id": "d43b1d21-df6a-4974-b923-fd78fff0414e",
   "metadata": {},
   "source": [
    "**Run the cell below once to populate the database. After the database is populated, the cell can be commented out.**"
   ]
  },
  {
   "cell_type": "code",
   "execution_count": 4,
   "id": "0a644257-e680-4aa7-a317-5767f8d0072e",
   "metadata": {
    "execution": {
     "iopub.execute_input": "2021-08-23T08:44:29.063503Z",
     "iopub.status.busy": "2021-08-23T08:44:29.063219Z",
     "iopub.status.idle": "2021-08-23T08:44:29.105088Z",
     "shell.execute_reply": "2021-08-23T08:44:29.104466Z",
     "shell.execute_reply.started": "2021-08-23T08:44:29.063473Z"
    },
    "tags": []
   },
   "outputs": [
    {
     "name": "stdout",
     "output_type": "stream",
     "text": [
      "time: 436 µs\n"
     ]
    }
   ],
   "source": [
    "# file_name = 'anonymisedData.zip'\n",
    "# db.populate(file_name, database_name)"
   ]
  },
  {
   "cell_type": "markdown",
   "id": "853d8190-79d3-4555-9cf4-f6857d855748",
   "metadata": {
    "jp-MarkdownHeadingCollapsed": true,
    "tags": []
   },
   "source": [
    "## Modeling Harrnes Objects"
   ]
  },
  {
   "cell_type": "code",
   "execution_count": 5,
   "id": "174b608d-113c-4834-97ba-7112d0cd52fc",
   "metadata": {
    "execution": {
     "iopub.execute_input": "2021-08-23T08:44:29.106265Z",
     "iopub.status.busy": "2021-08-23T08:44:29.106067Z",
     "iopub.status.idle": "2021-08-23T08:44:29.150715Z",
     "shell.execute_reply": "2021-08-23T08:44:29.149872Z",
     "shell.execute_reply.started": "2021-08-23T08:44:29.106243Z"
    },
    "tags": []
   },
   "outputs": [
    {
     "name": "stdout",
     "output_type": "stream",
     "text": [
      "time: 2.72 ms\n"
     ]
    }
   ],
   "source": [
    "# creating accuracy scorer\n",
    "accuracy = f.acc_score\n",
    "\n",
    "# creating f1 scorer\n",
    "f1 = f.f1\n",
    "\n",
    "# creating recall scorer \n",
    "recall = f.recall\n",
    "\n",
    "# creating precision scorer\n",
    "precision = f.precision\n",
    "\n",
    "# creating Harness\n",
    "modeling = h.Harness(('accuracy', 'f1', 'recall', 'precision'))"
   ]
  },
  {
   "cell_type": "markdown",
   "id": "3e12a6ca-89e3-4886-a1ad-eb065cceb4c6",
   "metadata": {
    "jp-MarkdownHeadingCollapsed": true,
    "tags": []
   },
   "source": [
    "## EDA & Rocommendations Data Frames"
   ]
  },
  {
   "cell_type": "code",
   "execution_count": 6,
   "id": "4fdb574f-e92c-4431-b3d3-1f3d6dea09e9",
   "metadata": {
    "execution": {
     "iopub.execute_input": "2021-08-23T08:44:29.151774Z",
     "iopub.status.busy": "2021-08-23T08:44:29.151626Z",
     "iopub.status.idle": "2021-08-23T08:44:44.676378Z",
     "shell.execute_reply": "2021-08-23T08:44:44.675482Z",
     "shell.execute_reply.started": "2021-08-23T08:44:29.151757Z"
    },
    "tags": []
   },
   "outputs": [
    {
     "name": "stdout",
     "output_type": "stream",
     "text": [
      "time: 15.5 s\n"
     ]
    }
   ],
   "source": [
    "# creating the student_info data frame\n",
    "student_info = db.student_info_full()\n",
    "\n",
    "# cleaning the data\n",
    "student_info = db.cleaner_studentinfo(student_info,[])\n",
    "\n",
    "# creating assessment_vle data frame\n",
    "assessment_vle = db.data_prep_full()\n",
    "\n",
    "# cleaning the data and engineering features\n",
    "drops = ['row_id', 'studied_credits',\n",
    "         'id_site', 'sum_click', 'date_sub', 'date',\n",
    "         'course_length', 'max_date']\n",
    "assessment_vle = db.pipe_cleaner_wa(assessment_vle, drops).reset_index(drop=True)"
   ]
  },
  {
   "cell_type": "markdown",
   "id": "b985e113-0730-4da4-9ec7-6d6b2fabab85",
   "metadata": {
    "jp-MarkdownHeadingCollapsed": true,
    "tags": []
   },
   "source": [
    "## Modeling Data Frame"
   ]
  },
  {
   "cell_type": "code",
   "execution_count": 7,
   "id": "eca8d0f4-d3e9-4751-bb4d-efe3278f1d2d",
   "metadata": {
    "execution": {
     "iopub.execute_input": "2021-08-23T08:44:44.677886Z",
     "iopub.status.busy": "2021-08-23T08:44:44.677630Z",
     "iopub.status.idle": "2021-08-23T08:44:54.940685Z",
     "shell.execute_reply": "2021-08-23T08:44:54.939557Z",
     "shell.execute_reply.started": "2021-08-23T08:44:44.677865Z"
    },
    "tags": []
   },
   "outputs": [
    {
     "name": "stdout",
     "output_type": "stream",
     "text": [
      "time: 10.2 s\n"
     ]
    }
   ],
   "source": [
    "# creating the modeling data frame\n",
    "df = db.data_prep_half(120)\n",
    "\n",
    "# cleaning the data\n",
    "drops = ['row_id', 'studied_credits', 'final_result',\n",
    "         'id_site', 'sum_click', 'date_sub', 'date',\n",
    "         'score','course_length', 'date_registration',\n",
    "         'date_unregistration', 'max_date', 'code_module',\n",
    "         'code_presentation', 'id_student', 'activity_level']\n",
    "df = db.pipe_cleaner_wa(df, drops).reset_index(drop=True)"
   ]
  },
  {
   "cell_type": "markdown",
   "id": "3bccbedd-9df9-474e-8070-61bee15c67e0",
   "metadata": {
    "execution": {
     "iopub.execute_input": "2021-08-02T05:58:12.326167Z",
     "iopub.status.busy": "2021-08-02T05:58:12.325283Z",
     "iopub.status.idle": "2021-08-02T05:58:12.485929Z",
     "shell.execute_reply": "2021-08-02T05:58:12.484654Z",
     "shell.execute_reply.started": "2021-08-02T05:58:12.326095Z"
    },
    "jp-MarkdownHeadingCollapsed": true,
    "tags": []
   },
   "source": [
    "## Creating Holdout Data"
   ]
  },
  {
   "cell_type": "code",
   "execution_count": 8,
   "id": "844c5748-2df3-49f3-9f83-5bd671068918",
   "metadata": {
    "execution": {
     "iopub.execute_input": "2021-08-23T08:44:54.941980Z",
     "iopub.status.busy": "2021-08-23T08:44:54.941820Z",
     "iopub.status.idle": "2021-08-23T08:44:54.990403Z",
     "shell.execute_reply": "2021-08-23T08:44:54.989478Z",
     "shell.execute_reply.started": "2021-08-23T08:44:54.941960Z"
    },
    "tags": []
   },
   "outputs": [
    {
     "name": "stdout",
     "output_type": "stream",
     "text": [
      "time: 2.4 ms\n"
     ]
    }
   ],
   "source": [
    "# splitting data & target\n",
    "X, y = f.X_y(df)"
   ]
  },
  {
   "cell_type": "code",
   "execution_count": 9,
   "id": "a69f452d-dd00-4330-83a7-a1002ce76653",
   "metadata": {
    "execution": {
     "iopub.execute_input": "2021-08-23T08:44:54.992113Z",
     "iopub.status.busy": "2021-08-23T08:44:54.991872Z",
     "iopub.status.idle": "2021-08-23T08:44:55.043743Z",
     "shell.execute_reply": "2021-08-23T08:44:55.043135Z",
     "shell.execute_reply.started": "2021-08-23T08:44:54.992092Z"
    },
    "tags": []
   },
   "outputs": [
    {
     "name": "stdout",
     "output_type": "stream",
     "text": [
      "time: 9.36 ms\n"
     ]
    }
   ],
   "source": [
    "# splitting training and holdout data\n",
    "X_training, X_holdout, y_training, y_holdout = f.test_train(X, y)"
   ]
  },
  {
   "cell_type": "markdown",
   "id": "7567b484-2766-4a6f-892e-537adccd8826",
   "metadata": {
    "jp-MarkdownHeadingCollapsed": true,
    "tags": []
   },
   "source": [
    "## Creating Testing Data"
   ]
  },
  {
   "cell_type": "code",
   "execution_count": 10,
   "id": "2ac515fa-752f-4d20-8db9-b3adefe88ced",
   "metadata": {
    "execution": {
     "iopub.execute_input": "2021-08-23T08:44:55.044935Z",
     "iopub.status.busy": "2021-08-23T08:44:55.044717Z",
     "iopub.status.idle": "2021-08-23T08:44:55.090883Z",
     "shell.execute_reply": "2021-08-23T08:44:55.090332Z",
     "shell.execute_reply.started": "2021-08-23T08:44:55.044912Z"
    },
    "tags": []
   },
   "outputs": [
    {
     "name": "stdout",
     "output_type": "stream",
     "text": [
      "time: 8.68 ms\n"
     ]
    }
   ],
   "source": [
    "# train test split\n",
    "X_train, X_test, y_train, y_test = f.test_train(X_training, y_training)"
   ]
  },
  {
   "cell_type": "markdown",
   "id": "f54ff6b4-75f0-4bad-b4ba-c7b2f2cfb53b",
   "metadata": {},
   "source": [
    "# Online Outcomes: Predicting Success in Virtual Learning\n",
    "\n",
    "**<font size=\"4\">Author: Jeffrey Hanif Watson</font>**"
   ]
  },
  {
   "cell_type": "markdown",
   "id": "d1671d1d-0184-48a0-b5b4-4582b28cb777",
   "metadata": {
    "jp-MarkdownHeadingCollapsed": true,
    "tags": []
   },
   "source": [
    "## Overview\n",
    "\n",
    "***\n",
    "## Business Understanding\n",
    "In the years before the pandemic, online learning had been enjoying reliable, if unspectacular, growth <sup>1</sup>, and was predicted to become a \\$350 Billion global market by 2025.<sup>2</sup> Covid-19 has only accelerated this trend, with examples such as the online learning platform edX experiencing a 15-fold growth in registrations in April 2020<sup>3</sup>, and almost 93\\% of school-age children engaged in online learning in 2020.<sup>4</sup> \n",
    "\n",
    "While the growth in online learning can provide opportunites, it  also raises concerns about student engagement, learning loss, and inequality. According to a recent survey , the main concern of over 70\\% of college students is staying engaged with their course materials online<sup>5</sup>, while the World Bank also reports that school closures and online learning have led to widespread learning loss across Europe and Central Asia<sup>6</sup>, and Harvard Professor Todd Rose notes that \"Poor students and first-generation students often don’t do as well online.\"<sup>7</sup>\n",
    "\n",
    "This project aims to develop recommendations for strategies to avoid unstatisfactory outcomes in online learning environments and implement a model that can predict unfavorable outcomes in a timely manner so interventions can be applied to improve those outcomes.\n",
    "\n",
    "***\n",
    "## Data Understanding\n",
    "\n",
    "The data set for the project is the Open University Learning Analytics dataset.\n",
    "\n",
    "The dataset was obtained as a compressed zip file containing 7 csv files of tabular data. After cleaning and EDA, the data was ultimately reduced to a modeling dataset 19,458 rows and 13 columns (12 features plus the target).\n",
    "\n",
    "Citation:\n",
    "Kuzilek, J., Hlosta, M. & Zdrahal, Z. Open University Learning Analytics dataset. Sci Data 4, 170171 (2017). [Article](https://doi.org/10.1038/sdata.2017.171)\n",
    "\n",
    "Download Page:\n",
    "[Open University Learning Analytics dataset](https://analyse.kmi.open.ac.uk/open_dataset)\n",
    "\n",
    "ERD & Data Details:\n",
    "[Schema & Data Description](https://analyse.kmi.open.ac.uk/open_dataset#description)\n",
    "\n",
    "***\n",
    "## Data Preparation: SQL & Object Oriented Methods\n",
    "\n",
    "The SQL, data preparation and EDA experiments in this notebook were ultimately collected into data frame creation, data cleaning, and feature engineering OOP methods for a Database class. This was done so the methods could be implemented on the fly to create various data configurations in the modeling, error analysis, and recommendations notebooks. This code located in the [class_Database.py](./src/class_Database.py) file. \n",
    "\n",
    "## Data Prepartion: Overview\n",
    "\n",
    "The data was collected into an SQL database, and a data frame was constructed from the various database tables. During the creation process, the multiclass `final_result` feature was binarized into a `target` feature with classes Satisfactory (Pass, Distinction), and Unsatisfactory (Withdrawn, Fail). A `row_id` feature was constructed to identify unique student-course-month combinations, and a `sum_activity` feature was added to quantify the level of a student's interaction with the course material. Lastly, `weighted_ave`, `mean_score`, and `median_score` were derived from the each row's  assessment data.\n",
    "\n",
    "After the data frame was created various cosmetic fixes were applied to the data, and outliers were dropped from the `studied_credits`, `weighted_ave`, and `sum_activity` features using IQR fences. A categorical `course_load` feature was derived by binning `studied_credits`, and a categorical `activity_level` feature was created by binning `sum_activity`. The `course_load` feature was used during the modeling process, and `activity_level` was used for statistical testing when while investigating business recommendations. Lastly, null values and extraneous columns were dropped in preparation of the modeling process.\n",
    "\n",
    "In order to be able to predict unsatisfactory outcomes while there is still time to intervene, we limited the model to data logged upto the halfway of the courses. Since the median course length is 240 days, a cutoff point of 120 days was chosen. Further, students who withdrew before the 120th day were dropped from the data, since their outcome was fully determined within the 120 day window.\n",
    "\n",
    "Data cleaning details for the project can be found here:\n",
    "[Data Cleaning/EDA Notebook](./notebooks/exploratory/cleaning_eda.ipynb)\n",
    "***"
   ]
  },
  {
   "cell_type": "markdown",
   "id": "de905048-819f-4360-a8c5-de6354cbdf1a",
   "metadata": {},
   "source": [
    "## Exploring the Data"
   ]
  },
  {
   "cell_type": "markdown",
   "id": "593508d1-0107-4e3d-8fdb-c87402459750",
   "metadata": {},
   "source": [
    "## Demographic Data"
   ]
  },
  {
   "cell_type": "markdown",
   "id": "9cbb35e9-67df-4972-97ae-32956ac7ba02",
   "metadata": {},
   "source": [
    "## Distribution of Final Results\n",
    "For data spanning the full term, Pass and Withdrawn are the largest groupings 38\\% and 32\\% respectively, followed by Fail at almost 22\\%. Distinction brings up the rear at 9\\%."
   ]
  },
  {
   "cell_type": "code",
   "execution_count": 11,
   "id": "377f9655-b703-4fe7-b896-08e4e9e8f741",
   "metadata": {
    "execution": {
     "iopub.execute_input": "2021-08-23T08:44:55.092061Z",
     "iopub.status.busy": "2021-08-23T08:44:55.091858Z",
     "iopub.status.idle": "2021-08-23T08:44:55.427658Z",
     "shell.execute_reply": "2021-08-23T08:44:55.426752Z",
     "shell.execute_reply.started": "2021-08-23T08:44:55.092043Z"
    },
    "tags": []
   },
   "outputs": [
    {
     "data": {
      "image/png": "[encoded data removed]",
      "text/plain": [
       "<Figure size 1440x576 with 1 Axes>"
      ]
     },
     "metadata": {},
     "output_type": "display_data"
    },
    {
     "data": {
      "text/html": [
       "<div>\n",
       "<style scoped>\n",
       "    .dataframe tbody tr th:only-of-type {\n",
       "        vertical-align: middle;\n",
       "    }\n",
       "\n",
       "    .dataframe tbody tr th {\n",
       "        vertical-align: top;\n",
       "    }\n",
       "\n",
       "    .dataframe thead th {\n",
       "        text-align: right;\n",
       "    }\n",
       "</style>\n",
       "<table border=\"1\" class=\"dataframe\">\n",
       "  <thead>\n",
       "    <tr style=\"text-align: right;\">\n",
       "      <th></th>\n",
       "      <th>Outcome</th>\n",
       "      <th>Percentage</th>\n",
       "    </tr>\n",
       "  </thead>\n",
       "  <tbody>\n",
       "    <tr>\n",
       "      <th>0</th>\n",
       "      <td>Pass</td>\n",
       "      <td>0.377922</td>\n",
       "    </tr>\n",
       "    <tr>\n",
       "      <th>1</th>\n",
       "      <td>Withdrawn</td>\n",
       "      <td>0.311521</td>\n",
       "    </tr>\n",
       "    <tr>\n",
       "      <th>2</th>\n",
       "      <td>Fail</td>\n",
       "      <td>0.220203</td>\n",
       "    </tr>\n",
       "    <tr>\n",
       "      <th>3</th>\n",
       "      <td>Distinction</td>\n",
       "      <td>0.090354</td>\n",
       "    </tr>\n",
       "  </tbody>\n",
       "</table>\n",
       "</div>"
      ],
      "text/plain": [
       "       Outcome  Percentage\n",
       "0         Pass    0.377922\n",
       "1    Withdrawn    0.311521\n",
       "2         Fail    0.220203\n",
       "3  Distinction    0.090354"
      ]
     },
     "execution_count": 11,
     "metadata": {},
     "output_type": "execute_result"
    },
    {
     "name": "stdout",
     "output_type": "stream",
     "text": [
      "time: 296 ms\n"
     ]
    }
   ],
   "source": [
    "v.outcomes_type(student_info,'outcomes_type')"
   ]
  },
  {
   "cell_type": "markdown",
   "id": "5eb61832-6182-418f-9a90-12216005f82f",
   "metadata": {},
   "source": [
    "## Distribution of Satisfactory and Unsatisfactory Outcomes\n",
    "The final results were binarized into Satisfactory (Pass, Distinction) and Unsatisfactory (Withdrawn, Fail). About 46\\% of outcomes were satisfactory, and 53\\% were unsatisfactory. "
   ]
  },
  {
   "cell_type": "code",
   "execution_count": 12,
   "id": "62463401-8d48-4193-987f-3ad8bb4504f6",
   "metadata": {
    "execution": {
     "iopub.execute_input": "2021-08-23T08:44:55.428814Z",
     "iopub.status.busy": "2021-08-23T08:44:55.428538Z",
     "iopub.status.idle": "2021-08-23T08:44:55.721102Z",
     "shell.execute_reply": "2021-08-23T08:44:55.720536Z",
     "shell.execute_reply.started": "2021-08-23T08:44:55.428792Z"
    },
    "tags": []
   },
   "outputs": [
    {
     "data": {
      "image/png": "[encoded data removed]",
      "text/plain": [
       "<Figure size 1440x576 with 1 Axes>"
      ]
     },
     "metadata": {},
     "output_type": "display_data"
    },
    {
     "data": {
      "text/html": [
       "<div>\n",
       "<style scoped>\n",
       "    .dataframe tbody tr th:only-of-type {\n",
       "        vertical-align: middle;\n",
       "    }\n",
       "\n",
       "    .dataframe tbody tr th {\n",
       "        vertical-align: top;\n",
       "    }\n",
       "\n",
       "    .dataframe thead th {\n",
       "        text-align: right;\n",
       "    }\n",
       "</style>\n",
       "<table border=\"1\" class=\"dataframe\">\n",
       "  <thead>\n",
       "    <tr style=\"text-align: right;\">\n",
       "      <th></th>\n",
       "      <th>Outcome</th>\n",
       "      <th>Percentage</th>\n",
       "    </tr>\n",
       "  </thead>\n",
       "  <tbody>\n",
       "    <tr>\n",
       "      <th>0</th>\n",
       "      <td>Unsatisfactory</td>\n",
       "      <td>0.531724</td>\n",
       "    </tr>\n",
       "    <tr>\n",
       "      <th>1</th>\n",
       "      <td>Satisfactory</td>\n",
       "      <td>0.468276</td>\n",
       "    </tr>\n",
       "  </tbody>\n",
       "</table>\n",
       "</div>"
      ],
      "text/plain": [
       "          Outcome  Percentage\n",
       "0  Unsatisfactory    0.531724\n",
       "1    Satisfactory    0.468276"
      ]
     },
     "execution_count": 12,
     "metadata": {},
     "output_type": "execute_result"
    },
    {
     "name": "stdout",
     "output_type": "stream",
     "text": [
      "time: 253 ms\n"
     ]
    }
   ],
   "source": [
    "v.outcomes_target(student_info, 'outcomes_bin')"
   ]
  },
  {
   "cell_type": "markdown",
   "id": "f22a3a1d-f479-499d-b43e-e97fd4f97921",
   "metadata": {
    "tags": []
   },
   "source": [
    "## Outcome By IMD Band"
   ]
  },
  {
   "cell_type": "markdown",
   "id": "8a41f12f-7168-4188-86c0-82648c2cbac8",
   "metadata": {
    "execution": {
     "iopub.execute_input": "2021-08-23T03:22:36.669425Z",
     "iopub.status.busy": "2021-08-23T03:22:36.668986Z",
     "iopub.status.idle": "2021-08-23T03:22:36.692753Z",
     "shell.execute_reply": "2021-08-23T03:22:36.691187Z",
     "shell.execute_reply.started": "2021-08-23T03:22:36.669307Z"
    }
   },
   "source": [
    "IMD Band is a measure of socioeconomic status that is based on geographic location. The higher the band, the better off the student is.\n",
    "\n",
    "Statistical testing was performed and it was found that IMD band and outcome are not independent. In general, Distinction and Pass vary directly with IMD band. The higher the student's IMD band, the more likely the student is to pass or pass with distinction. Conversely, Withdrawn and Fail vary inversely with IMD band. In general, the lower the student's IMD band the more likely the student is to fail or withdraw. \n",
    "\n",
    "IMD band has small, but statistically significant effect on the outcome Pass and Withdrawn, and a medium sized effect on Fail and Distinction."
   ]
  },
  {
   "cell_type": "code",
   "execution_count": 13,
   "id": "23c8e0bc-d9cc-417e-a120-b77eba03ec6a",
   "metadata": {
    "execution": {
     "iopub.execute_input": "2021-08-23T08:44:55.725220Z",
     "iopub.status.busy": "2021-08-23T08:44:55.724855Z",
     "iopub.status.idle": "2021-08-23T08:44:56.281682Z",
     "shell.execute_reply": "2021-08-23T08:44:56.281108Z",
     "shell.execute_reply.started": "2021-08-23T08:44:55.725202Z"
    },
    "tags": []
   },
   "outputs": [
    {
     "data": {
      "image/png": "[encoded data removed]",
      "text/plain": [
       "<Figure size 1152x576 with 1 Axes>"
      ]
     },
     "metadata": {},
     "output_type": "display_data"
    },
    {
     "name": "stdout",
     "output_type": "stream",
     "text": [
      "time: 518 ms\n"
     ]
    }
   ],
   "source": [
    "v.outcomes_imd(student_info, 'outcomes_imd')"
   ]
  },
  {
   "cell_type": "markdown",
   "id": "e6b752db-b7d8-446e-a5b6-846ed73e6162",
   "metadata": {
    "tags": []
   },
   "source": [
    "### Investigating the IMD Band Contingency Table"
   ]
  },
  {
   "cell_type": "code",
   "execution_count": 14,
   "id": "235f4ec7-2ba5-4d96-9203-734da51a0ab7",
   "metadata": {
    "execution": {
     "iopub.execute_input": "2021-08-23T08:44:56.283219Z",
     "iopub.status.busy": "2021-08-23T08:44:56.282796Z",
     "iopub.status.idle": "2021-08-23T08:44:56.350968Z",
     "shell.execute_reply": "2021-08-23T08:44:56.350207Z",
     "shell.execute_reply.started": "2021-08-23T08:44:56.283194Z"
    },
    "tags": []
   },
   "outputs": [
    {
     "name": "stdout",
     "output_type": "stream",
     "text": [
      "time: 25.7 ms\n"
     ]
    }
   ],
   "source": [
    "# creating a contingency table\n",
    "tabs = pd.crosstab(student_info.imd_band, student_info.final_result)"
   ]
  },
  {
   "cell_type": "code",
   "execution_count": 15,
   "id": "7bb99ec4-9d93-4569-ba23-b534cfff2ded",
   "metadata": {
    "execution": {
     "iopub.execute_input": "2021-08-23T08:44:56.352341Z",
     "iopub.status.busy": "2021-08-23T08:44:56.352158Z",
     "iopub.status.idle": "2021-08-23T08:44:56.401716Z",
     "shell.execute_reply": "2021-08-23T08:44:56.400983Z",
     "shell.execute_reply.started": "2021-08-23T08:44:56.352324Z"
    },
    "tags": []
   },
   "outputs": [
    {
     "name": "stdout",
     "output_type": "stream",
     "text": [
      "time: 767 µs\n"
     ]
    }
   ],
   "source": [
    "# creating a statsmodels table object\n",
    "table = sm.stats.Table(tabs)"
   ]
  },
  {
   "cell_type": "code",
   "execution_count": 16,
   "id": "074cdc75-f948-49da-9eba-94ab46114f90",
   "metadata": {
    "execution": {
     "iopub.execute_input": "2021-08-23T08:44:56.403248Z",
     "iopub.status.busy": "2021-08-23T08:44:56.403022Z",
     "iopub.status.idle": "2021-08-23T08:44:56.459224Z",
     "shell.execute_reply": "2021-08-23T08:44:56.458505Z",
     "shell.execute_reply.started": "2021-08-23T08:44:56.403229Z"
    },
    "tags": []
   },
   "outputs": [
    {
     "data": {
      "text/html": [
       "<div>\n",
       "<style scoped>\n",
       "    .dataframe tbody tr th:only-of-type {\n",
       "        vertical-align: middle;\n",
       "    }\n",
       "\n",
       "    .dataframe tbody tr th {\n",
       "        vertical-align: top;\n",
       "    }\n",
       "\n",
       "    .dataframe thead th {\n",
       "        text-align: right;\n",
       "    }\n",
       "</style>\n",
       "<table border=\"1\" class=\"dataframe\">\n",
       "  <thead>\n",
       "    <tr style=\"text-align: right;\">\n",
       "      <th>final_result</th>\n",
       "      <th>Distinction</th>\n",
       "      <th>Fail</th>\n",
       "      <th>Pass</th>\n",
       "      <th>Withdrawn</th>\n",
       "    </tr>\n",
       "    <tr>\n",
       "      <th>imd_band</th>\n",
       "      <th></th>\n",
       "      <th></th>\n",
       "      <th></th>\n",
       "      <th></th>\n",
       "    </tr>\n",
       "  </thead>\n",
       "  <tbody>\n",
       "    <tr>\n",
       "      <th>0-10%</th>\n",
       "      <td>-7.402817</td>\n",
       "      <td>7.143362</td>\n",
       "      <td>-6.991624</td>\n",
       "      <td>5.681835</td>\n",
       "    </tr>\n",
       "    <tr>\n",
       "      <th>10-20%</th>\n",
       "      <td>-7.053337</td>\n",
       "      <td>5.017465</td>\n",
       "      <td>-4.146855</td>\n",
       "      <td>4.147654</td>\n",
       "    </tr>\n",
       "    <tr>\n",
       "      <th>20-30%</th>\n",
       "      <td>-3.462050</td>\n",
       "      <td>1.591755</td>\n",
       "      <td>-3.774848</td>\n",
       "      <td>4.683976</td>\n",
       "    </tr>\n",
       "    <tr>\n",
       "      <th>30-40%</th>\n",
       "      <td>-0.167062</td>\n",
       "      <td>0.358575</td>\n",
       "      <td>0.423810</td>\n",
       "      <td>-0.678298</td>\n",
       "    </tr>\n",
       "    <tr>\n",
       "      <th>40-50%</th>\n",
       "      <td>0.168598</td>\n",
       "      <td>-0.679618</td>\n",
       "      <td>-0.071974</td>\n",
       "      <td>0.559866</td>\n",
       "    </tr>\n",
       "    <tr>\n",
       "      <th>50-60%</th>\n",
       "      <td>0.955658</td>\n",
       "      <td>0.635117</td>\n",
       "      <td>1.338885</td>\n",
       "      <td>-2.523342</td>\n",
       "    </tr>\n",
       "    <tr>\n",
       "      <th>60-70%</th>\n",
       "      <td>2.403956</td>\n",
       "      <td>-3.938544</td>\n",
       "      <td>3.503514</td>\n",
       "      <td>-1.842207</td>\n",
       "    </tr>\n",
       "    <tr>\n",
       "      <th>70-80%</th>\n",
       "      <td>3.296277</td>\n",
       "      <td>-1.357454</td>\n",
       "      <td>2.609346</td>\n",
       "      <td>-3.507966</td>\n",
       "    </tr>\n",
       "    <tr>\n",
       "      <th>80-90%</th>\n",
       "      <td>5.004507</td>\n",
       "      <td>-4.631205</td>\n",
       "      <td>3.968319</td>\n",
       "      <td>-3.172347</td>\n",
       "    </tr>\n",
       "    <tr>\n",
       "      <th>90-100%</th>\n",
       "      <td>8.513557</td>\n",
       "      <td>-5.815001</td>\n",
       "      <td>4.786375</td>\n",
       "      <td>-4.967922</td>\n",
       "    </tr>\n",
       "  </tbody>\n",
       "</table>\n",
       "</div>"
      ],
      "text/plain": [
       "final_result  Distinction      Fail      Pass  Withdrawn\n",
       "imd_band                                                \n",
       "0-10%           -7.402817  7.143362 -6.991624   5.681835\n",
       "10-20%          -7.053337  5.017465 -4.146855   4.147654\n",
       "20-30%          -3.462050  1.591755 -3.774848   4.683976\n",
       "30-40%          -0.167062  0.358575  0.423810  -0.678298\n",
       "40-50%           0.168598 -0.679618 -0.071974   0.559866\n",
       "50-60%           0.955658  0.635117  1.338885  -2.523342\n",
       "60-70%           2.403956 -3.938544  3.503514  -1.842207\n",
       "70-80%           3.296277 -1.357454  2.609346  -3.507966\n",
       "80-90%           5.004507 -4.631205  3.968319  -3.172347\n",
       "90-100%          8.513557 -5.815001  4.786375  -4.967922"
      ]
     },
     "execution_count": 16,
     "metadata": {},
     "output_type": "execute_result"
    },
    {
     "name": "stdout",
     "output_type": "stream",
     "text": [
      "time: 8.87 ms\n"
     ]
    }
   ],
   "source": [
    "# pearsons residuals: negatives indicate fewer results than expected, positives indicate more.\n",
    "table.resid_pearson"
   ]
  },
  {
   "cell_type": "markdown",
   "id": "c6e67236-da98-47c4-a21f-a1dcc7a50e84",
   "metadata": {
    "tags": []
   },
   "source": [
    "From the contingency table it appears that, in general, Distinction and Pass vary directly with IMD band. The higher the student's IMD band, the more likely the student is to pass or pass with distinction. Conversely, Withdrawn and Fail vary inversely with IMD band. In general, the lower the student's IMD band the more likely the student is to fail or withdraw."
   ]
  },
  {
   "cell_type": "markdown",
   "id": "aba72857-ad9e-4328-a057-9cd3c4898794",
   "metadata": {
    "tags": []
   },
   "source": [
    "### Hypothesis Testing"
   ]
  },
  {
   "cell_type": "markdown",
   "id": "1676dd21-bf00-40d0-9ecc-6b2b167055fa",
   "metadata": {
    "tags": []
   },
   "source": [
    "#### Chi-Square Test for `imd_band`\n",
    "Ho = `imd_band` and `final_result` are independent.\n",
    "\n",
    "Ha = `imd_band` and `final_result` are not independent.\n",
    "\n",
    "alpha = .05"
   ]
  },
  {
   "cell_type": "code",
   "execution_count": 17,
   "id": "acd5c4e9-f2c9-4ccd-b933-78a5dc53a615",
   "metadata": {
    "execution": {
     "iopub.execute_input": "2021-08-23T08:44:56.460539Z",
     "iopub.status.busy": "2021-08-23T08:44:56.460378Z",
     "iopub.status.idle": "2021-08-23T08:44:56.508916Z",
     "shell.execute_reply": "2021-08-23T08:44:56.508079Z",
     "shell.execute_reply.started": "2021-08-23T08:44:56.460520Z"
    },
    "tags": []
   },
   "outputs": [
    {
     "name": "stdout",
     "output_type": "stream",
     "text": [
      "chi-squared = 653.0806826983792\n",
      "p value= 2.473461324525511e-120\n",
      "degrees of freedom = 27\n",
      "time: 1.7 ms\n"
     ]
    }
   ],
   "source": [
    "# calculating chi-squared,p-value, degrees of freedom\n",
    "f.chi_sq_test(tabs)"
   ]
  },
  {
   "cell_type": "markdown",
   "id": "6d3a8d67-abe1-4283-a2ce-d44baa869e05",
   "metadata": {},
   "source": [
    "Since the p value is less than our alpha, we reject the null hypothesis and conclude that `imd_band` and `final_result` are not independent."
   ]
  },
  {
   "cell_type": "markdown",
   "id": "fd75b496-f6fd-404b-8e65-d9eeb86f1d98",
   "metadata": {},
   "source": [
    "#### Test Result: IMD Band and Outcomes Are Not Independent."
   ]
  },
  {
   "cell_type": "code",
   "execution_count": 18,
   "id": "cf59c986-9f92-41e9-a156-238c4b641e6e",
   "metadata": {
    "execution": {
     "iopub.execute_input": "2021-08-23T08:44:56.510656Z",
     "iopub.status.busy": "2021-08-23T08:44:56.510468Z",
     "iopub.status.idle": "2021-08-23T08:44:56.567138Z",
     "shell.execute_reply": "2021-08-23T08:44:56.566368Z",
     "shell.execute_reply.started": "2021-08-23T08:44:56.510633Z"
    },
    "tags": []
   },
   "outputs": [
    {
     "name": "stdout",
     "output_type": "stream",
     "text": [
      "Cramer's V Degrees of Freedom = 3\n",
      "\n",
      "Effect Size Thresholds\n",
      "   Degrees of Freedom  Small Effect  Medium Effect  Large Effect\n",
      "0                 1.0          0.10           0.30          0.50\n",
      "1                 2.0          0.07           0.21          0.35\n",
      "2                 3.0          0.06           0.17          0.29\n",
      "3                 4.0          0.05           0.15          0.25\n",
      "4                 5.0          0.04           0.13          0.22\n",
      "\n",
      "final_result\n",
      "Distinction    0.278138\n",
      "Fail           0.178166\n",
      "Pass           0.135999\n",
      "Withdrawn      0.149793\n",
      "dtype: float64\n",
      "time: 7.33 ms\n"
     ]
    }
   ],
   "source": [
    "# calculating cramer's v to measure the effect sizes\n",
    "f.cramers_v(tabs)"
   ]
  },
  {
   "cell_type": "markdown",
   "id": "642eadfc-49a4-4626-b79a-f3d4d9f2f16a",
   "metadata": {
    "tags": []
   },
   "source": [
    "Adjusted for degrees of freedom, the Cramer's V results indicate that `imd_band` has a small, but statistically significant, effect on Pass and Withdrawn and a medium effect on Fail and Distinction."
   ]
  },
  {
   "cell_type": "markdown",
   "id": "6efdea6a-a75d-497b-ae70-5463031ba88f",
   "metadata": {},
   "source": [
    "#### Effect Sizes: Small for Pass and Withdrawn, Medium for Fail and Distinction."
   ]
  },
  {
   "cell_type": "markdown",
   "id": "7522859a-0ef0-49d9-9478-596dbf8b674a",
   "metadata": {
    "tags": []
   },
   "source": [
    "## Outcome by Education Level\n",
    "The rank of these UK education categories is as follows(from lowest to highest): No Formal Qualifications, Lower Than A Level, A Level, HE Qualification, Post Graduate Qualification.\n",
    "\n",
    "Statistical testing was performed and it was found that education level and outcome are not independent. In general, Distinction and Pass vary directly with education level. The higher the student's education level, the more likely the student is to pass or pass with distinction. Conversely, Withdrawn and Fail vary inversely with education. In general, the lower the student's education level the more likely the student is to fail or withdraw. \n",
    "\n",
    "Education level has a medium effect on Pass, Fail, and Withdrawn, and a large effect on Distinction."
   ]
  },
  {
   "cell_type": "code",
   "execution_count": 19,
   "id": "3f801e9a-9433-4a5f-b9c9-ee5b618a1f36",
   "metadata": {
    "execution": {
     "iopub.execute_input": "2021-08-23T08:44:56.568839Z",
     "iopub.status.busy": "2021-08-23T08:44:56.568568Z",
     "iopub.status.idle": "2021-08-23T08:44:57.050019Z",
     "shell.execute_reply": "2021-08-23T08:44:57.049441Z",
     "shell.execute_reply.started": "2021-08-23T08:44:56.568803Z"
    },
    "tags": []
   },
   "outputs": [
    {
     "data": {
      "image/png": "[encoded data removed]",
      "text/plain": [
       "<Figure size 1440x576 with 1 Axes>"
      ]
     },
     "metadata": {},
     "output_type": "display_data"
    },
    {
     "name": "stdout",
     "output_type": "stream",
     "text": [
      "time: 431 ms\n"
     ]
    }
   ],
   "source": [
    "v.outcomes_edu(student_info, 'outcomes_edu')"
   ]
  },
  {
   "cell_type": "markdown",
   "id": "69e73971-2c0c-40df-b61c-e24c9189a9ce",
   "metadata": {},
   "source": [
    "### Investigating `highest_education` Contingency Tabels"
   ]
  },
  {
   "cell_type": "code",
   "execution_count": 20,
   "id": "28e304a0-9e63-484c-907a-6ddaaf26d7b8",
   "metadata": {
    "execution": {
     "iopub.execute_input": "2021-08-23T08:44:57.051271Z",
     "iopub.status.busy": "2021-08-23T08:44:57.050992Z",
     "iopub.status.idle": "2021-08-23T08:44:57.116494Z",
     "shell.execute_reply": "2021-08-23T08:44:57.115606Z",
     "shell.execute_reply.started": "2021-08-23T08:44:57.051247Z"
    },
    "tags": []
   },
   "outputs": [
    {
     "name": "stdout",
     "output_type": "stream",
     "text": [
      "time: 22.9 ms\n"
     ]
    }
   ],
   "source": [
    "# creating a contingency table\n",
    "tabs = pd.crosstab(student_info.highest_education, student_info.final_result)"
   ]
  },
  {
   "cell_type": "code",
   "execution_count": 21,
   "id": "ad96b251-b83f-49c9-becb-eab5b67a196c",
   "metadata": {
    "execution": {
     "iopub.execute_input": "2021-08-23T08:44:57.117749Z",
     "iopub.status.busy": "2021-08-23T08:44:57.117524Z",
     "iopub.status.idle": "2021-08-23T08:44:57.166526Z",
     "shell.execute_reply": "2021-08-23T08:44:57.165721Z",
     "shell.execute_reply.started": "2021-08-23T08:44:57.117726Z"
    },
    "tags": []
   },
   "outputs": [
    {
     "name": "stdout",
     "output_type": "stream",
     "text": [
      "time: 825 µs\n"
     ]
    }
   ],
   "source": [
    "# creating a statsmodels table object\n",
    "table = sm.stats.Table(tabs)"
   ]
  },
  {
   "cell_type": "code",
   "execution_count": 22,
   "id": "6222849a-83c9-442e-87a3-1aa96602b239",
   "metadata": {
    "execution": {
     "iopub.execute_input": "2021-08-23T08:44:57.167870Z",
     "iopub.status.busy": "2021-08-23T08:44:57.167704Z",
     "iopub.status.idle": "2021-08-23T08:44:57.222355Z",
     "shell.execute_reply": "2021-08-23T08:44:57.221173Z",
     "shell.execute_reply.started": "2021-08-23T08:44:57.167848Z"
    },
    "tags": []
   },
   "outputs": [
    {
     "data": {
      "text/html": [
       "<div>\n",
       "<style scoped>\n",
       "    .dataframe tbody tr th:only-of-type {\n",
       "        vertical-align: middle;\n",
       "    }\n",
       "\n",
       "    .dataframe tbody tr th {\n",
       "        vertical-align: top;\n",
       "    }\n",
       "\n",
       "    .dataframe thead th {\n",
       "        text-align: right;\n",
       "    }\n",
       "</style>\n",
       "<table border=\"1\" class=\"dataframe\">\n",
       "  <thead>\n",
       "    <tr style=\"text-align: right;\">\n",
       "      <th>final_result</th>\n",
       "      <th>Distinction</th>\n",
       "      <th>Fail</th>\n",
       "      <th>Pass</th>\n",
       "      <th>Withdrawn</th>\n",
       "    </tr>\n",
       "    <tr>\n",
       "      <th>highest_education</th>\n",
       "      <th></th>\n",
       "      <th></th>\n",
       "      <th></th>\n",
       "      <th></th>\n",
       "    </tr>\n",
       "  </thead>\n",
       "  <tbody>\n",
       "    <tr>\n",
       "      <th>A Level or Equivalent</th>\n",
       "      <td>5.891219</td>\n",
       "      <td>-6.327834</td>\n",
       "      <td>6.633103</td>\n",
       "      <td>-5.158524</td>\n",
       "    </tr>\n",
       "    <tr>\n",
       "      <th>HE Qualification</th>\n",
       "      <td>12.197479</td>\n",
       "      <td>-7.109027</td>\n",
       "      <td>3.760665</td>\n",
       "      <td>-4.734217</td>\n",
       "    </tr>\n",
       "    <tr>\n",
       "      <th>Lower Than A Level</th>\n",
       "      <td>-14.015472</td>\n",
       "      <td>10.604762</td>\n",
       "      <td>-8.259037</td>\n",
       "      <td>7.728913</td>\n",
       "    </tr>\n",
       "    <tr>\n",
       "      <th>No Formal quals</th>\n",
       "      <td>-2.761012</td>\n",
       "      <td>2.476404</td>\n",
       "      <td>-4.240230</td>\n",
       "      <td>4.075243</td>\n",
       "    </tr>\n",
       "    <tr>\n",
       "      <th>Post Graduate Qualification</th>\n",
       "      <td>9.316753</td>\n",
       "      <td>-1.868449</td>\n",
       "      <td>-1.466281</td>\n",
       "      <td>-1.831688</td>\n",
       "    </tr>\n",
       "  </tbody>\n",
       "</table>\n",
       "</div>"
      ],
      "text/plain": [
       "final_result                 Distinction       Fail      Pass  Withdrawn\n",
       "highest_education                                                       \n",
       "A Level or Equivalent           5.891219  -6.327834  6.633103  -5.158524\n",
       "HE Qualification               12.197479  -7.109027  3.760665  -4.734217\n",
       "Lower Than A Level            -14.015472  10.604762 -8.259037   7.728913\n",
       "No Formal quals                -2.761012   2.476404 -4.240230   4.075243\n",
       "Post Graduate Qualification     9.316753  -1.868449 -1.466281  -1.831688"
      ]
     },
     "execution_count": 22,
     "metadata": {},
     "output_type": "execute_result"
    },
    {
     "name": "stdout",
     "output_type": "stream",
     "text": [
      "time: 6.36 ms\n"
     ]
    }
   ],
   "source": [
    "# pearsons residuals: negatives indicate fewer results than expected, positives indicate more.\n",
    "table.resid_pearson"
   ]
  },
  {
   "cell_type": "markdown",
   "id": "4e457f30-7cb3-4445-a9cc-7144657261e9",
   "metadata": {},
   "source": [
    "From the contingency tables it appears that, in general, Distinction and Pass vary directly with education level. The higher the student's education level, the more likely the student is to pass or pass with distinction. Conversely, Withdrawn and Fail vary inversely with education level. In general, the lower the student's education level the more likely the student is to fail or withdraw. "
   ]
  },
  {
   "cell_type": "markdown",
   "id": "fb8cb8f2-af01-4d84-8f1e-84f03890957b",
   "metadata": {},
   "source": [
    "### Chi-Square Test for `highest_education`\n",
    "Ho = `highest_education` and `final_result` are independent.\n",
    "\n",
    "Ha = `highest_education` and `final_result` are not independent.\n",
    "\n",
    "alpha = .05"
   ]
  },
  {
   "cell_type": "code",
   "execution_count": 23,
   "id": "77adb96c-e7f5-40cc-87d9-f258de918e59",
   "metadata": {
    "execution": {
     "iopub.execute_input": "2021-08-23T08:44:57.223473Z",
     "iopub.status.busy": "2021-08-23T08:44:57.223305Z",
     "iopub.status.idle": "2021-08-23T08:44:57.268655Z",
     "shell.execute_reply": "2021-08-23T08:44:57.268043Z",
     "shell.execute_reply.started": "2021-08-23T08:44:57.223454Z"
    },
    "tags": []
   },
   "outputs": [
    {
     "name": "stdout",
     "output_type": "stream",
     "text": [
      "chi-squared = 962.2117100356752\n",
      "p value= 2.4827414817328365e-198\n",
      "degrees of freedom = 12\n",
      "time: 1.47 ms\n"
     ]
    }
   ],
   "source": [
    "# calculating chi-squared,p-value, degrees of freedom\n",
    "f.chi_sq_test(tabs)"
   ]
  },
  {
   "cell_type": "markdown",
   "id": "d9477a2e-feb3-4fb7-8e1b-02f50c87c6a4",
   "metadata": {},
   "source": [
    "Since the p value is less than our alpha, we reject the null hypothesis and conclude that `highest_education` and `final_result` are not independent."
   ]
  },
  {
   "cell_type": "markdown",
   "id": "30853d56-af81-4d32-9493-cf948f152c1c",
   "metadata": {},
   "source": [
    "#### Test Result: Education Level and Outcome Are Not Independent"
   ]
  },
  {
   "cell_type": "code",
   "execution_count": 24,
   "id": "eba39a72-c5fc-41a6-920a-bb869b3e2d94",
   "metadata": {
    "execution": {
     "iopub.execute_input": "2021-08-23T08:44:57.270406Z",
     "iopub.status.busy": "2021-08-23T08:44:57.270226Z",
     "iopub.status.idle": "2021-08-23T08:44:57.324249Z",
     "shell.execute_reply": "2021-08-23T08:44:57.323024Z",
     "shell.execute_reply.started": "2021-08-23T08:44:57.270379Z"
    },
    "tags": []
   },
   "outputs": [
    {
     "name": "stdout",
     "output_type": "stream",
     "text": [
      "Cramer's V Degrees of Freedom = 3\n",
      "\n",
      "Effect Size Thresholds\n",
      "   Degrees of Freedom  Small Effect  Medium Effect  Large Effect\n",
      "0                 1.0          0.10           0.30          0.50\n",
      "1                 2.0          0.07           0.21          0.35\n",
      "2                 3.0          0.06           0.17          0.29\n",
      "3                 4.0          0.05           0.15          0.25\n",
      "4                 5.0          0.04           0.13          0.22\n",
      "\n",
      "final_result\n",
      "Distinction    0.337608\n",
      "Fail           0.216260\n",
      "Pass           0.165077\n",
      "Withdrawn      0.181821\n",
      "dtype: float64\n",
      "time: 5.67 ms\n"
     ]
    }
   ],
   "source": [
    "# calculating cramer's v to measure the effect sizes\n",
    "f.cramers_v(tabs)"
   ]
  },
  {
   "cell_type": "markdown",
   "id": "a70d3706-51c8-4440-ab93-7dac7ed213f2",
   "metadata": {},
   "source": [
    "Adjusted for degrees of freedom, the Cramer's V results indicate that `highest_education` has a medium effect on Pass, Fail, and Withdrawn, and a large effect on Distinction."
   ]
  },
  {
   "cell_type": "markdown",
   "id": "a21fde62-04c8-4493-bd1b-c69ef4cda3a3",
   "metadata": {},
   "source": [
    "#### Effect Sizes: Medium on Pass, Fail and Withdrawn, Large on Distinction"
   ]
  },
  {
   "cell_type": "markdown",
   "id": "61c1ecc3-18ec-499c-b179-a5572aa83cdb",
   "metadata": {},
   "source": [
    "## Recommendation"
   ]
  },
  {
   "cell_type": "markdown",
   "id": "47af0c00-55ac-4c1c-9f31-3b7042de06fb",
   "metadata": {},
   "source": [
    "Preemptive outreach and support programs for non-traditional learners and lower income students, and inferential research into the advantages and disadvantages that socioeconomic status and education level confer in an academic setting to help refine those programs moving forward. "
   ]
  },
  {
   "cell_type": "markdown",
   "id": "2efb007d-02a2-43ac-b34a-cb6fdea16ac0",
   "metadata": {
    "tags": []
   },
   "source": [
    "## Outcome by Course Load\n",
    "Course load is a feature that categorizes the amount of credits the student was studying at the time of the course. The categories are as follows: \n",
    "\n",
    "- 30-60 Credits: Light \n",
    "- 61 to 120 Credits: Medium\n",
    "- 121 to 210 Credits: Heavy\n",
    "\n",
    "Statistical testing was performed and it was found that course load and outcome are not independent. A light course load contributes positively to Distinction, Pass, and (counterintuitively) Fail, while it contributes negatively to Withdrawn. Conversely,  Medium and Heavy course loads contribute negatively to Distinction, Pass and (again, counterintuitively) Fail,  while they contribute positively to Withdrawn.\n",
    "\n",
    "Course load has a small effect on Pass, a medium sized effect on Withdraw and Fail, and a large effect on Distinction."
   ]
  },
  {
   "cell_type": "code",
   "execution_count": 25,
   "id": "048527c6-7b4f-43ae-8d0b-bf0a6825e545",
   "metadata": {
    "execution": {
     "iopub.execute_input": "2021-08-23T08:44:57.326042Z",
     "iopub.status.busy": "2021-08-23T08:44:57.325849Z",
     "iopub.status.idle": "2021-08-23T08:44:57.734056Z",
     "shell.execute_reply": "2021-08-23T08:44:57.733621Z",
     "shell.execute_reply.started": "2021-08-23T08:44:57.326020Z"
    },
    "tags": []
   },
   "outputs": [
    {
     "data": {
      "image/png": "[encoded data removed]",
      "text/plain": [
       "<Figure size 1440x576 with 1 Axes>"
      ]
     },
     "metadata": {},
     "output_type": "display_data"
    },
    {
     "name": "stdout",
     "output_type": "stream",
     "text": [
      "time: 360 ms\n"
     ]
    }
   ],
   "source": [
    "v.outcome_cl(student_info, 'outcomes_cl')"
   ]
  },
  {
   "cell_type": "code",
   "execution_count": 26,
   "id": "5853acba-f90b-4a46-9245-81e0ec60be62",
   "metadata": {
    "execution": {
     "iopub.execute_input": "2021-08-23T08:44:57.735394Z",
     "iopub.status.busy": "2021-08-23T08:44:57.735145Z",
     "iopub.status.idle": "2021-08-23T08:44:57.795120Z",
     "shell.execute_reply": "2021-08-23T08:44:57.794580Z",
     "shell.execute_reply.started": "2021-08-23T08:44:57.735371Z"
    },
    "tags": []
   },
   "outputs": [
    {
     "name": "stdout",
     "output_type": "stream",
     "text": [
      "time: 15.8 ms\n"
     ]
    }
   ],
   "source": [
    "# creating a contingency table\n",
    "tabs = pd.crosstab(student_info.course_load, student_info.final_result)"
   ]
  },
  {
   "cell_type": "code",
   "execution_count": 27,
   "id": "37edb536-0ece-4a35-857e-62e5b0b70f9d",
   "metadata": {
    "execution": {
     "iopub.execute_input": "2021-08-23T08:44:57.796309Z",
     "iopub.status.busy": "2021-08-23T08:44:57.796123Z",
     "iopub.status.idle": "2021-08-23T08:44:57.838376Z",
     "shell.execute_reply": "2021-08-23T08:44:57.837322Z",
     "shell.execute_reply.started": "2021-08-23T08:44:57.796290Z"
    },
    "tags": []
   },
   "outputs": [
    {
     "name": "stdout",
     "output_type": "stream",
     "text": [
      "time: 654 µs\n"
     ]
    }
   ],
   "source": [
    "# creating a statsmodels table object\n",
    "table = sm.stats.Table(tabs)"
   ]
  },
  {
   "cell_type": "code",
   "execution_count": 28,
   "id": "ae1e1cff-07ec-4fa6-94fe-78b690bde7de",
   "metadata": {
    "execution": {
     "iopub.execute_input": "2021-08-23T08:44:57.840289Z",
     "iopub.status.busy": "2021-08-23T08:44:57.839983Z",
     "iopub.status.idle": "2021-08-23T08:44:57.889108Z",
     "shell.execute_reply": "2021-08-23T08:44:57.888671Z",
     "shell.execute_reply.started": "2021-08-23T08:44:57.840225Z"
    },
    "tags": []
   },
   "outputs": [
    {
     "data": {
      "text/html": [
       "<div>\n",
       "<style scoped>\n",
       "    .dataframe tbody tr th:only-of-type {\n",
       "        vertical-align: middle;\n",
       "    }\n",
       "\n",
       "    .dataframe tbody tr th {\n",
       "        vertical-align: top;\n",
       "    }\n",
       "\n",
       "    .dataframe thead th {\n",
       "        text-align: right;\n",
       "    }\n",
       "</style>\n",
       "<table border=\"1\" class=\"dataframe\">\n",
       "  <thead>\n",
       "    <tr style=\"text-align: right;\">\n",
       "      <th>final_result</th>\n",
       "      <th>Distinction</th>\n",
       "      <th>Fail</th>\n",
       "      <th>Pass</th>\n",
       "      <th>Withdrawn</th>\n",
       "    </tr>\n",
       "    <tr>\n",
       "      <th>course_load</th>\n",
       "      <th></th>\n",
       "      <th></th>\n",
       "      <th></th>\n",
       "      <th></th>\n",
       "    </tr>\n",
       "  </thead>\n",
       "  <tbody>\n",
       "    <tr>\n",
       "      <th>Light</th>\n",
       "      <td>3.796072</td>\n",
       "      <td>3.492519</td>\n",
       "      <td>8.141165</td>\n",
       "      <td>-13.947682</td>\n",
       "    </tr>\n",
       "    <tr>\n",
       "      <th>Medium</th>\n",
       "      <td>-2.331048</td>\n",
       "      <td>-4.005234</td>\n",
       "      <td>-8.556518</td>\n",
       "      <td>14.047233</td>\n",
       "    </tr>\n",
       "    <tr>\n",
       "      <th>Heavy</th>\n",
       "      <td>-7.185069</td>\n",
       "      <td>-2.405282</td>\n",
       "      <td>-7.369259</td>\n",
       "      <td>14.008549</td>\n",
       "    </tr>\n",
       "  </tbody>\n",
       "</table>\n",
       "</div>"
      ],
      "text/plain": [
       "final_result  Distinction      Fail      Pass  Withdrawn\n",
       "course_load                                             \n",
       "Light            3.796072  3.492519  8.141165 -13.947682\n",
       "Medium          -2.331048 -4.005234 -8.556518  14.047233\n",
       "Heavy           -7.185069 -2.405282 -7.369259  14.008549"
      ]
     },
     "execution_count": 28,
     "metadata": {},
     "output_type": "execute_result"
    },
    {
     "name": "stdout",
     "output_type": "stream",
     "text": [
      "time: 6.6 ms\n"
     ]
    }
   ],
   "source": [
    "# pearsons residuals: negatives indicate fewer results than expected, positives indicate more.\n",
    "table.resid_pearson"
   ]
  },
  {
   "cell_type": "markdown",
   "id": "85de7a40-e4e1-4476-97ac-3edc1c2f9db3",
   "metadata": {},
   "source": [
    "From the contingency tables it appears that a light course load contributes positively to Distinction, Pass, and (counterintuitively) Fail, while it contributes negatively to Withdrawn. Conversely,  Medium and Heavy course loads contribute negatively to Distinction, Pass and (again, counterintuitively) Fail,  while they contribute positively to Withdrawn."
   ]
  },
  {
   "cell_type": "markdown",
   "id": "633d8d9d-0a71-4e88-bafc-1f5c770fc88d",
   "metadata": {
    "tags": []
   },
   "source": [
    "### Chi-Square Test for `course_load`\n",
    "Ho = `course_load` and `final_result` are independent.\n",
    "\n",
    "Ha = `course_load` and `final_result` are not independent.\n",
    "\n",
    "alpha = .05"
   ]
  },
  {
   "cell_type": "code",
   "execution_count": 29,
   "id": "5bfc3f62-8117-4e8e-b7fd-b4b830674f3c",
   "metadata": {
    "execution": {
     "iopub.execute_input": "2021-08-23T08:44:57.890212Z",
     "iopub.status.busy": "2021-08-23T08:44:57.890064Z",
     "iopub.status.idle": "2021-08-23T08:44:57.933246Z",
     "shell.execute_reply": "2021-08-23T08:44:57.932159Z",
     "shell.execute_reply.started": "2021-08-23T08:44:57.890194Z"
    },
    "tags": []
   },
   "outputs": [
    {
     "name": "stdout",
     "output_type": "stream",
     "text": [
      "chi-squared = 887.3947035023172\n",
      "p value= 1.9942967713148247e-188\n",
      "degrees of freedom = 6\n",
      "time: 1.61 ms\n"
     ]
    }
   ],
   "source": [
    "# calculating chi-squared,p-value, degrees of freedom\n",
    "f.chi_sq_test(tabs)"
   ]
  },
  {
   "cell_type": "markdown",
   "id": "aa48f354-aec5-4597-b214-d37a77c46fb6",
   "metadata": {},
   "source": [
    "Since the p value is less than our alpha, we reject the null hypothesis and conclude that `course_load` and `final_result` are not independent."
   ]
  },
  {
   "cell_type": "markdown",
   "id": "579eb42d-e048-481e-87a8-7d5ade44b868",
   "metadata": {},
   "source": [
    "#### Result: Course Load and Outcome Are Not Independent"
   ]
  },
  {
   "cell_type": "code",
   "execution_count": 30,
   "id": "579ed650-699e-496d-b723-203e2526adab",
   "metadata": {
    "execution": {
     "iopub.execute_input": "2021-08-23T08:44:57.934837Z",
     "iopub.status.busy": "2021-08-23T08:44:57.934554Z",
     "iopub.status.idle": "2021-08-23T08:44:57.986172Z",
     "shell.execute_reply": "2021-08-23T08:44:57.985588Z",
     "shell.execute_reply.started": "2021-08-23T08:44:57.934772Z"
    },
    "tags": []
   },
   "outputs": [
    {
     "name": "stdout",
     "output_type": "stream",
     "text": [
      "Cramer's V Degrees of Freedom = 2\n",
      "\n",
      "Effect Size Thresholds\n",
      "   Degrees of Freedom  Small Effect  Medium Effect  Large Effect\n",
      "0                 1.0          0.10           0.30          0.50\n",
      "1                 2.0          0.07           0.21          0.35\n",
      "2                 3.0          0.06           0.17          0.29\n",
      "3                 4.0          0.05           0.15          0.25\n",
      "4                 5.0          0.04           0.13          0.22\n",
      "\n",
      "final_result\n",
      "Distinction    0.397083\n",
      "Fail           0.254358\n",
      "Pass           0.194158\n",
      "Withdrawn      0.213852\n",
      "dtype: float64\n",
      "time: 4.51 ms\n"
     ]
    }
   ],
   "source": [
    "# calculating cramer's v to measure the effect sizes\n",
    "f.cramers_v(tabs)"
   ]
  },
  {
   "cell_type": "markdown",
   "id": "51f6af0d-084c-467b-a28d-efff8970428d",
   "metadata": {},
   "source": [
    "Adjusted for degrees of freedom, the Cramer's V results indicate that `course_load` has a small effect on Pass, a medium effect on Withdraw and Fail, and a large effect on Distinction."
   ]
  },
  {
   "cell_type": "markdown",
   "id": "0b922bcb-c367-4fd3-8857-6d4916165301",
   "metadata": {},
   "source": [
    "#### Effect Sizes: Small on Pass, Medium on Withdrawn and Fail, Large on Distinction"
   ]
  },
  {
   "cell_type": "markdown",
   "id": "315b3d60-7ba8-49dd-8b5a-d0739c21194d",
   "metadata": {},
   "source": [
    "## Recommendation\n",
    "Encourage students to maintain a modest course load. We can see from the graph above that nearly half of the students will a heavy course load withdraw before the end of the course, and even at a medium load there are more withdraws than passes. Hopefully this data can be used to help set realistic expectations with students during matriculation."
   ]
  },
  {
   "cell_type": "markdown",
   "id": "b37d8c19-3095-44bf-b8a9-c254bcdba9f7",
   "metadata": {},
   "source": [
    "## VLE & Assessment Data"
   ]
  },
  {
   "cell_type": "markdown",
   "id": "a6020873-c70a-4735-87b5-9eef2a1d8d85",
   "metadata": {},
   "source": [
    "## Activity Level\n",
    "The `activity_level` feature is a measure of the student's engagment with a course's online materials, and is  calculated by adding the total number of online activities undertaken by the student with the total number of clicks for those activities. The categories are as follows:\n",
    "\n",
    "- 2-456 Total: Very Light \n",
    "- 457-1013 Total: Light\n",
    "- 1014-2029 Total: Medium \n",
    "- 2030-5402 Total: Heavy\n",
    "\n",
    "Light activity levels contribute negatively to Distinction and  Pass, while they contributes positively to Withdrawn and Fail. Conversely,  Medium and Heavy activity levels contribute positively to Distinction and Pass, while they contribute negatively to Withdrawn and Fail.\n",
    "\n",
    "`activity_level` has a large effect size on all of the outcomes, and the largest effect sizes of all the features tested."
   ]
  },
  {
   "cell_type": "code",
   "execution_count": 31,
   "id": "c657b9be-bfc3-497b-a83b-e6a272bd0928",
   "metadata": {
    "execution": {
     "iopub.execute_input": "2021-08-23T08:44:57.987887Z",
     "iopub.status.busy": "2021-08-23T08:44:57.987608Z",
     "iopub.status.idle": "2021-08-23T08:44:58.378505Z",
     "shell.execute_reply": "2021-08-23T08:44:58.377995Z",
     "shell.execute_reply.started": "2021-08-23T08:44:57.987863Z"
    },
    "tags": []
   },
   "outputs": [
    {
     "data": {
      "image/png": "[encoded data removed]",
      "text/plain": [
       "<Figure size 1152x576 with 1 Axes>"
      ]
     },
     "metadata": {},
     "output_type": "display_data"
    },
    {
     "name": "stdout",
     "output_type": "stream",
     "text": [
      "time: 347 ms\n"
     ]
    }
   ],
   "source": [
    "v.outcomes_sumact(assessment_vle, 'outcomes_sumact')"
   ]
  },
  {
   "cell_type": "markdown",
   "id": "7f215ed2-40c6-4858-a2c4-6a1f5ab396e1",
   "metadata": {},
   "source": [
    "### Activity Level Contingency Table"
   ]
  },
  {
   "cell_type": "code",
   "execution_count": 32,
   "id": "ec616178-23f1-431e-b870-4414c167fd48",
   "metadata": {
    "execution": {
     "iopub.execute_input": "2021-08-23T08:44:58.379678Z",
     "iopub.status.busy": "2021-08-23T08:44:58.379523Z",
     "iopub.status.idle": "2021-08-23T08:44:58.439758Z",
     "shell.execute_reply": "2021-08-23T08:44:58.439181Z",
     "shell.execute_reply.started": "2021-08-23T08:44:58.379661Z"
    },
    "tags": []
   },
   "outputs": [
    {
     "name": "stdout",
     "output_type": "stream",
     "text": [
      "time: 17.2 ms\n"
     ]
    }
   ],
   "source": [
    "# creating a contingency table\n",
    "tabs = pd.crosstab(assessment_vle.activity_level, assessment_vle.final_result)"
   ]
  },
  {
   "cell_type": "code",
   "execution_count": 33,
   "id": "f3042051-4e9c-44bb-980f-2c57188e123a",
   "metadata": {
    "execution": {
     "iopub.execute_input": "2021-08-23T08:44:58.440977Z",
     "iopub.status.busy": "2021-08-23T08:44:58.440750Z",
     "iopub.status.idle": "2021-08-23T08:44:58.483936Z",
     "shell.execute_reply": "2021-08-23T08:44:58.482961Z",
     "shell.execute_reply.started": "2021-08-23T08:44:58.440958Z"
    },
    "tags": []
   },
   "outputs": [
    {
     "name": "stdout",
     "output_type": "stream",
     "text": [
      "time: 842 µs\n"
     ]
    }
   ],
   "source": [
    "# creating a statsmodels table object\n",
    "table = sm.stats.Table(tabs)"
   ]
  },
  {
   "cell_type": "code",
   "execution_count": 34,
   "id": "fa2b5270-87ed-4162-b8a3-d6698927d7e3",
   "metadata": {
    "execution": {
     "iopub.execute_input": "2021-08-23T08:44:58.485301Z",
     "iopub.status.busy": "2021-08-23T08:44:58.485005Z",
     "iopub.status.idle": "2021-08-23T08:44:58.537068Z",
     "shell.execute_reply": "2021-08-23T08:44:58.536253Z",
     "shell.execute_reply.started": "2021-08-23T08:44:58.485278Z"
    },
    "tags": []
   },
   "outputs": [
    {
     "data": {
      "text/html": [
       "<div>\n",
       "<style scoped>\n",
       "    .dataframe tbody tr th:only-of-type {\n",
       "        vertical-align: middle;\n",
       "    }\n",
       "\n",
       "    .dataframe tbody tr th {\n",
       "        vertical-align: top;\n",
       "    }\n",
       "\n",
       "    .dataframe thead th {\n",
       "        text-align: right;\n",
       "    }\n",
       "</style>\n",
       "<table border=\"1\" class=\"dataframe\">\n",
       "  <thead>\n",
       "    <tr style=\"text-align: right;\">\n",
       "      <th>final_result</th>\n",
       "      <th>Distinction</th>\n",
       "      <th>Fail</th>\n",
       "      <th>Pass</th>\n",
       "      <th>Withdrawn</th>\n",
       "    </tr>\n",
       "    <tr>\n",
       "      <th>activity_level</th>\n",
       "      <th></th>\n",
       "      <th></th>\n",
       "      <th></th>\n",
       "      <th></th>\n",
       "    </tr>\n",
       "  </thead>\n",
       "  <tbody>\n",
       "    <tr>\n",
       "      <th>Very Light</th>\n",
       "      <td>-18.228301</td>\n",
       "      <td>26.359702</td>\n",
       "      <td>-31.864838</td>\n",
       "      <td>31.241886</td>\n",
       "    </tr>\n",
       "    <tr>\n",
       "      <th>Light</th>\n",
       "      <td>-3.011017</td>\n",
       "      <td>2.820875</td>\n",
       "      <td>-3.809891</td>\n",
       "      <td>4.653149</td>\n",
       "    </tr>\n",
       "    <tr>\n",
       "      <th>Medium</th>\n",
       "      <td>4.649944</td>\n",
       "      <td>-9.770196</td>\n",
       "      <td>13.505704</td>\n",
       "      <td>-12.714837</td>\n",
       "    </tr>\n",
       "    <tr>\n",
       "      <th>Heavy</th>\n",
       "      <td>17.027465</td>\n",
       "      <td>-19.969095</td>\n",
       "      <td>22.828180</td>\n",
       "      <td>-23.852623</td>\n",
       "    </tr>\n",
       "  </tbody>\n",
       "</table>\n",
       "</div>"
      ],
      "text/plain": [
       "final_result    Distinction       Fail       Pass  Withdrawn\n",
       "activity_level                                              \n",
       "Very Light       -18.228301  26.359702 -31.864838  31.241886\n",
       "Light             -3.011017   2.820875  -3.809891   4.653149\n",
       "Medium             4.649944  -9.770196  13.505704 -12.714837\n",
       "Heavy             17.027465 -19.969095  22.828180 -23.852623"
      ]
     },
     "execution_count": 34,
     "metadata": {},
     "output_type": "execute_result"
    },
    {
     "name": "stdout",
     "output_type": "stream",
     "text": [
      "time: 7.12 ms\n"
     ]
    }
   ],
   "source": [
    "# pearsons residuals: negatives indicate fewer results than expected, positives indicate more.\n",
    "table.resid_pearson"
   ]
  },
  {
   "cell_type": "markdown",
   "id": "3811f0dd-582c-47ae-a032-092c035650b0",
   "metadata": {},
   "source": [
    "From the contingency tables it appears that light activity levels contribute negatively to Distinction and  Pass, while it contributes positively to Withdrawn and Fail. Conversely,  Medium and Heavy activity levels contribute positively to Distinction and Pass, while they contribute negatively to Withdrawn and Fail."
   ]
  },
  {
   "cell_type": "markdown",
   "id": "0ded8525-0c8f-4728-bb87-c6cbd9815600",
   "metadata": {},
   "source": [
    "### Chi-Square Test for `activity_level`\n",
    "Ho = `activity_level` and `final_result` are independent.\n",
    "\n",
    "Ha = `activity_level` and `final_result` are not independent.\n",
    "\n",
    "alpha = .05"
   ]
  },
  {
   "cell_type": "code",
   "execution_count": 35,
   "id": "21f2ba02-2f22-4b04-bd03-adb26e7003be",
   "metadata": {
    "execution": {
     "iopub.execute_input": "2021-08-23T08:44:58.538613Z",
     "iopub.status.busy": "2021-08-23T08:44:58.538345Z",
     "iopub.status.idle": "2021-08-23T08:44:58.582797Z",
     "shell.execute_reply": "2021-08-23T08:44:58.581866Z",
     "shell.execute_reply.started": "2021-08-23T08:44:58.538585Z"
    },
    "tags": []
   },
   "outputs": [
    {
     "name": "stdout",
     "output_type": "stream",
     "text": [
      "chi-squared = 5311.641369904437\n",
      "p value= 0.0\n",
      "degrees of freedom = 9\n",
      "time: 1.2 ms\n"
     ]
    }
   ],
   "source": [
    "# calculating chi-squared,p-value, degrees of freedom\n",
    "f.chi_sq_test(tabs)"
   ]
  },
  {
   "cell_type": "markdown",
   "id": "b07a4eea-0912-41ee-80e0-6fe692b3e557",
   "metadata": {},
   "source": [
    "Since the p value is less than our alpha, we reject the null hypothesis and conclude that `activity_level` and `final_result` are not independent."
   ]
  },
  {
   "cell_type": "markdown",
   "id": "3f422da0-9085-40fc-807e-8f5dfff3a09b",
   "metadata": {},
   "source": [
    "#### Test Result: Activity Level and Outcome Are Not Independent"
   ]
  },
  {
   "cell_type": "code",
   "execution_count": 36,
   "id": "2d43e22e-65c5-49df-aa36-fffae8368601",
   "metadata": {
    "execution": {
     "iopub.execute_input": "2021-08-23T08:44:58.584109Z",
     "iopub.status.busy": "2021-08-23T08:44:58.583957Z",
     "iopub.status.idle": "2021-08-23T08:44:58.637822Z",
     "shell.execute_reply": "2021-08-23T08:44:58.637082Z",
     "shell.execute_reply.started": "2021-08-23T08:44:58.584091Z"
    },
    "tags": []
   },
   "outputs": [
    {
     "name": "stdout",
     "output_type": "stream",
     "text": [
      "Cramer's V Degrees of Freedom = 3\n",
      "\n",
      "Effect Size Thresholds\n",
      "   Degrees of Freedom  Small Effect  Medium Effect  Large Effect\n",
      "0                 1.0          0.10           0.30          0.50\n",
      "1                 2.0          0.07           0.21          0.35\n",
      "2                 3.0          0.06           0.17          0.29\n",
      "3                 4.0          0.05           0.15          0.25\n",
      "4                 5.0          0.04           0.13          0.22\n",
      "\n",
      "final_result\n",
      "Distinction    0.945630\n",
      "Fail           0.579352\n",
      "Pass           0.421517\n",
      "Withdrawn      0.632768\n",
      "dtype: float64\n",
      "time: 5.34 ms\n"
     ]
    }
   ],
   "source": [
    "# calculating cramer's v to measure the effect sizes\n",
    "f.cramers_v(tabs)"
   ]
  },
  {
   "cell_type": "markdown",
   "id": "7ada1634-e712-4f8a-9424-2662ef55a060",
   "metadata": {},
   "source": [
    "Adjusted for degrees of freedom, the Cramer's V results indicate that `activity_level` has a large effect on all of the outcomes."
   ]
  },
  {
   "cell_type": "markdown",
   "id": "aab2e595-c05f-477f-ad51-16945f7bf9b7",
   "metadata": {},
   "source": [
    "## Recommendation\n",
    "Encourage students to maintain a medium or higher activity and initiate an automated reminder system that triggers when a student fall below a predetermined level. Also, initiate an web design assessment and A/B testing program with the goal of identifying ways of driving up student engagement."
   ]
  },
  {
   "cell_type": "markdown",
   "id": "8f498e6f-63b6-4909-8b9b-a5657d4a3c4c",
   "metadata": {},
   "source": [
    "# Modeling\n",
    "\n",
    "Since we wanted to indentify as many unsatisfactory outcomes possible while still minimizing false positives,  F1 was used as the project as the metric. "
   ]
  },
  {
   "cell_type": "markdown",
   "id": "bead6e3e-6490-40a1-82c7-25ef0c195e3f",
   "metadata": {},
   "source": [
    "## Class Balance for the Modeling Data"
   ]
  },
  {
   "cell_type": "code",
   "execution_count": 37,
   "id": "62751a35-f64d-4cf0-aa37-65ffc2162387",
   "metadata": {
    "execution": {
     "iopub.execute_input": "2021-08-23T08:44:58.639226Z",
     "iopub.status.busy": "2021-08-23T08:44:58.639013Z",
     "iopub.status.idle": "2021-08-23T08:44:58.686920Z",
     "shell.execute_reply": "2021-08-23T08:44:58.686285Z",
     "shell.execute_reply.started": "2021-08-23T08:44:58.639200Z"
    },
    "tags": []
   },
   "outputs": [
    {
     "data": {
      "text/plain": [
       "0.0    0.640405\n",
       "1.0    0.359595\n",
       "Name: target, dtype: float64"
      ]
     },
     "execution_count": 37,
     "metadata": {},
     "output_type": "execute_result"
    },
    {
     "name": "stdout",
     "output_type": "stream",
     "text": [
      "time: 3.38 ms\n"
     ]
    }
   ],
   "source": [
    "df.target.value_counts(normalize=True)"
   ]
  },
  {
   "cell_type": "markdown",
   "id": "15909544-1278-4fb0-bc1b-8562cab2a19a",
   "metadata": {
    "tags": []
   },
   "source": [
    "## Features Used"
   ]
  },
  {
   "cell_type": "markdown",
   "id": "e185d4d5-5daa-40b7-914f-d3de0bb16877",
   "metadata": {
    "execution": {
     "iopub.execute_input": "2021-08-21T23:41:11.261495Z",
     "iopub.status.busy": "2021-08-21T23:41:11.261113Z",
     "iopub.status.idle": "2021-08-21T23:41:11.321962Z",
     "shell.execute_reply": "2021-08-21T23:41:11.321173Z",
     "shell.execute_reply.started": "2021-08-21T23:41:11.261451Z"
    },
    "tags": []
   },
   "source": [
    "The following features will be used in the modeling process:\n",
    "    \n",
    "-  gender: The gender of the student.\n",
    "    \n",
    "-  region: The geographic region of the student.\n",
    "    \n",
    "- highest_education: The education level of the student.\n",
    "    \n",
    "- imd_band: A measure of economic status based on geographic location.\n",
    "    \n",
    "- age_band: The age cohort of the student.\n",
    "    \n",
    "- num_of_prev_attempts: The number of times the student has attempted the class.\n",
    "    \n",
    "- disability: The disability status of the student.\n",
    "\n",
    "- weighted_ave: The weighted average of the student's assessment scores.\n",
    "\n",
    "- mean_score: The student's mean assessment score.\n",
    "\n",
    "- median_score: The student's median assessment score.\n",
    "\n",
    "- sum_activity: The sum of the activities, and the number of clicks for each activity, that the student logged.\n",
    "\n",
    "- course_load: A three level categorization of the total credits the student was enrolled at the time of the  course.\n",
    "    "
   ]
  },
  {
   "cell_type": "markdown",
   "id": "b056d20d-f86c-4acf-8700-e3d21062f35b",
   "metadata": {},
   "source": [
    "## Summary Statistics for the Numerical Features"
   ]
  },
  {
   "cell_type": "code",
   "execution_count": 38,
   "id": "a646d944-0b3c-4dec-bb96-87d1fa0fee57",
   "metadata": {
    "execution": {
     "iopub.execute_input": "2021-08-23T08:44:58.688123Z",
     "iopub.status.busy": "2021-08-23T08:44:58.687966Z",
     "iopub.status.idle": "2021-08-23T08:44:58.756563Z",
     "shell.execute_reply": "2021-08-23T08:44:58.755993Z",
     "shell.execute_reply.started": "2021-08-23T08:44:58.688105Z"
    },
    "tags": []
   },
   "outputs": [
    {
     "data": {
      "text/html": [
       "<div>\n",
       "<style scoped>\n",
       "    .dataframe tbody tr th:only-of-type {\n",
       "        vertical-align: middle;\n",
       "    }\n",
       "\n",
       "    .dataframe tbody tr th {\n",
       "        vertical-align: top;\n",
       "    }\n",
       "\n",
       "    .dataframe thead th {\n",
       "        text-align: right;\n",
       "    }\n",
       "</style>\n",
       "<table border=\"1\" class=\"dataframe\">\n",
       "  <thead>\n",
       "    <tr style=\"text-align: right;\">\n",
       "      <th></th>\n",
       "      <th>target</th>\n",
       "      <th>num_of_prev_attempts</th>\n",
       "      <th>weighted_ave</th>\n",
       "      <th>mean_score</th>\n",
       "      <th>median_score</th>\n",
       "      <th>sum_activity</th>\n",
       "    </tr>\n",
       "  </thead>\n",
       "  <tbody>\n",
       "    <tr>\n",
       "      <th>count</th>\n",
       "      <td>19458.000000</td>\n",
       "      <td>19458.000000</td>\n",
       "      <td>19458.000000</td>\n",
       "      <td>19458.000000</td>\n",
       "      <td>19458.000000</td>\n",
       "      <td>19458.000000</td>\n",
       "    </tr>\n",
       "    <tr>\n",
       "      <th>mean</th>\n",
       "      <td>0.359595</td>\n",
       "      <td>0.140713</td>\n",
       "      <td>106.436972</td>\n",
       "      <td>74.288758</td>\n",
       "      <td>74.583256</td>\n",
       "      <td>901.266780</td>\n",
       "    </tr>\n",
       "    <tr>\n",
       "      <th>std</th>\n",
       "      <td>0.479894</td>\n",
       "      <td>0.449925</td>\n",
       "      <td>65.628103</td>\n",
       "      <td>15.207932</td>\n",
       "      <td>15.078946</td>\n",
       "      <td>724.074213</td>\n",
       "    </tr>\n",
       "    <tr>\n",
       "      <th>min</th>\n",
       "      <td>0.000000</td>\n",
       "      <td>0.000000</td>\n",
       "      <td>0.000000</td>\n",
       "      <td>0.000000</td>\n",
       "      <td>0.000000</td>\n",
       "      <td>2.000000</td>\n",
       "    </tr>\n",
       "    <tr>\n",
       "      <th>25%</th>\n",
       "      <td>0.000000</td>\n",
       "      <td>0.000000</td>\n",
       "      <td>60.800000</td>\n",
       "      <td>66.400000</td>\n",
       "      <td>66.500000</td>\n",
       "      <td>345.000000</td>\n",
       "    </tr>\n",
       "    <tr>\n",
       "      <th>50%</th>\n",
       "      <td>0.000000</td>\n",
       "      <td>0.000000</td>\n",
       "      <td>113.020000</td>\n",
       "      <td>77.400000</td>\n",
       "      <td>77.500000</td>\n",
       "      <td>694.000000</td>\n",
       "    </tr>\n",
       "    <tr>\n",
       "      <th>75%</th>\n",
       "      <td>1.000000</td>\n",
       "      <td>0.000000</td>\n",
       "      <td>152.000000</td>\n",
       "      <td>85.000000</td>\n",
       "      <td>85.000000</td>\n",
       "      <td>1268.750000</td>\n",
       "    </tr>\n",
       "    <tr>\n",
       "      <th>max</th>\n",
       "      <td>1.000000</td>\n",
       "      <td>6.000000</td>\n",
       "      <td>299.920000</td>\n",
       "      <td>100.000000</td>\n",
       "      <td>100.000000</td>\n",
       "      <td>3179.000000</td>\n",
       "    </tr>\n",
       "  </tbody>\n",
       "</table>\n",
       "</div>"
      ],
      "text/plain": [
       "             target  num_of_prev_attempts  weighted_ave    mean_score  \\\n",
       "count  19458.000000          19458.000000  19458.000000  19458.000000   \n",
       "mean       0.359595              0.140713    106.436972     74.288758   \n",
       "std        0.479894              0.449925     65.628103     15.207932   \n",
       "min        0.000000              0.000000      0.000000      0.000000   \n",
       "25%        0.000000              0.000000     60.800000     66.400000   \n",
       "50%        0.000000              0.000000    113.020000     77.400000   \n",
       "75%        1.000000              0.000000    152.000000     85.000000   \n",
       "max        1.000000              6.000000    299.920000    100.000000   \n",
       "\n",
       "       median_score  sum_activity  \n",
       "count  19458.000000  19458.000000  \n",
       "mean      74.583256    901.266780  \n",
       "std       15.078946    724.074213  \n",
       "min        0.000000      2.000000  \n",
       "25%       66.500000    345.000000  \n",
       "50%       77.500000    694.000000  \n",
       "75%       85.000000   1268.750000  \n",
       "max      100.000000   3179.000000  "
      ]
     },
     "execution_count": 38,
     "metadata": {},
     "output_type": "execute_result"
    },
    {
     "name": "stdout",
     "output_type": "stream",
     "text": [
      "time: 24.9 ms\n"
     ]
    }
   ],
   "source": [
    "df.describe()"
   ]
  },
  {
   "cell_type": "markdown",
   "id": "7c3399d4-1a3b-4541-b104-1d769c001002",
   "metadata": {
    "tags": []
   },
   "source": [
    "## Baseline Model: Dummy Classifier\n",
    "The classifier will predict the majority class for each observation."
   ]
  },
  {
   "cell_type": "code",
   "execution_count": 39,
   "id": "eb4d995d-debe-4992-aa7c-e23bbc2e32de",
   "metadata": {
    "execution": {
     "iopub.execute_input": "2021-08-23T08:44:58.757638Z",
     "iopub.status.busy": "2021-08-23T08:44:58.757473Z",
     "iopub.status.idle": "2021-08-23T08:44:58.824569Z",
     "shell.execute_reply": "2021-08-23T08:44:58.823965Z",
     "shell.execute_reply.started": "2021-08-23T08:44:58.757619Z"
    },
    "tags": []
   },
   "outputs": [
    {
     "name": "stdout",
     "output_type": "stream",
     "text": [
      "time: 24.5 ms\n"
     ]
    }
   ],
   "source": [
    "baseline = f.load_model('baseline')"
   ]
  },
  {
   "cell_type": "markdown",
   "id": "3d6cdd74-68d9-41d3-9de1-b901d74f86c0",
   "metadata": {},
   "source": [
    "### Average Training Metrics"
   ]
  },
  {
   "cell_type": "code",
   "execution_count": 40,
   "id": "f77bb6ae-bc8a-404d-b065-642a86a48b1d",
   "metadata": {
    "execution": {
     "iopub.execute_input": "2021-08-23T08:44:58.834783Z",
     "iopub.status.busy": "2021-08-23T08:44:58.834402Z",
     "iopub.status.idle": "2021-08-23T08:44:59.078354Z",
     "shell.execute_reply": "2021-08-23T08:44:59.077603Z",
     "shell.execute_reply.started": "2021-08-23T08:44:58.834747Z"
    },
    "tags": []
   },
   "outputs": [
    {
     "name": "stdout",
     "output_type": "stream",
     "text": [
      " Baseline has an average Accuracy of 0.6403508735300234\n",
      " Baseline has an average F1 of 0.0\n",
      " Baseline has an average Recall of 0.0\n",
      " Baseline has an average Precision of 0.0\n",
      "time: 198 ms\n"
     ]
    }
   ],
   "source": [
    "with warnings.catch_warnings():\n",
    "    warnings.simplefilter('ignore')\n",
    "    modeling.report(baseline, X_train, y_train, ' Baseline', 'Baseline DummyCFL')"
   ]
  },
  {
   "cell_type": "markdown",
   "id": "b62c8c5e-c24d-4940-8c94-82d1ccbd7832",
   "metadata": {},
   "source": [
    "### Test Data Confusion Matrix"
   ]
  },
  {
   "cell_type": "code",
   "execution_count": 41,
   "id": "f974f4b7-f875-40d5-ad2a-18c9e156cc21",
   "metadata": {
    "execution": {
     "iopub.execute_input": "2021-08-23T08:44:59.079500Z",
     "iopub.status.busy": "2021-08-23T08:44:59.079357Z",
     "iopub.status.idle": "2021-08-23T08:44:59.485316Z",
     "shell.execute_reply": "2021-08-23T08:44:59.484652Z",
     "shell.execute_reply.started": "2021-08-23T08:44:59.079482Z"
    },
    "tags": []
   },
   "outputs": [
    {
     "data": {
      "image/png": "[encoded data removed]",
      "text/plain": [
       "<Figure size 504x504 with 2 Axes>"
      ]
     },
     "metadata": {},
     "output_type": "display_data"
    },
    {
     "data": {
      "text/html": [
       "<div>\n",
       "<style scoped>\n",
       "    .dataframe tbody tr th:only-of-type {\n",
       "        vertical-align: middle;\n",
       "    }\n",
       "\n",
       "    .dataframe tbody tr th {\n",
       "        vertical-align: top;\n",
       "    }\n",
       "\n",
       "    .dataframe thead th {\n",
       "        text-align: right;\n",
       "    }\n",
       "</style>\n",
       "<table border=\"1\" class=\"dataframe\">\n",
       "  <thead>\n",
       "    <tr style=\"text-align: right;\">\n",
       "      <th></th>\n",
       "      <th>Accuracy</th>\n",
       "      <th>F1</th>\n",
       "      <th>Recall</th>\n",
       "      <th>Precision</th>\n",
       "    </tr>\n",
       "  </thead>\n",
       "  <tbody>\n",
       "    <tr>\n",
       "      <th>0</th>\n",
       "      <td>0.640449</td>\n",
       "      <td>0.0</td>\n",
       "      <td>0.0</td>\n",
       "      <td>0.0</td>\n",
       "    </tr>\n",
       "  </tbody>\n",
       "</table>\n",
       "</div>"
      ],
      "text/plain": [
       "   Accuracy   F1  Recall  Precision\n",
       "0  0.640449  0.0     0.0        0.0"
      ]
     },
     "execution_count": 41,
     "metadata": {},
     "output_type": "execute_result"
    },
    {
     "name": "stdout",
     "output_type": "stream",
     "text": [
      "time: 328 ms\n"
     ]
    }
   ],
   "source": [
    "%%capture --no-display\n",
    "f.confusion_report(baseline, X_test, y_test, 'baseline')"
   ]
  },
  {
   "cell_type": "markdown",
   "id": "c8acf42b-89fc-42e4-a128-f3a2bb25119b",
   "metadata": {},
   "source": [
    "## Score Interpretation:\n",
    "\n",
    "F1 is a mix of both precision and recall, so the interpretation of the results is more easily given in terms of recall and precision.\n",
    "\n",
    "- From the confusion matrix we see that the baseline model is classifying everything as the majority class, which was expected.\n",
    "- No outcomes were correctly classified as Unsatisfactory, so the recall score for this model is 0. \n",
    "- No outcomes were classified as Unsatisfactory, so the precision score (the proportion of outcomes classified as Unsatisfactory that were truly Unsatisfactory) is 0 as well."
   ]
  },
  {
   "cell_type": "markdown",
   "id": "32639a34-0233-4bd8-8515-338b7f87cfe4",
   "metadata": {
    "tags": []
   },
   "source": [
    "## First Simple Model: Naive Bayes Classifier"
   ]
  },
  {
   "cell_type": "code",
   "execution_count": 42,
   "id": "790f7934-4b82-4307-9673-31c27d8f9af3",
   "metadata": {
    "execution": {
     "iopub.execute_input": "2021-08-23T08:44:59.486310Z",
     "iopub.status.busy": "2021-08-23T08:44:59.486170Z",
     "iopub.status.idle": "2021-08-23T08:44:59.528700Z",
     "shell.execute_reply": "2021-08-23T08:44:59.528149Z",
     "shell.execute_reply.started": "2021-08-23T08:44:59.486293Z"
    }
   },
   "outputs": [
    {
     "name": "stdout",
     "output_type": "stream",
     "text": [
      "time: 2.95 ms\n"
     ]
    }
   ],
   "source": [
    "fsm = f.load_model('fsm')"
   ]
  },
  {
   "cell_type": "markdown",
   "id": "9de001af-f1bb-4357-b029-8427d812ad8d",
   "metadata": {},
   "source": [
    "### Average Training Metrics"
   ]
  },
  {
   "cell_type": "code",
   "execution_count": 43,
   "id": "f03ca354-1e12-4000-8957-c6bc3b5c217d",
   "metadata": {
    "execution": {
     "iopub.execute_input": "2021-08-23T08:44:59.529843Z",
     "iopub.status.busy": "2021-08-23T08:44:59.529620Z",
     "iopub.status.idle": "2021-08-23T08:44:59.772034Z",
     "shell.execute_reply": "2021-08-23T08:44:59.771131Z",
     "shell.execute_reply.started": "2021-08-23T08:44:59.529823Z"
    },
    "tags": []
   },
   "outputs": [
    {
     "name": "stdout",
     "output_type": "stream",
     "text": [
      " fsm has an average Accuracy of 0.6447369805651159\n",
      " fsm has an average F1 of 0.27759213371791497\n",
      " fsm has an average Recall of 0.18978579583201646\n",
      " fsm has an average Precision of 0.5175573546203541\n",
      "time: 198 ms\n"
     ]
    }
   ],
   "source": [
    "# checking cross val scores\n",
    "modeling.report(fsm, X_train, y_train, ' fsm', 'FSM Naive Bayes')"
   ]
  },
  {
   "cell_type": "markdown",
   "id": "2352ed92-591c-4957-938b-7c3ba80f49e4",
   "metadata": {},
   "source": [
    "### Test Data Confusion Matrix"
   ]
  },
  {
   "cell_type": "code",
   "execution_count": 44,
   "id": "b9a39122-1f0d-45c9-b3c6-00fae88e2df6",
   "metadata": {
    "execution": {
     "iopub.execute_input": "2021-08-23T08:44:59.773304Z",
     "iopub.status.busy": "2021-08-23T08:44:59.773155Z",
     "iopub.status.idle": "2021-08-23T08:45:00.102869Z",
     "shell.execute_reply": "2021-08-23T08:45:00.102297Z",
     "shell.execute_reply.started": "2021-08-23T08:44:59.773286Z"
    },
    "tags": []
   },
   "outputs": [
    {
     "data": {
      "image/png": "[encoded data removed]",
      "text/plain": [
       "<Figure size 504x504 with 2 Axes>"
      ]
     },
     "metadata": {},
     "output_type": "display_data"
    },
    {
     "data": {
      "text/html": [
       "<div>\n",
       "<style scoped>\n",
       "    .dataframe tbody tr th:only-of-type {\n",
       "        vertical-align: middle;\n",
       "    }\n",
       "\n",
       "    .dataframe tbody tr th {\n",
       "        vertical-align: top;\n",
       "    }\n",
       "\n",
       "    .dataframe thead th {\n",
       "        text-align: right;\n",
       "    }\n",
       "</style>\n",
       "<table border=\"1\" class=\"dataframe\">\n",
       "  <thead>\n",
       "    <tr style=\"text-align: right;\">\n",
       "      <th></th>\n",
       "      <th>Accuracy</th>\n",
       "      <th>F1</th>\n",
       "      <th>Recall</th>\n",
       "      <th>Precision</th>\n",
       "    </tr>\n",
       "  </thead>\n",
       "  <tbody>\n",
       "    <tr>\n",
       "      <th>0</th>\n",
       "      <td>0.647575</td>\n",
       "      <td>0.276715</td>\n",
       "      <td>0.1875</td>\n",
       "      <td>0.527897</td>\n",
       "    </tr>\n",
       "  </tbody>\n",
       "</table>\n",
       "</div>"
      ],
      "text/plain": [
       "   Accuracy        F1  Recall  Precision\n",
       "0  0.647575  0.276715  0.1875   0.527897"
      ]
     },
     "execution_count": 44,
     "metadata": {},
     "output_type": "execute_result"
    },
    {
     "name": "stdout",
     "output_type": "stream",
     "text": [
      "time: 287 ms\n"
     ]
    }
   ],
   "source": [
    "f.confusion_report(fsm, X_test, y_test, 'fsm')"
   ]
  },
  {
   "cell_type": "markdown",
   "id": "af1f8eb1-6fbf-499e-ac80-da58e457b67a",
   "metadata": {},
   "source": [
    "## Score Interpretation:\n",
    "\n",
    "- From the confusion matrix we see that the fsm model is classifying outcomes slightly better than baseline.\n",
    "- The recall score of .19 indicates that about 19% outcomes were correctly classified as Unsatisfactory. \n",
    "- The precision score .53 indicates that about 53% of outcomes classified as Unsatisfactory were truly Unsatisfactory."
   ]
  },
  {
   "cell_type": "markdown",
   "id": "b3ddec6b-d6c2-4b6e-887c-f3f9efe14c7e",
   "metadata": {},
   "source": [
    "# Intermediate Modeling and Adjustments\n",
    "\n",
    "**Algorithms Tested**\n",
    "\n",
    "KNN, Linear SVC , Decision Tree, Logistic Regression, AdaBoost, Support Vector CLF, Bagging CLF, Random Forest, XGBoost CLF\n",
    "\n",
    "**Standard Scaling**\n",
    "\n",
    "Since a few of the numerical features differ by orders of magnitude, standard scaling was implemented to aid in model convergence and performance.\n",
    "\n",
    "**SMOTE**\n",
    "\n",
    "Since the classes have an imbalance of around 2 to 1, SMOTE was added to the pipeline in an attempt to aid model performance.\n",
    "\n",
    "**Hyper Parameter Tuning**\n",
    "\n",
    "After the final model was chosen, hyperparameter tuning was performed using Random Search Cross validation."
   ]
  },
  {
   "cell_type": "markdown",
   "id": "e5fcd943-8046-45b2-9284-099a19cb9260",
   "metadata": {},
   "source": [
    "# Final Model: Voting Classifier \n",
    "## (Bagging CLF, Random Forest CLF, XGBoost CLF)"
   ]
  },
  {
   "cell_type": "code",
   "execution_count": 45,
   "id": "3195ebb8-89e5-42f6-9ca2-4d52690c8a7c",
   "metadata": {
    "execution": {
     "iopub.execute_input": "2021-08-23T08:45:00.103821Z",
     "iopub.status.busy": "2021-08-23T08:45:00.103672Z",
     "iopub.status.idle": "2021-08-23T08:45:00.587243Z",
     "shell.execute_reply": "2021-08-23T08:45:00.586685Z",
     "shell.execute_reply.started": "2021-08-23T08:45:00.103803Z"
    },
    "tags": []
   },
   "outputs": [
    {
     "name": "stdout",
     "output_type": "stream",
     "text": [
      "time: 445 ms\n"
     ]
    }
   ],
   "source": [
    "best_model = f.load_model('final')"
   ]
  },
  {
   "cell_type": "markdown",
   "id": "ede665b4-edcd-4565-8200-2d5977ae3070",
   "metadata": {},
   "source": [
    "## Average Training Metrics"
   ]
  },
  {
   "cell_type": "code",
   "execution_count": 46,
   "id": "df4137d8-34a5-4d99-b4d0-50d8a2ac9209",
   "metadata": {
    "execution": {
     "iopub.execute_input": "2021-08-23T08:45:00.588693Z",
     "iopub.status.busy": "2021-08-23T08:45:00.588440Z",
     "iopub.status.idle": "2021-08-23T08:45:14.671515Z",
     "shell.execute_reply": "2021-08-23T08:45:14.670118Z",
     "shell.execute_reply.started": "2021-08-23T08:45:00.588671Z"
    },
    "tags": []
   },
   "outputs": [
    {
     "name": "stdout",
     "output_type": "stream",
     "text": [
      "best_model has an average Accuracy of 0.7593199920159213\n",
      "best_model has an average F1 of 0.6613449865812424\n",
      "best_model has an average Recall of 0.653456227142848\n",
      "best_model has an average Precision of 0.6696263324427678\n",
      "time: 14 s\n"
     ]
    }
   ],
   "source": [
    "modeling.report(best_model, X_train, y_train, 'best_model',\\\n",
    "                'Tuned Voting CLF SS()/SMOTE SOFT')"
   ]
  },
  {
   "cell_type": "markdown",
   "id": "e9047a51-7f19-43d3-9fc9-1fb32d2337e9",
   "metadata": {},
   "source": [
    "### Test Data Confusion Matrix"
   ]
  },
  {
   "cell_type": "code",
   "execution_count": 47,
   "id": "a07c5548-f69b-4a69-9931-705423a46db5",
   "metadata": {
    "execution": {
     "iopub.execute_input": "2021-08-23T08:45:14.673812Z",
     "iopub.status.busy": "2021-08-23T08:45:14.673405Z",
     "iopub.status.idle": "2021-08-23T08:45:15.594093Z",
     "shell.execute_reply": "2021-08-23T08:45:15.593187Z",
     "shell.execute_reply.started": "2021-08-23T08:45:14.673774Z"
    },
    "tags": []
   },
   "outputs": [
    {
     "data": {
      "image/png": "[encoded data removed]",
      "text/plain": [
       "<Figure size 504x504 with 2 Axes>"
      ]
     },
     "metadata": {},
     "output_type": "display_data"
    },
    {
     "data": {
      "text/html": [
       "<div>\n",
       "<style scoped>\n",
       "    .dataframe tbody tr th:only-of-type {\n",
       "        vertical-align: middle;\n",
       "    }\n",
       "\n",
       "    .dataframe tbody tr th {\n",
       "        vertical-align: top;\n",
       "    }\n",
       "\n",
       "    .dataframe thead th {\n",
       "        text-align: right;\n",
       "    }\n",
       "</style>\n",
       "<table border=\"1\" class=\"dataframe\">\n",
       "  <thead>\n",
       "    <tr style=\"text-align: right;\">\n",
       "      <th></th>\n",
       "      <th>Accuracy</th>\n",
       "      <th>F1</th>\n",
       "      <th>Recall</th>\n",
       "      <th>Precision</th>\n",
       "    </tr>\n",
       "  </thead>\n",
       "  <tbody>\n",
       "    <tr>\n",
       "      <th>0</th>\n",
       "      <td>0.767608</td>\n",
       "      <td>0.669782</td>\n",
       "      <td>0.655488</td>\n",
       "      <td>0.684713</td>\n",
       "    </tr>\n",
       "  </tbody>\n",
       "</table>\n",
       "</div>"
      ],
      "text/plain": [
       "   Accuracy        F1    Recall  Precision\n",
       "0  0.767608  0.669782  0.655488   0.684713"
      ]
     },
     "execution_count": 47,
     "metadata": {},
     "output_type": "execute_result"
    },
    {
     "name": "stdout",
     "output_type": "stream",
     "text": [
      "time: 813 ms\n"
     ]
    }
   ],
   "source": [
    "f.confusion_report(best_model, X_test, y_test, 'final_model')"
   ]
  },
  {
   "cell_type": "markdown",
   "id": "a9152508-d45a-4af9-97df-9cb884a708de",
   "metadata": {
    "tags": []
   },
   "source": [
    "## Score Interpretation:\n",
    "\n",
    "Upon validation with the test data we see that the model is still having some trouble the minority class, but performance has been improved to a level that is acceptable for our purposes.\n",
    "\n",
    "- The recall score of .66 indicates that about 66% outcomes were correctly classified as Unsatisfactory.\n",
    "- The precision score .68 indicates that about 68% of outcomes classified as Unsatisfactory were truly Unsatisfactory."
   ]
  },
  {
   "cell_type": "markdown",
   "id": "1e648b26-c461-4a6f-bbe9-640dcd8a7190",
   "metadata": {
    "tags": []
   },
   "source": [
    "## Modeling Summary Average Training Scores"
   ]
  },
  {
   "cell_type": "code",
   "execution_count": 48,
   "id": "0b2f551a-9536-4965-8a85-37b1943c2fef",
   "metadata": {
    "execution": {
     "iopub.execute_input": "2021-08-23T08:45:15.595930Z",
     "iopub.status.busy": "2021-08-23T08:45:15.595730Z",
     "iopub.status.idle": "2021-08-23T08:45:15.665539Z",
     "shell.execute_reply": "2021-08-23T08:45:15.664682Z",
     "shell.execute_reply.started": "2021-08-23T08:45:15.595906Z"
    },
    "tags": []
   },
   "outputs": [
    {
     "data": {
      "text/html": [
       "<div>\n",
       "<style scoped>\n",
       "    .dataframe tbody tr th:only-of-type {\n",
       "        vertical-align: middle;\n",
       "    }\n",
       "\n",
       "    .dataframe tbody tr th {\n",
       "        vertical-align: top;\n",
       "    }\n",
       "\n",
       "    .dataframe thead th {\n",
       "        text-align: right;\n",
       "    }\n",
       "</style>\n",
       "<table border=\"1\" class=\"dataframe\">\n",
       "  <thead>\n",
       "    <tr style=\"text-align: right;\">\n",
       "      <th></th>\n",
       "      <th>Name</th>\n",
       "      <th>Accuracy</th>\n",
       "      <th>F1</th>\n",
       "      <th>Recall</th>\n",
       "      <th>Precision</th>\n",
       "      <th>CV_Time(sec)</th>\n",
       "      <th>Notes</th>\n",
       "    </tr>\n",
       "  </thead>\n",
       "  <tbody>\n",
       "    <tr>\n",
       "      <th>0</th>\n",
       "      <td>Baseline</td>\n",
       "      <td>0.640351</td>\n",
       "      <td>0.000000</td>\n",
       "      <td>0.000000</td>\n",
       "      <td>0.000000</td>\n",
       "      <td>0.194712</td>\n",
       "      <td>Baseline DummyCFL</td>\n",
       "    </tr>\n",
       "    <tr>\n",
       "      <th>1</th>\n",
       "      <td>fsm</td>\n",
       "      <td>0.644737</td>\n",
       "      <td>0.277592</td>\n",
       "      <td>0.189786</td>\n",
       "      <td>0.517557</td>\n",
       "      <td>0.194607</td>\n",
       "      <td>FSM Naive Bayes</td>\n",
       "    </tr>\n",
       "    <tr>\n",
       "      <th>2</th>\n",
       "      <td>best_model</td>\n",
       "      <td>0.759320</td>\n",
       "      <td>0.661345</td>\n",
       "      <td>0.653456</td>\n",
       "      <td>0.669626</td>\n",
       "      <td>14.025514</td>\n",
       "      <td>Tuned Voting CLF SS()/SMOTE SOFT</td>\n",
       "    </tr>\n",
       "  </tbody>\n",
       "</table>\n",
       "</div>"
      ],
      "text/plain": [
       "         Name  Accuracy        F1    Recall  Precision  CV_Time(sec)  \\\n",
       "0    Baseline  0.640351  0.000000  0.000000   0.000000      0.194712   \n",
       "1         fsm  0.644737  0.277592  0.189786   0.517557      0.194607   \n",
       "2  best_model  0.759320  0.661345  0.653456   0.669626     14.025514   \n",
       "\n",
       "                              Notes  \n",
       "0                 Baseline DummyCFL  \n",
       "1                   FSM Naive Bayes  \n",
       "2  Tuned Voting CLF SS()/SMOTE SOFT  "
      ]
     },
     "execution_count": 48,
     "metadata": {},
     "output_type": "execute_result"
    },
    {
     "name": "stdout",
     "output_type": "stream",
     "text": [
      "time: 11 ms\n"
     ]
    }
   ],
   "source": [
    "modeling.history"
   ]
  },
  {
   "cell_type": "markdown",
   "id": "fcdaa4da-5baa-4a53-8814-fe8fe9933ea6",
   "metadata": {
    "tags": []
   },
   "source": [
    "# F1 Permutation Importances"
   ]
  },
  {
   "cell_type": "code",
   "execution_count": 49,
   "id": "f3dd6183-4d5e-4edc-ae4e-3029c73ba19f",
   "metadata": {
    "execution": {
     "iopub.execute_input": "2021-08-23T08:45:15.667314Z",
     "iopub.status.busy": "2021-08-23T08:45:15.666921Z",
     "iopub.status.idle": "2021-08-23T08:45:22.836869Z",
     "shell.execute_reply": "2021-08-23T08:45:22.836197Z",
     "shell.execute_reply.started": "2021-08-23T08:45:15.667283Z"
    },
    "tags": []
   },
   "outputs": [
    {
     "data": {
      "image/png": "[encoded data removed]",
      "text/plain": [
       "<Figure size 1152x576 with 1 Axes>"
      ]
     },
     "metadata": {},
     "output_type": "display_data"
    },
    {
     "name": "stdout",
     "output_type": "stream",
     "text": [
      "time: 7.1 s\n"
     ]
    }
   ],
   "source": [
    "f.perm_importances(best_model, X_test, y_test, 'f1', 'perm_importances')"
   ]
  },
  {
   "cell_type": "markdown",
   "id": "9684b3e3-1708-4f3b-a4fd-0b8b48919fe4",
   "metadata": {},
   "source": [
    "The assessment score features (median_score, mean_score & weighted_ave) are the main drivers of the model, with mean_score being the greatest. Interestingly, some of the most statistically significant features (imd_band, highest_education, and course_load) have little to no effect on the model."
   ]
  },
  {
   "cell_type": "markdown",
   "id": "efef6272-8815-4bf3-ad6e-efde09936787",
   "metadata": {},
   "source": [
    "# Validating the Model on Holdout Data"
   ]
  },
  {
   "cell_type": "markdown",
   "id": "243e8513-2788-44c9-85a4-76b2b117be1a",
   "metadata": {},
   "source": [
    "### Average Metrics"
   ]
  },
  {
   "cell_type": "code",
   "execution_count": 50,
   "id": "ce6bca81-8cf7-426a-8f3c-667521fc280b",
   "metadata": {
    "execution": {
     "iopub.execute_input": "2021-08-23T08:45:22.838514Z",
     "iopub.status.busy": "2021-08-23T08:45:22.838061Z",
     "iopub.status.idle": "2021-08-23T08:45:26.257114Z",
     "shell.execute_reply": "2021-08-23T08:45:26.256019Z",
     "shell.execute_reply.started": "2021-08-23T08:45:22.838483Z"
    },
    "tags": []
   },
   "outputs": [
    {
     "name": "stdout",
     "output_type": "stream",
     "text": [
      "best_model has an average Accuracy of 0.7408016443987667\n",
      "best_model has an average F1 of 0.6306630954880841\n",
      "best_model has an average Recall of 0.6157707736389685\n",
      "best_model has an average Precision of 0.6465969439341758\n",
      "time: 3.35 s\n"
     ]
    }
   ],
   "source": [
    "# checking cross val scores\n",
    "modeling.report(best_model, X_holdout, y_holdout, 'best_model',\\\n",
    "                'Tuned Voting CLF SS()/SMOTE SOFT HOLDOUT')"
   ]
  },
  {
   "cell_type": "markdown",
   "id": "784105f9-5dc3-41e1-bda1-016ab2c32302",
   "metadata": {
    "tags": []
   },
   "source": [
    "### Holdout Data Confusion Matrix"
   ]
  },
  {
   "cell_type": "code",
   "execution_count": 51,
   "id": "92723ef3-cebb-4118-9113-5e88fd6d57b7",
   "metadata": {
    "execution": {
     "iopub.execute_input": "2021-08-23T08:45:26.258995Z",
     "iopub.status.busy": "2021-08-23T08:45:26.258680Z",
     "iopub.status.idle": "2021-08-23T08:45:27.061783Z",
     "shell.execute_reply": "2021-08-23T08:45:27.061211Z",
     "shell.execute_reply.started": "2021-08-23T08:45:26.258957Z"
    },
    "tags": []
   },
   "outputs": [
    {
     "data": {
      "image/png": "[encoded data removed]",
      "text/plain": [
       "<Figure size 504x504 with 2 Axes>"
      ]
     },
     "metadata": {},
     "output_type": "display_data"
    },
    {
     "data": {
      "text/html": [
       "<div>\n",
       "<style scoped>\n",
       "    .dataframe tbody tr th:only-of-type {\n",
       "        vertical-align: middle;\n",
       "    }\n",
       "\n",
       "    .dataframe tbody tr th {\n",
       "        vertical-align: top;\n",
       "    }\n",
       "\n",
       "    .dataframe thead th {\n",
       "        text-align: right;\n",
       "    }\n",
       "</style>\n",
       "<table border=\"1\" class=\"dataframe\">\n",
       "  <thead>\n",
       "    <tr style=\"text-align: right;\">\n",
       "      <th></th>\n",
       "      <th>Accuracy</th>\n",
       "      <th>F1</th>\n",
       "      <th>Recall</th>\n",
       "      <th>Precision</th>\n",
       "    </tr>\n",
       "  </thead>\n",
       "  <tbody>\n",
       "    <tr>\n",
       "      <th>0</th>\n",
       "      <td>0.759712</td>\n",
       "      <td>0.657084</td>\n",
       "      <td>0.640366</td>\n",
       "      <td>0.674699</td>\n",
       "    </tr>\n",
       "  </tbody>\n",
       "</table>\n",
       "</div>"
      ],
      "text/plain": [
       "   Accuracy        F1    Recall  Precision\n",
       "0  0.759712  0.657084  0.640366   0.674699"
      ]
     },
     "execution_count": 51,
     "metadata": {},
     "output_type": "execute_result"
    },
    {
     "name": "stdout",
     "output_type": "stream",
     "text": [
      "time: 707 ms\n"
     ]
    }
   ],
   "source": [
    "f.confusion_report(best_model, X_holdout, y_holdout)"
   ]
  },
  {
   "cell_type": "markdown",
   "id": "e6b1005c-9b05-49b3-bc97-6c0265f88aff",
   "metadata": {
    "tags": []
   },
   "source": [
    "## Score Interpretation:\n",
    "\n",
    "Upon validation with the holdout data we see that the model is still having some trouble the minority class, but performance is at a level that is acceptable for our purposes.\n",
    "\n",
    "- The recall score of .64 indicates that about 64% outcomes were correctly classified as Unsatisfactory.\n",
    "- The precision score .67 indicates that about 67% of outcomes classified as Unsatisfactory were truly Unsatisfactory."
   ]
  },
  {
   "cell_type": "code",
   "execution_count": null,
   "id": "683cb0c2-591b-48cc-81a7-a114b730cc19",
   "metadata": {},
   "outputs": [],
   "source": []
  },
  {
   "cell_type": "markdown",
   "id": "1f10388a-aa50-4590-930a-137b49cafda4",
   "metadata": {},
   "source": [
    "## Sources\n",
    "\n",
    "1. \"The Evolution of Distance Education in 2020.\" *KU Online Degrees Blog*, 17 September 2020, https://educationonline.ku.edu/community/distance-education-evolution-in-2020.\n",
    "\n",
    "2. Koksal, Ilker. \"The Rise Of Online Learning.\"  *Forbes.com*, 2 May 2020, www.forbes.com/sites/ilkerkoksal/2020/05/02/the-rise-of-online-learning/.\n",
    "\n",
    "3. Johnson Hess, Abigail.\"Online learning boomed during the pandemic—but what happens when students return to classrooms?.\" *www.cnbc.com*, 26 March 2021, www.cnbc.com/2021/03/26/online-learning-boomed-during-the-pandemic-but-soon-students-return-to-school.html.\n",
    "\n",
    "4. McElrath, Kevin. \"Nearly 93% of Households With School-Age Children Report Some Form of Distance Learning During COVID-19.\" *census.gov*, 26 August 2020, www.census.gov/library/stories/2020/08/schooling-during-the-covid-19-pandemic.html.\n",
    "\n",
    "5. NASPA Foundation & Course Hero. \"Student Wellness During Covid-19.\" October 2020, https://marketplace.collegepulse.com/img/student_wellness_collegepulse_final.pdf.\n",
    "\n",
    "6. \n",
    "Donnelly, Robin &  Patrinos, Harry A. \"Is the COVID-19 slide in education real?.\" *blogs.worldbank.org*, 8 December 2020, https://blogs.worldbank.org/education/covid-19-slide-education-real\n",
    "\n",
    "7. Johnson Hess, Abigail. \"7 ways the coronavirus pandemic could change college this fall and forever.\" *www.cnbc.com* June 19 2020,\n",
    "www.cnbc.com/2020/06/19/7-ways-coronavirus-pandemic-may-change-college-this-fall-and-forever.html"
   ]
  }
 ],
 "metadata": {
  "kernelspec": {
   "display_name": "oo",
   "language": "python",
   "name": "oo"
  },
  "language_info": {
   "codemirror_mode": {
    "name": "ipython",
    "version": 3
   },
   "file_extension": ".py",
   "mimetype": "text/x-python",
   "name": "python",
   "nbconvert_exporter": "python",
   "pygments_lexer": "ipython3",
   "version": "3.9.6"
  },
  "toc-showmarkdowntxt": false
 },
 "nbformat": 4,
 "nbformat_minor": 5
}
