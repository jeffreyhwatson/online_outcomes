{
 "cells": [
  {
   "cell_type": "code",
   "execution_count": 1,
   "id": "d2febd79-41c2-4c76-8f99-081e8522351e",
   "metadata": {
    "execution": {
     "iopub.execute_input": "2021-08-20T20:30:34.211547Z",
     "iopub.status.busy": "2021-08-20T20:30:34.210564Z",
     "iopub.status.idle": "2021-08-20T20:30:34.271236Z",
     "shell.execute_reply": "2021-08-20T20:30:34.269466Z",
     "shell.execute_reply.started": "2021-08-20T20:30:34.211382Z"
    }
   },
   "outputs": [],
   "source": [
    "%load_ext autoreload\n",
    "%load_ext autotime\n",
    "%autoreload 2"
   ]
  },
  {
   "cell_type": "markdown",
   "id": "f54ff6b4-75f0-4bad-b4ba-c7b2f2cfb53b",
   "metadata": {},
   "source": [
    "# Online Outcomes: Predicting Success in Virtual Learning\n",
    "\n",
    "**<font size=\"4\">Author: Jeffrey Hanif Watson</font>**"
   ]
  },
  {
   "cell_type": "markdown",
   "id": "575d2f7d-134e-4f65-b144-bc6384d76cca",
   "metadata": {},
   "source": [
    "## Imports and Project Path"
   ]
  },
  {
   "cell_type": "code",
   "execution_count": 55,
   "id": "66f3ef85-40f6-459b-bc25-52b6c389e82c",
   "metadata": {
    "execution": {
     "iopub.execute_input": "2021-08-20T21:36:02.573105Z",
     "iopub.status.busy": "2021-08-20T21:36:02.572542Z",
     "iopub.status.idle": "2021-08-20T21:36:02.656994Z",
     "shell.execute_reply": "2021-08-20T21:36:02.656227Z",
     "shell.execute_reply.started": "2021-08-20T21:36:02.573063Z"
    },
    "tags": []
   },
   "outputs": [
    {
     "name": "stdout",
     "output_type": "stream",
     "text": [
      "time: 3.15 ms\n"
     ]
    }
   ],
   "source": [
    "# setting project path\n",
    "import os, sys\n",
    "\n",
    "gparent = os.path.join(os.pardir, os.pardir)\n",
    "sys.path.append(gparent)\n",
    "\n",
    "# importing packages\n",
    "import os, sys\n",
    "import pandas as pd\n",
    "import numpy as np\n",
    "import scipy.stats as stats\n",
    "import statsmodels.api as sm\n",
    "\n",
    "from src import class_Database_report as d\n",
    "from src import helper_functions as f\n",
    "from src import visualizations as v\n",
    "\n",
    "import matplotlib.pyplot as plt\n",
    "import seaborn as sns\n",
    "%matplotlib inline\n",
    "\n",
    "sns.set_theme('talk')\n",
    "plt.style.use('fivethirtyeight')\n",
    "sns.set_palette('GnBu_r')\n",
    "pd.options.display.max_rows = 300"
   ]
  },
  {
   "cell_type": "markdown",
   "id": "9e287a0c-e4bf-4a89-a170-ef62e0c075e9",
   "metadata": {
    "tags": []
   },
   "source": [
    "## Creating The Database"
   ]
  },
  {
   "cell_type": "code",
   "execution_count": 3,
   "id": "d7a81e78-fc5c-44e1-82a1-c3cb2b836be3",
   "metadata": {
    "execution": {
     "iopub.execute_input": "2021-08-20T20:30:37.041254Z",
     "iopub.status.busy": "2021-08-20T20:30:37.040900Z",
     "iopub.status.idle": "2021-08-20T20:30:37.096072Z",
     "shell.execute_reply": "2021-08-20T20:30:37.095581Z",
     "shell.execute_reply.started": "2021-08-20T20:30:37.041220Z"
    },
    "tags": []
   },
   "outputs": [
    {
     "name": "stdout",
     "output_type": "stream",
     "text": [
      "time: 1.19 ms\n"
     ]
    }
   ],
   "source": [
    "# creating database & database class instance\n",
    "database_name = 'outcomes.db'\n",
    "db = dr.Database(database_name)"
   ]
  },
  {
   "cell_type": "markdown",
   "id": "d43b1d21-df6a-4974-b923-fd78fff0414e",
   "metadata": {},
   "source": [
    "**Run the cell below once to populate the database. After the database is populated, the cell can be commented out**"
   ]
  },
  {
   "cell_type": "code",
   "execution_count": 4,
   "id": "0a644257-e680-4aa7-a317-5767f8d0072e",
   "metadata": {
    "execution": {
     "iopub.execute_input": "2021-08-20T20:30:37.098191Z",
     "iopub.status.busy": "2021-08-20T20:30:37.097987Z",
     "iopub.status.idle": "2021-08-20T20:30:37.140144Z",
     "shell.execute_reply": "2021-08-20T20:30:37.139494Z",
     "shell.execute_reply.started": "2021-08-20T20:30:37.098172Z"
    },
    "tags": []
   },
   "outputs": [
    {
     "name": "stdout",
     "output_type": "stream",
     "text": [
      "time: 532 µs\n"
     ]
    }
   ],
   "source": [
    "# file_name = 'anonymisedData.zip'\n",
    "# db.populate(file_name, database_name)"
   ]
  },
  {
   "cell_type": "markdown",
   "id": "de905048-819f-4360-a8c5-de6354cbdf1a",
   "metadata": {},
   "source": [
    "## Exploring the Data"
   ]
  }
 ],
 "metadata": {
  "kernelspec": {
   "display_name": "oo",
   "language": "python",
   "name": "oo"
  },
  "language_info": {
   "codemirror_mode": {
    "name": "ipython",
    "version": 3
   },
   "file_extension": ".py",
   "mimetype": "text/x-python",
   "name": "python",
   "nbconvert_exporter": "python",
   "pygments_lexer": "ipython3",
   "version": "3.9.6"
  }
 },
 "nbformat": 4,
 "nbformat_minor": 5
}
