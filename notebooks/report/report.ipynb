{
 "cells": [
  {
   "cell_type": "code",
   "execution_count": 1,
   "id": "d2febd79-41c2-4c76-8f99-081e8522351e",
   "metadata": {
    "execution": {
     "iopub.execute_input": "2021-08-20T20:30:34.211547Z",
     "iopub.status.busy": "2021-08-20T20:30:34.210564Z",
     "iopub.status.idle": "2021-08-20T20:30:34.271236Z",
     "shell.execute_reply": "2021-08-20T20:30:34.269466Z",
     "shell.execute_reply.started": "2021-08-20T20:30:34.211382Z"
    }
   },
   "outputs": [],
   "source": [
    "%load_ext autoreload\n",
    "%load_ext autotime\n",
    "%autoreload 2"
   ]
  },
  {
   "cell_type": "markdown",
   "id": "f54ff6b4-75f0-4bad-b4ba-c7b2f2cfb53b",
   "metadata": {},
   "source": [
    "# Online Outcomes: Predicting Success in Virtual Learning\n",
    "\n",
    "**<font size=\"4\">Author: Jeffrey Hanif Watson</font>**"
   ]
  },
  {
   "cell_type": "markdown",
   "id": "575d2f7d-134e-4f65-b144-bc6384d76cca",
   "metadata": {},
   "source": [
    "## Imports and Project Path"
   ]
  },
  {
   "cell_type": "code",
   "execution_count": 55,
   "id": "66f3ef85-40f6-459b-bc25-52b6c389e82c",
   "metadata": {
    "execution": {
     "iopub.execute_input": "2021-08-20T21:36:02.573105Z",
     "iopub.status.busy": "2021-08-20T21:36:02.572542Z",
     "iopub.status.idle": "2021-08-20T21:36:02.656994Z",
     "shell.execute_reply": "2021-08-20T21:36:02.656227Z",
     "shell.execute_reply.started": "2021-08-20T21:36:02.573063Z"
    },
    "tags": []
   },
   "outputs": [
    {
     "name": "stdout",
     "output_type": "stream",
     "text": [
      "time: 3.15 ms\n"
     ]
    }
   ],
   "source": [
    "# setting project path\n",
    "import os, sys\n",
    "\n",
    "gparent = os.path.join(os.pardir, os.pardir)\n",
    "sys.path.append(gparent)\n",
    "\n",
    "\n",
    "# importing packages\n",
    "import os, sys\n",
    "import pandas as pd\n",
    "import numpy as np\n",
    "import scipy.stats as stats\n",
    "import statsmodels.api as sm\n",
    "# import sqlite3\n",
    "\n",
    "# setting project path\n",
    "gparent = os.path.join(os.pardir, os.pardir)\n",
    "sys.path.append(gparent)\n",
    "\n",
    "# from IPython.display import Audio\n",
    "# sound_file = '/Users/dsbox/Documents/Flatiron/phase_5/WAILERLP.wav'\n",
    "\n",
    "# from dython.nominal import associations\n",
    "\n",
    "from src import class_Database_report as dr\n",
    "from src import helper_functions as f\n",
    "from src import visualizations as v\n",
    "\n",
    "import matplotlib.pyplot as plt\n",
    "import seaborn as sns\n",
    "\n",
    "%matplotlib inline\n",
    "\n",
    "sns.set_theme('talk')\n",
    "plt.style.use('fivethirtyeight')\n",
    "sns.set_palette('GnBu_r')\n",
    "pd.options.display.max_rows = 300\n",
    "import pandas as pd\n",
    "import numpy as np\n",
    "import matplotlib.pyplot as plt\n",
    "import seaborn as sns"
   ]
  },
  {
   "cell_type": "markdown",
   "id": "9e287a0c-e4bf-4a89-a170-ef62e0c075e9",
   "metadata": {
    "tags": []
   },
   "source": [
    "## Creating The Database"
   ]
  },
  {
   "cell_type": "code",
   "execution_count": 3,
   "id": "d7a81e78-fc5c-44e1-82a1-c3cb2b836be3",
   "metadata": {
    "execution": {
     "iopub.execute_input": "2021-08-20T20:30:37.041254Z",
     "iopub.status.busy": "2021-08-20T20:30:37.040900Z",
     "iopub.status.idle": "2021-08-20T20:30:37.096072Z",
     "shell.execute_reply": "2021-08-20T20:30:37.095581Z",
     "shell.execute_reply.started": "2021-08-20T20:30:37.041220Z"
    },
    "tags": []
   },
   "outputs": [
    {
     "name": "stdout",
     "output_type": "stream",
     "text": [
      "time: 1.19 ms\n"
     ]
    }
   ],
   "source": [
    "# creating database & database class instance\n",
    "database_name = 'outcomes.db'\n",
    "db = dr.Database(database_name)"
   ]
  },
  {
   "cell_type": "markdown",
   "id": "d43b1d21-df6a-4974-b923-fd78fff0414e",
   "metadata": {},
   "source": [
    "**Run the cell below once to populate the database. After the database is populated, the cell can be commented out**"
   ]
  },
  {
   "cell_type": "code",
   "execution_count": 4,
   "id": "0a644257-e680-4aa7-a317-5767f8d0072e",
   "metadata": {
    "execution": {
     "iopub.execute_input": "2021-08-20T20:30:37.098191Z",
     "iopub.status.busy": "2021-08-20T20:30:37.097987Z",
     "iopub.status.idle": "2021-08-20T20:30:37.140144Z",
     "shell.execute_reply": "2021-08-20T20:30:37.139494Z",
     "shell.execute_reply.started": "2021-08-20T20:30:37.098172Z"
    },
    "tags": []
   },
   "outputs": [
    {
     "name": "stdout",
     "output_type": "stream",
     "text": [
      "time: 532 µs\n"
     ]
    }
   ],
   "source": [
    "# file_name = 'anonymisedData.zip'\n",
    "# db.populate(file_name, database_name)"
   ]
  },
  {
   "cell_type": "markdown",
   "id": "de905048-819f-4360-a8c5-de6354cbdf1a",
   "metadata": {},
   "source": [
    "## Exploring the Data"
   ]
  },
  {
   "cell_type": "code",
   "execution_count": 5,
   "id": "ae2b9625-5c93-443c-acc4-ecac35ac44ee",
   "metadata": {
    "execution": {
     "iopub.execute_input": "2021-08-20T20:30:37.141465Z",
     "iopub.status.busy": "2021-08-20T20:30:37.141277Z",
     "iopub.status.idle": "2021-08-20T20:30:37.399829Z",
     "shell.execute_reply": "2021-08-20T20:30:37.398989Z",
     "shell.execute_reply.started": "2021-08-20T20:30:37.141445Z"
    },
    "tags": []
   },
   "outputs": [
    {
     "name": "stdout",
     "output_type": "stream",
     "text": [
      "time: 215 ms\n"
     ]
    }
   ],
   "source": [
    "student_info = db.student_info_df()"
   ]
  },
  {
   "cell_type": "code",
   "execution_count": 6,
   "id": "fa1052ab-dbd2-44c8-a630-633d56a7f733",
   "metadata": {
    "execution": {
     "iopub.execute_input": "2021-08-20T20:30:37.401426Z",
     "iopub.status.busy": "2021-08-20T20:30:37.401212Z",
     "iopub.status.idle": "2021-08-20T20:30:37.467473Z",
     "shell.execute_reply": "2021-08-20T20:30:37.466342Z",
     "shell.execute_reply.started": "2021-08-20T20:30:37.401392Z"
    },
    "tags": []
   },
   "outputs": [
    {
     "name": "stdout",
     "output_type": "stream",
     "text": [
      "<class 'pandas.core.frame.DataFrame'>\n",
      "RangeIndex: 32593 entries, 0 to 32592\n",
      "Data columns (total 14 columns):\n",
      " #   Column                Non-Null Count  Dtype \n",
      "---  ------                --------------  ----- \n",
      " 0   target                32593 non-null  int64 \n",
      " 1   row_id                32593 non-null  object\n",
      " 2   code_module           32593 non-null  object\n",
      " 3   code_presentation     32593 non-null  object\n",
      " 4   id_student            32593 non-null  object\n",
      " 5   gender                32593 non-null  object\n",
      " 6   region                32593 non-null  object\n",
      " 7   highest_education     32593 non-null  object\n",
      " 8   imd_band              31482 non-null  object\n",
      " 9   age_band              32593 non-null  object\n",
      " 10  num_of_prev_attempts  32593 non-null  int64 \n",
      " 11  studied_credits       32593 non-null  int64 \n",
      " 12  disability            32593 non-null  object\n",
      " 13  final_result          32593 non-null  object\n",
      "dtypes: int64(3), object(11)\n",
      "memory usage: 3.5+ MB\n",
      "time: 24.1 ms\n"
     ]
    }
   ],
   "source": [
    "student_info.info()"
   ]
  },
  {
   "cell_type": "code",
   "execution_count": 7,
   "id": "73a81738-c4ac-4406-a098-f6df50456a17",
   "metadata": {
    "execution": {
     "iopub.execute_input": "2021-08-20T20:30:37.468725Z",
     "iopub.status.busy": "2021-08-20T20:30:37.468436Z",
     "iopub.status.idle": "2021-08-20T20:30:37.572442Z",
     "shell.execute_reply": "2021-08-20T20:30:37.571985Z",
     "shell.execute_reply.started": "2021-08-20T20:30:37.468701Z"
    },
    "tags": []
   },
   "outputs": [
    {
     "name": "stdout",
     "output_type": "stream",
     "text": [
      "time: 61.4 ms\n"
     ]
    }
   ],
   "source": [
    "student_info = db.cleaner_studentinfo(student_info,[])"
   ]
  },
  {
   "cell_type": "code",
   "execution_count": 8,
   "id": "a38ada83-91fe-4b08-8c3e-ac65ca9233d0",
   "metadata": {
    "execution": {
     "iopub.execute_input": "2021-08-20T20:30:37.573712Z",
     "iopub.status.busy": "2021-08-20T20:30:37.573503Z",
     "iopub.status.idle": "2021-08-20T20:30:37.636428Z",
     "shell.execute_reply": "2021-08-20T20:30:37.635809Z",
     "shell.execute_reply.started": "2021-08-20T20:30:37.573689Z"
    },
    "tags": []
   },
   "outputs": [
    {
     "name": "stdout",
     "output_type": "stream",
     "text": [
      "<class 'pandas.core.frame.DataFrame'>\n",
      "Int64Index: 31144 entries, 1 to 32592\n",
      "Data columns (total 15 columns):\n",
      " #   Column                Non-Null Count  Dtype   \n",
      "---  ------                --------------  -----   \n",
      " 0   target                31144 non-null  int64   \n",
      " 1   row_id                31144 non-null  object  \n",
      " 2   code_module           31144 non-null  object  \n",
      " 3   code_presentation     31144 non-null  object  \n",
      " 4   id_student            31144 non-null  object  \n",
      " 5   gender                31144 non-null  object  \n",
      " 6   region                31144 non-null  object  \n",
      " 7   highest_education     31144 non-null  object  \n",
      " 8   imd_band              31144 non-null  object  \n",
      " 9   age_band              31144 non-null  object  \n",
      " 10  num_of_prev_attempts  31144 non-null  int64   \n",
      " 11  studied_credits       31144 non-null  int64   \n",
      " 12  disability            31144 non-null  object  \n",
      " 13  final_result          31144 non-null  object  \n",
      " 14  course_load           31144 non-null  category\n",
      "dtypes: category(1), int64(3), object(11)\n",
      "memory usage: 3.6+ MB\n",
      "time: 23.4 ms\n"
     ]
    }
   ],
   "source": [
    "student_info.info()"
   ]
  },
  {
   "cell_type": "code",
   "execution_count": 9,
   "id": "6cffd003-ccdc-4f78-adbe-2227648511ee",
   "metadata": {
    "execution": {
     "iopub.execute_input": "2021-08-20T20:30:37.637780Z",
     "iopub.status.busy": "2021-08-20T20:30:37.637552Z",
     "iopub.status.idle": "2021-08-20T20:30:37.795986Z",
     "shell.execute_reply": "2021-08-20T20:30:37.795334Z",
     "shell.execute_reply.started": "2021-08-20T20:30:37.637757Z"
    },
    "tags": []
   },
   "outputs": [
    {
     "data": {
      "image/png": "[encoded data removed]",
      "text/plain": [
       "<Figure size 1152x576 with 1 Axes>"
      ]
     },
     "metadata": {},
     "output_type": "display_data"
    },
    {
     "data": {
      "text/html": [
       "<div>\n",
       "<style scoped>\n",
       "    .dataframe tbody tr th:only-of-type {\n",
       "        vertical-align: middle;\n",
       "    }\n",
       "\n",
       "    .dataframe tbody tr th {\n",
       "        vertical-align: top;\n",
       "    }\n",
       "\n",
       "    .dataframe thead th {\n",
       "        text-align: right;\n",
       "    }\n",
       "</style>\n",
       "<table border=\"1\" class=\"dataframe\">\n",
       "  <thead>\n",
       "    <tr style=\"text-align: right;\">\n",
       "      <th></th>\n",
       "      <th>Outcome</th>\n",
       "      <th>Percentage</th>\n",
       "    </tr>\n",
       "  </thead>\n",
       "  <tbody>\n",
       "    <tr>\n",
       "      <th>0</th>\n",
       "      <td>Satisfactory</td>\n",
       "      <td>0.531724</td>\n",
       "    </tr>\n",
       "    <tr>\n",
       "      <th>1</th>\n",
       "      <td>Unsatisfactory</td>\n",
       "      <td>0.468276</td>\n",
       "    </tr>\n",
       "  </tbody>\n",
       "</table>\n",
       "</div>"
      ],
      "text/plain": [
       "          Outcome  Percentage\n",
       "0    Satisfactory    0.531724\n",
       "1  Unsatisfactory    0.468276"
      ]
     },
     "execution_count": 9,
     "metadata": {},
     "output_type": "execute_result"
    },
    {
     "name": "stdout",
     "output_type": "stream",
     "text": [
      "time: 119 ms\n"
     ]
    }
   ],
   "source": [
    "v.outcomes_target(student_info)"
   ]
  },
  {
   "cell_type": "code",
   "execution_count": 10,
   "id": "3ed15475-03fa-48a4-b932-f099343d6843",
   "metadata": {
    "execution": {
     "iopub.execute_input": "2021-08-20T20:30:37.797330Z",
     "iopub.status.busy": "2021-08-20T20:30:37.797120Z",
     "iopub.status.idle": "2021-08-20T20:30:37.973592Z",
     "shell.execute_reply": "2021-08-20T20:30:37.973074Z",
     "shell.execute_reply.started": "2021-08-20T20:30:37.797295Z"
    },
    "tags": []
   },
   "outputs": [
    {
     "data": {
      "image/png": "[encoded data removed]",
      "text/plain": [
       "<Figure size 1152x576 with 1 Axes>"
      ]
     },
     "metadata": {},
     "output_type": "display_data"
    },
    {
     "data": {
      "text/html": [
       "<div>\n",
       "<style scoped>\n",
       "    .dataframe tbody tr th:only-of-type {\n",
       "        vertical-align: middle;\n",
       "    }\n",
       "\n",
       "    .dataframe tbody tr th {\n",
       "        vertical-align: top;\n",
       "    }\n",
       "\n",
       "    .dataframe thead th {\n",
       "        text-align: right;\n",
       "    }\n",
       "</style>\n",
       "<table border=\"1\" class=\"dataframe\">\n",
       "  <thead>\n",
       "    <tr style=\"text-align: right;\">\n",
       "      <th></th>\n",
       "      <th>Outcome</th>\n",
       "      <th>Percentage</th>\n",
       "    </tr>\n",
       "  </thead>\n",
       "  <tbody>\n",
       "    <tr>\n",
       "      <th>0</th>\n",
       "      <td>Pass</td>\n",
       "      <td>0.377922</td>\n",
       "    </tr>\n",
       "    <tr>\n",
       "      <th>1</th>\n",
       "      <td>Withdrawn</td>\n",
       "      <td>0.311521</td>\n",
       "    </tr>\n",
       "    <tr>\n",
       "      <th>2</th>\n",
       "      <td>Fail</td>\n",
       "      <td>0.220203</td>\n",
       "    </tr>\n",
       "    <tr>\n",
       "      <th>3</th>\n",
       "      <td>Distinction</td>\n",
       "      <td>0.090354</td>\n",
       "    </tr>\n",
       "  </tbody>\n",
       "</table>\n",
       "</div>"
      ],
      "text/plain": [
       "       Outcome  Percentage\n",
       "0         Pass    0.377922\n",
       "1    Withdrawn    0.311521\n",
       "2         Fail    0.220203\n",
       "3  Distinction    0.090354"
      ]
     },
     "execution_count": 10,
     "metadata": {},
     "output_type": "execute_result"
    },
    {
     "name": "stdout",
     "output_type": "stream",
     "text": [
      "time: 138 ms\n"
     ]
    }
   ],
   "source": [
    "v.outcomes_type(student_info)"
   ]
  },
  {
   "cell_type": "code",
   "execution_count": 13,
   "id": "e633707e-517c-4cd6-a6f6-eb0d8ec6649b",
   "metadata": {
    "execution": {
     "iopub.execute_input": "2021-08-20T20:33:58.935016Z",
     "iopub.status.busy": "2021-08-20T20:33:58.934739Z",
     "iopub.status.idle": "2021-08-20T20:33:59.276391Z",
     "shell.execute_reply": "2021-08-20T20:33:59.275929Z",
     "shell.execute_reply.started": "2021-08-20T20:33:58.934987Z"
    },
    "tags": []
   },
   "outputs": [
    {
     "data": {
      "image/png": "[encoded data removed]",
      "text/plain": [
       "<Figure size 1152x576 with 1 Axes>"
      ]
     },
     "metadata": {},
     "output_type": "display_data"
    },
    {
     "name": "stdout",
     "output_type": "stream",
     "text": [
      "time: 294 ms\n"
     ]
    }
   ],
   "source": [
    "v.outcomes_imd(student_info)"
   ]
  },
  {
   "cell_type": "markdown",
   "id": "369540e3-f65e-4ec8-adaa-427148f07c8b",
   "metadata": {},
   "source": [
    "## Investigating `IMD Band`"
   ]
  },
  {
   "cell_type": "code",
   "execution_count": 59,
   "id": "7f49915d-a057-4c19-8fd2-4a1657d7007f",
   "metadata": {
    "execution": {
     "iopub.execute_input": "2021-08-20T21:37:56.921251Z",
     "iopub.status.busy": "2021-08-20T21:37:56.920959Z",
     "iopub.status.idle": "2021-08-20T21:37:56.979897Z",
     "shell.execute_reply": "2021-08-20T21:37:56.979404Z",
     "shell.execute_reply.started": "2021-08-20T21:37:56.921222Z"
    },
    "tags": []
   },
   "outputs": [
    {
     "name": "stdout",
     "output_type": "stream",
     "text": [
      "time: 20.3 ms\n"
     ]
    }
   ],
   "source": [
    "# creating a contingency table\n",
    "tabs = pd.crosstab(student_info.imd_band, student_info.final_result)"
   ]
  },
  {
   "cell_type": "code",
   "execution_count": 60,
   "id": "c3f8b1de-17d5-470d-8abf-8fbfca93eeb0",
   "metadata": {
    "execution": {
     "iopub.execute_input": "2021-08-20T21:37:57.482467Z",
     "iopub.status.busy": "2021-08-20T21:37:57.482088Z",
     "iopub.status.idle": "2021-08-20T21:37:57.544768Z",
     "shell.execute_reply": "2021-08-20T21:37:57.543992Z",
     "shell.execute_reply.started": "2021-08-20T21:37:57.482424Z"
    },
    "tags": []
   },
   "outputs": [
    {
     "name": "stdout",
     "output_type": "stream",
     "text": [
      "time: 800 µs\n"
     ]
    }
   ],
   "source": [
    "# creating a statsmodels table object\n",
    "table = sm.stats.Table(tabs)"
   ]
  },
  {
   "cell_type": "code",
   "execution_count": 61,
   "id": "ae7a140f-6812-4361-a91b-d8ed040bb9b1",
   "metadata": {
    "execution": {
     "iopub.execute_input": "2021-08-20T21:37:57.976488Z",
     "iopub.status.busy": "2021-08-20T21:37:57.976107Z",
     "iopub.status.idle": "2021-08-20T21:37:58.039366Z",
     "shell.execute_reply": "2021-08-20T21:37:58.038529Z",
     "shell.execute_reply.started": "2021-08-20T21:37:57.976445Z"
    },
    "tags": []
   },
   "outputs": [
    {
     "data": {
      "text/html": [
       "<div>\n",
       "<style scoped>\n",
       "    .dataframe tbody tr th:only-of-type {\n",
       "        vertical-align: middle;\n",
       "    }\n",
       "\n",
       "    .dataframe tbody tr th {\n",
       "        vertical-align: top;\n",
       "    }\n",
       "\n",
       "    .dataframe thead th {\n",
       "        text-align: right;\n",
       "    }\n",
       "</style>\n",
       "<table border=\"1\" class=\"dataframe\">\n",
       "  <thead>\n",
       "    <tr style=\"text-align: right;\">\n",
       "      <th>final_result</th>\n",
       "      <th>Distinction</th>\n",
       "      <th>Fail</th>\n",
       "      <th>Pass</th>\n",
       "      <th>Withdrawn</th>\n",
       "    </tr>\n",
       "    <tr>\n",
       "      <th>imd_band</th>\n",
       "      <th></th>\n",
       "      <th></th>\n",
       "      <th></th>\n",
       "      <th></th>\n",
       "    </tr>\n",
       "  </thead>\n",
       "  <tbody>\n",
       "    <tr>\n",
       "      <th>0-10%</th>\n",
       "      <td>168</td>\n",
       "      <td>911</td>\n",
       "      <td>989</td>\n",
       "      <td>1199</td>\n",
       "    </tr>\n",
       "    <tr>\n",
       "      <th>10-20%</th>\n",
       "      <td>189</td>\n",
       "      <td>904</td>\n",
       "      <td>1163</td>\n",
       "      <td>1219</td>\n",
       "    </tr>\n",
       "    <tr>\n",
       "      <th>20-30%</th>\n",
       "      <td>263</td>\n",
       "      <td>838</td>\n",
       "      <td>1222</td>\n",
       "      <td>1279</td>\n",
       "    </tr>\n",
       "    <tr>\n",
       "      <th>30-40%</th>\n",
       "      <td>313</td>\n",
       "      <td>780</td>\n",
       "      <td>1337</td>\n",
       "      <td>1067</td>\n",
       "    </tr>\n",
       "    <tr>\n",
       "      <th>40-50%</th>\n",
       "      <td>293</td>\n",
       "      <td>689</td>\n",
       "      <td>1211</td>\n",
       "      <td>1018</td>\n",
       "    </tr>\n",
       "    <tr>\n",
       "      <th>50-60%</th>\n",
       "      <td>296</td>\n",
       "      <td>699</td>\n",
       "      <td>1217</td>\n",
       "      <td>887</td>\n",
       "    </tr>\n",
       "    <tr>\n",
       "      <th>60-70%</th>\n",
       "      <td>299</td>\n",
       "      <td>535</td>\n",
       "      <td>1204</td>\n",
       "      <td>842</td>\n",
       "    </tr>\n",
       "    <tr>\n",
       "      <th>70-80%</th>\n",
       "      <td>312</td>\n",
       "      <td>597</td>\n",
       "      <td>1169</td>\n",
       "      <td>788</td>\n",
       "    </tr>\n",
       "    <tr>\n",
       "      <th>80-90%</th>\n",
       "      <td>326</td>\n",
       "      <td>489</td>\n",
       "      <td>1162</td>\n",
       "      <td>760</td>\n",
       "    </tr>\n",
       "    <tr>\n",
       "      <th>90-100%</th>\n",
       "      <td>355</td>\n",
       "      <td>416</td>\n",
       "      <td>1096</td>\n",
       "      <td>643</td>\n",
       "    </tr>\n",
       "  </tbody>\n",
       "</table>\n",
       "</div>"
      ],
      "text/plain": [
       "final_result  Distinction  Fail  Pass  Withdrawn\n",
       "imd_band                                        \n",
       "0-10%                 168   911   989       1199\n",
       "10-20%                189   904  1163       1219\n",
       "20-30%                263   838  1222       1279\n",
       "30-40%                313   780  1337       1067\n",
       "40-50%                293   689  1211       1018\n",
       "50-60%                296   699  1217        887\n",
       "60-70%                299   535  1204        842\n",
       "70-80%                312   597  1169        788\n",
       "80-90%                326   489  1162        760\n",
       "90-100%               355   416  1096        643"
      ]
     },
     "execution_count": 61,
     "metadata": {},
     "output_type": "execute_result"
    },
    {
     "name": "stdout",
     "output_type": "stream",
     "text": [
      "time: 5.47 ms\n"
     ]
    }
   ],
   "source": [
    "# the original contingency table\n",
    "table.table_orig"
   ]
  },
  {
   "cell_type": "code",
   "execution_count": 62,
   "id": "11cda792-93d1-40c2-995a-5e5acf0486ae",
   "metadata": {
    "execution": {
     "iopub.execute_input": "2021-08-20T21:37:58.612568Z",
     "iopub.status.busy": "2021-08-20T21:37:58.612190Z",
     "iopub.status.idle": "2021-08-20T21:37:58.678134Z",
     "shell.execute_reply": "2021-08-20T21:37:58.677241Z",
     "shell.execute_reply.started": "2021-08-20T21:37:58.612527Z"
    },
    "tags": []
   },
   "outputs": [
    {
     "data": {
      "text/html": [
       "<div>\n",
       "<style scoped>\n",
       "    .dataframe tbody tr th:only-of-type {\n",
       "        vertical-align: middle;\n",
       "    }\n",
       "\n",
       "    .dataframe tbody tr th {\n",
       "        vertical-align: top;\n",
       "    }\n",
       "\n",
       "    .dataframe thead th {\n",
       "        text-align: right;\n",
       "    }\n",
       "</style>\n",
       "<table border=\"1\" class=\"dataframe\">\n",
       "  <thead>\n",
       "    <tr style=\"text-align: right;\">\n",
       "      <th>final_result</th>\n",
       "      <th>Distinction</th>\n",
       "      <th>Fail</th>\n",
       "      <th>Pass</th>\n",
       "      <th>Withdrawn</th>\n",
       "    </tr>\n",
       "    <tr>\n",
       "      <th>imd_band</th>\n",
       "      <th></th>\n",
       "      <th></th>\n",
       "      <th></th>\n",
       "      <th></th>\n",
       "    </tr>\n",
       "  </thead>\n",
       "  <tbody>\n",
       "    <tr>\n",
       "      <th>0-10%</th>\n",
       "      <td>295.188094</td>\n",
       "      <td>719.402967</td>\n",
       "      <td>1234.670884</td>\n",
       "      <td>1017.738055</td>\n",
       "    </tr>\n",
       "    <tr>\n",
       "      <th>10-20%</th>\n",
       "      <td>313.981826</td>\n",
       "      <td>765.205176</td>\n",
       "      <td>1313.278641</td>\n",
       "      <td>1082.534357</td>\n",
       "    </tr>\n",
       "    <tr>\n",
       "      <th>20-30%</th>\n",
       "      <td>325.456846</td>\n",
       "      <td>793.170948</td>\n",
       "      <td>1361.274724</td>\n",
       "      <td>1122.097483</td>\n",
       "    </tr>\n",
       "    <tr>\n",
       "      <th>30-40%</th>\n",
       "      <td>315.969625</td>\n",
       "      <td>770.049640</td>\n",
       "      <td>1321.592923</td>\n",
       "      <td>1089.387811</td>\n",
       "    </tr>\n",
       "    <tr>\n",
       "      <th>40-50%</th>\n",
       "      <td>290.128243</td>\n",
       "      <td>707.071603</td>\n",
       "      <td>1213.507257</td>\n",
       "      <td>1000.292898</td>\n",
       "    </tr>\n",
       "    <tr>\n",
       "      <th>50-60%</th>\n",
       "      <td>280.008541</td>\n",
       "      <td>682.408875</td>\n",
       "      <td>1171.180003</td>\n",
       "      <td>965.402582</td>\n",
       "    </tr>\n",
       "    <tr>\n",
       "      <th>60-70%</th>\n",
       "      <td>260.220909</td>\n",
       "      <td>634.184434</td>\n",
       "      <td>1088.415104</td>\n",
       "      <td>897.179553</td>\n",
       "    </tr>\n",
       "    <tr>\n",
       "      <th>70-80%</th>\n",
       "      <td>258.955947</td>\n",
       "      <td>631.101593</td>\n",
       "      <td>1083.124197</td>\n",
       "      <td>892.818264</td>\n",
       "    </tr>\n",
       "    <tr>\n",
       "      <th>80-90%</th>\n",
       "      <td>247.300218</td>\n",
       "      <td>602.695415</td>\n",
       "      <td>1034.372271</td>\n",
       "      <td>852.632096</td>\n",
       "    </tr>\n",
       "    <tr>\n",
       "      <th>90-100%</th>\n",
       "      <td>226.789751</td>\n",
       "      <td>552.709350</td>\n",
       "      <td>948.583997</td>\n",
       "      <td>781.916902</td>\n",
       "    </tr>\n",
       "  </tbody>\n",
       "</table>\n",
       "</div>"
      ],
      "text/plain": [
       "final_result  Distinction        Fail         Pass    Withdrawn\n",
       "imd_band                                                       \n",
       "0-10%          295.188094  719.402967  1234.670884  1017.738055\n",
       "10-20%         313.981826  765.205176  1313.278641  1082.534357\n",
       "20-30%         325.456846  793.170948  1361.274724  1122.097483\n",
       "30-40%         315.969625  770.049640  1321.592923  1089.387811\n",
       "40-50%         290.128243  707.071603  1213.507257  1000.292898\n",
       "50-60%         280.008541  682.408875  1171.180003   965.402582\n",
       "60-70%         260.220909  634.184434  1088.415104   897.179553\n",
       "70-80%         258.955947  631.101593  1083.124197   892.818264\n",
       "80-90%         247.300218  602.695415  1034.372271   852.632096\n",
       "90-100%        226.789751  552.709350   948.583997   781.916902"
      ]
     },
     "execution_count": 62,
     "metadata": {},
     "output_type": "execute_result"
    },
    {
     "name": "stdout",
     "output_type": "stream",
     "text": [
      "time: 6.66 ms\n"
     ]
    }
   ],
   "source": [
    "# expected values if final_result was independent from course_load\n",
    "table.fittedvalues"
   ]
  },
  {
   "cell_type": "code",
   "execution_count": 63,
   "id": "bb5056ee-ef14-4230-a137-7a544be03e20",
   "metadata": {
    "execution": {
     "iopub.execute_input": "2021-08-20T21:38:01.063514Z",
     "iopub.status.busy": "2021-08-20T21:38:01.063104Z",
     "iopub.status.idle": "2021-08-20T21:38:01.163682Z",
     "shell.execute_reply": "2021-08-20T21:38:01.161816Z",
     "shell.execute_reply.started": "2021-08-20T21:38:01.063472Z"
    },
    "tags": []
   },
   "outputs": [
    {
     "data": {
      "text/html": [
       "<div>\n",
       "<style scoped>\n",
       "    .dataframe tbody tr th:only-of-type {\n",
       "        vertical-align: middle;\n",
       "    }\n",
       "\n",
       "    .dataframe tbody tr th {\n",
       "        vertical-align: top;\n",
       "    }\n",
       "\n",
       "    .dataframe thead th {\n",
       "        text-align: right;\n",
       "    }\n",
       "</style>\n",
       "<table border=\"1\" class=\"dataframe\">\n",
       "  <thead>\n",
       "    <tr style=\"text-align: right;\">\n",
       "      <th>final_result</th>\n",
       "      <th>Distinction</th>\n",
       "      <th>Fail</th>\n",
       "      <th>Pass</th>\n",
       "      <th>Withdrawn</th>\n",
       "    </tr>\n",
       "    <tr>\n",
       "      <th>imd_band</th>\n",
       "      <th></th>\n",
       "      <th></th>\n",
       "      <th></th>\n",
       "      <th></th>\n",
       "    </tr>\n",
       "  </thead>\n",
       "  <tbody>\n",
       "    <tr>\n",
       "      <th>0-10%</th>\n",
       "      <td>-7.402817</td>\n",
       "      <td>7.143362</td>\n",
       "      <td>-6.991624</td>\n",
       "      <td>5.681835</td>\n",
       "    </tr>\n",
       "    <tr>\n",
       "      <th>10-20%</th>\n",
       "      <td>-7.053337</td>\n",
       "      <td>5.017465</td>\n",
       "      <td>-4.146855</td>\n",
       "      <td>4.147654</td>\n",
       "    </tr>\n",
       "    <tr>\n",
       "      <th>20-30%</th>\n",
       "      <td>-3.462050</td>\n",
       "      <td>1.591755</td>\n",
       "      <td>-3.774848</td>\n",
       "      <td>4.683976</td>\n",
       "    </tr>\n",
       "    <tr>\n",
       "      <th>30-40%</th>\n",
       "      <td>-0.167062</td>\n",
       "      <td>0.358575</td>\n",
       "      <td>0.423810</td>\n",
       "      <td>-0.678298</td>\n",
       "    </tr>\n",
       "    <tr>\n",
       "      <th>40-50%</th>\n",
       "      <td>0.168598</td>\n",
       "      <td>-0.679618</td>\n",
       "      <td>-0.071974</td>\n",
       "      <td>0.559866</td>\n",
       "    </tr>\n",
       "    <tr>\n",
       "      <th>50-60%</th>\n",
       "      <td>0.955658</td>\n",
       "      <td>0.635117</td>\n",
       "      <td>1.338885</td>\n",
       "      <td>-2.523342</td>\n",
       "    </tr>\n",
       "    <tr>\n",
       "      <th>60-70%</th>\n",
       "      <td>2.403956</td>\n",
       "      <td>-3.938544</td>\n",
       "      <td>3.503514</td>\n",
       "      <td>-1.842207</td>\n",
       "    </tr>\n",
       "    <tr>\n",
       "      <th>70-80%</th>\n",
       "      <td>3.296277</td>\n",
       "      <td>-1.357454</td>\n",
       "      <td>2.609346</td>\n",
       "      <td>-3.507966</td>\n",
       "    </tr>\n",
       "    <tr>\n",
       "      <th>80-90%</th>\n",
       "      <td>5.004507</td>\n",
       "      <td>-4.631205</td>\n",
       "      <td>3.968319</td>\n",
       "      <td>-3.172347</td>\n",
       "    </tr>\n",
       "    <tr>\n",
       "      <th>90-100%</th>\n",
       "      <td>8.513557</td>\n",
       "      <td>-5.815001</td>\n",
       "      <td>4.786375</td>\n",
       "      <td>-4.967922</td>\n",
       "    </tr>\n",
       "  </tbody>\n",
       "</table>\n",
       "</div>"
      ],
      "text/plain": [
       "final_result  Distinction      Fail      Pass  Withdrawn\n",
       "imd_band                                                \n",
       "0-10%           -7.402817  7.143362 -6.991624   5.681835\n",
       "10-20%          -7.053337  5.017465 -4.146855   4.147654\n",
       "20-30%          -3.462050  1.591755 -3.774848   4.683976\n",
       "30-40%          -0.167062  0.358575  0.423810  -0.678298\n",
       "40-50%           0.168598 -0.679618 -0.071974   0.559866\n",
       "50-60%           0.955658  0.635117  1.338885  -2.523342\n",
       "60-70%           2.403956 -3.938544  3.503514  -1.842207\n",
       "70-80%           3.296277 -1.357454  2.609346  -3.507966\n",
       "80-90%           5.004507 -4.631205  3.968319  -3.172347\n",
       "90-100%          8.513557 -5.815001  4.786375  -4.967922"
      ]
     },
     "execution_count": 63,
     "metadata": {},
     "output_type": "execute_result"
    },
    {
     "name": "stdout",
     "output_type": "stream",
     "text": [
      "time: 13.6 ms\n"
     ]
    }
   ],
   "source": [
    "# pearsons residuals: negatives indicate fewer results than expected, positives indicate more.\n",
    "table.resid_pearson"
   ]
  },
  {
   "cell_type": "markdown",
   "id": "a9b29de0-fdae-4d22-9eea-7fc83f38853c",
   "metadata": {},
   "source": [
    "From the contingency tables it appears that, in general, Distinction and Pass vary directly with IMD band. The higher the student's IMD band, the more likely the student is to pass or pass with distinction. Conversely, Withdrawn and Fail vary inversely with IMD band. In general, the lower the student's IMD band the more likely the student is to fail or withdraw."
   ]
  },
  {
   "cell_type": "markdown",
   "id": "008cf734-2bdb-440c-bba7-836ea37f8606",
   "metadata": {},
   "source": [
    "## Chi-Square Test for `imd_band`\n",
    "Ho = `imd_band` and `final_result` are independent.\n",
    "\n",
    "Ha = `imd_band` and `final_result` are not independent.\n",
    "\n",
    "alpha = .05"
   ]
  },
  {
   "cell_type": "code",
   "execution_count": 64,
   "id": "83392f64-bfa4-4d31-8584-201aad04d888",
   "metadata": {
    "execution": {
     "iopub.execute_input": "2021-08-20T21:38:03.550224Z",
     "iopub.status.busy": "2021-08-20T21:38:03.549723Z",
     "iopub.status.idle": "2021-08-20T21:38:03.619189Z",
     "shell.execute_reply": "2021-08-20T21:38:03.618062Z",
     "shell.execute_reply.started": "2021-08-20T21:38:03.550171Z"
    },
    "tags": []
   },
   "outputs": [
    {
     "name": "stdout",
     "output_type": "stream",
     "text": [
      "chi-squared = 653.0806826983792\n",
      "p value= 2.473461324525511e-120\n",
      "degrees of freedom = 27\n",
      "time: 1.38 ms\n"
     ]
    }
   ],
   "source": [
    "# calculating chi-squared,p-value, degrees of freedom\n",
    "f.chi_sq_test(tabs)"
   ]
  },
  {
   "cell_type": "markdown",
   "id": "cd8f2f2b-c541-464e-a7fc-513b34d83c78",
   "metadata": {},
   "source": [
    "Since the p value is less than our alpha, we reject the null hypothesis and conclude that `imd_band` and `final_result` are not independent."
   ]
  },
  {
   "cell_type": "code",
   "execution_count": 65,
   "id": "231668f0-a709-434f-8409-ee418b8ce37a",
   "metadata": {
    "execution": {
     "iopub.execute_input": "2021-08-20T21:38:09.954854Z",
     "iopub.status.busy": "2021-08-20T21:38:09.954376Z",
     "iopub.status.idle": "2021-08-20T21:38:10.023708Z",
     "shell.execute_reply": "2021-08-20T21:38:10.022730Z",
     "shell.execute_reply.started": "2021-08-20T21:38:09.954810Z"
    },
    "tags": []
   },
   "outputs": [
    {
     "name": "stdout",
     "output_type": "stream",
     "text": [
      "Cramer's V Degrees of Freedom=3\n",
      "\n",
      "Effect Size Thresholds\n",
      "   Degrees of Freedom  Small Effect  Medium Effect  Large Effect\n",
      "0                 1.0          0.10           0.30          0.50\n",
      "1                 2.0          0.07           0.21          0.35\n",
      "2                 3.0          0.06           0.17          0.29\n",
      "3                 4.0          0.05           0.15          0.25\n",
      "4                 5.0          0.04           0.13          0.22\n",
      "\n",
      "final_result\n",
      "Distinction    0.278138\n",
      "Fail           0.178166\n",
      "Pass           0.135999\n",
      "Withdrawn      0.149793\n",
      "dtype: float64\n",
      "time: 6.36 ms\n"
     ]
    }
   ],
   "source": [
    "# calculating cramer's v to measure the effect sizes\n",
    "f.cramers_v(tabs)"
   ]
  },
  {
   "cell_type": "markdown",
   "id": "a06e857a-6fa2-4574-a31c-611e362c9e9b",
   "metadata": {},
   "source": [
    "Adjusted for degrees of freedom, the Cramer's V results indicate that `imd_band` has a small, but statistically significant, effect on Pass and Withdrawn and a medium effect on Fail and Distinction."
   ]
  },
  {
   "cell_type": "markdown",
   "id": "87923d58-5ac6-4450-9354-22048609166c",
   "metadata": {},
   "source": [
    "## Disability Status"
   ]
  },
  {
   "cell_type": "code",
   "execution_count": 66,
   "id": "5184a63e-a654-46c3-9fc0-56ea7b4e96c5",
   "metadata": {
    "execution": {
     "iopub.execute_input": "2021-08-20T21:53:08.526194Z",
     "iopub.status.busy": "2021-08-20T21:53:08.525745Z",
     "iopub.status.idle": "2021-08-20T21:53:08.738495Z",
     "shell.execute_reply": "2021-08-20T21:53:08.737730Z",
     "shell.execute_reply.started": "2021-08-20T21:53:08.526143Z"
    },
    "tags": []
   },
   "outputs": [
    {
     "data": {
      "image/png": "[encoded data removed]",
      "text/plain": [
       "<Figure size 1152x576 with 1 Axes>"
      ]
     },
     "metadata": {},
     "output_type": "display_data"
    },
    {
     "data": {
      "text/html": [
       "<div>\n",
       "<style scoped>\n",
       "    .dataframe tbody tr th:only-of-type {\n",
       "        vertical-align: middle;\n",
       "    }\n",
       "\n",
       "    .dataframe tbody tr th {\n",
       "        vertical-align: top;\n",
       "    }\n",
       "\n",
       "    .dataframe thead th {\n",
       "        text-align: right;\n",
       "    }\n",
       "</style>\n",
       "<table border=\"1\" class=\"dataframe\">\n",
       "  <thead>\n",
       "    <tr style=\"text-align: right;\">\n",
       "      <th></th>\n",
       "      <th>Disability</th>\n",
       "      <th>Outcome</th>\n",
       "      <th>Percentage</th>\n",
       "    </tr>\n",
       "  </thead>\n",
       "  <tbody>\n",
       "    <tr>\n",
       "      <th>0</th>\n",
       "      <td>No</td>\n",
       "      <td>Pass</td>\n",
       "      <td>0.384920</td>\n",
       "    </tr>\n",
       "    <tr>\n",
       "      <th>1</th>\n",
       "      <td>No</td>\n",
       "      <td>Withdrawn</td>\n",
       "      <td>0.303035</td>\n",
       "    </tr>\n",
       "    <tr>\n",
       "      <th>2</th>\n",
       "      <td>No</td>\n",
       "      <td>Fail</td>\n",
       "      <td>0.219404</td>\n",
       "    </tr>\n",
       "    <tr>\n",
       "      <th>3</th>\n",
       "      <td>No</td>\n",
       "      <td>Distinction</td>\n",
       "      <td>0.092641</td>\n",
       "    </tr>\n",
       "    <tr>\n",
       "      <th>4</th>\n",
       "      <td>Yes</td>\n",
       "      <td>Withdrawn</td>\n",
       "      <td>0.389179</td>\n",
       "    </tr>\n",
       "    <tr>\n",
       "      <th>5</th>\n",
       "      <td>Yes</td>\n",
       "      <td>Pass</td>\n",
       "      <td>0.313885</td>\n",
       "    </tr>\n",
       "    <tr>\n",
       "      <th>6</th>\n",
       "      <td>Yes</td>\n",
       "      <td>Fail</td>\n",
       "      <td>0.227510</td>\n",
       "    </tr>\n",
       "    <tr>\n",
       "      <th>7</th>\n",
       "      <td>Yes</td>\n",
       "      <td>Distinction</td>\n",
       "      <td>0.069426</td>\n",
       "    </tr>\n",
       "  </tbody>\n",
       "</table>\n",
       "</div>"
      ],
      "text/plain": [
       "  Disability      Outcome  Percentage\n",
       "0         No         Pass    0.384920\n",
       "1         No    Withdrawn    0.303035\n",
       "2         No         Fail    0.219404\n",
       "3         No  Distinction    0.092641\n",
       "4        Yes    Withdrawn    0.389179\n",
       "5        Yes         Pass    0.313885\n",
       "6        Yes         Fail    0.227510\n",
       "7        Yes  Distinction    0.069426"
      ]
     },
     "execution_count": 66,
     "metadata": {},
     "output_type": "execute_result"
    },
    {
     "name": "stdout",
     "output_type": "stream",
     "text": [
      "time: 164 ms\n"
     ]
    }
   ],
   "source": [
    "v.outcomes_dis(student_info)"
   ]
  },
  {
   "cell_type": "markdown",
   "id": "018b4e84-bbb4-461f-9199-636b58d3f0e7",
   "metadata": {},
   "source": [
    "## Investigating `Disability`"
   ]
  },
  {
   "cell_type": "code",
   "execution_count": 67,
   "id": "bf7bfed6-a877-48e0-9d55-8a5a11453dfb",
   "metadata": {
    "execution": {
     "iopub.execute_input": "2021-08-20T21:53:17.720821Z",
     "iopub.status.busy": "2021-08-20T21:53:17.720331Z",
     "iopub.status.idle": "2021-08-20T21:53:17.800575Z",
     "shell.execute_reply": "2021-08-20T21:53:17.800152Z",
     "shell.execute_reply.started": "2021-08-20T21:53:17.720768Z"
    },
    "tags": []
   },
   "outputs": [
    {
     "name": "stdout",
     "output_type": "stream",
     "text": [
      "time: 17.1 ms\n"
     ]
    }
   ],
   "source": [
    "# creating a contingency table\n",
    "tabs = pd.crosstab(student_info.disability, student_info.final_result)"
   ]
  },
  {
   "cell_type": "code",
   "execution_count": 68,
   "id": "4fe6b146-57e0-4945-9830-70b92d46a14b",
   "metadata": {
    "execution": {
     "iopub.execute_input": "2021-08-20T21:53:18.049831Z",
     "iopub.status.busy": "2021-08-20T21:53:18.049373Z",
     "iopub.status.idle": "2021-08-20T21:53:18.109694Z",
     "shell.execute_reply": "2021-08-20T21:53:18.108949Z",
     "shell.execute_reply.started": "2021-08-20T21:53:18.049785Z"
    },
    "tags": []
   },
   "outputs": [
    {
     "name": "stdout",
     "output_type": "stream",
     "text": [
      "time: 738 µs\n"
     ]
    }
   ],
   "source": [
    "# creating a statsmodels table object\n",
    "table = sm.stats.Table(tabs)"
   ]
  },
  {
   "cell_type": "code",
   "execution_count": 69,
   "id": "d2b03e7a-d222-4b2b-b9a1-a273dd084093",
   "metadata": {
    "execution": {
     "iopub.execute_input": "2021-08-20T21:53:18.355907Z",
     "iopub.status.busy": "2021-08-20T21:53:18.355524Z",
     "iopub.status.idle": "2021-08-20T21:53:18.419617Z",
     "shell.execute_reply": "2021-08-20T21:53:18.418911Z",
     "shell.execute_reply.started": "2021-08-20T21:53:18.355875Z"
    },
    "tags": []
   },
   "outputs": [
    {
     "data": {
      "text/html": [
       "<div>\n",
       "<style scoped>\n",
       "    .dataframe tbody tr th:only-of-type {\n",
       "        vertical-align: middle;\n",
       "    }\n",
       "\n",
       "    .dataframe tbody tr th {\n",
       "        vertical-align: top;\n",
       "    }\n",
       "\n",
       "    .dataframe thead th {\n",
       "        text-align: right;\n",
       "    }\n",
       "</style>\n",
       "<table border=\"1\" class=\"dataframe\">\n",
       "  <thead>\n",
       "    <tr style=\"text-align: right;\">\n",
       "      <th>final_result</th>\n",
       "      <th>Distinction</th>\n",
       "      <th>Fail</th>\n",
       "      <th>Pass</th>\n",
       "      <th>Withdrawn</th>\n",
       "    </tr>\n",
       "    <tr>\n",
       "      <th>disability</th>\n",
       "      <th></th>\n",
       "      <th></th>\n",
       "      <th></th>\n",
       "      <th></th>\n",
       "    </tr>\n",
       "  </thead>\n",
       "  <tbody>\n",
       "    <tr>\n",
       "      <th>No</th>\n",
       "      <td>2601</td>\n",
       "      <td>6160</td>\n",
       "      <td>10807</td>\n",
       "      <td>8508</td>\n",
       "    </tr>\n",
       "    <tr>\n",
       "      <th>Yes</th>\n",
       "      <td>213</td>\n",
       "      <td>698</td>\n",
       "      <td>963</td>\n",
       "      <td>1194</td>\n",
       "    </tr>\n",
       "  </tbody>\n",
       "</table>\n",
       "</div>"
      ],
      "text/plain": [
       "final_result  Distinction  Fail   Pass  Withdrawn\n",
       "disability                                       \n",
       "No                   2601  6160  10807       8508\n",
       "Yes                   213   698    963       1194"
      ]
     },
     "execution_count": 69,
     "metadata": {},
     "output_type": "execute_result"
    },
    {
     "name": "stdout",
     "output_type": "stream",
     "text": [
      "time: 4.64 ms\n"
     ]
    }
   ],
   "source": [
    "# the original contingency table\n",
    "table.table_orig"
   ]
  },
  {
   "cell_type": "code",
   "execution_count": 70,
   "id": "3df4e9a0-7356-4680-a9b2-b454f9e45152",
   "metadata": {
    "execution": {
     "iopub.execute_input": "2021-08-20T21:53:18.591386Z",
     "iopub.status.busy": "2021-08-20T21:53:18.591014Z",
     "iopub.status.idle": "2021-08-20T21:53:18.656941Z",
     "shell.execute_reply": "2021-08-20T21:53:18.656318Z",
     "shell.execute_reply.started": "2021-08-20T21:53:18.591345Z"
    },
    "tags": []
   },
   "outputs": [
    {
     "data": {
      "text/html": [
       "<div>\n",
       "<style scoped>\n",
       "    .dataframe tbody tr th:only-of-type {\n",
       "        vertical-align: middle;\n",
       "    }\n",
       "\n",
       "    .dataframe tbody tr th {\n",
       "        vertical-align: top;\n",
       "    }\n",
       "\n",
       "    .dataframe thead th {\n",
       "        text-align: right;\n",
       "    }\n",
       "</style>\n",
       "<table border=\"1\" class=\"dataframe\">\n",
       "  <thead>\n",
       "    <tr style=\"text-align: right;\">\n",
       "      <th>final_result</th>\n",
       "      <th>Distinction</th>\n",
       "      <th>Fail</th>\n",
       "      <th>Pass</th>\n",
       "      <th>Withdrawn</th>\n",
       "    </tr>\n",
       "    <tr>\n",
       "      <th>disability</th>\n",
       "      <th></th>\n",
       "      <th></th>\n",
       "      <th></th>\n",
       "      <th></th>\n",
       "    </tr>\n",
       "  </thead>\n",
       "  <tbody>\n",
       "    <tr>\n",
       "      <th>No</th>\n",
       "      <td>2536.792448</td>\n",
       "      <td>6182.417416</td>\n",
       "      <td>10610.535577</td>\n",
       "      <td>8746.254559</td>\n",
       "    </tr>\n",
       "    <tr>\n",
       "      <th>Yes</th>\n",
       "      <td>277.207552</td>\n",
       "      <td>675.582584</td>\n",
       "      <td>1159.464423</td>\n",
       "      <td>955.745441</td>\n",
       "    </tr>\n",
       "  </tbody>\n",
       "</table>\n",
       "</div>"
      ],
      "text/plain": [
       "final_result  Distinction         Fail          Pass    Withdrawn\n",
       "disability                                                       \n",
       "No            2536.792448  6182.417416  10610.535577  8746.254559\n",
       "Yes            277.207552   675.582584   1159.464423   955.745441"
      ]
     },
     "execution_count": 70,
     "metadata": {},
     "output_type": "execute_result"
    },
    {
     "name": "stdout",
     "output_type": "stream",
     "text": [
      "time: 6.71 ms\n"
     ]
    }
   ],
   "source": [
    "# expected values if final_result was independent from course_load\n",
    "table.fittedvalues"
   ]
  },
  {
   "cell_type": "code",
   "execution_count": 71,
   "id": "415f699f-e385-479a-8f77-d11c6d6a0a29",
   "metadata": {
    "execution": {
     "iopub.execute_input": "2021-08-20T21:53:18.885833Z",
     "iopub.status.busy": "2021-08-20T21:53:18.885244Z",
     "iopub.status.idle": "2021-08-20T21:53:18.954277Z",
     "shell.execute_reply": "2021-08-20T21:53:18.953560Z",
     "shell.execute_reply.started": "2021-08-20T21:53:18.885791Z"
    },
    "tags": []
   },
   "outputs": [
    {
     "data": {
      "text/html": [
       "<div>\n",
       "<style scoped>\n",
       "    .dataframe tbody tr th:only-of-type {\n",
       "        vertical-align: middle;\n",
       "    }\n",
       "\n",
       "    .dataframe tbody tr th {\n",
       "        vertical-align: top;\n",
       "    }\n",
       "\n",
       "    .dataframe thead th {\n",
       "        text-align: right;\n",
       "    }\n",
       "</style>\n",
       "<table border=\"1\" class=\"dataframe\">\n",
       "  <thead>\n",
       "    <tr style=\"text-align: right;\">\n",
       "      <th>final_result</th>\n",
       "      <th>Distinction</th>\n",
       "      <th>Fail</th>\n",
       "      <th>Pass</th>\n",
       "      <th>Withdrawn</th>\n",
       "    </tr>\n",
       "    <tr>\n",
       "      <th>disability</th>\n",
       "      <th></th>\n",
       "      <th></th>\n",
       "      <th></th>\n",
       "      <th></th>\n",
       "    </tr>\n",
       "  </thead>\n",
       "  <tbody>\n",
       "    <tr>\n",
       "      <th>No</th>\n",
       "      <td>1.274805</td>\n",
       "      <td>-0.285106</td>\n",
       "      <td>1.907284</td>\n",
       "      <td>-2.547594</td>\n",
       "    </tr>\n",
       "    <tr>\n",
       "      <th>Yes</th>\n",
       "      <td>-3.856413</td>\n",
       "      <td>0.862475</td>\n",
       "      <td>-5.769726</td>\n",
       "      <td>7.706729</td>\n",
       "    </tr>\n",
       "  </tbody>\n",
       "</table>\n",
       "</div>"
      ],
      "text/plain": [
       "final_result  Distinction      Fail      Pass  Withdrawn\n",
       "disability                                              \n",
       "No               1.274805 -0.285106  1.907284  -2.547594\n",
       "Yes             -3.856413  0.862475 -5.769726   7.706729"
      ]
     },
     "execution_count": 71,
     "metadata": {},
     "output_type": "execute_result"
    },
    {
     "name": "stdout",
     "output_type": "stream",
     "text": [
      "time: 5.85 ms\n"
     ]
    }
   ],
   "source": [
    "# pearsons residuals: negatives indicate fewer results than expected, positives indicate more.\n",
    "table.resid_pearson"
   ]
  },
  {
   "cell_type": "markdown",
   "id": "61a01adb-ff15-404f-92af-d8601f934d6a",
   "metadata": {},
   "source": [
    "From the contingency tables it appears that a disability status contributes negatively to Distinction, Pass, while it contributes positively to Withdrawn and Fail. Conversely,  nondisability status contributes positivly to Distinction and Pass,  while it contributes negatively to Fail  and Withdrawn."
   ]
  },
  {
   "cell_type": "markdown",
   "id": "90b3e219-11aa-45d8-b4a6-41e4b8f88865",
   "metadata": {},
   "source": [
    "## Chi-Square Test for `disability`\n",
    "Ho = `disability` and `final_result` are independent.\n",
    "\n",
    "Ha = `disability` and `final_result` are not independent.\n",
    "\n",
    "alpha = .05"
   ]
  },
  {
   "cell_type": "code",
   "execution_count": 72,
   "id": "4c3d2296-c33d-4979-bac4-fcf0df8e69ec",
   "metadata": {
    "execution": {
     "iopub.execute_input": "2021-08-20T21:53:20.364680Z",
     "iopub.status.busy": "2021-08-20T21:53:20.364200Z",
     "iopub.status.idle": "2021-08-20T21:53:20.432026Z",
     "shell.execute_reply": "2021-08-20T21:53:20.430986Z",
     "shell.execute_reply.started": "2021-08-20T21:53:20.364626Z"
    },
    "tags": []
   },
   "outputs": [
    {
     "name": "stdout",
     "output_type": "stream",
     "text": [
      "chi-squared = 120.13357979289296\n",
      "p value= 7.222172836526508e-26\n",
      "degrees of freedom = 3\n",
      "time: 1.62 ms\n"
     ]
    }
   ],
   "source": [
    "# calculating chi-squared,p-value, degrees of freedom\n",
    "f.chi_sq_test(tabs)"
   ]
  },
  {
   "cell_type": "markdown",
   "id": "a286e644-adee-43fb-bfb7-663fc19960eb",
   "metadata": {},
   "source": [
    "Since the p value is less than our alpha, we reject the null hypothesis and conclude that `disability` and `final_result` are not independent."
   ]
  },
  {
   "cell_type": "code",
   "execution_count": 73,
   "id": "2e274aef-e0d8-4a4f-b641-18febe5468b4",
   "metadata": {
    "execution": {
     "iopub.execute_input": "2021-08-20T21:53:24.058818Z",
     "iopub.status.busy": "2021-08-20T21:53:24.058325Z",
     "iopub.status.idle": "2021-08-20T21:53:24.130297Z",
     "shell.execute_reply": "2021-08-20T21:53:24.129244Z",
     "shell.execute_reply.started": "2021-08-20T21:53:24.058766Z"
    },
    "tags": []
   },
   "outputs": [
    {
     "name": "stdout",
     "output_type": "stream",
     "text": [
      "Cramer's V Degrees of Freedom=1\n",
      "\n",
      "Effect Size Thresholds\n",
      "   Degrees of Freedom  Small Effect  Medium Effect  Large Effect\n",
      "0                 1.0          0.10           0.30          0.50\n",
      "1                 2.0          0.07           0.21          0.35\n",
      "2                 3.0          0.06           0.17          0.29\n",
      "3                 4.0          0.05           0.15          0.25\n",
      "4                 5.0          0.04           0.13          0.22\n",
      "\n",
      "final_result\n",
      "Distinction    0.206619\n",
      "Fail           0.132353\n",
      "Pass           0.101029\n",
      "Withdrawn      0.111276\n",
      "dtype: float64\n",
      "time: 5.86 ms\n"
     ]
    }
   ],
   "source": [
    "# calculating cramer's v to measure the effect sizes\n",
    "f.cramers_v(tabs)"
   ]
  },
  {
   "cell_type": "markdown",
   "id": "2db9ed2a-ce83-48fe-870d-34b94a4abda5",
   "metadata": {},
   "source": [
    "Adjusted for degrees of freedom, the Cramer's V results indicate that `disability` has a small, but statistically significant, effect on all of the outcomes."
   ]
  },
  {
   "cell_type": "code",
   "execution_count": null,
   "id": "a6bea2ad-e30b-4164-9f86-a3a806e47eed",
   "metadata": {},
   "outputs": [],
   "source": []
  }
 ],
 "metadata": {
  "kernelspec": {
   "display_name": "oo",
   "language": "python",
   "name": "oo"
  },
  "language_info": {
   "codemirror_mode": {
    "name": "ipython",
    "version": 3
   },
   "file_extension": ".py",
   "mimetype": "text/x-python",
   "name": "python",
   "nbconvert_exporter": "python",
   "pygments_lexer": "ipython3",
   "version": "3.9.6"
  }
 },
 "nbformat": 4,
 "nbformat_minor": 5
}
