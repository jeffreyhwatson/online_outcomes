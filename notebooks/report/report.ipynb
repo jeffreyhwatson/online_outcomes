{
 "cells": [
  {
   "cell_type": "code",
   "execution_count": 1,
   "id": "d2febd79-41c2-4c76-8f99-081e8522351e",
   "metadata": {},
   "outputs": [],
   "source": [
    "%load_ext autoreload\n",
    "%autoreload 2"
   ]
  },
  {
   "cell_type": "markdown",
   "id": "f54ff6b4-75f0-4bad-b4ba-c7b2f2cfb53b",
   "metadata": {},
   "source": [
    "# Online Outcomes: Predicting Success in Virtual Learning\n",
    "\n",
    "**<font size=\"4\">Author: Jeffrey Hanif Watson</font>**"
   ]
  },
  {
   "cell_type": "markdown",
   "id": "575d2f7d-134e-4f65-b144-bc6384d76cca",
   "metadata": {},
   "source": [
    "## Imports and Project Path"
   ]
  },
  {
   "cell_type": "code",
   "execution_count": 2,
   "id": "66f3ef85-40f6-459b-bc25-52b6c389e82c",
   "metadata": {},
   "outputs": [],
   "source": [
    "# setting project path\n",
    "\n",
    "import os, sys\n",
    "\n",
    "gparent = os.path.join(os.pardir, os.pardir)\n",
    "sys.path.append(gparent)\n",
    "\n",
    "# importing packages\n",
    "import pandas as pd\n",
    "import numpy as np\n",
    "import matplotlib.pyplot as plt\n",
    "import seaborn as sns"
   ]
  },
  {
   "cell_type": "markdown",
   "id": "6a2e4f2e-832b-4a72-a7f2-332460d32bae",
   "metadata": {},
   "source": [
    "## dir Check"
   ]
  },
  {
   "cell_type": "code",
   "execution_count": 4,
   "id": "9d710a04-0eda-4184-a21a-8b921942d8f5",
   "metadata": {},
   "outputs": [
    {
     "name": "stdout",
     "output_type": "stream",
     "text": [
      "/Users/dsbox/Documents/Flatiron/phase_5/online_outcomes/notebooks/exploratory\n"
     ]
    }
   ],
   "source": [
    "!pwd"
   ]
  }
 ],
 "metadata": {
  "kernelspec": {
   "display_name": "online_outcomes",
   "language": "python",
   "name": "online_outcomes"
  },
  "language_info": {
   "codemirror_mode": {
    "name": "ipython",
    "version": 3
   },
   "file_extension": ".py",
   "mimetype": "text/x-python",
   "name": "python",
   "nbconvert_exporter": "python",
   "pygments_lexer": "ipython3",
   "version": "3.9.6"
  }
 },
 "nbformat": 4,
 "nbformat_minor": 5
}
