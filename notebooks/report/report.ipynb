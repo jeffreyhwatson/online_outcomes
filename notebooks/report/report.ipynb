{
 "cells": [
  {
   "cell_type": "code",
   "execution_count": 1,
   "id": "78c083cd",
   "metadata": {
    "execution": {
     "iopub.execute_input": "2021-09-24T21:03:03.487131Z",
     "iopub.status.busy": "2021-09-24T21:03:03.486597Z",
     "iopub.status.idle": "2021-09-24T21:03:03.533073Z",
     "shell.execute_reply": "2021-09-24T21:03:03.532129Z",
     "shell.execute_reply.started": "2021-09-24T21:03:03.486957Z"
    },
    "tags": []
   },
   "outputs": [],
   "source": [
    "%load_ext autoreload\n",
    "%load_ext autotime\n",
    "%autoreload 2"
   ]
  },
  {
   "cell_type": "markdown",
   "id": "164fdbcd",
   "metadata": {
    "tags": []
   },
   "source": [
    "## Imports and Project Path"
   ]
  },
  {
   "cell_type": "code",
   "execution_count": 2,
   "id": "040c5c11",
   "metadata": {
    "execution": {
     "iopub.execute_input": "2021-09-24T21:03:03.535419Z",
     "iopub.status.busy": "2021-09-24T21:03:03.534642Z",
     "iopub.status.idle": "2021-09-24T21:03:10.474731Z",
     "shell.execute_reply": "2021-09-24T21:03:10.473762Z",
     "shell.execute_reply.started": "2021-09-24T21:03:03.535361Z"
    },
    "tags": []
   },
   "outputs": [
    {
     "name": "stdout",
     "output_type": "stream",
     "text": [
      "time: 6.91 s\n"
     ]
    }
   ],
   "source": [
    "# setting project path\n",
    "import os, sys, warnings\n",
    "\n",
    "gparent = os.path.join(os.pardir, os.pardir)\n",
    "sys.path.append(gparent)\n",
    "\n",
    "# importing packages\n",
    "import pandas as pd\n",
    "import numpy as np\n",
    "import scipy.stats as stats\n",
    "import statsmodels.api as sm\n",
    "\n",
    "from src import class_Database as d\n",
    "from src import class_Cleaner as c\n",
    "from src import helper_functions as f\n",
    "from src import visualizations as v\n",
    "from src import class_Harness as h\n",
    "\n",
    "import matplotlib.pyplot as plt\n",
    "import seaborn as sns\n",
    "%matplotlib inline\n",
    "\n",
    "sns.set_theme('talk')\n",
    "plt.style.use('fivethirtyeight')\n",
    "sns.set_palette('GnBu_r')\n",
    "pd.options.display.max_rows = 300"
   ]
  },
  {
   "cell_type": "markdown",
   "id": "169ee53a",
   "metadata": {
    "tags": []
   },
   "source": [
    "## Creating The Database\n",
    "A [Database](../../src/class_Database.py) class was constructed to interface with the database."
   ]
  },
  {
   "cell_type": "code",
   "execution_count": 3,
   "id": "fdd2771e",
   "metadata": {
    "execution": {
     "iopub.execute_input": "2021-09-24T21:03:10.476795Z",
     "iopub.status.busy": "2021-09-24T21:03:10.476358Z",
     "iopub.status.idle": "2021-09-24T21:03:10.530247Z",
     "shell.execute_reply": "2021-09-24T21:03:10.529523Z",
     "shell.execute_reply.started": "2021-09-24T21:03:10.476748Z"
    },
    "tags": []
   },
   "outputs": [
    {
     "name": "stdout",
     "output_type": "stream",
     "text": [
      "time: 1.53 ms\n"
     ]
    }
   ],
   "source": [
    "# creating database & database class instance\n",
    "database_name = 'outcomes.db'\n",
    "db = d.Database(database_name)"
   ]
  },
  {
   "cell_type": "markdown",
   "id": "549d37bc",
   "metadata": {},
   "source": [
    "**Run the cell below once to populate the database. After the database is populated, the cell can be commented out.**"
   ]
  },
  {
   "cell_type": "code",
   "execution_count": 4,
   "id": "a9ccffb9",
   "metadata": {
    "execution": {
     "iopub.execute_input": "2021-09-24T21:03:10.532596Z",
     "iopub.status.busy": "2021-09-24T21:03:10.532340Z",
     "iopub.status.idle": "2021-09-24T21:03:10.580640Z",
     "shell.execute_reply": "2021-09-24T21:03:10.579023Z",
     "shell.execute_reply.started": "2021-09-24T21:03:10.532570Z"
    },
    "tags": []
   },
   "outputs": [
    {
     "name": "stdout",
     "output_type": "stream",
     "text": [
      "time: 527 µs\n"
     ]
    }
   ],
   "source": [
    "# file_name = 'anonymisedData.zip'\n",
    "# db.populate(file_name, database_name)"
   ]
  },
  {
   "cell_type": "markdown",
   "id": "85712cd8-1021-4428-9a30-36df8b61586d",
   "metadata": {},
   "source": [
    "## Cleaner Class"
   ]
  },
  {
   "cell_type": "code",
   "execution_count": 5,
   "id": "8beaad89-d302-4066-a127-6d81c42136a8",
   "metadata": {
    "execution": {
     "iopub.execute_input": "2021-09-24T21:03:10.582838Z",
     "iopub.status.busy": "2021-09-24T21:03:10.582400Z",
     "iopub.status.idle": "2021-09-24T21:03:10.633014Z",
     "shell.execute_reply": "2021-09-24T21:03:10.632416Z",
     "shell.execute_reply.started": "2021-09-24T21:03:10.582800Z"
    }
   },
   "outputs": [
    {
     "name": "stdout",
     "output_type": "stream",
     "text": [
      "time: 1.26 ms\n"
     ]
    }
   ],
   "source": [
    "cl = c.Cleaner(database_name)"
   ]
  },
  {
   "cell_type": "markdown",
   "id": "b0771fb7",
   "metadata": {
    "tags": []
   },
   "source": [
    "## Modeling Harness Objects"
   ]
  },
  {
   "cell_type": "code",
   "execution_count": 6,
   "id": "3c0e742d",
   "metadata": {
    "execution": {
     "iopub.execute_input": "2021-09-24T21:03:10.634479Z",
     "iopub.status.busy": "2021-09-24T21:03:10.634240Z",
     "iopub.status.idle": "2021-09-24T21:03:10.696495Z",
     "shell.execute_reply": "2021-09-24T21:03:10.695898Z",
     "shell.execute_reply.started": "2021-09-24T21:03:10.634453Z"
    },
    "tags": []
   },
   "outputs": [
    {
     "name": "stdout",
     "output_type": "stream",
     "text": [
      "time: 3.17 ms\n"
     ]
    }
   ],
   "source": [
    "# creating accuracy scorer\n",
    "accuracy = f.acc_score\n",
    "\n",
    "# creating f1 scorer\n",
    "f1 = f.f1\n",
    "\n",
    "# creating recall scorer \n",
    "recall = f.recall\n",
    "\n",
    "# creating precision scorer\n",
    "precision = f.precision\n",
    "\n",
    "# creating Harness\n",
    "modeling = h.Harness(('accuracy', 'f1', 'recall', 'precision'))"
   ]
  },
  {
   "cell_type": "markdown",
   "id": "440cf43a",
   "metadata": {
    "tags": []
   },
   "source": [
    "## EDA & Recommendations Data\n",
    "The following data preparation steps were applied to the data for EDA & recommendation exploration.\n",
    "- A data frame was created from the full-term data for each course.\n",
    "- The multiclass `final_result` feature was binarized into a `target` feature with classes Satisfactory (Pass, Distinction) and Unsatisfactory (Withdrawn, Fail). \n",
    "- A `row_id` feature was constructed to identify unique student-course-month combinations.\n",
    "- A `sum_activity` feature was added to quantify the level of a student's interaction with the course material. \n",
    "- `weighted_ave`, `mean_score`, and `median_score` features were derived from each row's assessment data.\n",
    "- Various cosmetic fixes were applied to the data, and outliers were dropped from the `studied_credits`, `weighted_ave`, and `sum_activity` features using IQR fences.\n",
    "- A categorical `course_load` feature was derived by binning `studied_credits`, and a categorical `activity_level` feature was created by binning `sum_activity`. \n",
    "- Extraneous null values and columns were dropped."
   ]
  },
  {
   "cell_type": "code",
   "execution_count": 7,
   "id": "86d189c1",
   "metadata": {
    "execution": {
     "iopub.execute_input": "2021-09-24T21:03:10.697607Z",
     "iopub.status.busy": "2021-09-24T21:03:10.697410Z",
     "iopub.status.idle": "2021-09-24T21:03:28.305287Z",
     "shell.execute_reply": "2021-09-24T21:03:28.304275Z",
     "shell.execute_reply.started": "2021-09-24T21:03:10.697586Z"
    },
    "tags": []
   },
   "outputs": [
    {
     "name": "stdout",
     "output_type": "stream",
     "text": [
      "time: 17.6 s\n"
     ]
    }
   ],
   "source": [
    "# creating the student_info data frame\n",
    "student_info = cl.student_info_full()\n",
    "\n",
    "# cleaning the data\n",
    "student_info = cl.cleaner_studentinfo(student_info,[])\n",
    "\n",
    "# creating assessment_vle data frame\n",
    "assessment_vle = cl.data_prep_full()\n",
    "\n",
    "# cleaning the data and engineering features\n",
    "drops = ['row_id', 'studied_credits',\n",
    "         'id_site', 'sum_click', 'date_sub', 'date',\n",
    "         'course_length', 'max_date']\n",
    "assessment_vle = cl.pipe_cleaner_wa(assessment_vle, drops).reset_index(drop=True)"
   ]
  },
  {
   "cell_type": "markdown",
   "id": "37fc671b",
   "metadata": {
    "tags": []
   },
   "source": [
    "## Modeling Data\n",
    "The data prep steps for modeling were the same as the steps for EDA with the following exceptions:\n",
    "- The data was restricted to the first 120 days of data for each course. \n",
    "- The `activity_level` feature was dropped."
   ]
  },
  {
   "cell_type": "code",
   "execution_count": 8,
   "id": "8d2daa8f",
   "metadata": {
    "execution": {
     "iopub.execute_input": "2021-09-24T21:03:28.306865Z",
     "iopub.status.busy": "2021-09-24T21:03:28.306584Z",
     "iopub.status.idle": "2021-09-24T21:03:39.848378Z",
     "shell.execute_reply": "2021-09-24T21:03:39.847719Z",
     "shell.execute_reply.started": "2021-09-24T21:03:28.306839Z"
    },
    "tags": []
   },
   "outputs": [
    {
     "name": "stdout",
     "output_type": "stream",
     "text": [
      "time: 11.5 s\n"
     ]
    }
   ],
   "source": [
    "# creating the modeling data frame\n",
    "df = cl.data_prep_half(120)\n",
    "\n",
    "# cleaning the data\n",
    "drops = ['row_id', 'studied_credits', 'final_result',\n",
    "         'id_site', 'sum_click', 'date_sub', 'date',\n",
    "         'score','course_length', 'date_registration',\n",
    "         'date_unregistration', 'max_date',\n",
    "         'code_presentation', 'id_student', 'activity_level']\n",
    "df = cl.pipe_cleaner_wa(df, drops).reset_index(drop=True)\n",
    "\n",
    "# splitting data & target\n",
    "X, y = f.X_y(df)\n",
    "\n",
    "# splitting training and holdout data\n",
    "X_training, X_holdout, y_training, y_holdout = f.test_train(X, y)\n",
    "\n",
    "# train test split\n",
    "X_train, X_test, y_train, y_test = f.test_train(X_training, y_training)"
   ]
  },
  {
   "cell_type": "markdown",
   "id": "486db80c",
   "metadata": {
    "execution": {
     "iopub.execute_input": "2021-08-23T21:27:01.981510Z",
     "iopub.status.busy": "2021-08-23T21:27:01.981112Z",
     "iopub.status.idle": "2021-08-23T21:27:02.042369Z",
     "shell.execute_reply": "2021-08-23T21:27:02.041704Z",
     "shell.execute_reply.started": "2021-08-23T21:27:01.981470Z"
    },
    "tags": []
   },
   "source": [
    "## Error Analysis Data\n",
    "Data prep for error anaysis was the same as that for modeling with the following additional steps:\n",
    "- The `final_result` column was saved as a series for later use, and extraneous columns were dropped.\n",
    "- The data and target were split.\n",
    "- The model was loaded and predictions were calculated.\n",
    "- An error dataframe was created.\n",
    "- The prediction, true binary, and true multiclass labels were added to the error data frame."
   ]
  },
  {
   "cell_type": "code",
   "execution_count": 9,
   "id": "888fa7c0",
   "metadata": {
    "execution": {
     "iopub.execute_input": "2021-09-24T21:03:39.849910Z",
     "iopub.status.busy": "2021-09-24T21:03:39.849641Z",
     "iopub.status.idle": "2021-09-24T21:03:51.991858Z",
     "shell.execute_reply": "2021-09-24T21:03:51.991239Z",
     "shell.execute_reply.started": "2021-09-24T21:03:39.849884Z"
    },
    "tags": []
   },
   "outputs": [
    {
     "name": "stdout",
     "output_type": "stream",
     "text": [
      "time: 12.1 s\n"
     ]
    }
   ],
   "source": [
    "# creating error analysis dataframe\n",
    "dfe = cl.data_prep_half(120)\n",
    "\n",
    "# cleaning data frame\n",
    "drops = ['row_id', 'studied_credits',\n",
    "         'id_site', 'sum_click', 'date_sub', 'date',\n",
    "         'score','course_length', 'date_registration',\n",
    "         'date_unregistration', 'max_date', 'activity_level']\n",
    "dfe = cl.pipe_cleaner_wa(dfe, drops).reset_index(drop=True)\n",
    "\n",
    "# saving column as series for use in error data frame\n",
    "final_result = dfe['final_result'].copy()\n",
    "\n",
    "# dropping columns\n",
    "dfe = dfe.drop(['final_result', 'code_presentation',\n",
    "                'id_student'], axis=1)\n",
    "\n",
    "# splitting data & target\n",
    "X_e, y_e = f.X_y(dfe)\n",
    "\n",
    "# splitting training and holdout data\n",
    "X_training_e, X_holdout_e, y_training_e, y_holdout_e = f.test_train(X_e, y_e)\n",
    "\n",
    "# train test split\n",
    "X_train_e, X_test_e, y_train_e, y_test_e = f.test_train(X_training_e, y_training_e)\n",
    "\n",
    "# loading the model \n",
    "model = f.load_model('final')\n",
    "\n",
    "# getting predictions\n",
    "y_pred = model.predict(X_test_e)\n",
    "\n",
    "# creating the errors data frame\n",
    "errors = X_test_e.copy()\n",
    "\n",
    "# adding the true binary outcome column\n",
    "errors['result'] = y_test_e\n",
    "\n",
    "# adding the predicted binary outcome column\n",
    "errors['prediction'] = y_pred\n",
    "\n",
    "# adding the true multiclass labels\n",
    "errors['label'] = final_result"
   ]
  },
  {
   "cell_type": "markdown",
   "id": "8bb61993",
   "metadata": {},
   "source": [
    "# Online Outcomes: Predicting Success in Virtual Learning\n",
    "\n",
    "**<font size=\"4\">Author: Jeffrey Hanif Watson</font>**"
   ]
  },
  {
   "cell_type": "markdown",
   "id": "6b8b2729",
   "metadata": {
    "tags": []
   },
   "source": [
    "## Business Understanding\n",
    "In the years before the pandemic, online learning had been enjoying slow, reliable growth <sup>1</sup>, and was predicted to become a \\$350 Billion global market by 2025.<sup>2</sup> Covid-19 has only accelerated this trend, with examples such as the online learning platform edX experiencing a 15-fold growth in registrations in April 2020<sup>3</sup>, and almost 93\\% of school-age children engaged in online learning in 2020.<sup>4</sup> \n",
    "\n",
    "While the growth in online learning has provides opportunites, it has also raises concerns about student engagement, learning loss, and inequality. According to a recent NASPA Foundation survey, the main concern of over 70\\% of college students is staying engaged with their online course materials<sup>5</sup>. The World Bank also reports that school closures and online learning have led to widespread learning loss across Europe and Central Asia<sup>6</sup>, and Harvard Professor Todd Rose notes that \"Poor students and first-generation students often don’t do as well online.\"<sup>7</sup>\n",
    "\n",
    "This project aimed to develop recommendations for strategies to avoid unsatisfactory outcomes in online learning environments and implement a model that can predict unfavorable outcomes in a timely manner so interventions can be applied to improve those outcomes.\n",
    "\n",
    "***\n",
    "## Overview\n",
    "Since I wanted to avoid both false positives and false negatives (to capture the maximum number of at-risk students while still efficiently allocating resources) for this project, I chose an accuracy measure of F1, because it is sensitive to both types of error.\n",
    "\n",
    "Data cleaning, EDA, modeling, and evaluation were performed, and a voting classifier model with an F1 accuracy score of 0.69 (recall=.65, precision=.72) was chosen as the the final model for the project. An F1 score is a mix of both precision and recall (F1=1 means perfect recall and precision), so interpretation of the results is more easily described in terms of recall and precision. \n",
    "\n",
    "- The recall score of .65 meant that 65% of unsatisfactory outcomes were correctly classified as unsatisfactory.\n",
    "\n",
    "- The precision score of .72 indicated that 72% of outcomes classified as unsatisfactory were truly unsatisfactory. \n",
    "\n",
    "Statistical testing was also employed to develop the following recommendations to help drive a higher level of satisfactory outcomes:\n",
    "\n",
    "- Preemptive outreach and support programs should be implemented for non-traditional learners and lower income students, and inferential research should be conducted examining the advantages and disadvantages that socioeconomic status and education level confer in an academic setting to help refine those programs moving forward.\n",
    "\n",
    "- Students should be advised to maintain modest course loads. Over half of the students with a heavy course load withdraw before the end of the course, and even a medium course load makes a withdrawl about as likely as a passing grade.\n",
    "\n",
    "- Students should be counseled to maintain medium or higher online activity levels. Further, an automated reminder system that triggers when students fall below a predetermined level should be initiated, along with a web design assessment and A/B testing program, with the goal of driving up student engagement.\n",
    "\n",
    "***\n",
    "## Data Understanding\n",
    "\n",
    "The data set for the project is the Open University Learning Analytics dataset.\n",
    "\n",
    "The dataset was obtained as a compressed zip file containing 7 csv files of tabular data. After cleaning and EDA, the data was ultimately reduced to a modeling dataset of 19,458 rows and 14 columns (13 features plus the target).\n",
    "\n",
    "Citation:\n",
    "Kuzilek, J., Hlosta, M. & Zdrahal, Z. Open University Learning Analytics dataset. Sci Data 4, 170171 (2017). [Article](https://doi.org/10.1038/sdata.2017.171)\n",
    "\n",
    "Download Page:\n",
    "[Open University Learning Analytics dataset](https://analyse.kmi.open.ac.uk/open_dataset)\n",
    "\n",
    "ERD & Data Details:\n",
    "[Schema & Data Description](https://analyse.kmi.open.ac.uk/open_dataset#description)\n",
    "\n",
    "***\n",
    "## Data Preparation: SQL & Object Oriented Methods\n",
    "\n",
    "SQL, data preparation and EDA experiments undertaken in the [Data Cleaning/EDA Notebook](../exploratory/cleaning_eda.ipynb) were ultimately coded into data frame creation, data cleaning, and feature engineering OOP methods for a Database class. I did this work so the methods could be implemented on the fly to create various data configurations in the modeling, error analysis, and recommendations notebooks. The code located in the [class_Database.py](../../src/class_Database.py) file. \n",
    "\n",
    "## Data Prepartion: Overview\n",
    "\n",
    "The data was inserted into an SQL database, and a data frame was constructed from the various database tables. During the creation process, the multiclass `final_result` feature was binarized into a `target` feature with classes Satisfactory (Pass, Distinction), and Unsatisfactory (Withdrawn, Fail). A `row_id` feature was constructed to identify unique student-course-month combinations, and a `sum_activity` feature was added to quantify the level of a student's interaction with the course material. Lastly, `weighted_ave`, `mean_score`, and `median_score` were derived from each row's assessment data.\n",
    "\n",
    "After the data frame was created, various cosmetic fixes were applied to the data, and outliers were dropped from the `studied_credits`, `weighted_ave`, and `sum_activity` features using IQR fences. A categorical `course_load` feature was derived by binning `studied_credits`, and a categorical `activity_level` feature was created by binning `sum_activity`. The `course_load` feature was used during the modeling process, and `activity_level` was used for statistical testing when while investigating business recommendations. Lastly, null values and extraneous columns were dropped in preparation of the modeling process.\n",
    "\n",
    "## Data Prepartion: Half-Term Data\n",
    "In order to be able to predict unsatisfactory outcomes while there is still time to intervene, I limited the model to data logged up to the halfway point of the courses. Since the median course length is 240 days, I chose a cutoff point of 120 days. Further, students who withdrew before the 120th day were dropped from the data, since their outcome was fully determined within the 120 day window.\n",
    "\n",
    "Data preparation, EDA, and feature engineering experiments for the project can be found here:\n",
    "[Data Cleaning/EDA Notebook](../exploratory/cleaning_eda.ipynb)\n",
    "***"
   ]
  },
  {
   "cell_type": "markdown",
   "id": "665f5f86",
   "metadata": {
    "tags": []
   },
   "source": [
    "## Exploring the Data\n",
    "The siginificance level for all tests in the project is alpha=.05"
   ]
  },
  {
   "cell_type": "markdown",
   "id": "a57c3b6b",
   "metadata": {
    "jp-MarkdownHeadingCollapsed": true,
    "tags": []
   },
   "source": [
    "## Demographic Data"
   ]
  },
  {
   "cell_type": "markdown",
   "id": "25b65715",
   "metadata": {},
   "source": [
    "## Distribution of Final Results\n",
    "For data spanning the full term, Pass and Withdrawn are the largest groupings 38\\% and 32\\% respectively, followed by Fail at almost 22\\%. Distinction brings up the rear at 9\\%."
   ]
  },
  {
   "cell_type": "code",
   "execution_count": 10,
   "id": "a5053d45",
   "metadata": {
    "execution": {
     "iopub.execute_input": "2021-09-24T21:03:51.993752Z",
     "iopub.status.busy": "2021-09-24T21:03:51.993460Z",
     "iopub.status.idle": "2021-09-24T21:03:52.431528Z",
     "shell.execute_reply": "2021-09-24T21:03:52.430923Z",
     "shell.execute_reply.started": "2021-09-24T21:03:51.993725Z"
    },
    "tags": []
   },
   "outputs": [
    {
     "data": {
      "image/png": "[encoded data removed]",
      "text/plain": [
       "<Figure size 1440x576 with 1 Axes>"
      ]
     },
     "metadata": {},
     "output_type": "display_data"
    },
    {
     "data": {
      "text/html": [
       "<div>\n",
       "<style scoped>\n",
       "    .dataframe tbody tr th:only-of-type {\n",
       "        vertical-align: middle;\n",
       "    }\n",
       "\n",
       "    .dataframe tbody tr th {\n",
       "        vertical-align: top;\n",
       "    }\n",
       "\n",
       "    .dataframe thead th {\n",
       "        text-align: right;\n",
       "    }\n",
       "</style>\n",
       "<table border=\"1\" class=\"dataframe\">\n",
       "  <thead>\n",
       "    <tr style=\"text-align: right;\">\n",
       "      <th></th>\n",
       "      <th>Outcome</th>\n",
       "      <th>Percentage</th>\n",
       "    </tr>\n",
       "  </thead>\n",
       "  <tbody>\n",
       "    <tr>\n",
       "      <th>0</th>\n",
       "      <td>Pass</td>\n",
       "      <td>0.377922</td>\n",
       "    </tr>\n",
       "    <tr>\n",
       "      <th>1</th>\n",
       "      <td>Withdrawn</td>\n",
       "      <td>0.311521</td>\n",
       "    </tr>\n",
       "    <tr>\n",
       "      <th>2</th>\n",
       "      <td>Fail</td>\n",
       "      <td>0.220203</td>\n",
       "    </tr>\n",
       "    <tr>\n",
       "      <th>3</th>\n",
       "      <td>Distinction</td>\n",
       "      <td>0.090354</td>\n",
       "    </tr>\n",
       "  </tbody>\n",
       "</table>\n",
       "</div>"
      ],
      "text/plain": [
       "       Outcome  Percentage\n",
       "0         Pass    0.377922\n",
       "1    Withdrawn    0.311521\n",
       "2         Fail    0.220203\n",
       "3  Distinction    0.090354"
      ]
     },
     "execution_count": 10,
     "metadata": {},
     "output_type": "execute_result"
    },
    {
     "name": "stdout",
     "output_type": "stream",
     "text": [
      "time: 361 ms\n"
     ]
    }
   ],
   "source": [
    "v.outcomes_type(student_info,'outcomes_type')"
   ]
  },
  {
   "cell_type": "markdown",
   "id": "26c22a9d",
   "metadata": {},
   "source": [
    "## Distribution of Satisfactory and Unsatisfactory Outcomes\n",
    "The final results were binarized into Satisfactory (Pass, Distinction) and Unsatisfactory (Withdrawn, Fail). About 46\\% of outcomes were satisfactory, and 53\\% were unsatisfactory. "
   ]
  },
  {
   "cell_type": "code",
   "execution_count": 11,
   "id": "dde36a37",
   "metadata": {
    "execution": {
     "iopub.execute_input": "2021-09-24T21:03:52.432611Z",
     "iopub.status.busy": "2021-09-24T21:03:52.432469Z",
     "iopub.status.idle": "2021-09-24T21:03:52.684644Z",
     "shell.execute_reply": "2021-09-24T21:03:52.684065Z",
     "shell.execute_reply.started": "2021-09-24T21:03:52.432593Z"
    },
    "tags": []
   },
   "outputs": [
    {
     "data": {
      "image/png": "[encoded data removed]",
      "text/plain": [
       "<Figure size 1440x576 with 1 Axes>"
      ]
     },
     "metadata": {},
     "output_type": "display_data"
    },
    {
     "data": {
      "text/html": [
       "<div>\n",
       "<style scoped>\n",
       "    .dataframe tbody tr th:only-of-type {\n",
       "        vertical-align: middle;\n",
       "    }\n",
       "\n",
       "    .dataframe tbody tr th {\n",
       "        vertical-align: top;\n",
       "    }\n",
       "\n",
       "    .dataframe thead th {\n",
       "        text-align: right;\n",
       "    }\n",
       "</style>\n",
       "<table border=\"1\" class=\"dataframe\">\n",
       "  <thead>\n",
       "    <tr style=\"text-align: right;\">\n",
       "      <th></th>\n",
       "      <th>Outcome</th>\n",
       "      <th>Percentage</th>\n",
       "    </tr>\n",
       "  </thead>\n",
       "  <tbody>\n",
       "    <tr>\n",
       "      <th>0</th>\n",
       "      <td>Unsatisfactory</td>\n",
       "      <td>0.531724</td>\n",
       "    </tr>\n",
       "    <tr>\n",
       "      <th>1</th>\n",
       "      <td>Satisfactory</td>\n",
       "      <td>0.468276</td>\n",
       "    </tr>\n",
       "  </tbody>\n",
       "</table>\n",
       "</div>"
      ],
      "text/plain": [
       "          Outcome  Percentage\n",
       "0  Unsatisfactory    0.531724\n",
       "1    Satisfactory    0.468276"
      ]
     },
     "execution_count": 11,
     "metadata": {},
     "output_type": "execute_result"
    },
    {
     "name": "stdout",
     "output_type": "stream",
     "text": [
      "time: 208 ms\n"
     ]
    }
   ],
   "source": [
    "v.outcomes_target(student_info, 'outcomes_bin')"
   ]
  },
  {
   "cell_type": "markdown",
   "id": "9e07a336",
   "metadata": {
    "tags": []
   },
   "source": [
    "## Outcome By IMD Band"
   ]
  },
  {
   "cell_type": "markdown",
   "id": "43534ade",
   "metadata": {
    "execution": {
     "iopub.execute_input": "2021-08-23T03:22:36.669425Z",
     "iopub.status.busy": "2021-08-23T03:22:36.668986Z",
     "iopub.status.idle": "2021-08-23T03:22:36.692753Z",
     "shell.execute_reply": "2021-08-23T03:22:36.691187Z",
     "shell.execute_reply.started": "2021-08-23T03:22:36.669307Z"
    }
   },
   "source": [
    "IMD Band is a measure of socioeconomic status that is based on geographic location. The higher the band, the better off the student is.\n",
    "\n",
    "A Chi-Squared test was performed, and it was found that IMD band and outcome are not independent (p value=2.473461324525511e-120). In general, Distinction and Pass vary directly with IMD band. The higher the student's IMD band, the more likely the student is to pass or pass with distinction. Conversely, Withdrawn and Fail vary inversely with IMD band. In general, the lower the student's IMD band the more likely the student is to fail or withdraw. \n",
    "\n",
    "IMD band has small, but statistically significant effect on the outcome Pass and Withdrawn, and a medium sized effect on Fail and Distinction."
   ]
  },
  {
   "cell_type": "code",
   "execution_count": 12,
   "id": "fdc631e9",
   "metadata": {
    "execution": {
     "iopub.execute_input": "2021-09-24T21:03:52.686161Z",
     "iopub.status.busy": "2021-09-24T21:03:52.685931Z",
     "iopub.status.idle": "2021-09-24T21:03:53.399657Z",
     "shell.execute_reply": "2021-09-24T21:03:53.398991Z",
     "shell.execute_reply.started": "2021-09-24T21:03:52.686135Z"
    },
    "tags": []
   },
   "outputs": [
    {
     "data": {
      "image/png": "[encoded data removed]",
      "text/plain": [
       "<Figure size 1152x576 with 1 Axes>"
      ]
     },
     "metadata": {},
     "output_type": "display_data"
    },
    {
     "name": "stdout",
     "output_type": "stream",
     "text": [
      "time: 665 ms\n"
     ]
    }
   ],
   "source": [
    "v.outcomes_imd(student_info, 'outcomes_imd')"
   ]
  },
  {
   "cell_type": "markdown",
   "id": "e538a562",
   "metadata": {
    "tags": []
   },
   "source": [
    "### Investigating the IMD Band Contingency Table"
   ]
  },
  {
   "cell_type": "code",
   "execution_count": 13,
   "id": "36172e61",
   "metadata": {
    "execution": {
     "iopub.execute_input": "2021-09-24T21:03:53.404632Z",
     "iopub.status.busy": "2021-09-24T21:03:53.404332Z",
     "iopub.status.idle": "2021-09-24T21:03:53.481264Z",
     "shell.execute_reply": "2021-09-24T21:03:53.480384Z",
     "shell.execute_reply.started": "2021-09-24T21:03:53.404609Z"
    },
    "tags": []
   },
   "outputs": [
    {
     "name": "stdout",
     "output_type": "stream",
     "text": [
      "time: 28.2 ms\n"
     ]
    }
   ],
   "source": [
    "# creating a contingency table\n",
    "tabs = pd.crosstab(student_info.imd_band, student_info.final_result)"
   ]
  },
  {
   "cell_type": "code",
   "execution_count": 14,
   "id": "ffdc3d34",
   "metadata": {
    "execution": {
     "iopub.execute_input": "2021-09-24T21:03:53.482845Z",
     "iopub.status.busy": "2021-09-24T21:03:53.482637Z",
     "iopub.status.idle": "2021-09-24T21:03:53.545783Z",
     "shell.execute_reply": "2021-09-24T21:03:53.545047Z",
     "shell.execute_reply.started": "2021-09-24T21:03:53.482821Z"
    },
    "tags": []
   },
   "outputs": [
    {
     "name": "stdout",
     "output_type": "stream",
     "text": [
      "time: 844 µs\n"
     ]
    }
   ],
   "source": [
    "# creating a statsmodels table object\n",
    "table = sm.stats.Table(tabs)"
   ]
  },
  {
   "cell_type": "code",
   "execution_count": 15,
   "id": "8b037264",
   "metadata": {
    "execution": {
     "iopub.execute_input": "2021-09-24T21:03:53.547202Z",
     "iopub.status.busy": "2021-09-24T21:03:53.546933Z",
     "iopub.status.idle": "2021-09-24T21:03:53.624791Z",
     "shell.execute_reply": "2021-09-24T21:03:53.623692Z",
     "shell.execute_reply.started": "2021-09-24T21:03:53.547176Z"
    },
    "tags": []
   },
   "outputs": [
    {
     "data": {
      "text/html": [
       "<div>\n",
       "<style scoped>\n",
       "    .dataframe tbody tr th:only-of-type {\n",
       "        vertical-align: middle;\n",
       "    }\n",
       "\n",
       "    .dataframe tbody tr th {\n",
       "        vertical-align: top;\n",
       "    }\n",
       "\n",
       "    .dataframe thead th {\n",
       "        text-align: right;\n",
       "    }\n",
       "</style>\n",
       "<table border=\"1\" class=\"dataframe\">\n",
       "  <thead>\n",
       "    <tr style=\"text-align: right;\">\n",
       "      <th>final_result</th>\n",
       "      <th>Distinction</th>\n",
       "      <th>Fail</th>\n",
       "      <th>Pass</th>\n",
       "      <th>Withdrawn</th>\n",
       "    </tr>\n",
       "    <tr>\n",
       "      <th>imd_band</th>\n",
       "      <th></th>\n",
       "      <th></th>\n",
       "      <th></th>\n",
       "      <th></th>\n",
       "    </tr>\n",
       "  </thead>\n",
       "  <tbody>\n",
       "    <tr>\n",
       "      <th>0-10%</th>\n",
       "      <td>-7.402817</td>\n",
       "      <td>7.143362</td>\n",
       "      <td>-6.991624</td>\n",
       "      <td>5.681835</td>\n",
       "    </tr>\n",
       "    <tr>\n",
       "      <th>10-20%</th>\n",
       "      <td>-7.053337</td>\n",
       "      <td>5.017465</td>\n",
       "      <td>-4.146855</td>\n",
       "      <td>4.147654</td>\n",
       "    </tr>\n",
       "    <tr>\n",
       "      <th>20-30%</th>\n",
       "      <td>-3.462050</td>\n",
       "      <td>1.591755</td>\n",
       "      <td>-3.774848</td>\n",
       "      <td>4.683976</td>\n",
       "    </tr>\n",
       "    <tr>\n",
       "      <th>30-40%</th>\n",
       "      <td>-0.167062</td>\n",
       "      <td>0.358575</td>\n",
       "      <td>0.423810</td>\n",
       "      <td>-0.678298</td>\n",
       "    </tr>\n",
       "    <tr>\n",
       "      <th>40-50%</th>\n",
       "      <td>0.168598</td>\n",
       "      <td>-0.679618</td>\n",
       "      <td>-0.071974</td>\n",
       "      <td>0.559866</td>\n",
       "    </tr>\n",
       "    <tr>\n",
       "      <th>50-60%</th>\n",
       "      <td>0.955658</td>\n",
       "      <td>0.635117</td>\n",
       "      <td>1.338885</td>\n",
       "      <td>-2.523342</td>\n",
       "    </tr>\n",
       "    <tr>\n",
       "      <th>60-70%</th>\n",
       "      <td>2.403956</td>\n",
       "      <td>-3.938544</td>\n",
       "      <td>3.503514</td>\n",
       "      <td>-1.842207</td>\n",
       "    </tr>\n",
       "    <tr>\n",
       "      <th>70-80%</th>\n",
       "      <td>3.296277</td>\n",
       "      <td>-1.357454</td>\n",
       "      <td>2.609346</td>\n",
       "      <td>-3.507966</td>\n",
       "    </tr>\n",
       "    <tr>\n",
       "      <th>80-90%</th>\n",
       "      <td>5.004507</td>\n",
       "      <td>-4.631205</td>\n",
       "      <td>3.968319</td>\n",
       "      <td>-3.172347</td>\n",
       "    </tr>\n",
       "    <tr>\n",
       "      <th>90-100%</th>\n",
       "      <td>8.513557</td>\n",
       "      <td>-5.815001</td>\n",
       "      <td>4.786375</td>\n",
       "      <td>-4.967922</td>\n",
       "    </tr>\n",
       "  </tbody>\n",
       "</table>\n",
       "</div>"
      ],
      "text/plain": [
       "final_result  Distinction      Fail      Pass  Withdrawn\n",
       "imd_band                                                \n",
       "0-10%           -7.402817  7.143362 -6.991624   5.681835\n",
       "10-20%          -7.053337  5.017465 -4.146855   4.147654\n",
       "20-30%          -3.462050  1.591755 -3.774848   4.683976\n",
       "30-40%          -0.167062  0.358575  0.423810  -0.678298\n",
       "40-50%           0.168598 -0.679618 -0.071974   0.559866\n",
       "50-60%           0.955658  0.635117  1.338885  -2.523342\n",
       "60-70%           2.403956 -3.938544  3.503514  -1.842207\n",
       "70-80%           3.296277 -1.357454  2.609346  -3.507966\n",
       "80-90%           5.004507 -4.631205  3.968319  -3.172347\n",
       "90-100%          8.513557 -5.815001  4.786375  -4.967922"
      ]
     },
     "execution_count": 15,
     "metadata": {},
     "output_type": "execute_result"
    },
    {
     "name": "stdout",
     "output_type": "stream",
     "text": [
      "time: 12.4 ms\n"
     ]
    }
   ],
   "source": [
    "# pearsons residuals: negatives indicate fewer results than expected, positives indicate more.\n",
    "table.resid_pearson"
   ]
  },
  {
   "cell_type": "markdown",
   "id": "65ee1f29",
   "metadata": {
    "tags": []
   },
   "source": [
    "From the contingency table it appears that, in general, Distinction and Pass vary directly with IMD band. The higher the student's IMD band, the more likely the student is to pass or pass with distinction. Conversely, Withdrawn and Fail vary inversely with IMD band. In general, the lower the student's IMD band the more likely the student is to fail or withdraw."
   ]
  },
  {
   "cell_type": "markdown",
   "id": "363b3c1d",
   "metadata": {
    "tags": []
   },
   "source": [
    "### Hypothesis Testing"
   ]
  },
  {
   "cell_type": "markdown",
   "id": "0e1a11fa",
   "metadata": {
    "tags": []
   },
   "source": [
    "#### Chi-Square Test for `imd_band`\n",
    "Ho = `imd_band` and `final_result` are independent.\n",
    "\n",
    "Ha = `imd_band` and `final_result` are not independent.\n",
    "\n",
    "alpha = .05"
   ]
  },
  {
   "cell_type": "code",
   "execution_count": 16,
   "id": "3826e549",
   "metadata": {
    "execution": {
     "iopub.execute_input": "2021-09-24T21:03:53.626411Z",
     "iopub.status.busy": "2021-09-24T21:03:53.626210Z",
     "iopub.status.idle": "2021-09-24T21:03:53.695447Z",
     "shell.execute_reply": "2021-09-24T21:03:53.694091Z",
     "shell.execute_reply.started": "2021-09-24T21:03:53.626385Z"
    },
    "tags": []
   },
   "outputs": [
    {
     "name": "stdout",
     "output_type": "stream",
     "text": [
      "chi-squared = 653.0806826983792\n",
      "p value= 2.473461324525511e-120\n",
      "degrees of freedom = 27\n",
      "time: 1.72 ms\n"
     ]
    }
   ],
   "source": [
    "# calculating chi-squared,p-value, degrees of freedom\n",
    "f.chi_sq_test(tabs)"
   ]
  },
  {
   "cell_type": "markdown",
   "id": "80a304de",
   "metadata": {},
   "source": [
    "Since the p value is less than our alpha, we reject the null hypothesis and conclude that `imd_band` and `final_result` are not independent."
   ]
  },
  {
   "cell_type": "markdown",
   "id": "b52f7b21",
   "metadata": {},
   "source": [
    "#### Test Result: IMD Band and Outcomes Are Not Independent."
   ]
  },
  {
   "cell_type": "code",
   "execution_count": 17,
   "id": "35a99a70",
   "metadata": {
    "execution": {
     "iopub.execute_input": "2021-09-24T21:03:53.697214Z",
     "iopub.status.busy": "2021-09-24T21:03:53.696976Z",
     "iopub.status.idle": "2021-09-24T21:03:53.772016Z",
     "shell.execute_reply": "2021-09-24T21:03:53.770969Z",
     "shell.execute_reply.started": "2021-09-24T21:03:53.697186Z"
    },
    "tags": []
   },
   "outputs": [
    {
     "name": "stdout",
     "output_type": "stream",
     "text": [
      "Cramer's V Degrees of Freedom = 3\n",
      "\n",
      "Effect Size Thresholds\n",
      "   Degrees of Freedom  Small Effect  Medium Effect  Large Effect\n",
      "0                 1.0          0.10           0.30          0.50\n",
      "1                 2.0          0.07           0.21          0.35\n",
      "2                 3.0          0.06           0.17          0.29\n",
      "3                 4.0          0.05           0.15          0.25\n",
      "4                 5.0          0.04           0.13          0.22\n",
      "\n",
      "final_result\n",
      "Distinction    0.278138\n",
      "Fail           0.178166\n",
      "Pass           0.135999\n",
      "Withdrawn      0.149793\n",
      "dtype: float64\n",
      "time: 7.37 ms\n"
     ]
    }
   ],
   "source": [
    "# calculating cramer's v to measure the effect sizes\n",
    "f.cramers_v(tabs)"
   ]
  },
  {
   "cell_type": "markdown",
   "id": "5b670e5b",
   "metadata": {
    "tags": []
   },
   "source": [
    "Adjusted for degrees of freedom, the Cramer's V results indicate that `imd_band` has a small, but statistically significant, effect on Pass and Withdrawn and a medium effect on Fail and Distinction."
   ]
  },
  {
   "cell_type": "markdown",
   "id": "b3569603",
   "metadata": {},
   "source": [
    "#### Effect Sizes: Small for Pass and Withdrawn, Medium for Fail and Distinction."
   ]
  },
  {
   "cell_type": "markdown",
   "id": "41be3aae",
   "metadata": {
    "tags": []
   },
   "source": [
    "## Outcome by Education Level\n",
    "The ranking of these UK education categories is as follows (from lowest to highest): No Formal Qualifications, Lower Than A Level, A Level, HE Qualification, Post Graduate Qualification.\n",
    "\n",
    "A Chi-Squared test was performed, and it was found that education level and outcome are not independent (p value=2.4827414817328365e-198). In general, Distinction and Pass vary directly with education level. The higher the student's education level, the more likely the student is to pass or pass with distinction. Conversely, Withdrawn and Fail vary inversely with education. In general, the lower the student's education level the more likely the student is to fail or withdraw. \n",
    "\n",
    "Adjusted for degrees of freedom, the Cramer's V results indicate that `highest_education ` has a small effect on Pass, a medium effect on Fail and Withdrawn, and a large effect on Distinction."
   ]
  },
  {
   "cell_type": "code",
   "execution_count": 18,
   "id": "488c7e5d",
   "metadata": {
    "execution": {
     "iopub.execute_input": "2021-09-24T21:03:53.773691Z",
     "iopub.status.busy": "2021-09-24T21:03:53.773286Z",
     "iopub.status.idle": "2021-09-24T21:03:54.273833Z",
     "shell.execute_reply": "2021-09-24T21:03:54.273203Z",
     "shell.execute_reply.started": "2021-09-24T21:03:53.773663Z"
    },
    "tags": []
   },
   "outputs": [
    {
     "data": {
      "image/png": "[encoded data removed]",
      "text/plain": [
       "<Figure size 1440x576 with 1 Axes>"
      ]
     },
     "metadata": {},
     "output_type": "display_data"
    },
    {
     "name": "stdout",
     "output_type": "stream",
     "text": [
      "time: 435 ms\n"
     ]
    }
   ],
   "source": [
    "v.outcomes_edu(student_info, 'outcomes_edu')"
   ]
  },
  {
   "cell_type": "markdown",
   "id": "ea29f502",
   "metadata": {},
   "source": [
    "### Investigating `highest_education` Contingency Tabels"
   ]
  },
  {
   "cell_type": "code",
   "execution_count": 19,
   "id": "856fb156",
   "metadata": {
    "execution": {
     "iopub.execute_input": "2021-09-24T21:03:54.274821Z",
     "iopub.status.busy": "2021-09-24T21:03:54.274686Z",
     "iopub.status.idle": "2021-09-24T21:03:54.346811Z",
     "shell.execute_reply": "2021-09-24T21:03:54.346056Z",
     "shell.execute_reply.started": "2021-09-24T21:03:54.274805Z"
    },
    "tags": []
   },
   "outputs": [
    {
     "name": "stdout",
     "output_type": "stream",
     "text": [
      "time: 22 ms\n"
     ]
    }
   ],
   "source": [
    "# creating a contingency table\n",
    "tabs = pd.crosstab(student_info.highest_education, student_info.final_result)"
   ]
  },
  {
   "cell_type": "code",
   "execution_count": 20,
   "id": "86f8a9e4",
   "metadata": {
    "execution": {
     "iopub.execute_input": "2021-09-24T21:03:54.348990Z",
     "iopub.status.busy": "2021-09-24T21:03:54.348564Z",
     "iopub.status.idle": "2021-09-24T21:03:54.411760Z",
     "shell.execute_reply": "2021-09-24T21:03:54.410937Z",
     "shell.execute_reply.started": "2021-09-24T21:03:54.348957Z"
    },
    "tags": []
   },
   "outputs": [
    {
     "name": "stdout",
     "output_type": "stream",
     "text": [
      "time: 1.03 ms\n"
     ]
    }
   ],
   "source": [
    "# creating a statsmodels table object\n",
    "table = sm.stats.Table(tabs)"
   ]
  },
  {
   "cell_type": "code",
   "execution_count": 21,
   "id": "ac338eb4",
   "metadata": {
    "execution": {
     "iopub.execute_input": "2021-09-24T21:03:54.413572Z",
     "iopub.status.busy": "2021-09-24T21:03:54.413281Z",
     "iopub.status.idle": "2021-09-24T21:03:54.494203Z",
     "shell.execute_reply": "2021-09-24T21:03:54.493246Z",
     "shell.execute_reply.started": "2021-09-24T21:03:54.413542Z"
    },
    "tags": []
   },
   "outputs": [
    {
     "data": {
      "text/html": [
       "<div>\n",
       "<style scoped>\n",
       "    .dataframe tbody tr th:only-of-type {\n",
       "        vertical-align: middle;\n",
       "    }\n",
       "\n",
       "    .dataframe tbody tr th {\n",
       "        vertical-align: top;\n",
       "    }\n",
       "\n",
       "    .dataframe thead th {\n",
       "        text-align: right;\n",
       "    }\n",
       "</style>\n",
       "<table border=\"1\" class=\"dataframe\">\n",
       "  <thead>\n",
       "    <tr style=\"text-align: right;\">\n",
       "      <th>final_result</th>\n",
       "      <th>Distinction</th>\n",
       "      <th>Fail</th>\n",
       "      <th>Pass</th>\n",
       "      <th>Withdrawn</th>\n",
       "    </tr>\n",
       "    <tr>\n",
       "      <th>highest_education</th>\n",
       "      <th></th>\n",
       "      <th></th>\n",
       "      <th></th>\n",
       "      <th></th>\n",
       "    </tr>\n",
       "  </thead>\n",
       "  <tbody>\n",
       "    <tr>\n",
       "      <th>No Formal quals</th>\n",
       "      <td>-2.761012</td>\n",
       "      <td>2.476404</td>\n",
       "      <td>-4.240230</td>\n",
       "      <td>4.075243</td>\n",
       "    </tr>\n",
       "    <tr>\n",
       "      <th>Lower Than A Level</th>\n",
       "      <td>-14.015472</td>\n",
       "      <td>10.604762</td>\n",
       "      <td>-8.259037</td>\n",
       "      <td>7.728913</td>\n",
       "    </tr>\n",
       "    <tr>\n",
       "      <th>A Level or Equivalent</th>\n",
       "      <td>5.891219</td>\n",
       "      <td>-6.327834</td>\n",
       "      <td>6.633103</td>\n",
       "      <td>-5.158524</td>\n",
       "    </tr>\n",
       "    <tr>\n",
       "      <th>HE Qualification</th>\n",
       "      <td>12.197479</td>\n",
       "      <td>-7.109027</td>\n",
       "      <td>3.760665</td>\n",
       "      <td>-4.734217</td>\n",
       "    </tr>\n",
       "    <tr>\n",
       "      <th>Post Graduate Qualification</th>\n",
       "      <td>9.316753</td>\n",
       "      <td>-1.868449</td>\n",
       "      <td>-1.466281</td>\n",
       "      <td>-1.831688</td>\n",
       "    </tr>\n",
       "  </tbody>\n",
       "</table>\n",
       "</div>"
      ],
      "text/plain": [
       "final_result                 Distinction       Fail      Pass  Withdrawn\n",
       "highest_education                                                       \n",
       "No Formal quals                -2.761012   2.476404 -4.240230   4.075243\n",
       "Lower Than A Level            -14.015472  10.604762 -8.259037   7.728913\n",
       "A Level or Equivalent           5.891219  -6.327834  6.633103  -5.158524\n",
       "HE Qualification               12.197479  -7.109027  3.760665  -4.734217\n",
       "Post Graduate Qualification     9.316753  -1.868449 -1.466281  -1.831688"
      ]
     },
     "execution_count": 21,
     "metadata": {},
     "output_type": "execute_result"
    },
    {
     "name": "stdout",
     "output_type": "stream",
     "text": [
      "time: 11.1 ms\n"
     ]
    }
   ],
   "source": [
    "# sorting education levels from lowest to highest\n",
    "order =  ['No Formal quals', 'Lower Than A Level', 'A Level or Equivalent',\n",
    "          'HE Qualification', 'Post Graduate Qualification']\n",
    "# pearsons residuals: negatives indicate fewer results than expected, positives indicate more.\n",
    "table.resid_pearson.reindex(order)"
   ]
  },
  {
   "cell_type": "markdown",
   "id": "70a88977",
   "metadata": {},
   "source": [
    "From the contingency tables it appears that, in general, Distinction and Pass vary directly with education level. The higher the student's education level, the more likely the student is to pass or pass with distinction. Conversely, Withdrawn and Fail vary inversely with education level. In general, the lower the student's education level the more likely the student is to fail or withdraw. "
   ]
  },
  {
   "cell_type": "markdown",
   "id": "d757c073",
   "metadata": {},
   "source": [
    "### Chi-Square Test for `highest_education`\n",
    "Ho = `highest_education` and `final_result` are independent.\n",
    "\n",
    "Ha = `highest_education` and `final_result` are not independent.\n",
    "\n",
    "alpha = .05"
   ]
  },
  {
   "cell_type": "code",
   "execution_count": 22,
   "id": "47955bee",
   "metadata": {
    "execution": {
     "iopub.execute_input": "2021-09-24T21:03:54.495876Z",
     "iopub.status.busy": "2021-09-24T21:03:54.495675Z",
     "iopub.status.idle": "2021-09-24T21:03:54.563122Z",
     "shell.execute_reply": "2021-09-24T21:03:54.562118Z",
     "shell.execute_reply.started": "2021-09-24T21:03:54.495850Z"
    },
    "tags": []
   },
   "outputs": [
    {
     "name": "stdout",
     "output_type": "stream",
     "text": [
      "chi-squared = 962.2117100356752\n",
      "p value= 2.4827414817328365e-198\n",
      "degrees of freedom = 12\n",
      "time: 1.89 ms\n"
     ]
    }
   ],
   "source": [
    "# calculating chi-squared,p-value, degrees of freedom\n",
    "f.chi_sq_test(tabs)"
   ]
  },
  {
   "cell_type": "markdown",
   "id": "5ecf0673",
   "metadata": {},
   "source": [
    "Since the p value is less than our alpha, we reject the null hypothesis and conclude that `highest_education` and `final_result` are not independent."
   ]
  },
  {
   "cell_type": "markdown",
   "id": "d755de47",
   "metadata": {},
   "source": [
    "#### Test Result: Education Level and Outcome Are Not Independent"
   ]
  },
  {
   "cell_type": "code",
   "execution_count": 23,
   "id": "34f95824",
   "metadata": {
    "execution": {
     "iopub.execute_input": "2021-09-24T21:03:54.564669Z",
     "iopub.status.busy": "2021-09-24T21:03:54.564422Z",
     "iopub.status.idle": "2021-09-24T21:03:54.642947Z",
     "shell.execute_reply": "2021-09-24T21:03:54.642159Z",
     "shell.execute_reply.started": "2021-09-24T21:03:54.564644Z"
    },
    "tags": []
   },
   "outputs": [
    {
     "name": "stdout",
     "output_type": "stream",
     "text": [
      "Cramer's V Degrees of Freedom = 3\n",
      "\n",
      "Effect Size Thresholds\n",
      "   Degrees of Freedom  Small Effect  Medium Effect  Large Effect\n",
      "0                 1.0          0.10           0.30          0.50\n",
      "1                 2.0          0.07           0.21          0.35\n",
      "2                 3.0          0.06           0.17          0.29\n",
      "3                 4.0          0.05           0.15          0.25\n",
      "4                 5.0          0.04           0.13          0.22\n",
      "\n",
      "final_result\n",
      "Distinction    0.337608\n",
      "Fail           0.216260\n",
      "Pass           0.165077\n",
      "Withdrawn      0.181821\n",
      "dtype: float64\n",
      "time: 8.22 ms\n"
     ]
    }
   ],
   "source": [
    "# calculating cramer's v to measure the effect sizes\n",
    "f.cramers_v(tabs)"
   ]
  },
  {
   "cell_type": "markdown",
   "id": "05376fe8",
   "metadata": {},
   "source": [
    "Adjusted for degrees of freedom, the Cramer's V results indicate that `highest_education` has a small effect on Pass, a medium effect on Fail, and Withdrawn, and a large effect on Distinction."
   ]
  },
  {
   "cell_type": "markdown",
   "id": "1d44ac55",
   "metadata": {},
   "source": [
    "#### Effect Sizes: Small on Pass, Medium on Fail and Withdrawn, Large on Distinction"
   ]
  },
  {
   "cell_type": "markdown",
   "id": "0c32b88a",
   "metadata": {},
   "source": [
    "## Recommendation"
   ]
  },
  {
   "cell_type": "markdown",
   "id": "9f5a25c0",
   "metadata": {},
   "source": [
    "Preemptive outreach and support programs for non-traditional learners and lower income students, and inferential research into the advantages and disadvantages that socioeconomic status and education level confer in an academic setting to help refine those programs moving forward. "
   ]
  },
  {
   "cell_type": "markdown",
   "id": "a78afa86",
   "metadata": {
    "tags": []
   },
   "source": [
    "## Outcome by Course Load\n",
    "Course load is a feature that categorizes the amount of credits the student was studying at the time of the course. The categories are as follows: \n",
    "\n",
    "- 30-60 Credits: Light \n",
    "- 61 to 120 Credits: Medium\n",
    "- 121 to 210 Credits: Heavy\n",
    "\n",
    "A Chi-Squared test was performed, and it was found that course load and outcome are not independent (p value= 1.9942967713148247e-188). A light course load contributes positively to Distinction, Pass, and (counterintuitively) Fail, while it contributes negatively to Withdrawn. Conversely,  Medium and Heavy course loads contribute negatively to Distinction, Pass and (again, counterintuitively) Fail,  while they contribute positively to Withdrawn.\n",
    "\n",
    "Course load has a small effect on Pass, a medium sized effect on Withdraw and Fail, and a large effect on Distinction."
   ]
  },
  {
   "cell_type": "code",
   "execution_count": 24,
   "id": "64e512e0",
   "metadata": {
    "execution": {
     "iopub.execute_input": "2021-09-24T21:03:54.645425Z",
     "iopub.status.busy": "2021-09-24T21:03:54.645051Z",
     "iopub.status.idle": "2021-09-24T21:03:55.088655Z",
     "shell.execute_reply": "2021-09-24T21:03:55.088062Z",
     "shell.execute_reply.started": "2021-09-24T21:03:54.645385Z"
    },
    "tags": []
   },
   "outputs": [
    {
     "data": {
      "image/png": "[encoded data removed]",
      "text/plain": [
       "<Figure size 1440x576 with 1 Axes>"
      ]
     },
     "metadata": {},
     "output_type": "display_data"
    },
    {
     "name": "stdout",
     "output_type": "stream",
     "text": [
      "time: 368 ms\n"
     ]
    }
   ],
   "source": [
    "v.outcome_cl(student_info, 'outcomes_cl')"
   ]
  },
  {
   "cell_type": "code",
   "execution_count": 25,
   "id": "3ebfae79",
   "metadata": {
    "execution": {
     "iopub.execute_input": "2021-09-24T21:03:55.089964Z",
     "iopub.status.busy": "2021-09-24T21:03:55.089734Z",
     "iopub.status.idle": "2021-09-24T21:03:55.160721Z",
     "shell.execute_reply": "2021-09-24T21:03:55.159815Z",
     "shell.execute_reply.started": "2021-09-24T21:03:55.089939Z"
    },
    "tags": []
   },
   "outputs": [
    {
     "name": "stdout",
     "output_type": "stream",
     "text": [
      "time: 19.4 ms\n"
     ]
    }
   ],
   "source": [
    "# creating a contingency table\n",
    "tabs = pd.crosstab(student_info.course_load, student_info.final_result)"
   ]
  },
  {
   "cell_type": "code",
   "execution_count": 26,
   "id": "b718af08",
   "metadata": {
    "execution": {
     "iopub.execute_input": "2021-09-24T21:03:55.162615Z",
     "iopub.status.busy": "2021-09-24T21:03:55.162265Z",
     "iopub.status.idle": "2021-09-24T21:03:55.223462Z",
     "shell.execute_reply": "2021-09-24T21:03:55.222229Z",
     "shell.execute_reply.started": "2021-09-24T21:03:55.162584Z"
    },
    "tags": []
   },
   "outputs": [
    {
     "name": "stdout",
     "output_type": "stream",
     "text": [
      "time: 923 µs\n"
     ]
    }
   ],
   "source": [
    "# creating a statsmodels table object\n",
    "table = sm.stats.Table(tabs)"
   ]
  },
  {
   "cell_type": "code",
   "execution_count": 27,
   "id": "b82e79a2",
   "metadata": {
    "execution": {
     "iopub.execute_input": "2021-09-24T21:03:55.225249Z",
     "iopub.status.busy": "2021-09-24T21:03:55.225040Z",
     "iopub.status.idle": "2021-09-24T21:03:55.293149Z",
     "shell.execute_reply": "2021-09-24T21:03:55.292432Z",
     "shell.execute_reply.started": "2021-09-24T21:03:55.225225Z"
    },
    "tags": []
   },
   "outputs": [
    {
     "data": {
      "text/html": [
       "<div>\n",
       "<style scoped>\n",
       "    .dataframe tbody tr th:only-of-type {\n",
       "        vertical-align: middle;\n",
       "    }\n",
       "\n",
       "    .dataframe tbody tr th {\n",
       "        vertical-align: top;\n",
       "    }\n",
       "\n",
       "    .dataframe thead th {\n",
       "        text-align: right;\n",
       "    }\n",
       "</style>\n",
       "<table border=\"1\" class=\"dataframe\">\n",
       "  <thead>\n",
       "    <tr style=\"text-align: right;\">\n",
       "      <th>final_result</th>\n",
       "      <th>Distinction</th>\n",
       "      <th>Fail</th>\n",
       "      <th>Pass</th>\n",
       "      <th>Withdrawn</th>\n",
       "    </tr>\n",
       "    <tr>\n",
       "      <th>course_load</th>\n",
       "      <th></th>\n",
       "      <th></th>\n",
       "      <th></th>\n",
       "      <th></th>\n",
       "    </tr>\n",
       "  </thead>\n",
       "  <tbody>\n",
       "    <tr>\n",
       "      <th>Light</th>\n",
       "      <td>3.796072</td>\n",
       "      <td>3.492519</td>\n",
       "      <td>8.141165</td>\n",
       "      <td>-13.947682</td>\n",
       "    </tr>\n",
       "    <tr>\n",
       "      <th>Medium</th>\n",
       "      <td>-2.331048</td>\n",
       "      <td>-4.005234</td>\n",
       "      <td>-8.556518</td>\n",
       "      <td>14.047233</td>\n",
       "    </tr>\n",
       "    <tr>\n",
       "      <th>Heavy</th>\n",
       "      <td>-7.185069</td>\n",
       "      <td>-2.405282</td>\n",
       "      <td>-7.369259</td>\n",
       "      <td>14.008549</td>\n",
       "    </tr>\n",
       "  </tbody>\n",
       "</table>\n",
       "</div>"
      ],
      "text/plain": [
       "final_result  Distinction      Fail      Pass  Withdrawn\n",
       "course_load                                             \n",
       "Light            3.796072  3.492519  8.141165 -13.947682\n",
       "Medium          -2.331048 -4.005234 -8.556518  14.047233\n",
       "Heavy           -7.185069 -2.405282 -7.369259  14.008549"
      ]
     },
     "execution_count": 27,
     "metadata": {},
     "output_type": "execute_result"
    },
    {
     "name": "stdout",
     "output_type": "stream",
     "text": [
      "time: 8.04 ms\n"
     ]
    }
   ],
   "source": [
    "# pearsons residuals: negatives indicate fewer results than expected, positives indicate more.\n",
    "table.resid_pearson"
   ]
  },
  {
   "cell_type": "markdown",
   "id": "eff1984d",
   "metadata": {},
   "source": [
    "From the contingency tables it appears that a light course load contributes positively to Distinction, Pass, and (counterintuitively) Fail, while it contributes negatively to Withdrawn. Conversely,  Medium and Heavy course loads contribute negatively to Distinction, Pass and (again, counterintuitively) Fail,  while they contribute positively to Withdrawn."
   ]
  },
  {
   "cell_type": "markdown",
   "id": "c9788118",
   "metadata": {
    "tags": []
   },
   "source": [
    "### Chi-Square Test for `course_load`\n",
    "Ho = `course_load` and `final_result` are independent.\n",
    "\n",
    "Ha = `course_load` and `final_result` are not independent.\n",
    "\n",
    "alpha = .05"
   ]
  },
  {
   "cell_type": "code",
   "execution_count": 28,
   "id": "3e0c347a",
   "metadata": {
    "execution": {
     "iopub.execute_input": "2021-09-24T21:03:55.294788Z",
     "iopub.status.busy": "2021-09-24T21:03:55.294587Z",
     "iopub.status.idle": "2021-09-24T21:03:55.361599Z",
     "shell.execute_reply": "2021-09-24T21:03:55.360424Z",
     "shell.execute_reply.started": "2021-09-24T21:03:55.294764Z"
    },
    "tags": []
   },
   "outputs": [
    {
     "name": "stdout",
     "output_type": "stream",
     "text": [
      "chi-squared = 887.3947035023172\n",
      "p value= 1.9942967713148247e-188\n",
      "degrees of freedom = 6\n",
      "time: 1.56 ms\n"
     ]
    }
   ],
   "source": [
    "# calculating chi-squared,p-value, degrees of freedom\n",
    "f.chi_sq_test(tabs)"
   ]
  },
  {
   "cell_type": "markdown",
   "id": "9290a356",
   "metadata": {},
   "source": [
    "Since the p value is less than our alpha, we reject the null hypothesis and conclude that `course_load` and `final_result` are not independent."
   ]
  },
  {
   "cell_type": "markdown",
   "id": "a7b0120c",
   "metadata": {},
   "source": [
    "#### Result: Course Load and Outcome Are Not Independent"
   ]
  },
  {
   "cell_type": "code",
   "execution_count": 29,
   "id": "cba73bec",
   "metadata": {
    "execution": {
     "iopub.execute_input": "2021-09-24T21:03:55.363559Z",
     "iopub.status.busy": "2021-09-24T21:03:55.363204Z",
     "iopub.status.idle": "2021-09-24T21:03:55.431792Z",
     "shell.execute_reply": "2021-09-24T21:03:55.430939Z",
     "shell.execute_reply.started": "2021-09-24T21:03:55.363529Z"
    },
    "tags": []
   },
   "outputs": [
    {
     "name": "stdout",
     "output_type": "stream",
     "text": [
      "Cramer's V Degrees of Freedom = 2\n",
      "\n",
      "Effect Size Thresholds\n",
      "   Degrees of Freedom  Small Effect  Medium Effect  Large Effect\n",
      "0                 1.0          0.10           0.30          0.50\n",
      "1                 2.0          0.07           0.21          0.35\n",
      "2                 3.0          0.06           0.17          0.29\n",
      "3                 4.0          0.05           0.15          0.25\n",
      "4                 5.0          0.04           0.13          0.22\n",
      "\n",
      "final_result\n",
      "Distinction    0.397083\n",
      "Fail           0.254358\n",
      "Pass           0.194158\n",
      "Withdrawn      0.213852\n",
      "dtype: float64\n",
      "time: 9.16 ms\n"
     ]
    }
   ],
   "source": [
    "# calculating cramer's v to measure the effect sizes\n",
    "f.cramers_v(tabs)"
   ]
  },
  {
   "cell_type": "markdown",
   "id": "5f2686a6",
   "metadata": {},
   "source": [
    "Adjusted for degrees of freedom, the Cramer's V results indicate that `course_load` has a small effect on Pass, a medium effect on Withdraw and Fail, and a large effect on Distinction."
   ]
  },
  {
   "cell_type": "markdown",
   "id": "86588974",
   "metadata": {},
   "source": [
    "#### Effect Sizes: Small on Pass, Medium on Withdrawn and Fail, Large on Distinction"
   ]
  },
  {
   "cell_type": "markdown",
   "id": "1e8bc17b",
   "metadata": {},
   "source": [
    "## Recommendation\n",
    "Advise students to maintain a modest course loads. We can see from the graph above that nearly half of the students will a heavy course load withdraw before the end of the course, and even at medium load levels there are more withdraws than passes. Hopefully this data can be used to help set realistic expectations with students during matriculation."
   ]
  },
  {
   "cell_type": "markdown",
   "id": "f9b66e1e",
   "metadata": {},
   "source": [
    "## VLE & Assessment Data"
   ]
  },
  {
   "cell_type": "markdown",
   "id": "24eac6bd",
   "metadata": {},
   "source": [
    "## Activity Level\n",
    "The `activity_level` feature is a measure of the student's engagment with a course's online materials, and is  calculated by adding the total number of online activities undertaken by the student with the total number of clicks for those activities. The categories are as follows:\n",
    "\n",
    "- 2-456 Total: Very Light \n",
    "- 457-1013 Total: Light\n",
    "- 1014-2029 Total: Medium \n",
    "- 2030-5402 Total: Heavy\n",
    "\n",
    "A Chi-Squared test was performed, and it was found that activity level and outcome are not independent (p value= 0.0). Light activity levels contribute negatively to Distinction and  Pass, while they contributes positively to Withdrawn and Fail. Conversely,  Medium and Heavy activity levels contribute positively to Distinction and Pass, while they contribute negatively to Withdrawn and Fail.\n",
    "\n",
    "`activity_level` has a large effect size on all of the outcomes, and the largest effect sizes of all the features tested."
   ]
  },
  {
   "cell_type": "code",
   "execution_count": 30,
   "id": "c4ea859d",
   "metadata": {
    "execution": {
     "iopub.execute_input": "2021-09-24T21:03:55.433167Z",
     "iopub.status.busy": "2021-09-24T21:03:55.432989Z",
     "iopub.status.idle": "2021-09-24T21:03:55.946061Z",
     "shell.execute_reply": "2021-09-24T21:03:55.945489Z",
     "shell.execute_reply.started": "2021-09-24T21:03:55.433146Z"
    },
    "tags": []
   },
   "outputs": [
    {
     "data": {
      "image/png": "[encoded data removed]",
      "text/plain": [
       "<Figure size 1440x576 with 1 Axes>"
      ]
     },
     "metadata": {},
     "output_type": "display_data"
    },
    {
     "name": "stdout",
     "output_type": "stream",
     "text": [
      "time: 447 ms\n"
     ]
    }
   ],
   "source": [
    "v.outcomes_sumact(assessment_vle, 'outcomes_sumact')"
   ]
  },
  {
   "cell_type": "markdown",
   "id": "090ffbcd",
   "metadata": {},
   "source": [
    "### Activity Level Contingency Table"
   ]
  },
  {
   "cell_type": "code",
   "execution_count": 31,
   "id": "760f8bf5",
   "metadata": {
    "execution": {
     "iopub.execute_input": "2021-09-24T21:03:55.947453Z",
     "iopub.status.busy": "2021-09-24T21:03:55.947286Z",
     "iopub.status.idle": "2021-09-24T21:03:56.019242Z",
     "shell.execute_reply": "2021-09-24T21:03:56.018163Z",
     "shell.execute_reply.started": "2021-09-24T21:03:55.947432Z"
    },
    "tags": []
   },
   "outputs": [
    {
     "name": "stdout",
     "output_type": "stream",
     "text": [
      "time: 19 ms\n"
     ]
    }
   ],
   "source": [
    "# creating a contingency table\n",
    "tabs = pd.crosstab(assessment_vle.activity_level, assessment_vle.final_result)"
   ]
  },
  {
   "cell_type": "code",
   "execution_count": 32,
   "id": "a1d64f48",
   "metadata": {
    "execution": {
     "iopub.execute_input": "2021-09-24T21:03:56.021124Z",
     "iopub.status.busy": "2021-09-24T21:03:56.020758Z",
     "iopub.status.idle": "2021-09-24T21:03:56.081704Z",
     "shell.execute_reply": "2021-09-24T21:03:56.080883Z",
     "shell.execute_reply.started": "2021-09-24T21:03:56.021088Z"
    },
    "tags": []
   },
   "outputs": [
    {
     "name": "stdout",
     "output_type": "stream",
     "text": [
      "time: 1.17 ms\n"
     ]
    }
   ],
   "source": [
    "# creating a statsmodels table object\n",
    "table = sm.stats.Table(tabs)"
   ]
  },
  {
   "cell_type": "code",
   "execution_count": 33,
   "id": "392ccf9c",
   "metadata": {
    "execution": {
     "iopub.execute_input": "2021-09-24T21:03:56.083654Z",
     "iopub.status.busy": "2021-09-24T21:03:56.083296Z",
     "iopub.status.idle": "2021-09-24T21:03:56.155697Z",
     "shell.execute_reply": "2021-09-24T21:03:56.154659Z",
     "shell.execute_reply.started": "2021-09-24T21:03:56.083611Z"
    },
    "tags": []
   },
   "outputs": [
    {
     "data": {
      "text/html": [
       "<div>\n",
       "<style scoped>\n",
       "    .dataframe tbody tr th:only-of-type {\n",
       "        vertical-align: middle;\n",
       "    }\n",
       "\n",
       "    .dataframe tbody tr th {\n",
       "        vertical-align: top;\n",
       "    }\n",
       "\n",
       "    .dataframe thead th {\n",
       "        text-align: right;\n",
       "    }\n",
       "</style>\n",
       "<table border=\"1\" class=\"dataframe\">\n",
       "  <thead>\n",
       "    <tr style=\"text-align: right;\">\n",
       "      <th>final_result</th>\n",
       "      <th>Distinction</th>\n",
       "      <th>Fail</th>\n",
       "      <th>Pass</th>\n",
       "      <th>Withdrawn</th>\n",
       "    </tr>\n",
       "    <tr>\n",
       "      <th>activity_level</th>\n",
       "      <th></th>\n",
       "      <th></th>\n",
       "      <th></th>\n",
       "      <th></th>\n",
       "    </tr>\n",
       "  </thead>\n",
       "  <tbody>\n",
       "    <tr>\n",
       "      <th>Very Light</th>\n",
       "      <td>-18.228301</td>\n",
       "      <td>26.359702</td>\n",
       "      <td>-31.864838</td>\n",
       "      <td>31.241886</td>\n",
       "    </tr>\n",
       "    <tr>\n",
       "      <th>Light</th>\n",
       "      <td>-3.011017</td>\n",
       "      <td>2.820875</td>\n",
       "      <td>-3.809891</td>\n",
       "      <td>4.653149</td>\n",
       "    </tr>\n",
       "    <tr>\n",
       "      <th>Medium</th>\n",
       "      <td>4.649944</td>\n",
       "      <td>-9.770196</td>\n",
       "      <td>13.505704</td>\n",
       "      <td>-12.714837</td>\n",
       "    </tr>\n",
       "    <tr>\n",
       "      <th>Heavy</th>\n",
       "      <td>17.027465</td>\n",
       "      <td>-19.969095</td>\n",
       "      <td>22.828180</td>\n",
       "      <td>-23.852623</td>\n",
       "    </tr>\n",
       "  </tbody>\n",
       "</table>\n",
       "</div>"
      ],
      "text/plain": [
       "final_result    Distinction       Fail       Pass  Withdrawn\n",
       "activity_level                                              \n",
       "Very Light       -18.228301  26.359702 -31.864838  31.241886\n",
       "Light             -3.011017   2.820875  -3.809891   4.653149\n",
       "Medium             4.649944  -9.770196  13.505704 -12.714837\n",
       "Heavy             17.027465 -19.969095  22.828180 -23.852623"
      ]
     },
     "execution_count": 33,
     "metadata": {},
     "output_type": "execute_result"
    },
    {
     "name": "stdout",
     "output_type": "stream",
     "text": [
      "time: 10.3 ms\n"
     ]
    }
   ],
   "source": [
    "# pearsons residuals: negatives indicate fewer results than expected, positives indicate more.\n",
    "table.resid_pearson"
   ]
  },
  {
   "cell_type": "markdown",
   "id": "7230ec6e",
   "metadata": {},
   "source": [
    "From the contingency tables it appears that light activity levels contribute negatively to Distinction and  Pass, while it contributes positively to Withdrawn and Fail. Conversely,  Medium and Heavy activity levels contribute positively to Distinction and Pass, while they contribute negatively to Withdrawn and Fail."
   ]
  },
  {
   "cell_type": "markdown",
   "id": "6756f1a7",
   "metadata": {},
   "source": [
    "### Chi-Square Test for `activity_level`\n",
    "Ho = `activity_level` and `final_result` are independent.\n",
    "\n",
    "Ha = `activity_level` and `final_result` are not independent.\n",
    "\n",
    "alpha = .05"
   ]
  },
  {
   "cell_type": "code",
   "execution_count": 34,
   "id": "2f8528cf",
   "metadata": {
    "execution": {
     "iopub.execute_input": "2021-09-24T21:03:56.157264Z",
     "iopub.status.busy": "2021-09-24T21:03:56.157056Z",
     "iopub.status.idle": "2021-09-24T21:03:56.225690Z",
     "shell.execute_reply": "2021-09-24T21:03:56.224872Z",
     "shell.execute_reply.started": "2021-09-24T21:03:56.157241Z"
    },
    "tags": []
   },
   "outputs": [
    {
     "name": "stdout",
     "output_type": "stream",
     "text": [
      "chi-squared = 5311.641369904437\n",
      "p value= 0.0\n",
      "degrees of freedom = 9\n",
      "time: 2.67 ms\n"
     ]
    }
   ],
   "source": [
    "# calculating chi-squared,p-value, degrees of freedom\n",
    "f.chi_sq_test(tabs)"
   ]
  },
  {
   "cell_type": "markdown",
   "id": "b6d27523",
   "metadata": {},
   "source": [
    "Since the p value is less than our alpha, we reject the null hypothesis and conclude that `activity_level` and `final_result` are not independent."
   ]
  },
  {
   "cell_type": "markdown",
   "id": "3cff1425",
   "metadata": {},
   "source": [
    "#### Test Result: Activity Level and Outcome Are Not Independent"
   ]
  },
  {
   "cell_type": "code",
   "execution_count": 35,
   "id": "0337e5a7",
   "metadata": {
    "execution": {
     "iopub.execute_input": "2021-09-24T21:03:56.227604Z",
     "iopub.status.busy": "2021-09-24T21:03:56.227303Z",
     "iopub.status.idle": "2021-09-24T21:03:56.311686Z",
     "shell.execute_reply": "2021-09-24T21:03:56.310649Z",
     "shell.execute_reply.started": "2021-09-24T21:03:56.227576Z"
    },
    "tags": []
   },
   "outputs": [
    {
     "name": "stdout",
     "output_type": "stream",
     "text": [
      "Cramer's V Degrees of Freedom = 3\n",
      "\n",
      "Effect Size Thresholds\n",
      "   Degrees of Freedom  Small Effect  Medium Effect  Large Effect\n",
      "0                 1.0          0.10           0.30          0.50\n",
      "1                 2.0          0.07           0.21          0.35\n",
      "2                 3.0          0.06           0.17          0.29\n",
      "3                 4.0          0.05           0.15          0.25\n",
      "4                 5.0          0.04           0.13          0.22\n",
      "\n",
      "final_result\n",
      "Distinction    0.945630\n",
      "Fail           0.579352\n",
      "Pass           0.421517\n",
      "Withdrawn      0.632768\n",
      "dtype: float64\n",
      "time: 8.68 ms\n"
     ]
    }
   ],
   "source": [
    "# calculating cramer's v to measure the effect sizes\n",
    "f.cramers_v(tabs)"
   ]
  },
  {
   "cell_type": "markdown",
   "id": "67cad9c3",
   "metadata": {},
   "source": [
    "Adjusted for degrees of freedom, the Cramer's V results indicate that `activity_level` has a large effect on all of the outcomes."
   ]
  },
  {
   "cell_type": "markdown",
   "id": "06bc529a",
   "metadata": {},
   "source": [
    "## Recommendation\n",
    "Advise students to maintain medium or higher online activity levels, and initiate an automated reminder system that triggers when a student fall below a predetermined level. Also, initiate a web design assessment and A/B testing program with the goal of identifying ways of driving up student engagement."
   ]
  },
  {
   "cell_type": "markdown",
   "id": "4ba6e704",
   "metadata": {},
   "source": [
    "# Modeling\n",
    "\n",
    "Since I wanted to indentify as many unsatisfactory outcomes possible while still minimizing false positives,  I chose F1 as the project's metric. "
   ]
  },
  {
   "cell_type": "markdown",
   "id": "af07f9db",
   "metadata": {},
   "source": [
    "## Class Balance for the Modeling Data"
   ]
  },
  {
   "cell_type": "code",
   "execution_count": 36,
   "id": "215742e4",
   "metadata": {
    "execution": {
     "iopub.execute_input": "2021-09-24T21:03:56.314782Z",
     "iopub.status.busy": "2021-09-24T21:03:56.314308Z",
     "iopub.status.idle": "2021-09-24T21:03:56.406361Z",
     "shell.execute_reply": "2021-09-24T21:03:56.405028Z",
     "shell.execute_reply.started": "2021-09-24T21:03:56.314725Z"
    },
    "tags": []
   },
   "outputs": [
    {
     "data": {
      "text/plain": [
       "0.0    0.640405\n",
       "1.0    0.359595\n",
       "Name: target, dtype: float64"
      ]
     },
     "execution_count": 36,
     "metadata": {},
     "output_type": "execute_result"
    },
    {
     "name": "stdout",
     "output_type": "stream",
     "text": [
      "time: 6.66 ms\n"
     ]
    }
   ],
   "source": [
    "df.target.value_counts(normalize=True)"
   ]
  },
  {
   "cell_type": "markdown",
   "id": "6da359eb",
   "metadata": {
    "tags": []
   },
   "source": [
    "## Features Used\n",
    "\n",
    "The following features will be used in the modeling process:\n",
    "    \n",
    "-  gender: The gender of the student.    \n",
    "-  region: The geographic region of the student.    \n",
    "- highest_education: The education level of the student.  \n",
    "- imd_band: A measure of economic status based on geographic location.  \n",
    "- age_band: The age cohort of the student.   \n",
    "- num_of_prev_attempts: The number of times the student has attempted the class.   \n",
    "- disability: The disability status of the student.\n",
    "- weighted_ave: The weighted average of the student's assessment scores.\n",
    "- mean_score: The student's mean assessment score.\n",
    "- median_score: The student's median assessment score.\n",
    "- sum_activity: The sum of the activities, and the number of clicks for each activity, that the student logged.\n",
    "- code_module: The three letter code of the course.\n",
    "- course_load: A three level categorization of the total credits the student was enrolled at the time of the  course.\n",
    "    "
   ]
  },
  {
   "cell_type": "markdown",
   "id": "0216c748",
   "metadata": {},
   "source": [
    "## Summary Statistics for the Numerical Features"
   ]
  },
  {
   "cell_type": "code",
   "execution_count": 37,
   "id": "f38a0d27",
   "metadata": {
    "execution": {
     "iopub.execute_input": "2021-09-24T21:03:56.408397Z",
     "iopub.status.busy": "2021-09-24T21:03:56.408160Z",
     "iopub.status.idle": "2021-09-24T21:03:56.503591Z",
     "shell.execute_reply": "2021-09-24T21:03:56.502970Z",
     "shell.execute_reply.started": "2021-09-24T21:03:56.408368Z"
    },
    "tags": []
   },
   "outputs": [
    {
     "data": {
      "text/html": [
       "<div>\n",
       "<style scoped>\n",
       "    .dataframe tbody tr th:only-of-type {\n",
       "        vertical-align: middle;\n",
       "    }\n",
       "\n",
       "    .dataframe tbody tr th {\n",
       "        vertical-align: top;\n",
       "    }\n",
       "\n",
       "    .dataframe thead th {\n",
       "        text-align: right;\n",
       "    }\n",
       "</style>\n",
       "<table border=\"1\" class=\"dataframe\">\n",
       "  <thead>\n",
       "    <tr style=\"text-align: right;\">\n",
       "      <th></th>\n",
       "      <th>target</th>\n",
       "      <th>num_of_prev_attempts</th>\n",
       "      <th>weighted_ave</th>\n",
       "      <th>mean_score</th>\n",
       "      <th>median_score</th>\n",
       "      <th>sum_activity</th>\n",
       "    </tr>\n",
       "  </thead>\n",
       "  <tbody>\n",
       "    <tr>\n",
       "      <th>count</th>\n",
       "      <td>19458.000000</td>\n",
       "      <td>19458.000000</td>\n",
       "      <td>19458.000000</td>\n",
       "      <td>19458.000000</td>\n",
       "      <td>19458.000000</td>\n",
       "      <td>19458.000000</td>\n",
       "    </tr>\n",
       "    <tr>\n",
       "      <th>mean</th>\n",
       "      <td>0.359595</td>\n",
       "      <td>0.140713</td>\n",
       "      <td>106.436972</td>\n",
       "      <td>74.288758</td>\n",
       "      <td>74.583256</td>\n",
       "      <td>901.266780</td>\n",
       "    </tr>\n",
       "    <tr>\n",
       "      <th>std</th>\n",
       "      <td>0.479894</td>\n",
       "      <td>0.449925</td>\n",
       "      <td>65.628103</td>\n",
       "      <td>15.207932</td>\n",
       "      <td>15.078946</td>\n",
       "      <td>724.074213</td>\n",
       "    </tr>\n",
       "    <tr>\n",
       "      <th>min</th>\n",
       "      <td>0.000000</td>\n",
       "      <td>0.000000</td>\n",
       "      <td>0.000000</td>\n",
       "      <td>0.000000</td>\n",
       "      <td>0.000000</td>\n",
       "      <td>2.000000</td>\n",
       "    </tr>\n",
       "    <tr>\n",
       "      <th>25%</th>\n",
       "      <td>0.000000</td>\n",
       "      <td>0.000000</td>\n",
       "      <td>60.800000</td>\n",
       "      <td>66.400000</td>\n",
       "      <td>66.500000</td>\n",
       "      <td>345.000000</td>\n",
       "    </tr>\n",
       "    <tr>\n",
       "      <th>50%</th>\n",
       "      <td>0.000000</td>\n",
       "      <td>0.000000</td>\n",
       "      <td>113.020000</td>\n",
       "      <td>77.400000</td>\n",
       "      <td>77.500000</td>\n",
       "      <td>694.000000</td>\n",
       "    </tr>\n",
       "    <tr>\n",
       "      <th>75%</th>\n",
       "      <td>1.000000</td>\n",
       "      <td>0.000000</td>\n",
       "      <td>152.000000</td>\n",
       "      <td>85.000000</td>\n",
       "      <td>85.000000</td>\n",
       "      <td>1268.750000</td>\n",
       "    </tr>\n",
       "    <tr>\n",
       "      <th>max</th>\n",
       "      <td>1.000000</td>\n",
       "      <td>6.000000</td>\n",
       "      <td>299.920000</td>\n",
       "      <td>100.000000</td>\n",
       "      <td>100.000000</td>\n",
       "      <td>3179.000000</td>\n",
       "    </tr>\n",
       "  </tbody>\n",
       "</table>\n",
       "</div>"
      ],
      "text/plain": [
       "             target  num_of_prev_attempts  weighted_ave    mean_score  \\\n",
       "count  19458.000000          19458.000000  19458.000000  19458.000000   \n",
       "mean       0.359595              0.140713    106.436972     74.288758   \n",
       "std        0.479894              0.449925     65.628103     15.207932   \n",
       "min        0.000000              0.000000      0.000000      0.000000   \n",
       "25%        0.000000              0.000000     60.800000     66.400000   \n",
       "50%        0.000000              0.000000    113.020000     77.400000   \n",
       "75%        1.000000              0.000000    152.000000     85.000000   \n",
       "max        1.000000              6.000000    299.920000    100.000000   \n",
       "\n",
       "       median_score  sum_activity  \n",
       "count  19458.000000  19458.000000  \n",
       "mean      74.583256    901.266780  \n",
       "std       15.078946    724.074213  \n",
       "min        0.000000      2.000000  \n",
       "25%       66.500000    345.000000  \n",
       "50%       77.500000    694.000000  \n",
       "75%       85.000000   1268.750000  \n",
       "max      100.000000   3179.000000  "
      ]
     },
     "execution_count": 37,
     "metadata": {},
     "output_type": "execute_result"
    },
    {
     "name": "stdout",
     "output_type": "stream",
     "text": [
      "time: 24.9 ms\n"
     ]
    }
   ],
   "source": [
    "df.describe()"
   ]
  },
  {
   "cell_type": "markdown",
   "id": "d21f964d",
   "metadata": {
    "tags": []
   },
   "source": [
    "## Baseline Model: Dummy Classifier\n",
    "The classifier will predict the minority class for each observation. In terms of the business case, this would represent a situation where all of the students need interventions."
   ]
  },
  {
   "cell_type": "code",
   "execution_count": 38,
   "id": "3cc9b38f",
   "metadata": {
    "execution": {
     "iopub.execute_input": "2021-09-24T21:03:56.504768Z",
     "iopub.status.busy": "2021-09-24T21:03:56.504612Z",
     "iopub.status.idle": "2021-09-24T21:03:56.561112Z",
     "shell.execute_reply": "2021-09-24T21:03:56.560487Z",
     "shell.execute_reply.started": "2021-09-24T21:03:56.504750Z"
    },
    "tags": []
   },
   "outputs": [
    {
     "name": "stdout",
     "output_type": "stream",
     "text": [
      "time: 2.29 ms\n"
     ]
    }
   ],
   "source": [
    "baseline = f.load_model('baseline')"
   ]
  },
  {
   "cell_type": "markdown",
   "id": "23636d26",
   "metadata": {},
   "source": [
    "### Average Training Metrics"
   ]
  },
  {
   "cell_type": "code",
   "execution_count": 39,
   "id": "d0cf5912-ced3-4a13-bdf3-530a2092a8c8",
   "metadata": {
    "execution": {
     "iopub.execute_input": "2021-09-24T21:03:56.562887Z",
     "iopub.status.busy": "2021-09-24T21:03:56.562671Z",
     "iopub.status.idle": "2021-09-24T21:03:56.880703Z",
     "shell.execute_reply": "2021-09-24T21:03:56.880088Z",
     "shell.execute_reply.started": "2021-09-24T21:03:56.562862Z"
    }
   },
   "outputs": [
    {
     "name": "stdout",
     "output_type": "stream",
     "text": [
      " Baseline has an average Accuracy of 0.3596491264699766\n",
      " Baseline has an average F1 of 0.5290322368027472\n",
      " Baseline has an average Recall of 1.0\n",
      " Baseline has an average Precision of 0.3596491264699766\n",
      "time: 244 ms\n"
     ]
    }
   ],
   "source": [
    "modeling.report(baseline, X_train, y_train, ' Baseline', 'Baseline DummyCFL')"
   ]
  },
  {
   "cell_type": "markdown",
   "id": "6b2c26e3",
   "metadata": {},
   "source": [
    "### Test Data Confusion Matrix"
   ]
  },
  {
   "cell_type": "code",
   "execution_count": 40,
   "id": "8dd1fe31",
   "metadata": {
    "execution": {
     "iopub.execute_input": "2021-09-24T21:03:56.888539Z",
     "iopub.status.busy": "2021-09-24T21:03:56.888297Z",
     "iopub.status.idle": "2021-09-24T21:03:57.308981Z",
     "shell.execute_reply": "2021-09-24T21:03:57.308339Z",
     "shell.execute_reply.started": "2021-09-24T21:03:56.888516Z"
    },
    "tags": []
   },
   "outputs": [
    {
     "data": {
      "image/png": "[encoded data removed]",
      "text/plain": [
       "<Figure size 504x504 with 2 Axes>"
      ]
     },
     "metadata": {},
     "output_type": "display_data"
    },
    {
     "data": {
      "text/html": [
       "<div>\n",
       "<style scoped>\n",
       "    .dataframe tbody tr th:only-of-type {\n",
       "        vertical-align: middle;\n",
       "    }\n",
       "\n",
       "    .dataframe tbody tr th {\n",
       "        vertical-align: top;\n",
       "    }\n",
       "\n",
       "    .dataframe thead th {\n",
       "        text-align: right;\n",
       "    }\n",
       "</style>\n",
       "<table border=\"1\" class=\"dataframe\">\n",
       "  <thead>\n",
       "    <tr style=\"text-align: right;\">\n",
       "      <th></th>\n",
       "      <th>Accuracy</th>\n",
       "      <th>F1</th>\n",
       "      <th>Recall</th>\n",
       "      <th>Precision</th>\n",
       "    </tr>\n",
       "  </thead>\n",
       "  <tbody>\n",
       "    <tr>\n",
       "      <th>0</th>\n",
       "      <td>0.359551</td>\n",
       "      <td>0.528926</td>\n",
       "      <td>1.0</td>\n",
       "      <td>0.359551</td>\n",
       "    </tr>\n",
       "  </tbody>\n",
       "</table>\n",
       "</div>"
      ],
      "text/plain": [
       "   Accuracy        F1  Recall  Precision\n",
       "0  0.359551  0.528926     1.0   0.359551"
      ]
     },
     "execution_count": 40,
     "metadata": {},
     "output_type": "execute_result"
    },
    {
     "name": "stdout",
     "output_type": "stream",
     "text": [
      "time: 319 ms\n"
     ]
    }
   ],
   "source": [
    "%%capture --no-display\n",
    "f.confusion_report(baseline, X_test, y_test, 'baseline')"
   ]
  },
  {
   "cell_type": "markdown",
   "id": "1460a87f",
   "metadata": {},
   "source": [
    "## Score Interpretation:\n",
    "\n",
    "F1 is a mix of both precision and recall, so the interpretation of the results is more easily given in terms of recall and precision.\n",
    "\n",
    "- From the confusion matrix we see that the baseline model is classifying everything as the minority class, which was expected.\n",
    "- All Unsatisfactory outcomes were correctly classified as Unsatisfactory, so the recall score for this model is 1. \n",
    "- The precision score of .36 indicates that 36% of outcomes classified as Unsatisfactory were truly Unsatisfactory."
   ]
  },
  {
   "cell_type": "markdown",
   "id": "62b3a4bb",
   "metadata": {
    "tags": []
   },
   "source": [
    "## First Simple Model: Naive Bayes Classifier"
   ]
  },
  {
   "cell_type": "code",
   "execution_count": 41,
   "id": "a1e4b024",
   "metadata": {
    "execution": {
     "iopub.execute_input": "2021-09-24T21:03:57.310213Z",
     "iopub.status.busy": "2021-09-24T21:03:57.309965Z",
     "iopub.status.idle": "2021-09-24T21:03:57.362088Z",
     "shell.execute_reply": "2021-09-24T21:03:57.361153Z",
     "shell.execute_reply.started": "2021-09-24T21:03:57.310190Z"
    }
   },
   "outputs": [
    {
     "name": "stdout",
     "output_type": "stream",
     "text": [
      "time: 4.48 ms\n"
     ]
    }
   ],
   "source": [
    "fsm = f.load_model('fsm')"
   ]
  },
  {
   "cell_type": "markdown",
   "id": "bc656291",
   "metadata": {},
   "source": [
    "### Average Training Metrics"
   ]
  },
  {
   "cell_type": "code",
   "execution_count": 42,
   "id": "2dd0d18b",
   "metadata": {
    "execution": {
     "iopub.execute_input": "2021-09-24T21:03:57.364624Z",
     "iopub.status.busy": "2021-09-24T21:03:57.364288Z",
     "iopub.status.idle": "2021-09-24T21:03:57.712195Z",
     "shell.execute_reply": "2021-09-24T21:03:57.711429Z",
     "shell.execute_reply.started": "2021-09-24T21:03:57.364587Z"
    },
    "tags": []
   },
   "outputs": [
    {
     "name": "stdout",
     "output_type": "stream",
     "text": [
      " fsm has an average Accuracy of 0.6565241864967183\n",
      " fsm has an average F1 of 0.34631062761486303\n",
      " fsm has an average Recall of 0.2530466527776882\n",
      " fsm has an average Precision of 0.5493400673472756\n",
      "time: 278 ms\n"
     ]
    }
   ],
   "source": [
    "# checking cross val scores\n",
    "modeling.report(fsm, X_train, y_train, ' fsm', 'FSM Naive Bayes')"
   ]
  },
  {
   "cell_type": "markdown",
   "id": "c7ae6f2b",
   "metadata": {},
   "source": [
    "### Test Data Confusion Matrix"
   ]
  },
  {
   "cell_type": "code",
   "execution_count": 43,
   "id": "04b98f11",
   "metadata": {
    "execution": {
     "iopub.execute_input": "2021-09-24T21:03:57.713809Z",
     "iopub.status.busy": "2021-09-24T21:03:57.713601Z",
     "iopub.status.idle": "2021-09-24T21:03:58.104801Z",
     "shell.execute_reply": "2021-09-24T21:03:58.104190Z",
     "shell.execute_reply.started": "2021-09-24T21:03:57.713780Z"
    },
    "tags": []
   },
   "outputs": [
    {
     "data": {
      "image/png": "[encoded data removed]",
      "text/plain": [
       "<Figure size 504x504 with 2 Axes>"
      ]
     },
     "metadata": {},
     "output_type": "display_data"
    },
    {
     "data": {
      "text/html": [
       "<div>\n",
       "<style scoped>\n",
       "    .dataframe tbody tr th:only-of-type {\n",
       "        vertical-align: middle;\n",
       "    }\n",
       "\n",
       "    .dataframe tbody tr th {\n",
       "        vertical-align: top;\n",
       "    }\n",
       "\n",
       "    .dataframe thead th {\n",
       "        text-align: right;\n",
       "    }\n",
       "</style>\n",
       "<table border=\"1\" class=\"dataframe\">\n",
       "  <thead>\n",
       "    <tr style=\"text-align: right;\">\n",
       "      <th></th>\n",
       "      <th>Accuracy</th>\n",
       "      <th>F1</th>\n",
       "      <th>Recall</th>\n",
       "      <th>Precision</th>\n",
       "    </tr>\n",
       "  </thead>\n",
       "  <tbody>\n",
       "    <tr>\n",
       "      <th>0</th>\n",
       "      <td>0.649219</td>\n",
       "      <td>0.329843</td>\n",
       "      <td>0.240091</td>\n",
       "      <td>0.526756</td>\n",
       "    </tr>\n",
       "  </tbody>\n",
       "</table>\n",
       "</div>"
      ],
      "text/plain": [
       "   Accuracy        F1    Recall  Precision\n",
       "0  0.649219  0.329843  0.240091   0.526756"
      ]
     },
     "execution_count": 43,
     "metadata": {},
     "output_type": "execute_result"
    },
    {
     "name": "stdout",
     "output_type": "stream",
     "text": [
      "time: 335 ms\n"
     ]
    }
   ],
   "source": [
    "f.confusion_report(fsm, X_test, y_test, 'fsm')"
   ]
  },
  {
   "cell_type": "markdown",
   "id": "32d549a9",
   "metadata": {},
   "source": [
    "## Score Interpretation:\n",
    "\n",
    "- From the confusion matrix we see that the first simple model is classifying outcomes slightly better than baseline.\n",
    "- The recall score of .24 indicates that about 24% outcomes were correctly classified as Unsatisfactory. \n",
    "- The precision score .53 indicates that about 53% of outcomes classified as Unsatisfactory were truly Unsatisfactory."
   ]
  },
  {
   "cell_type": "markdown",
   "id": "54bace58",
   "metadata": {},
   "source": [
    "# Intermediate Modeling and Adjustments\n",
    "\n",
    "**Algorithms Tested**\n",
    "\n",
    "KNN, Linear SVC , Decision Tree, Logistic Regression, AdaBoost, Support Vector CLF, Bagging CLF, Random Forest, XGBoost CLF\n",
    "\n",
    "**Standard Scaling**\n",
    "\n",
    "Since a few of the numerical features differ by orders of magnitude, standard scaling was implemented to aid in model convergence and performance.\n",
    "\n",
    "**SMOTE**\n",
    "\n",
    "Since the classes have an imbalance of around 2 to 1, SMOTE was added to the pipeline in an attempt to aid model performance.\n",
    "\n",
    "**Hyper Parameter Tuning**\n",
    "\n",
    "After the final model was chosen, hyperparameter tuning was performed using Random Search Cross validation."
   ]
  },
  {
   "cell_type": "markdown",
   "id": "cc3cd8ca",
   "metadata": {},
   "source": [
    "# Final Model: Voting Classifier \n",
    "## (Bagging CLF, Random Forest CLF, XGBoost CLF)\n",
    "I found that the combination of these three models had the best mix speed and performance."
   ]
  },
  {
   "cell_type": "code",
   "execution_count": 44,
   "id": "40ef6b73",
   "metadata": {
    "execution": {
     "iopub.execute_input": "2021-09-24T21:03:58.105955Z",
     "iopub.status.busy": "2021-09-24T21:03:58.105776Z",
     "iopub.status.idle": "2021-09-24T21:03:58.190064Z",
     "shell.execute_reply": "2021-09-24T21:03:58.189154Z",
     "shell.execute_reply.started": "2021-09-24T21:03:58.105932Z"
    },
    "tags": []
   },
   "outputs": [
    {
     "name": "stdout",
     "output_type": "stream",
     "text": [
      "time: 32.9 ms\n"
     ]
    }
   ],
   "source": [
    "best_model = f.load_model('final')"
   ]
  },
  {
   "cell_type": "markdown",
   "id": "b7da7ac2",
   "metadata": {},
   "source": [
    "## Average Training Metrics"
   ]
  },
  {
   "cell_type": "code",
   "execution_count": 45,
   "id": "5688d9b6",
   "metadata": {
    "execution": {
     "iopub.execute_input": "2021-09-24T21:03:58.191689Z",
     "iopub.status.busy": "2021-09-24T21:03:58.191417Z",
     "iopub.status.idle": "2021-09-24T21:04:18.092162Z",
     "shell.execute_reply": "2021-09-24T21:04:18.091405Z",
     "shell.execute_reply.started": "2021-09-24T21:03:58.191662Z"
    },
    "tags": []
   },
   "outputs": [
    {
     "name": "stdout",
     "output_type": "stream",
     "text": [
      "best_model has an average Accuracy of 0.784995903566361\n",
      "best_model has an average F1 of 0.6865459206858721\n",
      "best_model has an average Recall of 0.6549758447874405\n",
      "best_model has an average Precision of 0.7216718363842043\n",
      "time: 19.8 s\n"
     ]
    }
   ],
   "source": [
    "modeling.report(best_model, X_train, y_train, 'best_model',\\\n",
    "                'Tuned Voting CLF SS()/SMOTE SOFT')"
   ]
  },
  {
   "cell_type": "markdown",
   "id": "077ff4c9",
   "metadata": {},
   "source": [
    "### Test Data Confusion Matrix"
   ]
  },
  {
   "cell_type": "code",
   "execution_count": 46,
   "id": "3790a3fa",
   "metadata": {
    "execution": {
     "iopub.execute_input": "2021-09-24T21:04:18.094317Z",
     "iopub.status.busy": "2021-09-24T21:04:18.094108Z",
     "iopub.status.idle": "2021-09-24T21:04:18.890820Z",
     "shell.execute_reply": "2021-09-24T21:04:18.890255Z",
     "shell.execute_reply.started": "2021-09-24T21:04:18.094290Z"
    },
    "tags": []
   },
   "outputs": [
    {
     "data": {
      "image/png": "[encoded data removed]",
      "text/plain": [
       "<Figure size 504x504 with 2 Axes>"
      ]
     },
     "metadata": {},
     "output_type": "display_data"
    },
    {
     "data": {
      "text/html": [
       "<div>\n",
       "<style scoped>\n",
       "    .dataframe tbody tr th:only-of-type {\n",
       "        vertical-align: middle;\n",
       "    }\n",
       "\n",
       "    .dataframe tbody tr th {\n",
       "        vertical-align: top;\n",
       "    }\n",
       "\n",
       "    .dataframe thead th {\n",
       "        text-align: right;\n",
       "    }\n",
       "</style>\n",
       "<table border=\"1\" class=\"dataframe\">\n",
       "  <thead>\n",
       "    <tr style=\"text-align: right;\">\n",
       "      <th></th>\n",
       "      <th>Accuracy</th>\n",
       "      <th>F1</th>\n",
       "      <th>Recall</th>\n",
       "      <th>Precision</th>\n",
       "    </tr>\n",
       "  </thead>\n",
       "  <tbody>\n",
       "    <tr>\n",
       "      <th>0</th>\n",
       "      <td>0.785695</td>\n",
       "      <td>0.686447</td>\n",
       "      <td>0.652439</td>\n",
       "      <td>0.724196</td>\n",
       "    </tr>\n",
       "  </tbody>\n",
       "</table>\n",
       "</div>"
      ],
      "text/plain": [
       "   Accuracy        F1    Recall  Precision\n",
       "0  0.785695  0.686447  0.652439   0.724196"
      ]
     },
     "execution_count": 46,
     "metadata": {},
     "output_type": "execute_result"
    },
    {
     "name": "stdout",
     "output_type": "stream",
     "text": [
      "time: 725 ms\n"
     ]
    }
   ],
   "source": [
    "f.confusion_report(best_model, X_test, y_test, 'final_model')"
   ]
  },
  {
   "cell_type": "markdown",
   "id": "b1ba9d9f",
   "metadata": {
    "tags": []
   },
   "source": [
    "## Score Interpretation:\n",
    "\n",
    "Upon validation with the test data we see that the model is still having some trouble the minority class, but performance has been improved to a level that is acceptable for our purposes.\n",
    "\n",
    "- The recall score of .65 indicates that about 65% outcomes were correctly classified as Unsatisfactory.\n",
    "- The precision score .72 indicates that about 72% of outcomes classified as Unsatisfactory were truly Unsatisfactory."
   ]
  },
  {
   "cell_type": "markdown",
   "id": "ccc7790c",
   "metadata": {
    "tags": []
   },
   "source": [
    "## Modeling Summary Average Training Scores"
   ]
  },
  {
   "cell_type": "code",
   "execution_count": 47,
   "id": "29fbfec6",
   "metadata": {
    "execution": {
     "iopub.execute_input": "2021-09-24T21:04:18.891952Z",
     "iopub.status.busy": "2021-09-24T21:04:18.891802Z",
     "iopub.status.idle": "2021-09-24T21:04:18.951059Z",
     "shell.execute_reply": "2021-09-24T21:04:18.950128Z",
     "shell.execute_reply.started": "2021-09-24T21:04:18.891934Z"
    },
    "tags": []
   },
   "outputs": [
    {
     "data": {
      "text/html": [
       "<div>\n",
       "<style scoped>\n",
       "    .dataframe tbody tr th:only-of-type {\n",
       "        vertical-align: middle;\n",
       "    }\n",
       "\n",
       "    .dataframe tbody tr th {\n",
       "        vertical-align: top;\n",
       "    }\n",
       "\n",
       "    .dataframe thead th {\n",
       "        text-align: right;\n",
       "    }\n",
       "</style>\n",
       "<table border=\"1\" class=\"dataframe\">\n",
       "  <thead>\n",
       "    <tr style=\"text-align: right;\">\n",
       "      <th></th>\n",
       "      <th>Name</th>\n",
       "      <th>Accuracy</th>\n",
       "      <th>F1</th>\n",
       "      <th>Recall</th>\n",
       "      <th>Precision</th>\n",
       "      <th>CV_Time(sec)</th>\n",
       "      <th>Notes</th>\n",
       "    </tr>\n",
       "  </thead>\n",
       "  <tbody>\n",
       "    <tr>\n",
       "      <th>0</th>\n",
       "      <td>fsm</td>\n",
       "      <td>0.656524</td>\n",
       "      <td>0.346311</td>\n",
       "      <td>0.253047</td>\n",
       "      <td>0.549340</td>\n",
       "      <td>0.274679</td>\n",
       "      <td>FSM Naive Bayes</td>\n",
       "    </tr>\n",
       "    <tr>\n",
       "      <th>1</th>\n",
       "      <td>Baseline</td>\n",
       "      <td>0.359649</td>\n",
       "      <td>0.529032</td>\n",
       "      <td>1.000000</td>\n",
       "      <td>0.359649</td>\n",
       "      <td>0.240631</td>\n",
       "      <td>Baseline DummyCFL</td>\n",
       "    </tr>\n",
       "    <tr>\n",
       "      <th>2</th>\n",
       "      <td>best_model</td>\n",
       "      <td>0.784996</td>\n",
       "      <td>0.686546</td>\n",
       "      <td>0.654976</td>\n",
       "      <td>0.721672</td>\n",
       "      <td>19.827833</td>\n",
       "      <td>Tuned Voting CLF SS()/SMOTE SOFT</td>\n",
       "    </tr>\n",
       "  </tbody>\n",
       "</table>\n",
       "</div>"
      ],
      "text/plain": [
       "         Name  Accuracy        F1    Recall  Precision  CV_Time(sec)  \\\n",
       "0         fsm  0.656524  0.346311  0.253047   0.549340      0.274679   \n",
       "1    Baseline  0.359649  0.529032  1.000000   0.359649      0.240631   \n",
       "2  best_model  0.784996  0.686546  0.654976   0.721672     19.827833   \n",
       "\n",
       "                              Notes  \n",
       "0                   FSM Naive Bayes  \n",
       "1                 Baseline DummyCFL  \n",
       "2  Tuned Voting CLF SS()/SMOTE SOFT  "
      ]
     },
     "execution_count": 47,
     "metadata": {},
     "output_type": "execute_result"
    },
    {
     "name": "stdout",
     "output_type": "stream",
     "text": [
      "time: 8.18 ms\n"
     ]
    }
   ],
   "source": [
    "modeling.history"
   ]
  },
  {
   "cell_type": "markdown",
   "id": "e2767f12",
   "metadata": {
    "tags": []
   },
   "source": [
    "# F1 Permutation Importances"
   ]
  },
  {
   "cell_type": "code",
   "execution_count": 48,
   "id": "65bcada7",
   "metadata": {
    "execution": {
     "iopub.execute_input": "2021-09-24T21:04:18.953540Z",
     "iopub.status.busy": "2021-09-24T21:04:18.952942Z",
     "iopub.status.idle": "2021-09-24T21:04:26.901476Z",
     "shell.execute_reply": "2021-09-24T21:04:26.901018Z",
     "shell.execute_reply.started": "2021-09-24T21:04:18.953498Z"
    },
    "tags": []
   },
   "outputs": [
    {
     "data": {
      "image/png": "[encoded data removed]",
      "text/plain": [
       "<Figure size 1152x576 with 1 Axes>"
      ]
     },
     "metadata": {},
     "output_type": "display_data"
    },
    {
     "name": "stdout",
     "output_type": "stream",
     "text": [
      "time: 7.87 s\n"
     ]
    }
   ],
   "source": [
    "f.perm_importances(best_model, X_test, y_test, 'f1', 'perm_importances')"
   ]
  },
  {
   "cell_type": "markdown",
   "id": "1c09a28a",
   "metadata": {},
   "source": [
    "The features `weighted_ave` and `code_module` are the main drivers of the model, with `weighted_ave` being the greatest. Interestingly, some of the most statistically significant features (imd_band, highest_education, and course_load) have little to no effect on the model."
   ]
  },
  {
   "cell_type": "markdown",
   "id": "36a7be37",
   "metadata": {},
   "source": [
    "# Validating the Model on Holdout Data"
   ]
  },
  {
   "cell_type": "markdown",
   "id": "bd36567f",
   "metadata": {},
   "source": [
    "### Average Metrics"
   ]
  },
  {
   "cell_type": "code",
   "execution_count": 49,
   "id": "f9b809e8",
   "metadata": {
    "execution": {
     "iopub.execute_input": "2021-09-24T21:04:26.902618Z",
     "iopub.status.busy": "2021-09-24T21:04:26.902465Z",
     "iopub.status.idle": "2021-09-24T21:04:31.674895Z",
     "shell.execute_reply": "2021-09-24T21:04:31.673524Z",
     "shell.execute_reply.started": "2021-09-24T21:04:26.902600Z"
    },
    "tags": []
   },
   "outputs": [
    {
     "name": "stdout",
     "output_type": "stream",
     "text": [
      "best_model has an average Accuracy of 0.7638232271325796\n",
      "best_model has an average F1 of 0.6529339833140467\n",
      "best_model has an average Recall of 0.6180679492427343\n",
      "best_model has an average Precision of 0.6923252894659433\n",
      "time: 4.72 s\n"
     ]
    }
   ],
   "source": [
    "# checking cross val scores\n",
    "modeling.report(best_model, X_holdout, y_holdout, 'best_model',\\\n",
    "                'Tuned Voting CLF SS()/SMOTE SOFT HOLDOUT')"
   ]
  },
  {
   "cell_type": "markdown",
   "id": "82decc43",
   "metadata": {
    "tags": []
   },
   "source": [
    "### Holdout Data Confusion Matrix"
   ]
  },
  {
   "cell_type": "code",
   "execution_count": 50,
   "id": "989b6d70",
   "metadata": {
    "execution": {
     "iopub.execute_input": "2021-09-24T21:04:31.677563Z",
     "iopub.status.busy": "2021-09-24T21:04:31.676787Z",
     "iopub.status.idle": "2021-09-24T21:04:32.475144Z",
     "shell.execute_reply": "2021-09-24T21:04:32.474114Z",
     "shell.execute_reply.started": "2021-09-24T21:04:31.677521Z"
    },
    "tags": []
   },
   "outputs": [
    {
     "data": {
      "image/png": "[encoded data removed]",
      "text/plain": [
       "<Figure size 504x504 with 2 Axes>"
      ]
     },
     "metadata": {},
     "output_type": "display_data"
    },
    {
     "data": {
      "text/html": [
       "<div>\n",
       "<style scoped>\n",
       "    .dataframe tbody tr th:only-of-type {\n",
       "        vertical-align: middle;\n",
       "    }\n",
       "\n",
       "    .dataframe tbody tr th {\n",
       "        vertical-align: top;\n",
       "    }\n",
       "\n",
       "    .dataframe thead th {\n",
       "        text-align: right;\n",
       "    }\n",
       "</style>\n",
       "<table border=\"1\" class=\"dataframe\">\n",
       "  <thead>\n",
       "    <tr style=\"text-align: right;\">\n",
       "      <th></th>\n",
       "      <th>Accuracy</th>\n",
       "      <th>F1</th>\n",
       "      <th>Recall</th>\n",
       "      <th>Precision</th>\n",
       "    </tr>\n",
       "  </thead>\n",
       "  <tbody>\n",
       "    <tr>\n",
       "      <th>0</th>\n",
       "      <td>0.779034</td>\n",
       "      <td>0.671153</td>\n",
       "      <td>0.627216</td>\n",
       "      <td>0.721711</td>\n",
       "    </tr>\n",
       "  </tbody>\n",
       "</table>\n",
       "</div>"
      ],
      "text/plain": [
       "   Accuracy        F1    Recall  Precision\n",
       "0  0.779034  0.671153  0.627216   0.721711"
      ]
     },
     "execution_count": 50,
     "metadata": {},
     "output_type": "execute_result"
    },
    {
     "name": "stdout",
     "output_type": "stream",
     "text": [
      "time: 685 ms\n"
     ]
    }
   ],
   "source": [
    "f.confusion_report(best_model, X_holdout, y_holdout)"
   ]
  },
  {
   "cell_type": "markdown",
   "id": "49fd1151",
   "metadata": {
    "tags": []
   },
   "source": [
    "## Score Interpretation:\n",
    "\n",
    "Upon validation with the holdout data we see that the model is still having some trouble the minority class, but performance is at a level that is acceptable for our purposes.\n",
    "\n",
    "- The recall score of .63 indicates that about 63% outcomes were correctly classified as Unsatisfactory.\n",
    "- The precision score .72 indicates that about 72% of outcomes classified as Unsatisfactory were truly Unsatisfactory."
   ]
  },
  {
   "cell_type": "markdown",
   "id": "9a291d4d",
   "metadata": {
    "execution": {
     "iopub.execute_input": "2021-08-20T04:28:38.557139Z",
     "iopub.status.busy": "2021-08-20T04:28:38.556833Z",
     "iopub.status.idle": "2021-08-20T04:28:38.626604Z",
     "shell.execute_reply": "2021-08-20T04:28:38.626093Z",
     "shell.execute_reply.started": "2021-08-20T04:28:38.557109Z"
    },
    "tags": []
   },
   "source": [
    "## Unsatisfactory Class Error Analysis\n",
    "The model is moderately successful, but let's dig into the errors to see if there are steps that can be taken to improve performance."
   ]
  },
  {
   "cell_type": "markdown",
   "id": "87488295",
   "metadata": {},
   "source": [
    "## Outcome Error Rates"
   ]
  },
  {
   "cell_type": "code",
   "execution_count": 51,
   "id": "8ddbb4c3",
   "metadata": {
    "execution": {
     "iopub.execute_input": "2021-09-24T21:04:32.477757Z",
     "iopub.status.busy": "2021-09-24T21:04:32.477168Z",
     "iopub.status.idle": "2021-09-24T21:04:32.844451Z",
     "shell.execute_reply": "2021-09-24T21:04:32.843941Z",
     "shell.execute_reply.started": "2021-09-24T21:04:32.477711Z"
    },
    "tags": []
   },
   "outputs": [
    {
     "data": {
      "image/png": "[encoded data removed]",
      "text/plain": [
       "<Figure size 1440x576 with 1 Axes>"
      ]
     },
     "metadata": {},
     "output_type": "display_data"
    },
    {
     "name": "stdout",
     "output_type": "stream",
     "text": [
      "time: 298 ms\n"
     ]
    }
   ],
   "source": [
    "v.error_rate(errors, 'class_errors')"
   ]
  },
  {
   "cell_type": "code",
   "execution_count": 52,
   "id": "3d6428c5",
   "metadata": {
    "execution": {
     "iopub.execute_input": "2021-09-24T21:04:32.846026Z",
     "iopub.status.busy": "2021-09-24T21:04:32.845638Z",
     "iopub.status.idle": "2021-09-24T21:04:32.903023Z",
     "shell.execute_reply": "2021-09-24T21:04:32.901988Z",
     "shell.execute_reply.started": "2021-09-24T21:04:32.846000Z"
    },
    "tags": []
   },
   "outputs": [
    {
     "data": {
      "text/plain": [
       "Pass           0.533297\n",
       "Fail           0.267196\n",
       "Distinction    0.107153\n",
       "Withdrawn      0.092354\n",
       "Name: label, dtype: float64"
      ]
     },
     "execution_count": 52,
     "metadata": {},
     "output_type": "execute_result"
    },
    {
     "name": "stdout",
     "output_type": "stream",
     "text": [
      "time: 5 ms\n"
     ]
    }
   ],
   "source": [
    "# checking each label's share of the data\n",
    "normalized_counts = errors.label.value_counts(normalize=True)\n",
    "normalized_counts"
   ]
  },
  {
   "cell_type": "markdown",
   "id": "c7490221",
   "metadata": {},
   "source": [
    "Checking the error rates for each of the multiclass outcomes shows why the model is having trouble with the Unsatisfactory class; Withdrawn and Fail both have an error rate above 30%. Further, there is an almost 2:1 class imbalance between the Satisfactory and Unsatisfactory classes. A multiclass classifier with oversampling might improve performance on this data."
   ]
  },
  {
   "cell_type": "markdown",
   "id": "6527ba87",
   "metadata": {},
   "source": [
    "## Conclusion\n",
    "In the end, a moderately successful model was developed that can correctly predict outcomes, halfway through the course, about 65\\% of the time. This time frame allows enough time to intervene and steer the student toward a satisfactory outcome. In addition, the following recommendations for prevention/intevention strategies were developed through statistical testing:\n",
    "\n",
    "- Preemptive outreach and support programs for non-traditional learners and lower income students.\n",
    "\n",
    "- Encourage students to maintain a modest course load. \n",
    "\n",
    "- Encourage students to maintain a medium or higher online activity level and initiate an automated reminder system that triggers when students fall below a predetermined activity level.\n",
    "\n",
    "## Next Steps\n",
    "Next steps for the project:\n",
    "\n",
    "- Develop a multiclass model with oversampling to better address the class imbalances and improve performance.\n",
    "\n",
    "- Rescale the data by individual modules to help reduce variance.\n",
    "\n",
    "- Explore the particular types of online activities that drive outcomes. \n",
    "\n",
    "## For More Information\n",
    "For any additional questions, please contact **Jeffrey Hanif Watson jeffrey.h.watson@protonmail.com**"
   ]
  },
  {
   "cell_type": "markdown",
   "id": "eb7ad412",
   "metadata": {},
   "source": [
    "## Sources\n",
    "\n",
    "1. \"The Evolution of Distance Education in 2020.\" *KU Online Degrees Blog*, 17 September 2020, https://educationonline.ku.edu/community/distance-education-evolution-in-2020.\n",
    "\n",
    "2. Koksal, Ilker. \"The Rise Of Online Learning.\"  *Forbes.com*, 2 May 2020, www.forbes.com/sites/ilkerkoksal/2020/05/02/the-rise-of-online-learning/.\n",
    "\n",
    "3. Johnson Hess, Abigail.\"Online learning boomed during the pandemic—but what happens when students return to classrooms?.\" *www.cnbc.com*, 26 March 2021, www.cnbc.com/2021/03/26/online-learning-boomed-during-the-pandemic-but-soon-students-return-to-school.html.\n",
    "\n",
    "4. McElrath, Kevin. \"Nearly 93% of Households With School-Age Children Report Some Form of Distance Learning During COVID-19.\" *census.gov*, 26 August 2020, www.census.gov/library/stories/2020/08/schooling-during-the-covid-19-pandemic.html.\n",
    "\n",
    "5. NASPA Foundation & Course Hero. \"Student Wellness During Covid-19.\" October 2020, https://marketplace.collegepulse.com/img/student_wellness_collegepulse_final.pdf.\n",
    "\n",
    "6. \n",
    "Donnelly, Robin &  Patrinos, Harry A. \"Is the COVID-19 slide in education real?.\" *blogs.worldbank.org*, 8 December 2020, https://blogs.worldbank.org/education/covid-19-slide-education-real\n",
    "\n",
    "7. Johnson Hess, Abigail. \"7 ways the coronavirus pandemic could change college this fall and forever.\" *www.cnbc.com* June 19 2020,\n",
    "www.cnbc.com/2020/06/19/7-ways-coronavirus-pandemic-may-change-college-this-fall-and-forever.html"
   ]
  }
 ],
 "metadata": {
  "kernelspec": {
   "display_name": "oo",
   "language": "python",
   "name": "oo"
  },
  "language_info": {
   "codemirror_mode": {
    "name": "ipython",
    "version": 3
   },
   "file_extension": ".py",
   "mimetype": "text/x-python",
   "name": "python",
   "nbconvert_exporter": "python",
   "pygments_lexer": "ipython3",
   "version": "3.9.6"
  },
  "toc-showmarkdowntxt": false
 },
 "nbformat": 4,
 "nbformat_minor": 5
}
