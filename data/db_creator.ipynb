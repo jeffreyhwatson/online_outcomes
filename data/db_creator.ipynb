{
 "cells": [
  {
   "cell_type": "markdown",
   "metadata": {},
   "source": [
    "### Run All Cells To Create the `outcomes` Database"
   ]
  },
  {
   "cell_type": "code",
   "execution_count": 1,
   "metadata": {},
   "outputs": [],
   "source": [
    "# importing packages\n",
    "import pandas as pd\n",
    "import sqlite3\n",
    "import glob\n",
    "import re\n",
    "\n",
    "# creating and connecting to database\n",
    "conn = sqlite3.connect('outcomes.db')  "
   ]
  },
  {
   "cell_type": "code",
   "execution_count": 2,
   "metadata": {},
   "outputs": [],
   "source": [
    "# creating paths to the files\n",
    "ps = []\n",
    "for name in glob.glob('raw/*.csv'):\n",
    "    ps.append(name)\n",
    "\n",
    "# create list of tuples with names and data frames; importing data as strings\n",
    "dfs = [(re.split('[////./]', path)[1], \n",
    "        pd.read_csv(path, dtype=str)) for path in ps]"
   ]
  },
  {
   "cell_type": "markdown",
   "metadata": {},
   "source": [
    "Adding data to the database using the tuples created above. Creating tables from the data frames, and naming the tables with the names."
   ]
  },
  {
   "cell_type": "code",
   "execution_count": 3,
   "metadata": {},
   "outputs": [],
   "source": [
    "for tup in dfs:\n",
    "    tup[1].to_sql(tup[0], conn, if_exists='append', index = False)"
   ]
  },
  {
   "cell_type": "code",
   "execution_count": null,
   "metadata": {},
   "outputs": [],
   "source": []
  }
 ],
 "metadata": {
  "kernelspec": {
   "display_name": "learn-env",
   "language": "python",
   "name": "learn-env"
  },
  "language_info": {
   "codemirror_mode": {
    "name": "ipython",
    "version": 3
   },
   "file_extension": ".py",
   "mimetype": "text/x-python",
   "name": "python",
   "nbconvert_exporter": "python",
   "pygments_lexer": "ipython3",
   "version": "3.8.5"
  }
 },
 "nbformat": 4,
 "nbformat_minor": 4
}
